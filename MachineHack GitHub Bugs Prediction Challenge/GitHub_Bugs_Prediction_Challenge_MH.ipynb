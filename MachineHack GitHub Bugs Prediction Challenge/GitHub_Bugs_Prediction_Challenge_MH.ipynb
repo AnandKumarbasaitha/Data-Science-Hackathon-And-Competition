{
  "nbformat": 4,
  "nbformat_minor": 0,
  "metadata": {
    "colab": {
      "name": "GitHub Bugs Prediction Challenge MH.ipynb",
      "provenance": [],
      "collapsed_sections": []
    },
    "kernelspec": {
      "name": "python3",
      "display_name": "Python 3"
    },
    "accelerator": "GPU",
    "widgets": {
      "application/vnd.jupyter.widget-state+json": {
        "e7b7b589f31c4a1bb4a961e8e190489a": {
          "model_module": "@jupyter-widgets/controls",
          "model_name": "HBoxModel",
          "state": {
            "_view_name": "HBoxView",
            "_dom_classes": [],
            "_model_name": "HBoxModel",
            "_view_module": "@jupyter-widgets/controls",
            "_model_module_version": "1.5.0",
            "_view_count": null,
            "_view_module_version": "1.5.0",
            "box_style": "",
            "layout": "IPY_MODEL_5caff606f6804c92816fcfb62f387877",
            "_model_module": "@jupyter-widgets/controls",
            "children": [
              "IPY_MODEL_90f9383e834b4ed5b9d2f058024659b0",
              "IPY_MODEL_faa86e0fa5894cb6a0b95712c02a21a8"
            ]
          }
        },
        "5caff606f6804c92816fcfb62f387877": {
          "model_module": "@jupyter-widgets/base",
          "model_name": "LayoutModel",
          "state": {
            "_view_name": "LayoutView",
            "grid_template_rows": null,
            "right": null,
            "justify_content": null,
            "_view_module": "@jupyter-widgets/base",
            "overflow": null,
            "_model_module_version": "1.2.0",
            "_view_count": null,
            "flex_flow": null,
            "width": null,
            "min_width": null,
            "border": null,
            "align_items": null,
            "bottom": null,
            "_model_module": "@jupyter-widgets/base",
            "top": null,
            "grid_column": null,
            "overflow_y": null,
            "overflow_x": null,
            "grid_auto_flow": null,
            "grid_area": null,
            "grid_template_columns": null,
            "flex": null,
            "_model_name": "LayoutModel",
            "justify_items": null,
            "grid_row": null,
            "max_height": null,
            "align_content": null,
            "visibility": null,
            "align_self": null,
            "height": null,
            "min_height": null,
            "padding": null,
            "grid_auto_rows": null,
            "grid_gap": null,
            "max_width": null,
            "order": null,
            "_view_module_version": "1.2.0",
            "grid_template_areas": null,
            "object_position": null,
            "object_fit": null,
            "grid_auto_columns": null,
            "margin": null,
            "display": null,
            "left": null
          }
        },
        "90f9383e834b4ed5b9d2f058024659b0": {
          "model_module": "@jupyter-widgets/controls",
          "model_name": "FloatProgressModel",
          "state": {
            "_view_name": "ProgressView",
            "style": "IPY_MODEL_f0f6ecf457f140d9b7eedd47045e87b4",
            "_dom_classes": [],
            "description": "100%",
            "_model_name": "FloatProgressModel",
            "bar_style": "success",
            "max": 22500,
            "_view_module": "@jupyter-widgets/controls",
            "_model_module_version": "1.5.0",
            "value": 22500,
            "_view_count": null,
            "_view_module_version": "1.5.0",
            "orientation": "horizontal",
            "min": 0,
            "description_tooltip": null,
            "_model_module": "@jupyter-widgets/controls",
            "layout": "IPY_MODEL_37c0a5e670584e689427987dbfdb6d81"
          }
        },
        "faa86e0fa5894cb6a0b95712c02a21a8": {
          "model_module": "@jupyter-widgets/controls",
          "model_name": "HTMLModel",
          "state": {
            "_view_name": "HTMLView",
            "style": "IPY_MODEL_7abd19c35d574904bb83ee8923f5dc25",
            "_dom_classes": [],
            "description": "",
            "_model_name": "HTMLModel",
            "placeholder": "​",
            "_view_module": "@jupyter-widgets/controls",
            "_model_module_version": "1.5.0",
            "value": " 22500/22500 [03:26&lt;00:00, 108.85it/s]",
            "_view_count": null,
            "_view_module_version": "1.5.0",
            "description_tooltip": null,
            "_model_module": "@jupyter-widgets/controls",
            "layout": "IPY_MODEL_94e407b77bea4fdd8f6dafb4121e0742"
          }
        },
        "f0f6ecf457f140d9b7eedd47045e87b4": {
          "model_module": "@jupyter-widgets/controls",
          "model_name": "ProgressStyleModel",
          "state": {
            "_view_name": "StyleView",
            "_model_name": "ProgressStyleModel",
            "description_width": "initial",
            "_view_module": "@jupyter-widgets/base",
            "_model_module_version": "1.5.0",
            "_view_count": null,
            "_view_module_version": "1.2.0",
            "bar_color": null,
            "_model_module": "@jupyter-widgets/controls"
          }
        },
        "37c0a5e670584e689427987dbfdb6d81": {
          "model_module": "@jupyter-widgets/base",
          "model_name": "LayoutModel",
          "state": {
            "_view_name": "LayoutView",
            "grid_template_rows": null,
            "right": null,
            "justify_content": null,
            "_view_module": "@jupyter-widgets/base",
            "overflow": null,
            "_model_module_version": "1.2.0",
            "_view_count": null,
            "flex_flow": null,
            "width": null,
            "min_width": null,
            "border": null,
            "align_items": null,
            "bottom": null,
            "_model_module": "@jupyter-widgets/base",
            "top": null,
            "grid_column": null,
            "overflow_y": null,
            "overflow_x": null,
            "grid_auto_flow": null,
            "grid_area": null,
            "grid_template_columns": null,
            "flex": null,
            "_model_name": "LayoutModel",
            "justify_items": null,
            "grid_row": null,
            "max_height": null,
            "align_content": null,
            "visibility": null,
            "align_self": null,
            "height": null,
            "min_height": null,
            "padding": null,
            "grid_auto_rows": null,
            "grid_gap": null,
            "max_width": null,
            "order": null,
            "_view_module_version": "1.2.0",
            "grid_template_areas": null,
            "object_position": null,
            "object_fit": null,
            "grid_auto_columns": null,
            "margin": null,
            "display": null,
            "left": null
          }
        },
        "7abd19c35d574904bb83ee8923f5dc25": {
          "model_module": "@jupyter-widgets/controls",
          "model_name": "DescriptionStyleModel",
          "state": {
            "_view_name": "StyleView",
            "_model_name": "DescriptionStyleModel",
            "description_width": "",
            "_view_module": "@jupyter-widgets/base",
            "_model_module_version": "1.5.0",
            "_view_count": null,
            "_view_module_version": "1.2.0",
            "_model_module": "@jupyter-widgets/controls"
          }
        },
        "94e407b77bea4fdd8f6dafb4121e0742": {
          "model_module": "@jupyter-widgets/base",
          "model_name": "LayoutModel",
          "state": {
            "_view_name": "LayoutView",
            "grid_template_rows": null,
            "right": null,
            "justify_content": null,
            "_view_module": "@jupyter-widgets/base",
            "overflow": null,
            "_model_module_version": "1.2.0",
            "_view_count": null,
            "flex_flow": null,
            "width": null,
            "min_width": null,
            "border": null,
            "align_items": null,
            "bottom": null,
            "_model_module": "@jupyter-widgets/base",
            "top": null,
            "grid_column": null,
            "overflow_y": null,
            "overflow_x": null,
            "grid_auto_flow": null,
            "grid_area": null,
            "grid_template_columns": null,
            "flex": null,
            "_model_name": "LayoutModel",
            "justify_items": null,
            "grid_row": null,
            "max_height": null,
            "align_content": null,
            "visibility": null,
            "align_self": null,
            "height": null,
            "min_height": null,
            "padding": null,
            "grid_auto_rows": null,
            "grid_gap": null,
            "max_width": null,
            "order": null,
            "_view_module_version": "1.2.0",
            "grid_template_areas": null,
            "object_position": null,
            "object_fit": null,
            "grid_auto_columns": null,
            "margin": null,
            "display": null,
            "left": null
          }
        },
        "68306dc1aabb4dd893dfcd01165c16ed": {
          "model_module": "@jupyter-widgets/controls",
          "model_name": "HBoxModel",
          "state": {
            "_view_name": "HBoxView",
            "_dom_classes": [],
            "_model_name": "HBoxModel",
            "_view_module": "@jupyter-widgets/controls",
            "_model_module_version": "1.5.0",
            "_view_count": null,
            "_view_module_version": "1.5.0",
            "box_style": "",
            "layout": "IPY_MODEL_90b054495d6b45d18bff91fb81071139",
            "_model_module": "@jupyter-widgets/controls",
            "children": [
              "IPY_MODEL_2f18f655daf2471ea9dc329b06685ade",
              "IPY_MODEL_6772ba65469446da92ca7cfecaa45318"
            ]
          }
        },
        "90b054495d6b45d18bff91fb81071139": {
          "model_module": "@jupyter-widgets/base",
          "model_name": "LayoutModel",
          "state": {
            "_view_name": "LayoutView",
            "grid_template_rows": null,
            "right": null,
            "justify_content": null,
            "_view_module": "@jupyter-widgets/base",
            "overflow": null,
            "_model_module_version": "1.2.0",
            "_view_count": null,
            "flex_flow": null,
            "width": null,
            "min_width": null,
            "border": null,
            "align_items": null,
            "bottom": null,
            "_model_module": "@jupyter-widgets/base",
            "top": null,
            "grid_column": null,
            "overflow_y": null,
            "overflow_x": null,
            "grid_auto_flow": null,
            "grid_area": null,
            "grid_template_columns": null,
            "flex": null,
            "_model_name": "LayoutModel",
            "justify_items": null,
            "grid_row": null,
            "max_height": null,
            "align_content": null,
            "visibility": null,
            "align_self": null,
            "height": null,
            "min_height": null,
            "padding": null,
            "grid_auto_rows": null,
            "grid_gap": null,
            "max_width": null,
            "order": null,
            "_view_module_version": "1.2.0",
            "grid_template_areas": null,
            "object_position": null,
            "object_fit": null,
            "grid_auto_columns": null,
            "margin": null,
            "display": null,
            "left": null
          }
        },
        "2f18f655daf2471ea9dc329b06685ade": {
          "model_module": "@jupyter-widgets/controls",
          "model_name": "FloatProgressModel",
          "state": {
            "_view_name": "ProgressView",
            "style": "IPY_MODEL_106142e460944af2a7937d9a1c33a3d8",
            "_dom_classes": [],
            "description": "Running Evaluation: 100%",
            "_model_name": "FloatProgressModel",
            "bar_style": "success",
            "max": 157,
            "_view_module": "@jupyter-widgets/controls",
            "_model_module_version": "1.5.0",
            "value": 157,
            "_view_count": null,
            "_view_module_version": "1.5.0",
            "orientation": "horizontal",
            "min": 0,
            "description_tooltip": null,
            "_model_module": "@jupyter-widgets/controls",
            "layout": "IPY_MODEL_8678a0a7f46b4460845b2714d8e0d9f4"
          }
        },
        "6772ba65469446da92ca7cfecaa45318": {
          "model_module": "@jupyter-widgets/controls",
          "model_name": "HTMLModel",
          "state": {
            "_view_name": "HTMLView",
            "style": "IPY_MODEL_e7c5459db5b046df865b9d7aa3352111",
            "_dom_classes": [],
            "description": "",
            "_model_name": "HTMLModel",
            "placeholder": "​",
            "_view_module": "@jupyter-widgets/controls",
            "_model_module_version": "1.5.0",
            "value": " 157/157 [03:21&lt;00:00,  1.28s/it]",
            "_view_count": null,
            "_view_module_version": "1.5.0",
            "description_tooltip": null,
            "_model_module": "@jupyter-widgets/controls",
            "layout": "IPY_MODEL_22643600e16c4892b8fe098f7e1d13ca"
          }
        },
        "106142e460944af2a7937d9a1c33a3d8": {
          "model_module": "@jupyter-widgets/controls",
          "model_name": "ProgressStyleModel",
          "state": {
            "_view_name": "StyleView",
            "_model_name": "ProgressStyleModel",
            "description_width": "initial",
            "_view_module": "@jupyter-widgets/base",
            "_model_module_version": "1.5.0",
            "_view_count": null,
            "_view_module_version": "1.2.0",
            "bar_color": null,
            "_model_module": "@jupyter-widgets/controls"
          }
        },
        "8678a0a7f46b4460845b2714d8e0d9f4": {
          "model_module": "@jupyter-widgets/base",
          "model_name": "LayoutModel",
          "state": {
            "_view_name": "LayoutView",
            "grid_template_rows": null,
            "right": null,
            "justify_content": null,
            "_view_module": "@jupyter-widgets/base",
            "overflow": null,
            "_model_module_version": "1.2.0",
            "_view_count": null,
            "flex_flow": null,
            "width": null,
            "min_width": null,
            "border": null,
            "align_items": null,
            "bottom": null,
            "_model_module": "@jupyter-widgets/base",
            "top": null,
            "grid_column": null,
            "overflow_y": null,
            "overflow_x": null,
            "grid_auto_flow": null,
            "grid_area": null,
            "grid_template_columns": null,
            "flex": null,
            "_model_name": "LayoutModel",
            "justify_items": null,
            "grid_row": null,
            "max_height": null,
            "align_content": null,
            "visibility": null,
            "align_self": null,
            "height": null,
            "min_height": null,
            "padding": null,
            "grid_auto_rows": null,
            "grid_gap": null,
            "max_width": null,
            "order": null,
            "_view_module_version": "1.2.0",
            "grid_template_areas": null,
            "object_position": null,
            "object_fit": null,
            "grid_auto_columns": null,
            "margin": null,
            "display": null,
            "left": null
          }
        },
        "e7c5459db5b046df865b9d7aa3352111": {
          "model_module": "@jupyter-widgets/controls",
          "model_name": "DescriptionStyleModel",
          "state": {
            "_view_name": "StyleView",
            "_model_name": "DescriptionStyleModel",
            "description_width": "",
            "_view_module": "@jupyter-widgets/base",
            "_model_module_version": "1.5.0",
            "_view_count": null,
            "_view_module_version": "1.2.0",
            "_model_module": "@jupyter-widgets/controls"
          }
        },
        "22643600e16c4892b8fe098f7e1d13ca": {
          "model_module": "@jupyter-widgets/base",
          "model_name": "LayoutModel",
          "state": {
            "_view_name": "LayoutView",
            "grid_template_rows": null,
            "right": null,
            "justify_content": null,
            "_view_module": "@jupyter-widgets/base",
            "overflow": null,
            "_model_module_version": "1.2.0",
            "_view_count": null,
            "flex_flow": null,
            "width": null,
            "min_width": null,
            "border": null,
            "align_items": null,
            "bottom": null,
            "_model_module": "@jupyter-widgets/base",
            "top": null,
            "grid_column": null,
            "overflow_y": null,
            "overflow_x": null,
            "grid_auto_flow": null,
            "grid_area": null,
            "grid_template_columns": null,
            "flex": null,
            "_model_name": "LayoutModel",
            "justify_items": null,
            "grid_row": null,
            "max_height": null,
            "align_content": null,
            "visibility": null,
            "align_self": null,
            "height": null,
            "min_height": null,
            "padding": null,
            "grid_auto_rows": null,
            "grid_gap": null,
            "max_width": null,
            "order": null,
            "_view_module_version": "1.2.0",
            "grid_template_areas": null,
            "object_position": null,
            "object_fit": null,
            "grid_auto_columns": null,
            "margin": null,
            "display": null,
            "left": null
          }
        },
        "5477ea2990bb4774bb8d8a37860b89f0": {
          "model_module": "@jupyter-widgets/controls",
          "model_name": "HBoxModel",
          "state": {
            "_view_name": "HBoxView",
            "_dom_classes": [],
            "_model_name": "HBoxModel",
            "_view_module": "@jupyter-widgets/controls",
            "_model_module_version": "1.5.0",
            "_view_count": null,
            "_view_module_version": "1.5.0",
            "box_style": "",
            "layout": "IPY_MODEL_6fc1ed6abcb94534b5ecc6713916c769",
            "_model_module": "@jupyter-widgets/controls",
            "children": [
              "IPY_MODEL_43562a03c8884437a17f4df5ab998ef2",
              "IPY_MODEL_f2dd3602ab3e4821bed1330e092eb7cf"
            ]
          }
        },
        "6fc1ed6abcb94534b5ecc6713916c769": {
          "model_module": "@jupyter-widgets/base",
          "model_name": "LayoutModel",
          "state": {
            "_view_name": "LayoutView",
            "grid_template_rows": null,
            "right": null,
            "justify_content": null,
            "_view_module": "@jupyter-widgets/base",
            "overflow": null,
            "_model_module_version": "1.2.0",
            "_view_count": null,
            "flex_flow": null,
            "width": null,
            "min_width": null,
            "border": null,
            "align_items": null,
            "bottom": null,
            "_model_module": "@jupyter-widgets/base",
            "top": null,
            "grid_column": null,
            "overflow_y": null,
            "overflow_x": null,
            "grid_auto_flow": null,
            "grid_area": null,
            "grid_template_columns": null,
            "flex": null,
            "_model_name": "LayoutModel",
            "justify_items": null,
            "grid_row": null,
            "max_height": null,
            "align_content": null,
            "visibility": null,
            "align_self": null,
            "height": null,
            "min_height": null,
            "padding": null,
            "grid_auto_rows": null,
            "grid_gap": null,
            "max_width": null,
            "order": null,
            "_view_module_version": "1.2.0",
            "grid_template_areas": null,
            "object_position": null,
            "object_fit": null,
            "grid_auto_columns": null,
            "margin": null,
            "display": null,
            "left": null
          }
        },
        "43562a03c8884437a17f4df5ab998ef2": {
          "model_module": "@jupyter-widgets/controls",
          "model_name": "FloatProgressModel",
          "state": {
            "_view_name": "ProgressView",
            "style": "IPY_MODEL_0438e98f94a042d699879d551a507a9e",
            "_dom_classes": [],
            "description": "100%",
            "_model_name": "FloatProgressModel",
            "bar_style": "success",
            "max": 30000,
            "_view_module": "@jupyter-widgets/controls",
            "_model_module_version": "1.5.0",
            "value": 30000,
            "_view_count": null,
            "_view_module_version": "1.5.0",
            "orientation": "horizontal",
            "min": 0,
            "description_tooltip": null,
            "_model_module": "@jupyter-widgets/controls",
            "layout": "IPY_MODEL_416b20c8a30b41e796b0072c96fb2487"
          }
        },
        "f2dd3602ab3e4821bed1330e092eb7cf": {
          "model_module": "@jupyter-widgets/controls",
          "model_name": "HTMLModel",
          "state": {
            "_view_name": "HTMLView",
            "style": "IPY_MODEL_966978731da6486d83923bae3b88616d",
            "_dom_classes": [],
            "description": "",
            "_model_name": "HTMLModel",
            "placeholder": "​",
            "_view_module": "@jupyter-widgets/controls",
            "_model_module_version": "1.5.0",
            "value": " 30000/30000 [00:42&lt;00:00, 703.63it/s]",
            "_view_count": null,
            "_view_module_version": "1.5.0",
            "description_tooltip": null,
            "_model_module": "@jupyter-widgets/controls",
            "layout": "IPY_MODEL_5f04f9a6231d4aac8a54cf825173d185"
          }
        },
        "0438e98f94a042d699879d551a507a9e": {
          "model_module": "@jupyter-widgets/controls",
          "model_name": "ProgressStyleModel",
          "state": {
            "_view_name": "StyleView",
            "_model_name": "ProgressStyleModel",
            "description_width": "initial",
            "_view_module": "@jupyter-widgets/base",
            "_model_module_version": "1.5.0",
            "_view_count": null,
            "_view_module_version": "1.2.0",
            "bar_color": null,
            "_model_module": "@jupyter-widgets/controls"
          }
        },
        "416b20c8a30b41e796b0072c96fb2487": {
          "model_module": "@jupyter-widgets/base",
          "model_name": "LayoutModel",
          "state": {
            "_view_name": "LayoutView",
            "grid_template_rows": null,
            "right": null,
            "justify_content": null,
            "_view_module": "@jupyter-widgets/base",
            "overflow": null,
            "_model_module_version": "1.2.0",
            "_view_count": null,
            "flex_flow": null,
            "width": null,
            "min_width": null,
            "border": null,
            "align_items": null,
            "bottom": null,
            "_model_module": "@jupyter-widgets/base",
            "top": null,
            "grid_column": null,
            "overflow_y": null,
            "overflow_x": null,
            "grid_auto_flow": null,
            "grid_area": null,
            "grid_template_columns": null,
            "flex": null,
            "_model_name": "LayoutModel",
            "justify_items": null,
            "grid_row": null,
            "max_height": null,
            "align_content": null,
            "visibility": null,
            "align_self": null,
            "height": null,
            "min_height": null,
            "padding": null,
            "grid_auto_rows": null,
            "grid_gap": null,
            "max_width": null,
            "order": null,
            "_view_module_version": "1.2.0",
            "grid_template_areas": null,
            "object_position": null,
            "object_fit": null,
            "grid_auto_columns": null,
            "margin": null,
            "display": null,
            "left": null
          }
        },
        "966978731da6486d83923bae3b88616d": {
          "model_module": "@jupyter-widgets/controls",
          "model_name": "DescriptionStyleModel",
          "state": {
            "_view_name": "StyleView",
            "_model_name": "DescriptionStyleModel",
            "description_width": "",
            "_view_module": "@jupyter-widgets/base",
            "_model_module_version": "1.5.0",
            "_view_count": null,
            "_view_module_version": "1.2.0",
            "_model_module": "@jupyter-widgets/controls"
          }
        },
        "5f04f9a6231d4aac8a54cf825173d185": {
          "model_module": "@jupyter-widgets/base",
          "model_name": "LayoutModel",
          "state": {
            "_view_name": "LayoutView",
            "grid_template_rows": null,
            "right": null,
            "justify_content": null,
            "_view_module": "@jupyter-widgets/base",
            "overflow": null,
            "_model_module_version": "1.2.0",
            "_view_count": null,
            "flex_flow": null,
            "width": null,
            "min_width": null,
            "border": null,
            "align_items": null,
            "bottom": null,
            "_model_module": "@jupyter-widgets/base",
            "top": null,
            "grid_column": null,
            "overflow_y": null,
            "overflow_x": null,
            "grid_auto_flow": null,
            "grid_area": null,
            "grid_template_columns": null,
            "flex": null,
            "_model_name": "LayoutModel",
            "justify_items": null,
            "grid_row": null,
            "max_height": null,
            "align_content": null,
            "visibility": null,
            "align_self": null,
            "height": null,
            "min_height": null,
            "padding": null,
            "grid_auto_rows": null,
            "grid_gap": null,
            "max_width": null,
            "order": null,
            "_view_module_version": "1.2.0",
            "grid_template_areas": null,
            "object_position": null,
            "object_fit": null,
            "grid_auto_columns": null,
            "margin": null,
            "display": null,
            "left": null
          }
        },
        "b337578599b646ae9e1d92361687962d": {
          "model_module": "@jupyter-widgets/controls",
          "model_name": "HBoxModel",
          "state": {
            "_view_name": "HBoxView",
            "_dom_classes": [],
            "_model_name": "HBoxModel",
            "_view_module": "@jupyter-widgets/controls",
            "_model_module_version": "1.5.0",
            "_view_count": null,
            "_view_module_version": "1.5.0",
            "box_style": "",
            "layout": "IPY_MODEL_028fba000b544c76b98300b2fb217523",
            "_model_module": "@jupyter-widgets/controls",
            "children": [
              "IPY_MODEL_3ca1928c526c47509e9c313f075aa0ac",
              "IPY_MODEL_02c2e6c7a94f4ee280b6b7525a3ec808"
            ]
          }
        },
        "028fba000b544c76b98300b2fb217523": {
          "model_module": "@jupyter-widgets/base",
          "model_name": "LayoutModel",
          "state": {
            "_view_name": "LayoutView",
            "grid_template_rows": null,
            "right": null,
            "justify_content": null,
            "_view_module": "@jupyter-widgets/base",
            "overflow": null,
            "_model_module_version": "1.2.0",
            "_view_count": null,
            "flex_flow": null,
            "width": null,
            "min_width": null,
            "border": null,
            "align_items": null,
            "bottom": null,
            "_model_module": "@jupyter-widgets/base",
            "top": null,
            "grid_column": null,
            "overflow_y": null,
            "overflow_x": null,
            "grid_auto_flow": null,
            "grid_area": null,
            "grid_template_columns": null,
            "flex": null,
            "_model_name": "LayoutModel",
            "justify_items": null,
            "grid_row": null,
            "max_height": null,
            "align_content": null,
            "visibility": null,
            "align_self": null,
            "height": null,
            "min_height": null,
            "padding": null,
            "grid_auto_rows": null,
            "grid_gap": null,
            "max_width": null,
            "order": null,
            "_view_module_version": "1.2.0",
            "grid_template_areas": null,
            "object_position": null,
            "object_fit": null,
            "grid_auto_columns": null,
            "margin": null,
            "display": null,
            "left": null
          }
        },
        "3ca1928c526c47509e9c313f075aa0ac": {
          "model_module": "@jupyter-widgets/controls",
          "model_name": "FloatProgressModel",
          "state": {
            "_view_name": "ProgressView",
            "style": "IPY_MODEL_e7840af1523c4aba90c5f52f4b272a8d",
            "_dom_classes": [],
            "description": "Running Evaluation: 100%",
            "_model_name": "FloatProgressModel",
            "bar_style": "success",
            "max": 209,
            "_view_module": "@jupyter-widgets/controls",
            "_model_module_version": "1.5.0",
            "value": 209,
            "_view_count": null,
            "_view_module_version": "1.5.0",
            "orientation": "horizontal",
            "min": 0,
            "description_tooltip": null,
            "_model_module": "@jupyter-widgets/controls",
            "layout": "IPY_MODEL_6ae2d5985d9e4d9e95bdd671dda2f4d7"
          }
        },
        "02c2e6c7a94f4ee280b6b7525a3ec808": {
          "model_module": "@jupyter-widgets/controls",
          "model_name": "HTMLModel",
          "state": {
            "_view_name": "HTMLView",
            "style": "IPY_MODEL_8716d115cae046e084f80df813ba0ae0",
            "_dom_classes": [],
            "description": "",
            "_model_name": "HTMLModel",
            "placeholder": "​",
            "_view_module": "@jupyter-widgets/controls",
            "_model_module_version": "1.5.0",
            "value": " 209/209 [03:48&lt;00:00,  1.09s/it]",
            "_view_count": null,
            "_view_module_version": "1.5.0",
            "description_tooltip": null,
            "_model_module": "@jupyter-widgets/controls",
            "layout": "IPY_MODEL_31395dda562f40f1b41522ce925e010e"
          }
        },
        "e7840af1523c4aba90c5f52f4b272a8d": {
          "model_module": "@jupyter-widgets/controls",
          "model_name": "ProgressStyleModel",
          "state": {
            "_view_name": "StyleView",
            "_model_name": "ProgressStyleModel",
            "description_width": "initial",
            "_view_module": "@jupyter-widgets/base",
            "_model_module_version": "1.5.0",
            "_view_count": null,
            "_view_module_version": "1.2.0",
            "bar_color": null,
            "_model_module": "@jupyter-widgets/controls"
          }
        },
        "6ae2d5985d9e4d9e95bdd671dda2f4d7": {
          "model_module": "@jupyter-widgets/base",
          "model_name": "LayoutModel",
          "state": {
            "_view_name": "LayoutView",
            "grid_template_rows": null,
            "right": null,
            "justify_content": null,
            "_view_module": "@jupyter-widgets/base",
            "overflow": null,
            "_model_module_version": "1.2.0",
            "_view_count": null,
            "flex_flow": null,
            "width": null,
            "min_width": null,
            "border": null,
            "align_items": null,
            "bottom": null,
            "_model_module": "@jupyter-widgets/base",
            "top": null,
            "grid_column": null,
            "overflow_y": null,
            "overflow_x": null,
            "grid_auto_flow": null,
            "grid_area": null,
            "grid_template_columns": null,
            "flex": null,
            "_model_name": "LayoutModel",
            "justify_items": null,
            "grid_row": null,
            "max_height": null,
            "align_content": null,
            "visibility": null,
            "align_self": null,
            "height": null,
            "min_height": null,
            "padding": null,
            "grid_auto_rows": null,
            "grid_gap": null,
            "max_width": null,
            "order": null,
            "_view_module_version": "1.2.0",
            "grid_template_areas": null,
            "object_position": null,
            "object_fit": null,
            "grid_auto_columns": null,
            "margin": null,
            "display": null,
            "left": null
          }
        },
        "8716d115cae046e084f80df813ba0ae0": {
          "model_module": "@jupyter-widgets/controls",
          "model_name": "DescriptionStyleModel",
          "state": {
            "_view_name": "StyleView",
            "_model_name": "DescriptionStyleModel",
            "description_width": "",
            "_view_module": "@jupyter-widgets/base",
            "_model_module_version": "1.5.0",
            "_view_count": null,
            "_view_module_version": "1.2.0",
            "_model_module": "@jupyter-widgets/controls"
          }
        },
        "31395dda562f40f1b41522ce925e010e": {
          "model_module": "@jupyter-widgets/base",
          "model_name": "LayoutModel",
          "state": {
            "_view_name": "LayoutView",
            "grid_template_rows": null,
            "right": null,
            "justify_content": null,
            "_view_module": "@jupyter-widgets/base",
            "overflow": null,
            "_model_module_version": "1.2.0",
            "_view_count": null,
            "flex_flow": null,
            "width": null,
            "min_width": null,
            "border": null,
            "align_items": null,
            "bottom": null,
            "_model_module": "@jupyter-widgets/base",
            "top": null,
            "grid_column": null,
            "overflow_y": null,
            "overflow_x": null,
            "grid_auto_flow": null,
            "grid_area": null,
            "grid_template_columns": null,
            "flex": null,
            "_model_name": "LayoutModel",
            "justify_items": null,
            "grid_row": null,
            "max_height": null,
            "align_content": null,
            "visibility": null,
            "align_self": null,
            "height": null,
            "min_height": null,
            "padding": null,
            "grid_auto_rows": null,
            "grid_gap": null,
            "max_width": null,
            "order": null,
            "_view_module_version": "1.2.0",
            "grid_template_areas": null,
            "object_position": null,
            "object_fit": null,
            "grid_auto_columns": null,
            "margin": null,
            "display": null,
            "left": null
          }
        }
      }
    }
  },
  "cells": [
    {
      "cell_type": "code",
      "metadata": {
        "id": "Tw5ZSXMvETlH",
        "outputId": "4b1bf789-be29-411c-b6a7-b8bfa2161923",
        "colab": {
          "base_uri": "https://localhost:8080/",
          "height": 201
        }
      },
      "source": [
        "!wget https://machinehack-be.s3.amazonaws.com/predict_github_issues_embold_sponsored_hackathon/Embold_Participant%27s_Dataset.zip"
      ],
      "execution_count": null,
      "outputs": [
        {
          "output_type": "stream",
          "text": [
            "--2020-10-17 18:01:52--  https://machinehack-be.s3.amazonaws.com/predict_github_issues_embold_sponsored_hackathon/Embold_Participant%27s_Dataset.zip\n",
            "Resolving machinehack-be.s3.amazonaws.com (machinehack-be.s3.amazonaws.com)... 52.219.64.112\n",
            "Connecting to machinehack-be.s3.amazonaws.com (machinehack-be.s3.amazonaws.com)|52.219.64.112|:443... connected.\n",
            "HTTP request sent, awaiting response... 200 OK\n",
            "Length: 102320961 (98M) [application/octet-stream]\n",
            "Saving to: ‘Embold_Participant's_Dataset.zip’\n",
            "\n",
            "Embold_Participant' 100%[===================>]  97.58M  23.6MB/s    in 4.1s    \n",
            "\n",
            "2020-10-17 18:01:57 (23.6 MB/s) - ‘Embold_Participant's_Dataset.zip’ saved [102320961/102320961]\n",
            "\n"
          ],
          "name": "stdout"
        }
      ]
    },
    {
      "cell_type": "code",
      "metadata": {
        "id": "rgySLtvoLxms",
        "outputId": "623a59de-caa9-432b-8d39-425e18e1e568",
        "colab": {
          "base_uri": "https://localhost:8080/",
          "height": 33
        }
      },
      "source": [
        "ls"
      ],
      "execution_count": null,
      "outputs": [
        {
          "output_type": "stream",
          "text": [
            "\"Embold_Participant's_Dataset.zip\"   \u001b[0m\u001b[01;34msample_data\u001b[0m/\n"
          ],
          "name": "stdout"
        }
      ]
    },
    {
      "cell_type": "code",
      "metadata": {
        "id": "SmJEgnvBEpmz",
        "outputId": "3c19871c-c526-4226-b5e5-61ffc8416e89",
        "colab": {
          "base_uri": "https://localhost:8080/",
          "height": 184
        }
      },
      "source": [
        "!unzip \"Embold_Participant's_Dataset.zip\""
      ],
      "execution_count": null,
      "outputs": [
        {
          "output_type": "stream",
          "text": [
            "Archive:  Embold_Participant's_Dataset.zip\n",
            "   creating: Embold_Participant's_Dataset/\n",
            "  inflating: Embold_Participant's_Dataset/sample submission.csv  \n",
            "  inflating: __MACOSX/Embold_Participant's_Dataset/._sample submission.csv  \n",
            "  inflating: Embold_Participant's_Dataset/embold_train_extra.json  \n",
            "  inflating: __MACOSX/Embold_Participant's_Dataset/._embold_train_extra.json  \n",
            "  inflating: Embold_Participant's_Dataset/embold_test.json  \n",
            "  inflating: __MACOSX/Embold_Participant's_Dataset/._embold_test.json  \n",
            "  inflating: Embold_Participant's_Dataset/embold_train.json  \n",
            "  inflating: __MACOSX/Embold_Participant's_Dataset/._embold_train.json  \n"
          ],
          "name": "stdout"
        }
      ]
    },
    {
      "cell_type": "code",
      "metadata": {
        "id": "-oWVKIBjLrQq",
        "outputId": "b0079377-37b8-414e-d01e-cbe9c9df9cf0",
        "colab": {
          "base_uri": "https://localhost:8080/",
          "height": 1000
        }
      },
      "source": [
        "import pandas as pd\n",
        "import numpy as np\n",
        "import matplotlib.pyplot as plt\n",
        "%matplotlib inline\n",
        "import seaborn as sns\n",
        "import pandas as pd\n",
        "import numpy as np\n",
        "import matplotlib.pyplot as plt\n",
        "%matplotlib inline\n",
        "import warnings\n",
        "warnings.simplefilter(action='ignore', category=FutureWarning)\n",
        "!pip install rfpimp\n",
        "!pip install catboost\n",
        "from sklearn.metrics import mean_absolute_error,accuracy_score\n",
        "import lightgbm as lgb\n",
        "from sklearn.linear_model import LinearRegression\n",
        "from sklearn.model_selection import StratifiedKFold,KFold,GridSearchCV,GroupKFold,train_test_split,StratifiedShuffleSplit\n",
        "from rfpimp import *\n",
        "from tqdm import tqdm\n",
        "from catboost import *\n",
        "from sklearn.neighbors import KNeighborsClassifier\n",
        "from xgboost import XGBClassifier\n",
        "from sklearn.preprocessing import LabelEncoder\n",
        "from fastai.text import *\n",
        "from fastai.imports import *\n",
        "from fastai.text import *\n",
        "from fastai import *\n",
        "%matplotlib inline\n",
        "\n",
        "from sklearn.ensemble import *\n",
        "from sklearn.model_selection import *\n",
        "from sklearn.metrics import *\n",
        "from catboost import CatBoostClassifier\n",
        "import nltk\n",
        "!pip install sentence-transformers\n",
        "from sentence_transformers import SentenceTransformer"
      ],
      "execution_count": null,
      "outputs": [
        {
          "output_type": "stream",
          "text": [
            "Collecting rfpimp\n",
            "  Downloading https://files.pythonhosted.org/packages/36/05/ce8f1d3a035a4ddda3c888af945908e9f61cbec32f73148fc8e788a8632a/rfpimp-1.3.5.tar.gz\n",
            "Collecting stratx>=0.2\n",
            "\u001b[?25l  Downloading https://files.pythonhosted.org/packages/93/44/754e5f4c5fcb68968fe0fadffcc30f8c2194a855a4329dd870007921506c/stratx-0.5.tar.gz (160kB)\n",
            "\u001b[K     |████████████████████████████████| 163kB 3.9MB/s \n",
            "\u001b[?25hRequirement already satisfied: numpy in /usr/local/lib/python3.6/dist-packages (from rfpimp) (1.18.5)\n",
            "Requirement already satisfied: pandas in /usr/local/lib/python3.6/dist-packages (from rfpimp) (1.1.2)\n",
            "Requirement already satisfied: scikit-learn in /usr/local/lib/python3.6/dist-packages (from rfpimp) (0.22.2.post1)\n",
            "Requirement already satisfied: matplotlib in /usr/local/lib/python3.6/dist-packages (from rfpimp) (3.2.2)\n",
            "Requirement already satisfied: scipy in /usr/local/lib/python3.6/dist-packages (from stratx>=0.2->rfpimp) (1.4.1)\n",
            "Requirement already satisfied: numba in /usr/local/lib/python3.6/dist-packages (from stratx>=0.2->rfpimp) (0.48.0)\n",
            "Collecting colour\n",
            "  Downloading https://files.pythonhosted.org/packages/74/46/e81907704ab203206769dee1385dc77e1407576ff8f50a0681d0a6b541be/colour-0.1.5-py2.py3-none-any.whl\n",
            "Requirement already satisfied: python-dateutil>=2.7.3 in /usr/local/lib/python3.6/dist-packages (from pandas->rfpimp) (2.8.1)\n",
            "Requirement already satisfied: pytz>=2017.2 in /usr/local/lib/python3.6/dist-packages (from pandas->rfpimp) (2018.9)\n",
            "Requirement already satisfied: joblib>=0.11 in /usr/local/lib/python3.6/dist-packages (from scikit-learn->rfpimp) (0.16.0)\n",
            "Requirement already satisfied: kiwisolver>=1.0.1 in /usr/local/lib/python3.6/dist-packages (from matplotlib->rfpimp) (1.2.0)\n",
            "Requirement already satisfied: pyparsing!=2.0.4,!=2.1.2,!=2.1.6,>=2.0.1 in /usr/local/lib/python3.6/dist-packages (from matplotlib->rfpimp) (2.4.7)\n",
            "Requirement already satisfied: cycler>=0.10 in /usr/local/lib/python3.6/dist-packages (from matplotlib->rfpimp) (0.10.0)\n",
            "Requirement already satisfied: llvmlite<0.32.0,>=0.31.0dev0 in /usr/local/lib/python3.6/dist-packages (from numba->stratx>=0.2->rfpimp) (0.31.0)\n",
            "Requirement already satisfied: setuptools in /usr/local/lib/python3.6/dist-packages (from numba->stratx>=0.2->rfpimp) (50.3.0)\n",
            "Requirement already satisfied: six>=1.5 in /usr/local/lib/python3.6/dist-packages (from python-dateutil>=2.7.3->pandas->rfpimp) (1.15.0)\n",
            "Building wheels for collected packages: rfpimp, stratx\n",
            "  Building wheel for rfpimp (setup.py) ... \u001b[?25l\u001b[?25hdone\n",
            "  Created wheel for rfpimp: filename=rfpimp-1.3.5-cp36-none-any.whl size=10261 sha256=8ea97ac54b40ea88433a4e607ac20d5f2aa6e41c2ab6e4163d666c6c811c0da1\n",
            "  Stored in directory: /root/.cache/pip/wheels/2a/c8/bf/80f91224be00870f84a85aa1782cf6cd62c1289a173b66b8e9\n",
            "  Building wheel for stratx (setup.py) ... \u001b[?25l\u001b[?25hdone\n",
            "  Created wheel for stratx: filename=stratx-0.5-cp36-none-any.whl size=35033 sha256=343fe13e627c60810d955cf06cccabecc5250fa8afdf258d34c36835a1fca8a5\n",
            "  Stored in directory: /root/.cache/pip/wheels/6e/28/de/a84563cfe761afd6c628e595590455412e26a6c4d587289d7b\n",
            "Successfully built rfpimp stratx\n",
            "Installing collected packages: colour, stratx, rfpimp\n",
            "Successfully installed colour-0.1.5 rfpimp-1.3.5 stratx-0.5\n",
            "Collecting catboost\n",
            "\u001b[?25l  Downloading https://files.pythonhosted.org/packages/52/39/128fff65072c8327371e3c594f3c826d29c85b21cb6485980353b168e0e4/catboost-0.24.2-cp36-none-manylinux1_x86_64.whl (66.1MB)\n",
            "\u001b[K     |████████████████████████████████| 66.2MB 57kB/s \n",
            "\u001b[?25hRequirement already satisfied: matplotlib in /usr/local/lib/python3.6/dist-packages (from catboost) (3.2.2)\n",
            "Requirement already satisfied: six in /usr/local/lib/python3.6/dist-packages (from catboost) (1.15.0)\n",
            "Requirement already satisfied: plotly in /usr/local/lib/python3.6/dist-packages (from catboost) (4.4.1)\n",
            "Requirement already satisfied: pandas>=0.24.0 in /usr/local/lib/python3.6/dist-packages (from catboost) (1.1.2)\n",
            "Requirement already satisfied: graphviz in /usr/local/lib/python3.6/dist-packages (from catboost) (0.10.1)\n",
            "Requirement already satisfied: numpy>=1.16.0 in /usr/local/lib/python3.6/dist-packages (from catboost) (1.18.5)\n",
            "Requirement already satisfied: scipy in /usr/local/lib/python3.6/dist-packages (from catboost) (1.4.1)\n",
            "Requirement already satisfied: pyparsing!=2.0.4,!=2.1.2,!=2.1.6,>=2.0.1 in /usr/local/lib/python3.6/dist-packages (from matplotlib->catboost) (2.4.7)\n",
            "Requirement already satisfied: kiwisolver>=1.0.1 in /usr/local/lib/python3.6/dist-packages (from matplotlib->catboost) (1.2.0)\n",
            "Requirement already satisfied: python-dateutil>=2.1 in /usr/local/lib/python3.6/dist-packages (from matplotlib->catboost) (2.8.1)\n",
            "Requirement already satisfied: cycler>=0.10 in /usr/local/lib/python3.6/dist-packages (from matplotlib->catboost) (0.10.0)\n",
            "Requirement already satisfied: retrying>=1.3.3 in /usr/local/lib/python3.6/dist-packages (from plotly->catboost) (1.3.3)\n",
            "Requirement already satisfied: pytz>=2017.2 in /usr/local/lib/python3.6/dist-packages (from pandas>=0.24.0->catboost) (2018.9)\n",
            "Installing collected packages: catboost\n",
            "Successfully installed catboost-0.24.2\n",
            "Collecting sentence-transformers\n",
            "\u001b[?25l  Downloading https://files.pythonhosted.org/packages/ce/4b/0add07b1eebbbe83e77fb5ac4e72e87046c3fc2c9cb16f7d1cd8c6921a1d/sentence-transformers-0.3.7.2.tar.gz (59kB)\n",
            "\u001b[K     |████████████████████████████████| 61kB 1.8MB/s \n",
            "\u001b[?25hCollecting transformers<3.4.0,>=3.1.0\n",
            "\u001b[?25l  Downloading https://files.pythonhosted.org/packages/19/22/aff234f4a841f8999e68a7a94bdd4b60b4cebcfeca5d67d61cd08c9179de/transformers-3.3.1-py3-none-any.whl (1.1MB)\n",
            "\u001b[K     |████████████████████████████████| 1.1MB 6.7MB/s \n",
            "\u001b[?25hRequirement already satisfied: tqdm in /usr/local/lib/python3.6/dist-packages (from sentence-transformers) (4.41.1)\n",
            "Requirement already satisfied: torch>=1.2.0 in /usr/local/lib/python3.6/dist-packages (from sentence-transformers) (1.6.0+cu101)\n",
            "Requirement already satisfied: numpy in /usr/local/lib/python3.6/dist-packages (from sentence-transformers) (1.18.5)\n",
            "Requirement already satisfied: scikit-learn in /usr/local/lib/python3.6/dist-packages (from sentence-transformers) (0.22.2.post1)\n",
            "Requirement already satisfied: scipy in /usr/local/lib/python3.6/dist-packages (from sentence-transformers) (1.4.1)\n",
            "Requirement already satisfied: nltk in /usr/local/lib/python3.6/dist-packages (from sentence-transformers) (3.2.5)\n",
            "Collecting sentencepiece!=0.1.92\n",
            "\u001b[?25l  Downloading https://files.pythonhosted.org/packages/d4/a4/d0a884c4300004a78cca907a6ff9a5e9fe4f090f5d95ab341c53d28cbc58/sentencepiece-0.1.91-cp36-cp36m-manylinux1_x86_64.whl (1.1MB)\n",
            "\u001b[K     |████████████████████████████████| 1.1MB 15.8MB/s \n",
            "\u001b[?25hRequirement already satisfied: requests in /usr/local/lib/python3.6/dist-packages (from transformers<3.4.0,>=3.1.0->sentence-transformers) (2.23.0)\n",
            "Requirement already satisfied: dataclasses; python_version < \"3.7\" in /usr/local/lib/python3.6/dist-packages (from transformers<3.4.0,>=3.1.0->sentence-transformers) (0.7)\n",
            "Requirement already satisfied: packaging in /usr/local/lib/python3.6/dist-packages (from transformers<3.4.0,>=3.1.0->sentence-transformers) (20.4)\n",
            "Requirement already satisfied: filelock in /usr/local/lib/python3.6/dist-packages (from transformers<3.4.0,>=3.1.0->sentence-transformers) (3.0.12)\n",
            "Collecting sacremoses\n",
            "\u001b[?25l  Downloading https://files.pythonhosted.org/packages/7d/34/09d19aff26edcc8eb2a01bed8e98f13a1537005d31e95233fd48216eed10/sacremoses-0.0.43.tar.gz (883kB)\n",
            "\u001b[K     |████████████████████████████████| 890kB 27.4MB/s \n",
            "\u001b[?25hCollecting tokenizers==0.8.1.rc2\n",
            "\u001b[?25l  Downloading https://files.pythonhosted.org/packages/80/83/8b9fccb9e48eeb575ee19179e2bdde0ee9a1904f97de5f02d19016b8804f/tokenizers-0.8.1rc2-cp36-cp36m-manylinux1_x86_64.whl (3.0MB)\n",
            "\u001b[K     |████████████████████████████████| 3.0MB 37.2MB/s \n",
            "\u001b[?25hRequirement already satisfied: regex!=2019.12.17 in /usr/local/lib/python3.6/dist-packages (from transformers<3.4.0,>=3.1.0->sentence-transformers) (2019.12.20)\n",
            "Requirement already satisfied: future in /usr/local/lib/python3.6/dist-packages (from torch>=1.2.0->sentence-transformers) (0.16.0)\n",
            "Requirement already satisfied: joblib>=0.11 in /usr/local/lib/python3.6/dist-packages (from scikit-learn->sentence-transformers) (0.16.0)\n",
            "Requirement already satisfied: six in /usr/local/lib/python3.6/dist-packages (from nltk->sentence-transformers) (1.15.0)\n",
            "Requirement already satisfied: idna<3,>=2.5 in /usr/local/lib/python3.6/dist-packages (from requests->transformers<3.4.0,>=3.1.0->sentence-transformers) (2.10)\n",
            "Requirement already satisfied: chardet<4,>=3.0.2 in /usr/local/lib/python3.6/dist-packages (from requests->transformers<3.4.0,>=3.1.0->sentence-transformers) (3.0.4)\n",
            "Requirement already satisfied: urllib3!=1.25.0,!=1.25.1,<1.26,>=1.21.1 in /usr/local/lib/python3.6/dist-packages (from requests->transformers<3.4.0,>=3.1.0->sentence-transformers) (1.24.3)\n",
            "Requirement already satisfied: certifi>=2017.4.17 in /usr/local/lib/python3.6/dist-packages (from requests->transformers<3.4.0,>=3.1.0->sentence-transformers) (2020.6.20)\n",
            "Requirement already satisfied: pyparsing>=2.0.2 in /usr/local/lib/python3.6/dist-packages (from packaging->transformers<3.4.0,>=3.1.0->sentence-transformers) (2.4.7)\n",
            "Requirement already satisfied: click in /usr/local/lib/python3.6/dist-packages (from sacremoses->transformers<3.4.0,>=3.1.0->sentence-transformers) (7.1.2)\n",
            "Building wheels for collected packages: sentence-transformers, sacremoses\n",
            "  Building wheel for sentence-transformers (setup.py) ... \u001b[?25l\u001b[?25hdone\n",
            "  Created wheel for sentence-transformers: filename=sentence_transformers-0.3.7.2-cp36-none-any.whl size=91190 sha256=4fbc8ffbd61441b718f3202b2cc4604ea5697b3a889abe515b81d0a56e45894e\n",
            "  Stored in directory: /root/.cache/pip/wheels/4b/8f/23/7f93e91176acc7c2d651b54fa9f01e3624a47904145c4d133e\n",
            "  Building wheel for sacremoses (setup.py) ... \u001b[?25l\u001b[?25hdone\n",
            "  Created wheel for sacremoses: filename=sacremoses-0.0.43-cp36-none-any.whl size=893257 sha256=e185759a140d1aaf82309052d0ef174e37f3a3b7b4a5addfe1fe401cfb9c618a\n",
            "  Stored in directory: /root/.cache/pip/wheels/29/3c/fd/7ce5c3f0666dab31a50123635e6fb5e19ceb42ce38d4e58f45\n",
            "Successfully built sentence-transformers sacremoses\n",
            "Installing collected packages: sentencepiece, sacremoses, tokenizers, transformers, sentence-transformers\n",
            "Successfully installed sacremoses-0.0.43 sentence-transformers-0.3.7.2 sentencepiece-0.1.91 tokenizers-0.8.1rc2 transformers-3.3.1\n"
          ],
          "name": "stdout"
        }
      ]
    },
    {
      "cell_type": "code",
      "metadata": {
        "id": "VAiIbIPoPPFL"
      },
      "source": [
        "sns.set_style('darkgrid')\n",
        "import os\n",
        "from fastai.text import *\n",
        "from fastai.imports import *\n",
        "from fastai.text import *\n",
        "from fastai import *"
      ],
      "execution_count": null,
      "outputs": []
    },
    {
      "cell_type": "code",
      "metadata": {
        "id": "Cw71SzMBMRPq"
      },
      "source": [
        "train=pd.read_json(\"/content/Embold_Participant's_Dataset/embold_train.json\")\n",
        "traine=pd.read_json(\"/content/Embold_Participant's_Dataset/embold_train_extra.json\")\n",
        "test=pd.read_json(\"/content/Embold_Participant's_Dataset/embold_test.json\")\n",
        "sub=pd.read_csv(\"/content/Embold_Participant's_Dataset/sample submission.csv\")"
      ],
      "execution_count": null,
      "outputs": []
    },
    {
      "cell_type": "code",
      "metadata": {
        "id": "i5_Wv4tUM4Y5",
        "outputId": "e3fd947d-736a-41a7-bac5-0432b236474c",
        "colab": {
          "base_uri": "https://localhost:8080/",
          "height": 190
        }
      },
      "source": [
        "train.head(5)"
      ],
      "execution_count": null,
      "outputs": [
        {
          "output_type": "execute_result",
          "data": {
            "text/html": [
              "<div>\n",
              "<style scoped>\n",
              "    .dataframe tbody tr th:only-of-type {\n",
              "        vertical-align: middle;\n",
              "    }\n",
              "\n",
              "    .dataframe tbody tr th {\n",
              "        vertical-align: top;\n",
              "    }\n",
              "\n",
              "    .dataframe thead th {\n",
              "        text-align: right;\n",
              "    }\n",
              "</style>\n",
              "<table border=\"1\" class=\"dataframe\">\n",
              "  <thead>\n",
              "    <tr style=\"text-align: right;\">\n",
              "      <th></th>\n",
              "      <th>title</th>\n",
              "      <th>body</th>\n",
              "      <th>label</th>\n",
              "    </tr>\n",
              "  </thead>\n",
              "  <tbody>\n",
              "    <tr>\n",
              "      <th>0</th>\n",
              "      <td>y-zoom piano roll</td>\n",
              "      <td>a y-zoom on the piano roll would be useful.</td>\n",
              "      <td>1</td>\n",
              "    </tr>\n",
              "    <tr>\n",
              "      <th>1</th>\n",
              "      <td>buggy behavior in selection</td>\n",
              "      <td>! screenshot from 2016-02-23 21 27 40  https:/...</td>\n",
              "      <td>0</td>\n",
              "    </tr>\n",
              "    <tr>\n",
              "      <th>2</th>\n",
              "      <td>auto update feature</td>\n",
              "      <td>hi,\\r \\r great job so far, @saenzramiro ! : \\r...</td>\n",
              "      <td>1</td>\n",
              "    </tr>\n",
              "    <tr>\n",
              "      <th>3</th>\n",
              "      <td>filter out noisy endpoints in logs</td>\n",
              "      <td>i think we should stop logging requests to:\\r ...</td>\n",
              "      <td>1</td>\n",
              "    </tr>\n",
              "    <tr>\n",
              "      <th>4</th>\n",
              "      <td>enable pid on / pid off alarm actions for ardu...</td>\n",
              "      <td>expected behavior\\r alarm actions pid on and p...</td>\n",
              "      <td>0</td>\n",
              "    </tr>\n",
              "  </tbody>\n",
              "</table>\n",
              "</div>"
            ],
            "text/plain": [
              "                                               title  ... label\n",
              "0                                  y-zoom piano roll  ...     1\n",
              "1                        buggy behavior in selection  ...     0\n",
              "2                                auto update feature  ...     1\n",
              "3                 filter out noisy endpoints in logs  ...     1\n",
              "4  enable pid on / pid off alarm actions for ardu...  ...     0\n",
              "\n",
              "[5 rows x 3 columns]"
            ]
          },
          "metadata": {
            "tags": []
          },
          "execution_count": 7
        }
      ]
    },
    {
      "cell_type": "code",
      "metadata": {
        "id": "F33mmrJoM77X",
        "outputId": "3e698a71-310b-4747-b9da-4d8ffa685833",
        "colab": {
          "base_uri": "https://localhost:8080/",
          "height": 190
        }
      },
      "source": [
        "traine.head(5)"
      ],
      "execution_count": null,
      "outputs": [
        {
          "output_type": "execute_result",
          "data": {
            "text/html": [
              "<div>\n",
              "<style scoped>\n",
              "    .dataframe tbody tr th:only-of-type {\n",
              "        vertical-align: middle;\n",
              "    }\n",
              "\n",
              "    .dataframe tbody tr th {\n",
              "        vertical-align: top;\n",
              "    }\n",
              "\n",
              "    .dataframe thead th {\n",
              "        text-align: right;\n",
              "    }\n",
              "</style>\n",
              "<table border=\"1\" class=\"dataframe\">\n",
              "  <thead>\n",
              "    <tr style=\"text-align: right;\">\n",
              "      <th></th>\n",
              "      <th>title</th>\n",
              "      <th>body</th>\n",
              "      <th>label</th>\n",
              "    </tr>\n",
              "  </thead>\n",
              "  <tbody>\n",
              "    <tr>\n",
              "      <th>0</th>\n",
              "      <td>use a 8bit typeface</td>\n",
              "      <td>since this is meant to emulate some old arcade...</td>\n",
              "      <td>1</td>\n",
              "    </tr>\n",
              "    <tr>\n",
              "      <th>1</th>\n",
              "      <td>implement wireless m-bus binding</td>\n",
              "      <td>_from  chris.pa...@googlemail.com  https://cod...</td>\n",
              "      <td>1</td>\n",
              "    </tr>\n",
              "    <tr>\n",
              "      <th>2</th>\n",
              "      <td>add multilang support for timeago.js</td>\n",
              "      <td>currently it is only  en . \\r required to add ...</td>\n",
              "      <td>1</td>\n",
              "    </tr>\n",
              "    <tr>\n",
              "      <th>3</th>\n",
              "      <td>scaleway - seg-fault on shutdown</td>\n",
              "      <td>tbr  irc  creates a new scaleway instance with...</td>\n",
              "      <td>0</td>\n",
              "    </tr>\n",
              "    <tr>\n",
              "      <th>4</th>\n",
              "      <td>sistema de pintura: no se guardar los nuevos p...</td>\n",
              "      <td>este sp ya estaba asignado a un carro y se enc...</td>\n",
              "      <td>0</td>\n",
              "    </tr>\n",
              "  </tbody>\n",
              "</table>\n",
              "</div>"
            ],
            "text/plain": [
              "                                               title  ... label\n",
              "0                                use a 8bit typeface  ...     1\n",
              "1                   implement wireless m-bus binding  ...     1\n",
              "2               add multilang support for timeago.js  ...     1\n",
              "3                   scaleway - seg-fault on shutdown  ...     0\n",
              "4  sistema de pintura: no se guardar los nuevos p...  ...     0\n",
              "\n",
              "[5 rows x 3 columns]"
            ]
          },
          "metadata": {
            "tags": []
          },
          "execution_count": 8
        }
      ]
    },
    {
      "cell_type": "code",
      "metadata": {
        "id": "aphADBO4NACN",
        "outputId": "47d69a70-1bac-4e68-d552-61e9eacf98e1",
        "colab": {
          "base_uri": "https://localhost:8080/",
          "height": 190
        }
      },
      "source": [
        "test.head(5)"
      ],
      "execution_count": null,
      "outputs": [
        {
          "output_type": "execute_result",
          "data": {
            "text/html": [
              "<div>\n",
              "<style scoped>\n",
              "    .dataframe tbody tr th:only-of-type {\n",
              "        vertical-align: middle;\n",
              "    }\n",
              "\n",
              "    .dataframe tbody tr th {\n",
              "        vertical-align: top;\n",
              "    }\n",
              "\n",
              "    .dataframe thead th {\n",
              "        text-align: right;\n",
              "    }\n",
              "</style>\n",
              "<table border=\"1\" class=\"dataframe\">\n",
              "  <thead>\n",
              "    <tr style=\"text-align: right;\">\n",
              "      <th></th>\n",
              "      <th>title</th>\n",
              "      <th>body</th>\n",
              "    </tr>\n",
              "  </thead>\n",
              "  <tbody>\n",
              "    <tr>\n",
              "      <th>0</th>\n",
              "      <td>config question  path-specific environment var...</td>\n",
              "      <td>issue description or question\\r \\r hey @artemg...</td>\n",
              "    </tr>\n",
              "    <tr>\n",
              "      <th>1</th>\n",
              "      <td>crash indien vol</td>\n",
              "      <td>de simulator crasht als hij vol zit</td>\n",
              "    </tr>\n",
              "    <tr>\n",
              "      <th>2</th>\n",
              "      <td>unable to mine rocks</td>\n",
              "      <td>sarkasmo starting today, when i hit enter  act...</td>\n",
              "    </tr>\n",
              "    <tr>\n",
              "      <th>3</th>\n",
              "      <td>not all whitelists are processed</td>\n",
              "      <td>create following rules... order of creation is...</td>\n",
              "    </tr>\n",
              "    <tr>\n",
              "      <th>4</th>\n",
              "      <td>add ctx menu for idafree 70 and idafree 5</td>\n",
              "      <td>associated with .dll, .dll_, .exe, .exe_, .sc,...</td>\n",
              "    </tr>\n",
              "  </tbody>\n",
              "</table>\n",
              "</div>"
            ],
            "text/plain": [
              "                                               title                                               body\n",
              "0  config question  path-specific environment var...  issue description or question\\r \\r hey @artemg...\n",
              "1                                   crash indien vol                de simulator crasht als hij vol zit\n",
              "2                               unable to mine rocks  sarkasmo starting today, when i hit enter  act...\n",
              "3                   not all whitelists are processed  create following rules... order of creation is...\n",
              "4          add ctx menu for idafree 70 and idafree 5  associated with .dll, .dll_, .exe, .exe_, .sc,..."
            ]
          },
          "metadata": {
            "tags": []
          },
          "execution_count": 9
        }
      ]
    },
    {
      "cell_type": "code",
      "metadata": {
        "id": "t5zysWtaNDQ7",
        "outputId": "1ed73af4-dcfc-41b9-9ea7-62febe2cc1f0",
        "colab": {
          "base_uri": "https://localhost:8080/",
          "height": 190
        }
      },
      "source": [
        "sub.head(5)"
      ],
      "execution_count": null,
      "outputs": [
        {
          "output_type": "execute_result",
          "data": {
            "text/html": [
              "<div>\n",
              "<style scoped>\n",
              "    .dataframe tbody tr th:only-of-type {\n",
              "        vertical-align: middle;\n",
              "    }\n",
              "\n",
              "    .dataframe tbody tr th {\n",
              "        vertical-align: top;\n",
              "    }\n",
              "\n",
              "    .dataframe thead th {\n",
              "        text-align: right;\n",
              "    }\n",
              "</style>\n",
              "<table border=\"1\" class=\"dataframe\">\n",
              "  <thead>\n",
              "    <tr style=\"text-align: right;\">\n",
              "      <th></th>\n",
              "      <th>label</th>\n",
              "    </tr>\n",
              "  </thead>\n",
              "  <tbody>\n",
              "    <tr>\n",
              "      <th>0</th>\n",
              "      <td>0.0</td>\n",
              "    </tr>\n",
              "    <tr>\n",
              "      <th>1</th>\n",
              "      <td>0.0</td>\n",
              "    </tr>\n",
              "    <tr>\n",
              "      <th>2</th>\n",
              "      <td>0.0</td>\n",
              "    </tr>\n",
              "    <tr>\n",
              "      <th>3</th>\n",
              "      <td>0.0</td>\n",
              "    </tr>\n",
              "    <tr>\n",
              "      <th>4</th>\n",
              "      <td>0.0</td>\n",
              "    </tr>\n",
              "  </tbody>\n",
              "</table>\n",
              "</div>"
            ],
            "text/plain": [
              "   label\n",
              "0    0.0\n",
              "1    0.0\n",
              "2    0.0\n",
              "3    0.0\n",
              "4    0.0"
            ]
          },
          "metadata": {
            "tags": []
          },
          "execution_count": 10
        }
      ]
    },
    {
      "cell_type": "code",
      "metadata": {
        "id": "dJRsiRdwNKSz",
        "outputId": "2ca48ee7-21d6-45f0-b642-9ffd688ff645",
        "colab": {
          "base_uri": "https://localhost:8080/",
          "height": 218
        }
      },
      "source": [
        "train.isnull().sum(),traine.isnull().sum(),test.isnull().sum(),train.shape,traine.shape,test.shape,train.dtypes"
      ],
      "execution_count": null,
      "outputs": [
        {
          "output_type": "execute_result",
          "data": {
            "text/plain": [
              "(title    0\n",
              " body     0\n",
              " label    0\n",
              " dtype: int64, title    0\n",
              " body     0\n",
              " label    0\n",
              " dtype: int64, title    0\n",
              " body     0\n",
              " dtype: int64, (150000, 3), (300000, 3), (30000, 2), title    object\n",
              " body     object\n",
              " label     int64\n",
              " dtype: object)"
            ]
          },
          "metadata": {
            "tags": []
          },
          "execution_count": 11
        }
      ]
    },
    {
      "cell_type": "code",
      "metadata": {
        "id": "-U-m0b8DNP-o"
      },
      "source": [
        "train=train.append(traine,ignore_index=True)"
      ],
      "execution_count": null,
      "outputs": []
    },
    {
      "cell_type": "code",
      "metadata": {
        "id": "vRHO7cRXOAzC",
        "outputId": "9e48df8d-0d84-4427-af98-b50d0a5f7240",
        "colab": {
          "base_uri": "https://localhost:8080/",
          "height": 190
        }
      },
      "source": [
        "train.head(5)"
      ],
      "execution_count": null,
      "outputs": [
        {
          "output_type": "execute_result",
          "data": {
            "text/html": [
              "<div>\n",
              "<style scoped>\n",
              "    .dataframe tbody tr th:only-of-type {\n",
              "        vertical-align: middle;\n",
              "    }\n",
              "\n",
              "    .dataframe tbody tr th {\n",
              "        vertical-align: top;\n",
              "    }\n",
              "\n",
              "    .dataframe thead th {\n",
              "        text-align: right;\n",
              "    }\n",
              "</style>\n",
              "<table border=\"1\" class=\"dataframe\">\n",
              "  <thead>\n",
              "    <tr style=\"text-align: right;\">\n",
              "      <th></th>\n",
              "      <th>title</th>\n",
              "      <th>body</th>\n",
              "      <th>label</th>\n",
              "    </tr>\n",
              "  </thead>\n",
              "  <tbody>\n",
              "    <tr>\n",
              "      <th>0</th>\n",
              "      <td>y-zoom piano roll</td>\n",
              "      <td>a y-zoom on the piano roll would be useful.</td>\n",
              "      <td>1</td>\n",
              "    </tr>\n",
              "    <tr>\n",
              "      <th>1</th>\n",
              "      <td>buggy behavior in selection</td>\n",
              "      <td>! screenshot from 2016-02-23 21 27 40  https:/...</td>\n",
              "      <td>0</td>\n",
              "    </tr>\n",
              "    <tr>\n",
              "      <th>2</th>\n",
              "      <td>auto update feature</td>\n",
              "      <td>hi,\\r \\r great job so far, @saenzramiro ! : \\r...</td>\n",
              "      <td>1</td>\n",
              "    </tr>\n",
              "    <tr>\n",
              "      <th>3</th>\n",
              "      <td>filter out noisy endpoints in logs</td>\n",
              "      <td>i think we should stop logging requests to:\\r ...</td>\n",
              "      <td>1</td>\n",
              "    </tr>\n",
              "    <tr>\n",
              "      <th>4</th>\n",
              "      <td>enable pid on / pid off alarm actions for ardu...</td>\n",
              "      <td>expected behavior\\r alarm actions pid on and p...</td>\n",
              "      <td>0</td>\n",
              "    </tr>\n",
              "  </tbody>\n",
              "</table>\n",
              "</div>"
            ],
            "text/plain": [
              "                                               title  ... label\n",
              "0                                  y-zoom piano roll  ...     1\n",
              "1                        buggy behavior in selection  ...     0\n",
              "2                                auto update feature  ...     1\n",
              "3                 filter out noisy endpoints in logs  ...     1\n",
              "4  enable pid on / pid off alarm actions for ardu...  ...     0\n",
              "\n",
              "[5 rows x 3 columns]"
            ]
          },
          "metadata": {
            "tags": []
          },
          "execution_count": 28
        }
      ]
    },
    {
      "cell_type": "code",
      "metadata": {
        "id": "oCx6uVeuODrJ",
        "outputId": "01ffee6c-99a2-4e26-c8f0-56915e823e5f",
        "colab": {
          "base_uri": "https://localhost:8080/",
          "height": 33
        }
      },
      "source": [
        "train.shape"
      ],
      "execution_count": null,
      "outputs": [
        {
          "output_type": "execute_result",
          "data": {
            "text/plain": [
              "(450000, 3)"
            ]
          },
          "metadata": {
            "tags": []
          },
          "execution_count": 29
        }
      ]
    },
    {
      "cell_type": "code",
      "metadata": {
        "id": "egcwY2PHaGNP"
      },
      "source": [
        "train=train.sample(frac =.30) "
      ],
      "execution_count": null,
      "outputs": []
    },
    {
      "cell_type": "markdown",
      "metadata": {
        "id": "_IFCwgY4OPF0"
      },
      "source": [
        "\n",
        "\n",
        "# method-1 (fastai+bert)"
      ]
    },
    {
      "cell_type": "code",
      "metadata": {
        "id": "bOyZyh0WOP0t"
      },
      "source": [
        "train['text']=train['title']+' '+train['body']\n",
        "test['text']=test['title']+' '+test['body']\n",
        "del train['title']\n",
        "del test['title']\n",
        "del train['body']\n",
        "del test['body']\n",
        "train['target']=train['label']\n",
        "del train['label']"
      ],
      "execution_count": null,
      "outputs": []
    },
    {
      "cell_type": "code",
      "metadata": {
        "id": "lwDmioCTOq8Y",
        "outputId": "499a3701-8acc-4f43-9045-2ff46fed41e9",
        "colab": {
          "base_uri": "https://localhost:8080/",
          "height": 84
        }
      },
      "source": [
        "train['target'].value_counts()"
      ],
      "execution_count": null,
      "outputs": [
        {
          "output_type": "execute_result",
          "data": {
            "text/plain": [
              "1    62238\n",
              "0    60164\n",
              "2    12598\n",
              "Name: target, dtype: int64"
            ]
          },
          "metadata": {
            "tags": []
          },
          "execution_count": 32
        }
      ]
    },
    {
      "cell_type": "code",
      "metadata": {
        "id": "X9--v_YrO4x0",
        "outputId": "d067da89-c73b-4cd3-a641-9d7e9cea4693",
        "colab": {
          "base_uri": "https://localhost:8080/",
          "height": 84
        }
      },
      "source": [
        "train.isnull().sum(),test.isnull().sum()"
      ],
      "execution_count": null,
      "outputs": [
        {
          "output_type": "execute_result",
          "data": {
            "text/plain": [
              "(text      0\n",
              " target    0\n",
              " dtype: int64, text    0\n",
              " dtype: int64)"
            ]
          },
          "metadata": {
            "tags": []
          },
          "execution_count": 33
        }
      ]
    },
    {
      "cell_type": "code",
      "metadata": {
        "id": "pV9uFO2_O7sY"
      },
      "source": [
        "import re\n",
        "def clean_text(text):\n",
        "    text = text.lower()\n",
        "    text = re.sub(r'@[a-zA-Z0-9_]+', '', text)   \n",
        "    text = re.sub(r'https?://[A-Za-z0-9./]+', '', text)   \n",
        "    text = re.sub(r'www.[^ ]+', '', text)  \n",
        "    text = re.sub(r'[a-zA-Z0-9]*www[a-zA-Z0-9]*com[a-zA-Z0-9]*', '', text)  \n",
        "    text = re.sub(r'[^a-zA-Z]', ' ', text)   \n",
        "    text = [token for token in text.split() if len(token) > 2]\n",
        "    text = ' '.join(text)\n",
        "    return text\n",
        "\n",
        "train['text'] = train['text'].apply(clean_text)\n",
        "test['text'] = test['text'].apply(clean_text)"
      ],
      "execution_count": null,
      "outputs": []
    },
    {
      "cell_type": "code",
      "metadata": {
        "id": "taueN5u6O907"
      },
      "source": [
        "def random_seed(seed_value):\n",
        "    import random \n",
        "    random.seed(seed_value)  \n",
        "    import numpy as np\n",
        "    np.random.seed(seed_value)  \n",
        "    import torch\n",
        "    torch.manual_seed(seed_value)  \n",
        "    \n",
        "    if torch.cuda.is_available(): \n",
        "        torch.cuda.manual_seed(seed_value)\n",
        "        torch.cuda.manual_seed_all(seed_value)  \n",
        "        torch.backends.cudnn.deterministic = True   \n",
        "        torch.backends.cudnn.benchmark = False"
      ],
      "execution_count": null,
      "outputs": []
    },
    {
      "cell_type": "code",
      "metadata": {
        "id": "O2npREMYP54d",
        "outputId": "d2a562fe-db3b-4271-b5a7-ab9fb1da6a94",
        "colab": {
          "base_uri": "https://localhost:8080/",
          "height": 100
        }
      },
      "source": [
        "path = Path(\"/content/\")\n",
        "path.ls()"
      ],
      "execution_count": null,
      "outputs": [
        {
          "output_type": "execute_result",
          "data": {
            "text/plain": [
              "[PosixPath('/content/.config'),\n",
              " PosixPath(\"/content/Embold_Participant's_Dataset.zip\"),\n",
              " PosixPath('/content/__MACOSX'),\n",
              " PosixPath(\"/content/Embold_Participant's_Dataset\"),\n",
              " PosixPath('/content/sample_data')]"
            ]
          },
          "metadata": {
            "tags": []
          },
          "execution_count": 35
        }
      ]
    },
    {
      "cell_type": "code",
      "metadata": {
        "id": "E-WrkFodPC85",
        "outputId": "c82417dc-0df7-4ff7-a82e-0859c92f59a2",
        "colab": {
          "base_uri": "https://localhost:8080/",
          "height": 302
        }
      },
      "source": [
        "from sklearn.metrics import accuracy_score \n",
        "y_pred_totcb = []\n",
        "c=[]\n",
        "from sklearn.model_selection import KFold, RepeatedKFold\n",
        "fold = KFold(n_splits=2, shuffle=True, random_state=0)\n",
        "i=1\n",
        "\n",
        "for train_index, test_index in fold.split(train):\n",
        "    \n",
        "    train_df = train.iloc[train_index]\n",
        "    valid_df = train.iloc[test_index]\n",
        "\n",
        "    random_seed(42)\n",
        "    \n",
        "    data_lm = TextLMDataBunch.from_df(Path(path), train_df, valid_df, test, text_cols=[0], bs=32)\n",
        "    data_clas = TextClasDataBunch.from_df(Path(path), train_df, valid_df, test, text_cols=[0], label_cols=1, bs=32)\n",
        "    \n",
        "    learn = language_model_learner(data_lm, AWD_LSTM, drop_mult=0.4, model_dir='/tmp/model/')\n",
        "    learn.fit_one_cycle(1, 1e-2, moms=(0.8, 0.7))\n",
        "    learn.unfreeze()\n",
        "    learn.fit_one_cycle(1, 1e-3, moms=(0.8,0.7))\n",
        "    learn.save_encoder('model_enc')\n",
        "    \n",
        "    learn = text_classifier_learner(data_clas, AWD_LSTM, drop_mult=0.4, model_dir='/tmp/model/')\n",
        "    learn.load_encoder('model_enc')\n",
        "    learn.fit_one_cycle(1, 1e-2, moms=(0.8, 0.7))\n",
        "    learn.freeze_to(-2)\n",
        "    learn.fit_one_cycle(1, slice(1e-2/(2.6**4),1e-2), moms=(0.8,0.7))\n",
        "    learn.freeze_to(-1)\n",
        "    learn.fit_one_cycle(1, slice(5e-3/(2.6**4),5e-3), moms=(0.8,0.7))\n",
        "    learn.unfreeze()\n",
        "    learn.fit_one_cycle(2, slice(1e-3/(2.6**4),1e-3), moms=(0.8,0.7))\n",
        "   \n",
        "    log_preds, test_labels = learn.get_preds(ds_type=DatasetType.Test, ordered=True)\n",
        "    preds = np.argmax(log_preds, 1)\n",
        "    c.append(log_preds)\n",
        "    y_pred_totcb.append(preds)\n",
        "    print(f'fold {i} completed')\n",
        "    i = i+1"
      ],
      "execution_count": null,
      "outputs": [
        {
          "output_type": "display_data",
          "data": {
            "text/html": [
              ""
            ],
            "text/plain": [
              "<IPython.core.display.HTML object>"
            ]
          },
          "metadata": {
            "tags": []
          }
        },
        {
          "output_type": "display_data",
          "data": {
            "text/html": [
              ""
            ],
            "text/plain": [
              "<IPython.core.display.HTML object>"
            ]
          },
          "metadata": {
            "tags": []
          }
        },
        {
          "output_type": "display_data",
          "data": {
            "text/html": [
              ""
            ],
            "text/plain": [
              "<IPython.core.display.HTML object>"
            ]
          },
          "metadata": {
            "tags": []
          }
        },
        {
          "output_type": "display_data",
          "data": {
            "text/html": [
              ""
            ],
            "text/plain": [
              "<IPython.core.display.HTML object>"
            ]
          },
          "metadata": {
            "tags": []
          }
        },
        {
          "output_type": "display_data",
          "data": {
            "text/html": [
              ""
            ],
            "text/plain": [
              "<IPython.core.display.HTML object>"
            ]
          },
          "metadata": {
            "tags": []
          }
        },
        {
          "output_type": "display_data",
          "data": {
            "text/html": [
              ""
            ],
            "text/plain": [
              "<IPython.core.display.HTML object>"
            ]
          },
          "metadata": {
            "tags": []
          }
        },
        {
          "output_type": "stream",
          "text": [
            "Downloading https://s3.amazonaws.com/fast-ai-modelzoo/wt103-fwd.tgz\n"
          ],
          "name": "stdout"
        },
        {
          "output_type": "display_data",
          "data": {
            "text/html": [
              ""
            ],
            "text/plain": [
              "<IPython.core.display.HTML object>"
            ]
          },
          "metadata": {
            "tags": []
          }
        },
        {
          "output_type": "display_data",
          "data": {
            "text/html": [
              "<table border=\"1\" class=\"dataframe\">\n",
              "  <thead>\n",
              "    <tr style=\"text-align: left;\">\n",
              "      <th>epoch</th>\n",
              "      <th>train_loss</th>\n",
              "      <th>valid_loss</th>\n",
              "      <th>accuracy</th>\n",
              "      <th>time</th>\n",
              "    </tr>\n",
              "  </thead>\n",
              "  <tbody>\n",
              "    <tr>\n",
              "      <td>0</td>\n",
              "      <td>4.423514</td>\n",
              "      <td>3.925154</td>\n",
              "      <td>0.369066</td>\n",
              "      <td>40:38</td>\n",
              "    </tr>\n",
              "  </tbody>\n",
              "</table>"
            ],
            "text/plain": [
              "<IPython.core.display.HTML object>"
            ]
          },
          "metadata": {
            "tags": []
          }
        },
        {
          "output_type": "display_data",
          "data": {
            "text/html": [
              "<table border=\"1\" class=\"dataframe\">\n",
              "  <thead>\n",
              "    <tr style=\"text-align: left;\">\n",
              "      <th>epoch</th>\n",
              "      <th>train_loss</th>\n",
              "      <th>valid_loss</th>\n",
              "      <th>accuracy</th>\n",
              "      <th>time</th>\n",
              "    </tr>\n",
              "  </thead>\n",
              "  <tbody>\n",
              "    <tr>\n",
              "      <td>0</td>\n",
              "      <td>3.734439</td>\n",
              "      <td>3.452304</td>\n",
              "      <td>0.425530</td>\n",
              "      <td>44:21</td>\n",
              "    </tr>\n",
              "  </tbody>\n",
              "</table>"
            ],
            "text/plain": [
              "<IPython.core.display.HTML object>"
            ]
          },
          "metadata": {
            "tags": []
          }
        },
        {
          "output_type": "display_data",
          "data": {
            "text/html": [
              "<table border=\"1\" class=\"dataframe\">\n",
              "  <thead>\n",
              "    <tr style=\"text-align: left;\">\n",
              "      <th>epoch</th>\n",
              "      <th>train_loss</th>\n",
              "      <th>valid_loss</th>\n",
              "      <th>accuracy</th>\n",
              "      <th>time</th>\n",
              "    </tr>\n",
              "  </thead>\n",
              "  <tbody>\n",
              "    <tr>\n",
              "      <td>0</td>\n",
              "      <td>0.634523</td>\n",
              "      <td>0.545174</td>\n",
              "      <td>0.785259</td>\n",
              "      <td>17:09</td>\n",
              "    </tr>\n",
              "  </tbody>\n",
              "</table>"
            ],
            "text/plain": [
              "<IPython.core.display.HTML object>"
            ]
          },
          "metadata": {
            "tags": []
          }
        },
        {
          "output_type": "display_data",
          "data": {
            "text/html": [
              "\n",
              "    <div>\n",
              "        <style>\n",
              "            /* Turns off some styling */\n",
              "            progress {\n",
              "                /* gets rid of default border in Firefox and Opera. */\n",
              "                border: none;\n",
              "                /* Needs to be in here for Safari polyfill so background images work as expected. */\n",
              "                background-size: auto;\n",
              "            }\n",
              "            .progress-bar-interrupted, .progress-bar-interrupted::-webkit-progress-bar {\n",
              "                background: #F44336;\n",
              "            }\n",
              "        </style>\n",
              "      <progress value='0' class='' max='1' style='width:300px; height:20px; vertical-align: middle;'></progress>\n",
              "      0.00% [0/1 00:00<00:00]\n",
              "    </div>\n",
              "    \n",
              "<table border=\"1\" class=\"dataframe\">\n",
              "  <thead>\n",
              "    <tr style=\"text-align: left;\">\n",
              "      <th>epoch</th>\n",
              "      <th>train_loss</th>\n",
              "      <th>valid_loss</th>\n",
              "      <th>accuracy</th>\n",
              "      <th>time</th>\n",
              "    </tr>\n",
              "  </thead>\n",
              "  <tbody>\n",
              "  </tbody>\n",
              "</table><p>\n",
              "\n",
              "    <div>\n",
              "        <style>\n",
              "            /* Turns off some styling */\n",
              "            progress {\n",
              "                /* gets rid of default border in Firefox and Opera. */\n",
              "                border: none;\n",
              "                /* Needs to be in here for Safari polyfill so background images work as expected. */\n",
              "                background-size: auto;\n",
              "            }\n",
              "            .progress-bar-interrupted, .progress-bar-interrupted::-webkit-progress-bar {\n",
              "                background: #F44336;\n",
              "            }\n",
              "        </style>\n",
              "      <progress value='1548' class='' max='2109' style='width:300px; height:20px; vertical-align: middle;'></progress>\n",
              "      73.40% [1548/2109 10:15<03:43 0.5254]\n",
              "    </div>\n",
              "    "
            ],
            "text/plain": [
              "<IPython.core.display.HTML object>"
            ]
          },
          "metadata": {
            "tags": []
          }
        },
        {
          "output_type": "stream",
          "text": [
            "Buffered data was truncated after reaching the output size limit."
          ],
          "name": "stdout"
        }
      ]
    },
    {
      "cell_type": "code",
      "metadata": {
        "id": "nr-WmTdPR23a"
      },
      "source": [
        "df = pd.DataFrame()\n",
        "for i in range(1):\n",
        "    col_name = 'SECTION_' + str(i)\n",
        "    df[col_name] =  y_pred_totcb[i]"
      ],
      "execution_count": null,
      "outputs": []
    },
    {
      "cell_type": "code",
      "metadata": {
        "id": "Fcc_enNwE3-8",
        "outputId": "7797bf24-0872-4a70-a49b-e67b6a786008",
        "colab": {
          "base_uri": "https://localhost:8080/",
          "height": 190
        }
      },
      "source": [
        "df.tail()"
      ],
      "execution_count": null,
      "outputs": [
        {
          "output_type": "execute_result",
          "data": {
            "text/html": [
              "<div>\n",
              "<style scoped>\n",
              "    .dataframe tbody tr th:only-of-type {\n",
              "        vertical-align: middle;\n",
              "    }\n",
              "\n",
              "    .dataframe tbody tr th {\n",
              "        vertical-align: top;\n",
              "    }\n",
              "\n",
              "    .dataframe thead th {\n",
              "        text-align: right;\n",
              "    }\n",
              "</style>\n",
              "<table border=\"1\" class=\"dataframe\">\n",
              "  <thead>\n",
              "    <tr style=\"text-align: right;\">\n",
              "      <th></th>\n",
              "      <th>SECTION_0</th>\n",
              "    </tr>\n",
              "  </thead>\n",
              "  <tbody>\n",
              "    <tr>\n",
              "      <th>29995</th>\n",
              "      <td>0</td>\n",
              "    </tr>\n",
              "    <tr>\n",
              "      <th>29996</th>\n",
              "      <td>0</td>\n",
              "    </tr>\n",
              "    <tr>\n",
              "      <th>29997</th>\n",
              "      <td>0</td>\n",
              "    </tr>\n",
              "    <tr>\n",
              "      <th>29998</th>\n",
              "      <td>0</td>\n",
              "    </tr>\n",
              "    <tr>\n",
              "      <th>29999</th>\n",
              "      <td>1</td>\n",
              "    </tr>\n",
              "  </tbody>\n",
              "</table>\n",
              "</div>"
            ],
            "text/plain": [
              "       SECTION_0\n",
              "29995          0\n",
              "29996          0\n",
              "29997          0\n",
              "29998          0\n",
              "29999          1"
            ]
          },
          "metadata": {
            "tags": []
          },
          "execution_count": 26
        }
      ]
    },
    {
      "cell_type": "code",
      "metadata": {
        "id": "wXJE4hSvE37N",
        "outputId": "ad31ad23-4032-48a0-de7c-e995b40f2daa",
        "colab": {
          "base_uri": "https://localhost:8080/",
          "height": 190
        }
      },
      "source": [
        "sub = pd.DataFrame()\n",
        "sub['label'] = df.mode(axis=1)[0]\n",
        "sub.tail()"
      ],
      "execution_count": null,
      "outputs": [
        {
          "output_type": "execute_result",
          "data": {
            "text/html": [
              "<div>\n",
              "<style scoped>\n",
              "    .dataframe tbody tr th:only-of-type {\n",
              "        vertical-align: middle;\n",
              "    }\n",
              "\n",
              "    .dataframe tbody tr th {\n",
              "        vertical-align: top;\n",
              "    }\n",
              "\n",
              "    .dataframe thead th {\n",
              "        text-align: right;\n",
              "    }\n",
              "</style>\n",
              "<table border=\"1\" class=\"dataframe\">\n",
              "  <thead>\n",
              "    <tr style=\"text-align: right;\">\n",
              "      <th></th>\n",
              "      <th>label</th>\n",
              "    </tr>\n",
              "  </thead>\n",
              "  <tbody>\n",
              "    <tr>\n",
              "      <th>29995</th>\n",
              "      <td>0</td>\n",
              "    </tr>\n",
              "    <tr>\n",
              "      <th>29996</th>\n",
              "      <td>0</td>\n",
              "    </tr>\n",
              "    <tr>\n",
              "      <th>29997</th>\n",
              "      <td>0</td>\n",
              "    </tr>\n",
              "    <tr>\n",
              "      <th>29998</th>\n",
              "      <td>0</td>\n",
              "    </tr>\n",
              "    <tr>\n",
              "      <th>29999</th>\n",
              "      <td>1</td>\n",
              "    </tr>\n",
              "  </tbody>\n",
              "</table>\n",
              "</div>"
            ],
            "text/plain": [
              "       label\n",
              "29995      0\n",
              "29996      0\n",
              "29997      0\n",
              "29998      0\n",
              "29999      1"
            ]
          },
          "metadata": {
            "tags": []
          },
          "execution_count": 24
        }
      ]
    },
    {
      "cell_type": "code",
      "metadata": {
        "id": "4yjTEJWxqwuh"
      },
      "source": [
        "m=[]\n",
        "for i in range(30000):\n",
        "  xx=df['SECTION_0'][i]\n",
        "  yy=df['SECTION_1'][i]\n",
        "  zz=min(xx,yy)\n",
        "  m.append(zz)"
      ],
      "execution_count": null,
      "outputs": []
    },
    {
      "cell_type": "code",
      "metadata": {
        "id": "qVtOCWl6p_3o",
        "outputId": "e057ff6b-e5ae-444f-ec32-9ce904512b37",
        "colab": {
          "base_uri": "https://localhost:8080/",
          "height": 162
        }
      },
      "source": [
        "sub['label']="
      ],
      "execution_count": null,
      "outputs": [
        {
          "output_type": "error",
          "ename": "NameError",
          "evalue": "ignored",
          "traceback": [
            "\u001b[0;31m---------------------------------------------------------------------------\u001b[0m",
            "\u001b[0;31mNameError\u001b[0m                                 Traceback (most recent call last)",
            "\u001b[0;32m<ipython-input-27-bc06103dace9>\u001b[0m in \u001b[0;36m<module>\u001b[0;34m()\u001b[0m\n\u001b[0;32m----> 1\u001b[0;31m \u001b[0msub\u001b[0m\u001b[0;34m[\u001b[0m\u001b[0;34m'label'\u001b[0m\u001b[0;34m]\u001b[0m\u001b[0;34m=\u001b[0m\u001b[0mm\u001b[0m\u001b[0;34m\u001b[0m\u001b[0;34m\u001b[0m\u001b[0m\n\u001b[0m",
            "\u001b[0;31mNameError\u001b[0m: name 'm' is not defined"
          ]
        }
      ]
    },
    {
      "cell_type": "code",
      "metadata": {
        "id": "jtDP5CERFL9V"
      },
      "source": [
        "sub.to_csv('bertcz.csv',index=False)"
      ],
      "execution_count": null,
      "outputs": []
    },
    {
      "cell_type": "markdown",
      "metadata": {
        "id": "P61hO42V5K2O"
      },
      "source": [
        "# S mode"
      ]
    },
    {
      "cell_type": "code",
      "metadata": {
        "id": "nIze752g5OVY"
      },
      "source": [
        "df = pd.concat([train, test]).reset_index()"
      ],
      "execution_count": null,
      "outputs": []
    },
    {
      "cell_type": "code",
      "metadata": {
        "id": "bqMH6JeDzQrp"
      },
      "source": [
        "df=train.append(test,ignore_index=True)"
      ],
      "execution_count": null,
      "outputs": []
    },
    {
      "cell_type": "code",
      "metadata": {
        "id": "zkprHHlj6LlU",
        "outputId": "1d3cafde-5ea9-4a2f-f7d1-77227578d089",
        "colab": {
          "base_uri": "https://localhost:8080/",
          "height": 84
        }
      },
      "source": [
        "df.nunique(),df.shape"
      ],
      "execution_count": null,
      "outputs": [
        {
          "output_type": "execute_result",
          "data": {
            "text/plain": [
              "(title    179519\n",
              " body     180000\n",
              " label         3\n",
              " dtype: int64, (180000, 3))"
            ]
          },
          "metadata": {
            "tags": []
          },
          "execution_count": 51
        }
      ]
    },
    {
      "cell_type": "code",
      "metadata": {
        "id": "oFmACpaW5vCn"
      },
      "source": [
        "import string\n",
        "punctuation=string.punctuation\n",
        "df['title_umerics'] = df['title'].apply(lambda x: len([x for x in x.split() if x.isdigit()]))\n",
        "df['title_upper'] = df['title'].apply(lambda x: len([x for x in x.split() if x.isupper()]))\n",
        "df['title_punctuation_count'] = df['title'].apply(lambda x: len(\"\".join(_ for _ in x if _ in punctuation)))"
      ],
      "execution_count": null,
      "outputs": []
    },
    {
      "cell_type": "code",
      "metadata": {
        "id": "k7GLWtXJ6fio"
      },
      "source": [
        "import string\n",
        "punctuation=string.punctuation\n",
        "df['body_umerics'] = df['body'].apply(lambda x: len([x for x in x.split() if x.isdigit()]))\n",
        "df['body_upper'] = df['body'].apply(lambda x: len([x for x in x.split() if x.isupper()]))\n",
        "df['body_punctuation_count'] = df['body'].apply(lambda x: len(\"\".join(_ for _ in x if _ in punctuation)))"
      ],
      "execution_count": null,
      "outputs": []
    },
    {
      "cell_type": "code",
      "metadata": {
        "id": "NTXC43wo6inc"
      },
      "source": [
        "import re\n",
        "def clean_text(text):\n",
        "    text = text.lower()\n",
        "    text = re.sub(r'@[a-zA-Z0-9_]+', '', text)   \n",
        "    text = re.sub(r'https?://[A-Za-z0-9./]+', '', text)   \n",
        "    text = re.sub(r'www.[^ ]+', '', text)  \n",
        "    text = re.sub(r'[a-zA-Z0-9]*www[a-zA-Z0-9]*com[a-zA-Z0-9]*', '', text)  \n",
        "    text = re.sub(r'[^a-zA-Z]', ' ', text)   \n",
        "    text = [token for token in text.split() if len(token) > 2]\n",
        "    text = ' '.join(text)\n",
        "    return text\n",
        "\n",
        "df['title'] = df['title'].apply(clean_text)\n",
        "df['body'] = df['body'].apply(clean_text)"
      ],
      "execution_count": null,
      "outputs": []
    },
    {
      "cell_type": "code",
      "metadata": {
        "id": "GWrfGbeGvfKY",
        "outputId": "fdc980a9-d36c-494d-b113-8f2e80464c92",
        "colab": {
          "base_uri": "https://localhost:8080/",
          "height": 67
        }
      },
      "source": [
        "import nltk\n",
        "nltk.download('stopwords')"
      ],
      "execution_count": null,
      "outputs": [
        {
          "output_type": "stream",
          "text": [
            "[nltk_data] Downloading package stopwords to /root/nltk_data...\n",
            "[nltk_data]   Package stopwords is already up-to-date!\n"
          ],
          "name": "stdout"
        },
        {
          "output_type": "execute_result",
          "data": {
            "text/plain": [
              "True"
            ]
          },
          "metadata": {
            "tags": []
          },
          "execution_count": 55
        }
      ]
    },
    {
      "cell_type": "code",
      "metadata": {
        "id": "w78BMgIkvhNM"
      },
      "source": [
        "import string\n",
        "punctuation=string.punctuation\n",
        "df['title_word_count']=df['title'].apply(lambda x: len(str(x).split(\" \")))\n",
        "df['title_char_count'] = df['title'].str.len()\n",
        "def avg_word(sentence):\n",
        "    words = sentence.split()\n",
        "    return (sum(len(word) for word in words)/1+len(words))\n",
        "\n",
        "df['title_avg_word'] = df['title'].apply(lambda x: avg_word(x))\n",
        "from nltk.corpus import stopwords\n",
        "stop = stopwords.words('english')\n",
        "\n",
        "df['title_stopwords'] = df['title'].apply(lambda x: len([x for x in x.split() if x in stop]))\n",
        "df['title_numerics'] = df['title'].apply(lambda x: len([x for x in x.split() if x.isdigit()]))\n",
        "df['title_upper'] = df['title'].apply(lambda x: len([x for x in x.split() if x.isupper()]))\n",
        "df['title_word_density'] = df['title_char_count'] / (df['title_word_count']+1)\n",
        "df['title_punctuation_count'] = df['title'].apply(lambda x: len(\"\".join(_ for _ in x if _ in punctuation)))"
      ],
      "execution_count": null,
      "outputs": []
    },
    {
      "cell_type": "code",
      "metadata": {
        "id": "6BIPU5_762bE"
      },
      "source": [
        "import string\n",
        "punctuation=string.punctuation\n",
        "df['body_word_count']=df['body'].apply(lambda x: len(str(x).split(\" \")))\n",
        "df['body_char_count'] = df['body'].str.len()\n",
        "def avg_word(sentence):\n",
        "    words = sentence.split()\n",
        "    return (sum(len(word) for word in words)/1+len(words))\n",
        "\n",
        "df['body_avg_word'] = df['body'].apply(lambda x: avg_word(x))\n",
        "from nltk.corpus import stopwords\n",
        "stop = stopwords.words('english')\n",
        "\n",
        "df['body_stopwords'] = df['body'].apply(lambda x: len([x for x in x.split() if x in stop]))\n",
        "df['body_numerics'] = df['body'].apply(lambda x: len([x for x in x.split() if x.isdigit()]))\n",
        "df['body_upper'] = df['body'].apply(lambda x: len([x for x in x.split() if x.isupper()]))\n",
        "df['body_word_density'] = df['body_char_count'] / (df['body_word_count']+1)\n",
        "df['body_punctuation_count'] = df['body'].apply(lambda x: len(\"\".join(_ for _ in x if _ in punctuation)))"
      ],
      "execution_count": null,
      "outputs": []
    },
    {
      "cell_type": "code",
      "metadata": {
        "id": "7BFX9i4kGw3C"
      },
      "source": [
        "from sklearn.feature_extraction.text import CountVectorizer, TfidfVectorizer\n",
        "from nltk.tokenize import TreebankWordTokenizer\n",
        "cvec = TfidfVectorizer(max_features=350, norm = 'l1', lowercase=True, smooth_idf=False, sublinear_tf=False, ngram_range=(1,4), tokenizer=TreebankWordTokenizer().tokenize)\n",
        "df_info = pd.DataFrame(cvec.fit_transform(df['title']).todense())\n",
        "df_info.columns = ['title_Top_' + str(c) for c in df_info.columns]\n",
        "df = pd.concat([df, df_info], axis=1)"
      ],
      "execution_count": null,
      "outputs": []
    },
    {
      "cell_type": "code",
      "metadata": {
        "id": "Y76WWjhBHLNV"
      },
      "source": [
        "from sklearn.feature_extraction.text import CountVectorizer, TfidfVectorizer\n",
        "from nltk.tokenize import TreebankWordTokenizer\n",
        "cvec = TfidfVectorizer(max_features=100, norm = 'l1', lowercase=True, smooth_idf=False, sublinear_tf=False, ngram_range=(1,4), tokenizer=TreebankWordTokenizer().tokenize)\n",
        "df_info = pd.DataFrame(cvec.fit_transform(df['body']).todense())\n",
        "df_info.columns = ['body_Top_' + str(c) for c in df_info.columns]\n",
        "df = pd.concat([df, df_info], axis=1)"
      ],
      "execution_count": null,
      "outputs": []
    },
    {
      "cell_type": "code",
      "metadata": {
        "id": "RD7TTvsw7nYr"
      },
      "source": [
        "from textblob import TextBlob\n",
        "df['title_polarity'] = df.apply(lambda x: TextBlob(x['title']).sentiment.polarity, axis=1)\n",
        "df['title_subjectivity'] = df.apply(lambda x: TextBlob(x['title']).sentiment.subjectivity, axis=1)"
      ],
      "execution_count": null,
      "outputs": []
    },
    {
      "cell_type": "code",
      "metadata": {
        "id": "kiVi92_P778d"
      },
      "source": [
        "from textblob import TextBlob\n",
        "df['body_polarity'] = df.apply(lambda x: TextBlob(x['body']).sentiment.polarity, axis=1)\n",
        "df['body_subjectivity'] = df.apply(lambda x: TextBlob(x['body']).sentiment.subjectivity, axis=1)"
      ],
      "execution_count": null,
      "outputs": []
    },
    {
      "cell_type": "code",
      "metadata": {
        "id": "4JccbO_PUlzR"
      },
      "source": [
        "j=[]\n",
        "for i in df['title']:\n",
        "  j.append(len(i))\n",
        "df['title_len']=j\n",
        "j=[]\n",
        "for i in df['body']:\n",
        "  j.append(len(i))\n",
        "df['body_len']=j"
      ],
      "execution_count": null,
      "outputs": []
    },
    {
      "cell_type": "code",
      "metadata": {
        "id": "9aAjMhOO9kNl"
      },
      "source": [
        "del df['title']\n",
        "del df['body']\n",
        "train = df[df['label'].isnull()==False]\n",
        "test = df[df['label'].isnull()==True]\n",
        "del test['label']"
      ],
      "execution_count": null,
      "outputs": []
    },
    {
      "cell_type": "code",
      "metadata": {
        "id": "f8sFgCabBxkc"
      },
      "source": [
        "train_df = df[df.label.notnull()]\n",
        "test_df = df[df.label.isnull()]"
      ],
      "execution_count": null,
      "outputs": []
    },
    {
      "cell_type": "code",
      "metadata": {
        "id": "7UhWRnJ4CBED"
      },
      "source": [
        "X, y = train_df.drop(['label'], axis=1), train_df.label\n",
        "\n",
        "X_train, X_test, y_train, y_test = train_test_split(X, y, test_size=0.10, random_state=42)"
      ],
      "execution_count": null,
      "outputs": []
    },
    {
      "cell_type": "code",
      "metadata": {
        "id": "HSwKXsrgCBET",
        "outputId": "5933bde0-05fc-42af-de73-8a22b401a0f1",
        "colab": {
          "base_uri": "https://localhost:8080/",
          "height": 1000
        }
      },
      "source": [
        "model_cat = CatBoostClassifier(depth=10,od_type='Iter', iterations=10000, task_type='GPU',eval_metric='Accuracy',bootstrap_type='Bayesian',od_wait=1000)\n",
        "model_cat.fit(X_train, y_train.astype(int),\n",
        "              eval_set=(X_test, y_test.astype(int)),\n",
        "              early_stopping_rounds=200,\n",
        ")"
      ],
      "execution_count": null,
      "outputs": [
        {
          "output_type": "stream",
          "text": [
            "Learning rate set to 0.063095\n",
            "0:\tlearn: 0.6650667\ttest: 0.6611333\tbest: 0.6611333 (0)\ttotal: 213ms\tremaining: 35m 32s\n",
            "1:\tlearn: 0.6780963\ttest: 0.6752667\tbest: 0.6752667 (1)\ttotal: 359ms\tremaining: 29m 56s\n",
            "2:\tlearn: 0.6822148\ttest: 0.6807333\tbest: 0.6807333 (2)\ttotal: 461ms\tremaining: 25m 34s\n",
            "3:\tlearn: 0.6787852\ttest: 0.6738667\tbest: 0.6807333 (2)\ttotal: 572ms\tremaining: 23m 49s\n",
            "4:\tlearn: 0.6814963\ttest: 0.6774000\tbest: 0.6807333 (2)\ttotal: 681ms\tremaining: 22m 40s\n",
            "5:\tlearn: 0.6812148\ttest: 0.6774667\tbest: 0.6807333 (2)\ttotal: 787ms\tremaining: 21m 51s\n",
            "6:\tlearn: 0.6819481\ttest: 0.6778667\tbest: 0.6807333 (2)\ttotal: 898ms\tremaining: 21m 22s\n",
            "7:\tlearn: 0.6849852\ttest: 0.6808667\tbest: 0.6808667 (7)\ttotal: 1.01s\tremaining: 20m 57s\n",
            "8:\tlearn: 0.6878667\ttest: 0.6828667\tbest: 0.6828667 (8)\ttotal: 1.12s\tremaining: 20m 39s\n",
            "9:\tlearn: 0.6914148\ttest: 0.6858667\tbest: 0.6858667 (9)\ttotal: 1.23s\tremaining: 20m 26s\n",
            "10:\tlearn: 0.6921630\ttest: 0.6857333\tbest: 0.6858667 (9)\ttotal: 1.34s\tremaining: 20m 14s\n",
            "11:\tlearn: 0.6944741\ttest: 0.6892667\tbest: 0.6892667 (11)\ttotal: 1.46s\tremaining: 20m 13s\n",
            "12:\tlearn: 0.6956148\ttest: 0.6896000\tbest: 0.6896000 (12)\ttotal: 1.57s\tremaining: 20m 5s\n",
            "13:\tlearn: 0.6973111\ttest: 0.6912000\tbest: 0.6912000 (13)\ttotal: 1.7s\tremaining: 20m 15s\n",
            "14:\tlearn: 0.6973630\ttest: 0.6900000\tbest: 0.6912000 (13)\ttotal: 1.83s\tremaining: 20m 15s\n",
            "15:\tlearn: 0.6971111\ttest: 0.6901333\tbest: 0.6912000 (13)\ttotal: 1.95s\tremaining: 20m 19s\n",
            "16:\tlearn: 0.6997778\ttest: 0.6923333\tbest: 0.6923333 (16)\ttotal: 2.06s\tremaining: 20m 8s\n",
            "17:\tlearn: 0.7018000\ttest: 0.6933333\tbest: 0.6933333 (17)\ttotal: 2.17s\tremaining: 20m 5s\n",
            "18:\tlearn: 0.7028296\ttest: 0.6943333\tbest: 0.6943333 (18)\ttotal: 2.28s\tremaining: 19m 59s\n",
            "19:\tlearn: 0.7044741\ttest: 0.6975333\tbest: 0.6975333 (19)\ttotal: 2.37s\tremaining: 19m 42s\n",
            "20:\tlearn: 0.7057259\ttest: 0.6980000\tbest: 0.6980000 (20)\ttotal: 2.47s\tremaining: 19m 33s\n",
            "21:\tlearn: 0.7069630\ttest: 0.6998000\tbest: 0.6998000 (21)\ttotal: 2.62s\tremaining: 19m 46s\n",
            "22:\tlearn: 0.7085926\ttest: 0.7007333\tbest: 0.7007333 (22)\ttotal: 2.73s\tremaining: 19m 44s\n",
            "23:\tlearn: 0.7095630\ttest: 0.7025333\tbest: 0.7025333 (23)\ttotal: 2.82s\tremaining: 19m 32s\n",
            "24:\tlearn: 0.7102593\ttest: 0.7028000\tbest: 0.7028000 (24)\ttotal: 2.92s\tremaining: 19m 24s\n",
            "25:\tlearn: 0.7121037\ttest: 0.7042000\tbest: 0.7042000 (25)\ttotal: 3.02s\tremaining: 19m 16s\n",
            "26:\tlearn: 0.7131852\ttest: 0.7054000\tbest: 0.7054000 (26)\ttotal: 3.11s\tremaining: 19m 10s\n",
            "27:\tlearn: 0.7135333\ttest: 0.7064000\tbest: 0.7064000 (27)\ttotal: 3.21s\tremaining: 19m 4s\n",
            "28:\tlearn: 0.7149333\ttest: 0.7066000\tbest: 0.7066000 (28)\ttotal: 3.3s\tremaining: 18m 54s\n",
            "29:\tlearn: 0.7159481\ttest: 0.7077333\tbest: 0.7077333 (29)\ttotal: 3.39s\tremaining: 18m 47s\n",
            "30:\tlearn: 0.7167704\ttest: 0.7079333\tbest: 0.7079333 (30)\ttotal: 3.52s\tremaining: 18m 50s\n",
            "31:\tlearn: 0.7175778\ttest: 0.7089333\tbest: 0.7089333 (31)\ttotal: 3.63s\tremaining: 18m 52s\n",
            "32:\tlearn: 0.7189630\ttest: 0.7099333\tbest: 0.7099333 (32)\ttotal: 3.72s\tremaining: 18m 44s\n",
            "33:\tlearn: 0.7192222\ttest: 0.7108000\tbest: 0.7108000 (33)\ttotal: 3.83s\tremaining: 18m 42s\n",
            "34:\tlearn: 0.7200296\ttest: 0.7110000\tbest: 0.7110000 (34)\ttotal: 3.95s\tremaining: 18m 43s\n",
            "35:\tlearn: 0.7207259\ttest: 0.7115333\tbest: 0.7115333 (35)\ttotal: 4.04s\tremaining: 18m 38s\n",
            "36:\tlearn: 0.7214667\ttest: 0.7117333\tbest: 0.7117333 (36)\ttotal: 4.14s\tremaining: 18m 33s\n",
            "37:\tlearn: 0.7225481\ttest: 0.7134000\tbest: 0.7134000 (37)\ttotal: 4.24s\tremaining: 18m 31s\n",
            "38:\tlearn: 0.7234667\ttest: 0.7138667\tbest: 0.7138667 (38)\ttotal: 4.32s\tremaining: 18m 24s\n",
            "39:\tlearn: 0.7240593\ttest: 0.7149333\tbest: 0.7149333 (39)\ttotal: 4.43s\tremaining: 18m 24s\n",
            "40:\tlearn: 0.7247630\ttest: 0.7169333\tbest: 0.7169333 (40)\ttotal: 4.54s\tremaining: 18m 22s\n",
            "41:\tlearn: 0.7251778\ttest: 0.7170000\tbest: 0.7170000 (41)\ttotal: 4.64s\tremaining: 18m 19s\n",
            "42:\tlearn: 0.7257556\ttest: 0.7174000\tbest: 0.7174000 (42)\ttotal: 4.73s\tremaining: 18m 14s\n",
            "43:\tlearn: 0.7262889\ttest: 0.7182667\tbest: 0.7182667 (43)\ttotal: 4.86s\tremaining: 18m 19s\n",
            "44:\tlearn: 0.7270222\ttest: 0.7189333\tbest: 0.7189333 (44)\ttotal: 4.95s\tremaining: 18m 15s\n",
            "45:\tlearn: 0.7274000\ttest: 0.7196000\tbest: 0.7196000 (45)\ttotal: 5.05s\tremaining: 18m 13s\n",
            "46:\tlearn: 0.7281481\ttest: 0.7198667\tbest: 0.7198667 (46)\ttotal: 5.15s\tremaining: 18m 10s\n",
            "47:\tlearn: 0.7288667\ttest: 0.7210667\tbest: 0.7210667 (47)\ttotal: 5.25s\tremaining: 18m 9s\n",
            "48:\tlearn: 0.7291852\ttest: 0.7212000\tbest: 0.7212000 (48)\ttotal: 5.34s\tremaining: 18m 4s\n",
            "49:\tlearn: 0.7296741\ttest: 0.7216000\tbest: 0.7216000 (49)\ttotal: 5.45s\tremaining: 18m 4s\n",
            "50:\tlearn: 0.7304519\ttest: 0.7220000\tbest: 0.7220000 (50)\ttotal: 5.55s\tremaining: 18m 1s\n",
            "51:\tlearn: 0.7307407\ttest: 0.7226000\tbest: 0.7226000 (51)\ttotal: 5.64s\tremaining: 17m 58s\n",
            "52:\tlearn: 0.7315259\ttest: 0.7232667\tbest: 0.7232667 (52)\ttotal: 5.74s\tremaining: 17m 57s\n",
            "53:\tlearn: 0.7317407\ttest: 0.7235333\tbest: 0.7235333 (53)\ttotal: 5.85s\tremaining: 17m 56s\n",
            "54:\tlearn: 0.7321185\ttest: 0.7240667\tbest: 0.7240667 (54)\ttotal: 5.93s\tremaining: 17m 53s\n",
            "55:\tlearn: 0.7325111\ttest: 0.7244000\tbest: 0.7244000 (55)\ttotal: 6.02s\tremaining: 17m 49s\n",
            "56:\tlearn: 0.7330741\ttest: 0.7244667\tbest: 0.7244667 (56)\ttotal: 6.12s\tremaining: 17m 46s\n",
            "57:\tlearn: 0.7334000\ttest: 0.7245333\tbest: 0.7245333 (57)\ttotal: 6.2s\tremaining: 17m 42s\n",
            "58:\tlearn: 0.7340074\ttest: 0.7245333\tbest: 0.7245333 (57)\ttotal: 6.29s\tremaining: 17m 39s\n",
            "59:\tlearn: 0.7343407\ttest: 0.7247333\tbest: 0.7247333 (59)\ttotal: 6.39s\tremaining: 17m 38s\n",
            "60:\tlearn: 0.7348889\ttest: 0.7252667\tbest: 0.7252667 (60)\ttotal: 6.48s\tremaining: 17m 36s\n",
            "61:\tlearn: 0.7352593\ttest: 0.7252667\tbest: 0.7252667 (60)\ttotal: 6.58s\tremaining: 17m 35s\n",
            "62:\tlearn: 0.7357630\ttest: 0.7264667\tbest: 0.7264667 (62)\ttotal: 6.71s\tremaining: 17m 39s\n",
            "63:\tlearn: 0.7360370\ttest: 0.7272000\tbest: 0.7272000 (63)\ttotal: 6.85s\tremaining: 17m 43s\n",
            "64:\tlearn: 0.7364148\ttest: 0.7276667\tbest: 0.7276667 (64)\ttotal: 6.95s\tremaining: 17m 42s\n",
            "65:\tlearn: 0.7366074\ttest: 0.7280667\tbest: 0.7280667 (65)\ttotal: 7.05s\tremaining: 17m 41s\n",
            "66:\tlearn: 0.7372667\ttest: 0.7280000\tbest: 0.7280667 (65)\ttotal: 7.15s\tremaining: 17m 40s\n",
            "67:\tlearn: 0.7377481\ttest: 0.7288667\tbest: 0.7288667 (67)\ttotal: 7.24s\tremaining: 17m 38s\n",
            "68:\tlearn: 0.7378593\ttest: 0.7291333\tbest: 0.7291333 (68)\ttotal: 7.34s\tremaining: 17m 36s\n",
            "69:\tlearn: 0.7381630\ttest: 0.7292000\tbest: 0.7292000 (69)\ttotal: 7.44s\tremaining: 17m 35s\n",
            "70:\tlearn: 0.7383630\ttest: 0.7293333\tbest: 0.7293333 (70)\ttotal: 7.54s\tremaining: 17m 35s\n",
            "71:\tlearn: 0.7389630\ttest: 0.7298000\tbest: 0.7298000 (71)\ttotal: 7.67s\tremaining: 17m 38s\n",
            "72:\tlearn: 0.7393926\ttest: 0.7299333\tbest: 0.7299333 (72)\ttotal: 7.76s\tremaining: 17m 35s\n",
            "73:\tlearn: 0.7398444\ttest: 0.7301333\tbest: 0.7301333 (73)\ttotal: 7.86s\tremaining: 17m 34s\n",
            "74:\tlearn: 0.7402296\ttest: 0.7312000\tbest: 0.7312000 (74)\ttotal: 7.97s\tremaining: 17m 34s\n",
            "75:\tlearn: 0.7403778\ttest: 0.7308667\tbest: 0.7312000 (74)\ttotal: 8.05s\tremaining: 17m 31s\n",
            "76:\tlearn: 0.7406000\ttest: 0.7311333\tbest: 0.7312000 (74)\ttotal: 8.15s\tremaining: 17m 30s\n",
            "77:\tlearn: 0.7410815\ttest: 0.7312000\tbest: 0.7312000 (74)\ttotal: 8.27s\tremaining: 17m 31s\n",
            "78:\tlearn: 0.7413259\ttest: 0.7316667\tbest: 0.7316667 (78)\ttotal: 8.36s\tremaining: 17m 29s\n",
            "79:\tlearn: 0.7415185\ttest: 0.7321333\tbest: 0.7321333 (79)\ttotal: 8.45s\tremaining: 17m 27s\n",
            "80:\tlearn: 0.7419037\ttest: 0.7322000\tbest: 0.7322000 (80)\ttotal: 8.53s\tremaining: 17m 25s\n",
            "81:\tlearn: 0.7422889\ttest: 0.7325333\tbest: 0.7325333 (81)\ttotal: 8.64s\tremaining: 17m 25s\n",
            "82:\tlearn: 0.7426074\ttest: 0.7332000\tbest: 0.7332000 (82)\ttotal: 8.74s\tremaining: 17m 24s\n",
            "83:\tlearn: 0.7430000\ttest: 0.7339333\tbest: 0.7339333 (83)\ttotal: 8.82s\tremaining: 17m 21s\n",
            "84:\tlearn: 0.7433704\ttest: 0.7344000\tbest: 0.7344000 (84)\ttotal: 8.9s\tremaining: 17m 18s\n",
            "85:\tlearn: 0.7438370\ttest: 0.7349333\tbest: 0.7349333 (85)\ttotal: 8.98s\tremaining: 17m 15s\n",
            "86:\tlearn: 0.7440519\ttest: 0.7346000\tbest: 0.7349333 (85)\ttotal: 9.07s\tremaining: 17m 13s\n",
            "87:\tlearn: 0.7442000\ttest: 0.7344667\tbest: 0.7349333 (85)\ttotal: 9.15s\tremaining: 17m 10s\n",
            "88:\tlearn: 0.7444222\ttest: 0.7348000\tbest: 0.7349333 (85)\ttotal: 9.24s\tremaining: 17m 9s\n",
            "89:\tlearn: 0.7447037\ttest: 0.7350667\tbest: 0.7350667 (89)\ttotal: 9.34s\tremaining: 17m 8s\n",
            "90:\tlearn: 0.7449556\ttest: 0.7351333\tbest: 0.7351333 (90)\ttotal: 9.44s\tremaining: 17m 8s\n",
            "91:\tlearn: 0.7450370\ttest: 0.7354667\tbest: 0.7354667 (91)\ttotal: 9.55s\tremaining: 17m 8s\n",
            "92:\tlearn: 0.7454889\ttest: 0.7357333\tbest: 0.7357333 (92)\ttotal: 9.66s\tremaining: 17m 9s\n",
            "93:\tlearn: 0.7457037\ttest: 0.7362667\tbest: 0.7362667 (93)\ttotal: 9.76s\tremaining: 17m 8s\n",
            "94:\tlearn: 0.7458889\ttest: 0.7360667\tbest: 0.7362667 (93)\ttotal: 9.85s\tremaining: 17m 6s\n",
            "95:\tlearn: 0.7462444\ttest: 0.7369333\tbest: 0.7369333 (95)\ttotal: 9.94s\tremaining: 17m 5s\n",
            "96:\tlearn: 0.7465407\ttest: 0.7367333\tbest: 0.7369333 (95)\ttotal: 10s\tremaining: 17m 3s\n",
            "97:\tlearn: 0.7465333\ttest: 0.7368000\tbest: 0.7369333 (95)\ttotal: 10.1s\tremaining: 17m 3s\n",
            "98:\tlearn: 0.7466889\ttest: 0.7370000\tbest: 0.7370000 (98)\ttotal: 10.2s\tremaining: 17m 3s\n",
            "99:\tlearn: 0.7468963\ttest: 0.7370667\tbest: 0.7370667 (99)\ttotal: 10.3s\tremaining: 17m 2s\n",
            "100:\tlearn: 0.7472222\ttest: 0.7372000\tbest: 0.7372000 (100)\ttotal: 10.4s\tremaining: 17m 1s\n",
            "101:\tlearn: 0.7473778\ttest: 0.7378000\tbest: 0.7378000 (101)\ttotal: 10.5s\tremaining: 16m 59s\n",
            "102:\tlearn: 0.7476667\ttest: 0.7376667\tbest: 0.7378000 (101)\ttotal: 10.6s\tremaining: 16m 58s\n",
            "103:\tlearn: 0.7479926\ttest: 0.7381333\tbest: 0.7381333 (103)\ttotal: 10.7s\tremaining: 16m 58s\n",
            "104:\tlearn: 0.7479407\ttest: 0.7386000\tbest: 0.7386000 (104)\ttotal: 10.8s\tremaining: 16m 56s\n",
            "105:\tlearn: 0.7480148\ttest: 0.7388000\tbest: 0.7388000 (105)\ttotal: 10.9s\tremaining: 16m 55s\n",
            "106:\tlearn: 0.7483481\ttest: 0.7388667\tbest: 0.7388667 (106)\ttotal: 11s\tremaining: 16m 54s\n",
            "107:\tlearn: 0.7484593\ttest: 0.7390667\tbest: 0.7390667 (107)\ttotal: 11.1s\tremaining: 16m 53s\n",
            "108:\tlearn: 0.7487111\ttest: 0.7394667\tbest: 0.7394667 (108)\ttotal: 11.2s\tremaining: 16m 52s\n",
            "109:\tlearn: 0.7489852\ttest: 0.7396000\tbest: 0.7396000 (109)\ttotal: 11.2s\tremaining: 16m 50s\n",
            "110:\tlearn: 0.7493333\ttest: 0.7392667\tbest: 0.7396000 (109)\ttotal: 11.3s\tremaining: 16m 50s\n",
            "111:\tlearn: 0.7496519\ttest: 0.7397333\tbest: 0.7397333 (111)\ttotal: 11.5s\tremaining: 16m 51s\n",
            "112:\tlearn: 0.7496593\ttest: 0.7400000\tbest: 0.7400000 (112)\ttotal: 11.6s\tremaining: 16m 51s\n",
            "113:\tlearn: 0.7499259\ttest: 0.7401333\tbest: 0.7401333 (113)\ttotal: 11.7s\tremaining: 16m 50s\n",
            "114:\tlearn: 0.7500519\ttest: 0.7400667\tbest: 0.7401333 (113)\ttotal: 11.8s\tremaining: 16m 52s\n",
            "115:\tlearn: 0.7502593\ttest: 0.7406000\tbest: 0.7406000 (115)\ttotal: 11.9s\tremaining: 16m 51s\n",
            "116:\tlearn: 0.7504370\ttest: 0.7406000\tbest: 0.7406000 (115)\ttotal: 12s\tremaining: 16m 50s\n",
            "117:\tlearn: 0.7505630\ttest: 0.7412667\tbest: 0.7412667 (117)\ttotal: 12.1s\tremaining: 16m 51s\n",
            "118:\tlearn: 0.7505778\ttest: 0.7416667\tbest: 0.7416667 (118)\ttotal: 12.2s\tremaining: 16m 50s\n",
            "119:\tlearn: 0.7507185\ttest: 0.7412667\tbest: 0.7416667 (118)\ttotal: 12.3s\tremaining: 16m 48s\n",
            "120:\tlearn: 0.7507481\ttest: 0.7413333\tbest: 0.7416667 (118)\ttotal: 12.3s\tremaining: 16m 48s\n",
            "121:\tlearn: 0.7511185\ttest: 0.7416000\tbest: 0.7416667 (118)\ttotal: 12.4s\tremaining: 16m 46s\n",
            "122:\tlearn: 0.7513704\ttest: 0.7415333\tbest: 0.7416667 (118)\ttotal: 12.5s\tremaining: 16m 45s\n",
            "123:\tlearn: 0.7513704\ttest: 0.7414667\tbest: 0.7416667 (118)\ttotal: 12.6s\tremaining: 16m 45s\n",
            "124:\tlearn: 0.7515481\ttest: 0.7414000\tbest: 0.7416667 (118)\ttotal: 12.7s\tremaining: 16m 44s\n",
            "125:\tlearn: 0.7515778\ttest: 0.7415333\tbest: 0.7416667 (118)\ttotal: 12.8s\tremaining: 16m 43s\n",
            "126:\tlearn: 0.7516889\ttest: 0.7416667\tbest: 0.7416667 (118)\ttotal: 12.9s\tremaining: 16m 44s\n",
            "127:\tlearn: 0.7519407\ttest: 0.7414000\tbest: 0.7416667 (118)\ttotal: 13s\tremaining: 16m 43s\n",
            "128:\tlearn: 0.7522667\ttest: 0.7416667\tbest: 0.7416667 (118)\ttotal: 13.1s\tremaining: 16m 42s\n",
            "129:\tlearn: 0.7524741\ttest: 0.7421333\tbest: 0.7421333 (129)\ttotal: 13.2s\tremaining: 16m 40s\n",
            "130:\tlearn: 0.7525926\ttest: 0.7423333\tbest: 0.7423333 (130)\ttotal: 13.3s\tremaining: 16m 40s\n",
            "131:\tlearn: 0.7527630\ttest: 0.7420000\tbest: 0.7423333 (130)\ttotal: 13.4s\tremaining: 16m 38s\n",
            "132:\tlearn: 0.7528741\ttest: 0.7426000\tbest: 0.7426000 (132)\ttotal: 13.5s\tremaining: 16m 38s\n",
            "133:\tlearn: 0.7529926\ttest: 0.7426000\tbest: 0.7426000 (132)\ttotal: 13.5s\tremaining: 16m 36s\n",
            "134:\tlearn: 0.7530667\ttest: 0.7422667\tbest: 0.7426000 (132)\ttotal: 13.6s\tremaining: 16m 36s\n",
            "135:\tlearn: 0.7532889\ttest: 0.7426000\tbest: 0.7426000 (132)\ttotal: 13.7s\tremaining: 16m 36s\n",
            "136:\tlearn: 0.7534593\ttest: 0.7422667\tbest: 0.7426000 (132)\ttotal: 13.8s\tremaining: 16m 35s\n",
            "137:\tlearn: 0.7533778\ttest: 0.7421333\tbest: 0.7426000 (132)\ttotal: 13.9s\tremaining: 16m 34s\n",
            "138:\tlearn: 0.7535407\ttest: 0.7422667\tbest: 0.7426000 (132)\ttotal: 14s\tremaining: 16m 33s\n",
            "139:\tlearn: 0.7537037\ttest: 0.7423333\tbest: 0.7426000 (132)\ttotal: 14.1s\tremaining: 16m 32s\n",
            "140:\tlearn: 0.7538593\ttest: 0.7427333\tbest: 0.7427333 (140)\ttotal: 14.2s\tremaining: 16m 31s\n",
            "141:\tlearn: 0.7539926\ttest: 0.7428000\tbest: 0.7428000 (141)\ttotal: 14.3s\tremaining: 16m 31s\n",
            "142:\tlearn: 0.7540815\ttest: 0.7434667\tbest: 0.7434667 (142)\ttotal: 14.4s\tremaining: 16m 29s\n",
            "143:\tlearn: 0.7541926\ttest: 0.7436667\tbest: 0.7436667 (143)\ttotal: 14.5s\tremaining: 16m 29s\n",
            "144:\tlearn: 0.7542667\ttest: 0.7437333\tbest: 0.7437333 (144)\ttotal: 14.5s\tremaining: 16m 28s\n",
            "145:\tlearn: 0.7543556\ttest: 0.7436000\tbest: 0.7437333 (144)\ttotal: 14.6s\tremaining: 16m 28s\n",
            "146:\tlearn: 0.7544667\ttest: 0.7437333\tbest: 0.7437333 (144)\ttotal: 14.7s\tremaining: 16m 27s\n",
            "147:\tlearn: 0.7545852\ttest: 0.7442000\tbest: 0.7442000 (147)\ttotal: 14.8s\tremaining: 16m 27s\n",
            "148:\tlearn: 0.7547111\ttest: 0.7442667\tbest: 0.7442667 (148)\ttotal: 14.9s\tremaining: 16m 25s\n",
            "149:\tlearn: 0.7548889\ttest: 0.7442000\tbest: 0.7442667 (148)\ttotal: 15s\tremaining: 16m 24s\n",
            "150:\tlearn: 0.7549704\ttest: 0.7444667\tbest: 0.7444667 (150)\ttotal: 15.1s\tremaining: 16m 23s\n",
            "151:\tlearn: 0.7551333\ttest: 0.7447333\tbest: 0.7447333 (151)\ttotal: 15.2s\tremaining: 16m 23s\n",
            "152:\tlearn: 0.7553407\ttest: 0.7447333\tbest: 0.7447333 (151)\ttotal: 15.3s\tremaining: 16m 22s\n",
            "153:\tlearn: 0.7554815\ttest: 0.7448667\tbest: 0.7448667 (153)\ttotal: 15.4s\tremaining: 16m 22s\n",
            "154:\tlearn: 0.7556296\ttest: 0.7448000\tbest: 0.7448667 (153)\ttotal: 15.5s\tremaining: 16m 21s\n",
            "155:\tlearn: 0.7558000\ttest: 0.7449333\tbest: 0.7449333 (155)\ttotal: 15.5s\tremaining: 16m 20s\n",
            "156:\tlearn: 0.7558519\ttest: 0.7449333\tbest: 0.7449333 (155)\ttotal: 15.6s\tremaining: 16m 21s\n",
            "157:\tlearn: 0.7558889\ttest: 0.7448667\tbest: 0.7449333 (155)\ttotal: 15.8s\tremaining: 16m 22s\n",
            "158:\tlearn: 0.7558593\ttest: 0.7449333\tbest: 0.7449333 (155)\ttotal: 15.9s\tremaining: 16m 21s\n",
            "159:\tlearn: 0.7560296\ttest: 0.7452000\tbest: 0.7452000 (159)\ttotal: 15.9s\tremaining: 16m 20s\n",
            "160:\tlearn: 0.7561630\ttest: 0.7452000\tbest: 0.7452000 (159)\ttotal: 16s\tremaining: 16m 20s\n",
            "161:\tlearn: 0.7563481\ttest: 0.7454667\tbest: 0.7454667 (161)\ttotal: 16.1s\tremaining: 16m 19s\n",
            "162:\tlearn: 0.7563926\ttest: 0.7450000\tbest: 0.7454667 (161)\ttotal: 16.2s\tremaining: 16m 19s\n",
            "163:\tlearn: 0.7565926\ttest: 0.7451333\tbest: 0.7454667 (161)\ttotal: 16.3s\tremaining: 16m 18s\n",
            "164:\tlearn: 0.7567852\ttest: 0.7452000\tbest: 0.7454667 (161)\ttotal: 16.4s\tremaining: 16m 17s\n",
            "165:\tlearn: 0.7567778\ttest: 0.7451333\tbest: 0.7454667 (161)\ttotal: 16.5s\tremaining: 16m 16s\n",
            "166:\tlearn: 0.7569556\ttest: 0.7456667\tbest: 0.7456667 (166)\ttotal: 16.6s\tremaining: 16m 15s\n",
            "167:\tlearn: 0.7569852\ttest: 0.7457333\tbest: 0.7457333 (167)\ttotal: 16.7s\tremaining: 16m 14s\n",
            "168:\tlearn: 0.7570667\ttest: 0.7457333\tbest: 0.7457333 (167)\ttotal: 16.7s\tremaining: 16m 14s\n",
            "169:\tlearn: 0.7573556\ttest: 0.7462000\tbest: 0.7462000 (169)\ttotal: 16.8s\tremaining: 16m 13s\n",
            "170:\tlearn: 0.7575333\ttest: 0.7460000\tbest: 0.7462000 (169)\ttotal: 16.9s\tremaining: 16m 12s\n",
            "171:\tlearn: 0.7576074\ttest: 0.7460667\tbest: 0.7462000 (169)\ttotal: 17s\tremaining: 16m 12s\n",
            "172:\tlearn: 0.7577407\ttest: 0.7460667\tbest: 0.7462000 (169)\ttotal: 17.1s\tremaining: 16m 12s\n",
            "173:\tlearn: 0.7578370\ttest: 0.7464667\tbest: 0.7464667 (173)\ttotal: 17.2s\tremaining: 16m 12s\n",
            "174:\tlearn: 0.7579481\ttest: 0.7462000\tbest: 0.7464667 (173)\ttotal: 17.3s\tremaining: 16m 12s\n",
            "175:\tlearn: 0.7579852\ttest: 0.7466000\tbest: 0.7466000 (175)\ttotal: 17.4s\tremaining: 16m 12s\n",
            "176:\tlearn: 0.7581333\ttest: 0.7468000\tbest: 0.7468000 (176)\ttotal: 17.5s\tremaining: 16m 11s\n",
            "177:\tlearn: 0.7582222\ttest: 0.7468667\tbest: 0.7468667 (177)\ttotal: 17.6s\tremaining: 16m 10s\n",
            "178:\tlearn: 0.7583259\ttest: 0.7466000\tbest: 0.7468667 (177)\ttotal: 17.7s\tremaining: 16m 11s\n",
            "179:\tlearn: 0.7583111\ttest: 0.7469333\tbest: 0.7469333 (179)\ttotal: 17.8s\tremaining: 16m 11s\n",
            "180:\tlearn: 0.7583556\ttest: 0.7472000\tbest: 0.7472000 (180)\ttotal: 17.9s\tremaining: 16m 10s\n",
            "181:\tlearn: 0.7585037\ttest: 0.7475333\tbest: 0.7475333 (181)\ttotal: 18s\tremaining: 16m 10s\n",
            "182:\tlearn: 0.7588222\ttest: 0.7474667\tbest: 0.7475333 (181)\ttotal: 18.1s\tremaining: 16m 11s\n",
            "183:\tlearn: 0.7589778\ttest: 0.7480667\tbest: 0.7480667 (183)\ttotal: 18.2s\tremaining: 16m 10s\n",
            "184:\tlearn: 0.7590222\ttest: 0.7479333\tbest: 0.7480667 (183)\ttotal: 18.3s\tremaining: 16m 10s\n",
            "185:\tlearn: 0.7591630\ttest: 0.7484667\tbest: 0.7484667 (185)\ttotal: 18.4s\tremaining: 16m 10s\n",
            "186:\tlearn: 0.7593556\ttest: 0.7484667\tbest: 0.7484667 (185)\ttotal: 18.5s\tremaining: 16m 10s\n",
            "187:\tlearn: 0.7594741\ttest: 0.7480000\tbest: 0.7484667 (185)\ttotal: 18.6s\tremaining: 16m 9s\n",
            "188:\tlearn: 0.7596148\ttest: 0.7480667\tbest: 0.7484667 (185)\ttotal: 18.7s\tremaining: 16m 10s\n",
            "189:\tlearn: 0.7598667\ttest: 0.7482000\tbest: 0.7484667 (185)\ttotal: 18.8s\tremaining: 16m 9s\n",
            "190:\tlearn: 0.7601037\ttest: 0.7483333\tbest: 0.7484667 (185)\ttotal: 18.9s\tremaining: 16m 9s\n",
            "191:\tlearn: 0.7603037\ttest: 0.7486000\tbest: 0.7486000 (191)\ttotal: 19s\tremaining: 16m 9s\n",
            "192:\tlearn: 0.7604667\ttest: 0.7485333\tbest: 0.7486000 (191)\ttotal: 19.1s\tremaining: 16m 8s\n",
            "193:\tlearn: 0.7605481\ttest: 0.7483333\tbest: 0.7486000 (191)\ttotal: 19.2s\tremaining: 16m 8s\n",
            "194:\tlearn: 0.7606741\ttest: 0.7482667\tbest: 0.7486000 (191)\ttotal: 19.2s\tremaining: 16m 7s\n",
            "195:\tlearn: 0.7606815\ttest: 0.7478000\tbest: 0.7486000 (191)\ttotal: 19.3s\tremaining: 16m 6s\n",
            "196:\tlearn: 0.7607037\ttest: 0.7480667\tbest: 0.7486000 (191)\ttotal: 19.4s\tremaining: 16m 7s\n",
            "197:\tlearn: 0.7607778\ttest: 0.7476667\tbest: 0.7486000 (191)\ttotal: 19.5s\tremaining: 16m 7s\n",
            "198:\tlearn: 0.7608667\ttest: 0.7478667\tbest: 0.7486000 (191)\ttotal: 19.6s\tremaining: 16m 6s\n",
            "199:\tlearn: 0.7609481\ttest: 0.7484667\tbest: 0.7486000 (191)\ttotal: 19.7s\tremaining: 16m 5s\n",
            "200:\tlearn: 0.7609556\ttest: 0.7484667\tbest: 0.7486000 (191)\ttotal: 19.8s\tremaining: 16m 5s\n",
            "201:\tlearn: 0.7610667\ttest: 0.7482000\tbest: 0.7486000 (191)\ttotal: 19.9s\tremaining: 16m 5s\n",
            "202:\tlearn: 0.7611852\ttest: 0.7485333\tbest: 0.7486000 (191)\ttotal: 20s\tremaining: 16m 4s\n",
            "203:\tlearn: 0.7613333\ttest: 0.7486000\tbest: 0.7486000 (191)\ttotal: 20.1s\tremaining: 16m 4s\n",
            "204:\tlearn: 0.7615185\ttest: 0.7484667\tbest: 0.7486000 (191)\ttotal: 20.2s\tremaining: 16m 4s\n",
            "205:\tlearn: 0.7615556\ttest: 0.7484667\tbest: 0.7486000 (191)\ttotal: 20.3s\tremaining: 16m 4s\n",
            "206:\tlearn: 0.7616222\ttest: 0.7489333\tbest: 0.7489333 (206)\ttotal: 20.4s\tremaining: 16m 3s\n",
            "207:\tlearn: 0.7617556\ttest: 0.7490000\tbest: 0.7490000 (207)\ttotal: 20.5s\tremaining: 16m 3s\n",
            "208:\tlearn: 0.7618889\ttest: 0.7493333\tbest: 0.7493333 (208)\ttotal: 20.6s\tremaining: 16m 3s\n",
            "209:\tlearn: 0.7619556\ttest: 0.7490000\tbest: 0.7493333 (208)\ttotal: 20.7s\tremaining: 16m 4s\n",
            "210:\tlearn: 0.7620815\ttest: 0.7492667\tbest: 0.7493333 (208)\ttotal: 20.8s\tremaining: 16m 4s\n",
            "211:\tlearn: 0.7622667\ttest: 0.7491333\tbest: 0.7493333 (208)\ttotal: 20.9s\tremaining: 16m 5s\n",
            "212:\tlearn: 0.7623037\ttest: 0.7491333\tbest: 0.7493333 (208)\ttotal: 21s\tremaining: 16m 4s\n",
            "213:\tlearn: 0.7624444\ttest: 0.7489333\tbest: 0.7493333 (208)\ttotal: 21.1s\tremaining: 16m 5s\n",
            "214:\tlearn: 0.7624444\ttest: 0.7488667\tbest: 0.7493333 (208)\ttotal: 21.2s\tremaining: 16m 4s\n",
            "215:\tlearn: 0.7624889\ttest: 0.7490667\tbest: 0.7493333 (208)\ttotal: 21.3s\tremaining: 16m 4s\n",
            "216:\tlearn: 0.7624963\ttest: 0.7496000\tbest: 0.7496000 (216)\ttotal: 21.4s\tremaining: 16m 3s\n",
            "217:\tlearn: 0.7626889\ttest: 0.7496667\tbest: 0.7496667 (217)\ttotal: 21.4s\tremaining: 16m 2s\n",
            "218:\tlearn: 0.7627111\ttest: 0.7498000\tbest: 0.7498000 (218)\ttotal: 21.5s\tremaining: 16m 1s\n",
            "219:\tlearn: 0.7628000\ttest: 0.7495333\tbest: 0.7498000 (218)\ttotal: 21.6s\tremaining: 16m 1s\n",
            "220:\tlearn: 0.7629259\ttest: 0.7496667\tbest: 0.7498000 (218)\ttotal: 21.7s\tremaining: 16m 1s\n",
            "221:\tlearn: 0.7629630\ttest: 0.7497333\tbest: 0.7498000 (218)\ttotal: 21.8s\tremaining: 16m\n",
            "222:\tlearn: 0.7629556\ttest: 0.7498000\tbest: 0.7498000 (218)\ttotal: 21.9s\tremaining: 16m\n",
            "223:\tlearn: 0.7630593\ttest: 0.7498667\tbest: 0.7498667 (223)\ttotal: 22s\tremaining: 15m 59s\n",
            "224:\tlearn: 0.7632370\ttest: 0.7498000\tbest: 0.7498667 (223)\ttotal: 22.1s\tremaining: 15m 59s\n",
            "225:\tlearn: 0.7634444\ttest: 0.7498000\tbest: 0.7498667 (223)\ttotal: 22.2s\tremaining: 15m 59s\n",
            "226:\tlearn: 0.7634815\ttest: 0.7498667\tbest: 0.7498667 (223)\ttotal: 22.3s\tremaining: 15m 58s\n",
            "227:\tlearn: 0.7636296\ttest: 0.7500667\tbest: 0.7500667 (227)\ttotal: 22.4s\tremaining: 15m 59s\n",
            "228:\tlearn: 0.7637111\ttest: 0.7503333\tbest: 0.7503333 (228)\ttotal: 22.5s\tremaining: 15m 58s\n",
            "229:\tlearn: 0.7637259\ttest: 0.7503333\tbest: 0.7503333 (228)\ttotal: 22.6s\tremaining: 15m 57s\n",
            "230:\tlearn: 0.7636889\ttest: 0.7505333\tbest: 0.7505333 (230)\ttotal: 22.6s\tremaining: 15m 57s\n",
            "231:\tlearn: 0.7637037\ttest: 0.7506000\tbest: 0.7506000 (231)\ttotal: 22.7s\tremaining: 15m 57s\n",
            "232:\tlearn: 0.7637778\ttest: 0.7505333\tbest: 0.7506000 (231)\ttotal: 22.8s\tremaining: 15m 57s\n",
            "233:\tlearn: 0.7638222\ttest: 0.7504667\tbest: 0.7506000 (231)\ttotal: 22.9s\tremaining: 15m 57s\n",
            "234:\tlearn: 0.7639259\ttest: 0.7504000\tbest: 0.7506000 (231)\ttotal: 23s\tremaining: 15m 57s\n",
            "235:\tlearn: 0.7641407\ttest: 0.7503333\tbest: 0.7506000 (231)\ttotal: 23.2s\tremaining: 15m 57s\n",
            "236:\tlearn: 0.7642074\ttest: 0.7503333\tbest: 0.7506000 (231)\ttotal: 23.2s\tremaining: 15m 57s\n",
            "237:\tlearn: 0.7643111\ttest: 0.7503333\tbest: 0.7506000 (231)\ttotal: 23.3s\tremaining: 15m 57s\n",
            "238:\tlearn: 0.7643333\ttest: 0.7506000\tbest: 0.7506000 (231)\ttotal: 23.4s\tremaining: 15m 56s\n",
            "239:\tlearn: 0.7643630\ttest: 0.7505333\tbest: 0.7506000 (231)\ttotal: 23.5s\tremaining: 15m 55s\n",
            "240:\tlearn: 0.7644296\ttest: 0.7505333\tbest: 0.7506000 (231)\ttotal: 23.6s\tremaining: 15m 55s\n",
            "241:\tlearn: 0.7645778\ttest: 0.7502667\tbest: 0.7506000 (231)\ttotal: 23.7s\tremaining: 15m 56s\n",
            "242:\tlearn: 0.7646148\ttest: 0.7499333\tbest: 0.7506000 (231)\ttotal: 23.8s\tremaining: 15m 56s\n",
            "243:\tlearn: 0.7647407\ttest: 0.7503333\tbest: 0.7506000 (231)\ttotal: 23.9s\tremaining: 15m 56s\n",
            "244:\tlearn: 0.7648519\ttest: 0.7502667\tbest: 0.7506000 (231)\ttotal: 24s\tremaining: 15m 55s\n",
            "245:\tlearn: 0.7650519\ttest: 0.7503333\tbest: 0.7506000 (231)\ttotal: 24.1s\tremaining: 15m 55s\n",
            "246:\tlearn: 0.7649852\ttest: 0.7504000\tbest: 0.7506000 (231)\ttotal: 24.2s\tremaining: 15m 54s\n",
            "247:\tlearn: 0.7651259\ttest: 0.7500667\tbest: 0.7506000 (231)\ttotal: 24.3s\tremaining: 15m 54s\n",
            "248:\tlearn: 0.7652148\ttest: 0.7497333\tbest: 0.7506000 (231)\ttotal: 24.4s\tremaining: 15m 54s\n",
            "249:\tlearn: 0.7652296\ttest: 0.7498000\tbest: 0.7506000 (231)\ttotal: 24.5s\tremaining: 15m 54s\n",
            "250:\tlearn: 0.7653852\ttest: 0.7500000\tbest: 0.7506000 (231)\ttotal: 24.6s\tremaining: 15m 53s\n",
            "251:\tlearn: 0.7655704\ttest: 0.7499333\tbest: 0.7506000 (231)\ttotal: 24.7s\tremaining: 15m 53s\n",
            "252:\tlearn: 0.7655111\ttest: 0.7504000\tbest: 0.7506000 (231)\ttotal: 24.7s\tremaining: 15m 53s\n",
            "253:\tlearn: 0.7655852\ttest: 0.7504000\tbest: 0.7506000 (231)\ttotal: 24.8s\tremaining: 15m 53s\n",
            "254:\tlearn: 0.7657037\ttest: 0.7504667\tbest: 0.7506000 (231)\ttotal: 24.9s\tremaining: 15m 53s\n",
            "255:\tlearn: 0.7658000\ttest: 0.7505333\tbest: 0.7506000 (231)\ttotal: 25s\tremaining: 15m 52s\n",
            "256:\tlearn: 0.7659037\ttest: 0.7503333\tbest: 0.7506000 (231)\ttotal: 25.1s\tremaining: 15m 52s\n",
            "257:\tlearn: 0.7661185\ttest: 0.7503333\tbest: 0.7506000 (231)\ttotal: 25.2s\tremaining: 15m 53s\n",
            "258:\tlearn: 0.7662296\ttest: 0.7499333\tbest: 0.7506000 (231)\ttotal: 25.3s\tremaining: 15m 53s\n",
            "259:\tlearn: 0.7661407\ttest: 0.7498000\tbest: 0.7506000 (231)\ttotal: 25.4s\tremaining: 15m 52s\n",
            "260:\tlearn: 0.7661630\ttest: 0.7499333\tbest: 0.7506000 (231)\ttotal: 25.5s\tremaining: 15m 52s\n",
            "261:\tlearn: 0.7662741\ttest: 0.7500000\tbest: 0.7506000 (231)\ttotal: 25.6s\tremaining: 15m 51s\n",
            "262:\tlearn: 0.7663185\ttest: 0.7503333\tbest: 0.7506000 (231)\ttotal: 25.7s\tremaining: 15m 51s\n",
            "263:\tlearn: 0.7664741\ttest: 0.7503333\tbest: 0.7506000 (231)\ttotal: 25.8s\tremaining: 15m 51s\n",
            "264:\tlearn: 0.7665037\ttest: 0.7501333\tbest: 0.7506000 (231)\ttotal: 25.9s\tremaining: 15m 50s\n",
            "265:\tlearn: 0.7666222\ttest: 0.7503333\tbest: 0.7506000 (231)\ttotal: 26s\tremaining: 15m 50s\n",
            "266:\tlearn: 0.7666296\ttest: 0.7504000\tbest: 0.7506000 (231)\ttotal: 26.1s\tremaining: 15m 49s\n",
            "267:\tlearn: 0.7666889\ttest: 0.7504000\tbest: 0.7506000 (231)\ttotal: 26.1s\tremaining: 15m 49s\n",
            "268:\tlearn: 0.7666444\ttest: 0.7507333\tbest: 0.7507333 (268)\ttotal: 26.2s\tremaining: 15m 49s\n",
            "269:\tlearn: 0.7668593\ttest: 0.7506667\tbest: 0.7507333 (268)\ttotal: 26.3s\tremaining: 15m 49s\n",
            "270:\tlearn: 0.7669407\ttest: 0.7505333\tbest: 0.7507333 (268)\ttotal: 26.4s\tremaining: 15m 48s\n",
            "271:\tlearn: 0.7670444\ttest: 0.7504667\tbest: 0.7507333 (268)\ttotal: 26.5s\tremaining: 15m 48s\n",
            "272:\tlearn: 0.7670963\ttest: 0.7507333\tbest: 0.7507333 (268)\ttotal: 26.6s\tremaining: 15m 47s\n",
            "273:\tlearn: 0.7671556\ttest: 0.7504000\tbest: 0.7507333 (268)\ttotal: 26.7s\tremaining: 15m 47s\n",
            "274:\tlearn: 0.7671778\ttest: 0.7506667\tbest: 0.7507333 (268)\ttotal: 26.8s\tremaining: 15m 47s\n",
            "275:\tlearn: 0.7673481\ttest: 0.7506000\tbest: 0.7507333 (268)\ttotal: 26.9s\tremaining: 15m 46s\n",
            "276:\tlearn: 0.7673481\ttest: 0.7510000\tbest: 0.7510000 (276)\ttotal: 27s\tremaining: 15m 47s\n",
            "277:\tlearn: 0.7672370\ttest: 0.7511333\tbest: 0.7511333 (277)\ttotal: 27.1s\tremaining: 15m 46s\n",
            "278:\tlearn: 0.7673630\ttest: 0.7513333\tbest: 0.7513333 (278)\ttotal: 27.1s\tremaining: 15m 45s\n",
            "279:\tlearn: 0.7674815\ttest: 0.7512000\tbest: 0.7513333 (278)\ttotal: 27.2s\tremaining: 15m 45s\n",
            "280:\tlearn: 0.7675185\ttest: 0.7514667\tbest: 0.7514667 (280)\ttotal: 27.3s\tremaining: 15m 44s\n",
            "281:\tlearn: 0.7675556\ttest: 0.7516000\tbest: 0.7516000 (281)\ttotal: 27.4s\tremaining: 15m 44s\n",
            "282:\tlearn: 0.7677037\ttest: 0.7512667\tbest: 0.7516000 (281)\ttotal: 27.5s\tremaining: 15m 44s\n",
            "283:\tlearn: 0.7676593\ttest: 0.7510667\tbest: 0.7516000 (281)\ttotal: 27.6s\tremaining: 15m 44s\n",
            "284:\tlearn: 0.7678815\ttest: 0.7512667\tbest: 0.7516000 (281)\ttotal: 27.7s\tremaining: 15m 44s\n",
            "285:\tlearn: 0.7678815\ttest: 0.7514667\tbest: 0.7516000 (281)\ttotal: 27.8s\tremaining: 15m 44s\n",
            "286:\tlearn: 0.7679111\ttest: 0.7515333\tbest: 0.7516000 (281)\ttotal: 27.9s\tremaining: 15m 43s\n",
            "287:\tlearn: 0.7680667\ttest: 0.7517333\tbest: 0.7517333 (287)\ttotal: 28s\tremaining: 15m 43s\n",
            "288:\tlearn: 0.7681556\ttest: 0.7517333\tbest: 0.7517333 (287)\ttotal: 28.1s\tremaining: 15m 43s\n",
            "289:\tlearn: 0.7681852\ttest: 0.7516667\tbest: 0.7517333 (287)\ttotal: 28.2s\tremaining: 15m 42s\n",
            "290:\tlearn: 0.7682593\ttest: 0.7520000\tbest: 0.7520000 (290)\ttotal: 28.3s\tremaining: 15m 42s\n",
            "291:\tlearn: 0.7682593\ttest: 0.7518667\tbest: 0.7520000 (290)\ttotal: 28.4s\tremaining: 15m 43s\n",
            "292:\tlearn: 0.7683481\ttest: 0.7517333\tbest: 0.7520000 (290)\ttotal: 28.5s\tremaining: 15m 42s\n",
            "293:\tlearn: 0.7684222\ttest: 0.7516667\tbest: 0.7520000 (290)\ttotal: 28.5s\tremaining: 15m 41s\n",
            "294:\tlearn: 0.7684815\ttest: 0.7517333\tbest: 0.7520000 (290)\ttotal: 28.6s\tremaining: 15m 41s\n",
            "295:\tlearn: 0.7684370\ttest: 0.7515333\tbest: 0.7520000 (290)\ttotal: 28.7s\tremaining: 15m 41s\n",
            "296:\tlearn: 0.7684889\ttest: 0.7516667\tbest: 0.7520000 (290)\ttotal: 28.8s\tremaining: 15m 41s\n",
            "297:\tlearn: 0.7686963\ttest: 0.7517333\tbest: 0.7520000 (290)\ttotal: 28.9s\tremaining: 15m 41s\n",
            "298:\tlearn: 0.7687852\ttest: 0.7517333\tbest: 0.7520000 (290)\ttotal: 29s\tremaining: 15m 41s\n",
            "299:\tlearn: 0.7687481\ttest: 0.7518000\tbest: 0.7520000 (290)\ttotal: 29.1s\tremaining: 15m 41s\n",
            "300:\tlearn: 0.7688815\ttest: 0.7518000\tbest: 0.7520000 (290)\ttotal: 29.2s\tremaining: 15m 40s\n",
            "301:\tlearn: 0.7689481\ttest: 0.7522667\tbest: 0.7522667 (301)\ttotal: 29.3s\tremaining: 15m 40s\n",
            "302:\tlearn: 0.7690222\ttest: 0.7523333\tbest: 0.7523333 (302)\ttotal: 29.4s\tremaining: 15m 40s\n",
            "303:\tlearn: 0.7690889\ttest: 0.7530667\tbest: 0.7530667 (303)\ttotal: 29.5s\tremaining: 15m 40s\n",
            "304:\tlearn: 0.7691704\ttest: 0.7523333\tbest: 0.7530667 (303)\ttotal: 29.6s\tremaining: 15m 40s\n",
            "305:\tlearn: 0.7691481\ttest: 0.7525333\tbest: 0.7530667 (303)\ttotal: 29.7s\tremaining: 15m 40s\n",
            "306:\tlearn: 0.7691852\ttest: 0.7524667\tbest: 0.7530667 (303)\ttotal: 29.8s\tremaining: 15m 40s\n",
            "307:\tlearn: 0.7692815\ttest: 0.7524667\tbest: 0.7530667 (303)\ttotal: 29.9s\tremaining: 15m 39s\n",
            "308:\tlearn: 0.7693704\ttest: 0.7526000\tbest: 0.7530667 (303)\ttotal: 30s\tremaining: 15m 39s\n",
            "309:\tlearn: 0.7694519\ttest: 0.7531333\tbest: 0.7531333 (309)\ttotal: 30.1s\tremaining: 15m 40s\n",
            "310:\tlearn: 0.7695852\ttest: 0.7530667\tbest: 0.7531333 (309)\ttotal: 30.2s\tremaining: 15m 40s\n",
            "311:\tlearn: 0.7697037\ttest: 0.7530667\tbest: 0.7531333 (309)\ttotal: 30.3s\tremaining: 15m 39s\n",
            "312:\tlearn: 0.7698370\ttest: 0.7528667\tbest: 0.7531333 (309)\ttotal: 30.4s\tremaining: 15m 39s\n",
            "313:\tlearn: 0.7698370\ttest: 0.7529333\tbest: 0.7531333 (309)\ttotal: 30.4s\tremaining: 15m 39s\n",
            "314:\tlearn: 0.7699556\ttest: 0.7530667\tbest: 0.7531333 (309)\ttotal: 30.5s\tremaining: 15m 38s\n",
            "315:\tlearn: 0.7700000\ttest: 0.7530000\tbest: 0.7531333 (309)\ttotal: 30.6s\tremaining: 15m 38s\n",
            "316:\tlearn: 0.7700370\ttest: 0.7530667\tbest: 0.7531333 (309)\ttotal: 30.7s\tremaining: 15m 37s\n",
            "317:\tlearn: 0.7700667\ttest: 0.7532667\tbest: 0.7532667 (317)\ttotal: 30.8s\tremaining: 15m 37s\n",
            "318:\tlearn: 0.7700963\ttest: 0.7532667\tbest: 0.7532667 (317)\ttotal: 30.9s\tremaining: 15m 37s\n",
            "319:\tlearn: 0.7701259\ttest: 0.7536000\tbest: 0.7536000 (319)\ttotal: 31s\tremaining: 15m 37s\n",
            "320:\tlearn: 0.7702000\ttest: 0.7536000\tbest: 0.7536000 (319)\ttotal: 31.1s\tremaining: 15m 37s\n",
            "321:\tlearn: 0.7701556\ttest: 0.7538000\tbest: 0.7538000 (321)\ttotal: 31.2s\tremaining: 15m 37s\n",
            "322:\tlearn: 0.7703111\ttest: 0.7537333\tbest: 0.7538000 (321)\ttotal: 31.3s\tremaining: 15m 37s\n",
            "323:\tlearn: 0.7704000\ttest: 0.7532667\tbest: 0.7538000 (321)\ttotal: 31.4s\tremaining: 15m 36s\n",
            "324:\tlearn: 0.7704296\ttest: 0.7531333\tbest: 0.7538000 (321)\ttotal: 31.5s\tremaining: 15m 37s\n",
            "325:\tlearn: 0.7704148\ttest: 0.7533333\tbest: 0.7538000 (321)\ttotal: 31.6s\tremaining: 15m 36s\n",
            "326:\tlearn: 0.7703333\ttest: 0.7532000\tbest: 0.7538000 (321)\ttotal: 31.7s\tremaining: 15m 36s\n",
            "327:\tlearn: 0.7705111\ttest: 0.7529333\tbest: 0.7538000 (321)\ttotal: 31.8s\tremaining: 15m 36s\n",
            "328:\tlearn: 0.7704963\ttest: 0.7531333\tbest: 0.7538000 (321)\ttotal: 31.9s\tremaining: 15m 36s\n",
            "329:\tlearn: 0.7705407\ttest: 0.7530000\tbest: 0.7538000 (321)\ttotal: 31.9s\tremaining: 15m 36s\n",
            "330:\tlearn: 0.7705630\ttest: 0.7531333\tbest: 0.7538000 (321)\ttotal: 32s\tremaining: 15m 36s\n",
            "331:\tlearn: 0.7706222\ttest: 0.7530667\tbest: 0.7538000 (321)\ttotal: 32.1s\tremaining: 15m 36s\n",
            "332:\tlearn: 0.7706444\ttest: 0.7533333\tbest: 0.7538000 (321)\ttotal: 32.2s\tremaining: 15m 36s\n",
            "333:\tlearn: 0.7707259\ttest: 0.7532000\tbest: 0.7538000 (321)\ttotal: 32.3s\tremaining: 15m 35s\n",
            "334:\tlearn: 0.7707852\ttest: 0.7533333\tbest: 0.7538000 (321)\ttotal: 32.4s\tremaining: 15m 35s\n",
            "335:\tlearn: 0.7707926\ttest: 0.7537333\tbest: 0.7538000 (321)\ttotal: 32.5s\tremaining: 15m 35s\n",
            "336:\tlearn: 0.7708222\ttest: 0.7535333\tbest: 0.7538000 (321)\ttotal: 32.6s\tremaining: 15m 35s\n",
            "337:\tlearn: 0.7710296\ttest: 0.7536000\tbest: 0.7538000 (321)\ttotal: 32.7s\tremaining: 15m 35s\n",
            "338:\tlearn: 0.7710370\ttest: 0.7535333\tbest: 0.7538000 (321)\ttotal: 32.8s\tremaining: 15m 35s\n",
            "339:\tlearn: 0.7711407\ttest: 0.7534000\tbest: 0.7538000 (321)\ttotal: 32.9s\tremaining: 15m 34s\n",
            "340:\tlearn: 0.7711111\ttest: 0.7534667\tbest: 0.7538000 (321)\ttotal: 33s\tremaining: 15m 34s\n",
            "341:\tlearn: 0.7712074\ttest: 0.7535333\tbest: 0.7538000 (321)\ttotal: 33.1s\tremaining: 15m 34s\n",
            "342:\tlearn: 0.7711926\ttest: 0.7536667\tbest: 0.7538000 (321)\ttotal: 33.2s\tremaining: 15m 34s\n",
            "343:\tlearn: 0.7712741\ttest: 0.7533333\tbest: 0.7538000 (321)\ttotal: 33.3s\tremaining: 15m 34s\n",
            "344:\tlearn: 0.7713556\ttest: 0.7531333\tbest: 0.7538000 (321)\ttotal: 33.4s\tremaining: 15m 34s\n",
            "345:\tlearn: 0.7714519\ttest: 0.7534000\tbest: 0.7538000 (321)\ttotal: 33.5s\tremaining: 15m 34s\n",
            "346:\tlearn: 0.7714519\ttest: 0.7533333\tbest: 0.7538000 (321)\ttotal: 33.6s\tremaining: 15m 33s\n",
            "347:\tlearn: 0.7715259\ttest: 0.7532000\tbest: 0.7538000 (321)\ttotal: 33.7s\tremaining: 15m 33s\n",
            "348:\tlearn: 0.7716148\ttest: 0.7531333\tbest: 0.7538000 (321)\ttotal: 33.7s\tremaining: 15m 33s\n",
            "349:\tlearn: 0.7716815\ttest: 0.7532000\tbest: 0.7538000 (321)\ttotal: 33.8s\tremaining: 15m 32s\n",
            "350:\tlearn: 0.7718593\ttest: 0.7534667\tbest: 0.7538000 (321)\ttotal: 33.9s\tremaining: 15m 32s\n",
            "351:\tlearn: 0.7719259\ttest: 0.7532667\tbest: 0.7538000 (321)\ttotal: 34.1s\tremaining: 15m 33s\n",
            "352:\tlearn: 0.7719407\ttest: 0.7532667\tbest: 0.7538000 (321)\ttotal: 34.1s\tremaining: 15m 33s\n",
            "353:\tlearn: 0.7719704\ttest: 0.7530667\tbest: 0.7538000 (321)\ttotal: 34.2s\tremaining: 15m 33s\n",
            "354:\tlearn: 0.7720222\ttest: 0.7532000\tbest: 0.7538000 (321)\ttotal: 34.3s\tremaining: 15m 33s\n",
            "355:\tlearn: 0.7721037\ttest: 0.7530000\tbest: 0.7538000 (321)\ttotal: 34.5s\tremaining: 15m 33s\n",
            "356:\tlearn: 0.7720963\ttest: 0.7532667\tbest: 0.7538000 (321)\ttotal: 34.5s\tremaining: 15m 32s\n",
            "357:\tlearn: 0.7721333\ttest: 0.7530667\tbest: 0.7538000 (321)\ttotal: 34.6s\tremaining: 15m 32s\n",
            "358:\tlearn: 0.7722963\ttest: 0.7534000\tbest: 0.7538000 (321)\ttotal: 34.7s\tremaining: 15m 32s\n",
            "359:\tlearn: 0.7722889\ttest: 0.7533333\tbest: 0.7538000 (321)\ttotal: 34.8s\tremaining: 15m 32s\n",
            "360:\tlearn: 0.7723852\ttest: 0.7533333\tbest: 0.7538000 (321)\ttotal: 34.9s\tremaining: 15m 33s\n",
            "361:\tlearn: 0.7725259\ttest: 0.7534667\tbest: 0.7538000 (321)\ttotal: 35s\tremaining: 15m 32s\n",
            "362:\tlearn: 0.7725333\ttest: 0.7532000\tbest: 0.7538000 (321)\ttotal: 35.1s\tremaining: 15m 32s\n",
            "363:\tlearn: 0.7726148\ttest: 0.7532667\tbest: 0.7538000 (321)\ttotal: 35.2s\tremaining: 15m 32s\n",
            "364:\tlearn: 0.7726296\ttest: 0.7532667\tbest: 0.7538000 (321)\ttotal: 35.3s\tremaining: 15m 32s\n",
            "365:\tlearn: 0.7727481\ttest: 0.7536667\tbest: 0.7538000 (321)\ttotal: 35.4s\tremaining: 15m 32s\n",
            "366:\tlearn: 0.7729185\ttest: 0.7534000\tbest: 0.7538000 (321)\ttotal: 35.5s\tremaining: 15m 32s\n",
            "367:\tlearn: 0.7728667\ttest: 0.7536667\tbest: 0.7538000 (321)\ttotal: 35.6s\tremaining: 15m 31s\n",
            "368:\tlearn: 0.7729704\ttest: 0.7534000\tbest: 0.7538000 (321)\ttotal: 35.7s\tremaining: 15m 31s\n",
            "369:\tlearn: 0.7729852\ttest: 0.7534000\tbest: 0.7538000 (321)\ttotal: 35.8s\tremaining: 15m 31s\n",
            "370:\tlearn: 0.7730296\ttest: 0.7534000\tbest: 0.7538000 (321)\ttotal: 35.9s\tremaining: 15m 31s\n",
            "371:\tlearn: 0.7731037\ttest: 0.7534000\tbest: 0.7538000 (321)\ttotal: 36s\tremaining: 15m 30s\n",
            "372:\tlearn: 0.7730444\ttest: 0.7536667\tbest: 0.7538000 (321)\ttotal: 36s\tremaining: 15m 30s\n",
            "373:\tlearn: 0.7731852\ttest: 0.7539333\tbest: 0.7539333 (373)\ttotal: 36.1s\tremaining: 15m 30s\n",
            "374:\tlearn: 0.7733481\ttest: 0.7538667\tbest: 0.7539333 (373)\ttotal: 36.3s\tremaining: 15m 30s\n",
            "375:\tlearn: 0.7734667\ttest: 0.7536667\tbest: 0.7539333 (373)\ttotal: 36.3s\tremaining: 15m 30s\n",
            "376:\tlearn: 0.7734296\ttest: 0.7536667\tbest: 0.7539333 (373)\ttotal: 36.4s\tremaining: 15m 30s\n",
            "377:\tlearn: 0.7734519\ttest: 0.7537333\tbest: 0.7539333 (373)\ttotal: 36.5s\tremaining: 15m 29s\n",
            "378:\tlearn: 0.7735556\ttest: 0.7534667\tbest: 0.7539333 (373)\ttotal: 36.6s\tremaining: 15m 29s\n",
            "379:\tlearn: 0.7736741\ttest: 0.7536000\tbest: 0.7539333 (373)\ttotal: 36.7s\tremaining: 15m 29s\n",
            "380:\tlearn: 0.7736593\ttest: 0.7533333\tbest: 0.7539333 (373)\ttotal: 36.8s\tremaining: 15m 29s\n",
            "381:\tlearn: 0.7737704\ttest: 0.7532000\tbest: 0.7539333 (373)\ttotal: 36.9s\tremaining: 15m 29s\n",
            "382:\tlearn: 0.7737778\ttest: 0.7534667\tbest: 0.7539333 (373)\ttotal: 37s\tremaining: 15m 29s\n",
            "383:\tlearn: 0.7738296\ttest: 0.7533333\tbest: 0.7539333 (373)\ttotal: 37.1s\tremaining: 15m 28s\n",
            "384:\tlearn: 0.7738667\ttest: 0.7534000\tbest: 0.7539333 (373)\ttotal: 37.2s\tremaining: 15m 28s\n",
            "385:\tlearn: 0.7739926\ttest: 0.7534667\tbest: 0.7539333 (373)\ttotal: 37.3s\tremaining: 15m 28s\n",
            "386:\tlearn: 0.7740370\ttest: 0.7535333\tbest: 0.7539333 (373)\ttotal: 37.4s\tremaining: 15m 28s\n",
            "387:\tlearn: 0.7740444\ttest: 0.7534000\tbest: 0.7539333 (373)\ttotal: 37.5s\tremaining: 15m 27s\n",
            "388:\tlearn: 0.7740667\ttest: 0.7534667\tbest: 0.7539333 (373)\ttotal: 37.5s\tremaining: 15m 27s\n",
            "389:\tlearn: 0.7740815\ttest: 0.7539333\tbest: 0.7539333 (373)\ttotal: 37.6s\tremaining: 15m 27s\n",
            "390:\tlearn: 0.7742963\ttest: 0.7538000\tbest: 0.7539333 (373)\ttotal: 37.7s\tremaining: 15m 27s\n",
            "391:\tlearn: 0.7743481\ttest: 0.7539333\tbest: 0.7539333 (373)\ttotal: 37.8s\tremaining: 15m 26s\n",
            "392:\tlearn: 0.7743185\ttest: 0.7537333\tbest: 0.7539333 (373)\ttotal: 37.9s\tremaining: 15m 26s\n",
            "393:\tlearn: 0.7743630\ttest: 0.7538000\tbest: 0.7539333 (373)\ttotal: 38s\tremaining: 15m 26s\n",
            "394:\tlearn: 0.7744148\ttest: 0.7542000\tbest: 0.7542000 (394)\ttotal: 38.1s\tremaining: 15m 25s\n",
            "395:\tlearn: 0.7744815\ttest: 0.7539333\tbest: 0.7542000 (394)\ttotal: 38.2s\tremaining: 15m 25s\n",
            "396:\tlearn: 0.7745333\ttest: 0.7540667\tbest: 0.7542000 (394)\ttotal: 38.3s\tremaining: 15m 25s\n",
            "397:\tlearn: 0.7744667\ttest: 0.7540000\tbest: 0.7542000 (394)\ttotal: 38.3s\tremaining: 15m 24s\n",
            "398:\tlearn: 0.7744815\ttest: 0.7540000\tbest: 0.7542000 (394)\ttotal: 38.4s\tremaining: 15m 24s\n",
            "399:\tlearn: 0.7745037\ttest: 0.7540667\tbest: 0.7542000 (394)\ttotal: 38.5s\tremaining: 15m 25s\n",
            "400:\tlearn: 0.7746222\ttest: 0.7540667\tbest: 0.7542000 (394)\ttotal: 38.6s\tremaining: 15m 24s\n",
            "401:\tlearn: 0.7746444\ttest: 0.7538000\tbest: 0.7542000 (394)\ttotal: 38.7s\tremaining: 15m 24s\n",
            "402:\tlearn: 0.7748148\ttest: 0.7536667\tbest: 0.7542000 (394)\ttotal: 38.8s\tremaining: 15m 24s\n",
            "403:\tlearn: 0.7748296\ttest: 0.7538000\tbest: 0.7542000 (394)\ttotal: 38.9s\tremaining: 15m 25s\n",
            "404:\tlearn: 0.7748667\ttest: 0.7538000\tbest: 0.7542000 (394)\ttotal: 39s\tremaining: 15m 24s\n",
            "405:\tlearn: 0.7749037\ttest: 0.7538667\tbest: 0.7542000 (394)\ttotal: 39.1s\tremaining: 15m 24s\n",
            "406:\tlearn: 0.7749556\ttest: 0.7540000\tbest: 0.7542000 (394)\ttotal: 39.2s\tremaining: 15m 24s\n",
            "407:\tlearn: 0.7750000\ttest: 0.7540000\tbest: 0.7542000 (394)\ttotal: 39.3s\tremaining: 15m 24s\n",
            "408:\tlearn: 0.7749926\ttest: 0.7538667\tbest: 0.7542000 (394)\ttotal: 39.4s\tremaining: 15m 24s\n",
            "409:\tlearn: 0.7750815\ttest: 0.7538667\tbest: 0.7542000 (394)\ttotal: 39.5s\tremaining: 15m 23s\n",
            "410:\tlearn: 0.7750815\ttest: 0.7538667\tbest: 0.7542000 (394)\ttotal: 39.6s\tremaining: 15m 23s\n",
            "411:\tlearn: 0.7751926\ttest: 0.7540667\tbest: 0.7542000 (394)\ttotal: 39.7s\tremaining: 15m 23s\n",
            "412:\tlearn: 0.7753111\ttest: 0.7540000\tbest: 0.7542000 (394)\ttotal: 39.8s\tremaining: 15m 23s\n",
            "413:\tlearn: 0.7754148\ttest: 0.7540000\tbest: 0.7542000 (394)\ttotal: 39.9s\tremaining: 15m 23s\n",
            "414:\tlearn: 0.7755111\ttest: 0.7540667\tbest: 0.7542000 (394)\ttotal: 40s\tremaining: 15m 23s\n",
            "415:\tlearn: 0.7755852\ttest: 0.7541333\tbest: 0.7542000 (394)\ttotal: 40.1s\tremaining: 15m 23s\n",
            "416:\tlearn: 0.7756148\ttest: 0.7544000\tbest: 0.7544000 (416)\ttotal: 40.2s\tremaining: 15m 23s\n",
            "417:\tlearn: 0.7756667\ttest: 0.7542000\tbest: 0.7544000 (416)\ttotal: 40.3s\tremaining: 15m 22s\n",
            "418:\tlearn: 0.7757111\ttest: 0.7544000\tbest: 0.7544000 (416)\ttotal: 40.3s\tremaining: 15m 22s\n",
            "419:\tlearn: 0.7757630\ttest: 0.7544000\tbest: 0.7544000 (416)\ttotal: 40.4s\tremaining: 15m 22s\n",
            "420:\tlearn: 0.7758000\ttest: 0.7544000\tbest: 0.7544000 (416)\ttotal: 40.5s\tremaining: 15m 22s\n",
            "421:\tlearn: 0.7759333\ttest: 0.7548667\tbest: 0.7548667 (421)\ttotal: 40.6s\tremaining: 15m 22s\n",
            "422:\tlearn: 0.7760000\ttest: 0.7546000\tbest: 0.7548667 (421)\ttotal: 40.7s\tremaining: 15m 22s\n",
            "423:\tlearn: 0.7761704\ttest: 0.7547333\tbest: 0.7548667 (421)\ttotal: 40.8s\tremaining: 15m 22s\n",
            "424:\tlearn: 0.7761630\ttest: 0.7546000\tbest: 0.7548667 (421)\ttotal: 40.9s\tremaining: 15m 21s\n",
            "425:\tlearn: 0.7763185\ttest: 0.7548667\tbest: 0.7548667 (421)\ttotal: 41s\tremaining: 15m 22s\n",
            "426:\tlearn: 0.7764000\ttest: 0.7548000\tbest: 0.7548667 (421)\ttotal: 41.1s\tremaining: 15m 21s\n",
            "427:\tlearn: 0.7765259\ttest: 0.7549333\tbest: 0.7549333 (427)\ttotal: 41.2s\tremaining: 15m 21s\n",
            "428:\tlearn: 0.7765481\ttest: 0.7547333\tbest: 0.7549333 (427)\ttotal: 41.3s\tremaining: 15m 21s\n",
            "429:\tlearn: 0.7765926\ttest: 0.7546667\tbest: 0.7549333 (427)\ttotal: 41.4s\tremaining: 15m 21s\n",
            "430:\tlearn: 0.7766074\ttest: 0.7548000\tbest: 0.7549333 (427)\ttotal: 41.5s\tremaining: 15m 21s\n",
            "431:\tlearn: 0.7766519\ttest: 0.7548000\tbest: 0.7549333 (427)\ttotal: 41.6s\tremaining: 15m 20s\n",
            "432:\tlearn: 0.7766370\ttest: 0.7548667\tbest: 0.7549333 (427)\ttotal: 41.7s\tremaining: 15m 20s\n",
            "433:\tlearn: 0.7767259\ttest: 0.7550000\tbest: 0.7550000 (433)\ttotal: 41.8s\tremaining: 15m 20s\n",
            "434:\tlearn: 0.7767333\ttest: 0.7551333\tbest: 0.7551333 (434)\ttotal: 41.8s\tremaining: 15m 20s\n",
            "435:\tlearn: 0.7768222\ttest: 0.7551333\tbest: 0.7551333 (434)\ttotal: 42s\tremaining: 15m 20s\n",
            "436:\tlearn: 0.7768593\ttest: 0.7552667\tbest: 0.7552667 (436)\ttotal: 42.1s\tremaining: 15m 20s\n",
            "437:\tlearn: 0.7769704\ttest: 0.7550000\tbest: 0.7552667 (436)\ttotal: 42.1s\tremaining: 15m 20s\n",
            "438:\tlearn: 0.7770222\ttest: 0.7549333\tbest: 0.7552667 (436)\ttotal: 42.2s\tremaining: 15m 19s\n",
            "439:\tlearn: 0.7770296\ttest: 0.7552000\tbest: 0.7552667 (436)\ttotal: 42.3s\tremaining: 15m 19s\n",
            "440:\tlearn: 0.7770667\ttest: 0.7551333\tbest: 0.7552667 (436)\ttotal: 42.4s\tremaining: 15m 19s\n",
            "441:\tlearn: 0.7771481\ttest: 0.7551333\tbest: 0.7552667 (436)\ttotal: 42.5s\tremaining: 15m 19s\n",
            "442:\tlearn: 0.7772222\ttest: 0.7551333\tbest: 0.7552667 (436)\ttotal: 42.6s\tremaining: 15m 18s\n",
            "443:\tlearn: 0.7771852\ttest: 0.7552000\tbest: 0.7552667 (436)\ttotal: 42.7s\tremaining: 15m 18s\n",
            "444:\tlearn: 0.7772963\ttest: 0.7552000\tbest: 0.7552667 (436)\ttotal: 42.8s\tremaining: 15m 18s\n",
            "445:\tlearn: 0.7774741\ttest: 0.7551333\tbest: 0.7552667 (436)\ttotal: 42.9s\tremaining: 15m 18s\n",
            "446:\tlearn: 0.7775185\ttest: 0.7550667\tbest: 0.7552667 (436)\ttotal: 43s\tremaining: 15m 18s\n",
            "447:\tlearn: 0.7775852\ttest: 0.7552000\tbest: 0.7552667 (436)\ttotal: 43.1s\tremaining: 15m 18s\n",
            "448:\tlearn: 0.7776000\ttest: 0.7552000\tbest: 0.7552667 (436)\ttotal: 43.2s\tremaining: 15m 17s\n",
            "449:\tlearn: 0.7776222\ttest: 0.7552000\tbest: 0.7552667 (436)\ttotal: 43.3s\tremaining: 15m 17s\n",
            "450:\tlearn: 0.7776148\ttest: 0.7552000\tbest: 0.7552667 (436)\ttotal: 43.3s\tremaining: 15m 17s\n",
            "451:\tlearn: 0.7777407\ttest: 0.7552000\tbest: 0.7552667 (436)\ttotal: 43.4s\tremaining: 15m 17s\n",
            "452:\tlearn: 0.7777556\ttest: 0.7554000\tbest: 0.7554000 (452)\ttotal: 43.5s\tremaining: 15m 17s\n",
            "453:\tlearn: 0.7778667\ttest: 0.7553333\tbest: 0.7554000 (452)\ttotal: 43.6s\tremaining: 15m 17s\n",
            "454:\tlearn: 0.7778296\ttest: 0.7554000\tbest: 0.7554000 (452)\ttotal: 43.7s\tremaining: 15m 17s\n",
            "455:\tlearn: 0.7778593\ttest: 0.7555333\tbest: 0.7555333 (455)\ttotal: 43.8s\tremaining: 15m 17s\n",
            "456:\tlearn: 0.7778889\ttest: 0.7557333\tbest: 0.7557333 (456)\ttotal: 43.9s\tremaining: 15m 17s\n",
            "457:\tlearn: 0.7778667\ttest: 0.7556000\tbest: 0.7557333 (456)\ttotal: 44s\tremaining: 15m 16s\n",
            "458:\tlearn: 0.7779852\ttest: 0.7557333\tbest: 0.7557333 (456)\ttotal: 44.1s\tremaining: 15m 16s\n",
            "459:\tlearn: 0.7780000\ttest: 0.7555333\tbest: 0.7557333 (456)\ttotal: 44.2s\tremaining: 15m 17s\n",
            "460:\tlearn: 0.7780963\ttest: 0.7554000\tbest: 0.7557333 (456)\ttotal: 44.3s\tremaining: 15m 17s\n",
            "461:\tlearn: 0.7781778\ttest: 0.7554667\tbest: 0.7557333 (456)\ttotal: 44.4s\tremaining: 15m 16s\n",
            "462:\tlearn: 0.7782889\ttest: 0.7553333\tbest: 0.7557333 (456)\ttotal: 44.5s\tremaining: 15m 16s\n",
            "463:\tlearn: 0.7784000\ttest: 0.7554000\tbest: 0.7557333 (456)\ttotal: 44.6s\tremaining: 15m 16s\n",
            "464:\tlearn: 0.7784074\ttest: 0.7551333\tbest: 0.7557333 (456)\ttotal: 44.7s\tremaining: 15m 16s\n",
            "465:\tlearn: 0.7784815\ttest: 0.7550667\tbest: 0.7557333 (456)\ttotal: 44.8s\tremaining: 15m 16s\n",
            "466:\tlearn: 0.7784889\ttest: 0.7551333\tbest: 0.7557333 (456)\ttotal: 44.9s\tremaining: 15m 16s\n",
            "467:\tlearn: 0.7785111\ttest: 0.7552000\tbest: 0.7557333 (456)\ttotal: 45s\tremaining: 15m 16s\n",
            "468:\tlearn: 0.7784741\ttest: 0.7552000\tbest: 0.7557333 (456)\ttotal: 45.1s\tremaining: 15m 16s\n",
            "469:\tlearn: 0.7785852\ttest: 0.7552667\tbest: 0.7557333 (456)\ttotal: 45.2s\tremaining: 15m 16s\n",
            "470:\tlearn: 0.7785926\ttest: 0.7552000\tbest: 0.7557333 (456)\ttotal: 45.3s\tremaining: 15m 16s\n",
            "471:\tlearn: 0.7786444\ttest: 0.7552667\tbest: 0.7557333 (456)\ttotal: 45.4s\tremaining: 15m 16s\n",
            "472:\tlearn: 0.7787481\ttest: 0.7551333\tbest: 0.7557333 (456)\ttotal: 45.5s\tremaining: 15m 16s\n",
            "473:\tlearn: 0.7788593\ttest: 0.7551333\tbest: 0.7557333 (456)\ttotal: 45.6s\tremaining: 15m 16s\n",
            "474:\tlearn: 0.7788519\ttest: 0.7552000\tbest: 0.7557333 (456)\ttotal: 45.7s\tremaining: 15m 16s\n",
            "475:\tlearn: 0.7788667\ttest: 0.7551333\tbest: 0.7557333 (456)\ttotal: 45.8s\tremaining: 15m 15s\n",
            "476:\tlearn: 0.7789630\ttest: 0.7550667\tbest: 0.7557333 (456)\ttotal: 45.9s\tremaining: 15m 15s\n",
            "477:\tlearn: 0.7789926\ttest: 0.7550667\tbest: 0.7557333 (456)\ttotal: 46s\tremaining: 15m 15s\n",
            "478:\tlearn: 0.7790741\ttest: 0.7551333\tbest: 0.7557333 (456)\ttotal: 46s\tremaining: 15m 15s\n",
            "479:\tlearn: 0.7792148\ttest: 0.7552000\tbest: 0.7557333 (456)\ttotal: 46.1s\tremaining: 15m 14s\n",
            "480:\tlearn: 0.7792222\ttest: 0.7550000\tbest: 0.7557333 (456)\ttotal: 46.2s\tremaining: 15m 14s\n",
            "481:\tlearn: 0.7792593\ttest: 0.7552000\tbest: 0.7557333 (456)\ttotal: 46.3s\tremaining: 15m 14s\n",
            "482:\tlearn: 0.7792667\ttest: 0.7550000\tbest: 0.7557333 (456)\ttotal: 46.4s\tremaining: 15m 14s\n",
            "483:\tlearn: 0.7792741\ttest: 0.7548667\tbest: 0.7557333 (456)\ttotal: 46.5s\tremaining: 15m 14s\n",
            "484:\tlearn: 0.7793111\ttest: 0.7548000\tbest: 0.7557333 (456)\ttotal: 46.6s\tremaining: 15m 13s\n",
            "485:\tlearn: 0.7793852\ttest: 0.7552667\tbest: 0.7557333 (456)\ttotal: 46.7s\tremaining: 15m 14s\n",
            "486:\tlearn: 0.7794889\ttest: 0.7553333\tbest: 0.7557333 (456)\ttotal: 46.8s\tremaining: 15m 14s\n",
            "487:\tlearn: 0.7795481\ttest: 0.7553333\tbest: 0.7557333 (456)\ttotal: 46.9s\tremaining: 15m 13s\n",
            "488:\tlearn: 0.7796519\ttest: 0.7552000\tbest: 0.7557333 (456)\ttotal: 47s\tremaining: 15m 13s\n",
            "489:\tlearn: 0.7796741\ttest: 0.7555333\tbest: 0.7557333 (456)\ttotal: 47.1s\tremaining: 15m 13s\n",
            "490:\tlearn: 0.7798074\ttest: 0.7556000\tbest: 0.7557333 (456)\ttotal: 47.2s\tremaining: 15m 13s\n",
            "491:\tlearn: 0.7798815\ttest: 0.7558000\tbest: 0.7558000 (491)\ttotal: 47.2s\tremaining: 15m 12s\n",
            "492:\tlearn: 0.7799259\ttest: 0.7556667\tbest: 0.7558000 (491)\ttotal: 47.3s\tremaining: 15m 12s\n",
            "493:\tlearn: 0.7800074\ttest: 0.7556000\tbest: 0.7558000 (491)\ttotal: 47.4s\tremaining: 15m 12s\n",
            "494:\tlearn: 0.7800074\ttest: 0.7554667\tbest: 0.7558000 (491)\ttotal: 47.5s\tremaining: 15m 12s\n",
            "495:\tlearn: 0.7800963\ttest: 0.7553333\tbest: 0.7558000 (491)\ttotal: 47.6s\tremaining: 15m 12s\n",
            "496:\tlearn: 0.7801481\ttest: 0.7556667\tbest: 0.7558000 (491)\ttotal: 47.7s\tremaining: 15m 12s\n",
            "497:\tlearn: 0.7801926\ttest: 0.7556000\tbest: 0.7558000 (491)\ttotal: 47.8s\tremaining: 15m 12s\n",
            "498:\tlearn: 0.7801333\ttest: 0.7555333\tbest: 0.7558000 (491)\ttotal: 47.9s\tremaining: 15m 12s\n",
            "499:\tlearn: 0.7801704\ttest: 0.7554000\tbest: 0.7558000 (491)\ttotal: 48s\tremaining: 15m 12s\n",
            "500:\tlearn: 0.7802667\ttest: 0.7554000\tbest: 0.7558000 (491)\ttotal: 48.1s\tremaining: 15m 12s\n",
            "501:\tlearn: 0.7802222\ttest: 0.7555333\tbest: 0.7558000 (491)\ttotal: 48.2s\tremaining: 15m 11s\n",
            "502:\tlearn: 0.7803185\ttest: 0.7555333\tbest: 0.7558000 (491)\ttotal: 48.3s\tremaining: 15m 12s\n",
            "503:\tlearn: 0.7803852\ttest: 0.7552000\tbest: 0.7558000 (491)\ttotal: 48.4s\tremaining: 15m 11s\n",
            "504:\tlearn: 0.7804148\ttest: 0.7554667\tbest: 0.7558000 (491)\ttotal: 48.5s\tremaining: 15m 11s\n",
            "505:\tlearn: 0.7803556\ttest: 0.7554000\tbest: 0.7558000 (491)\ttotal: 48.6s\tremaining: 15m 11s\n",
            "506:\tlearn: 0.7804296\ttest: 0.7554667\tbest: 0.7558000 (491)\ttotal: 48.7s\tremaining: 15m 11s\n",
            "507:\tlearn: 0.7805111\ttest: 0.7553333\tbest: 0.7558000 (491)\ttotal: 48.8s\tremaining: 15m 11s\n",
            "508:\tlearn: 0.7806370\ttest: 0.7552667\tbest: 0.7558000 (491)\ttotal: 48.9s\tremaining: 15m 11s\n",
            "509:\tlearn: 0.7808000\ttest: 0.7553333\tbest: 0.7558000 (491)\ttotal: 49s\tremaining: 15m 11s\n",
            "510:\tlearn: 0.7807481\ttest: 0.7553333\tbest: 0.7558000 (491)\ttotal: 49.1s\tremaining: 15m 11s\n",
            "511:\tlearn: 0.7807926\ttest: 0.7554000\tbest: 0.7558000 (491)\ttotal: 49.2s\tremaining: 15m 10s\n",
            "512:\tlearn: 0.7808222\ttest: 0.7553333\tbest: 0.7558000 (491)\ttotal: 49.2s\tremaining: 15m 10s\n",
            "513:\tlearn: 0.7808296\ttest: 0.7554000\tbest: 0.7558000 (491)\ttotal: 49.3s\tremaining: 15m 10s\n",
            "514:\tlearn: 0.7809556\ttest: 0.7557333\tbest: 0.7558000 (491)\ttotal: 49.4s\tremaining: 15m 10s\n",
            "515:\tlearn: 0.7809926\ttest: 0.7557333\tbest: 0.7558000 (491)\ttotal: 49.5s\tremaining: 15m 10s\n",
            "516:\tlearn: 0.7810000\ttest: 0.7557333\tbest: 0.7558000 (491)\ttotal: 49.6s\tremaining: 15m 9s\n",
            "517:\tlearn: 0.7810593\ttest: 0.7556667\tbest: 0.7558000 (491)\ttotal: 49.7s\tremaining: 15m 9s\n",
            "518:\tlearn: 0.7810963\ttest: 0.7556000\tbest: 0.7558000 (491)\ttotal: 49.8s\tremaining: 15m 9s\n",
            "519:\tlearn: 0.7811630\ttest: 0.7556667\tbest: 0.7558000 (491)\ttotal: 49.9s\tremaining: 15m 9s\n",
            "520:\tlearn: 0.7811630\ttest: 0.7556667\tbest: 0.7558000 (491)\ttotal: 50s\tremaining: 15m 8s\n",
            "521:\tlearn: 0.7811556\ttest: 0.7557333\tbest: 0.7558000 (491)\ttotal: 50.1s\tremaining: 15m 8s\n",
            "522:\tlearn: 0.7812222\ttest: 0.7559333\tbest: 0.7559333 (522)\ttotal: 50.2s\tremaining: 15m 8s\n",
            "523:\tlearn: 0.7813185\ttest: 0.7558667\tbest: 0.7559333 (522)\ttotal: 50.2s\tremaining: 15m 8s\n",
            "524:\tlearn: 0.7813185\ttest: 0.7556000\tbest: 0.7559333 (522)\ttotal: 50.3s\tremaining: 15m 8s\n",
            "525:\tlearn: 0.7814000\ttest: 0.7556000\tbest: 0.7559333 (522)\ttotal: 50.4s\tremaining: 15m 8s\n",
            "526:\tlearn: 0.7814593\ttest: 0.7553333\tbest: 0.7559333 (522)\ttotal: 50.5s\tremaining: 15m 8s\n",
            "527:\tlearn: 0.7814593\ttest: 0.7552667\tbest: 0.7559333 (522)\ttotal: 50.6s\tremaining: 15m 7s\n",
            "528:\tlearn: 0.7815259\ttest: 0.7553333\tbest: 0.7559333 (522)\ttotal: 50.7s\tremaining: 15m 7s\n",
            "529:\tlearn: 0.7816741\ttest: 0.7554000\tbest: 0.7559333 (522)\ttotal: 50.8s\tremaining: 15m 7s\n",
            "530:\tlearn: 0.7817037\ttest: 0.7553333\tbest: 0.7559333 (522)\ttotal: 50.9s\tremaining: 15m 7s\n",
            "531:\tlearn: 0.7817407\ttest: 0.7552667\tbest: 0.7559333 (522)\ttotal: 51s\tremaining: 15m 7s\n",
            "532:\tlearn: 0.7818370\ttest: 0.7556000\tbest: 0.7559333 (522)\ttotal: 51.1s\tremaining: 15m 7s\n",
            "533:\tlearn: 0.7818444\ttest: 0.7555333\tbest: 0.7559333 (522)\ttotal: 51.2s\tremaining: 15m 7s\n",
            "534:\tlearn: 0.7819556\ttest: 0.7560000\tbest: 0.7560000 (534)\ttotal: 51.3s\tremaining: 15m 7s\n",
            "535:\tlearn: 0.7820222\ttest: 0.7560000\tbest: 0.7560000 (534)\ttotal: 51.4s\tremaining: 15m 7s\n",
            "536:\tlearn: 0.7820741\ttest: 0.7559333\tbest: 0.7560000 (534)\ttotal: 51.5s\tremaining: 15m 7s\n",
            "537:\tlearn: 0.7820889\ttest: 0.7558000\tbest: 0.7560000 (534)\ttotal: 51.6s\tremaining: 15m 7s\n",
            "538:\tlearn: 0.7822296\ttest: 0.7558667\tbest: 0.7560000 (534)\ttotal: 51.7s\tremaining: 15m 7s\n",
            "539:\tlearn: 0.7822593\ttest: 0.7559333\tbest: 0.7560000 (534)\ttotal: 51.8s\tremaining: 15m 7s\n",
            "540:\tlearn: 0.7823556\ttest: 0.7560000\tbest: 0.7560000 (534)\ttotal: 51.9s\tremaining: 15m 7s\n",
            "541:\tlearn: 0.7824296\ttest: 0.7561333\tbest: 0.7561333 (541)\ttotal: 52s\tremaining: 15m 6s\n",
            "542:\tlearn: 0.7824889\ttest: 0.7560000\tbest: 0.7561333 (541)\ttotal: 52.1s\tremaining: 15m 6s\n",
            "543:\tlearn: 0.7824815\ttest: 0.7559333\tbest: 0.7561333 (541)\ttotal: 52.2s\tremaining: 15m 6s\n",
            "544:\tlearn: 0.7824889\ttest: 0.7559333\tbest: 0.7561333 (541)\ttotal: 52.3s\tremaining: 15m 6s\n",
            "545:\tlearn: 0.7825926\ttest: 0.7558667\tbest: 0.7561333 (541)\ttotal: 52.4s\tremaining: 15m 6s\n",
            "546:\tlearn: 0.7826000\ttest: 0.7558000\tbest: 0.7561333 (541)\ttotal: 52.5s\tremaining: 15m 6s\n",
            "547:\tlearn: 0.7826741\ttest: 0.7557333\tbest: 0.7561333 (541)\ttotal: 52.5s\tremaining: 15m 6s\n",
            "548:\tlearn: 0.7826444\ttest: 0.7556667\tbest: 0.7561333 (541)\ttotal: 52.6s\tremaining: 15m 6s\n",
            "549:\tlearn: 0.7827333\ttest: 0.7554000\tbest: 0.7561333 (541)\ttotal: 52.7s\tremaining: 15m 6s\n",
            "550:\tlearn: 0.7828296\ttest: 0.7556000\tbest: 0.7561333 (541)\ttotal: 52.8s\tremaining: 15m 5s\n",
            "551:\tlearn: 0.7828519\ttest: 0.7555333\tbest: 0.7561333 (541)\ttotal: 52.9s\tremaining: 15m 5s\n",
            "552:\tlearn: 0.7828815\ttest: 0.7554000\tbest: 0.7561333 (541)\ttotal: 53s\tremaining: 15m 5s\n",
            "553:\tlearn: 0.7829926\ttest: 0.7552000\tbest: 0.7561333 (541)\ttotal: 53.1s\tremaining: 15m 5s\n",
            "554:\tlearn: 0.7829778\ttest: 0.7554000\tbest: 0.7561333 (541)\ttotal: 53.2s\tremaining: 15m 5s\n",
            "555:\tlearn: 0.7828815\ttest: 0.7556000\tbest: 0.7561333 (541)\ttotal: 53.3s\tremaining: 15m 5s\n",
            "556:\tlearn: 0.7829778\ttest: 0.7555333\tbest: 0.7561333 (541)\ttotal: 53.4s\tremaining: 15m 5s\n",
            "557:\tlearn: 0.7830593\ttest: 0.7557333\tbest: 0.7561333 (541)\ttotal: 53.5s\tremaining: 15m 5s\n",
            "558:\tlearn: 0.7830889\ttest: 0.7558000\tbest: 0.7561333 (541)\ttotal: 53.6s\tremaining: 15m 5s\n",
            "559:\tlearn: 0.7832222\ttest: 0.7558667\tbest: 0.7561333 (541)\ttotal: 53.7s\tremaining: 15m 5s\n",
            "560:\tlearn: 0.7832148\ttest: 0.7556000\tbest: 0.7561333 (541)\ttotal: 53.8s\tremaining: 15m 5s\n",
            "561:\tlearn: 0.7831852\ttest: 0.7558667\tbest: 0.7561333 (541)\ttotal: 53.9s\tremaining: 15m 5s\n",
            "562:\tlearn: 0.7832741\ttest: 0.7557333\tbest: 0.7561333 (541)\ttotal: 54s\tremaining: 15m 4s\n",
            "563:\tlearn: 0.7833037\ttest: 0.7554667\tbest: 0.7561333 (541)\ttotal: 54.1s\tremaining: 15m 4s\n",
            "564:\tlearn: 0.7833630\ttest: 0.7553333\tbest: 0.7561333 (541)\ttotal: 54.2s\tremaining: 15m 4s\n",
            "565:\tlearn: 0.7833407\ttest: 0.7555333\tbest: 0.7561333 (541)\ttotal: 54.3s\tremaining: 15m 4s\n",
            "566:\tlearn: 0.7834519\ttest: 0.7556000\tbest: 0.7561333 (541)\ttotal: 54.4s\tremaining: 15m 4s\n",
            "567:\tlearn: 0.7835259\ttest: 0.7556000\tbest: 0.7561333 (541)\ttotal: 54.5s\tremaining: 15m 4s\n",
            "568:\tlearn: 0.7835556\ttest: 0.7555333\tbest: 0.7561333 (541)\ttotal: 54.5s\tremaining: 15m 4s\n",
            "569:\tlearn: 0.7836444\ttest: 0.7555333\tbest: 0.7561333 (541)\ttotal: 54.6s\tremaining: 15m 3s\n",
            "570:\tlearn: 0.7836000\ttest: 0.7555333\tbest: 0.7561333 (541)\ttotal: 54.7s\tremaining: 15m 3s\n",
            "571:\tlearn: 0.7836963\ttest: 0.7556000\tbest: 0.7561333 (541)\ttotal: 54.8s\tremaining: 15m 3s\n",
            "572:\tlearn: 0.7837481\ttest: 0.7556000\tbest: 0.7561333 (541)\ttotal: 54.9s\tremaining: 15m 3s\n",
            "573:\tlearn: 0.7837926\ttest: 0.7555333\tbest: 0.7561333 (541)\ttotal: 55s\tremaining: 15m 3s\n",
            "574:\tlearn: 0.7838074\ttest: 0.7554667\tbest: 0.7561333 (541)\ttotal: 55.1s\tremaining: 15m 3s\n",
            "575:\tlearn: 0.7838370\ttest: 0.7554667\tbest: 0.7561333 (541)\ttotal: 55.2s\tremaining: 15m 3s\n",
            "576:\tlearn: 0.7838741\ttest: 0.7557333\tbest: 0.7561333 (541)\ttotal: 55.3s\tremaining: 15m 2s\n",
            "577:\tlearn: 0.7839333\ttest: 0.7558000\tbest: 0.7561333 (541)\ttotal: 55.4s\tremaining: 15m 2s\n",
            "578:\tlearn: 0.7840519\ttest: 0.7560667\tbest: 0.7561333 (541)\ttotal: 55.5s\tremaining: 15m 2s\n",
            "579:\tlearn: 0.7840667\ttest: 0.7560000\tbest: 0.7561333 (541)\ttotal: 55.6s\tremaining: 15m 2s\n",
            "580:\tlearn: 0.7841037\ttest: 0.7559333\tbest: 0.7561333 (541)\ttotal: 55.7s\tremaining: 15m 2s\n",
            "581:\tlearn: 0.7840889\ttest: 0.7558667\tbest: 0.7561333 (541)\ttotal: 55.8s\tremaining: 15m 2s\n",
            "582:\tlearn: 0.7841704\ttest: 0.7560000\tbest: 0.7561333 (541)\ttotal: 55.9s\tremaining: 15m 2s\n",
            "583:\tlearn: 0.7842074\ttest: 0.7561333\tbest: 0.7561333 (541)\ttotal: 55.9s\tremaining: 15m 2s\n",
            "584:\tlearn: 0.7843852\ttest: 0.7560000\tbest: 0.7561333 (541)\ttotal: 56s\tremaining: 15m 1s\n",
            "585:\tlearn: 0.7843407\ttest: 0.7562667\tbest: 0.7562667 (585)\ttotal: 56.1s\tremaining: 15m 1s\n",
            "586:\tlearn: 0.7844370\ttest: 0.7560667\tbest: 0.7562667 (585)\ttotal: 56.2s\tremaining: 15m 1s\n",
            "587:\tlearn: 0.7845111\ttest: 0.7561333\tbest: 0.7562667 (585)\ttotal: 56.3s\tremaining: 15m 1s\n",
            "588:\tlearn: 0.7844519\ttest: 0.7562667\tbest: 0.7562667 (585)\ttotal: 56.4s\tremaining: 15m 1s\n",
            "589:\tlearn: 0.7844741\ttest: 0.7561333\tbest: 0.7562667 (585)\ttotal: 56.5s\tremaining: 15m 1s\n",
            "590:\tlearn: 0.7845926\ttest: 0.7562667\tbest: 0.7562667 (585)\ttotal: 56.6s\tremaining: 15m\n",
            "591:\tlearn: 0.7846370\ttest: 0.7561333\tbest: 0.7562667 (585)\ttotal: 56.7s\tremaining: 15m\n",
            "592:\tlearn: 0.7846741\ttest: 0.7562667\tbest: 0.7562667 (585)\ttotal: 56.8s\tremaining: 15m\n",
            "593:\tlearn: 0.7847037\ttest: 0.7562000\tbest: 0.7562667 (585)\ttotal: 56.9s\tremaining: 15m\n",
            "594:\tlearn: 0.7847185\ttest: 0.7562667\tbest: 0.7562667 (585)\ttotal: 57s\tremaining: 15m\n",
            "595:\tlearn: 0.7846370\ttest: 0.7562000\tbest: 0.7562667 (585)\ttotal: 57s\tremaining: 15m\n",
            "596:\tlearn: 0.7846444\ttest: 0.7561333\tbest: 0.7562667 (585)\ttotal: 57.1s\tremaining: 14m 59s\n",
            "597:\tlearn: 0.7846593\ttest: 0.7562667\tbest: 0.7562667 (585)\ttotal: 57.2s\tremaining: 14m 59s\n",
            "598:\tlearn: 0.7847704\ttest: 0.7559333\tbest: 0.7562667 (585)\ttotal: 57.3s\tremaining: 14m 59s\n",
            "599:\tlearn: 0.7847630\ttest: 0.7559333\tbest: 0.7562667 (585)\ttotal: 57.4s\tremaining: 14m 59s\n",
            "600:\tlearn: 0.7848296\ttest: 0.7560000\tbest: 0.7562667 (585)\ttotal: 57.5s\tremaining: 14m 59s\n",
            "601:\tlearn: 0.7848593\ttest: 0.7561333\tbest: 0.7562667 (585)\ttotal: 57.7s\tremaining: 15m\n",
            "602:\tlearn: 0.7849333\ttest: 0.7560667\tbest: 0.7562667 (585)\ttotal: 57.8s\tremaining: 14m 59s\n",
            "603:\tlearn: 0.7849926\ttest: 0.7559333\tbest: 0.7562667 (585)\ttotal: 57.9s\tremaining: 14m 59s\n",
            "604:\tlearn: 0.7850815\ttest: 0.7558667\tbest: 0.7562667 (585)\ttotal: 58s\tremaining: 15m\n",
            "605:\tlearn: 0.7851630\ttest: 0.7561333\tbest: 0.7562667 (585)\ttotal: 58.1s\tremaining: 14m 59s\n",
            "606:\tlearn: 0.7851630\ttest: 0.7561333\tbest: 0.7562667 (585)\ttotal: 58.1s\tremaining: 14m 59s\n",
            "607:\tlearn: 0.7852444\ttest: 0.7558667\tbest: 0.7562667 (585)\ttotal: 58.2s\tremaining: 14m 59s\n",
            "608:\tlearn: 0.7853111\ttest: 0.7559333\tbest: 0.7562667 (585)\ttotal: 58.3s\tremaining: 14m 59s\n",
            "609:\tlearn: 0.7853407\ttest: 0.7561333\tbest: 0.7562667 (585)\ttotal: 58.4s\tremaining: 14m 59s\n",
            "610:\tlearn: 0.7853630\ttest: 0.7562000\tbest: 0.7562667 (585)\ttotal: 58.5s\tremaining: 14m 58s\n",
            "611:\tlearn: 0.7853481\ttest: 0.7564000\tbest: 0.7564000 (611)\ttotal: 58.6s\tremaining: 14m 58s\n",
            "612:\tlearn: 0.7853926\ttest: 0.7563333\tbest: 0.7564000 (611)\ttotal: 58.7s\tremaining: 14m 58s\n",
            "613:\tlearn: 0.7855037\ttest: 0.7565333\tbest: 0.7565333 (613)\ttotal: 58.8s\tremaining: 14m 58s\n",
            "614:\tlearn: 0.7855481\ttest: 0.7565333\tbest: 0.7565333 (613)\ttotal: 58.9s\tremaining: 14m 58s\n",
            "615:\tlearn: 0.7855259\ttest: 0.7565333\tbest: 0.7565333 (613)\ttotal: 59s\tremaining: 14m 58s\n",
            "616:\tlearn: 0.7856963\ttest: 0.7563333\tbest: 0.7565333 (613)\ttotal: 59.1s\tremaining: 14m 58s\n",
            "617:\tlearn: 0.7857259\ttest: 0.7564667\tbest: 0.7565333 (613)\ttotal: 59.2s\tremaining: 14m 58s\n",
            "618:\tlearn: 0.7858000\ttest: 0.7564667\tbest: 0.7565333 (613)\ttotal: 59.3s\tremaining: 14m 58s\n",
            "619:\tlearn: 0.7858593\ttest: 0.7564000\tbest: 0.7565333 (613)\ttotal: 59.4s\tremaining: 14m 58s\n",
            "620:\tlearn: 0.7858963\ttest: 0.7566667\tbest: 0.7566667 (620)\ttotal: 59.5s\tremaining: 14m 58s\n",
            "621:\tlearn: 0.7859556\ttest: 0.7565333\tbest: 0.7566667 (620)\ttotal: 59.6s\tremaining: 14m 58s\n",
            "622:\tlearn: 0.7860222\ttest: 0.7573333\tbest: 0.7573333 (622)\ttotal: 59.7s\tremaining: 14m 58s\n",
            "623:\tlearn: 0.7861185\ttest: 0.7570000\tbest: 0.7573333 (622)\ttotal: 59.8s\tremaining: 14m 57s\n",
            "624:\tlearn: 0.7862296\ttest: 0.7569333\tbest: 0.7573333 (622)\ttotal: 59.8s\tremaining: 14m 57s\n",
            "625:\tlearn: 0.7862222\ttest: 0.7568667\tbest: 0.7573333 (622)\ttotal: 59.9s\tremaining: 14m 57s\n",
            "626:\tlearn: 0.7863111\ttest: 0.7570667\tbest: 0.7573333 (622)\ttotal: 1m\tremaining: 14m 57s\n",
            "627:\tlearn: 0.7863111\ttest: 0.7568000\tbest: 0.7573333 (622)\ttotal: 1m\tremaining: 14m 57s\n",
            "628:\tlearn: 0.7863111\ttest: 0.7568667\tbest: 0.7573333 (622)\ttotal: 1m\tremaining: 14m 57s\n",
            "629:\tlearn: 0.7863556\ttest: 0.7567333\tbest: 0.7573333 (622)\ttotal: 1m\tremaining: 14m 56s\n",
            "630:\tlearn: 0.7863333\ttest: 0.7567333\tbest: 0.7573333 (622)\ttotal: 1m\tremaining: 14m 56s\n",
            "631:\tlearn: 0.7862593\ttest: 0.7565333\tbest: 0.7573333 (622)\ttotal: 1m\tremaining: 14m 56s\n",
            "632:\tlearn: 0.7862889\ttest: 0.7566667\tbest: 0.7573333 (622)\ttotal: 1m\tremaining: 14m 56s\n",
            "633:\tlearn: 0.7863481\ttest: 0.7565333\tbest: 0.7573333 (622)\ttotal: 1m\tremaining: 14m 56s\n",
            "634:\tlearn: 0.7864074\ttest: 0.7566667\tbest: 0.7573333 (622)\ttotal: 1m\tremaining: 14m 56s\n",
            "635:\tlearn: 0.7864074\ttest: 0.7564667\tbest: 0.7573333 (622)\ttotal: 1m\tremaining: 14m 55s\n",
            "636:\tlearn: 0.7865185\ttest: 0.7566667\tbest: 0.7573333 (622)\ttotal: 1m\tremaining: 14m 55s\n",
            "637:\tlearn: 0.7865185\ttest: 0.7564667\tbest: 0.7573333 (622)\ttotal: 1m 1s\tremaining: 14m 55s\n",
            "638:\tlearn: 0.7866148\ttest: 0.7567333\tbest: 0.7573333 (622)\ttotal: 1m 1s\tremaining: 14m 55s\n",
            "639:\tlearn: 0.7865926\ttest: 0.7568667\tbest: 0.7573333 (622)\ttotal: 1m 1s\tremaining: 14m 55s\n",
            "640:\tlearn: 0.7866370\ttest: 0.7570667\tbest: 0.7573333 (622)\ttotal: 1m 1s\tremaining: 14m 55s\n",
            "641:\tlearn: 0.7866593\ttest: 0.7570000\tbest: 0.7573333 (622)\ttotal: 1m 1s\tremaining: 14m 55s\n",
            "642:\tlearn: 0.7867037\ttest: 0.7569333\tbest: 0.7573333 (622)\ttotal: 1m 1s\tremaining: 14m 55s\n",
            "643:\tlearn: 0.7868000\ttest: 0.7570667\tbest: 0.7573333 (622)\ttotal: 1m 1s\tremaining: 14m 54s\n",
            "644:\tlearn: 0.7867556\ttest: 0.7571333\tbest: 0.7573333 (622)\ttotal: 1m 1s\tremaining: 14m 54s\n",
            "645:\tlearn: 0.7867185\ttest: 0.7574667\tbest: 0.7574667 (645)\ttotal: 1m 1s\tremaining: 14m 54s\n",
            "646:\tlearn: 0.7868444\ttest: 0.7571333\tbest: 0.7574667 (645)\ttotal: 1m 1s\tremaining: 14m 54s\n",
            "647:\tlearn: 0.7869407\ttest: 0.7572000\tbest: 0.7574667 (645)\ttotal: 1m 1s\tremaining: 14m 54s\n",
            "648:\tlearn: 0.7869630\ttest: 0.7577333\tbest: 0.7577333 (648)\ttotal: 1m 2s\tremaining: 14m 54s\n",
            "649:\tlearn: 0.7869630\ttest: 0.7578000\tbest: 0.7578000 (649)\ttotal: 1m 2s\tremaining: 14m 54s\n",
            "650:\tlearn: 0.7870667\ttest: 0.7578000\tbest: 0.7578000 (649)\ttotal: 1m 2s\tremaining: 14m 54s\n",
            "651:\tlearn: 0.7871704\ttest: 0.7574667\tbest: 0.7578000 (649)\ttotal: 1m 2s\tremaining: 14m 54s\n",
            "652:\tlearn: 0.7871852\ttest: 0.7572667\tbest: 0.7578000 (649)\ttotal: 1m 2s\tremaining: 14m 53s\n",
            "653:\tlearn: 0.7872741\ttest: 0.7573333\tbest: 0.7578000 (649)\ttotal: 1m 2s\tremaining: 14m 53s\n",
            "654:\tlearn: 0.7873185\ttest: 0.7574000\tbest: 0.7578000 (649)\ttotal: 1m 2s\tremaining: 14m 53s\n",
            "655:\tlearn: 0.7873037\ttest: 0.7574000\tbest: 0.7578000 (649)\ttotal: 1m 2s\tremaining: 14m 53s\n",
            "656:\tlearn: 0.7873185\ttest: 0.7572000\tbest: 0.7578000 (649)\ttotal: 1m 2s\tremaining: 14m 53s\n",
            "657:\tlearn: 0.7873111\ttest: 0.7574000\tbest: 0.7578000 (649)\ttotal: 1m 2s\tremaining: 14m 53s\n",
            "658:\tlearn: 0.7873481\ttest: 0.7572000\tbest: 0.7578000 (649)\ttotal: 1m 3s\tremaining: 14m 53s\n",
            "659:\tlearn: 0.7873704\ttest: 0.7574667\tbest: 0.7578000 (649)\ttotal: 1m 3s\tremaining: 14m 53s\n",
            "660:\tlearn: 0.7873630\ttest: 0.7574000\tbest: 0.7578000 (649)\ttotal: 1m 3s\tremaining: 14m 52s\n",
            "661:\tlearn: 0.7874815\ttest: 0.7573333\tbest: 0.7578000 (649)\ttotal: 1m 3s\tremaining: 14m 52s\n",
            "662:\tlearn: 0.7875333\ttest: 0.7572667\tbest: 0.7578000 (649)\ttotal: 1m 3s\tremaining: 14m 52s\n",
            "663:\tlearn: 0.7876148\ttest: 0.7572667\tbest: 0.7578000 (649)\ttotal: 1m 3s\tremaining: 14m 52s\n",
            "664:\tlearn: 0.7876222\ttest: 0.7575333\tbest: 0.7578000 (649)\ttotal: 1m 3s\tremaining: 14m 52s\n",
            "665:\tlearn: 0.7876519\ttest: 0.7574667\tbest: 0.7578000 (649)\ttotal: 1m 3s\tremaining: 14m 52s\n",
            "666:\tlearn: 0.7877259\ttest: 0.7572667\tbest: 0.7578000 (649)\ttotal: 1m 3s\tremaining: 14m 52s\n",
            "667:\tlearn: 0.7877259\ttest: 0.7573333\tbest: 0.7578000 (649)\ttotal: 1m 3s\tremaining: 14m 52s\n",
            "668:\tlearn: 0.7878000\ttest: 0.7574000\tbest: 0.7578000 (649)\ttotal: 1m 3s\tremaining: 14m 51s\n",
            "669:\tlearn: 0.7878074\ttest: 0.7573333\tbest: 0.7578000 (649)\ttotal: 1m 4s\tremaining: 14m 51s\n",
            "670:\tlearn: 0.7878444\ttest: 0.7574000\tbest: 0.7578000 (649)\ttotal: 1m 4s\tremaining: 14m 51s\n",
            "671:\tlearn: 0.7879185\ttest: 0.7573333\tbest: 0.7578000 (649)\ttotal: 1m 4s\tremaining: 14m 51s\n",
            "672:\tlearn: 0.7878741\ttest: 0.7573333\tbest: 0.7578000 (649)\ttotal: 1m 4s\tremaining: 14m 51s\n",
            "673:\tlearn: 0.7879333\ttest: 0.7574667\tbest: 0.7578000 (649)\ttotal: 1m 4s\tremaining: 14m 50s\n",
            "674:\tlearn: 0.7878963\ttest: 0.7575333\tbest: 0.7578000 (649)\ttotal: 1m 4s\tremaining: 14m 50s\n",
            "675:\tlearn: 0.7880370\ttest: 0.7575333\tbest: 0.7578000 (649)\ttotal: 1m 4s\tremaining: 14m 50s\n",
            "676:\tlearn: 0.7880667\ttest: 0.7578000\tbest: 0.7578000 (649)\ttotal: 1m 4s\tremaining: 14m 50s\n",
            "677:\tlearn: 0.7880519\ttest: 0.7580000\tbest: 0.7580000 (677)\ttotal: 1m 4s\tremaining: 14m 50s\n",
            "678:\tlearn: 0.7880519\ttest: 0.7580000\tbest: 0.7580000 (677)\ttotal: 1m 4s\tremaining: 14m 49s\n",
            "679:\tlearn: 0.7880815\ttest: 0.7578000\tbest: 0.7580000 (677)\ttotal: 1m 4s\tremaining: 14m 49s\n",
            "680:\tlearn: 0.7882370\ttest: 0.7575333\tbest: 0.7580000 (677)\ttotal: 1m 5s\tremaining: 14m 49s\n",
            "681:\tlearn: 0.7882444\ttest: 0.7573333\tbest: 0.7580000 (677)\ttotal: 1m 5s\tremaining: 14m 49s\n",
            "682:\tlearn: 0.7882593\ttest: 0.7572667\tbest: 0.7580000 (677)\ttotal: 1m 5s\tremaining: 14m 49s\n",
            "683:\tlearn: 0.7883037\ttest: 0.7572667\tbest: 0.7580000 (677)\ttotal: 1m 5s\tremaining: 14m 49s\n",
            "684:\tlearn: 0.7883556\ttest: 0.7575333\tbest: 0.7580000 (677)\ttotal: 1m 5s\tremaining: 14m 49s\n",
            "685:\tlearn: 0.7884519\ttest: 0.7576000\tbest: 0.7580000 (677)\ttotal: 1m 5s\tremaining: 14m 48s\n",
            "686:\tlearn: 0.7885481\ttest: 0.7577333\tbest: 0.7580000 (677)\ttotal: 1m 5s\tremaining: 14m 48s\n",
            "687:\tlearn: 0.7885852\ttest: 0.7576000\tbest: 0.7580000 (677)\ttotal: 1m 5s\tremaining: 14m 48s\n",
            "688:\tlearn: 0.7885630\ttest: 0.7575333\tbest: 0.7580000 (677)\ttotal: 1m 5s\tremaining: 14m 48s\n",
            "689:\tlearn: 0.7885926\ttest: 0.7576667\tbest: 0.7580000 (677)\ttotal: 1m 5s\tremaining: 14m 48s\n",
            "690:\tlearn: 0.7886667\ttest: 0.7578000\tbest: 0.7580000 (677)\ttotal: 1m 5s\tremaining: 14m 48s\n",
            "691:\tlearn: 0.7886815\ttest: 0.7577333\tbest: 0.7580000 (677)\ttotal: 1m 6s\tremaining: 14m 48s\n",
            "692:\tlearn: 0.7886815\ttest: 0.7576667\tbest: 0.7580000 (677)\ttotal: 1m 6s\tremaining: 14m 48s\n",
            "693:\tlearn: 0.7887556\ttest: 0.7577333\tbest: 0.7580000 (677)\ttotal: 1m 6s\tremaining: 14m 48s\n",
            "694:\tlearn: 0.7887481\ttest: 0.7578000\tbest: 0.7580000 (677)\ttotal: 1m 6s\tremaining: 14m 48s\n",
            "695:\tlearn: 0.7888667\ttest: 0.7581333\tbest: 0.7581333 (695)\ttotal: 1m 6s\tremaining: 14m 48s\n",
            "696:\tlearn: 0.7888222\ttest: 0.7580000\tbest: 0.7581333 (695)\ttotal: 1m 6s\tremaining: 14m 48s\n",
            "697:\tlearn: 0.7889407\ttest: 0.7578667\tbest: 0.7581333 (695)\ttotal: 1m 6s\tremaining: 14m 48s\n",
            "698:\tlearn: 0.7889556\ttest: 0.7576667\tbest: 0.7581333 (695)\ttotal: 1m 6s\tremaining: 14m 47s\n",
            "699:\tlearn: 0.7890074\ttest: 0.7577333\tbest: 0.7581333 (695)\ttotal: 1m 6s\tremaining: 14m 47s\n",
            "700:\tlearn: 0.7890593\ttest: 0.7577333\tbest: 0.7581333 (695)\ttotal: 1m 6s\tremaining: 14m 47s\n",
            "701:\tlearn: 0.7891259\ttest: 0.7578667\tbest: 0.7581333 (695)\ttotal: 1m 7s\tremaining: 14m 47s\n",
            "702:\tlearn: 0.7892000\ttest: 0.7579333\tbest: 0.7581333 (695)\ttotal: 1m 7s\tremaining: 14m 47s\n",
            "703:\tlearn: 0.7892667\ttest: 0.7578667\tbest: 0.7581333 (695)\ttotal: 1m 7s\tremaining: 14m 47s\n",
            "704:\tlearn: 0.7893259\ttest: 0.7579333\tbest: 0.7581333 (695)\ttotal: 1m 7s\tremaining: 14m 47s\n",
            "705:\tlearn: 0.7893481\ttest: 0.7580000\tbest: 0.7581333 (695)\ttotal: 1m 7s\tremaining: 14m 46s\n",
            "706:\tlearn: 0.7894000\ttest: 0.7581333\tbest: 0.7581333 (695)\ttotal: 1m 7s\tremaining: 14m 47s\n",
            "707:\tlearn: 0.7895111\ttest: 0.7578000\tbest: 0.7581333 (695)\ttotal: 1m 7s\tremaining: 14m 47s\n",
            "708:\tlearn: 0.7895926\ttest: 0.7581333\tbest: 0.7581333 (695)\ttotal: 1m 7s\tremaining: 14m 46s\n",
            "709:\tlearn: 0.7895556\ttest: 0.7581333\tbest: 0.7581333 (695)\ttotal: 1m 7s\tremaining: 14m 46s\n",
            "710:\tlearn: 0.7895037\ttest: 0.7582667\tbest: 0.7582667 (710)\ttotal: 1m 7s\tremaining: 14m 46s\n",
            "711:\tlearn: 0.7896000\ttest: 0.7582000\tbest: 0.7582667 (710)\ttotal: 1m 7s\tremaining: 14m 46s\n",
            "712:\tlearn: 0.7896000\ttest: 0.7580667\tbest: 0.7582667 (710)\ttotal: 1m 8s\tremaining: 14m 46s\n",
            "713:\tlearn: 0.7895407\ttest: 0.7580667\tbest: 0.7582667 (710)\ttotal: 1m 8s\tremaining: 14m 46s\n",
            "714:\tlearn: 0.7895926\ttest: 0.7582000\tbest: 0.7582667 (710)\ttotal: 1m 8s\tremaining: 14m 46s\n",
            "715:\tlearn: 0.7896000\ttest: 0.7582000\tbest: 0.7582667 (710)\ttotal: 1m 8s\tremaining: 14m 46s\n",
            "716:\tlearn: 0.7895556\ttest: 0.7580667\tbest: 0.7582667 (710)\ttotal: 1m 8s\tremaining: 14m 46s\n",
            "717:\tlearn: 0.7895407\ttest: 0.7582000\tbest: 0.7582667 (710)\ttotal: 1m 8s\tremaining: 14m 46s\n",
            "718:\tlearn: 0.7897630\ttest: 0.7580667\tbest: 0.7582667 (710)\ttotal: 1m 8s\tremaining: 14m 46s\n",
            "719:\tlearn: 0.7897556\ttest: 0.7583333\tbest: 0.7583333 (719)\ttotal: 1m 8s\tremaining: 14m 46s\n",
            "720:\tlearn: 0.7898519\ttest: 0.7583333\tbest: 0.7583333 (719)\ttotal: 1m 8s\tremaining: 14m 46s\n",
            "721:\tlearn: 0.7899852\ttest: 0.7583333\tbest: 0.7583333 (719)\ttotal: 1m 8s\tremaining: 14m 45s\n",
            "722:\tlearn: 0.7900370\ttest: 0.7584667\tbest: 0.7584667 (722)\ttotal: 1m 9s\tremaining: 14m 45s\n",
            "723:\tlearn: 0.7900667\ttest: 0.7579333\tbest: 0.7584667 (722)\ttotal: 1m 9s\tremaining: 14m 45s\n",
            "724:\tlearn: 0.7901111\ttest: 0.7578667\tbest: 0.7584667 (722)\ttotal: 1m 9s\tremaining: 14m 45s\n",
            "725:\tlearn: 0.7902074\ttest: 0.7580000\tbest: 0.7584667 (722)\ttotal: 1m 9s\tremaining: 14m 45s\n",
            "726:\tlearn: 0.7902593\ttest: 0.7578667\tbest: 0.7584667 (722)\ttotal: 1m 9s\tremaining: 14m 45s\n",
            "727:\tlearn: 0.7903037\ttest: 0.7578667\tbest: 0.7584667 (722)\ttotal: 1m 9s\tremaining: 14m 45s\n",
            "728:\tlearn: 0.7904074\ttest: 0.7578667\tbest: 0.7584667 (722)\ttotal: 1m 9s\tremaining: 14m 45s\n",
            "729:\tlearn: 0.7904889\ttest: 0.7576000\tbest: 0.7584667 (722)\ttotal: 1m 9s\tremaining: 14m 45s\n",
            "730:\tlearn: 0.7906074\ttest: 0.7576000\tbest: 0.7584667 (722)\ttotal: 1m 9s\tremaining: 14m 45s\n",
            "731:\tlearn: 0.7906296\ttest: 0.7576667\tbest: 0.7584667 (722)\ttotal: 1m 9s\tremaining: 14m 45s\n",
            "732:\tlearn: 0.7905852\ttest: 0.7575333\tbest: 0.7584667 (722)\ttotal: 1m 10s\tremaining: 14m 45s\n",
            "733:\tlearn: 0.7906963\ttest: 0.7574667\tbest: 0.7584667 (722)\ttotal: 1m 10s\tremaining: 14m 44s\n",
            "734:\tlearn: 0.7906222\ttest: 0.7576000\tbest: 0.7584667 (722)\ttotal: 1m 10s\tremaining: 14m 45s\n",
            "735:\tlearn: 0.7907185\ttest: 0.7572000\tbest: 0.7584667 (722)\ttotal: 1m 10s\tremaining: 14m 44s\n",
            "736:\tlearn: 0.7907852\ttest: 0.7574000\tbest: 0.7584667 (722)\ttotal: 1m 10s\tremaining: 14m 44s\n",
            "737:\tlearn: 0.7909111\ttest: 0.7574667\tbest: 0.7584667 (722)\ttotal: 1m 10s\tremaining: 14m 44s\n",
            "738:\tlearn: 0.7909037\ttest: 0.7574667\tbest: 0.7584667 (722)\ttotal: 1m 10s\tremaining: 14m 44s\n",
            "739:\tlearn: 0.7909259\ttest: 0.7573333\tbest: 0.7584667 (722)\ttotal: 1m 10s\tremaining: 14m 44s\n",
            "740:\tlearn: 0.7910222\ttest: 0.7576000\tbest: 0.7584667 (722)\ttotal: 1m 10s\tremaining: 14m 44s\n",
            "741:\tlearn: 0.7910593\ttest: 0.7574667\tbest: 0.7584667 (722)\ttotal: 1m 10s\tremaining: 14m 44s\n",
            "742:\tlearn: 0.7911259\ttest: 0.7576667\tbest: 0.7584667 (722)\ttotal: 1m 10s\tremaining: 14m 44s\n",
            "743:\tlearn: 0.7912519\ttest: 0.7577333\tbest: 0.7584667 (722)\ttotal: 1m 11s\tremaining: 14m 44s\n",
            "744:\tlearn: 0.7912074\ttest: 0.7578667\tbest: 0.7584667 (722)\ttotal: 1m 11s\tremaining: 14m 43s\n",
            "745:\tlearn: 0.7912222\ttest: 0.7581333\tbest: 0.7584667 (722)\ttotal: 1m 11s\tremaining: 14m 44s\n",
            "746:\tlearn: 0.7912444\ttest: 0.7581333\tbest: 0.7584667 (722)\ttotal: 1m 11s\tremaining: 14m 43s\n",
            "747:\tlearn: 0.7911926\ttest: 0.7579333\tbest: 0.7584667 (722)\ttotal: 1m 11s\tremaining: 14m 43s\n",
            "748:\tlearn: 0.7912074\ttest: 0.7578667\tbest: 0.7584667 (722)\ttotal: 1m 11s\tremaining: 14m 43s\n",
            "749:\tlearn: 0.7912296\ttest: 0.7576667\tbest: 0.7584667 (722)\ttotal: 1m 11s\tremaining: 14m 43s\n",
            "750:\tlearn: 0.7913185\ttest: 0.7578000\tbest: 0.7584667 (722)\ttotal: 1m 11s\tremaining: 14m 43s\n",
            "751:\tlearn: 0.7913037\ttest: 0.7576000\tbest: 0.7584667 (722)\ttotal: 1m 11s\tremaining: 14m 43s\n",
            "752:\tlearn: 0.7913185\ttest: 0.7576000\tbest: 0.7584667 (722)\ttotal: 1m 11s\tremaining: 14m 43s\n",
            "753:\tlearn: 0.7913556\ttest: 0.7576667\tbest: 0.7584667 (722)\ttotal: 1m 12s\tremaining: 14m 43s\n",
            "754:\tlearn: 0.7913630\ttest: 0.7579333\tbest: 0.7584667 (722)\ttotal: 1m 12s\tremaining: 14m 43s\n",
            "755:\tlearn: 0.7913926\ttest: 0.7578000\tbest: 0.7584667 (722)\ttotal: 1m 12s\tremaining: 14m 43s\n",
            "756:\tlearn: 0.7914000\ttest: 0.7576667\tbest: 0.7584667 (722)\ttotal: 1m 12s\tremaining: 14m 42s\n",
            "757:\tlearn: 0.7914222\ttest: 0.7578000\tbest: 0.7584667 (722)\ttotal: 1m 12s\tremaining: 14m 42s\n",
            "758:\tlearn: 0.7914889\ttest: 0.7576667\tbest: 0.7584667 (722)\ttotal: 1m 12s\tremaining: 14m 42s\n",
            "759:\tlearn: 0.7915185\ttest: 0.7575333\tbest: 0.7584667 (722)\ttotal: 1m 12s\tremaining: 14m 42s\n",
            "760:\tlearn: 0.7914667\ttest: 0.7575333\tbest: 0.7584667 (722)\ttotal: 1m 12s\tremaining: 14m 42s\n",
            "761:\tlearn: 0.7915481\ttest: 0.7576667\tbest: 0.7584667 (722)\ttotal: 1m 12s\tremaining: 14m 42s\n",
            "762:\tlearn: 0.7916815\ttest: 0.7577333\tbest: 0.7584667 (722)\ttotal: 1m 12s\tremaining: 14m 42s\n",
            "763:\tlearn: 0.7917037\ttest: 0.7577333\tbest: 0.7584667 (722)\ttotal: 1m 12s\tremaining: 14m 42s\n",
            "764:\tlearn: 0.7916889\ttest: 0.7574667\tbest: 0.7584667 (722)\ttotal: 1m 13s\tremaining: 14m 42s\n",
            "765:\tlearn: 0.7917704\ttest: 0.7576667\tbest: 0.7584667 (722)\ttotal: 1m 13s\tremaining: 14m 42s\n",
            "766:\tlearn: 0.7919185\ttest: 0.7576667\tbest: 0.7584667 (722)\ttotal: 1m 13s\tremaining: 14m 42s\n",
            "767:\tlearn: 0.7919407\ttest: 0.7577333\tbest: 0.7584667 (722)\ttotal: 1m 13s\tremaining: 14m 42s\n",
            "768:\tlearn: 0.7920296\ttest: 0.7578000\tbest: 0.7584667 (722)\ttotal: 1m 13s\tremaining: 14m 42s\n",
            "769:\tlearn: 0.7919926\ttest: 0.7576667\tbest: 0.7584667 (722)\ttotal: 1m 13s\tremaining: 14m 42s\n",
            "770:\tlearn: 0.7919630\ttest: 0.7576000\tbest: 0.7584667 (722)\ttotal: 1m 13s\tremaining: 14m 41s\n",
            "771:\tlearn: 0.7920444\ttest: 0.7576000\tbest: 0.7584667 (722)\ttotal: 1m 13s\tremaining: 14m 41s\n",
            "772:\tlearn: 0.7920222\ttest: 0.7576667\tbest: 0.7584667 (722)\ttotal: 1m 13s\tremaining: 14m 41s\n",
            "773:\tlearn: 0.7920667\ttest: 0.7576000\tbest: 0.7584667 (722)\ttotal: 1m 13s\tremaining: 14m 41s\n",
            "774:\tlearn: 0.7920667\ttest: 0.7577333\tbest: 0.7584667 (722)\ttotal: 1m 14s\tremaining: 14m 41s\n",
            "775:\tlearn: 0.7921111\ttest: 0.7578667\tbest: 0.7584667 (722)\ttotal: 1m 14s\tremaining: 14m 41s\n",
            "776:\tlearn: 0.7920815\ttest: 0.7580000\tbest: 0.7584667 (722)\ttotal: 1m 14s\tremaining: 14m 41s\n",
            "777:\tlearn: 0.7921481\ttest: 0.7581333\tbest: 0.7584667 (722)\ttotal: 1m 14s\tremaining: 14m 40s\n",
            "778:\tlearn: 0.7921778\ttest: 0.7582667\tbest: 0.7584667 (722)\ttotal: 1m 14s\tremaining: 14m 40s\n",
            "779:\tlearn: 0.7923481\ttest: 0.7582000\tbest: 0.7584667 (722)\ttotal: 1m 14s\tremaining: 14m 40s\n",
            "780:\tlearn: 0.7923630\ttest: 0.7580667\tbest: 0.7584667 (722)\ttotal: 1m 14s\tremaining: 14m 40s\n",
            "781:\tlearn: 0.7923852\ttest: 0.7580667\tbest: 0.7584667 (722)\ttotal: 1m 14s\tremaining: 14m 40s\n",
            "782:\tlearn: 0.7924000\ttest: 0.7579333\tbest: 0.7584667 (722)\ttotal: 1m 14s\tremaining: 14m 40s\n",
            "783:\tlearn: 0.7924519\ttest: 0.7579333\tbest: 0.7584667 (722)\ttotal: 1m 14s\tremaining: 14m 40s\n",
            "784:\tlearn: 0.7925407\ttest: 0.7579333\tbest: 0.7584667 (722)\ttotal: 1m 14s\tremaining: 14m 39s\n",
            "785:\tlearn: 0.7925926\ttest: 0.7580000\tbest: 0.7584667 (722)\ttotal: 1m 15s\tremaining: 14m 39s\n",
            "786:\tlearn: 0.7925778\ttest: 0.7580667\tbest: 0.7584667 (722)\ttotal: 1m 15s\tremaining: 14m 39s\n",
            "787:\tlearn: 0.7926000\ttest: 0.7580000\tbest: 0.7584667 (722)\ttotal: 1m 15s\tremaining: 14m 39s\n",
            "788:\tlearn: 0.7926222\ttest: 0.7580667\tbest: 0.7584667 (722)\ttotal: 1m 15s\tremaining: 14m 39s\n",
            "789:\tlearn: 0.7926444\ttest: 0.7580667\tbest: 0.7584667 (722)\ttotal: 1m 15s\tremaining: 14m 39s\n",
            "790:\tlearn: 0.7927556\ttest: 0.7582000\tbest: 0.7584667 (722)\ttotal: 1m 15s\tremaining: 14m 39s\n",
            "791:\tlearn: 0.7928593\ttest: 0.7582667\tbest: 0.7584667 (722)\ttotal: 1m 15s\tremaining: 14m 39s\n",
            "792:\tlearn: 0.7929185\ttest: 0.7581333\tbest: 0.7584667 (722)\ttotal: 1m 15s\tremaining: 14m 38s\n",
            "793:\tlearn: 0.7929481\ttest: 0.7580667\tbest: 0.7584667 (722)\ttotal: 1m 15s\tremaining: 14m 38s\n",
            "794:\tlearn: 0.7929704\ttest: 0.7580667\tbest: 0.7584667 (722)\ttotal: 1m 15s\tremaining: 14m 38s\n",
            "795:\tlearn: 0.7929556\ttest: 0.7582000\tbest: 0.7584667 (722)\ttotal: 1m 15s\tremaining: 14m 38s\n",
            "796:\tlearn: 0.7930222\ttest: 0.7582000\tbest: 0.7584667 (722)\ttotal: 1m 16s\tremaining: 14m 38s\n",
            "797:\tlearn: 0.7931037\ttest: 0.7584667\tbest: 0.7584667 (722)\ttotal: 1m 16s\tremaining: 14m 38s\n",
            "798:\tlearn: 0.7930889\ttest: 0.7582667\tbest: 0.7584667 (722)\ttotal: 1m 16s\tremaining: 14m 38s\n",
            "799:\tlearn: 0.7931037\ttest: 0.7581333\tbest: 0.7584667 (722)\ttotal: 1m 16s\tremaining: 14m 37s\n",
            "800:\tlearn: 0.7931037\ttest: 0.7580000\tbest: 0.7584667 (722)\ttotal: 1m 16s\tremaining: 14m 37s\n",
            "801:\tlearn: 0.7931778\ttest: 0.7580667\tbest: 0.7584667 (722)\ttotal: 1m 16s\tremaining: 14m 37s\n",
            "802:\tlearn: 0.7932667\ttest: 0.7581333\tbest: 0.7584667 (722)\ttotal: 1m 16s\tremaining: 14m 37s\n",
            "803:\tlearn: 0.7932963\ttest: 0.7580000\tbest: 0.7584667 (722)\ttotal: 1m 16s\tremaining: 14m 37s\n",
            "804:\tlearn: 0.7933259\ttest: 0.7580000\tbest: 0.7584667 (722)\ttotal: 1m 16s\tremaining: 14m 37s\n",
            "805:\tlearn: 0.7933407\ttest: 0.7581333\tbest: 0.7584667 (722)\ttotal: 1m 16s\tremaining: 14m 37s\n",
            "806:\tlearn: 0.7933630\ttest: 0.7579333\tbest: 0.7584667 (722)\ttotal: 1m 17s\tremaining: 14m 37s\n",
            "807:\tlearn: 0.7932889\ttest: 0.7580667\tbest: 0.7584667 (722)\ttotal: 1m 17s\tremaining: 14m 37s\n",
            "808:\tlearn: 0.7934000\ttest: 0.7581333\tbest: 0.7584667 (722)\ttotal: 1m 17s\tremaining: 14m 37s\n",
            "809:\tlearn: 0.7934815\ttest: 0.7580000\tbest: 0.7584667 (722)\ttotal: 1m 17s\tremaining: 14m 37s\n",
            "810:\tlearn: 0.7934593\ttest: 0.7580667\tbest: 0.7584667 (722)\ttotal: 1m 17s\tremaining: 14m 37s\n",
            "811:\tlearn: 0.7934444\ttest: 0.7580000\tbest: 0.7584667 (722)\ttotal: 1m 17s\tremaining: 14m 36s\n",
            "812:\tlearn: 0.7934370\ttest: 0.7580667\tbest: 0.7584667 (722)\ttotal: 1m 17s\tremaining: 14m 36s\n",
            "813:\tlearn: 0.7934667\ttest: 0.7579333\tbest: 0.7584667 (722)\ttotal: 1m 17s\tremaining: 14m 36s\n",
            "814:\tlearn: 0.7935333\ttest: 0.7580667\tbest: 0.7584667 (722)\ttotal: 1m 17s\tremaining: 14m 36s\n",
            "815:\tlearn: 0.7935259\ttest: 0.7579333\tbest: 0.7584667 (722)\ttotal: 1m 17s\tremaining: 14m 36s\n",
            "816:\tlearn: 0.7935111\ttest: 0.7576667\tbest: 0.7584667 (722)\ttotal: 1m 17s\tremaining: 14m 36s\n",
            "817:\tlearn: 0.7935556\ttest: 0.7578667\tbest: 0.7584667 (722)\ttotal: 1m 18s\tremaining: 14m 36s\n",
            "818:\tlearn: 0.7936074\ttest: 0.7578667\tbest: 0.7584667 (722)\ttotal: 1m 18s\tremaining: 14m 36s\n",
            "819:\tlearn: 0.7937333\ttest: 0.7578000\tbest: 0.7584667 (722)\ttotal: 1m 18s\tremaining: 14m 36s\n",
            "820:\tlearn: 0.7937333\ttest: 0.7578667\tbest: 0.7584667 (722)\ttotal: 1m 18s\tremaining: 14m 35s\n",
            "821:\tlearn: 0.7937407\ttest: 0.7578000\tbest: 0.7584667 (722)\ttotal: 1m 18s\tremaining: 14m 35s\n",
            "822:\tlearn: 0.7937333\ttest: 0.7579333\tbest: 0.7584667 (722)\ttotal: 1m 18s\tremaining: 14m 35s\n",
            "823:\tlearn: 0.7937704\ttest: 0.7579333\tbest: 0.7584667 (722)\ttotal: 1m 18s\tremaining: 14m 35s\n",
            "824:\tlearn: 0.7938519\ttest: 0.7578000\tbest: 0.7584667 (722)\ttotal: 1m 18s\tremaining: 14m 35s\n",
            "825:\tlearn: 0.7940296\ttest: 0.7577333\tbest: 0.7584667 (722)\ttotal: 1m 18s\tremaining: 14m 35s\n",
            "826:\tlearn: 0.7939704\ttest: 0.7576000\tbest: 0.7584667 (722)\ttotal: 1m 18s\tremaining: 14m 35s\n",
            "827:\tlearn: 0.7940593\ttest: 0.7574667\tbest: 0.7584667 (722)\ttotal: 1m 19s\tremaining: 14m 35s\n",
            "828:\tlearn: 0.7941333\ttest: 0.7574667\tbest: 0.7584667 (722)\ttotal: 1m 19s\tremaining: 14m 34s\n",
            "829:\tlearn: 0.7941259\ttest: 0.7573333\tbest: 0.7584667 (722)\ttotal: 1m 19s\tremaining: 14m 34s\n",
            "830:\tlearn: 0.7941630\ttest: 0.7574667\tbest: 0.7584667 (722)\ttotal: 1m 19s\tremaining: 14m 34s\n",
            "831:\tlearn: 0.7942815\ttest: 0.7576667\tbest: 0.7584667 (722)\ttotal: 1m 19s\tremaining: 14m 34s\n",
            "832:\tlearn: 0.7943111\ttest: 0.7576667\tbest: 0.7584667 (722)\ttotal: 1m 19s\tremaining: 14m 34s\n",
            "833:\tlearn: 0.7942815\ttest: 0.7580667\tbest: 0.7584667 (722)\ttotal: 1m 19s\tremaining: 14m 34s\n",
            "834:\tlearn: 0.7942741\ttest: 0.7582000\tbest: 0.7584667 (722)\ttotal: 1m 19s\tremaining: 14m 34s\n",
            "835:\tlearn: 0.7943407\ttest: 0.7580000\tbest: 0.7584667 (722)\ttotal: 1m 19s\tremaining: 14m 34s\n",
            "836:\tlearn: 0.7943852\ttest: 0.7581333\tbest: 0.7584667 (722)\ttotal: 1m 19s\tremaining: 14m 33s\n",
            "837:\tlearn: 0.7944370\ttest: 0.7582000\tbest: 0.7584667 (722)\ttotal: 1m 19s\tremaining: 14m 33s\n",
            "838:\tlearn: 0.7944000\ttest: 0.7582000\tbest: 0.7584667 (722)\ttotal: 1m 20s\tremaining: 14m 33s\n",
            "839:\tlearn: 0.7944074\ttest: 0.7580667\tbest: 0.7584667 (722)\ttotal: 1m 20s\tremaining: 14m 33s\n",
            "840:\tlearn: 0.7943704\ttest: 0.7578000\tbest: 0.7584667 (722)\ttotal: 1m 20s\tremaining: 14m 33s\n",
            "841:\tlearn: 0.7944074\ttest: 0.7578667\tbest: 0.7584667 (722)\ttotal: 1m 20s\tremaining: 14m 33s\n",
            "842:\tlearn: 0.7944222\ttest: 0.7577333\tbest: 0.7584667 (722)\ttotal: 1m 20s\tremaining: 14m 33s\n",
            "843:\tlearn: 0.7945185\ttest: 0.7575333\tbest: 0.7584667 (722)\ttotal: 1m 20s\tremaining: 14m 33s\n",
            "844:\tlearn: 0.7945630\ttest: 0.7574000\tbest: 0.7584667 (722)\ttotal: 1m 20s\tremaining: 14m 32s\n",
            "845:\tlearn: 0.7946815\ttest: 0.7572667\tbest: 0.7584667 (722)\ttotal: 1m 20s\tremaining: 14m 32s\n",
            "846:\tlearn: 0.7947185\ttest: 0.7573333\tbest: 0.7584667 (722)\ttotal: 1m 20s\tremaining: 14m 32s\n",
            "847:\tlearn: 0.7947704\ttest: 0.7572667\tbest: 0.7584667 (722)\ttotal: 1m 20s\tremaining: 14m 32s\n",
            "848:\tlearn: 0.7947778\ttest: 0.7572667\tbest: 0.7584667 (722)\ttotal: 1m 20s\tremaining: 14m 32s\n",
            "849:\tlearn: 0.7948370\ttest: 0.7577333\tbest: 0.7584667 (722)\ttotal: 1m 21s\tremaining: 14m 32s\n",
            "850:\tlearn: 0.7949037\ttest: 0.7573333\tbest: 0.7584667 (722)\ttotal: 1m 21s\tremaining: 14m 32s\n",
            "851:\tlearn: 0.7949185\ttest: 0.7574000\tbest: 0.7584667 (722)\ttotal: 1m 21s\tremaining: 14m 32s\n",
            "852:\tlearn: 0.7949185\ttest: 0.7574667\tbest: 0.7584667 (722)\ttotal: 1m 21s\tremaining: 14m 32s\n",
            "853:\tlearn: 0.7949926\ttest: 0.7575333\tbest: 0.7584667 (722)\ttotal: 1m 21s\tremaining: 14m 32s\n",
            "854:\tlearn: 0.7949630\ttest: 0.7573333\tbest: 0.7584667 (722)\ttotal: 1m 21s\tremaining: 14m 31s\n",
            "855:\tlearn: 0.7949778\ttest: 0.7572000\tbest: 0.7584667 (722)\ttotal: 1m 21s\tremaining: 14m 31s\n",
            "856:\tlearn: 0.7950815\ttest: 0.7570667\tbest: 0.7584667 (722)\ttotal: 1m 21s\tremaining: 14m 31s\n",
            "857:\tlearn: 0.7951556\ttest: 0.7571333\tbest: 0.7584667 (722)\ttotal: 1m 21s\tremaining: 14m 31s\n",
            "858:\tlearn: 0.7952074\ttest: 0.7574000\tbest: 0.7584667 (722)\ttotal: 1m 21s\tremaining: 14m 31s\n",
            "859:\tlearn: 0.7952296\ttest: 0.7574667\tbest: 0.7584667 (722)\ttotal: 1m 21s\tremaining: 14m 31s\n",
            "860:\tlearn: 0.7952148\ttest: 0.7574000\tbest: 0.7584667 (722)\ttotal: 1m 22s\tremaining: 14m 30s\n",
            "861:\tlearn: 0.7952074\ttest: 0.7573333\tbest: 0.7584667 (722)\ttotal: 1m 22s\tremaining: 14m 30s\n",
            "862:\tlearn: 0.7952296\ttest: 0.7574000\tbest: 0.7584667 (722)\ttotal: 1m 22s\tremaining: 14m 30s\n",
            "863:\tlearn: 0.7952370\ttest: 0.7573333\tbest: 0.7584667 (722)\ttotal: 1m 22s\tremaining: 14m 30s\n",
            "864:\tlearn: 0.7952741\ttest: 0.7574667\tbest: 0.7584667 (722)\ttotal: 1m 22s\tremaining: 14m 30s\n",
            "865:\tlearn: 0.7952889\ttest: 0.7574667\tbest: 0.7584667 (722)\ttotal: 1m 22s\tremaining: 14m 30s\n",
            "866:\tlearn: 0.7953778\ttest: 0.7574667\tbest: 0.7584667 (722)\ttotal: 1m 22s\tremaining: 14m 30s\n",
            "867:\tlearn: 0.7953333\ttest: 0.7574667\tbest: 0.7584667 (722)\ttotal: 1m 22s\tremaining: 14m 30s\n",
            "868:\tlearn: 0.7954593\ttest: 0.7575333\tbest: 0.7584667 (722)\ttotal: 1m 22s\tremaining: 14m 30s\n",
            "869:\tlearn: 0.7954815\ttest: 0.7576000\tbest: 0.7584667 (722)\ttotal: 1m 22s\tremaining: 14m 30s\n",
            "870:\tlearn: 0.7954667\ttest: 0.7575333\tbest: 0.7584667 (722)\ttotal: 1m 23s\tremaining: 14m 30s\n",
            "871:\tlearn: 0.7954667\ttest: 0.7574000\tbest: 0.7584667 (722)\ttotal: 1m 23s\tremaining: 14m 29s\n",
            "872:\tlearn: 0.7954889\ttest: 0.7573333\tbest: 0.7584667 (722)\ttotal: 1m 23s\tremaining: 14m 29s\n",
            "873:\tlearn: 0.7956667\ttest: 0.7574667\tbest: 0.7584667 (722)\ttotal: 1m 23s\tremaining: 14m 29s\n",
            "874:\tlearn: 0.7957037\ttest: 0.7574667\tbest: 0.7584667 (722)\ttotal: 1m 23s\tremaining: 14m 29s\n",
            "875:\tlearn: 0.7957407\ttest: 0.7572667\tbest: 0.7584667 (722)\ttotal: 1m 23s\tremaining: 14m 29s\n",
            "876:\tlearn: 0.7957778\ttest: 0.7576000\tbest: 0.7584667 (722)\ttotal: 1m 23s\tremaining: 14m 29s\n",
            "877:\tlearn: 0.7957852\ttest: 0.7576000\tbest: 0.7584667 (722)\ttotal: 1m 23s\tremaining: 14m 29s\n",
            "878:\tlearn: 0.7958370\ttest: 0.7576000\tbest: 0.7584667 (722)\ttotal: 1m 23s\tremaining: 14m 29s\n",
            "879:\tlearn: 0.7958593\ttest: 0.7576667\tbest: 0.7584667 (722)\ttotal: 1m 23s\tremaining: 14m 28s\n",
            "880:\tlearn: 0.7959037\ttest: 0.7577333\tbest: 0.7584667 (722)\ttotal: 1m 23s\tremaining: 14m 28s\n",
            "881:\tlearn: 0.7960444\ttest: 0.7577333\tbest: 0.7584667 (722)\ttotal: 1m 24s\tremaining: 14m 28s\n",
            "882:\tlearn: 0.7960593\ttest: 0.7577333\tbest: 0.7584667 (722)\ttotal: 1m 24s\tremaining: 14m 28s\n",
            "883:\tlearn: 0.7960889\ttest: 0.7574667\tbest: 0.7584667 (722)\ttotal: 1m 24s\tremaining: 14m 28s\n",
            "884:\tlearn: 0.7962148\ttest: 0.7573333\tbest: 0.7584667 (722)\ttotal: 1m 24s\tremaining: 14m 28s\n",
            "885:\tlearn: 0.7962296\ttest: 0.7574667\tbest: 0.7584667 (722)\ttotal: 1m 24s\tremaining: 14m 28s\n",
            "886:\tlearn: 0.7962963\ttest: 0.7580000\tbest: 0.7584667 (722)\ttotal: 1m 24s\tremaining: 14m 28s\n",
            "887:\tlearn: 0.7964667\ttest: 0.7576667\tbest: 0.7584667 (722)\ttotal: 1m 24s\tremaining: 14m 28s\n",
            "888:\tlearn: 0.7964593\ttest: 0.7574667\tbest: 0.7584667 (722)\ttotal: 1m 24s\tremaining: 14m 28s\n",
            "889:\tlearn: 0.7964963\ttest: 0.7575333\tbest: 0.7584667 (722)\ttotal: 1m 24s\tremaining: 14m 28s\n",
            "890:\tlearn: 0.7964963\ttest: 0.7573333\tbest: 0.7584667 (722)\ttotal: 1m 24s\tremaining: 14m 28s\n",
            "891:\tlearn: 0.7964889\ttest: 0.7576000\tbest: 0.7584667 (722)\ttotal: 1m 25s\tremaining: 14m 28s\n",
            "892:\tlearn: 0.7965333\ttest: 0.7574667\tbest: 0.7584667 (722)\ttotal: 1m 25s\tremaining: 14m 27s\n",
            "893:\tlearn: 0.7965333\ttest: 0.7578000\tbest: 0.7584667 (722)\ttotal: 1m 25s\tremaining: 14m 27s\n",
            "894:\tlearn: 0.7966000\ttest: 0.7578667\tbest: 0.7584667 (722)\ttotal: 1m 25s\tremaining: 14m 27s\n",
            "895:\tlearn: 0.7966296\ttest: 0.7577333\tbest: 0.7584667 (722)\ttotal: 1m 25s\tremaining: 14m 27s\n",
            "896:\tlearn: 0.7966741\ttest: 0.7576000\tbest: 0.7584667 (722)\ttotal: 1m 25s\tremaining: 14m 27s\n",
            "897:\tlearn: 0.7967333\ttest: 0.7574667\tbest: 0.7584667 (722)\ttotal: 1m 25s\tremaining: 14m 27s\n",
            "898:\tlearn: 0.7967259\ttest: 0.7573333\tbest: 0.7584667 (722)\ttotal: 1m 25s\tremaining: 14m 27s\n",
            "899:\tlearn: 0.7967630\ttest: 0.7578000\tbest: 0.7584667 (722)\ttotal: 1m 25s\tremaining: 14m 27s\n",
            "900:\tlearn: 0.7967852\ttest: 0.7575333\tbest: 0.7584667 (722)\ttotal: 1m 25s\tremaining: 14m 27s\n",
            "901:\tlearn: 0.7968444\ttest: 0.7575333\tbest: 0.7584667 (722)\ttotal: 1m 25s\tremaining: 14m 27s\n",
            "902:\tlearn: 0.7969111\ttest: 0.7578000\tbest: 0.7584667 (722)\ttotal: 1m 26s\tremaining: 14m 27s\n",
            "903:\tlearn: 0.7969259\ttest: 0.7575333\tbest: 0.7584667 (722)\ttotal: 1m 26s\tremaining: 14m 26s\n",
            "904:\tlearn: 0.7970370\ttest: 0.7576000\tbest: 0.7584667 (722)\ttotal: 1m 26s\tremaining: 14m 26s\n",
            "905:\tlearn: 0.7970519\ttest: 0.7576667\tbest: 0.7584667 (722)\ttotal: 1m 26s\tremaining: 14m 26s\n",
            "906:\tlearn: 0.7970296\ttest: 0.7576667\tbest: 0.7584667 (722)\ttotal: 1m 26s\tremaining: 14m 26s\n",
            "907:\tlearn: 0.7971111\ttest: 0.7575333\tbest: 0.7584667 (722)\ttotal: 1m 26s\tremaining: 14m 26s\n",
            "908:\tlearn: 0.7971111\ttest: 0.7576000\tbest: 0.7584667 (722)\ttotal: 1m 26s\tremaining: 14m 26s\n",
            "909:\tlearn: 0.7971407\ttest: 0.7574000\tbest: 0.7584667 (722)\ttotal: 1m 26s\tremaining: 14m 26s\n",
            "910:\tlearn: 0.7972000\ttest: 0.7576000\tbest: 0.7584667 (722)\ttotal: 1m 26s\tremaining: 14m 26s\n",
            "911:\tlearn: 0.7971481\ttest: 0.7574667\tbest: 0.7584667 (722)\ttotal: 1m 26s\tremaining: 14m 25s\n",
            "912:\tlearn: 0.7971259\ttest: 0.7574000\tbest: 0.7584667 (722)\ttotal: 1m 26s\tremaining: 14m 25s\n",
            "913:\tlearn: 0.7971259\ttest: 0.7572667\tbest: 0.7584667 (722)\ttotal: 1m 27s\tremaining: 14m 25s\n",
            "914:\tlearn: 0.7972074\ttest: 0.7574000\tbest: 0.7584667 (722)\ttotal: 1m 27s\tremaining: 14m 25s\n",
            "915:\tlearn: 0.7972667\ttest: 0.7574667\tbest: 0.7584667 (722)\ttotal: 1m 27s\tremaining: 14m 25s\n",
            "916:\tlearn: 0.7973481\ttest: 0.7574000\tbest: 0.7584667 (722)\ttotal: 1m 27s\tremaining: 14m 25s\n",
            "917:\tlearn: 0.7973185\ttest: 0.7575333\tbest: 0.7584667 (722)\ttotal: 1m 27s\tremaining: 14m 25s\n",
            "918:\tlearn: 0.7973852\ttest: 0.7576000\tbest: 0.7584667 (722)\ttotal: 1m 27s\tremaining: 14m 25s\n",
            "919:\tlearn: 0.7973926\ttest: 0.7576000\tbest: 0.7584667 (722)\ttotal: 1m 27s\tremaining: 14m 25s\n",
            "920:\tlearn: 0.7974667\ttest: 0.7574000\tbest: 0.7584667 (722)\ttotal: 1m 27s\tremaining: 14m 25s\n",
            "921:\tlearn: 0.7974148\ttest: 0.7575333\tbest: 0.7584667 (722)\ttotal: 1m 27s\tremaining: 14m 24s\n",
            "922:\tlearn: 0.7974889\ttest: 0.7574000\tbest: 0.7584667 (722)\ttotal: 1m 27s\tremaining: 14m 24s\n",
            "bestTest = 0.7584666667\n",
            "bestIteration = 722\n",
            "Shrink model to first 723 iterations.\n"
          ],
          "name": "stdout"
        },
        {
          "output_type": "execute_result",
          "data": {
            "text/plain": [
              "<catboost.core.CatBoostClassifier at 0x7f78d042fdd8>"
            ]
          },
          "metadata": {
            "tags": []
          },
          "execution_count": 76
        }
      ]
    },
    {
      "cell_type": "code",
      "metadata": {
        "id": "6kqU9eFhB3Vn",
        "outputId": "fccb0b98-d68b-44d0-f395-ef91d4cf84e2",
        "colab": {
          "base_uri": "https://localhost:8080/",
          "height": 392
        }
      },
      "source": [
        "prediction = model_cat.predict(test_df[X_train.columns])\n",
        "submission = pd.DataFrame(prediction, columns=['label'])\n",
        "submission.to_csv('nowed.csv', index=False)\n",
        "submission"
      ],
      "execution_count": null,
      "outputs": [
        {
          "output_type": "execute_result",
          "data": {
            "text/html": [
              "<div>\n",
              "<style scoped>\n",
              "    .dataframe tbody tr th:only-of-type {\n",
              "        vertical-align: middle;\n",
              "    }\n",
              "\n",
              "    .dataframe tbody tr th {\n",
              "        vertical-align: top;\n",
              "    }\n",
              "\n",
              "    .dataframe thead th {\n",
              "        text-align: right;\n",
              "    }\n",
              "</style>\n",
              "<table border=\"1\" class=\"dataframe\">\n",
              "  <thead>\n",
              "    <tr style=\"text-align: right;\">\n",
              "      <th></th>\n",
              "      <th>label</th>\n",
              "    </tr>\n",
              "  </thead>\n",
              "  <tbody>\n",
              "    <tr>\n",
              "      <th>0</th>\n",
              "      <td>2</td>\n",
              "    </tr>\n",
              "    <tr>\n",
              "      <th>1</th>\n",
              "      <td>0</td>\n",
              "    </tr>\n",
              "    <tr>\n",
              "      <th>2</th>\n",
              "      <td>0</td>\n",
              "    </tr>\n",
              "    <tr>\n",
              "      <th>3</th>\n",
              "      <td>0</td>\n",
              "    </tr>\n",
              "    <tr>\n",
              "      <th>4</th>\n",
              "      <td>1</td>\n",
              "    </tr>\n",
              "    <tr>\n",
              "      <th>...</th>\n",
              "      <td>...</td>\n",
              "    </tr>\n",
              "    <tr>\n",
              "      <th>29995</th>\n",
              "      <td>0</td>\n",
              "    </tr>\n",
              "    <tr>\n",
              "      <th>29996</th>\n",
              "      <td>0</td>\n",
              "    </tr>\n",
              "    <tr>\n",
              "      <th>29997</th>\n",
              "      <td>0</td>\n",
              "    </tr>\n",
              "    <tr>\n",
              "      <th>29998</th>\n",
              "      <td>0</td>\n",
              "    </tr>\n",
              "    <tr>\n",
              "      <th>29999</th>\n",
              "      <td>0</td>\n",
              "    </tr>\n",
              "  </tbody>\n",
              "</table>\n",
              "<p>30000 rows × 1 columns</p>\n",
              "</div>"
            ],
            "text/plain": [
              "       label\n",
              "0          2\n",
              "1          0\n",
              "2          0\n",
              "3          0\n",
              "4          1\n",
              "...      ...\n",
              "29995      0\n",
              "29996      0\n",
              "29997      0\n",
              "29998      0\n",
              "29999      0\n",
              "\n",
              "[30000 rows x 1 columns]"
            ]
          },
          "metadata": {
            "tags": []
          },
          "execution_count": 74
        }
      ]
    },
    {
      "cell_type": "markdown",
      "metadata": {
        "id": "_zQT3D-2HCG7"
      },
      "source": [
        "# Roberta"
      ]
    },
    {
      "cell_type": "code",
      "metadata": {
        "id": "gIikjqI1Zl9w",
        "outputId": "251a7452-7b4f-4643-ffd5-3f4296c27ef3",
        "colab": {
          "base_uri": "https://localhost:8080/",
          "height": 1000
        }
      },
      "source": [
        "!pip install simpletransformers"
      ],
      "execution_count": null,
      "outputs": [
        {
          "output_type": "stream",
          "text": [
            "Collecting simpletransformers\n",
            "\u001b[?25l  Downloading https://files.pythonhosted.org/packages/f8/bc/9e4a6c6c116887d2534eb908e5c889c20c8cf763762f294d9d42bc00be45/simpletransformers-0.48.9-py3-none-any.whl (213kB)\n",
            "\r\u001b[K     |█▌                              | 10kB 26.5MB/s eta 0:00:01\r\u001b[K     |███                             | 20kB 3.4MB/s eta 0:00:01\r\u001b[K     |████▋                           | 30kB 4.6MB/s eta 0:00:01\r\u001b[K     |██████▏                         | 40kB 4.9MB/s eta 0:00:01\r\u001b[K     |███████▊                        | 51kB 4.0MB/s eta 0:00:01\r\u001b[K     |█████████▏                      | 61kB 4.6MB/s eta 0:00:01\r\u001b[K     |██████████▊                     | 71kB 4.8MB/s eta 0:00:01\r\u001b[K     |████████████▎                   | 81kB 5.2MB/s eta 0:00:01\r\u001b[K     |█████████████▉                  | 92kB 5.5MB/s eta 0:00:01\r\u001b[K     |███████████████▍                | 102kB 5.5MB/s eta 0:00:01\r\u001b[K     |█████████████████               | 112kB 5.5MB/s eta 0:00:01\r\u001b[K     |██████████████████▍             | 122kB 5.5MB/s eta 0:00:01\r\u001b[K     |████████████████████            | 133kB 5.5MB/s eta 0:00:01\r\u001b[K     |█████████████████████▌          | 143kB 5.5MB/s eta 0:00:01\r\u001b[K     |███████████████████████         | 153kB 5.5MB/s eta 0:00:01\r\u001b[K     |████████████████████████▋       | 163kB 5.5MB/s eta 0:00:01\r\u001b[K     |██████████████████████████▏     | 174kB 5.5MB/s eta 0:00:01\r\u001b[K     |███████████████████████████▋    | 184kB 5.5MB/s eta 0:00:01\r\u001b[K     |█████████████████████████████▏  | 194kB 5.5MB/s eta 0:00:01\r\u001b[K     |██████████████████████████████▊ | 204kB 5.5MB/s eta 0:00:01\r\u001b[K     |████████████████████████████████| 215kB 5.5MB/s \n",
            "\u001b[?25hRequirement already satisfied: requests in /usr/local/lib/python3.6/dist-packages (from simpletransformers) (2.23.0)\n",
            "Collecting seqeval\n",
            "  Downloading https://files.pythonhosted.org/packages/75/63/180f7556bfd9b0f89bc853ee46d01a3a611d74798230a930afac6873d15c/seqeval-1.0.0.tar.gz\n",
            "Collecting tensorboardx\n",
            "\u001b[?25l  Downloading https://files.pythonhosted.org/packages/af/0c/4f41bcd45db376e6fe5c619c01100e9b7531c55791b7244815bac6eac32c/tensorboardX-2.1-py2.py3-none-any.whl (308kB)\n",
            "\u001b[K     |████████████████████████████████| 317kB 19.4MB/s \n",
            "\u001b[?25hRequirement already satisfied: pandas in /usr/local/lib/python3.6/dist-packages (from simpletransformers) (1.1.2)\n",
            "Collecting tqdm>=4.47.0\n",
            "\u001b[?25l  Downloading https://files.pythonhosted.org/packages/bd/cf/f91813073e4135c1183cadf968256764a6fe4e35c351d596d527c0540461/tqdm-4.50.2-py2.py3-none-any.whl (70kB)\n",
            "\u001b[K     |████████████████████████████████| 71kB 7.3MB/s \n",
            "\u001b[?25hRequirement already satisfied: regex in /usr/local/lib/python3.6/dist-packages (from simpletransformers) (2019.12.20)\n",
            "Requirement already satisfied: scipy in /usr/local/lib/python3.6/dist-packages (from simpletransformers) (1.4.1)\n",
            "Requirement already satisfied: transformers>=3.0.2 in /usr/local/lib/python3.6/dist-packages (from simpletransformers) (3.3.1)\n",
            "Collecting wandb\n",
            "\u001b[?25l  Downloading https://files.pythonhosted.org/packages/80/14/9a2c792e48e01e55913b9495ce0e8a16297e2bc1cc99e86a848d205c91e7/wandb-0.10.5-py2.py3-none-any.whl (1.7MB)\n",
            "\u001b[K     |████████████████████████████████| 1.7MB 23.8MB/s \n",
            "\u001b[?25hRequirement already satisfied: scikit-learn in /usr/local/lib/python3.6/dist-packages (from simpletransformers) (0.22.2.post1)\n",
            "Requirement already satisfied: tokenizers in /usr/local/lib/python3.6/dist-packages (from simpletransformers) (0.8.1rc2)\n",
            "Requirement already satisfied: numpy in /usr/local/lib/python3.6/dist-packages (from simpletransformers) (1.18.5)\n",
            "Collecting streamlit\n",
            "\u001b[?25l  Downloading https://files.pythonhosted.org/packages/5a/13/c738cf11d526ede46a326f14ede28141ce6a4c2e22cf69842d80fa6cd2a5/streamlit-0.68.0-py2.py3-none-any.whl (7.4MB)\n",
            "\u001b[K     |████████████████████████████████| 7.4MB 49.4MB/s \n",
            "\u001b[?25hRequirement already satisfied: certifi>=2017.4.17 in /usr/local/lib/python3.6/dist-packages (from requests->simpletransformers) (2020.6.20)\n",
            "Requirement already satisfied: idna<3,>=2.5 in /usr/local/lib/python3.6/dist-packages (from requests->simpletransformers) (2.10)\n",
            "Requirement already satisfied: urllib3!=1.25.0,!=1.25.1,<1.26,>=1.21.1 in /usr/local/lib/python3.6/dist-packages (from requests->simpletransformers) (1.24.3)\n",
            "Requirement already satisfied: chardet<4,>=3.0.2 in /usr/local/lib/python3.6/dist-packages (from requests->simpletransformers) (3.0.4)\n",
            "Requirement already satisfied: six in /usr/local/lib/python3.6/dist-packages (from tensorboardx->simpletransformers) (1.15.0)\n",
            "Requirement already satisfied: protobuf>=3.8.0 in /usr/local/lib/python3.6/dist-packages (from tensorboardx->simpletransformers) (3.12.4)\n",
            "Requirement already satisfied: python-dateutil>=2.7.3 in /usr/local/lib/python3.6/dist-packages (from pandas->simpletransformers) (2.8.1)\n",
            "Requirement already satisfied: pytz>=2017.2 in /usr/local/lib/python3.6/dist-packages (from pandas->simpletransformers) (2018.9)\n",
            "Requirement already satisfied: dataclasses; python_version < \"3.7\" in /usr/local/lib/python3.6/dist-packages (from transformers>=3.0.2->simpletransformers) (0.7)\n",
            "Requirement already satisfied: packaging in /usr/local/lib/python3.6/dist-packages (from transformers>=3.0.2->simpletransformers) (20.4)\n",
            "Requirement already satisfied: filelock in /usr/local/lib/python3.6/dist-packages (from transformers>=3.0.2->simpletransformers) (3.0.12)\n",
            "Requirement already satisfied: sentencepiece!=0.1.92 in /usr/local/lib/python3.6/dist-packages (from transformers>=3.0.2->simpletransformers) (0.1.91)\n",
            "Requirement already satisfied: sacremoses in /usr/local/lib/python3.6/dist-packages (from transformers>=3.0.2->simpletransformers) (0.0.43)\n",
            "Collecting GitPython>=1.0.0\n",
            "\u001b[?25l  Downloading https://files.pythonhosted.org/packages/c0/d7/b2b0672e0331567157adf9281f41ee731c412ee518ca5e6552c27fa73c91/GitPython-3.1.9-py3-none-any.whl (159kB)\n",
            "\u001b[K     |████████████████████████████████| 163kB 54.5MB/s \n",
            "\u001b[?25hCollecting sentry-sdk>=0.4.0\n",
            "\u001b[?25l  Downloading https://files.pythonhosted.org/packages/cd/df/1145dc9389138eb47649806b42aaad5b0ecdfd3e93c7c51c1fffd80a8f90/sentry_sdk-0.18.0-py2.py3-none-any.whl (120kB)\n",
            "\u001b[K     |████████████████████████████████| 122kB 59.4MB/s \n",
            "\u001b[?25hRequirement already satisfied: Click>=7.0 in /usr/local/lib/python3.6/dist-packages (from wandb->simpletransformers) (7.1.2)\n",
            "Collecting shortuuid>=0.5.0\n",
            "  Downloading https://files.pythonhosted.org/packages/25/a6/2ecc1daa6a304e7f1b216f0896b26156b78e7c38e1211e9b798b4716c53d/shortuuid-1.0.1-py3-none-any.whl\n",
            "Collecting configparser>=3.8.1\n",
            "  Downloading https://files.pythonhosted.org/packages/08/b2/ef713e0e67f6e7ec7d59aea3ee78d05b39c15930057e724cc6d362a8c3bb/configparser-5.0.1-py3-none-any.whl\n",
            "Requirement already satisfied: PyYAML in /usr/local/lib/python3.6/dist-packages (from wandb->simpletransformers) (3.13)\n",
            "Collecting docker-pycreds>=0.4.0\n",
            "  Downloading https://files.pythonhosted.org/packages/f5/e8/f6bd1eee09314e7e6dee49cbe2c5e22314ccdb38db16c9fc72d2fa80d054/docker_pycreds-0.4.0-py2.py3-none-any.whl\n",
            "Requirement already satisfied: psutil>=5.0.0 in /usr/local/lib/python3.6/dist-packages (from wandb->simpletransformers) (5.4.8)\n",
            "Collecting subprocess32>=3.5.3\n",
            "\u001b[?25l  Downloading https://files.pythonhosted.org/packages/32/c8/564be4d12629b912ea431f1a50eb8b3b9d00f1a0b1ceff17f266be190007/subprocess32-3.5.4.tar.gz (97kB)\n",
            "\u001b[K     |████████████████████████████████| 102kB 16.0MB/s \n",
            "\u001b[?25hRequirement already satisfied: promise<3,>=2.0 in /usr/local/lib/python3.6/dist-packages (from wandb->simpletransformers) (2.3)\n",
            "Collecting watchdog>=0.8.3\n",
            "\u001b[?25l  Downloading https://files.pythonhosted.org/packages/0e/06/121302598a4fc01aca942d937f4a2c33430b7181137b35758913a8db10ad/watchdog-0.10.3.tar.gz (94kB)\n",
            "\u001b[K     |████████████████████████████████| 102kB 15.9MB/s \n",
            "\u001b[?25hRequirement already satisfied: joblib>=0.11 in /usr/local/lib/python3.6/dist-packages (from scikit-learn->simpletransformers) (0.16.0)\n",
            "Requirement already satisfied: pyarrow in /usr/local/lib/python3.6/dist-packages (from streamlit->simpletransformers) (0.14.1)\n",
            "Collecting blinker\n",
            "\u001b[?25l  Downloading https://files.pythonhosted.org/packages/1b/51/e2a9f3b757eb802f61dc1f2b09c8c99f6eb01cf06416c0671253536517b6/blinker-1.4.tar.gz (111kB)\n",
            "\u001b[K     |████████████████████████████████| 112kB 50.2MB/s \n",
            "\u001b[?25hCollecting validators\n",
            "  Downloading https://files.pythonhosted.org/packages/41/4a/3360ff3cf2b4a1b9721ac1fbff5f84663f41047d9874b3aa1ac82e862c44/validators-0.18.1-py3-none-any.whl\n",
            "Requirement already satisfied: tornado>=5.0 in /usr/local/lib/python3.6/dist-packages (from streamlit->simpletransformers) (5.1.1)\n",
            "Collecting pydeck>=0.1.dev5\n",
            "\u001b[?25l  Downloading https://files.pythonhosted.org/packages/51/1e/296f4108bf357e684617a776ecaf06ee93b43e30c35996dfac1aa985aa6c/pydeck-0.5.0b1-py2.py3-none-any.whl (4.4MB)\n",
            "\u001b[K     |████████████████████████████████| 4.4MB 50.3MB/s \n",
            "\u001b[?25hRequirement already satisfied: altair>=3.2.0 in /usr/local/lib/python3.6/dist-packages (from streamlit->simpletransformers) (4.1.0)\n",
            "Requirement already satisfied: toml in /usr/local/lib/python3.6/dist-packages (from streamlit->simpletransformers) (0.10.1)\n",
            "Requirement already satisfied: pillow>=6.2.0 in /usr/local/lib/python3.6/dist-packages (from streamlit->simpletransformers) (7.0.0)\n",
            "Collecting base58\n",
            "  Downloading https://files.pythonhosted.org/packages/3c/03/58572025c77b9e6027155b272a1b96298e711cd4f95c24967f7137ab0c4b/base58-2.0.1-py3-none-any.whl\n",
            "Collecting botocore>=1.13.44\n",
            "\u001b[?25l  Downloading https://files.pythonhosted.org/packages/2d/9e/afa41db0cd911869305bb783b9b021be67ea23c8b7b317caa46632dbf3cf/botocore-1.18.16-py2.py3-none-any.whl (6.7MB)\n",
            "\u001b[K     |████████████████████████████████| 6.7MB 28.4MB/s \n",
            "\u001b[?25hRequirement already satisfied: tzlocal in /usr/local/lib/python3.6/dist-packages (from streamlit->simpletransformers) (1.5.1)\n",
            "Collecting enum-compat\n",
            "  Downloading https://files.pythonhosted.org/packages/55/ae/467bc4509246283bb59746e21a1a2f5a8aecbef56b1fa6eaca78cd438c8b/enum_compat-0.0.3-py3-none-any.whl\n",
            "Collecting boto3\n",
            "\u001b[?25l  Downloading https://files.pythonhosted.org/packages/3f/87/31810f044f2dd2101f2ecd85c5539bbddef4cff47df39eb0be895cc23af4/boto3-1.15.16-py2.py3-none-any.whl (129kB)\n",
            "\u001b[K     |████████████████████████████████| 133kB 60.5MB/s \n",
            "\u001b[?25hRequirement already satisfied: astor in /usr/local/lib/python3.6/dist-packages (from streamlit->simpletransformers) (0.8.1)\n",
            "Requirement already satisfied: cachetools>=4.0 in /usr/local/lib/python3.6/dist-packages (from streamlit->simpletransformers) (4.1.1)\n",
            "Requirement already satisfied: setuptools in /usr/local/lib/python3.6/dist-packages (from protobuf>=3.8.0->tensorboardx->simpletransformers) (50.3.0)\n",
            "Requirement already satisfied: pyparsing>=2.0.2 in /usr/local/lib/python3.6/dist-packages (from packaging->transformers>=3.0.2->simpletransformers) (2.4.7)\n",
            "Collecting gitdb<5,>=4.0.1\n",
            "\u001b[?25l  Downloading https://files.pythonhosted.org/packages/48/11/d1800bca0a3bae820b84b7d813ad1eff15a48a64caea9c823fc8c1b119e8/gitdb-4.0.5-py3-none-any.whl (63kB)\n",
            "\u001b[K     |████████████████████████████████| 71kB 10.8MB/s \n",
            "\u001b[?25hCollecting pathtools>=0.1.1\n",
            "  Downloading https://files.pythonhosted.org/packages/e7/7f/470d6fcdf23f9f3518f6b0b76be9df16dcc8630ad409947f8be2eb0ed13a/pathtools-0.1.2.tar.gz\n",
            "Requirement already satisfied: decorator>=3.4.0 in /usr/local/lib/python3.6/dist-packages (from validators->streamlit->simpletransformers) (4.4.2)\n",
            "Requirement already satisfied: traitlets>=4.3.2 in /usr/local/lib/python3.6/dist-packages (from pydeck>=0.1.dev5->streamlit->simpletransformers) (4.3.3)\n",
            "Collecting ipykernel>=5.1.2; python_version >= \"3.4\"\n",
            "\u001b[?25l  Downloading https://files.pythonhosted.org/packages/52/19/c2812690d8b340987eecd2cbc18549b1d130b94c5d97fcbe49f5f8710edf/ipykernel-5.3.4-py3-none-any.whl (120kB)\n",
            "\u001b[K     |████████████████████████████████| 122kB 49.7MB/s \n",
            "\u001b[?25hRequirement already satisfied: jinja2>=2.10.1 in /usr/local/lib/python3.6/dist-packages (from pydeck>=0.1.dev5->streamlit->simpletransformers) (2.11.2)\n",
            "Requirement already satisfied: ipywidgets>=7.0.0 in /usr/local/lib/python3.6/dist-packages (from pydeck>=0.1.dev5->streamlit->simpletransformers) (7.5.1)\n",
            "Requirement already satisfied: entrypoints in /usr/local/lib/python3.6/dist-packages (from altair>=3.2.0->streamlit->simpletransformers) (0.3)\n",
            "Requirement already satisfied: jsonschema in /usr/local/lib/python3.6/dist-packages (from altair>=3.2.0->streamlit->simpletransformers) (2.6.0)\n",
            "Requirement already satisfied: toolz in /usr/local/lib/python3.6/dist-packages (from altair>=3.2.0->streamlit->simpletransformers) (0.11.1)\n",
            "Collecting jmespath<1.0.0,>=0.7.1\n",
            "  Downloading https://files.pythonhosted.org/packages/07/cb/5f001272b6faeb23c1c9e0acc04d48eaaf5c862c17709d20e3469c6e0139/jmespath-0.10.0-py2.py3-none-any.whl\n",
            "Collecting s3transfer<0.4.0,>=0.3.0\n",
            "\u001b[?25l  Downloading https://files.pythonhosted.org/packages/69/79/e6afb3d8b0b4e96cefbdc690f741d7dd24547ff1f94240c997a26fa908d3/s3transfer-0.3.3-py2.py3-none-any.whl (69kB)\n",
            "\u001b[K     |████████████████████████████████| 71kB 11.6MB/s \n",
            "\u001b[?25hCollecting smmap<4,>=3.0.1\n",
            "  Downloading https://files.pythonhosted.org/packages/b0/9a/4d409a6234eb940e6a78dfdfc66156e7522262f5f2fecca07dc55915952d/smmap-3.0.4-py2.py3-none-any.whl\n",
            "Requirement already satisfied: ipython-genutils in /usr/local/lib/python3.6/dist-packages (from traitlets>=4.3.2->pydeck>=0.1.dev5->streamlit->simpletransformers) (0.2.0)\n",
            "Requirement already satisfied: jupyter-client in /usr/local/lib/python3.6/dist-packages (from ipykernel>=5.1.2; python_version >= \"3.4\"->pydeck>=0.1.dev5->streamlit->simpletransformers) (5.3.5)\n",
            "Requirement already satisfied: ipython>=5.0.0 in /usr/local/lib/python3.6/dist-packages (from ipykernel>=5.1.2; python_version >= \"3.4\"->pydeck>=0.1.dev5->streamlit->simpletransformers) (5.5.0)\n",
            "Requirement already satisfied: MarkupSafe>=0.23 in /usr/local/lib/python3.6/dist-packages (from jinja2>=2.10.1->pydeck>=0.1.dev5->streamlit->simpletransformers) (1.1.1)\n",
            "Requirement already satisfied: widgetsnbextension~=3.5.0 in /usr/local/lib/python3.6/dist-packages (from ipywidgets>=7.0.0->pydeck>=0.1.dev5->streamlit->simpletransformers) (3.5.1)\n",
            "Requirement already satisfied: nbformat>=4.2.0 in /usr/local/lib/python3.6/dist-packages (from ipywidgets>=7.0.0->pydeck>=0.1.dev5->streamlit->simpletransformers) (5.0.7)\n",
            "Requirement already satisfied: pyzmq>=13 in /usr/local/lib/python3.6/dist-packages (from jupyter-client->ipykernel>=5.1.2; python_version >= \"3.4\"->pydeck>=0.1.dev5->streamlit->simpletransformers) (19.0.2)\n",
            "Requirement already satisfied: jupyter-core>=4.6.0 in /usr/local/lib/python3.6/dist-packages (from jupyter-client->ipykernel>=5.1.2; python_version >= \"3.4\"->pydeck>=0.1.dev5->streamlit->simpletransformers) (4.6.3)\n",
            "Requirement already satisfied: pickleshare in /usr/local/lib/python3.6/dist-packages (from ipython>=5.0.0->ipykernel>=5.1.2; python_version >= \"3.4\"->pydeck>=0.1.dev5->streamlit->simpletransformers) (0.7.5)\n",
            "Requirement already satisfied: simplegeneric>0.8 in /usr/local/lib/python3.6/dist-packages (from ipython>=5.0.0->ipykernel>=5.1.2; python_version >= \"3.4\"->pydeck>=0.1.dev5->streamlit->simpletransformers) (0.8.1)\n",
            "Requirement already satisfied: pygments in /usr/local/lib/python3.6/dist-packages (from ipython>=5.0.0->ipykernel>=5.1.2; python_version >= \"3.4\"->pydeck>=0.1.dev5->streamlit->simpletransformers) (2.6.1)\n",
            "Requirement already satisfied: prompt-toolkit<2.0.0,>=1.0.4 in /usr/local/lib/python3.6/dist-packages (from ipython>=5.0.0->ipykernel>=5.1.2; python_version >= \"3.4\"->pydeck>=0.1.dev5->streamlit->simpletransformers) (1.0.18)\n",
            "Requirement already satisfied: pexpect; sys_platform != \"win32\" in /usr/local/lib/python3.6/dist-packages (from ipython>=5.0.0->ipykernel>=5.1.2; python_version >= \"3.4\"->pydeck>=0.1.dev5->streamlit->simpletransformers) (4.8.0)\n",
            "Requirement already satisfied: notebook>=4.4.1 in /usr/local/lib/python3.6/dist-packages (from widgetsnbextension~=3.5.0->ipywidgets>=7.0.0->pydeck>=0.1.dev5->streamlit->simpletransformers) (5.3.1)\n",
            "Requirement already satisfied: wcwidth in /usr/local/lib/python3.6/dist-packages (from prompt-toolkit<2.0.0,>=1.0.4->ipython>=5.0.0->ipykernel>=5.1.2; python_version >= \"3.4\"->pydeck>=0.1.dev5->streamlit->simpletransformers) (0.2.5)\n",
            "Requirement already satisfied: ptyprocess>=0.5 in /usr/local/lib/python3.6/dist-packages (from pexpect; sys_platform != \"win32\"->ipython>=5.0.0->ipykernel>=5.1.2; python_version >= \"3.4\"->pydeck>=0.1.dev5->streamlit->simpletransformers) (0.6.0)\n",
            "Requirement already satisfied: nbconvert in /usr/local/lib/python3.6/dist-packages (from notebook>=4.4.1->widgetsnbextension~=3.5.0->ipywidgets>=7.0.0->pydeck>=0.1.dev5->streamlit->simpletransformers) (5.6.1)\n",
            "Requirement already satisfied: Send2Trash in /usr/local/lib/python3.6/dist-packages (from notebook>=4.4.1->widgetsnbextension~=3.5.0->ipywidgets>=7.0.0->pydeck>=0.1.dev5->streamlit->simpletransformers) (1.5.0)\n",
            "Requirement already satisfied: terminado>=0.8.1 in /usr/local/lib/python3.6/dist-packages (from notebook>=4.4.1->widgetsnbextension~=3.5.0->ipywidgets>=7.0.0->pydeck>=0.1.dev5->streamlit->simpletransformers) (0.9.1)\n",
            "Requirement already satisfied: mistune<2,>=0.8.1 in /usr/local/lib/python3.6/dist-packages (from nbconvert->notebook>=4.4.1->widgetsnbextension~=3.5.0->ipywidgets>=7.0.0->pydeck>=0.1.dev5->streamlit->simpletransformers) (0.8.4)\n",
            "Requirement already satisfied: pandocfilters>=1.4.1 in /usr/local/lib/python3.6/dist-packages (from nbconvert->notebook>=4.4.1->widgetsnbextension~=3.5.0->ipywidgets>=7.0.0->pydeck>=0.1.dev5->streamlit->simpletransformers) (1.4.2)\n",
            "Requirement already satisfied: defusedxml in /usr/local/lib/python3.6/dist-packages (from nbconvert->notebook>=4.4.1->widgetsnbextension~=3.5.0->ipywidgets>=7.0.0->pydeck>=0.1.dev5->streamlit->simpletransformers) (0.6.0)\n",
            "Requirement already satisfied: bleach in /usr/local/lib/python3.6/dist-packages (from nbconvert->notebook>=4.4.1->widgetsnbextension~=3.5.0->ipywidgets>=7.0.0->pydeck>=0.1.dev5->streamlit->simpletransformers) (3.2.1)\n",
            "Requirement already satisfied: testpath in /usr/local/lib/python3.6/dist-packages (from nbconvert->notebook>=4.4.1->widgetsnbextension~=3.5.0->ipywidgets>=7.0.0->pydeck>=0.1.dev5->streamlit->simpletransformers) (0.4.4)\n",
            "Requirement already satisfied: webencodings in /usr/local/lib/python3.6/dist-packages (from bleach->nbconvert->notebook>=4.4.1->widgetsnbextension~=3.5.0->ipywidgets>=7.0.0->pydeck>=0.1.dev5->streamlit->simpletransformers) (0.5.1)\n",
            "Building wheels for collected packages: seqeval, subprocess32, watchdog, blinker, pathtools\n",
            "  Building wheel for seqeval (setup.py) ... \u001b[?25l\u001b[?25hdone\n",
            "  Created wheel for seqeval: filename=seqeval-1.0.0-cp36-none-any.whl size=14022 sha256=d93c79104de0afe20f24f0a5e5699c8b6312c19337a949c30ab54ba9af72bd8b\n",
            "  Stored in directory: /root/.cache/pip/wheels/9e/82/18/6cfa15bb8d49855b0636bd72d12ab43fe9c4da8e8ba3b94db2\n",
            "  Building wheel for subprocess32 (setup.py) ... \u001b[?25l\u001b[?25hdone\n",
            "  Created wheel for subprocess32: filename=subprocess32-3.5.4-cp36-none-any.whl size=6489 sha256=e7f30a8eaeca4caa440f2ec5be146cb418a40443f1d70881ba3dfd50c6b500ed\n",
            "  Stored in directory: /root/.cache/pip/wheels/68/39/1a/5e402bdfdf004af1786c8b853fd92f8c4a04f22aad179654d1\n",
            "  Building wheel for watchdog (setup.py) ... \u001b[?25l\u001b[?25hdone\n",
            "  Created wheel for watchdog: filename=watchdog-0.10.3-cp36-none-any.whl size=73873 sha256=ed618612dd3b4ae546cde05c68b8b568553c1a7034cba4ed13bb274b9233663d\n",
            "  Stored in directory: /root/.cache/pip/wheels/a8/1d/38/2c19bb311f67cc7b4d07a2ec5ea36ab1a0a0ea50db994a5bc7\n",
            "  Building wheel for blinker (setup.py) ... \u001b[?25l\u001b[?25hdone\n",
            "  Created wheel for blinker: filename=blinker-1.4-cp36-none-any.whl size=13450 sha256=8e1ab3c3e378b37dc59c440af9200f1281c83a62415856025204e4685268fc64\n",
            "  Stored in directory: /root/.cache/pip/wheels/92/a0/00/8690a57883956a301d91cf4ec999cc0b258b01e3f548f86e89\n",
            "  Building wheel for pathtools (setup.py) ... \u001b[?25l\u001b[?25hdone\n",
            "  Created wheel for pathtools: filename=pathtools-0.1.2-cp36-none-any.whl size=8785 sha256=0db76f325fee639860621959d211a1b4e9a68d2b701affe6c8aa767417b86279\n",
            "  Stored in directory: /root/.cache/pip/wheels/0b/04/79/c3b0c3a0266a3cb4376da31e5bfe8bba0c489246968a68e843\n",
            "Successfully built seqeval subprocess32 watchdog blinker pathtools\n",
            "\u001b[31mERROR: google-colab 1.0.0 has requirement ipykernel~=4.10, but you'll have ipykernel 5.3.4 which is incompatible.\u001b[0m\n",
            "\u001b[31mERROR: seqeval 1.0.0 has requirement numpy==1.19.2, but you'll have numpy 1.18.5 which is incompatible.\u001b[0m\n",
            "\u001b[31mERROR: seqeval 1.0.0 has requirement scikit-learn==0.23.2, but you'll have scikit-learn 0.22.2.post1 which is incompatible.\u001b[0m\n",
            "Installing collected packages: seqeval, tensorboardx, tqdm, smmap, gitdb, GitPython, sentry-sdk, shortuuid, configparser, docker-pycreds, subprocess32, pathtools, watchdog, wandb, blinker, validators, ipykernel, pydeck, base58, jmespath, botocore, enum-compat, s3transfer, boto3, streamlit, simpletransformers\n",
            "  Found existing installation: tqdm 4.41.1\n",
            "    Uninstalling tqdm-4.41.1:\n",
            "      Successfully uninstalled tqdm-4.41.1\n",
            "  Found existing installation: ipykernel 4.10.1\n",
            "    Uninstalling ipykernel-4.10.1:\n",
            "      Successfully uninstalled ipykernel-4.10.1\n",
            "Successfully installed GitPython-3.1.9 base58-2.0.1 blinker-1.4 boto3-1.15.16 botocore-1.18.16 configparser-5.0.1 docker-pycreds-0.4.0 enum-compat-0.0.3 gitdb-4.0.5 ipykernel-5.3.4 jmespath-0.10.0 pathtools-0.1.2 pydeck-0.5.0b1 s3transfer-0.3.3 sentry-sdk-0.18.0 seqeval-1.0.0 shortuuid-1.0.1 simpletransformers-0.48.9 smmap-3.0.4 streamlit-0.68.0 subprocess32-3.5.4 tensorboardx-2.1 tqdm-4.50.2 validators-0.18.1 wandb-0.10.5 watchdog-0.10.3\n"
          ],
          "name": "stdout"
        },
        {
          "output_type": "display_data",
          "data": {
            "application/vnd.colab-display-data+json": {
              "pip_warning": {
                "packages": [
                  "configparser",
                  "ipykernel",
                  "tqdm"
                ]
              }
            }
          },
          "metadata": {
            "tags": []
          }
        }
      ]
    },
    {
      "cell_type": "code",
      "metadata": {
        "id": "Y4nVLa6wHBAG"
      },
      "source": [
        "sample_sub =pd.read_csv(\"/content/Embold_Participant's_Dataset/sample submission.csv\")"
      ],
      "execution_count": null,
      "outputs": []
    },
    {
      "cell_type": "code",
      "metadata": {
        "id": "b0WRAAddHA7K"
      },
      "source": [
        "target = sample_sub.columns.tolist()"
      ],
      "execution_count": null,
      "outputs": []
    },
    {
      "cell_type": "code",
      "metadata": {
        "id": "uk9DLjtOHc3d"
      },
      "source": [
        "import numpy as np\n",
        "import pandas as pd\n",
        "from sklearn.metrics import *\n",
        "from sklearn.model_selection import *\n",
        "\n",
        "from tqdm import tqdm\n",
        "import warnings\n",
        "warnings.simplefilter('ignore')\n",
        "import gc\n",
        "from scipy.special import softmax\n",
        "\n",
        "from simpletransformers.classification.classification_model import ClassificationModel\n",
        "from sklearn.metrics import mean_squared_error as mse"
      ],
      "execution_count": null,
      "outputs": []
    },
    {
      "cell_type": "code",
      "metadata": {
        "id": "WZKFRx9IHfWg",
        "outputId": "bda6eaf3-9e17-4d99-8675-9f1570284246",
        "colab": {
          "base_uri": "https://localhost:8080/",
          "height": 104
        }
      },
      "source": [
        "train.head(2)"
      ],
      "execution_count": null,
      "outputs": [
        {
          "output_type": "execute_result",
          "data": {
            "text/html": [
              "<div>\n",
              "<style scoped>\n",
              "    .dataframe tbody tr th:only-of-type {\n",
              "        vertical-align: middle;\n",
              "    }\n",
              "\n",
              "    .dataframe tbody tr th {\n",
              "        vertical-align: top;\n",
              "    }\n",
              "\n",
              "    .dataframe thead th {\n",
              "        text-align: right;\n",
              "    }\n",
              "</style>\n",
              "<table border=\"1\" class=\"dataframe\">\n",
              "  <thead>\n",
              "    <tr style=\"text-align: right;\">\n",
              "      <th></th>\n",
              "      <th>text</th>\n",
              "      <th>target</th>\n",
              "    </tr>\n",
              "  </thead>\n",
              "  <tbody>\n",
              "    <tr>\n",
              "      <th>0</th>\n",
              "      <td>y-zoom piano roll a y-zoom on the piano roll w...</td>\n",
              "      <td>1</td>\n",
              "    </tr>\n",
              "    <tr>\n",
              "      <th>1</th>\n",
              "      <td>buggy behavior in selection ! screenshot from ...</td>\n",
              "      <td>0</td>\n",
              "    </tr>\n",
              "  </tbody>\n",
              "</table>\n",
              "</div>"
            ],
            "text/plain": [
              "                                                text  target\n",
              "0  y-zoom piano roll a y-zoom on the piano roll w...       1\n",
              "1  buggy behavior in selection ! screenshot from ...       0"
            ]
          },
          "metadata": {
            "tags": []
          },
          "execution_count": 19
        }
      ]
    },
    {
      "cell_type": "code",
      "metadata": {
        "id": "U3FCJlhpHiLG",
        "outputId": "e985922b-93ef-4965-ecb8-6ce1f369a06f",
        "colab": {
          "base_uri": "https://localhost:8080/",
          "height": 104
        }
      },
      "source": [
        "test.head(2)"
      ],
      "execution_count": null,
      "outputs": [
        {
          "output_type": "execute_result",
          "data": {
            "text/html": [
              "<div>\n",
              "<style scoped>\n",
              "    .dataframe tbody tr th:only-of-type {\n",
              "        vertical-align: middle;\n",
              "    }\n",
              "\n",
              "    .dataframe tbody tr th {\n",
              "        vertical-align: top;\n",
              "    }\n",
              "\n",
              "    .dataframe thead th {\n",
              "        text-align: right;\n",
              "    }\n",
              "</style>\n",
              "<table border=\"1\" class=\"dataframe\">\n",
              "  <thead>\n",
              "    <tr style=\"text-align: right;\">\n",
              "      <th></th>\n",
              "      <th>text</th>\n",
              "    </tr>\n",
              "  </thead>\n",
              "  <tbody>\n",
              "    <tr>\n",
              "      <th>0</th>\n",
              "      <td>config question  path-specific environment var...</td>\n",
              "    </tr>\n",
              "    <tr>\n",
              "      <th>1</th>\n",
              "      <td>crash indien vol de simulator crasht als hij v...</td>\n",
              "    </tr>\n",
              "  </tbody>\n",
              "</table>\n",
              "</div>"
            ],
            "text/plain": [
              "                                                text\n",
              "0  config question  path-specific environment var...\n",
              "1  crash indien vol de simulator crasht als hij v..."
            ]
          },
          "metadata": {
            "tags": []
          },
          "execution_count": 20
        }
      ]
    },
    {
      "cell_type": "code",
      "metadata": {
        "id": "uuYGXoILHqvD"
      },
      "source": [
        "def get_model(model_type, model_name, n_epochs = 2, train_batch_size = 112, eval_batch_size = 144, seq_len = 134, lr = 2e-5):\n",
        "  model = ClassificationModel(model_type, model_name,num_labels=1, args={'train_batch_size':train_batch_size,\n",
        "                                                                         \"eval_batch_size\": eval_batch_size,\n",
        "                                                                         'reprocess_input_data': True,\n",
        "                                                                         'overwrite_output_dir': True,\n",
        "                                                                         'fp16': False,\n",
        "                                                                         'do_lower_case': False,\n",
        "                                                                         'num_train_epochs': n_epochs,\n",
        "                                                                         'max_seq_length': seq_len,\n",
        "                                                                         'regression': True,\n",
        "                                                                         'manual_seed': 2,\n",
        "                                                                         \"learning_rate\":lr,\n",
        "                                                                         \"save_eval_checkpoints\": False,\n",
        "                                                                         \"save_model_every_epoch\": False,})\n",
        "  return model"
      ],
      "execution_count": null,
      "outputs": []
    },
    {
      "cell_type": "code",
      "metadata": {
        "id": "Vs157PJvHsWv"
      },
      "source": [
        "tmp = pd.DataFrame()\n",
        "tmp['text'] = train['text']\n",
        "tmp['labels'] = train['target']\n",
        "tmp_test = test[['text']].rename({'text': 'text'}, axis=1)\n",
        "tmp_test['labels'] = 0\n",
        "tmp_trn, tmp_val = train_test_split(tmp, test_size=0.15, random_state=2)"
      ],
      "execution_count": null,
      "outputs": []
    },
    {
      "cell_type": "code",
      "metadata": {
        "id": "p_pXPjU4H5aA",
        "outputId": "6d17cbeb-6d58-4a55-9e20-0178d06561af",
        "colab": {
          "base_uri": "https://localhost:8080/",
          "height": 229,
          "referenced_widgets": [
            "e7b7b589f31c4a1bb4a961e8e190489a",
            "5caff606f6804c92816fcfb62f387877",
            "90f9383e834b4ed5b9d2f058024659b0",
            "faa86e0fa5894cb6a0b95712c02a21a8",
            "f0f6ecf457f140d9b7eedd47045e87b4",
            "37c0a5e670584e689427987dbfdb6d81",
            "7abd19c35d574904bb83ee8923f5dc25",
            "94e407b77bea4fdd8f6dafb4121e0742",
            "68306dc1aabb4dd893dfcd01165c16ed",
            "90b054495d6b45d18bff91fb81071139",
            "2f18f655daf2471ea9dc329b06685ade",
            "6772ba65469446da92ca7cfecaa45318",
            "106142e460944af2a7937d9a1c33a3d8",
            "8678a0a7f46b4460845b2714d8e0d9f4",
            "e7c5459db5b046df865b9d7aa3352111",
            "22643600e16c4892b8fe098f7e1d13ca",
            "5477ea2990bb4774bb8d8a37860b89f0",
            "6fc1ed6abcb94534b5ecc6713916c769",
            "43562a03c8884437a17f4df5ab998ef2",
            "f2dd3602ab3e4821bed1330e092eb7cf",
            "0438e98f94a042d699879d551a507a9e",
            "416b20c8a30b41e796b0072c96fb2487",
            "966978731da6486d83923bae3b88616d",
            "5f04f9a6231d4aac8a54cf825173d185",
            "b337578599b646ae9e1d92361687962d",
            "028fba000b544c76b98300b2fb217523",
            "3ca1928c526c47509e9c313f075aa0ac",
            "02c2e6c7a94f4ee280b6b7525a3ec808",
            "e7840af1523c4aba90c5f52f4b272a8d",
            "6ae2d5985d9e4d9e95bdd671dda2f4d7",
            "8716d115cae046e084f80df813ba0ae0",
            "31395dda562f40f1b41522ce925e010e"
          ]
        }
      },
      "source": [
        "model = get_model('roberta', 'roberta-base', n_epochs=3)\n",
        "import torch\n",
        "torch.cuda.empty_cache()\n",
        "model.train_model(tmp_trn)\n",
        "import torch\n",
        "torch.cuda.empty_cache()\n",
        "preds_val = model.eval_model(tmp_val)[1]\n",
        "preds_val = np.clip(preds_val, 0, 2)\n",
        "print(f\"RMSE: {mse(tmp_val['labels'], preds_val)**0.5}\")\n",
        "test_preds = model.eval_model(tmp_test)[1]\n",
        "test_preds = np.clip(test_preds, 0, 2)\n",
        "pv_1 = preds_val\n",
        "pt_1 = test_preds"
      ],
      "execution_count": null,
      "outputs": [
        {
          "output_type": "display_data",
          "data": {
            "application/vnd.jupyter.widget-view+json": {
              "model_id": "e7b7b589f31c4a1bb4a961e8e190489a",
              "version_minor": 0,
              "version_major": 2
            },
            "text/plain": [
              "HBox(children=(FloatProgress(value=0.0, max=22500.0), HTML(value='')))"
            ]
          },
          "metadata": {
            "tags": []
          }
        },
        {
          "output_type": "stream",
          "text": [
            "\n"
          ],
          "name": "stdout"
        },
        {
          "output_type": "display_data",
          "data": {
            "application/vnd.jupyter.widget-view+json": {
              "model_id": "68306dc1aabb4dd893dfcd01165c16ed",
              "version_minor": 0,
              "version_major": 2
            },
            "text/plain": [
              "HBox(children=(FloatProgress(value=0.0, description='Running Evaluation', max=157.0, style=ProgressStyle(descr…"
            ]
          },
          "metadata": {
            "tags": []
          }
        },
        {
          "output_type": "stream",
          "text": [
            "\n",
            "RMSE: 0.9120916133322964\n"
          ],
          "name": "stdout"
        },
        {
          "output_type": "display_data",
          "data": {
            "application/vnd.jupyter.widget-view+json": {
              "model_id": "5477ea2990bb4774bb8d8a37860b89f0",
              "version_minor": 0,
              "version_major": 2
            },
            "text/plain": [
              "HBox(children=(FloatProgress(value=0.0, max=30000.0), HTML(value='')))"
            ]
          },
          "metadata": {
            "tags": []
          }
        },
        {
          "output_type": "stream",
          "text": [
            "\n"
          ],
          "name": "stdout"
        },
        {
          "output_type": "display_data",
          "data": {
            "application/vnd.jupyter.widget-view+json": {
              "model_id": "b337578599b646ae9e1d92361687962d",
              "version_minor": 0,
              "version_major": 2
            },
            "text/plain": [
              "HBox(children=(FloatProgress(value=0.0, description='Running Evaluation', max=209.0, style=ProgressStyle(descr…"
            ]
          },
          "metadata": {
            "tags": []
          }
        },
        {
          "output_type": "stream",
          "text": [
            "\n"
          ],
          "name": "stdout"
        }
      ]
    },
    {
      "cell_type": "code",
      "metadata": {
        "id": "-SSyithQN-li",
        "outputId": "5cc372e3-53c3-44a1-c214-4630c7bd3b96",
        "colab": {
          "base_uri": "https://localhost:8080/",
          "height": 352
        }
      },
      "source": [
        "!nvidia-smi"
      ],
      "execution_count": null,
      "outputs": [
        {
          "output_type": "stream",
          "text": [
            "Sun Oct 11 10:42:57 2020       \n",
            "+-----------------------------------------------------------------------------+\n",
            "| NVIDIA-SMI 455.23.05    Driver Version: 418.67       CUDA Version: 10.1     |\n",
            "|-------------------------------+----------------------+----------------------+\n",
            "| GPU  Name        Persistence-M| Bus-Id        Disp.A | Volatile Uncorr. ECC |\n",
            "| Fan  Temp  Perf  Pwr:Usage/Cap|         Memory-Usage | GPU-Util  Compute M. |\n",
            "|                               |                      |               MIG M. |\n",
            "|===============================+======================+======================|\n",
            "|   0  Tesla T4            Off  | 00000000:00:04.0 Off |                    0 |\n",
            "| N/A   40C    P8     9W /  70W |      0MiB / 15079MiB |      0%      Default |\n",
            "|                               |                      |                 ERR! |\n",
            "+-------------------------------+----------------------+----------------------+\n",
            "                                                                               \n",
            "+-----------------------------------------------------------------------------+\n",
            "| Processes:                                                                  |\n",
            "|  GPU   GI   CI        PID   Type   Process name                  GPU Memory |\n",
            "|        ID   ID                                                   Usage      |\n",
            "|=============================================================================|\n",
            "|  No running processes found                                                 |\n",
            "+-----------------------------------------------------------------------------+\n"
          ],
          "name": "stdout"
        }
      ]
    },
    {
      "cell_type": "code",
      "metadata": {
        "id": "tdKQ1ni_QcaI"
      },
      "source": [
        ""
      ],
      "execution_count": null,
      "outputs": []
    },
    {
      "cell_type": "markdown",
      "metadata": {
        "id": "FNGSRAoOiVgT"
      },
      "source": [
        ""
      ]
    },
    {
      "cell_type": "code",
      "metadata": {
        "id": "JbdrYHHViWMZ",
        "outputId": "d1f195b7-ecfb-4954-cb28-87f722b6fa30",
        "colab": {
          "base_uri": "https://localhost:8080/",
          "height": 274
        }
      },
      "source": [
        "data = (TextList.from_df(train, cols='text')\n",
        "                .split_by_rand_pct(0.2)\n",
        "                .label_for_lm()  \n",
        "                .databunch(bs=48))\n",
        "data.show_batch()"
      ],
      "execution_count": null,
      "outputs": [
        {
          "output_type": "display_data",
          "data": {
            "text/html": [
              ""
            ],
            "text/plain": [
              "<IPython.core.display.HTML object>"
            ]
          },
          "metadata": {
            "tags": []
          }
        },
        {
          "output_type": "display_data",
          "data": {
            "text/html": [
              ""
            ],
            "text/plain": [
              "<IPython.core.display.HTML object>"
            ]
          },
          "metadata": {
            "tags": []
          }
        },
        {
          "output_type": "display_data",
          "data": {
            "text/html": [
              "<table border=\"1\" class=\"dataframe\">\n",
              "  <thead>\n",
              "    <tr style=\"text-align: right;\">\n",
              "      <th>idx</th>\n",
              "      <th>text</th>\n",
              "    </tr>\n",
              "  </thead>\n",
              "  <tbody>\n",
              "    <tr>\n",
              "      <td>0</td>\n",
              "      <td>there are some misread bases the primer region leading those two sequences being considered distinct xxunk the same time while exporting the clusters combined cluster size sum rpm all cluster members not calculated and the export text file filtered via export xxunk based not cluster total rpm but the number distinct members who can differ both the random region the primer regions leads situation when theoretically you get cluster with</td>\n",
              "    </tr>\n",
              "    <tr>\n",
              "      <td>1</td>\n",
              "      <td>view layout view java tat android view viewgroup layout viewgroup java tat android widget relativelayout onlayout relativelayout java tat android view view layout view java tat android view viewgroup layout viewgroup java tat android support view viewpager onlayout viewpager java tat android view view layout view java tat android view viewgroup layout viewgroup java tat android support design widget coordinatorlayout xxunk coordinatorlayout java tat android support design widget coordinatorlayout xxunk</td>\n",
              "    </tr>\n",
              "    <tr>\n",
              "      <td>2</td>\n",
              "      <td>starting required daemons for nfs rpc xxunk portmap rpcbind and rpc statd available started rpc xxunk rpcbind rpc xxunk rpcbind available started rpc statd rpc status rpc statd available started rpc xxunk including verify netfs default mount netfs path mkdir created directory tmp rear qzsrsjsmc outputfs mounting with mount nfs noatime server export nfs tmp rear qzsrsjsmc outputfs mount nfs timeout set for tue may mount nfs trying text based</td>\n",
              "    </tr>\n",
              "    <tr>\n",
              "      <td>3</td>\n",
              "      <td>path etrago venv lib python site packages pyomo opt solver xxunk line process output self process xxunk file results file path etrago venv lib python site packages pyomo solvers plugins solvers glpk line process xxunk file raise valueerror msg valueerror error parsing solution data file line seems fail the very first line the glpk xxunk file which min additionally receive the following warnings data for xxunk column set series set</td>\n",
              "    </tr>\n",
              "    <tr>\n",
              "      <td>4</td>\n",
              "      <td>tab should playing xxbos information about resolution preconditioner would interesting get during the run time informations about the algebraic resolution time iteration number iterations and able save file this could especially interesting with the use the new house xxunk pcd xxbos bitcoins disappeared after reopening electrum hey folks bitcoins disappeared after reopening electrum yesterday imported few private keys what deleted after imported because always was fine and btc shown wallet</td>\n",
              "    </tr>\n",
              "  </tbody>\n",
              "</table>"
            ],
            "text/plain": [
              "<IPython.core.display.HTML object>"
            ]
          },
          "metadata": {
            "tags": []
          }
        }
      ]
    },
    {
      "cell_type": "code",
      "metadata": {
        "id": "F0O81DFuieFK",
        "outputId": "d1c74c97-54cb-4311-ddc8-a0075cd95d13",
        "colab": {
          "base_uri": "https://localhost:8080/",
          "height": 33
        }
      },
      "source": [
        "learn = language_model_learner(data, AWD_LSTM, drop_mult=0.3)"
      ],
      "execution_count": null,
      "outputs": [
        {
          "output_type": "stream",
          "text": [
            "Downloading https://s3.amazonaws.com/fast-ai-modelzoo/wt103-fwd.tgz\n"
          ],
          "name": "stdout"
        },
        {
          "output_type": "display_data",
          "data": {
            "text/html": [
              ""
            ],
            "text/plain": [
              "<IPython.core.display.HTML object>"
            ]
          },
          "metadata": {
            "tags": []
          }
        }
      ]
    },
    {
      "cell_type": "code",
      "metadata": {
        "id": "7nt05RqIjQ2-",
        "outputId": "26495d08-2836-4075-d017-167a29d8f587",
        "colab": {
          "base_uri": "https://localhost:8080/",
          "height": 424
        }
      },
      "source": [
        "\n",
        "learn.fit_one_cycle(4)"
      ],
      "execution_count": null,
      "outputs": [
        {
          "output_type": "display_data",
          "data": {
            "text/html": [
              "\n",
              "    <div>\n",
              "        <style>\n",
              "            /* Turns off some styling */\n",
              "            progress {\n",
              "                /* gets rid of default border in Firefox and Opera. */\n",
              "                border: none;\n",
              "                /* Needs to be in here for Safari polyfill so background images work as expected. */\n",
              "                background-size: auto;\n",
              "            }\n",
              "            .progress-bar-interrupted, .progress-bar-interrupted::-webkit-progress-bar {\n",
              "                background: #F44336;\n",
              "            }\n",
              "        </style>\n",
              "      <progress value='1' class='' max='4' style='width:300px; height:20px; vertical-align: middle;'></progress>\n",
              "      25.00% [1/4 11:05<33:16]\n",
              "    </div>\n",
              "    \n",
              "<table border=\"1\" class=\"dataframe\">\n",
              "  <thead>\n",
              "    <tr style=\"text-align: left;\">\n",
              "      <th>epoch</th>\n",
              "      <th>train_loss</th>\n",
              "      <th>valid_loss</th>\n",
              "      <th>accuracy</th>\n",
              "      <th>time</th>\n",
              "    </tr>\n",
              "  </thead>\n",
              "  <tbody>\n",
              "    <tr>\n",
              "      <td>0</td>\n",
              "      <td>6.414704</td>\n",
              "      <td>6.019563</td>\n",
              "      <td>0.146083</td>\n",
              "      <td>11:05</td>\n",
              "    </tr>\n",
              "  </tbody>\n",
              "</table><p>\n",
              "\n",
              "    <div>\n",
              "        <style>\n",
              "            /* Turns off some styling */\n",
              "            progress {\n",
              "                /* gets rid of default border in Firefox and Opera. */\n",
              "                border: none;\n",
              "                /* Needs to be in here for Safari polyfill so background images work as expected. */\n",
              "                background-size: auto;\n",
              "            }\n",
              "            .progress-bar-interrupted, .progress-bar-interrupted::-webkit-progress-bar {\n",
              "                background: #F44336;\n",
              "            }\n",
              "        </style>\n",
              "      <progress value='633' class='' max='3540' style='width:300px; height:20px; vertical-align: middle;'></progress>\n",
              "      17.88% [633/3540 01:48<08:17 6.2289]\n",
              "    </div>\n",
              "    "
            ],
            "text/plain": [
              "<IPython.core.display.HTML object>"
            ]
          },
          "metadata": {
            "tags": []
          }
        },
        {
          "output_type": "error",
          "ename": "KeyboardInterrupt",
          "evalue": "ignored",
          "traceback": [
            "\u001b[0;31m---------------------------------------------------------------------------\u001b[0m",
            "\u001b[0;31mKeyboardInterrupt\u001b[0m                         Traceback (most recent call last)",
            "\u001b[0;32m<ipython-input-25-c1854e89c956>\u001b[0m in \u001b[0;36m<module>\u001b[0;34m()\u001b[0m\n\u001b[1;32m      1\u001b[0m \u001b[0;34m\u001b[0m\u001b[0m\n\u001b[0;32m----> 2\u001b[0;31m \u001b[0mlearn\u001b[0m\u001b[0;34m.\u001b[0m\u001b[0mfit_one_cycle\u001b[0m\u001b[0;34m(\u001b[0m\u001b[0;36m4\u001b[0m\u001b[0;34m)\u001b[0m\u001b[0;34m\u001b[0m\u001b[0;34m\u001b[0m\u001b[0m\n\u001b[0m",
            "\u001b[0;32m/usr/local/lib/python3.6/dist-packages/fastai/train.py\u001b[0m in \u001b[0;36mfit_one_cycle\u001b[0;34m(learn, cyc_len, max_lr, moms, div_factor, pct_start, final_div, wd, callbacks, tot_epochs, start_epoch)\u001b[0m\n\u001b[1;32m     21\u001b[0m     callbacks.append(OneCycleScheduler(learn, max_lr, moms=moms, div_factor=div_factor, pct_start=pct_start,\n\u001b[1;32m     22\u001b[0m                                        final_div=final_div, tot_epochs=tot_epochs, start_epoch=start_epoch))\n\u001b[0;32m---> 23\u001b[0;31m     \u001b[0mlearn\u001b[0m\u001b[0;34m.\u001b[0m\u001b[0mfit\u001b[0m\u001b[0;34m(\u001b[0m\u001b[0mcyc_len\u001b[0m\u001b[0;34m,\u001b[0m \u001b[0mmax_lr\u001b[0m\u001b[0;34m,\u001b[0m \u001b[0mwd\u001b[0m\u001b[0;34m=\u001b[0m\u001b[0mwd\u001b[0m\u001b[0;34m,\u001b[0m \u001b[0mcallbacks\u001b[0m\u001b[0;34m=\u001b[0m\u001b[0mcallbacks\u001b[0m\u001b[0;34m)\u001b[0m\u001b[0;34m\u001b[0m\u001b[0;34m\u001b[0m\u001b[0m\n\u001b[0m\u001b[1;32m     24\u001b[0m \u001b[0;34m\u001b[0m\u001b[0m\n\u001b[1;32m     25\u001b[0m def fit_fc(learn:Learner, tot_epochs:int=1, lr:float=defaults.lr,  moms:Tuple[float,float]=(0.95,0.85), start_pct:float=0.72,\n",
            "\u001b[0;32m/usr/local/lib/python3.6/dist-packages/fastai/basic_train.py\u001b[0m in \u001b[0;36mfit\u001b[0;34m(self, epochs, lr, wd, callbacks)\u001b[0m\n\u001b[1;32m    198\u001b[0m         \u001b[0;32melse\u001b[0m\u001b[0;34m:\u001b[0m \u001b[0mself\u001b[0m\u001b[0;34m.\u001b[0m\u001b[0mopt\u001b[0m\u001b[0;34m.\u001b[0m\u001b[0mlr\u001b[0m\u001b[0;34m,\u001b[0m\u001b[0mself\u001b[0m\u001b[0;34m.\u001b[0m\u001b[0mopt\u001b[0m\u001b[0;34m.\u001b[0m\u001b[0mwd\u001b[0m \u001b[0;34m=\u001b[0m \u001b[0mlr\u001b[0m\u001b[0;34m,\u001b[0m\u001b[0mwd\u001b[0m\u001b[0;34m\u001b[0m\u001b[0;34m\u001b[0m\u001b[0m\n\u001b[1;32m    199\u001b[0m         \u001b[0mcallbacks\u001b[0m \u001b[0;34m=\u001b[0m \u001b[0;34m[\u001b[0m\u001b[0mcb\u001b[0m\u001b[0;34m(\u001b[0m\u001b[0mself\u001b[0m\u001b[0;34m)\u001b[0m \u001b[0;32mfor\u001b[0m \u001b[0mcb\u001b[0m \u001b[0;32min\u001b[0m \u001b[0mself\u001b[0m\u001b[0;34m.\u001b[0m\u001b[0mcallback_fns\u001b[0m \u001b[0;34m+\u001b[0m \u001b[0mlistify\u001b[0m\u001b[0;34m(\u001b[0m\u001b[0mdefaults\u001b[0m\u001b[0;34m.\u001b[0m\u001b[0mextra_callback_fns\u001b[0m\u001b[0;34m)\u001b[0m\u001b[0;34m]\u001b[0m \u001b[0;34m+\u001b[0m \u001b[0mlistify\u001b[0m\u001b[0;34m(\u001b[0m\u001b[0mcallbacks\u001b[0m\u001b[0;34m)\u001b[0m\u001b[0;34m\u001b[0m\u001b[0;34m\u001b[0m\u001b[0m\n\u001b[0;32m--> 200\u001b[0;31m         \u001b[0mfit\u001b[0m\u001b[0;34m(\u001b[0m\u001b[0mepochs\u001b[0m\u001b[0;34m,\u001b[0m \u001b[0mself\u001b[0m\u001b[0;34m,\u001b[0m \u001b[0mmetrics\u001b[0m\u001b[0;34m=\u001b[0m\u001b[0mself\u001b[0m\u001b[0;34m.\u001b[0m\u001b[0mmetrics\u001b[0m\u001b[0;34m,\u001b[0m \u001b[0mcallbacks\u001b[0m\u001b[0;34m=\u001b[0m\u001b[0mself\u001b[0m\u001b[0;34m.\u001b[0m\u001b[0mcallbacks\u001b[0m\u001b[0;34m+\u001b[0m\u001b[0mcallbacks\u001b[0m\u001b[0;34m)\u001b[0m\u001b[0;34m\u001b[0m\u001b[0;34m\u001b[0m\u001b[0m\n\u001b[0m\u001b[1;32m    201\u001b[0m \u001b[0;34m\u001b[0m\u001b[0m\n\u001b[1;32m    202\u001b[0m     \u001b[0;32mdef\u001b[0m \u001b[0mcreate_opt\u001b[0m\u001b[0;34m(\u001b[0m\u001b[0mself\u001b[0m\u001b[0;34m,\u001b[0m \u001b[0mlr\u001b[0m\u001b[0;34m:\u001b[0m\u001b[0mFloats\u001b[0m\u001b[0;34m,\u001b[0m \u001b[0mwd\u001b[0m\u001b[0;34m:\u001b[0m\u001b[0mFloats\u001b[0m\u001b[0;34m=\u001b[0m\u001b[0;36m0.\u001b[0m\u001b[0;34m)\u001b[0m\u001b[0;34m->\u001b[0m\u001b[0;32mNone\u001b[0m\u001b[0;34m:\u001b[0m\u001b[0;34m\u001b[0m\u001b[0;34m\u001b[0m\u001b[0m\n",
            "\u001b[0;32m/usr/local/lib/python3.6/dist-packages/fastai/basic_train.py\u001b[0m in \u001b[0;36mfit\u001b[0;34m(epochs, learn, callbacks, metrics)\u001b[0m\n\u001b[1;32m     99\u001b[0m             \u001b[0;32mfor\u001b[0m \u001b[0mxb\u001b[0m\u001b[0;34m,\u001b[0m\u001b[0myb\u001b[0m \u001b[0;32min\u001b[0m \u001b[0mprogress_bar\u001b[0m\u001b[0;34m(\u001b[0m\u001b[0mlearn\u001b[0m\u001b[0;34m.\u001b[0m\u001b[0mdata\u001b[0m\u001b[0;34m.\u001b[0m\u001b[0mtrain_dl\u001b[0m\u001b[0;34m,\u001b[0m \u001b[0mparent\u001b[0m\u001b[0;34m=\u001b[0m\u001b[0mpbar\u001b[0m\u001b[0;34m)\u001b[0m\u001b[0;34m:\u001b[0m\u001b[0;34m\u001b[0m\u001b[0;34m\u001b[0m\u001b[0m\n\u001b[1;32m    100\u001b[0m                 \u001b[0mxb\u001b[0m\u001b[0;34m,\u001b[0m \u001b[0myb\u001b[0m \u001b[0;34m=\u001b[0m \u001b[0mcb_handler\u001b[0m\u001b[0;34m.\u001b[0m\u001b[0mon_batch_begin\u001b[0m\u001b[0;34m(\u001b[0m\u001b[0mxb\u001b[0m\u001b[0;34m,\u001b[0m \u001b[0myb\u001b[0m\u001b[0;34m)\u001b[0m\u001b[0;34m\u001b[0m\u001b[0;34m\u001b[0m\u001b[0m\n\u001b[0;32m--> 101\u001b[0;31m                 \u001b[0mloss\u001b[0m \u001b[0;34m=\u001b[0m \u001b[0mloss_batch\u001b[0m\u001b[0;34m(\u001b[0m\u001b[0mlearn\u001b[0m\u001b[0;34m.\u001b[0m\u001b[0mmodel\u001b[0m\u001b[0;34m,\u001b[0m \u001b[0mxb\u001b[0m\u001b[0;34m,\u001b[0m \u001b[0myb\u001b[0m\u001b[0;34m,\u001b[0m \u001b[0mlearn\u001b[0m\u001b[0;34m.\u001b[0m\u001b[0mloss_func\u001b[0m\u001b[0;34m,\u001b[0m \u001b[0mlearn\u001b[0m\u001b[0;34m.\u001b[0m\u001b[0mopt\u001b[0m\u001b[0;34m,\u001b[0m \u001b[0mcb_handler\u001b[0m\u001b[0;34m)\u001b[0m\u001b[0;34m\u001b[0m\u001b[0;34m\u001b[0m\u001b[0m\n\u001b[0m\u001b[1;32m    102\u001b[0m                 \u001b[0;32mif\u001b[0m \u001b[0mcb_handler\u001b[0m\u001b[0;34m.\u001b[0m\u001b[0mon_batch_end\u001b[0m\u001b[0;34m(\u001b[0m\u001b[0mloss\u001b[0m\u001b[0;34m)\u001b[0m\u001b[0;34m:\u001b[0m \u001b[0;32mbreak\u001b[0m\u001b[0;34m\u001b[0m\u001b[0;34m\u001b[0m\u001b[0m\n\u001b[1;32m    103\u001b[0m \u001b[0;34m\u001b[0m\u001b[0m\n",
            "\u001b[0;32m/usr/local/lib/python3.6/dist-packages/fastai/basic_train.py\u001b[0m in \u001b[0;36mloss_batch\u001b[0;34m(model, xb, yb, loss_func, opt, cb_handler)\u001b[0m\n\u001b[1;32m     32\u001b[0m     \u001b[0;32mif\u001b[0m \u001b[0mopt\u001b[0m \u001b[0;32mis\u001b[0m \u001b[0;32mnot\u001b[0m \u001b[0;32mNone\u001b[0m\u001b[0;34m:\u001b[0m\u001b[0;34m\u001b[0m\u001b[0;34m\u001b[0m\u001b[0m\n\u001b[1;32m     33\u001b[0m         \u001b[0mloss\u001b[0m\u001b[0;34m,\u001b[0m\u001b[0mskip_bwd\u001b[0m \u001b[0;34m=\u001b[0m \u001b[0mcb_handler\u001b[0m\u001b[0;34m.\u001b[0m\u001b[0mon_backward_begin\u001b[0m\u001b[0;34m(\u001b[0m\u001b[0mloss\u001b[0m\u001b[0;34m)\u001b[0m\u001b[0;34m\u001b[0m\u001b[0;34m\u001b[0m\u001b[0m\n\u001b[0;32m---> 34\u001b[0;31m         \u001b[0;32mif\u001b[0m \u001b[0;32mnot\u001b[0m \u001b[0mskip_bwd\u001b[0m\u001b[0;34m:\u001b[0m                     \u001b[0mloss\u001b[0m\u001b[0;34m.\u001b[0m\u001b[0mbackward\u001b[0m\u001b[0;34m(\u001b[0m\u001b[0;34m)\u001b[0m\u001b[0;34m\u001b[0m\u001b[0;34m\u001b[0m\u001b[0m\n\u001b[0m\u001b[1;32m     35\u001b[0m         \u001b[0;32mif\u001b[0m \u001b[0;32mnot\u001b[0m \u001b[0mcb_handler\u001b[0m\u001b[0;34m.\u001b[0m\u001b[0mon_backward_end\u001b[0m\u001b[0;34m(\u001b[0m\u001b[0;34m)\u001b[0m\u001b[0;34m:\u001b[0m \u001b[0mopt\u001b[0m\u001b[0;34m.\u001b[0m\u001b[0mstep\u001b[0m\u001b[0;34m(\u001b[0m\u001b[0;34m)\u001b[0m\u001b[0;34m\u001b[0m\u001b[0;34m\u001b[0m\u001b[0m\n\u001b[1;32m     36\u001b[0m         \u001b[0;32mif\u001b[0m \u001b[0;32mnot\u001b[0m \u001b[0mcb_handler\u001b[0m\u001b[0;34m.\u001b[0m\u001b[0mon_step_end\u001b[0m\u001b[0;34m(\u001b[0m\u001b[0;34m)\u001b[0m\u001b[0;34m:\u001b[0m     \u001b[0mopt\u001b[0m\u001b[0;34m.\u001b[0m\u001b[0mzero_grad\u001b[0m\u001b[0;34m(\u001b[0m\u001b[0;34m)\u001b[0m\u001b[0;34m\u001b[0m\u001b[0;34m\u001b[0m\u001b[0m\n",
            "\u001b[0;32m/usr/local/lib/python3.6/dist-packages/torch/tensor.py\u001b[0m in \u001b[0;36mbackward\u001b[0;34m(self, gradient, retain_graph, create_graph)\u001b[0m\n\u001b[1;32m    183\u001b[0m                 \u001b[0mproducts\u001b[0m\u001b[0;34m.\u001b[0m \u001b[0mDefaults\u001b[0m \u001b[0mto\u001b[0m\u001b[0;31m \u001b[0m\u001b[0;31m`\u001b[0m\u001b[0;31m`\u001b[0m\u001b[0;32mFalse\u001b[0m\u001b[0;31m`\u001b[0m\u001b[0;31m`\u001b[0m\u001b[0;34m.\u001b[0m\u001b[0;34m\u001b[0m\u001b[0;34m\u001b[0m\u001b[0m\n\u001b[1;32m    184\u001b[0m         \"\"\"\n\u001b[0;32m--> 185\u001b[0;31m         \u001b[0mtorch\u001b[0m\u001b[0;34m.\u001b[0m\u001b[0mautograd\u001b[0m\u001b[0;34m.\u001b[0m\u001b[0mbackward\u001b[0m\u001b[0;34m(\u001b[0m\u001b[0mself\u001b[0m\u001b[0;34m,\u001b[0m \u001b[0mgradient\u001b[0m\u001b[0;34m,\u001b[0m \u001b[0mretain_graph\u001b[0m\u001b[0;34m,\u001b[0m \u001b[0mcreate_graph\u001b[0m\u001b[0;34m)\u001b[0m\u001b[0;34m\u001b[0m\u001b[0;34m\u001b[0m\u001b[0m\n\u001b[0m\u001b[1;32m    186\u001b[0m \u001b[0;34m\u001b[0m\u001b[0m\n\u001b[1;32m    187\u001b[0m     \u001b[0;32mdef\u001b[0m \u001b[0mregister_hook\u001b[0m\u001b[0;34m(\u001b[0m\u001b[0mself\u001b[0m\u001b[0;34m,\u001b[0m \u001b[0mhook\u001b[0m\u001b[0;34m)\u001b[0m\u001b[0;34m:\u001b[0m\u001b[0;34m\u001b[0m\u001b[0;34m\u001b[0m\u001b[0m\n",
            "\u001b[0;32m/usr/local/lib/python3.6/dist-packages/torch/autograd/__init__.py\u001b[0m in \u001b[0;36mbackward\u001b[0;34m(tensors, grad_tensors, retain_graph, create_graph, grad_variables)\u001b[0m\n\u001b[1;32m    125\u001b[0m     Variable._execution_engine.run_backward(\n\u001b[1;32m    126\u001b[0m         \u001b[0mtensors\u001b[0m\u001b[0;34m,\u001b[0m \u001b[0mgrad_tensors\u001b[0m\u001b[0;34m,\u001b[0m \u001b[0mretain_graph\u001b[0m\u001b[0;34m,\u001b[0m \u001b[0mcreate_graph\u001b[0m\u001b[0;34m,\u001b[0m\u001b[0;34m\u001b[0m\u001b[0;34m\u001b[0m\u001b[0m\n\u001b[0;32m--> 127\u001b[0;31m         allow_unreachable=True)  # allow_unreachable flag\n\u001b[0m\u001b[1;32m    128\u001b[0m \u001b[0;34m\u001b[0m\u001b[0m\n\u001b[1;32m    129\u001b[0m \u001b[0;34m\u001b[0m\u001b[0m\n",
            "\u001b[0;31mKeyboardInterrupt\u001b[0m: "
          ]
        }
      ]
    },
    {
      "cell_type": "code",
      "metadata": {
        "id": "WwfZ3nzBjYPa"
      },
      "source": [
        "learn.save('stage-1')"
      ],
      "execution_count": null,
      "outputs": []
    },
    {
      "cell_type": "code",
      "metadata": {
        "id": "BrV-JO8Cmjk8"
      },
      "source": [
        "learn.unfreeze()"
      ],
      "execution_count": null,
      "outputs": []
    },
    {
      "cell_type": "code",
      "metadata": {
        "id": "vggO6uPbmmew",
        "outputId": "47161e23-a6f9-41a8-9282-8586ac28273d",
        "colab": {
          "base_uri": "https://localhost:8080/",
          "height": 1000
        }
      },
      "source": [
        "learn.load('stage-1')"
      ],
      "execution_count": null,
      "outputs": [
        {
          "output_type": "execute_result",
          "data": {
            "text/plain": [
              "LanguageLearner(data=TextLMDataBunch;\n",
              "\n",
              "Train: LabelList (180000 items)\n",
              "x: LMTextList\n",
              "xxbos add option pin unpin package from conda cli conda pin package names conda unpin package names,xxbos exclude xxunk from sequence comparison was pretty surprised find out that the clustering algorithm differentiates between sequences with the same random region and different primer regions xxunk example xxunk xxunk xxunk xxunk xxunk xxunk xxunk xxunk xxunk xxunk these two sequences belonging the same clusters the random region xxunk the same while there are some misread bases the primer region leading those two sequences being considered distinct xxunk the same time while exporting the clusters combined cluster size sum rpm all cluster members not calculated and the export text file filtered via export xxunk based not cluster total rpm but the number distinct members who can differ both the random region the primer regions leads situation when theoretically you get cluster with members each with rpm being exported the text file while cluster with members each with rpm not exported export xxunk despite the second cluster being probably much more important don you think that this could misleading and result for once confusion and secondly missing important high frequency clusters would love see another export file option with total clusters rpm calculated and only seed sequences exported hope this xxunk you rather than discourage develop the software thanks lot,xxbos add docs for running demo locally and put live demo somewhere,xxbos validation message required xhtml editor field tab shows beyond the console area prepare install and set the blog add use starter site with the add pre installed venus log into the console data global datatypes composite community blog entries edit form markup locate cms binding with name content and set optional false see below save the form cms binding name content type system string optional false repro content blog page blog entries add blog entry enter title and teaser click save save and publish this point the entry will not save and the validation message icon will appear next the title the content tab the entry click the content tab the entry expected validation message any appears within the cms console and can easily seen and read actual part the validation message appears the left side mostly beyond the cms console area see below validation message not properly visible png,xxbos xxunk tests error during test users xxunk git university xxunk test interface got exception methoderror xxunk arrangement planar arrangement int outside methoderror method matching planar arrangement adjoint float array float adjoint int xxunk int int stacktrace xxunk array float array array int users xxunk julia packages xxunk xxunk src interface top level scope users osx buildbot slave package osx build usr share julia stdlib test src test include boot inlined include relative module string loading include module string sysimg include string client top level scope none include boot inlined include relative module string loading include module string sysimg exec options base jloptions client start client\n",
              "y: LMLabelList\n",
              ",,,,\n",
              "Path: .;\n",
              "\n",
              "Valid: LabelList (45000 items)\n",
              "x: LMTextList\n",
              "xxbos build fix react custom scrollbars warning message npm install npm warn package json dependency react custom scrollbars exists both dependencies and devdependencies using react custom scrollbars from dependencies,xxbos add helper for xxunk geometries line with parallel beam geometry and the coming cone beam geometry see should have helper that generates xxunk cone beam geometry and takes into account height the object and vertical sampling compute pitch and height the helix and corresponding detector height,xxbos rss ladder and server info should use lscpu instead lscpu numa server info rss ladder,xxbos onenote online xxunk access access error onenote online blocked chrome xxunk,xxbos fix minimum font size for state diagrams for long labels font size can shrink extremely tiny\n",
              "y: LMLabelList\n",
              ",,,,\n",
              "Path: .;\n",
              "\n",
              "Test: None, model=SequentialRNN(\n",
              "  (0): AWD_LSTM(\n",
              "    (encoder): Embedding(60000, 400, padding_idx=1)\n",
              "    (encoder_dp): EmbeddingDropout(\n",
              "      (emb): Embedding(60000, 400, padding_idx=1)\n",
              "    )\n",
              "    (rnns): ModuleList(\n",
              "      (0): WeightDropout(\n",
              "        (module): LSTM(400, 1152, batch_first=True)\n",
              "      )\n",
              "      (1): WeightDropout(\n",
              "        (module): LSTM(1152, 1152, batch_first=True)\n",
              "      )\n",
              "      (2): WeightDropout(\n",
              "        (module): LSTM(1152, 400, batch_first=True)\n",
              "      )\n",
              "    )\n",
              "    (input_dp): RNNDropout()\n",
              "    (hidden_dps): ModuleList(\n",
              "      (0): RNNDropout()\n",
              "      (1): RNNDropout()\n",
              "      (2): RNNDropout()\n",
              "    )\n",
              "  )\n",
              "  (1): LinearDecoder(\n",
              "    (decoder): Linear(in_features=400, out_features=60000, bias=True)\n",
              "    (output_dp): RNNDropout()\n",
              "  )\n",
              "), opt_func=functools.partial(<class 'torch.optim.adam.Adam'>, betas=(0.9, 0.99)), loss_func=FlattenedLoss of CrossEntropyLoss(), metrics=[<function accuracy at 0x7f0ce76179d8>], true_wd=True, bn_wd=True, wd=0.01, train_bn=True, path=PosixPath('.'), model_dir='models', callback_fns=[functools.partial(<class 'fastai.basic_train.Recorder'>, add_time=True, silent=False)], callbacks=[RNNTrainer\n",
              "learn: LanguageLearner(data=TextLMDataBunch;\n",
              "\n",
              "Train: LabelList (180000 items)\n",
              "x: LMTextList\n",
              "xxbos add option pin unpin package from conda cli conda pin package names conda unpin package names,xxbos exclude xxunk from sequence comparison was pretty surprised find out that the clustering algorithm differentiates between sequences with the same random region and different primer regions xxunk example xxunk xxunk xxunk xxunk xxunk xxunk xxunk xxunk xxunk xxunk these two sequences belonging the same clusters the random region xxunk the same while there are some misread bases the primer region leading those two sequences being considered distinct xxunk the same time while exporting the clusters combined cluster size sum rpm all cluster members not calculated and the export text file filtered via export xxunk based not cluster total rpm but the number distinct members who can differ both the random region the primer regions leads situation when theoretically you get cluster with members each with rpm being exported the text file while cluster with members each with rpm not exported export xxunk despite the second cluster being probably much more important don you think that this could misleading and result for once confusion and secondly missing important high frequency clusters would love see another export file option with total clusters rpm calculated and only seed sequences exported hope this xxunk you rather than discourage develop the software thanks lot,xxbos add docs for running demo locally and put live demo somewhere,xxbos validation message required xhtml editor field tab shows beyond the console area prepare install and set the blog add use starter site with the add pre installed venus log into the console data global datatypes composite community blog entries edit form markup locate cms binding with name content and set optional false see below save the form cms binding name content type system string optional false repro content blog page blog entries add blog entry enter title and teaser click save save and publish this point the entry will not save and the validation message icon will appear next the title the content tab the entry click the content tab the entry expected validation message any appears within the cms console and can easily seen and read actual part the validation message appears the left side mostly beyond the cms console area see below validation message not properly visible png,xxbos xxunk tests error during test users xxunk git university xxunk test interface got exception methoderror xxunk arrangement planar arrangement int outside methoderror method matching planar arrangement adjoint float array float adjoint int xxunk int int stacktrace xxunk array float array array int users xxunk julia packages xxunk xxunk src interface top level scope users osx buildbot slave package osx build usr share julia stdlib test src test include boot inlined include relative module string loading include module string sysimg include string client top level scope none include boot inlined include relative module string loading include module string sysimg exec options base jloptions client start client\n",
              "y: LMLabelList\n",
              ",,,,\n",
              "Path: .;\n",
              "\n",
              "Valid: LabelList (45000 items)\n",
              "x: LMTextList\n",
              "xxbos build fix react custom scrollbars warning message npm install npm warn package json dependency react custom scrollbars exists both dependencies and devdependencies using react custom scrollbars from dependencies,xxbos add helper for xxunk geometries line with parallel beam geometry and the coming cone beam geometry see should have helper that generates xxunk cone beam geometry and takes into account height the object and vertical sampling compute pitch and height the helix and corresponding detector height,xxbos rss ladder and server info should use lscpu instead lscpu numa server info rss ladder,xxbos onenote online xxunk access access error onenote online blocked chrome xxunk,xxbos fix minimum font size for state diagrams for long labels font size can shrink extremely tiny\n",
              "y: LMLabelList\n",
              ",,,,\n",
              "Path: .;\n",
              "\n",
              "Test: None, model=SequentialRNN(\n",
              "  (0): AWD_LSTM(\n",
              "    (encoder): Embedding(60000, 400, padding_idx=1)\n",
              "    (encoder_dp): EmbeddingDropout(\n",
              "      (emb): Embedding(60000, 400, padding_idx=1)\n",
              "    )\n",
              "    (rnns): ModuleList(\n",
              "      (0): WeightDropout(\n",
              "        (module): LSTM(400, 1152, batch_first=True)\n",
              "      )\n",
              "      (1): WeightDropout(\n",
              "        (module): LSTM(1152, 1152, batch_first=True)\n",
              "      )\n",
              "      (2): WeightDropout(\n",
              "        (module): LSTM(1152, 400, batch_first=True)\n",
              "      )\n",
              "    )\n",
              "    (input_dp): RNNDropout()\n",
              "    (hidden_dps): ModuleList(\n",
              "      (0): RNNDropout()\n",
              "      (1): RNNDropout()\n",
              "      (2): RNNDropout()\n",
              "    )\n",
              "  )\n",
              "  (1): LinearDecoder(\n",
              "    (decoder): Linear(in_features=400, out_features=60000, bias=True)\n",
              "    (output_dp): RNNDropout()\n",
              "  )\n",
              "), opt_func=functools.partial(<class 'torch.optim.adam.Adam'>, betas=(0.9, 0.99)), loss_func=FlattenedLoss of CrossEntropyLoss(), metrics=[<function accuracy at 0x7f0ce76179d8>], true_wd=True, bn_wd=True, wd=0.01, train_bn=True, path=PosixPath('.'), model_dir='models', callback_fns=[functools.partial(<class 'fastai.basic_train.Recorder'>, add_time=True, silent=False)], callbacks=[...], layer_groups=[Sequential(\n",
              "  (0): WeightDropout(\n",
              "    (module): LSTM(400, 1152, batch_first=True)\n",
              "  )\n",
              "  (1): RNNDropout()\n",
              "), Sequential(\n",
              "  (0): WeightDropout(\n",
              "    (module): LSTM(1152, 1152, batch_first=True)\n",
              "  )\n",
              "  (1): RNNDropout()\n",
              "), Sequential(\n",
              "  (0): WeightDropout(\n",
              "    (module): LSTM(1152, 400, batch_first=True)\n",
              "  )\n",
              "  (1): RNNDropout()\n",
              "), Sequential(\n",
              "  (0): Embedding(60000, 400, padding_idx=1)\n",
              "  (1): EmbeddingDropout(\n",
              "    (emb): Embedding(60000, 400, padding_idx=1)\n",
              "  )\n",
              "  (2): LinearDecoder(\n",
              "    (decoder): Linear(in_features=400, out_features=60000, bias=True)\n",
              "    (output_dp): RNNDropout()\n",
              "  )\n",
              ")], add_time=True, silent=False)\n",
              "alpha: 2.0\n",
              "beta: 1.0], layer_groups=[Sequential(\n",
              "  (0): WeightDropout(\n",
              "    (module): LSTM(400, 1152, batch_first=True)\n",
              "  )\n",
              "  (1): RNNDropout()\n",
              "), Sequential(\n",
              "  (0): WeightDropout(\n",
              "    (module): LSTM(1152, 1152, batch_first=True)\n",
              "  )\n",
              "  (1): RNNDropout()\n",
              "), Sequential(\n",
              "  (0): WeightDropout(\n",
              "    (module): LSTM(1152, 400, batch_first=True)\n",
              "  )\n",
              "  (1): RNNDropout()\n",
              "), Sequential(\n",
              "  (0): Embedding(60000, 400, padding_idx=1)\n",
              "  (1): EmbeddingDropout(\n",
              "    (emb): Embedding(60000, 400, padding_idx=1)\n",
              "  )\n",
              "  (2): LinearDecoder(\n",
              "    (decoder): Linear(in_features=400, out_features=60000, bias=True)\n",
              "    (output_dp): RNNDropout()\n",
              "  )\n",
              ")], add_time=True, silent=False)"
            ]
          },
          "metadata": {
            "tags": []
          },
          "execution_count": 28
        }
      ]
    },
    {
      "cell_type": "code",
      "metadata": {
        "id": "Fz9e3W6Mmpwv",
        "outputId": "c2c6bd3a-8c07-4582-d1d5-e0587e179891",
        "colab": {
          "base_uri": "https://localhost:8080/",
          "height": 109
        }
      },
      "source": [
        "learn.lr_find()"
      ],
      "execution_count": null,
      "outputs": [
        {
          "output_type": "display_data",
          "data": {
            "text/html": [
              "\n",
              "    <div>\n",
              "        <style>\n",
              "            /* Turns off some styling */\n",
              "            progress {\n",
              "                /* gets rid of default border in Firefox and Opera. */\n",
              "                border: none;\n",
              "                /* Needs to be in here for Safari polyfill so background images work as expected. */\n",
              "                background-size: auto;\n",
              "            }\n",
              "            .progress-bar-interrupted, .progress-bar-interrupted::-webkit-progress-bar {\n",
              "                background: #F44336;\n",
              "            }\n",
              "        </style>\n",
              "      <progress value='0' class='' max='1' style='width:300px; height:20px; vertical-align: middle;'></progress>\n",
              "      0.00% [0/1 00:00<00:00]\n",
              "    </div>\n",
              "    \n",
              "<table border=\"1\" class=\"dataframe\">\n",
              "  <thead>\n",
              "    <tr style=\"text-align: left;\">\n",
              "      <th>epoch</th>\n",
              "      <th>train_loss</th>\n",
              "      <th>valid_loss</th>\n",
              "      <th>accuracy</th>\n",
              "      <th>time</th>\n",
              "    </tr>\n",
              "  </thead>\n",
              "  <tbody>\n",
              "  </tbody>\n",
              "</table><p>\n",
              "\n",
              "    <div>\n",
              "        <style>\n",
              "            /* Turns off some styling */\n",
              "            progress {\n",
              "                /* gets rid of default border in Firefox and Opera. */\n",
              "                border: none;\n",
              "                /* Needs to be in here for Safari polyfill so background images work as expected. */\n",
              "                background-size: auto;\n",
              "            }\n",
              "            .progress-bar-interrupted, .progress-bar-interrupted::-webkit-progress-bar {\n",
              "                background: #F44336;\n",
              "            }\n",
              "        </style>\n",
              "      <progress value='88' class='' max='3540' style='width:300px; height:20px; vertical-align: middle;'></progress>\n",
              "      2.49% [88/3540 00:17<11:08 20.4005]\n",
              "    </div>\n",
              "    "
            ],
            "text/plain": [
              "<IPython.core.display.HTML object>"
            ]
          },
          "metadata": {
            "tags": []
          }
        },
        {
          "output_type": "stream",
          "text": [
            "LR Finder is complete, type {learner_name}.recorder.plot() to see the graph.\n"
          ],
          "name": "stdout"
        }
      ]
    },
    {
      "cell_type": "code",
      "metadata": {
        "id": "iZPksLKrmuaY",
        "outputId": "96d82043-70b2-4bf7-f0bd-c58ee94bcbb9",
        "colab": {
          "base_uri": "https://localhost:8080/",
          "height": 278
        }
      },
      "source": [
        "learn.recorder.plot()"
      ],
      "execution_count": null,
      "outputs": [
        {
          "output_type": "display_data",
          "data": {
            "image/png": "[encoded data removed]",
            "text/plain": [
              "<Figure size 432x288 with 1 Axes>"
            ]
          },
          "metadata": {
            "tags": []
          }
        }
      ]
    },
    {
      "cell_type": "code",
      "metadata": {
        "id": "fp4zgCg0m0KJ",
        "outputId": "e87f8e04-0b57-4c68-e4f2-88a812e32d7b",
        "colab": {
          "base_uri": "https://localhost:8080/",
          "height": 274
        }
      },
      "source": [
        "data_clas = (TextList.from_df(train, cols='text', vocab=data.vocab)\n",
        "             .split_by_rand_pct(0.2)\n",
        "             .label_from_df(cols='target')\n",
        "             .add_test(test)\n",
        "             .databunch(bs=32))\n",
        "\n",
        "data_clas.show_batch()"
      ],
      "execution_count": null,
      "outputs": [
        {
          "output_type": "display_data",
          "data": {
            "text/html": [
              ""
            ],
            "text/plain": [
              "<IPython.core.display.HTML object>"
            ]
          },
          "metadata": {
            "tags": []
          }
        },
        {
          "output_type": "display_data",
          "data": {
            "text/html": [
              ""
            ],
            "text/plain": [
              "<IPython.core.display.HTML object>"
            ]
          },
          "metadata": {
            "tags": []
          }
        },
        {
          "output_type": "display_data",
          "data": {
            "text/html": [
              ""
            ],
            "text/plain": [
              "<IPython.core.display.HTML object>"
            ]
          },
          "metadata": {
            "tags": []
          }
        },
        {
          "output_type": "display_data",
          "data": {
            "text/html": [
              "<table border=\"1\" class=\"dataframe\">\n",
              "  <thead>\n",
              "    <tr style=\"text-align: right;\">\n",
              "      <th>text</th>\n",
              "      <th>target</th>\n",
              "    </tr>\n",
              "  </thead>\n",
              "  <tbody>\n",
              "    <tr>\n",
              "      <td>xxbos when log url code fcf appdevdesigns net page xxunk code browser code mozilla macintosh intel mac applewebkit khtml like gecko version safari code user code cde code note when log lists activities under should list activities that been tagged someone else has already entered the activity and uploaded few photos and tagged those photos would they should they show here guessing that because this entire area blank for username</td>\n",
              "      <td>2</td>\n",
              "    </tr>\n",
              "    <tr>\n",
              "      <td>xxbos openstack ssa error notimplementederror type cast just error logs ssa finishes error task agent job state miq miqqueue deliver message error notimplementederror error task agent job state notimplementederror notimplementederror method rescue deliver error task agent job state home ladas rvm gems ruby bundler gems rails activerecord lib active record attribute type cast home ladas rvm gems ruby bundler gems rails activerecord lib active record attribute original value home ladas</td>\n",
              "      <td>0</td>\n",
              "    </tr>\n",
              "    <tr>\n",
              "      <td>xxbos part plugin does not build with fastbit support mac recently rebuilt all libraries using build visit all this built support for fastbit when build visit itself the build fails part reader due array type problems users whitlock development trunk src databases part timestep error array was not declared this scope users whitlock development trunk src databases part timestep error expected xxunk before token users whitlock development trunk src databases</td>\n",
              "      <td>0</td>\n",
              "    </tr>\n",
              "    <tr>\n",
              "      <td>xxbos cargo test doesn work text error linking with failed exit code note needed xxunk home steve multirust toolchains nightly unknown linux gnu lib rustlib unknown linux gnu lib home steve src intermezzos kernel target debug deps intermezzos home steve src intermezzos kernel target debug deps intermezzos sections pie xxunk home steve src intermezzos kernel target debug deps home steve src intermezzos kernel target debug build intermezzos bcb out home</td>\n",
              "      <td>0</td>\n",
              "    </tr>\n",
              "    <tr>\n",
              "      <td>xxbos build for windows xxunk platform failed with some jar packages not available trying build the latest develop branch kura for windows platform but with failure like below info downloading addons mvn repo org eclipse kura org eclipse kura linux usb snapshot maven metadata xml info configured artifact org eclipse kura org eclipse kura linux usb armv snapshot jar info downloading addons mvn repo org eclipse kura org eclipse kura</td>\n",
              "      <td>2</td>\n",
              "    </tr>\n",
              "  </tbody>\n",
              "</table>"
            ],
            "text/plain": [
              "<IPython.core.display.HTML object>"
            ]
          },
          "metadata": {
            "tags": []
          }
        }
      ]
    },
    {
      "cell_type": "code",
      "metadata": {
        "id": "ZOc2facTnCpU"
      },
      "source": [
        "\n",
        "learn_classifier = text_classifier_learner(data_clas, AWD_LSTM, drop_mult=0.3)"
      ],
      "execution_count": null,
      "outputs": []
    },
    {
      "cell_type": "code",
      "metadata": {
        "id": "hBj3VYDHoaYZ",
        "outputId": "2560c8de-30fb-46a9-be44-c8fa7c21533d",
        "colab": {
          "base_uri": "https://localhost:8080/",
          "height": 109
        }
      },
      "source": [
        "\n",
        "learn_classifier.lr_find()"
      ],
      "execution_count": null,
      "outputs": [
        {
          "output_type": "display_data",
          "data": {
            "text/html": [
              "\n",
              "    <div>\n",
              "        <style>\n",
              "            /* Turns off some styling */\n",
              "            progress {\n",
              "                /* gets rid of default border in Firefox and Opera. */\n",
              "                border: none;\n",
              "                /* Needs to be in here for Safari polyfill so background images work as expected. */\n",
              "                background-size: auto;\n",
              "            }\n",
              "            .progress-bar-interrupted, .progress-bar-interrupted::-webkit-progress-bar {\n",
              "                background: #F44336;\n",
              "            }\n",
              "        </style>\n",
              "      <progress value='0' class='' max='1' style='width:300px; height:20px; vertical-align: middle;'></progress>\n",
              "      0.00% [0/1 00:00<00:00]\n",
              "    </div>\n",
              "    \n",
              "<table border=\"1\" class=\"dataframe\">\n",
              "  <thead>\n",
              "    <tr style=\"text-align: left;\">\n",
              "      <th>epoch</th>\n",
              "      <th>train_loss</th>\n",
              "      <th>valid_loss</th>\n",
              "      <th>accuracy</th>\n",
              "      <th>time</th>\n",
              "    </tr>\n",
              "  </thead>\n",
              "  <tbody>\n",
              "  </tbody>\n",
              "</table><p>\n",
              "\n",
              "    <div>\n",
              "        <style>\n",
              "            /* Turns off some styling */\n",
              "            progress {\n",
              "                /* gets rid of default border in Firefox and Opera. */\n",
              "                border: none;\n",
              "                /* Needs to be in here for Safari polyfill so background images work as expected. */\n",
              "                background-size: auto;\n",
              "            }\n",
              "            .progress-bar-interrupted, .progress-bar-interrupted::-webkit-progress-bar {\n",
              "                background: #F44336;\n",
              "            }\n",
              "        </style>\n",
              "      <progress value='94' class='' max='5625' style='width:300px; height:20px; vertical-align: middle;'></progress>\n",
              "      1.67% [94/5625 00:10<10:35 3.3939]\n",
              "    </div>\n",
              "    "
            ],
            "text/plain": [
              "<IPython.core.display.HTML object>"
            ]
          },
          "metadata": {
            "tags": []
          }
        },
        {
          "output_type": "stream",
          "text": [
            "LR Finder is complete, type {learner_name}.recorder.plot() to see the graph.\n"
          ],
          "name": "stdout"
        }
      ]
    },
    {
      "cell_type": "code",
      "metadata": {
        "id": "0OWJp1nbodaf",
        "outputId": "a8e47b1f-2e43-4804-baaa-0eb63b379035",
        "colab": {
          "base_uri": "https://localhost:8080/",
          "height": 278
        }
      },
      "source": [
        "\n",
        "learn_classifier.recorder.plot()"
      ],
      "execution_count": null,
      "outputs": [
        {
          "output_type": "display_data",
          "data": {
            "image/png": "[encoded data removed]",
            "text/plain": [
              "<Figure size 432x288 with 1 Axes>"
            ]
          },
          "metadata": {
            "tags": []
          }
        }
      ]
    },
    {
      "cell_type": "code",
      "metadata": {
        "id": "V0zNWcK4ojBk",
        "outputId": "6046d9cb-7eef-4c6a-ee37-d6ccf8e15d1d",
        "colab": {
          "base_uri": "https://localhost:8080/",
          "height": 75
        }
      },
      "source": [
        "learn_classifier.fit_one_cycle(1, 2e-2, moms=(0.8, 0.7))"
      ],
      "execution_count": null,
      "outputs": [
        {
          "output_type": "display_data",
          "data": {
            "text/html": [
              "<table border=\"1\" class=\"dataframe\">\n",
              "  <thead>\n",
              "    <tr style=\"text-align: left;\">\n",
              "      <th>epoch</th>\n",
              "      <th>train_loss</th>\n",
              "      <th>valid_loss</th>\n",
              "      <th>accuracy</th>\n",
              "      <th>time</th>\n",
              "    </tr>\n",
              "  </thead>\n",
              "  <tbody>\n",
              "    <tr>\n",
              "      <td>0</td>\n",
              "      <td>0.922604</td>\n",
              "      <td>0.986125</td>\n",
              "      <td>0.574067</td>\n",
              "      <td>03:52</td>\n",
              "    </tr>\n",
              "  </tbody>\n",
              "</table>"
            ],
            "text/plain": [
              "<IPython.core.display.HTML object>"
            ]
          },
          "metadata": {
            "tags": []
          }
        }
      ]
    },
    {
      "cell_type": "code",
      "metadata": {
        "id": "JcnFib59oyBJ"
      },
      "source": [
        ""
      ],
      "execution_count": null,
      "outputs": []
    }
  ]
}