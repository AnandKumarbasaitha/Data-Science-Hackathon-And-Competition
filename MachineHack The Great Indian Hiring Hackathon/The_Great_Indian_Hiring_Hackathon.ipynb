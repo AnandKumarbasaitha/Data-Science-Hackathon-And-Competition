{
  "nbformat": 4,
  "nbformat_minor": 0,
  "metadata": {
    "colab": {
      "name": "The Great Indian Hiring Hackathon.ipynb",
      "provenance": [],
      "collapsed_sections": []
    },
    "kernelspec": {
      "display_name": "Python 3",
      "name": "python3"
    }
  },
  "cells": [
    {
      "cell_type": "code",
      "metadata": {
        "colab": {
          "base_uri": "https://localhost:8080/"
        },
        "id": "iw8OAJlF1TXm",
        "outputId": "c86231c8-98b9-4c18-c881-ae69c06ddd93"
      },
      "source": [
        "!wget https://machinehack-be.s3.amazonaws.com/retail_price_prediction_mega_hiring_hackathon/Participants_Data_TGIH.zip"
      ],
      "execution_count": null,
      "outputs": [
        {
          "output_type": "stream",
          "text": [
            "--2020-11-22 20:42:37--  https://machinehack-be.s3.amazonaws.com/retail_price_prediction_mega_hiring_hackathon/Participants_Data_TGIH.zip\n",
            "Resolving machinehack-be.s3.amazonaws.com (machinehack-be.s3.amazonaws.com)... 52.219.62.72\n",
            "Connecting to machinehack-be.s3.amazonaws.com (machinehack-be.s3.amazonaws.com)|52.219.62.72|:443... connected.\n",
            "HTTP request sent, awaiting response... 200 OK\n",
            "Length: 6595880 (6.3M) [application/zip]\n",
            "Saving to: ‘Participants_Data_TGIH.zip’\n",
            "\n",
            "Participants_Data_T 100%[===================>]   6.29M  3.31MB/s    in 1.9s    \n",
            "\n",
            "2020-11-22 20:42:40 (3.31 MB/s) - ‘Participants_Data_TGIH.zip’ saved [6595880/6595880]\n",
            "\n"
          ],
          "name": "stdout"
        }
      ]
    },
    {
      "cell_type": "code",
      "metadata": {
        "colab": {
          "base_uri": "https://localhost:8080/"
        },
        "id": "KjUlDv6e1gkr",
        "outputId": "7a70c07f-6b8d-4253-f83e-cbade18df888"
      },
      "source": [
        "!unzip Participants_Data_TGIH.zip"
      ],
      "execution_count": null,
      "outputs": [
        {
          "output_type": "stream",
          "text": [
            "Archive:  Participants_Data_TGIH.zip\n",
            "   creating: Participants_Data_TGIH/\n",
            "  inflating: Participants_Data_TGIH/Sample Submission.csv  \n",
            "  inflating: __MACOSX/Participants_Data_TGIH/._Sample Submission.csv  \n",
            "  inflating: Participants_Data_TGIH/Test.csv  \n",
            "  inflating: __MACOSX/Participants_Data_TGIH/._Test.csv  \n",
            "  inflating: Participants_Data_TGIH/Train.csv  \n",
            "  inflating: __MACOSX/Participants_Data_TGIH/._Train.csv  \n"
          ],
          "name": "stdout"
        }
      ]
    },
    {
      "cell_type": "code",
      "metadata": {
        "id": "DGnTnrkPM5vx"
      },
      "source": [
        "import pandas as pd\n",
        "import numpy as np\n",
        "import matplotlib.pyplot as plt\n",
        "%matplotlib inline\n",
        "import warnings\n",
        "warnings.simplefilter(action='ignore', category=FutureWarning)"
      ],
      "execution_count": null,
      "outputs": []
    },
    {
      "cell_type": "code",
      "metadata": {
        "id": "qZC3EyAOM6f3"
      },
      "source": [
        "train = pd.read_csv('Participants_Data_TGIH/Train.csv')\n",
        "test = pd.read_csv('Participants_Data_TGIH/Test.csv')"
      ],
      "execution_count": null,
      "outputs": []
    },
    {
      "cell_type": "code",
      "metadata": {
        "colab": {
          "base_uri": "https://localhost:8080/",
          "height": 190
        },
        "id": "-XzdyhBt19DN",
        "outputId": "b1e5804b-e363-4ad0-bbd4-75fe91a83030"
      },
      "source": [
        "train.head(5)"
      ],
      "execution_count": null,
      "outputs": [
        {
          "output_type": "execute_result",
          "data": {
            "text/html": [
              "<div>\n",
              "<style scoped>\n",
              "    .dataframe tbody tr th:only-of-type {\n",
              "        vertical-align: middle;\n",
              "    }\n",
              "\n",
              "    .dataframe tbody tr th {\n",
              "        vertical-align: top;\n",
              "    }\n",
              "\n",
              "    .dataframe thead th {\n",
              "        text-align: right;\n",
              "    }\n",
              "</style>\n",
              "<table border=\"1\" class=\"dataframe\">\n",
              "  <thead>\n",
              "    <tr style=\"text-align: right;\">\n",
              "      <th></th>\n",
              "      <th>InvoiceNo</th>\n",
              "      <th>StockCode</th>\n",
              "      <th>Description</th>\n",
              "      <th>Quantity</th>\n",
              "      <th>InvoiceDate</th>\n",
              "      <th>UnitPrice</th>\n",
              "      <th>CustomerID</th>\n",
              "      <th>Country</th>\n",
              "    </tr>\n",
              "  </thead>\n",
              "  <tbody>\n",
              "    <tr>\n",
              "      <th>0</th>\n",
              "      <td>6141</td>\n",
              "      <td>1583</td>\n",
              "      <td>144</td>\n",
              "      <td>3</td>\n",
              "      <td>2011-05-06 16:54:00</td>\n",
              "      <td>3.75</td>\n",
              "      <td>14056.0</td>\n",
              "      <td>35</td>\n",
              "    </tr>\n",
              "    <tr>\n",
              "      <th>1</th>\n",
              "      <td>6349</td>\n",
              "      <td>1300</td>\n",
              "      <td>3682</td>\n",
              "      <td>6</td>\n",
              "      <td>2011-05-11 07:35:00</td>\n",
              "      <td>1.95</td>\n",
              "      <td>13098.0</td>\n",
              "      <td>35</td>\n",
              "    </tr>\n",
              "    <tr>\n",
              "      <th>2</th>\n",
              "      <td>16783</td>\n",
              "      <td>2178</td>\n",
              "      <td>1939</td>\n",
              "      <td>4</td>\n",
              "      <td>2011-11-20 13:20:00</td>\n",
              "      <td>5.95</td>\n",
              "      <td>15044.0</td>\n",
              "      <td>35</td>\n",
              "    </tr>\n",
              "    <tr>\n",
              "      <th>3</th>\n",
              "      <td>16971</td>\n",
              "      <td>2115</td>\n",
              "      <td>2983</td>\n",
              "      <td>1</td>\n",
              "      <td>2011-11-22 12:07:00</td>\n",
              "      <td>0.83</td>\n",
              "      <td>15525.0</td>\n",
              "      <td>35</td>\n",
              "    </tr>\n",
              "    <tr>\n",
              "      <th>4</th>\n",
              "      <td>6080</td>\n",
              "      <td>1210</td>\n",
              "      <td>2886</td>\n",
              "      <td>12</td>\n",
              "      <td>2011-05-06 09:00:00</td>\n",
              "      <td>1.65</td>\n",
              "      <td>13952.0</td>\n",
              "      <td>35</td>\n",
              "    </tr>\n",
              "  </tbody>\n",
              "</table>\n",
              "</div>"
            ],
            "text/plain": [
              "   InvoiceNo  StockCode  Description  ...  UnitPrice CustomerID  Country\n",
              "0       6141       1583          144  ...       3.75    14056.0       35\n",
              "1       6349       1300         3682  ...       1.95    13098.0       35\n",
              "2      16783       2178         1939  ...       5.95    15044.0       35\n",
              "3      16971       2115         2983  ...       0.83    15525.0       35\n",
              "4       6080       1210         2886  ...       1.65    13952.0       35\n",
              "\n",
              "[5 rows x 8 columns]"
            ]
          },
          "metadata": {
            "tags": []
          },
          "execution_count": 109
        }
      ]
    },
    {
      "cell_type": "code",
      "metadata": {
        "colab": {
          "base_uri": "https://localhost:8080/",
          "height": 190
        },
        "id": "ISMwqie81_dQ",
        "outputId": "34e87cfe-8c6b-4517-8fb8-f5656d14b63c"
      },
      "source": [
        "test.head(5)"
      ],
      "execution_count": null,
      "outputs": [
        {
          "output_type": "execute_result",
          "data": {
            "text/html": [
              "<div>\n",
              "<style scoped>\n",
              "    .dataframe tbody tr th:only-of-type {\n",
              "        vertical-align: middle;\n",
              "    }\n",
              "\n",
              "    .dataframe tbody tr th {\n",
              "        vertical-align: top;\n",
              "    }\n",
              "\n",
              "    .dataframe thead th {\n",
              "        text-align: right;\n",
              "    }\n",
              "</style>\n",
              "<table border=\"1\" class=\"dataframe\">\n",
              "  <thead>\n",
              "    <tr style=\"text-align: right;\">\n",
              "      <th></th>\n",
              "      <th>InvoiceNo</th>\n",
              "      <th>StockCode</th>\n",
              "      <th>Description</th>\n",
              "      <th>Quantity</th>\n",
              "      <th>InvoiceDate</th>\n",
              "      <th>CustomerID</th>\n",
              "      <th>Country</th>\n",
              "    </tr>\n",
              "  </thead>\n",
              "  <tbody>\n",
              "    <tr>\n",
              "      <th>0</th>\n",
              "      <td>3139</td>\n",
              "      <td>1709</td>\n",
              "      <td>1079</td>\n",
              "      <td>3</td>\n",
              "      <td>2011-02-22 15:22:00</td>\n",
              "      <td>16161.0</td>\n",
              "      <td>35</td>\n",
              "    </tr>\n",
              "    <tr>\n",
              "      <th>1</th>\n",
              "      <td>617</td>\n",
              "      <td>510</td>\n",
              "      <td>3457</td>\n",
              "      <td>1</td>\n",
              "      <td>2010-12-08 12:46:00</td>\n",
              "      <td>17341.0</td>\n",
              "      <td>35</td>\n",
              "    </tr>\n",
              "    <tr>\n",
              "      <th>2</th>\n",
              "      <td>14653</td>\n",
              "      <td>604</td>\n",
              "      <td>694</td>\n",
              "      <td>36</td>\n",
              "      <td>2011-10-25 13:53:00</td>\n",
              "      <td>15158.0</td>\n",
              "      <td>35</td>\n",
              "    </tr>\n",
              "    <tr>\n",
              "      <th>3</th>\n",
              "      <td>8634</td>\n",
              "      <td>1478</td>\n",
              "      <td>3473</td>\n",
              "      <td>2</td>\n",
              "      <td>2011-06-27 12:38:00</td>\n",
              "      <td>16033.0</td>\n",
              "      <td>35</td>\n",
              "    </tr>\n",
              "    <tr>\n",
              "      <th>4</th>\n",
              "      <td>15546</td>\n",
              "      <td>3216</td>\n",
              "      <td>871</td>\n",
              "      <td>1</td>\n",
              "      <td>2011-11-06 16:14:00</td>\n",
              "      <td>15351.0</td>\n",
              "      <td>35</td>\n",
              "    </tr>\n",
              "  </tbody>\n",
              "</table>\n",
              "</div>"
            ],
            "text/plain": [
              "   InvoiceNo  StockCode  Description  ...          InvoiceDate CustomerID  Country\n",
              "0       3139       1709         1079  ...  2011-02-22 15:22:00    16161.0       35\n",
              "1        617        510         3457  ...  2010-12-08 12:46:00    17341.0       35\n",
              "2      14653        604          694  ...  2011-10-25 13:53:00    15158.0       35\n",
              "3       8634       1478         3473  ...  2011-06-27 12:38:00    16033.0       35\n",
              "4      15546       3216          871  ...  2011-11-06 16:14:00    15351.0       35\n",
              "\n",
              "[5 rows x 7 columns]"
            ]
          },
          "metadata": {
            "tags": []
          },
          "execution_count": 110
        }
      ]
    },
    {
      "cell_type": "code",
      "metadata": {
        "colab": {
          "base_uri": "https://localhost:8080/"
        },
        "id": "pxWm9mHM2DKK",
        "outputId": "4efe8439-567e-442e-9592-a4ad9c5c9a9b"
      },
      "source": [
        "train.isnull().sum(),test.isnull().sum(),train.shape,test.shape,train.dtypes"
      ],
      "execution_count": null,
      "outputs": [
        {
          "output_type": "execute_result",
          "data": {
            "text/plain": [
              "(InvoiceNo      0\n",
              " StockCode      0\n",
              " Description    0\n",
              " Quantity       0\n",
              " InvoiceDate    0\n",
              " UnitPrice      0\n",
              " CustomerID     0\n",
              " Country        0\n",
              " dtype: int64, InvoiceNo      0\n",
              " StockCode      0\n",
              " Description    0\n",
              " Quantity       0\n",
              " InvoiceDate    0\n",
              " CustomerID     0\n",
              " Country        0\n",
              " dtype: int64, (284780, 8), (122049, 7), InvoiceNo        int64\n",
              " StockCode        int64\n",
              " Description      int64\n",
              " Quantity         int64\n",
              " InvoiceDate     object\n",
              " UnitPrice      float64\n",
              " CustomerID     float64\n",
              " Country          int64\n",
              " dtype: object)"
            ]
          },
          "metadata": {
            "tags": []
          },
          "execution_count": 111
        }
      ]
    },
    {
      "cell_type": "code",
      "metadata": {
        "id": "4lmME1oL8y5S"
      },
      "source": [
        "#train = train[train.Quantity <4500]\n",
        "#train = train[train.Quantity >-2000]\n",
        "#train = train[train.UnitPrice <4500]\n"
      ],
      "execution_count": null,
      "outputs": []
    },
    {
      "cell_type": "code",
      "metadata": {
        "id": "5MBmOCf_trCl"
      },
      "source": [
        "df=train.append(test,ignore_index=True)"
      ],
      "execution_count": null,
      "outputs": []
    },
    {
      "cell_type": "code",
      "metadata": {
        "id": "yyn7KuTI2BrE"
      },
      "source": [
        "k=['InvoiceDate']\n",
        "for i in k:\n",
        "  df[i] = pd.to_datetime(df[i])\n",
        "for i in k:\n",
        "  #df[i+'_'+'year'] = df[i].dt.year\n",
        "  df[i+'_'+'day'] = df[i].dt.day\n",
        "  df[i+'_'+'weekofyear'] = df[i].dt.weekofyear\n",
        "  df[i+'_'+'month'] = df[i].dt.month\n",
        "  df[i+'_'+'dayofweek'] = df[i].dt.dayofweek\n",
        "  #df[i+'_'+'weekend'] = (df[i].dt.weekday >=5).astype(int)\n",
        "del df['InvoiceDate']"
      ],
      "execution_count": null,
      "outputs": []
    },
    {
      "cell_type": "code",
      "metadata": {
        "colab": {
          "base_uri": "https://localhost:8080/",
          "height": 282
        },
        "id": "jfaZ91zC_d1t",
        "outputId": "9ba81da9-9bca-4564-c876-58db1bc2a882"
      },
      "source": [
        "df['UnitPrice'].plot()"
      ],
      "execution_count": null,
      "outputs": [
        {
          "output_type": "execute_result",
          "data": {
            "text/plain": [
              "<matplotlib.axes._subplots.AxesSubplot at 0x7fc24682dd68>"
            ]
          },
          "metadata": {
            "tags": []
          },
          "execution_count": 115
        },
        {
          "output_type": "display_data",
          "data": {
            "image/png": "[encoded data removed]",
            "text/plain": [
              "<Figure size 432x288 with 1 Axes>"
            ]
          },
          "metadata": {
            "tags": [],
            "needs_background": "light"
          }
        }
      ]
    },
    {
      "cell_type": "code",
      "metadata": {
        "id": "V9kLeSJb_tYY"
      },
      "source": [
        "df = df.drop(df[df['UnitPrice']==38970].index)\n",
        "df = df.drop(df[df['UnitPrice']==8142.75].index)"
      ],
      "execution_count": null,
      "outputs": []
    },
    {
      "cell_type": "code",
      "metadata": {
        "colab": {
          "base_uri": "https://localhost:8080/",
          "height": 282
        },
        "id": "cPUAVKIiA5e5",
        "outputId": "870b8c50-f541-41da-bb6c-343952610836"
      },
      "source": [
        "df['Quantity'].plot()"
      ],
      "execution_count": null,
      "outputs": [
        {
          "output_type": "execute_result",
          "data": {
            "text/plain": [
              "<matplotlib.axes._subplots.AxesSubplot at 0x7fc2460bf2b0>"
            ]
          },
          "metadata": {
            "tags": []
          },
          "execution_count": 117
        },
        {
          "output_type": "display_data",
          "data": {
            "image/png": "[encoded data removed]",
            "text/plain": [
              "<Figure size 432x288 with 1 Axes>"
            ]
          },
          "metadata": {
            "tags": [],
            "needs_background": "light"
          }
        }
      ]
    },
    {
      "cell_type": "code",
      "metadata": {
        "id": "jg2vk8_OB8n8"
      },
      "source": [
        "df = df.drop(df[df['Quantity']==80995].index)\n",
        "df = df.drop(df[df['Quantity']==74215].index)\n",
        "df = df.drop(df[df['Quantity']==-80995].index)\n",
        "df = df.drop(df[df['Quantity']==-74215].index)\n",
        "df = df.drop(df[df['Quantity']==12540].index)"
      ],
      "execution_count": null,
      "outputs": []
    },
    {
      "cell_type": "code",
      "metadata": {
        "id": "lSs8UWzuvJUp"
      },
      "source": [
        "x=[]\n",
        "for i in df['Quantity']:\n",
        "  if i<0:\n",
        "    x.append(0)\n",
        "  else:\n",
        "    x.append(1)\n",
        "df['quant_sign']=x"
      ],
      "execution_count": null,
      "outputs": []
    },
    {
      "cell_type": "code",
      "metadata": {
        "colab": {
          "base_uri": "https://localhost:8080/"
        },
        "id": "Z-P3MS3OwDMe",
        "outputId": "c5c79f73-8760-46fa-f542-b5095a4c870a"
      },
      "source": [
        "\n",
        "df.nunique()"
      ],
      "execution_count": null,
      "outputs": [
        {
          "output_type": "execute_result",
          "data": {
            "text/plain": [
              "InvoiceNo                 22183\n",
              "StockCode                  3683\n",
              "Description                3895\n",
              "Quantity                    431\n",
              "UnitPrice                   522\n",
              "CustomerID                 4370\n",
              "Country                      37\n",
              "InvoiceDate_day              31\n",
              "InvoiceDate_weekofyear       51\n",
              "InvoiceDate_month            12\n",
              "InvoiceDate_dayofweek         6\n",
              "quant_sign                    2\n",
              "dtype: int64"
            ]
          },
          "metadata": {
            "tags": []
          },
          "execution_count": 120
        }
      ]
    },
    {
      "cell_type": "code",
      "metadata": {
        "colab": {
          "base_uri": "https://localhost:8080/",
          "height": 190
        },
        "id": "gbDuDW0jvgfk",
        "outputId": "c7ba0162-aed0-4e7e-a92c-fae2f5ab9824"
      },
      "source": [
        "df.head(5)"
      ],
      "execution_count": null,
      "outputs": [
        {
          "output_type": "execute_result",
          "data": {
            "text/html": [
              "<div>\n",
              "<style scoped>\n",
              "    .dataframe tbody tr th:only-of-type {\n",
              "        vertical-align: middle;\n",
              "    }\n",
              "\n",
              "    .dataframe tbody tr th {\n",
              "        vertical-align: top;\n",
              "    }\n",
              "\n",
              "    .dataframe thead th {\n",
              "        text-align: right;\n",
              "    }\n",
              "</style>\n",
              "<table border=\"1\" class=\"dataframe\">\n",
              "  <thead>\n",
              "    <tr style=\"text-align: right;\">\n",
              "      <th></th>\n",
              "      <th>InvoiceNo</th>\n",
              "      <th>StockCode</th>\n",
              "      <th>Description</th>\n",
              "      <th>Quantity</th>\n",
              "      <th>UnitPrice</th>\n",
              "      <th>CustomerID</th>\n",
              "      <th>Country</th>\n",
              "      <th>InvoiceDate_day</th>\n",
              "      <th>InvoiceDate_weekofyear</th>\n",
              "      <th>InvoiceDate_month</th>\n",
              "      <th>InvoiceDate_dayofweek</th>\n",
              "      <th>quant_sign</th>\n",
              "    </tr>\n",
              "  </thead>\n",
              "  <tbody>\n",
              "    <tr>\n",
              "      <th>0</th>\n",
              "      <td>6141</td>\n",
              "      <td>1583</td>\n",
              "      <td>144</td>\n",
              "      <td>3</td>\n",
              "      <td>3.75</td>\n",
              "      <td>14056.0</td>\n",
              "      <td>35</td>\n",
              "      <td>6</td>\n",
              "      <td>18</td>\n",
              "      <td>5</td>\n",
              "      <td>4</td>\n",
              "      <td>1</td>\n",
              "    </tr>\n",
              "    <tr>\n",
              "      <th>1</th>\n",
              "      <td>6349</td>\n",
              "      <td>1300</td>\n",
              "      <td>3682</td>\n",
              "      <td>6</td>\n",
              "      <td>1.95</td>\n",
              "      <td>13098.0</td>\n",
              "      <td>35</td>\n",
              "      <td>11</td>\n",
              "      <td>19</td>\n",
              "      <td>5</td>\n",
              "      <td>2</td>\n",
              "      <td>1</td>\n",
              "    </tr>\n",
              "    <tr>\n",
              "      <th>2</th>\n",
              "      <td>16783</td>\n",
              "      <td>2178</td>\n",
              "      <td>1939</td>\n",
              "      <td>4</td>\n",
              "      <td>5.95</td>\n",
              "      <td>15044.0</td>\n",
              "      <td>35</td>\n",
              "      <td>20</td>\n",
              "      <td>46</td>\n",
              "      <td>11</td>\n",
              "      <td>6</td>\n",
              "      <td>1</td>\n",
              "    </tr>\n",
              "    <tr>\n",
              "      <th>3</th>\n",
              "      <td>16971</td>\n",
              "      <td>2115</td>\n",
              "      <td>2983</td>\n",
              "      <td>1</td>\n",
              "      <td>0.83</td>\n",
              "      <td>15525.0</td>\n",
              "      <td>35</td>\n",
              "      <td>22</td>\n",
              "      <td>47</td>\n",
              "      <td>11</td>\n",
              "      <td>1</td>\n",
              "      <td>1</td>\n",
              "    </tr>\n",
              "    <tr>\n",
              "      <th>4</th>\n",
              "      <td>6080</td>\n",
              "      <td>1210</td>\n",
              "      <td>2886</td>\n",
              "      <td>12</td>\n",
              "      <td>1.65</td>\n",
              "      <td>13952.0</td>\n",
              "      <td>35</td>\n",
              "      <td>6</td>\n",
              "      <td>18</td>\n",
              "      <td>5</td>\n",
              "      <td>4</td>\n",
              "      <td>1</td>\n",
              "    </tr>\n",
              "  </tbody>\n",
              "</table>\n",
              "</div>"
            ],
            "text/plain": [
              "   InvoiceNo  StockCode  ...  InvoiceDate_dayofweek  quant_sign\n",
              "0       6141       1583  ...                      4           1\n",
              "1       6349       1300  ...                      2           1\n",
              "2      16783       2178  ...                      6           1\n",
              "3      16971       2115  ...                      1           1\n",
              "4       6080       1210  ...                      4           1\n",
              "\n",
              "[5 rows x 12 columns]"
            ]
          },
          "metadata": {
            "tags": []
          },
          "execution_count": 121
        }
      ]
    },
    {
      "cell_type": "code",
      "metadata": {
        "id": "4G9xolvw6-52"
      },
      "source": [
        "##es\n",
        "del df['Country']"
      ],
      "execution_count": null,
      "outputs": []
    },
    {
      "cell_type": "code",
      "metadata": {
        "colab": {
          "base_uri": "https://localhost:8080/",
          "height": 1000
        },
        "id": "Kd-lFyMJ2fc3",
        "outputId": "2077a40f-bd34-408d-dae5-2233a082873e"
      },
      "source": [
        "## Check outliers\n",
        "df.iloc[:,:].plot(kind='box',figsize=(50,100), subplots=True,grid=False, layout=(12, 4))\n",
        "## Except metal fatigue, all are having outliers free, while selecting machine learning algorithm this should be taken into consideration"
      ],
      "execution_count": null,
      "outputs": [
        {
          "output_type": "execute_result",
          "data": {
            "text/plain": [
              "InvoiceNo                    AxesSubplot(0.125,0.826831;0.168478x0.053169)\n",
              "StockCode                 AxesSubplot(0.327174,0.826831;0.168478x0.053169)\n",
              "Description               AxesSubplot(0.529348,0.826831;0.168478x0.053169)\n",
              "Quantity                  AxesSubplot(0.731522,0.826831;0.168478x0.053169)\n",
              "UnitPrice                    AxesSubplot(0.125,0.763028;0.168478x0.053169)\n",
              "CustomerID                AxesSubplot(0.327174,0.763028;0.168478x0.053169)\n",
              "InvoiceDate_day           AxesSubplot(0.529348,0.763028;0.168478x0.053169)\n",
              "InvoiceDate_weekofyear    AxesSubplot(0.731522,0.763028;0.168478x0.053169)\n",
              "InvoiceDate_month            AxesSubplot(0.125,0.699225;0.168478x0.053169)\n",
              "InvoiceDate_dayofweek     AxesSubplot(0.327174,0.699225;0.168478x0.053169)\n",
              "quant_sign                AxesSubplot(0.529348,0.699225;0.168478x0.053169)\n",
              "dtype: object"
            ]
          },
          "metadata": {
            "tags": []
          },
          "execution_count": 123
        },
        {
          "output_type": "display_data",
          "data": {
            "image/png": "[encoded data removed]",
            "text/plain": [
              "<Figure size 3600x7200 with 48 Axes>"
            ]
          },
          "metadata": {
            "tags": [],
            "needs_background": "light"
          }
        }
      ]
    },
    {
      "cell_type": "code",
      "metadata": {
        "colab": {
          "base_uri": "https://localhost:8080/",
          "height": 560
        },
        "id": "Xxopx9rV2nQ3",
        "outputId": "82d908ae-dc55-44d2-df8d-aeb53774b94f"
      },
      "source": [
        "##Correlation of the dataset\n",
        "import seaborn as sns\n",
        "plt.figure(figsize=(20,7))\n",
        "sns.heatmap(df.corr(), annot=True)"
      ],
      "execution_count": null,
      "outputs": [
        {
          "output_type": "execute_result",
          "data": {
            "text/plain": [
              "<matplotlib.axes._subplots.AxesSubplot at 0x7f44293e4470>"
            ]
          },
          "metadata": {
            "tags": []
          },
          "execution_count": 203
        },
        {
          "output_type": "display_data",
          "data": {
            "image/png": "[encoded data removed]",
            "text/plain": [
              "<Figure size 1440x504 with 2 Axes>"
            ]
          },
          "metadata": {
            "tags": [],
            "needs_background": "light"
          }
        }
      ]
    },
    {
      "cell_type": "code",
      "metadata": {
        "id": "-fhfdpR_52o2"
      },
      "source": [
        "temp = df.groupby(['CustomerID']).agg({#'Country':['count'],\n",
        "                                       'Quantity':['count','mean','max','min'],\n",
        "                                       'StockCode':['count','mean'],\n",
        "                                       'Description':['count','mean','max','min'],\n",
        "                                       'CustomerID':['count','mean']\n",
        "                                      })\n",
        "temp.columns = ['_'.join(x) for x in temp.columns]\n",
        "df = pd.merge(df,temp,on=['CustomerID'],how='left')"
      ],
      "execution_count": null,
      "outputs": []
    },
    {
      "cell_type": "code",
      "metadata": {
        "colab": {
          "base_uri": "https://localhost:8080/",
          "height": 332
        },
        "id": "uBgO7K_qC3Qz",
        "outputId": "62f07568-22ed-447c-d2eb-f8484349dba9"
      },
      "source": [
        "df['Description'].max(),df['Description'].min(),df['Description'].mean(),df['Description'].hist()"
      ],
      "execution_count": null,
      "outputs": [
        {
          "output_type": "execute_result",
          "data": {
            "text/plain": [
              "(3895,\n",
              " 0,\n",
              " 2024.6939521461475,\n",
              " <matplotlib.axes._subplots.AxesSubplot at 0x7fc246030898>)"
            ]
          },
          "metadata": {
            "tags": []
          },
          "execution_count": 125
        },
        {
          "output_type": "display_data",
          "data": {
            "image/png": "[encoded data removed]",
            "text/plain": [
              "<Figure size 432x288 with 1 Axes>"
            ]
          },
          "metadata": {
            "tags": [],
            "needs_background": "light"
          }
        }
      ]
    },
    {
      "cell_type": "code",
      "metadata": {
        "id": "WEnWeSk7Cog4"
      },
      "source": [
        "g=[]\n",
        "for i in df['Description']:\n",
        "  if 0<=i<=1000:\n",
        "    g.append(1)\n",
        "  elif 1000<i<=1500:\n",
        "    g.append(2)\n",
        "  elif 1500<i<=2025:\n",
        "    g.append(3)\n",
        "  elif 2025<i<=2750:\n",
        "    g.append(4)\n",
        "  elif 2750<i<=3895:\n",
        "    g.append(5)\n",
        "df['level']=g"
      ],
      "execution_count": null,
      "outputs": []
    },
    {
      "cell_type": "code",
      "metadata": {
        "id": "6jXMILkXCONS"
      },
      "source": [
        "#math\n",
        "df['lot_size']=df['StockCode']/df['Quantity']"
      ],
      "execution_count": null,
      "outputs": []
    },
    {
      "cell_type": "code",
      "metadata": {
        "id": "nTpbrRUfccuK"
      },
      "source": [
        "#df = pd.get_dummies(df, columns=['Country','Quantity'\n",
        "#                                 ])"
      ],
      "execution_count": null,
      "outputs": []
    },
    {
      "cell_type": "code",
      "metadata": {
        "id": "AGZfSNRv1zGD"
      },
      "source": [
        "train = df[df['UnitPrice'].isnull()==False]\n",
        "test = df[df['UnitPrice'].isnull()==True]\n",
        "del test['UnitPrice']"
      ],
      "execution_count": null,
      "outputs": []
    },
    {
      "cell_type": "code",
      "metadata": {
        "id": "EmXLwvm0IH53"
      },
      "source": [
        "train_df=train\n",
        "test_df=test"
      ],
      "execution_count": null,
      "outputs": []
    },
    {
      "cell_type": "code",
      "metadata": {
        "id": "r96_0jnSIE_C"
      },
      "source": [
        "X = train_df.drop(labels=['UnitPrice'], axis=1)\n",
        "y = train_df['UnitPrice'].values\n",
        "\n",
        "from sklearn.model_selection import train_test_split\n",
        "X_train, X_cv, y_train, y_cv = train_test_split(X, y, test_size=0.10, random_state=101)"
      ],
      "execution_count": null,
      "outputs": []
    },
    {
      "cell_type": "code",
      "metadata": {
        "colab": {
          "base_uri": "https://localhost:8080/"
        },
        "id": "qXkdL_UNIL48",
        "outputId": "ee20e88b-de5f-4426-9a1a-0e35e15c6e93"
      },
      "source": [
        "X_train.shape, y_train.shape, X_cv.shape, y_cv.shape"
      ],
      "execution_count": null,
      "outputs": [
        {
          "output_type": "execute_result",
          "data": {
            "text/plain": [
              "((256295, 24), (256295,), (28478, 24), (28478,))"
            ]
          },
          "metadata": {
            "tags": []
          },
          "execution_count": 132
        }
      ]
    },
    {
      "cell_type": "code",
      "metadata": {
        "id": "SSEmz4TRIOA0"
      },
      "source": [
        "from math import sqrt \n",
        "from sklearn.metrics import mean_squared_log_error, mean_squared_error"
      ],
      "execution_count": null,
      "outputs": []
    },
    {
      "cell_type": "code",
      "metadata": {
        "colab": {
          "base_uri": "https://localhost:8080/"
        },
        "id": "JTF5zLytQzvT",
        "outputId": "bad5ff07-bc20-42ac-8cf8-ef5096cf876f"
      },
      "source": [
        "import lightgbm as lgb\n",
        "train_data = lgb.Dataset(X_train, label=y_train)\n",
        "test_data = lgb.Dataset(X_cv, label=y_cv)\n",
        "\n",
        "param = {'objective': 'regression',\n",
        "         'boosting': 'gbdt',  \n",
        "         'metric': 'l2_root',\n",
        "         'learning_rate': 0.01, \n",
        "         'num_iterations': 1000,\n",
        "         'num_leaves': 31,\n",
        "         'max_depth': -1,\n",
        "         'min_data_in_leaf': 11,\n",
        "         'bagging_fraction': 0.90,\n",
        "         'bagging_freq': 2,\n",
        "         'bagging_seed': 3,\n",
        "         'feature_fraction': 0.90,\n",
        "         'feature_fraction_seed': 2,\n",
        "         'early_stopping_round': 200,\n",
        "         'max_bin': 500\n",
        "         }\n",
        "\n",
        "lgbm = lgb.train(params=param, verbose_eval=100, train_set=train_data, valid_sets=[test_data])\n",
        "\n",
        "y_pred_lgbm = lgbm.predict(X_cv)\n",
        "print('RMSLE:', sqrt(mean_squared_error(y_cv,y_pred_lgbm)))"
      ],
      "execution_count": null,
      "outputs": [
        {
          "output_type": "stream",
          "text": [
            "/usr/local/lib/python3.6/dist-packages/lightgbm/engine.py:118: UserWarning: Found `num_iterations` in params. Will use it instead of argument\n",
            "  warnings.warn(\"Found `{}` in params. Will use it instead of argument\".format(alias))\n",
            "/usr/local/lib/python3.6/dist-packages/lightgbm/engine.py:123: UserWarning: Found `early_stopping_round` in params. Will use it instead of argument\n",
            "  warnings.warn(\"Found `{}` in params. Will use it instead of argument\".format(alias))\n"
          ],
          "name": "stderr"
        },
        {
          "output_type": "stream",
          "text": [
            "Training until validation scores don't improve for 200 rounds.\n",
            "[100]\tvalid_0's rmse: 6.35683\n",
            "[200]\tvalid_0's rmse: 6.7955\n",
            "Early stopping, best iteration is:\n",
            "[96]\tvalid_0's rmse: 6.29348\n",
            "RMSLE: 6.293484837337835\n"
          ],
          "name": "stdout"
        }
      ]
    },
    {
      "cell_type": "code",
      "metadata": {
        "colab": {
          "base_uri": "https://localhost:8080/",
          "height": 728
        },
        "id": "yHmXqXwN1iGv",
        "outputId": "d0f6ae5c-f2e8-4eae-f4de-05295a27e426"
      },
      "source": [
        "import seaborn as sns\n",
        "feature_imp = pd.DataFrame(sorted(zip(lgbm.feature_importance(), X.columns), reverse=True)[:50], \n",
        "                           columns=['Value','Feature'])\n",
        "plt.figure(figsize=(12, 10))\n",
        "sns.barplot(x=\"Value\", y=\"Feature\", data=feature_imp.sort_values(by=\"Value\", ascending=False))\n",
        "plt.title('LightGBM Features')\n",
        "plt.tight_layout()\n",
        "plt.show()"
      ],
      "execution_count": null,
      "outputs": [
        {
          "output_type": "display_data",
          "data": {
            "image/png": "[encoded data removed]",
            "text/plain": [
              "<Figure size 864x720 with 1 Axes>"
            ]
          },
          "metadata": {
            "tags": [],
            "needs_background": "light"
          }
        }
      ]
    },
    {
      "cell_type": "code",
      "metadata": {
        "id": "lKiVFFvm1iCY"
      },
      "source": [
        "Xtest = test_df"
      ],
      "execution_count": null,
      "outputs": []
    },
    {
      "cell_type": "code",
      "metadata": {
        "colab": {
          "base_uri": "https://localhost:8080/"
        },
        "id": "gJ5L1Ywb1h_9",
        "outputId": "34a68949-1653-487b-8f5e-97e3c1e6f448"
      },
      "source": [
        "from sklearn.model_selection import KFold\n",
        "from lightgbm import LGBMRegressor\n",
        "\n",
        "errlgb = []\n",
        "y_pred_totlgb = []\n",
        "\n",
        "fold = KFold(n_splits=10, shuffle=True, random_state=101)\n",
        "\n",
        "for train_index, test_index in fold.split(X):\n",
        "    X_train, X_test = X.loc[train_index], X.loc[test_index]\n",
        "    y_train, y_test = y[train_index], y[test_index]\n",
        "\n",
        "    lgbm = LGBMRegressor(**param)\n",
        "    #lgbm = LGBMRegressor(boosting='gbdt',learning_rate=0.01, n_estimators=1000, random_state=101, subsample=0.9)\n",
        "    lgbm.fit(X_train, y_train, eval_set=[(X_test, y_test)], verbose=0, early_stopping_rounds=200)\n",
        "\n",
        "    y_pred_lgbm = lgbm.predict(X_test)\n",
        "    print(\"RMSLE LGBM: \", sqrt(mean_squared_error(y_test, y_pred_lgbm)))\n",
        "\n",
        "    errlgb.append(sqrt(mean_squared_error(y_test,y_pred_lgbm)))\n",
        "    p = lgbm.predict(Xtest)\n",
        "    y_pred_totlgb.append(p)"
      ],
      "execution_count": null,
      "outputs": [
        {
          "output_type": "stream",
          "text": [
            "/usr/local/lib/python3.6/dist-packages/lightgbm/engine.py:118: UserWarning: Found `num_iterations` in params. Will use it instead of argument\n",
            "  warnings.warn(\"Found `{}` in params. Will use it instead of argument\".format(alias))\n",
            "/usr/local/lib/python3.6/dist-packages/lightgbm/engine.py:123: UserWarning: Found `early_stopping_round` in params. Will use it instead of argument\n",
            "  warnings.warn(\"Found `{}` in params. Will use it instead of argument\".format(alias))\n"
          ],
          "name": "stderr"
        },
        {
          "output_type": "stream",
          "text": [
            "RMSLE LGBM:  6.4645235031496435\n"
          ],
          "name": "stdout"
        },
        {
          "output_type": "stream",
          "text": [
            "/usr/local/lib/python3.6/dist-packages/lightgbm/engine.py:118: UserWarning: Found `num_iterations` in params. Will use it instead of argument\n",
            "  warnings.warn(\"Found `{}` in params. Will use it instead of argument\".format(alias))\n",
            "/usr/local/lib/python3.6/dist-packages/lightgbm/engine.py:123: UserWarning: Found `early_stopping_round` in params. Will use it instead of argument\n",
            "  warnings.warn(\"Found `{}` in params. Will use it instead of argument\".format(alias))\n"
          ],
          "name": "stderr"
        },
        {
          "output_type": "stream",
          "text": [
            "RMSLE LGBM:  6.272571798305875\n"
          ],
          "name": "stdout"
        },
        {
          "output_type": "stream",
          "text": [
            "/usr/local/lib/python3.6/dist-packages/lightgbm/engine.py:118: UserWarning: Found `num_iterations` in params. Will use it instead of argument\n",
            "  warnings.warn(\"Found `{}` in params. Will use it instead of argument\".format(alias))\n",
            "/usr/local/lib/python3.6/dist-packages/lightgbm/engine.py:123: UserWarning: Found `early_stopping_round` in params. Will use it instead of argument\n",
            "  warnings.warn(\"Found `{}` in params. Will use it instead of argument\".format(alias))\n"
          ],
          "name": "stderr"
        },
        {
          "output_type": "stream",
          "text": [
            "RMSLE LGBM:  15.33647600694334\n"
          ],
          "name": "stdout"
        },
        {
          "output_type": "stream",
          "text": [
            "/usr/local/lib/python3.6/dist-packages/lightgbm/engine.py:118: UserWarning: Found `num_iterations` in params. Will use it instead of argument\n",
            "  warnings.warn(\"Found `{}` in params. Will use it instead of argument\".format(alias))\n",
            "/usr/local/lib/python3.6/dist-packages/lightgbm/engine.py:123: UserWarning: Found `early_stopping_round` in params. Will use it instead of argument\n",
            "  warnings.warn(\"Found `{}` in params. Will use it instead of argument\".format(alias))\n"
          ],
          "name": "stderr"
        },
        {
          "output_type": "stream",
          "text": [
            "RMSLE LGBM:  23.358902902659715\n"
          ],
          "name": "stdout"
        },
        {
          "output_type": "stream",
          "text": [
            "/usr/local/lib/python3.6/dist-packages/lightgbm/engine.py:118: UserWarning: Found `num_iterations` in params. Will use it instead of argument\n",
            "  warnings.warn(\"Found `{}` in params. Will use it instead of argument\".format(alias))\n",
            "/usr/local/lib/python3.6/dist-packages/lightgbm/engine.py:123: UserWarning: Found `early_stopping_round` in params. Will use it instead of argument\n",
            "  warnings.warn(\"Found `{}` in params. Will use it instead of argument\".format(alias))\n"
          ],
          "name": "stderr"
        },
        {
          "output_type": "stream",
          "text": [
            "RMSLE LGBM:  24.567732668629272\n"
          ],
          "name": "stdout"
        },
        {
          "output_type": "stream",
          "text": [
            "/usr/local/lib/python3.6/dist-packages/lightgbm/engine.py:118: UserWarning: Found `num_iterations` in params. Will use it instead of argument\n",
            "  warnings.warn(\"Found `{}` in params. Will use it instead of argument\".format(alias))\n",
            "/usr/local/lib/python3.6/dist-packages/lightgbm/engine.py:123: UserWarning: Found `early_stopping_round` in params. Will use it instead of argument\n",
            "  warnings.warn(\"Found `{}` in params. Will use it instead of argument\".format(alias))\n"
          ],
          "name": "stderr"
        },
        {
          "output_type": "stream",
          "text": [
            "RMSLE LGBM:  18.036524514220943\n"
          ],
          "name": "stdout"
        },
        {
          "output_type": "stream",
          "text": [
            "/usr/local/lib/python3.6/dist-packages/lightgbm/engine.py:118: UserWarning: Found `num_iterations` in params. Will use it instead of argument\n",
            "  warnings.warn(\"Found `{}` in params. Will use it instead of argument\".format(alias))\n",
            "/usr/local/lib/python3.6/dist-packages/lightgbm/engine.py:123: UserWarning: Found `early_stopping_round` in params. Will use it instead of argument\n",
            "  warnings.warn(\"Found `{}` in params. Will use it instead of argument\".format(alias))\n"
          ],
          "name": "stderr"
        },
        {
          "output_type": "stream",
          "text": [
            "RMSLE LGBM:  13.095709562641384\n"
          ],
          "name": "stdout"
        },
        {
          "output_type": "stream",
          "text": [
            "/usr/local/lib/python3.6/dist-packages/lightgbm/engine.py:118: UserWarning: Found `num_iterations` in params. Will use it instead of argument\n",
            "  warnings.warn(\"Found `{}` in params. Will use it instead of argument\".format(alias))\n",
            "/usr/local/lib/python3.6/dist-packages/lightgbm/engine.py:123: UserWarning: Found `early_stopping_round` in params. Will use it instead of argument\n",
            "  warnings.warn(\"Found `{}` in params. Will use it instead of argument\".format(alias))\n"
          ],
          "name": "stderr"
        },
        {
          "output_type": "stream",
          "text": [
            "RMSLE LGBM:  18.607020432557196\n"
          ],
          "name": "stdout"
        },
        {
          "output_type": "stream",
          "text": [
            "/usr/local/lib/python3.6/dist-packages/lightgbm/engine.py:118: UserWarning: Found `num_iterations` in params. Will use it instead of argument\n",
            "  warnings.warn(\"Found `{}` in params. Will use it instead of argument\".format(alias))\n",
            "/usr/local/lib/python3.6/dist-packages/lightgbm/engine.py:123: UserWarning: Found `early_stopping_round` in params. Will use it instead of argument\n",
            "  warnings.warn(\"Found `{}` in params. Will use it instead of argument\".format(alias))\n"
          ],
          "name": "stderr"
        },
        {
          "output_type": "stream",
          "text": [
            "RMSLE LGBM:  6.36753005895664\n"
          ],
          "name": "stdout"
        },
        {
          "output_type": "stream",
          "text": [
            "/usr/local/lib/python3.6/dist-packages/lightgbm/engine.py:118: UserWarning: Found `num_iterations` in params. Will use it instead of argument\n",
            "  warnings.warn(\"Found `{}` in params. Will use it instead of argument\".format(alias))\n",
            "/usr/local/lib/python3.6/dist-packages/lightgbm/engine.py:123: UserWarning: Found `early_stopping_round` in params. Will use it instead of argument\n",
            "  warnings.warn(\"Found `{}` in params. Will use it instead of argument\".format(alias))\n"
          ],
          "name": "stderr"
        },
        {
          "output_type": "stream",
          "text": [
            "RMSLE LGBM:  19.5559034145756\n"
          ],
          "name": "stdout"
        }
      ]
    },
    {
      "cell_type": "code",
      "metadata": {
        "colab": {
          "base_uri": "https://localhost:8080/"
        },
        "id": "T31cmIlmON0U",
        "outputId": "38615a0d-52da-44cb-deda-f553eef44dc5"
      },
      "source": [
        "np.mean(errlgb,0)"
      ],
      "execution_count": null,
      "outputs": [
        {
          "output_type": "execute_result",
          "data": {
            "text/plain": [
              "15.16628948626396"
            ]
          },
          "metadata": {
            "tags": []
          },
          "execution_count": 40
        }
      ]
    },
    {
      "cell_type": "code",
      "metadata": {
        "colab": {
          "base_uri": "https://localhost:8080/"
        },
        "id": "wwX_N9sGONyN",
        "outputId": "df51aa00-ab52-4d3e-9fa8-8ef73ed41f21"
      },
      "source": [
        "lgbm_final = np.mean(y_pred_totlgb,0)\n",
        "lgbm_final"
      ],
      "execution_count": null,
      "outputs": [
        {
          "output_type": "execute_result",
          "data": {
            "text/plain": [
              "array([2.90625422, 2.94676705, 1.8802406 , ..., 2.31487022, 3.93878538,\n",
              "       2.92984271])"
            ]
          },
          "metadata": {
            "tags": []
          },
          "execution_count": 41
        }
      ]
    },
    {
      "cell_type": "code",
      "metadata": {
        "colab": {
          "base_uri": "https://localhost:8080/"
        },
        "id": "IBE_udlfOcrr",
        "outputId": "c42cc77d-1cd4-4445-d28c-3ba612eee71b"
      },
      "source": [
        "submission = pd.DataFrame({\n",
        "        \"UnitPrice\":lgbm_final*1.45\n",
        "    })\n",
        "submission.to_csv('./dsp.csv', index=False)\n",
        "print(submission)"
      ],
      "execution_count": null,
      "outputs": [
        {
          "output_type": "stream",
          "text": [
            "        UnitPrice\n",
            "0        4.214069\n",
            "1        4.272812\n",
            "2        2.726349\n",
            "3        4.486819\n",
            "4        5.432728\n",
            "...           ...\n",
            "122044   2.919527\n",
            "122045   2.481384\n",
            "122046   3.356562\n",
            "122047   5.711239\n",
            "122048   4.248272\n",
            "\n",
            "[122049 rows x 1 columns]\n"
          ],
          "name": "stdout"
        }
      ]
    },
    {
      "cell_type": "code",
      "metadata": {
        "colab": {
          "base_uri": "https://localhost:8080/",
          "height": 16
        },
        "id": "0vmaNw_W2uox",
        "outputId": "9a358d9f-e3df-401a-9784-3ab0f815195d"
      },
      "source": [
        "from google.colab import files\n",
        "files.download('dsp.csv')"
      ],
      "execution_count": null,
      "outputs": [
        {
          "output_type": "display_data",
          "data": {
            "application/javascript": [
              "\n",
              "    async function download(id, filename, size) {\n",
              "      if (!google.colab.kernel.accessAllowed) {\n",
              "        return;\n",
              "      }\n",
              "      const div = document.createElement('div');\n",
              "      const label = document.createElement('label');\n",
              "      label.textContent = `Downloading \"${filename}\": `;\n",
              "      div.appendChild(label);\n",
              "      const progress = document.createElement('progress');\n",
              "      progress.max = size;\n",
              "      div.appendChild(progress);\n",
              "      document.body.appendChild(div);\n",
              "\n",
              "      const buffers = [];\n",
              "      let downloaded = 0;\n",
              "\n",
              "      const channel = await google.colab.kernel.comms.open(id);\n",
              "      // Send a message to notify the kernel that we're ready.\n",
              "      channel.send({})\n",
              "\n",
              "      for await (const message of channel.messages) {\n",
              "        // Send a message to notify the kernel that we're ready.\n",
              "        channel.send({})\n",
              "        if (message.buffers) {\n",
              "          for (const buffer of message.buffers) {\n",
              "            buffers.push(buffer);\n",
              "            downloaded += buffer.byteLength;\n",
              "            progress.value = downloaded;\n",
              "          }\n",
              "        }\n",
              "      }\n",
              "      const blob = new Blob(buffers, {type: 'application/binary'});\n",
              "      const a = document.createElement('a');\n",
              "      a.href = window.URL.createObjectURL(blob);\n",
              "      a.download = filename;\n",
              "      div.appendChild(a);\n",
              "      a.click();\n",
              "      div.remove();\n",
              "    }\n",
              "  "
            ],
            "text/plain": [
              "<IPython.core.display.Javascript object>"
            ]
          },
          "metadata": {
            "tags": []
          }
        },
        {
          "output_type": "display_data",
          "data": {
            "application/javascript": [
              "download(\"download_b65d3e4b-19c6-4ac9-9632-079bf7dc12a0\", \"dsp.csv\", 2228982)"
            ],
            "text/plain": [
              "<IPython.core.display.Javascript object>"
            ]
          },
          "metadata": {
            "tags": []
          }
        }
      ]
    },
    {
      "cell_type": "markdown",
      "metadata": {
        "id": "FmtmSd66MfEg"
      },
      "source": [
        "# gb"
      ]
    },
    {
      "cell_type": "code",
      "metadata": {
        "id": "hvs5flHeONuC"
      },
      "source": [
        "X = train_df.drop(labels=['UnitPrice'], axis=1)\n",
        "y = train_df['UnitPrice'].values\n",
        "\n",
        "from sklearn.model_selection import train_test_split\n",
        "X_train, X_cv, y_train, y_cv = train_test_split(X, y, test_size=0.10, random_state=101)"
      ],
      "execution_count": null,
      "outputs": []
    },
    {
      "cell_type": "code",
      "metadata": {
        "colab": {
          "base_uri": "https://localhost:8080/"
        },
        "id": "ysQHeNQfRXF9",
        "outputId": "f2592ec3-1038-4df9-edd6-5594779e2315"
      },
      "source": [
        "from sklearn.ensemble import GradientBoostingRegressor\n",
        "gb = GradientBoostingRegressor(verbose=1, learning_rate=0.1, n_estimators=500, random_state=42, subsample=0.8,min_samples_split=100,min_samples_leaf=50,max_depth=8,max_features='sqrt')\n",
        "gb.fit(X_train, y_train)\n",
        "y_pred = gb.predict(X_cv)\n",
        "print('RMSE', sqrt(mean_squared_error(y_cv,y_pred)))"
      ],
      "execution_count": null,
      "outputs": [
        {
          "output_type": "stream",
          "text": [
            "      Iter       Train Loss      OOB Improve   Remaining Time \n",
            "         1         617.9197          10.4364            4.15m\n",
            "         2         563.6867           7.7305            4.23m\n",
            "         3         626.3991          12.6852            4.08m\n",
            "         4         485.5445           4.9340            4.01m\n",
            "         5         617.7371           3.6195            3.89m\n",
            "         6         563.6675          15.9879            3.90m\n",
            "         7         643.4553           4.4397            3.92m\n",
            "         8         507.6899          10.7206            3.99m\n",
            "         9         483.8252           7.8558            3.99m\n",
            "        10         603.8313          10.0921            3.94m\n",
            "        20         501.4376           4.1455            3.82m\n",
            "        30         404.3651           2.5385            3.70m\n",
            "        40         397.7945           1.5159            3.63m\n",
            "        50         386.8666           2.8280            3.52m\n",
            "        60         366.1735          -0.3599            3.44m\n",
            "        70         377.5884           1.0392            3.35m\n",
            "        80         379.3176           0.5400            3.26m\n",
            "        90         219.7704          -2.4026            3.17m\n",
            "       100         272.6638          -0.2437            3.11m\n",
            "       200         232.5946          -0.9897            2.34m\n",
            "       300         169.5235          -0.6045            1.56m\n",
            "       400         134.5662          -0.8570           46.94s\n",
            "       500         153.6257          -0.1521            0.00s\n",
            "RMSE 8.021224257071012\n"
          ],
          "name": "stdout"
        }
      ]
    },
    {
      "cell_type": "code",
      "metadata": {
        "colab": {
          "base_uri": "https://localhost:8080/",
          "height": 1000
        },
        "id": "fIfyMZBuzChT",
        "outputId": "51a364c2-14f9-4b10-d3fc-796fc4e538d2"
      },
      "source": [
        "import seaborn as sns\n",
        "feature_imp = pd.DataFrame(sorted(zip(gb.feature_importances_, X.columns), reverse=True)[:50], \n",
        "                           columns=['Value','Feature'])\n",
        "plt.figure(figsize=(15,15))\n",
        "sns.barplot(x=\"Value\", y=\"Feature\", data=feature_imp.sort_values(by=\"Value\", ascending=False))\n",
        "plt.title('Catboost Features')\n",
        "plt.tight_layout()\n",
        "plt.show()"
      ],
      "execution_count": null,
      "outputs": [
        {
          "output_type": "display_data",
          "data": {
            "image/png": "[encoded data removed]",
            "text/plain": [
              "<Figure size 1080x1080 with 1 Axes>"
            ]
          },
          "metadata": {
            "tags": [],
            "needs_background": "light"
          }
        }
      ]
    },
    {
      "cell_type": "code",
      "metadata": {
        "id": "dYSiA_xIUaCZ"
      },
      "source": [
        "Xtest = test_df"
      ],
      "execution_count": null,
      "outputs": []
    },
    {
      "cell_type": "code",
      "metadata": {
        "id": "m1kLYTWJ8o46"
      },
      "source": [
        "\r\n",
        "from sklearn.model_selection import KFold\r\n",
        "\r\n",
        "errgb = []\r\n",
        "y_pred_totgb = []\r\n",
        "\r\n",
        "fold = KFold(n_splits=4, shuffle=True, random_state=101)\r\n",
        "\r\n",
        "for train_index, test_index in fold.split(X):\r\n",
        "    X_train, X_test = X.loc[train_index], X.loc[test_index]\r\n",
        "    y_train, y_test = y[train_index], y[test_index]\r\n",
        "             \r\n",
        "    gb = GradientBoostingRegressor(learning_rate=0.3, n_estimators=1000, random_state=101, subsample=0.8)\r\n",
        "    #gb = GradientBoostingRegressor(learning_rate=0.1, n_estimators=650, random_state=42, subsample=0.8)\r\n",
        "    gb.fit(X_train, y_train)\r\n",
        "    y_pred = gb.predict(X_test)\r\n",
        "\r\n",
        "    print('MSE', sqrt(mean_squared_error(y_test, y_pred)))\r\n",
        "\r\n",
        "    errgb.append(sqrt(mean_squared_error(y_test,y_pred)))\r\n",
        "    p = gb.predict(Xtest)\r\n",
        "    y_pred_totgb.append(p)"
      ],
      "execution_count": null,
      "outputs": []
    },
    {
      "cell_type": "code",
      "metadata": {
        "colab": {
          "base_uri": "https://localhost:8080/"
        },
        "id": "1Bspy02tIJxD",
        "outputId": "68eaaacc-0efb-418b-f6dc-41f85984ac17"
      },
      "source": [
        "np.mean(errgb,0)"
      ],
      "execution_count": null,
      "outputs": [
        {
          "output_type": "execute_result",
          "data": {
            "text/plain": [
              "14.999565879402718"
            ]
          },
          "metadata": {
            "tags": []
          },
          "execution_count": 136
        }
      ]
    },
    {
      "cell_type": "code",
      "metadata": {
        "colab": {
          "base_uri": "https://localhost:8080/"
        },
        "id": "O5LISs4OVGbN",
        "outputId": "78abecc8-8407-488a-a5a6-ea11d5cf0d24"
      },
      "source": [
        "gb_fib = np.mean(y_pred_totgb,0)\n",
        "gb_fib"
      ],
      "execution_count": null,
      "outputs": [
        {
          "output_type": "execute_result",
          "data": {
            "text/plain": [
              "array([2.21656528, 1.71431931, 2.24980621, ..., 1.29115432, 6.43020166,\n",
              "       2.63338955])"
            ]
          },
          "metadata": {
            "tags": []
          },
          "execution_count": 137
        }
      ]
    },
    {
      "cell_type": "code",
      "metadata": {
        "colab": {
          "base_uri": "https://localhost:8080/"
        },
        "id": "KZ6FYRpkdN10",
        "outputId": "38217e34-adfe-4fdd-e17c-3b2cd1165e71"
      },
      "source": [
        "submission = pd.DataFrame({\n",
        "        \"UnitPrice\": gb_fib*1.44\n",
        "    })\n",
        "submission.to_csv('./best9.csv', index=False)\n",
        "print(submission)"
      ],
      "execution_count": null,
      "outputs": [
        {
          "output_type": "stream",
          "text": [
            "        UnitPrice\n",
            "0        3.191854\n",
            "1        2.468620\n",
            "2        3.239721\n",
            "3        3.559661\n",
            "4       13.625601\n",
            "...           ...\n",
            "122044   1.356450\n",
            "122045   1.857713\n",
            "122046   1.859262\n",
            "122047   9.259490\n",
            "122048   3.792081\n",
            "\n",
            "[122049 rows x 1 columns]\n"
          ],
          "name": "stdout"
        }
      ]
    },
    {
      "cell_type": "code",
      "metadata": {
        "colab": {
          "base_uri": "https://localhost:8080/",
          "height": 16
        },
        "id": "wT0hHQApdWLb",
        "outputId": "7cff4921-52ac-4fd7-c855-5b93980c9406"
      },
      "source": [
        "from google.colab import files\n",
        "files.download('best9.csv')"
      ],
      "execution_count": null,
      "outputs": [
        {
          "output_type": "display_data",
          "data": {
            "application/javascript": [
              "\n",
              "    async function download(id, filename, size) {\n",
              "      if (!google.colab.kernel.accessAllowed) {\n",
              "        return;\n",
              "      }\n",
              "      const div = document.createElement('div');\n",
              "      const label = document.createElement('label');\n",
              "      label.textContent = `Downloading \"${filename}\": `;\n",
              "      div.appendChild(label);\n",
              "      const progress = document.createElement('progress');\n",
              "      progress.max = size;\n",
              "      div.appendChild(progress);\n",
              "      document.body.appendChild(div);\n",
              "\n",
              "      const buffers = [];\n",
              "      let downloaded = 0;\n",
              "\n",
              "      const channel = await google.colab.kernel.comms.open(id);\n",
              "      // Send a message to notify the kernel that we're ready.\n",
              "      channel.send({})\n",
              "\n",
              "      for await (const message of channel.messages) {\n",
              "        // Send a message to notify the kernel that we're ready.\n",
              "        channel.send({})\n",
              "        if (message.buffers) {\n",
              "          for (const buffer of message.buffers) {\n",
              "            buffers.push(buffer);\n",
              "            downloaded += buffer.byteLength;\n",
              "            progress.value = downloaded;\n",
              "          }\n",
              "        }\n",
              "      }\n",
              "      const blob = new Blob(buffers, {type: 'application/binary'});\n",
              "      const a = document.createElement('a');\n",
              "      a.href = window.URL.createObjectURL(blob);\n",
              "      a.download = filename;\n",
              "      div.appendChild(a);\n",
              "      a.click();\n",
              "      div.remove();\n",
              "    }\n",
              "  "
            ],
            "text/plain": [
              "<IPython.core.display.Javascript object>"
            ]
          },
          "metadata": {
            "tags": []
          }
        },
        {
          "output_type": "display_data",
          "data": {
            "application/javascript": [
              "download(\"download_b069b5ef-6a9d-43b7-a999-a5416df0011b\", \"best9.csv\", 2254722)"
            ],
            "text/plain": [
              "<IPython.core.display.Javascript object>"
            ]
          },
          "metadata": {
            "tags": []
          }
        }
      ]
    },
    {
      "cell_type": "code",
      "metadata": {
        "id": "TW2j7RON30vy"
      },
      "source": [
        ""
      ],
      "execution_count": null,
      "outputs": []
    },
    {
      "cell_type": "markdown",
      "metadata": {
        "id": "Roayv6071vCu"
      },
      "source": [
        "# div 2"
      ]
    },
    {
      "cell_type": "code",
      "metadata": {
        "id": "_JqDxsPH1wVi",
        "colab": {
          "base_uri": "https://localhost:8080/"
        },
        "outputId": "0a55c260-7c50-45f2-c0ef-28a80bd3d2a2"
      },
      "source": [
        "!pip install Catboost"
      ],
      "execution_count": null,
      "outputs": [
        {
          "output_type": "stream",
          "text": [
            "Requirement already satisfied: Catboost in /usr/local/lib/python3.6/dist-packages (0.24.3)\n",
            "Requirement already satisfied: matplotlib in /usr/local/lib/python3.6/dist-packages (from Catboost) (3.2.2)\n",
            "Requirement already satisfied: six in /usr/local/lib/python3.6/dist-packages (from Catboost) (1.15.0)\n",
            "Requirement already satisfied: numpy>=1.16.0 in /usr/local/lib/python3.6/dist-packages (from Catboost) (1.18.5)\n",
            "Requirement already satisfied: plotly in /usr/local/lib/python3.6/dist-packages (from Catboost) (4.4.1)\n",
            "Requirement already satisfied: graphviz in /usr/local/lib/python3.6/dist-packages (from Catboost) (0.10.1)\n",
            "Requirement already satisfied: scipy in /usr/local/lib/python3.6/dist-packages (from Catboost) (1.4.1)\n",
            "Requirement already satisfied: pandas>=0.24.0 in /usr/local/lib/python3.6/dist-packages (from Catboost) (1.1.4)\n",
            "Requirement already satisfied: cycler>=0.10 in /usr/local/lib/python3.6/dist-packages (from matplotlib->Catboost) (0.10.0)\n",
            "Requirement already satisfied: pyparsing!=2.0.4,!=2.1.2,!=2.1.6,>=2.0.1 in /usr/local/lib/python3.6/dist-packages (from matplotlib->Catboost) (2.4.7)\n",
            "Requirement already satisfied: kiwisolver>=1.0.1 in /usr/local/lib/python3.6/dist-packages (from matplotlib->Catboost) (1.3.1)\n",
            "Requirement already satisfied: python-dateutil>=2.1 in /usr/local/lib/python3.6/dist-packages (from matplotlib->Catboost) (2.8.1)\n",
            "Requirement already satisfied: retrying>=1.3.3 in /usr/local/lib/python3.6/dist-packages (from plotly->Catboost) (1.3.3)\n",
            "Requirement already satisfied: pytz>=2017.2 in /usr/local/lib/python3.6/dist-packages (from pandas>=0.24.0->Catboost) (2018.9)\n"
          ],
          "name": "stdout"
        }
      ]
    },
    {
      "cell_type": "code",
      "metadata": {
        "id": "NvMYvBHktXif"
      },
      "source": [
        "X = train_df.drop(labels=['UnitPrice'], axis=1)\n",
        "y = train_df['UnitPrice'].values\n",
        "\n",
        "from sklearn.model_selection import train_test_split\n",
        "X_train, X_cv, y_train, y_cv = train_test_split(X, y, test_size=0.10, random_state=101)"
      ],
      "execution_count": null,
      "outputs": []
    },
    {
      "cell_type": "code",
      "metadata": {
        "colab": {
          "base_uri": "https://localhost:8080/"
        },
        "id": "Ah4L1SJNFnfB",
        "outputId": "e96162c0-9ca2-4b4b-8032-f706443a1691"
      },
      "source": [
        "from catboost import CatBoostRegressor\n",
        "gb = CatBoostRegressor(verbose=100, learning_rate=0.1, n_estimators=500, random_state=101, subsample=0.9)\n",
        "gb.fit(X_train, y_train)\n",
        "y_pred = gb.predict(X_cv)\n",
        "print('RMSE', sqrt(mean_squared_error(y_cv,y_pred)))"
      ],
      "execution_count": null,
      "outputs": [
        {
          "output_type": "stream",
          "text": [
            "0:\tlearn: 24.2591266\ttotal: 74.6ms\tremaining: 37.2s\n",
            "100:\tlearn: 11.8092054\ttotal: 5.47s\tremaining: 21.6s\n",
            "200:\tlearn: 9.8461900\ttotal: 10.7s\tremaining: 15.9s\n",
            "300:\tlearn: 8.8168956\ttotal: 15.9s\tremaining: 10.5s\n",
            "400:\tlearn: 8.2209234\ttotal: 21.1s\tremaining: 5.21s\n",
            "499:\tlearn: 7.7390590\ttotal: 26.3s\tremaining: 0us\n",
            "RMSE 8.165622604249677\n"
          ],
          "name": "stdout"
        }
      ]
    },
    {
      "cell_type": "code",
      "metadata": {
        "id": "l_xdfQrnGih5"
      },
      "source": [
        "Xtest = test_df"
      ],
      "execution_count": null,
      "outputs": []
    },
    {
      "cell_type": "code",
      "metadata": {
        "colab": {
          "base_uri": "https://localhost:8080/"
        },
        "id": "cDT9AZfAGih9",
        "outputId": "21c6d6c1-8600-4a3a-bd56-8b023adad78e"
      },
      "source": [
        "\n",
        "from sklearn.model_selection import KFold\n",
        "\n",
        "errgb = []\n",
        "y_pred_totgb = []\n",
        "\n",
        "fold = KFold(n_splits=10, shuffle=True, random_state=101)\n",
        "\n",
        "for train_index, test_index in fold.split(X):\n",
        "    X_train, X_test = X.loc[train_index], X.loc[test_index]\n",
        "    y_train, y_test = y[train_index], y[test_index]\n",
        "             \n",
        "    gb = CatBoostRegressor(verbose=100,learning_rate=0.3, n_estimators=1000, random_state=101, subsample=0.9)\n",
        "    #gb = CatBoostRegressor(verbose=100, learning_rate=0.1, n_estimators=500, random_state=101, subsample=0.9)\n",
        "    gb.fit(X_train, y_train)\n",
        "    y_pred = gb.predict(X_test)\n",
        "\n",
        "    print('MSE', sqrt(mean_squared_error(y_test, y_pred)))\n",
        "\n",
        "    errgb.append(sqrt(mean_squared_error(y_test,y_pred)))\n",
        "    p = gb.predict(Xtest)\n",
        "    y_pred_totgb.append(p)"
      ],
      "execution_count": null,
      "outputs": [
        {
          "output_type": "stream",
          "text": [
            "0:\tlearn: 22.5271771\ttotal: 85.9ms\tremaining: 1m 25s\n",
            "100:\tlearn: 8.7600303\ttotal: 5.88s\tremaining: 52.4s\n",
            "200:\tlearn: 7.1974559\ttotal: 11.9s\tremaining: 47.2s\n",
            "300:\tlearn: 6.6744150\ttotal: 17.9s\tremaining: 41.6s\n",
            "400:\tlearn: 6.4028390\ttotal: 24.1s\tremaining: 35.9s\n",
            "500:\tlearn: 6.2554653\ttotal: 30.2s\tremaining: 30.1s\n",
            "600:\tlearn: 6.1655268\ttotal: 36.3s\tremaining: 24.1s\n",
            "700:\tlearn: 6.1053491\ttotal: 42.5s\tremaining: 18.1s\n",
            "800:\tlearn: 6.0636251\ttotal: 48.6s\tremaining: 12.1s\n",
            "900:\tlearn: 6.0252967\ttotal: 54.6s\tremaining: 6s\n",
            "999:\tlearn: 5.9997106\ttotal: 1m\tremaining: 0us\n",
            "MSE 8.71933409965619\n",
            "0:\tlearn: 22.5834171\ttotal: 68.2ms\tremaining: 1m 8s\n",
            "100:\tlearn: 8.8743943\ttotal: 5.79s\tremaining: 51.6s\n",
            "200:\tlearn: 7.2189981\ttotal: 11.6s\tremaining: 46.2s\n",
            "300:\tlearn: 6.7115690\ttotal: 17.5s\tremaining: 40.6s\n",
            "400:\tlearn: 6.4571054\ttotal: 23.5s\tremaining: 35.1s\n",
            "500:\tlearn: 6.2789367\ttotal: 29.5s\tremaining: 29.4s\n",
            "600:\tlearn: 6.1821714\ttotal: 35.6s\tremaining: 23.6s\n",
            "700:\tlearn: 6.1144046\ttotal: 41.7s\tremaining: 17.8s\n",
            "800:\tlearn: 6.0685254\ttotal: 47.7s\tremaining: 11.9s\n",
            "900:\tlearn: 6.0339565\ttotal: 53.9s\tremaining: 5.92s\n",
            "999:\tlearn: 6.0101504\ttotal: 59.8s\tremaining: 0us\n",
            "MSE 7.269620975135745\n",
            "0:\tlearn: 21.7747055\ttotal: 68.4ms\tremaining: 1m 8s\n",
            "100:\tlearn: 7.8901941\ttotal: 5.85s\tremaining: 52.1s\n",
            "200:\tlearn: 6.2223639\ttotal: 11.8s\tremaining: 46.8s\n",
            "300:\tlearn: 5.7137312\ttotal: 17.9s\tremaining: 41.6s\n",
            "400:\tlearn: 5.4497858\ttotal: 23.9s\tremaining: 35.8s\n",
            "500:\tlearn: 5.3178115\ttotal: 29.9s\tremaining: 29.7s\n",
            "600:\tlearn: 5.2119576\ttotal: 36.1s\tremaining: 24s\n",
            "700:\tlearn: 5.1507471\ttotal: 42.1s\tremaining: 18s\n",
            "800:\tlearn: 5.1056196\ttotal: 48.2s\tremaining: 12s\n",
            "900:\tlearn: 5.0652723\ttotal: 54.2s\tremaining: 5.96s\n",
            "999:\tlearn: 5.0366376\ttotal: 1m\tremaining: 0us\n",
            "MSE 20.099461967809244\n",
            "0:\tlearn: 20.3730001\ttotal: 62.6ms\tremaining: 1m 2s\n",
            "100:\tlearn: 8.8499238\ttotal: 5.78s\tremaining: 51.5s\n",
            "200:\tlearn: 7.2136430\ttotal: 11.6s\tremaining: 46.3s\n",
            "300:\tlearn: 6.6318270\ttotal: 17.6s\tremaining: 41s\n",
            "400:\tlearn: 6.3909129\ttotal: 23.6s\tremaining: 35.2s\n",
            "500:\tlearn: 6.2561737\ttotal: 29.6s\tremaining: 29.5s\n",
            "600:\tlearn: 6.1567082\ttotal: 35.8s\tremaining: 23.7s\n",
            "700:\tlearn: 6.0889728\ttotal: 41.7s\tremaining: 17.8s\n",
            "800:\tlearn: 6.0385754\ttotal: 47.8s\tremaining: 11.9s\n",
            "900:\tlearn: 6.0044663\ttotal: 53.9s\tremaining: 5.92s\n",
            "999:\tlearn: 5.9788281\ttotal: 59.8s\tremaining: 0us\n",
            "MSE 16.408480636180535\n",
            "0:\tlearn: 21.0902618\ttotal: 61.9ms\tremaining: 1m 1s\n",
            "100:\tlearn: 8.4553965\ttotal: 5.78s\tremaining: 51.5s\n",
            "200:\tlearn: 6.6713712\ttotal: 11.7s\tremaining: 46.4s\n",
            "300:\tlearn: 6.1624979\ttotal: 17.7s\tremaining: 41.1s\n",
            "400:\tlearn: 5.8677928\ttotal: 23.6s\tremaining: 35.2s\n",
            "500:\tlearn: 5.6993524\ttotal: 29.6s\tremaining: 29.4s\n",
            "600:\tlearn: 5.6018876\ttotal: 35.4s\tremaining: 23.5s\n",
            "700:\tlearn: 5.5329143\ttotal: 41.3s\tremaining: 17.6s\n",
            "800:\tlearn: 5.4906572\ttotal: 47.2s\tremaining: 11.7s\n",
            "900:\tlearn: 5.4538046\ttotal: 53.3s\tremaining: 5.85s\n",
            "999:\tlearn: 5.4255109\ttotal: 59.3s\tremaining: 0us\n",
            "MSE 22.910666941386243\n",
            "0:\tlearn: 21.7548532\ttotal: 62.2ms\tremaining: 1m 2s\n",
            "100:\tlearn: 8.5078827\ttotal: 5.83s\tremaining: 51.9s\n",
            "200:\tlearn: 6.7371741\ttotal: 11.7s\tremaining: 46.6s\n",
            "300:\tlearn: 5.9910002\ttotal: 17.8s\tremaining: 41.2s\n",
            "400:\tlearn: 5.6710166\ttotal: 23.7s\tremaining: 35.5s\n",
            "500:\tlearn: 5.4708107\ttotal: 29.8s\tremaining: 29.7s\n",
            "600:\tlearn: 5.3579641\ttotal: 35.8s\tremaining: 23.8s\n",
            "700:\tlearn: 5.2813523\ttotal: 41.8s\tremaining: 17.8s\n",
            "800:\tlearn: 5.2313318\ttotal: 48.1s\tremaining: 12s\n",
            "900:\tlearn: 5.1920070\ttotal: 54.4s\tremaining: 5.98s\n",
            "999:\tlearn: 5.1609517\ttotal: 1m\tremaining: 0us\n",
            "MSE 22.24033057776189\n",
            "0:\tlearn: 21.3079545\ttotal: 65.7ms\tremaining: 1m 5s\n",
            "100:\tlearn: 8.4397258\ttotal: 5.79s\tremaining: 51.5s\n",
            "200:\tlearn: 7.1091326\ttotal: 11.6s\tremaining: 46.2s\n",
            "300:\tlearn: 6.6141352\ttotal: 17.6s\tremaining: 40.8s\n",
            "400:\tlearn: 6.3422546\ttotal: 23.5s\tremaining: 35.1s\n",
            "500:\tlearn: 6.2002810\ttotal: 29.5s\tremaining: 29.4s\n",
            "600:\tlearn: 6.1149131\ttotal: 35.4s\tremaining: 23.5s\n",
            "700:\tlearn: 6.0537250\ttotal: 41.3s\tremaining: 17.6s\n",
            "800:\tlearn: 6.0065593\ttotal: 47.3s\tremaining: 11.8s\n",
            "900:\tlearn: 5.9687212\ttotal: 53.4s\tremaining: 5.87s\n",
            "999:\tlearn: 5.9444917\ttotal: 59.4s\tremaining: 0us\n",
            "MSE 5.77112759241064\n",
            "0:\tlearn: 21.1904216\ttotal: 65.8ms\tremaining: 1m 5s\n",
            "100:\tlearn: 6.9515014\ttotal: 5.9s\tremaining: 52.5s\n",
            "200:\tlearn: 5.5156365\ttotal: 11.7s\tremaining: 46.3s\n",
            "300:\tlearn: 4.7931628\ttotal: 17.7s\tremaining: 41.2s\n",
            "400:\tlearn: 4.4207433\ttotal: 23.8s\tremaining: 35.5s\n",
            "500:\tlearn: 4.2226237\ttotal: 29.8s\tremaining: 29.7s\n",
            "600:\tlearn: 4.1058228\ttotal: 35.8s\tremaining: 23.8s\n",
            "700:\tlearn: 4.0302829\ttotal: 41.8s\tremaining: 17.8s\n",
            "800:\tlearn: 3.9588266\ttotal: 47.9s\tremaining: 11.9s\n",
            "900:\tlearn: 3.9117478\ttotal: 53.9s\tremaining: 5.92s\n",
            "999:\tlearn: 3.8746136\ttotal: 60s\tremaining: 0us\n",
            "MSE 18.822546043451506\n",
            "0:\tlearn: 22.4991845\ttotal: 66.1ms\tremaining: 1m 6s\n",
            "100:\tlearn: 8.8134625\ttotal: 5.93s\tremaining: 52.7s\n",
            "200:\tlearn: 7.2431994\ttotal: 11.9s\tremaining: 47.4s\n",
            "300:\tlearn: 6.6443634\ttotal: 18s\tremaining: 41.7s\n",
            "400:\tlearn: 6.3991874\ttotal: 24s\tremaining: 35.8s\n",
            "500:\tlearn: 6.2708856\ttotal: 30s\tremaining: 29.9s\n",
            "600:\tlearn: 6.1873112\ttotal: 36s\tremaining: 23.9s\n",
            "700:\tlearn: 6.1342641\ttotal: 42s\tremaining: 17.9s\n",
            "800:\tlearn: 6.0921689\ttotal: 48.1s\tremaining: 12s\n",
            "900:\tlearn: 6.0572776\ttotal: 54.2s\tremaining: 5.96s\n",
            "999:\tlearn: 6.0302153\ttotal: 1m\tremaining: 0us\n",
            "MSE 7.391742602167038\n",
            "0:\tlearn: 21.7742529\ttotal: 73.4ms\tremaining: 1m 13s\n",
            "100:\tlearn: 7.8706023\ttotal: 5.92s\tremaining: 52.7s\n",
            "200:\tlearn: 6.8390137\ttotal: 11.8s\tremaining: 47s\n",
            "300:\tlearn: 6.5001580\ttotal: 17.8s\tremaining: 41.4s\n",
            "400:\tlearn: 6.3112155\ttotal: 23.7s\tremaining: 35.4s\n",
            "500:\tlearn: 6.2019676\ttotal: 29.6s\tremaining: 29.5s\n",
            "600:\tlearn: 6.1253446\ttotal: 35.6s\tremaining: 23.6s\n",
            "700:\tlearn: 6.0679876\ttotal: 41.6s\tremaining: 17.7s\n",
            "800:\tlearn: 6.0299012\ttotal: 47.7s\tremaining: 11.8s\n",
            "900:\tlearn: 6.0041246\ttotal: 53.7s\tremaining: 5.9s\n",
            "999:\tlearn: 5.9778692\ttotal: 1m\tremaining: 0us\n",
            "MSE 20.36234735806816\n"
          ],
          "name": "stdout"
        }
      ]
    },
    {
      "cell_type": "code",
      "metadata": {
        "id": "GR6qd5qA2d-Z"
      },
      "source": [
        ""
      ],
      "execution_count": null,
      "outputs": []
    }
  ]
}