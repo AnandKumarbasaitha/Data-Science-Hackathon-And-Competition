{
  "nbformat": 4,
  "nbformat_minor": 0,
  "metadata": {
    "colab": {
      "name": "Product Sentiment Classification: Weekend Hackathon #19.ipynb",
      "provenance": [],
      "collapsed_sections": []
    },
    "kernelspec": {
      "name": "python3",
      "display_name": "Python 3"
    }
  },
  "cells": [
    {
      "cell_type": "code",
      "metadata": {
        "id": "CjfwXdxpde4A",
        "colab_type": "code",
        "colab": {
          "base_uri": "https://localhost:8080/",
          "height": 201
        },
        "outputId": "5dd41873-c590-4d62-e0d1-98f127e9694e"
      },
      "source": [
        "!wget https://machinehack-be.s3.amazonaws.com/product_sentiment_classification_weekend_hackathon_19/Participants_Data.zip"
      ],
      "execution_count": null,
      "outputs": [
        {
          "output_type": "stream",
          "text": [
            "--2020-09-05 15:25:31--  https://machinehack-be.s3.amazonaws.com/product_sentiment_classification_weekend_hackathon_19/Participants_Data.zip\n",
            "Resolving machinehack-be.s3.amazonaws.com (machinehack-be.s3.amazonaws.com)... 52.219.64.32\n",
            "Connecting to machinehack-be.s3.amazonaws.com (machinehack-be.s3.amazonaws.com)|52.219.64.32|:443... connected.\n",
            "HTTP request sent, awaiting response... 200 OK\n",
            "Length: 400578 (391K) [application/zip]\n",
            "Saving to: ‘Participants_Data.zip’\n",
            "\n",
            "Participants_Data.z 100%[===================>] 391.19K   396KB/s    in 1.0s    \n",
            "\n",
            "2020-09-05 15:25:33 (396 KB/s) - ‘Participants_Data.zip’ saved [400578/400578]\n",
            "\n"
          ],
          "name": "stdout"
        }
      ]
    },
    {
      "cell_type": "code",
      "metadata": {
        "id": "L0LNnwHRdy5B",
        "colab_type": "code",
        "colab": {
          "base_uri": "https://localhost:8080/",
          "height": 151
        },
        "outputId": "28784d1f-a8d0-4ffc-f027-107f8adbd58d"
      },
      "source": [
        "!unzip Participants_Data.zip"
      ],
      "execution_count": null,
      "outputs": [
        {
          "output_type": "stream",
          "text": [
            "Archive:  Participants_Data.zip\n",
            "   creating: Participants_Data/\n",
            "  inflating: Participants_Data/Sample Submission.csv  \n",
            "  inflating: __MACOSX/Participants_Data/._Sample Submission.csv  \n",
            "  inflating: Participants_Data/Test.csv  \n",
            "  inflating: __MACOSX/Participants_Data/._Test.csv  \n",
            "  inflating: Participants_Data/Train.csv  \n",
            "  inflating: __MACOSX/Participants_Data/._Train.csv  \n"
          ],
          "name": "stdout"
        }
      ]
    },
    {
      "cell_type": "code",
      "metadata": {
        "id": "x4nDFTuktela",
        "colab_type": "code",
        "colab": {}
      },
      "source": [
        "import pandas as pd\n",
        "import numpy as np\n",
        "import matplotlib.pyplot as plt\n",
        "%matplotlib inline"
      ],
      "execution_count": null,
      "outputs": []
    },
    {
      "cell_type": "code",
      "metadata": {
        "id": "n79PrHkFti56",
        "colab_type": "code",
        "colab": {}
      },
      "source": [
        "train = pd.read_csv('Participants_Data/Train.csv')\n",
        "test = pd.read_csv('Participants_Data/Test.csv')\n",
        "sub = pd.read_csv('Participants_Data/Sample Submission.csv')"
      ],
      "execution_count": null,
      "outputs": []
    },
    {
      "cell_type": "code",
      "metadata": {
        "id": "JjphIIX3e-TK",
        "colab_type": "code",
        "colab": {
          "base_uri": "https://localhost:8080/",
          "height": 190
        },
        "outputId": "214f85a1-8098-48e6-c3cb-38a1da5b3ecd"
      },
      "source": [
        "train.head(5)"
      ],
      "execution_count": null,
      "outputs": [
        {
          "output_type": "execute_result",
          "data": {
            "text/html": [
              "<div>\n",
              "<style scoped>\n",
              "    .dataframe tbody tr th:only-of-type {\n",
              "        vertical-align: middle;\n",
              "    }\n",
              "\n",
              "    .dataframe tbody tr th {\n",
              "        vertical-align: top;\n",
              "    }\n",
              "\n",
              "    .dataframe thead th {\n",
              "        text-align: right;\n",
              "    }\n",
              "</style>\n",
              "<table border=\"1\" class=\"dataframe\">\n",
              "  <thead>\n",
              "    <tr style=\"text-align: right;\">\n",
              "      <th></th>\n",
              "      <th>Text_ID</th>\n",
              "      <th>Product_Description</th>\n",
              "      <th>Product_Type</th>\n",
              "      <th>Sentiment</th>\n",
              "    </tr>\n",
              "  </thead>\n",
              "  <tbody>\n",
              "    <tr>\n",
              "      <th>0</th>\n",
              "      <td>3057</td>\n",
              "      <td>The Web DesignerÛªs Guide to iOS (and Android...</td>\n",
              "      <td>9</td>\n",
              "      <td>2</td>\n",
              "    </tr>\n",
              "    <tr>\n",
              "      <th>1</th>\n",
              "      <td>6254</td>\n",
              "      <td>RT @mention Line for iPad 2 is longer today th...</td>\n",
              "      <td>9</td>\n",
              "      <td>2</td>\n",
              "    </tr>\n",
              "    <tr>\n",
              "      <th>2</th>\n",
              "      <td>8212</td>\n",
              "      <td>Crazy that Apple is opening a temporary store ...</td>\n",
              "      <td>9</td>\n",
              "      <td>2</td>\n",
              "    </tr>\n",
              "    <tr>\n",
              "      <th>3</th>\n",
              "      <td>4422</td>\n",
              "      <td>The lesson from Google One Pass: In this digit...</td>\n",
              "      <td>9</td>\n",
              "      <td>2</td>\n",
              "    </tr>\n",
              "    <tr>\n",
              "      <th>4</th>\n",
              "      <td>5526</td>\n",
              "      <td>RT @mention At the panel: &amp;quot;Your mom has a...</td>\n",
              "      <td>9</td>\n",
              "      <td>2</td>\n",
              "    </tr>\n",
              "  </tbody>\n",
              "</table>\n",
              "</div>"
            ],
            "text/plain": [
              "   Text_ID  ... Sentiment\n",
              "0     3057  ...         2\n",
              "1     6254  ...         2\n",
              "2     8212  ...         2\n",
              "3     4422  ...         2\n",
              "4     5526  ...         2\n",
              "\n",
              "[5 rows x 4 columns]"
            ]
          },
          "metadata": {
            "tags": []
          },
          "execution_count": 5
        }
      ]
    },
    {
      "cell_type": "code",
      "metadata": {
        "id": "xCXtCYNXfLzs",
        "colab_type": "code",
        "colab": {
          "base_uri": "https://localhost:8080/",
          "height": 190
        },
        "outputId": "c84f29d7-3b12-4aef-a453-3e7d692b8316"
      },
      "source": [
        "test.head(5)"
      ],
      "execution_count": null,
      "outputs": [
        {
          "output_type": "execute_result",
          "data": {
            "text/html": [
              "<div>\n",
              "<style scoped>\n",
              "    .dataframe tbody tr th:only-of-type {\n",
              "        vertical-align: middle;\n",
              "    }\n",
              "\n",
              "    .dataframe tbody tr th {\n",
              "        vertical-align: top;\n",
              "    }\n",
              "\n",
              "    .dataframe thead th {\n",
              "        text-align: right;\n",
              "    }\n",
              "</style>\n",
              "<table border=\"1\" class=\"dataframe\">\n",
              "  <thead>\n",
              "    <tr style=\"text-align: right;\">\n",
              "      <th></th>\n",
              "      <th>Text_ID</th>\n",
              "      <th>Product_Description</th>\n",
              "      <th>Product_Type</th>\n",
              "    </tr>\n",
              "  </thead>\n",
              "  <tbody>\n",
              "    <tr>\n",
              "      <th>0</th>\n",
              "      <td>5786</td>\n",
              "      <td>RT @mention Going to #SXSW? The new iPhone gui...</td>\n",
              "      <td>7</td>\n",
              "    </tr>\n",
              "    <tr>\n",
              "      <th>1</th>\n",
              "      <td>5363</td>\n",
              "      <td>RT @mention 95% of iPhone and Droid apps have ...</td>\n",
              "      <td>9</td>\n",
              "    </tr>\n",
              "    <tr>\n",
              "      <th>2</th>\n",
              "      <td>6716</td>\n",
              "      <td>RT @mention Thank you to @mention for letting ...</td>\n",
              "      <td>9</td>\n",
              "    </tr>\n",
              "    <tr>\n",
              "      <th>3</th>\n",
              "      <td>4339</td>\n",
              "      <td>#Thanks @mention we're lovin' the @mention app...</td>\n",
              "      <td>7</td>\n",
              "    </tr>\n",
              "    <tr>\n",
              "      <th>4</th>\n",
              "      <td>66</td>\n",
              "      <td>At #sxsw? @mention / @mention wanna buy you a ...</td>\n",
              "      <td>9</td>\n",
              "    </tr>\n",
              "  </tbody>\n",
              "</table>\n",
              "</div>"
            ],
            "text/plain": [
              "   Text_ID                                Product_Description  Product_Type\n",
              "0     5786  RT @mention Going to #SXSW? The new iPhone gui...             7\n",
              "1     5363  RT @mention 95% of iPhone and Droid apps have ...             9\n",
              "2     6716  RT @mention Thank you to @mention for letting ...             9\n",
              "3     4339  #Thanks @mention we're lovin' the @mention app...             7\n",
              "4       66  At #sxsw? @mention / @mention wanna buy you a ...             9"
            ]
          },
          "metadata": {
            "tags": []
          },
          "execution_count": 6
        }
      ]
    },
    {
      "cell_type": "code",
      "metadata": {
        "id": "KafEM4fd0y82",
        "colab_type": "code",
        "colab": {
          "base_uri": "https://localhost:8080/",
          "height": 235
        },
        "outputId": "d7cf9f44-483a-4c6b-e231-10a576534f53"
      },
      "source": [
        "from wordcloud import WordCloud, STOPWORDS\n",
        "wc = WordCloud(background_color='white',\n",
        "                    stopwords =  set(STOPWORDS),\n",
        "                    max_words = 50, \n",
        "                    random_state = 42,)\n",
        "wc.generate(' '.join(train['Product_Description']))\n",
        "plt.imshow(wc)"
      ],
      "execution_count": null,
      "outputs": [
        {
          "output_type": "execute_result",
          "data": {
            "text/plain": [
              "<matplotlib.image.AxesImage at 0x7f1b8bd12c88>"
            ]
          },
          "metadata": {
            "tags": []
          },
          "execution_count": 7
        },
        {
          "output_type": "display_data",
          "data": {
            "image/png": "[encoded data removed]",
            "text/plain": [
              "<Figure size 432x288 with 1 Axes>"
            ]
          },
          "metadata": {
            "tags": [],
            "needs_background": "light"
          }
        }
      ]
    },
    {
      "cell_type": "code",
      "metadata": {
        "id": "Ozidtg3ft-qi",
        "colab_type": "code",
        "colab": {
          "base_uri": "https://localhost:8080/",
          "height": 218
        },
        "outputId": "8d023496-01c8-4b7d-a73b-11a4cf97c8d1"
      },
      "source": [
        "train.isnull().sum(),test.isnull().sum(),train.shape,test.shape,train.dtypes"
      ],
      "execution_count": null,
      "outputs": [
        {
          "output_type": "execute_result",
          "data": {
            "text/plain": [
              "(Text_ID                0\n",
              " Product_Description    0\n",
              " Product_Type           0\n",
              " Sentiment              0\n",
              " dtype: int64, Text_ID                0\n",
              " Product_Description    0\n",
              " Product_Type           0\n",
              " dtype: int64, (6364, 4), (2728, 3), Text_ID                 int64\n",
              " Product_Description    object\n",
              " Product_Type            int64\n",
              " Sentiment               int64\n",
              " dtype: object)"
            ]
          },
          "metadata": {
            "tags": []
          },
          "execution_count": 8
        }
      ]
    },
    {
      "cell_type": "code",
      "metadata": {
        "id": "KorpVn_1tp5C",
        "colab_type": "code",
        "colab": {}
      },
      "source": [
        "df=train.append(test,ignore_index=True)"
      ],
      "execution_count": null,
      "outputs": []
    },
    {
      "cell_type": "code",
      "metadata": {
        "id": "VXLBUhQzwRTD",
        "colab_type": "code",
        "colab": {
          "base_uri": "https://localhost:8080/",
          "height": 67
        },
        "outputId": "5ba36e29-e12c-48f0-84ad-467fe0f29fe3"
      },
      "source": [
        "import nltk\n",
        "nltk.download('stopwords')\n",
        "nltk.download('vader_lexicon')\n",
        "#df['punctuation_count'] = df['Product_Description'].apply(lambda x: len(\"\".join(_ for _ in x if _ in punctuation)))\n",
        "df['numerics'] = df['Product_Description'].apply(lambda x: len([x for x in x.split() if x.isdigit()]))\n",
        "df['upper'] = df['Product_Description'].apply(lambda x: len([x for x in x.split() if x.isupper()]))"
      ],
      "execution_count": null,
      "outputs": [
        {
          "output_type": "stream",
          "text": [
            "[nltk_data] Downloading package stopwords to /root/nltk_data...\n",
            "[nltk_data]   Unzipping corpora/stopwords.zip.\n",
            "[nltk_data] Downloading package vader_lexicon to /root/nltk_data...\n"
          ],
          "name": "stdout"
        }
      ]
    },
    {
      "cell_type": "code",
      "metadata": {
        "id": "lfr_3gbJ1lek",
        "colab_type": "code",
        "colab": {}
      },
      "source": [
        "from sklearn.feature_extraction.text import CountVectorizer, TfidfVectorizer\n",
        "from nltk.tokenize import TreebankWordTokenizer\n",
        "cvec = TfidfVectorizer(max_features=10000, norm = 'l1', lowercase=True, smooth_idf=False, sublinear_tf=False, ngram_range=(1,4), tokenizer=TreebankWordTokenizer().tokenize)\n",
        "df_info = pd.DataFrame(cvec.fit_transform(df['Product_Description']).todense())\n",
        "df_info.columns = ['Product_Description_Top_' + str(c) for c in df_info.columns]\n",
        "df = pd.concat([df, df_info], axis=1)"
      ],
      "execution_count": null,
      "outputs": []
    },
    {
      "cell_type": "code",
      "metadata": {
        "id": "V2fccgYutsdr",
        "colab_type": "code",
        "colab": {
          "base_uri": "https://localhost:8080/",
          "height": 235
        },
        "outputId": "fae5c6fd-8886-4679-da7b-af5965669c43"
      },
      "source": [
        "import re\n",
        "def clean_text(text):\n",
        "    text = text.lower()\n",
        "    text = re.sub(r'@[a-zA-Z0-9_]+', '', text)   \n",
        "    text = re.sub(r'https?://[A-Za-z0-9./]+', '', text)   \n",
        "    text = re.sub(r'www.[^ ]+', '', text)  \n",
        "    text = re.sub(r'[a-zA-Z0-9]*www[a-zA-Z0-9]*com[a-zA-Z0-9]*', '', text)  \n",
        "    text = re.sub(r'[^a-zA-Z]', ' ', text)   \n",
        "    text = [token for token in text.split() if len(token) > 2]\n",
        "    text = ' '.join(text)\n",
        "    return text\n",
        "\n",
        "df['Product_Description'] = df['Product_Description'].apply(clean_text)\n",
        "from wordcloud import WordCloud, STOPWORDS\n",
        "wc = WordCloud(background_color='white',\n",
        "                    stopwords =  set(STOPWORDS),\n",
        "                    max_words = 50, \n",
        "                    random_state = 42,)\n",
        "wc.generate(' '.join(df['Product_Description']))\n",
        "plt.imshow(wc)"
      ],
      "execution_count": null,
      "outputs": [
        {
          "output_type": "execute_result",
          "data": {
            "text/plain": [
              "<matplotlib.image.AxesImage at 0x7f1b76f58d30>"
            ]
          },
          "metadata": {
            "tags": []
          },
          "execution_count": 12
        },
        {
          "output_type": "display_data",
          "data": {
            "image/png": "[encoded data removed]",
            "text/plain": [
              "<Figure size 432x288 with 1 Axes>"
            ]
          },
          "metadata": {
            "tags": [],
            "needs_background": "light"
          }
        }
      ]
    },
    {
      "cell_type": "code",
      "metadata": {
        "id": "RjDa5toktyK2",
        "colab_type": "code",
        "colab": {}
      },
      "source": [
        "import string\n",
        "punctuation=string.punctuation\n",
        "df['word_count']=df['Product_Description'].apply(lambda x: len(str(x).split(\" \")))\n",
        "df['char_count'] = df['Product_Description'].str.len()\n",
        "def avg_word(sentence):\n",
        "    words = sentence.split()\n",
        "    return (sum(len(word) for word in words)/(len(words)+1))\n",
        "\n",
        "df['avg_word'] = df['Product_Description'].apply(lambda x: avg_word(x))\n",
        "from nltk.corpus import stopwords\n",
        "stop = stopwords.words('english')\n",
        "\n",
        "df['stopwords'] = df['Product_Description'].apply(lambda x: len([x for x in x.split() if x in stop]))\n",
        "df['word_density'] = df['char_count'] / (df['word_count']+1)\n"
      ],
      "execution_count": null,
      "outputs": []
    },
    {
      "cell_type": "code",
      "metadata": {
        "id": "J3jHiW81ZbaT",
        "colab_type": "code",
        "colab": {}
      },
      "source": [
        "j=[]\n",
        "for i in df['Product_Description']:\n",
        "  j.append(len(i))\n",
        "df['len']=j"
      ],
      "execution_count": null,
      "outputs": []
    },
    {
      "cell_type": "code",
      "metadata": {
        "id": "x9AzpvUZyhuo",
        "colab_type": "code",
        "colab": {}
      },
      "source": [
        "from textblob import TextBlob\n",
        "df['polarity'] = df.apply(lambda x: TextBlob(x['Product_Description']).sentiment.polarity, axis=1)\n",
        "df['subjectivity'] = df.apply(lambda x: TextBlob(x['Product_Description']).sentiment.subjectivity, axis=1)"
      ],
      "execution_count": null,
      "outputs": []
    },
    {
      "cell_type": "code",
      "metadata": {
        "id": "OmL-qONPpQYo",
        "colab_type": "code",
        "colab": {}
      },
      "source": [
        "df['ID_Type']=df['Product_Type']+df['Text_ID']"
      ],
      "execution_count": null,
      "outputs": []
    },
    {
      "cell_type": "code",
      "metadata": {
        "id": "8EajvGnUHPoi",
        "colab_type": "code",
        "colab": {
          "base_uri": "https://localhost:8080/",
          "height": 390
        },
        "outputId": "9a668ec2-9b44-4e2a-e551-b157d28abfb9"
      },
      "source": [
        "df.head(5)"
      ],
      "execution_count": null,
      "outputs": [
        {
          "output_type": "execute_result",
          "data": {
            "text/html": [
              "<div>\n",
              "<style scoped>\n",
              "    .dataframe tbody tr th:only-of-type {\n",
              "        vertical-align: middle;\n",
              "    }\n",
              "\n",
              "    .dataframe tbody tr th {\n",
              "        vertical-align: top;\n",
              "    }\n",
              "\n",
              "    .dataframe thead th {\n",
              "        text-align: right;\n",
              "    }\n",
              "</style>\n",
              "<table border=\"1\" class=\"dataframe\">\n",
              "  <thead>\n",
              "    <tr style=\"text-align: right;\">\n",
              "      <th></th>\n",
              "      <th>Text_ID</th>\n",
              "      <th>Product_Description</th>\n",
              "      <th>Product_Type</th>\n",
              "      <th>Sentiment</th>\n",
              "      <th>numerics</th>\n",
              "      <th>upper</th>\n",
              "      <th>Product_Description_Top_0</th>\n",
              "      <th>Product_Description_Top_1</th>\n",
              "      <th>Product_Description_Top_2</th>\n",
              "      <th>Product_Description_Top_3</th>\n",
              "      <th>Product_Description_Top_4</th>\n",
              "      <th>Product_Description_Top_5</th>\n",
              "      <th>Product_Description_Top_6</th>\n",
              "      <th>Product_Description_Top_7</th>\n",
              "      <th>Product_Description_Top_8</th>\n",
              "      <th>Product_Description_Top_9</th>\n",
              "      <th>Product_Description_Top_10</th>\n",
              "      <th>Product_Description_Top_11</th>\n",
              "      <th>Product_Description_Top_12</th>\n",
              "      <th>Product_Description_Top_13</th>\n",
              "      <th>Product_Description_Top_14</th>\n",
              "      <th>Product_Description_Top_15</th>\n",
              "      <th>Product_Description_Top_16</th>\n",
              "      <th>Product_Description_Top_17</th>\n",
              "      <th>Product_Description_Top_18</th>\n",
              "      <th>Product_Description_Top_19</th>\n",
              "      <th>Product_Description_Top_20</th>\n",
              "      <th>Product_Description_Top_21</th>\n",
              "      <th>Product_Description_Top_22</th>\n",
              "      <th>Product_Description_Top_23</th>\n",
              "      <th>Product_Description_Top_24</th>\n",
              "      <th>Product_Description_Top_25</th>\n",
              "      <th>Product_Description_Top_26</th>\n",
              "      <th>Product_Description_Top_27</th>\n",
              "      <th>Product_Description_Top_28</th>\n",
              "      <th>Product_Description_Top_29</th>\n",
              "      <th>Product_Description_Top_30</th>\n",
              "      <th>Product_Description_Top_31</th>\n",
              "      <th>Product_Description_Top_32</th>\n",
              "      <th>Product_Description_Top_33</th>\n",
              "      <th>...</th>\n",
              "      <th>Product_Description_Top_9969</th>\n",
              "      <th>Product_Description_Top_9970</th>\n",
              "      <th>Product_Description_Top_9971</th>\n",
              "      <th>Product_Description_Top_9972</th>\n",
              "      <th>Product_Description_Top_9973</th>\n",
              "      <th>Product_Description_Top_9974</th>\n",
              "      <th>Product_Description_Top_9975</th>\n",
              "      <th>Product_Description_Top_9976</th>\n",
              "      <th>Product_Description_Top_9977</th>\n",
              "      <th>Product_Description_Top_9978</th>\n",
              "      <th>Product_Description_Top_9979</th>\n",
              "      <th>Product_Description_Top_9980</th>\n",
              "      <th>Product_Description_Top_9981</th>\n",
              "      <th>Product_Description_Top_9982</th>\n",
              "      <th>Product_Description_Top_9983</th>\n",
              "      <th>Product_Description_Top_9984</th>\n",
              "      <th>Product_Description_Top_9985</th>\n",
              "      <th>Product_Description_Top_9986</th>\n",
              "      <th>Product_Description_Top_9987</th>\n",
              "      <th>Product_Description_Top_9988</th>\n",
              "      <th>Product_Description_Top_9989</th>\n",
              "      <th>Product_Description_Top_9990</th>\n",
              "      <th>Product_Description_Top_9991</th>\n",
              "      <th>Product_Description_Top_9992</th>\n",
              "      <th>Product_Description_Top_9993</th>\n",
              "      <th>Product_Description_Top_9994</th>\n",
              "      <th>Product_Description_Top_9995</th>\n",
              "      <th>Product_Description_Top_9996</th>\n",
              "      <th>Product_Description_Top_9997</th>\n",
              "      <th>Product_Description_Top_9998</th>\n",
              "      <th>Product_Description_Top_9999</th>\n",
              "      <th>word_count</th>\n",
              "      <th>char_count</th>\n",
              "      <th>avg_word</th>\n",
              "      <th>stopwords</th>\n",
              "      <th>word_density</th>\n",
              "      <th>len</th>\n",
              "      <th>polarity</th>\n",
              "      <th>subjectivity</th>\n",
              "      <th>ID_Type</th>\n",
              "    </tr>\n",
              "  </thead>\n",
              "  <tbody>\n",
              "    <tr>\n",
              "      <th>0</th>\n",
              "      <td>3057</td>\n",
              "      <td>the web designer guide ios and android apps to...</td>\n",
              "      <td>9</td>\n",
              "      <td>2.0</td>\n",
              "      <td>1</td>\n",
              "      <td>0</td>\n",
              "      <td>0.016153</td>\n",
              "      <td>0.0</td>\n",
              "      <td>0.0</td>\n",
              "      <td>0.0</td>\n",
              "      <td>0.0</td>\n",
              "      <td>0.0</td>\n",
              "      <td>0.0</td>\n",
              "      <td>0.0</td>\n",
              "      <td>0.0</td>\n",
              "      <td>0.0</td>\n",
              "      <td>0.0</td>\n",
              "      <td>0.0</td>\n",
              "      <td>0.0</td>\n",
              "      <td>0.0</td>\n",
              "      <td>0.0</td>\n",
              "      <td>0.0</td>\n",
              "      <td>0.0</td>\n",
              "      <td>0.0</td>\n",
              "      <td>0.0</td>\n",
              "      <td>0.0</td>\n",
              "      <td>0.0</td>\n",
              "      <td>0.0</td>\n",
              "      <td>0.0</td>\n",
              "      <td>0.0</td>\n",
              "      <td>0.0</td>\n",
              "      <td>0.0</td>\n",
              "      <td>0.0</td>\n",
              "      <td>0.0</td>\n",
              "      <td>0.0</td>\n",
              "      <td>0.0</td>\n",
              "      <td>0.0</td>\n",
              "      <td>0.0</td>\n",
              "      <td>0.0</td>\n",
              "      <td>0.0</td>\n",
              "      <td>...</td>\n",
              "      <td>0.0</td>\n",
              "      <td>0.0</td>\n",
              "      <td>0.0</td>\n",
              "      <td>0.0</td>\n",
              "      <td>0.0</td>\n",
              "      <td>0.0</td>\n",
              "      <td>0.0</td>\n",
              "      <td>0.0</td>\n",
              "      <td>0.0</td>\n",
              "      <td>0.0</td>\n",
              "      <td>0.0</td>\n",
              "      <td>0.0</td>\n",
              "      <td>0.0</td>\n",
              "      <td>0.0</td>\n",
              "      <td>0.0</td>\n",
              "      <td>0.0</td>\n",
              "      <td>0.0</td>\n",
              "      <td>0.0</td>\n",
              "      <td>0.0</td>\n",
              "      <td>0.0</td>\n",
              "      <td>0.0</td>\n",
              "      <td>0.0</td>\n",
              "      <td>0.0</td>\n",
              "      <td>0.0</td>\n",
              "      <td>0.0</td>\n",
              "      <td>0.0</td>\n",
              "      <td>0.0</td>\n",
              "      <td>0.0</td>\n",
              "      <td>0.0</td>\n",
              "      <td>0.0</td>\n",
              "      <td>0.0</td>\n",
              "      <td>11</td>\n",
              "      <td>59</td>\n",
              "      <td>4.083333</td>\n",
              "      <td>2</td>\n",
              "      <td>4.916667</td>\n",
              "      <td>59</td>\n",
              "      <td>0.0</td>\n",
              "      <td>0.0</td>\n",
              "      <td>3066</td>\n",
              "    </tr>\n",
              "    <tr>\n",
              "      <th>1</th>\n",
              "      <td>6254</td>\n",
              "      <td>line for ipad longer today than yesterday sxsw...</td>\n",
              "      <td>9</td>\n",
              "      <td>2.0</td>\n",
              "      <td>1</td>\n",
              "      <td>2</td>\n",
              "      <td>0.000000</td>\n",
              "      <td>0.0</td>\n",
              "      <td>0.0</td>\n",
              "      <td>0.0</td>\n",
              "      <td>0.0</td>\n",
              "      <td>0.0</td>\n",
              "      <td>0.0</td>\n",
              "      <td>0.0</td>\n",
              "      <td>0.0</td>\n",
              "      <td>0.0</td>\n",
              "      <td>0.0</td>\n",
              "      <td>0.0</td>\n",
              "      <td>0.0</td>\n",
              "      <td>0.0</td>\n",
              "      <td>0.0</td>\n",
              "      <td>0.0</td>\n",
              "      <td>0.0</td>\n",
              "      <td>0.0</td>\n",
              "      <td>0.0</td>\n",
              "      <td>0.0</td>\n",
              "      <td>0.0</td>\n",
              "      <td>0.0</td>\n",
              "      <td>0.0</td>\n",
              "      <td>0.0</td>\n",
              "      <td>0.0</td>\n",
              "      <td>0.0</td>\n",
              "      <td>0.0</td>\n",
              "      <td>0.0</td>\n",
              "      <td>0.0</td>\n",
              "      <td>0.0</td>\n",
              "      <td>0.0</td>\n",
              "      <td>0.0</td>\n",
              "      <td>0.0</td>\n",
              "      <td>0.0</td>\n",
              "      <td>...</td>\n",
              "      <td>0.0</td>\n",
              "      <td>0.0</td>\n",
              "      <td>0.0</td>\n",
              "      <td>0.0</td>\n",
              "      <td>0.0</td>\n",
              "      <td>0.0</td>\n",
              "      <td>0.0</td>\n",
              "      <td>0.0</td>\n",
              "      <td>0.0</td>\n",
              "      <td>0.0</td>\n",
              "      <td>0.0</td>\n",
              "      <td>0.0</td>\n",
              "      <td>0.0</td>\n",
              "      <td>0.0</td>\n",
              "      <td>0.0</td>\n",
              "      <td>0.0</td>\n",
              "      <td>0.0</td>\n",
              "      <td>0.0</td>\n",
              "      <td>0.0</td>\n",
              "      <td>0.0</td>\n",
              "      <td>0.0</td>\n",
              "      <td>0.0</td>\n",
              "      <td>0.0</td>\n",
              "      <td>0.0</td>\n",
              "      <td>0.0</td>\n",
              "      <td>0.0</td>\n",
              "      <td>0.0</td>\n",
              "      <td>0.0</td>\n",
              "      <td>0.0</td>\n",
              "      <td>0.0</td>\n",
              "      <td>0.0</td>\n",
              "      <td>17</td>\n",
              "      <td>92</td>\n",
              "      <td>4.222222</td>\n",
              "      <td>7</td>\n",
              "      <td>5.111111</td>\n",
              "      <td>92</td>\n",
              "      <td>0.3</td>\n",
              "      <td>0.2</td>\n",
              "      <td>6263</td>\n",
              "    </tr>\n",
              "    <tr>\n",
              "      <th>2</th>\n",
              "      <td>8212</td>\n",
              "      <td>crazy that apple opening temporary store austi...</td>\n",
              "      <td>9</td>\n",
              "      <td>2.0</td>\n",
              "      <td>0</td>\n",
              "      <td>0</td>\n",
              "      <td>0.000000</td>\n",
              "      <td>0.0</td>\n",
              "      <td>0.0</td>\n",
              "      <td>0.0</td>\n",
              "      <td>0.0</td>\n",
              "      <td>0.0</td>\n",
              "      <td>0.0</td>\n",
              "      <td>0.0</td>\n",
              "      <td>0.0</td>\n",
              "      <td>0.0</td>\n",
              "      <td>0.0</td>\n",
              "      <td>0.0</td>\n",
              "      <td>0.0</td>\n",
              "      <td>0.0</td>\n",
              "      <td>0.0</td>\n",
              "      <td>0.0</td>\n",
              "      <td>0.0</td>\n",
              "      <td>0.0</td>\n",
              "      <td>0.0</td>\n",
              "      <td>0.0</td>\n",
              "      <td>0.0</td>\n",
              "      <td>0.0</td>\n",
              "      <td>0.0</td>\n",
              "      <td>0.0</td>\n",
              "      <td>0.0</td>\n",
              "      <td>0.0</td>\n",
              "      <td>0.0</td>\n",
              "      <td>0.0</td>\n",
              "      <td>0.0</td>\n",
              "      <td>0.0</td>\n",
              "      <td>0.0</td>\n",
              "      <td>0.0</td>\n",
              "      <td>0.0</td>\n",
              "      <td>0.0</td>\n",
              "      <td>...</td>\n",
              "      <td>0.0</td>\n",
              "      <td>0.0</td>\n",
              "      <td>0.0</td>\n",
              "      <td>0.0</td>\n",
              "      <td>0.0</td>\n",
              "      <td>0.0</td>\n",
              "      <td>0.0</td>\n",
              "      <td>0.0</td>\n",
              "      <td>0.0</td>\n",
              "      <td>0.0</td>\n",
              "      <td>0.0</td>\n",
              "      <td>0.0</td>\n",
              "      <td>0.0</td>\n",
              "      <td>0.0</td>\n",
              "      <td>0.0</td>\n",
              "      <td>0.0</td>\n",
              "      <td>0.0</td>\n",
              "      <td>0.0</td>\n",
              "      <td>0.0</td>\n",
              "      <td>0.0</td>\n",
              "      <td>0.0</td>\n",
              "      <td>0.0</td>\n",
              "      <td>0.0</td>\n",
              "      <td>0.0</td>\n",
              "      <td>0.0</td>\n",
              "      <td>0.0</td>\n",
              "      <td>0.0</td>\n",
              "      <td>0.0</td>\n",
              "      <td>0.0</td>\n",
              "      <td>0.0</td>\n",
              "      <td>0.0</td>\n",
              "      <td>16</td>\n",
              "      <td>98</td>\n",
              "      <td>4.882353</td>\n",
              "      <td>3</td>\n",
              "      <td>5.764706</td>\n",
              "      <td>98</td>\n",
              "      <td>-0.6</td>\n",
              "      <td>0.9</td>\n",
              "      <td>8221</td>\n",
              "    </tr>\n",
              "    <tr>\n",
              "      <th>3</th>\n",
              "      <td>4422</td>\n",
              "      <td>the lesson from google one pass this digital e...</td>\n",
              "      <td>9</td>\n",
              "      <td>2.0</td>\n",
              "      <td>0</td>\n",
              "      <td>0</td>\n",
              "      <td>0.000000</td>\n",
              "      <td>0.0</td>\n",
              "      <td>0.0</td>\n",
              "      <td>0.0</td>\n",
              "      <td>0.0</td>\n",
              "      <td>0.0</td>\n",
              "      <td>0.0</td>\n",
              "      <td>0.0</td>\n",
              "      <td>0.0</td>\n",
              "      <td>0.0</td>\n",
              "      <td>0.0</td>\n",
              "      <td>0.0</td>\n",
              "      <td>0.0</td>\n",
              "      <td>0.0</td>\n",
              "      <td>0.0</td>\n",
              "      <td>0.0</td>\n",
              "      <td>0.0</td>\n",
              "      <td>0.0</td>\n",
              "      <td>0.0</td>\n",
              "      <td>0.0</td>\n",
              "      <td>0.0</td>\n",
              "      <td>0.0</td>\n",
              "      <td>0.0</td>\n",
              "      <td>0.0</td>\n",
              "      <td>0.0</td>\n",
              "      <td>0.0</td>\n",
              "      <td>0.0</td>\n",
              "      <td>0.0</td>\n",
              "      <td>0.0</td>\n",
              "      <td>0.0</td>\n",
              "      <td>0.0</td>\n",
              "      <td>0.0</td>\n",
              "      <td>0.0</td>\n",
              "      <td>0.0</td>\n",
              "      <td>...</td>\n",
              "      <td>0.0</td>\n",
              "      <td>0.0</td>\n",
              "      <td>0.0</td>\n",
              "      <td>0.0</td>\n",
              "      <td>0.0</td>\n",
              "      <td>0.0</td>\n",
              "      <td>0.0</td>\n",
              "      <td>0.0</td>\n",
              "      <td>0.0</td>\n",
              "      <td>0.0</td>\n",
              "      <td>0.0</td>\n",
              "      <td>0.0</td>\n",
              "      <td>0.0</td>\n",
              "      <td>0.0</td>\n",
              "      <td>0.0</td>\n",
              "      <td>0.0</td>\n",
              "      <td>0.0</td>\n",
              "      <td>0.0</td>\n",
              "      <td>0.0</td>\n",
              "      <td>0.0</td>\n",
              "      <td>0.0</td>\n",
              "      <td>0.0</td>\n",
              "      <td>0.0</td>\n",
              "      <td>0.0</td>\n",
              "      <td>0.0</td>\n",
              "      <td>0.0</td>\n",
              "      <td>0.0</td>\n",
              "      <td>0.0</td>\n",
              "      <td>0.0</td>\n",
              "      <td>0.0</td>\n",
              "      <td>0.0</td>\n",
              "      <td>20</td>\n",
              "      <td>126</td>\n",
              "      <td>5.095238</td>\n",
              "      <td>4</td>\n",
              "      <td>6.000000</td>\n",
              "      <td>126</td>\n",
              "      <td>0.0</td>\n",
              "      <td>0.0</td>\n",
              "      <td>4431</td>\n",
              "    </tr>\n",
              "    <tr>\n",
              "      <th>4</th>\n",
              "      <td>5526</td>\n",
              "      <td>the panel quot your mom has ipad designing for...</td>\n",
              "      <td>9</td>\n",
              "      <td>2.0</td>\n",
              "      <td>0</td>\n",
              "      <td>1</td>\n",
              "      <td>0.000000</td>\n",
              "      <td>0.0</td>\n",
              "      <td>0.0</td>\n",
              "      <td>0.0</td>\n",
              "      <td>0.0</td>\n",
              "      <td>0.0</td>\n",
              "      <td>0.0</td>\n",
              "      <td>0.0</td>\n",
              "      <td>0.0</td>\n",
              "      <td>0.0</td>\n",
              "      <td>0.0</td>\n",
              "      <td>0.0</td>\n",
              "      <td>0.0</td>\n",
              "      <td>0.0</td>\n",
              "      <td>0.0</td>\n",
              "      <td>0.0</td>\n",
              "      <td>0.0</td>\n",
              "      <td>0.0</td>\n",
              "      <td>0.0</td>\n",
              "      <td>0.0</td>\n",
              "      <td>0.0</td>\n",
              "      <td>0.0</td>\n",
              "      <td>0.0</td>\n",
              "      <td>0.0</td>\n",
              "      <td>0.0</td>\n",
              "      <td>0.0</td>\n",
              "      <td>0.0</td>\n",
              "      <td>0.0</td>\n",
              "      <td>0.0</td>\n",
              "      <td>0.0</td>\n",
              "      <td>0.0</td>\n",
              "      <td>0.0</td>\n",
              "      <td>0.0</td>\n",
              "      <td>0.0</td>\n",
              "      <td>...</td>\n",
              "      <td>0.0</td>\n",
              "      <td>0.0</td>\n",
              "      <td>0.0</td>\n",
              "      <td>0.0</td>\n",
              "      <td>0.0</td>\n",
              "      <td>0.0</td>\n",
              "      <td>0.0</td>\n",
              "      <td>0.0</td>\n",
              "      <td>0.0</td>\n",
              "      <td>0.0</td>\n",
              "      <td>0.0</td>\n",
              "      <td>0.0</td>\n",
              "      <td>0.0</td>\n",
              "      <td>0.0</td>\n",
              "      <td>0.0</td>\n",
              "      <td>0.0</td>\n",
              "      <td>0.0</td>\n",
              "      <td>0.0</td>\n",
              "      <td>0.0</td>\n",
              "      <td>0.0</td>\n",
              "      <td>0.0</td>\n",
              "      <td>0.0</td>\n",
              "      <td>0.0</td>\n",
              "      <td>0.0</td>\n",
              "      <td>0.0</td>\n",
              "      <td>0.0</td>\n",
              "      <td>0.0</td>\n",
              "      <td>0.0</td>\n",
              "      <td>0.0</td>\n",
              "      <td>0.0</td>\n",
              "      <td>0.0</td>\n",
              "      <td>12</td>\n",
              "      <td>64</td>\n",
              "      <td>4.076923</td>\n",
              "      <td>4</td>\n",
              "      <td>4.923077</td>\n",
              "      <td>64</td>\n",
              "      <td>0.0</td>\n",
              "      <td>0.0</td>\n",
              "      <td>5535</td>\n",
              "    </tr>\n",
              "  </tbody>\n",
              "</table>\n",
              "<p>5 rows × 10015 columns</p>\n",
              "</div>"
            ],
            "text/plain": [
              "   Text_ID  ... ID_Type\n",
              "0     3057  ...    3066\n",
              "1     6254  ...    6263\n",
              "2     8212  ...    8221\n",
              "3     4422  ...    4431\n",
              "4     5526  ...    5535\n",
              "\n",
              "[5 rows x 10015 columns]"
            ]
          },
          "metadata": {
            "tags": []
          },
          "execution_count": 17
        }
      ]
    },
    {
      "cell_type": "code",
      "metadata": {
        "id": "c4VAplFlt0Zl",
        "colab_type": "code",
        "colab": {}
      },
      "source": [
        "del df['Product_Description']\n",
        "train = df[df['Sentiment'].isnull()==False]\n",
        "test = df[df['Sentiment'].isnull()==True]\n",
        "del test['Sentiment']"
      ],
      "execution_count": null,
      "outputs": []
    },
    {
      "cell_type": "code",
      "metadata": {
        "id": "nKqBYqb5kAdK",
        "colab_type": "code",
        "colab": {
          "base_uri": "https://localhost:8080/",
          "height": 100
        },
        "outputId": "b5e43d68-102f-4023-891d-cb0879048c44"
      },
      "source": [
        "train['Sentiment'].value_counts()"
      ],
      "execution_count": null,
      "outputs": [
        {
          "output_type": "execute_result",
          "data": {
            "text/plain": [
              "2.0    3765\n",
              "3.0    2089\n",
              "1.0     399\n",
              "0.0     111\n",
              "Name: Sentiment, dtype: int64"
            ]
          },
          "metadata": {
            "tags": []
          },
          "execution_count": 19
        }
      ]
    },
    {
      "cell_type": "code",
      "metadata": {
        "id": "jw23O6u1YKIv",
        "colab_type": "code",
        "colab": {}
      },
      "source": [
        "train_df=train\n",
        "test_df=test"
      ],
      "execution_count": null,
      "outputs": []
    },
    {
      "cell_type": "code",
      "metadata": {
        "id": "tEBtdP68YNzr",
        "colab_type": "code",
        "colab": {}
      },
      "source": [
        "X = train_df.drop(labels=['Sentiment'], axis=1)\n",
        "y = train_df['Sentiment'].values"
      ],
      "execution_count": null,
      "outputs": []
    },
    {
      "cell_type": "code",
      "metadata": {
        "id": "PXCdENQvYDc9",
        "colab_type": "code",
        "colab": {}
      },
      "source": [
        "from sklearn.model_selection import train_test_split\n",
        "X_train, X_cv, y_train, y_cv = train_test_split(X, y, test_size=0.10, random_state=101, stratify=y)"
      ],
      "execution_count": null,
      "outputs": []
    },
    {
      "cell_type": "code",
      "metadata": {
        "id": "rzaKa3bnZSmm",
        "colab_type": "code",
        "colab": {
          "base_uri": "https://localhost:8080/",
          "height": 33
        },
        "outputId": "2303d16d-3262-43d9-b0d4-6bb7ac0cd3e0"
      },
      "source": [
        "X_train.shape, y_train.shape, X_cv.shape, y_cv.shape"
      ],
      "execution_count": null,
      "outputs": [
        {
          "output_type": "execute_result",
          "data": {
            "text/plain": [
              "((5727, 10013), (5727,), (637, 10013), (637,))"
            ]
          },
          "metadata": {
            "tags": []
          },
          "execution_count": 23
        }
      ]
    },
    {
      "cell_type": "code",
      "metadata": {
        "id": "KWM1s5V2ZWQJ",
        "colab_type": "code",
        "colab": {}
      },
      "source": [
        "from sklearn.metrics import log_loss"
      ],
      "execution_count": null,
      "outputs": []
    },
    {
      "cell_type": "code",
      "metadata": {
        "id": "crMDQv3UZfin",
        "colab_type": "code",
        "colab": {
          "base_uri": "https://localhost:8080/",
          "height": 218
        },
        "outputId": "99695608-0c7f-44c8-c1e2-e8e52a299da0"
      },
      "source": [
        "\n",
        "import lightgbm as lgb\n",
        "train_data = lgb.Dataset(X_train, label=y_train)\n",
        "test_data = lgb.Dataset(X_cv, label=y_cv)\n",
        "\n",
        "param = {'objective': 'multiclass',\n",
        "         'num_class': 4,\n",
        "         'boosting': 'gbdt',  \n",
        "         'metric': 'multi_logloss',\n",
        "         'learning_rate': 0.01, \n",
        "         'num_iterations': 1000,\n",
        "         'num_leaves': 31,\n",
        "         'max_depth': -1,\n",
        "         'min_data_in_leaf': 15,\n",
        "         'bagging_fraction':0.9,\n",
        "         'bagging_freq': 2,\n",
        "         'feature_fraction': 0.9,\n",
        "         'lambda_l2': 0.9,\n",
        "         'min_data_per_group': 75,\n",
        "         'max_bin': 255,\n",
        "         'is_unbalance':True\n",
        "         }\n",
        "\n",
        "clf = lgb.train(params=param, \n",
        "                early_stopping_rounds=200,\n",
        "                verbose_eval=100,\n",
        "                train_set=train_data,\n",
        "                valid_sets=[test_data])\n",
        "\n",
        "y_pred = clf.predict(X_cv)"
      ],
      "execution_count": null,
      "outputs": [
        {
          "output_type": "stream",
          "text": [
            "/usr/local/lib/python3.6/dist-packages/lightgbm/engine.py:118: UserWarning: Found `num_iterations` in params. Will use it instead of argument\n",
            "  warnings.warn(\"Found `{}` in params. Will use it instead of argument\".format(alias))\n"
          ],
          "name": "stderr"
        },
        {
          "output_type": "stream",
          "text": [
            "Training until validation scores don't improve for 200 rounds.\n",
            "[100]\tvalid_0's multi_logloss: 0.548057\n",
            "[200]\tvalid_0's multi_logloss: 0.442063\n",
            "[300]\tvalid_0's multi_logloss: 0.408143\n",
            "[400]\tvalid_0's multi_logloss: 0.39734\n",
            "[500]\tvalid_0's multi_logloss: 0.393411\n",
            "[600]\tvalid_0's multi_logloss: 0.394135\n",
            "[700]\tvalid_0's multi_logloss: 0.396948\n",
            "Early stopping, best iteration is:\n",
            "[516]\tvalid_0's multi_logloss: 0.393131\n"
          ],
          "name": "stdout"
        }
      ]
    },
    {
      "cell_type": "code",
      "metadata": {
        "id": "Co0ydv6fZjcQ",
        "colab_type": "code",
        "colab": {
          "base_uri": "https://localhost:8080/",
          "height": 33
        },
        "outputId": "bf811802-919e-4dc9-f462-262a32004f59"
      },
      "source": [
        "log_loss(y_cv, y_pred)"
      ],
      "execution_count": null,
      "outputs": [
        {
          "output_type": "execute_result",
          "data": {
            "text/plain": [
              "0.3931310872155192"
            ]
          },
          "metadata": {
            "tags": []
          },
          "execution_count": 26
        }
      ]
    },
    {
      "cell_type": "code",
      "metadata": {
        "id": "MVHWka2gEBSV",
        "colab_type": "code",
        "colab": {}
      },
      "source": [
        "import seaborn as sns\n",
        "feature_imp = pd.DataFrame(sorted(zip(clf.feature_importance(), X.columns), reverse=True)[:], columns=['Value','Feature'])\n",
        "plt.figure(figsize=(20,20))\n",
        "sns.barplot(x=\"Value\", y=\"Feature\", data=feature_imp.sort_values(by=\"Value\", ascending=False))\n",
        "plt.title('LightGBM Features')\n",
        "plt.tight_layout()\n",
        "plt.show()"
      ],
      "execution_count": null,
      "outputs": []
    },
    {
      "cell_type": "code",
      "metadata": {
        "id": "SdDK3wn0Z8Ig",
        "colab_type": "code",
        "colab": {}
      },
      "source": [
        "Xtest = test_df"
      ],
      "execution_count": null,
      "outputs": []
    },
    {
      "cell_type": "code",
      "metadata": {
        "id": "VEF6nOsjZ_-L",
        "colab_type": "code",
        "colab": {
          "base_uri": "https://localhost:8080/",
          "height": 1000
        },
        "outputId": "cd02ec9f-81b5-49a5-ee96-fe1fcb935c10"
      },
      "source": [
        "\n",
        "from sklearn.model_selection import KFold, StratifiedKFold\n",
        "\n",
        "errlgb = []\n",
        "y_pred_totlgb = []\n",
        "\n",
        "fold = StratifiedKFold(n_splits=20, shuffle=True, random_state=2**31)\n",
        "\n",
        "for train_index, test_index in fold.split(X, y):\n",
        "    \n",
        "    X_train, X_test = X.loc[train_index], X.loc[test_index]\n",
        "    y_train, y_test = y[train_index], y[test_index]\n",
        "    \n",
        "    train_data = lgb.Dataset(X_train, label=y_train)\n",
        "    test_data = lgb.Dataset(X_test, label=y_test)\n",
        "    \n",
        "    clf = lgb.train(params=param, \n",
        "                     early_stopping_rounds=200,\n",
        "                     verbose_eval=100,\n",
        "                     train_set=train_data,\n",
        "                     valid_sets=[test_data])\n",
        "\n",
        "    y_pred = clf.predict(X_test)\n",
        "    print(\"Log Loss: \", (log_loss(y_test, y_pred)))\n",
        "    \n",
        "    errlgb.append(log_loss(y_test, y_pred))\n",
        "    p = clf.predict(Xtest)\n",
        "    y_pred_totlgb.append(p)"
      ],
      "execution_count": null,
      "outputs": [
        {
          "output_type": "stream",
          "text": [
            "/usr/local/lib/python3.6/dist-packages/lightgbm/engine.py:118: UserWarning: Found `num_iterations` in params. Will use it instead of argument\n",
            "  warnings.warn(\"Found `{}` in params. Will use it instead of argument\".format(alias))\n"
          ],
          "name": "stderr"
        },
        {
          "output_type": "stream",
          "text": [
            "Training until validation scores don't improve for 200 rounds.\n",
            "[100]\tvalid_0's multi_logloss: 0.565739\n",
            "[200]\tvalid_0's multi_logloss: 0.469689\n",
            "[300]\tvalid_0's multi_logloss: 0.438956\n",
            "[400]\tvalid_0's multi_logloss: 0.430319\n",
            "[500]\tvalid_0's multi_logloss: 0.429101\n",
            "[600]\tvalid_0's multi_logloss: 0.429873\n",
            "Early stopping, best iteration is:\n",
            "[462]\tvalid_0's multi_logloss: 0.428485\n",
            "Log Loss:  0.4284851377197714\n"
          ],
          "name": "stdout"
        },
        {
          "output_type": "stream",
          "text": [
            "/usr/local/lib/python3.6/dist-packages/lightgbm/engine.py:118: UserWarning: Found `num_iterations` in params. Will use it instead of argument\n",
            "  warnings.warn(\"Found `{}` in params. Will use it instead of argument\".format(alias))\n"
          ],
          "name": "stderr"
        },
        {
          "output_type": "stream",
          "text": [
            "Training until validation scores don't improve for 200 rounds.\n",
            "[100]\tvalid_0's multi_logloss: 0.523995\n",
            "[200]\tvalid_0's multi_logloss: 0.402702\n",
            "[300]\tvalid_0's multi_logloss: 0.358575\n",
            "[400]\tvalid_0's multi_logloss: 0.339558\n",
            "[500]\tvalid_0's multi_logloss: 0.330265\n",
            "[600]\tvalid_0's multi_logloss: 0.327722\n",
            "[700]\tvalid_0's multi_logloss: 0.327481\n",
            "[800]\tvalid_0's multi_logloss: 0.329514\n",
            "Early stopping, best iteration is:\n",
            "[691]\tvalid_0's multi_logloss: 0.327201\n",
            "Log Loss:  0.3272007024629862\n"
          ],
          "name": "stdout"
        },
        {
          "output_type": "stream",
          "text": [
            "/usr/local/lib/python3.6/dist-packages/lightgbm/engine.py:118: UserWarning: Found `num_iterations` in params. Will use it instead of argument\n",
            "  warnings.warn(\"Found `{}` in params. Will use it instead of argument\".format(alias))\n"
          ],
          "name": "stderr"
        },
        {
          "output_type": "stream",
          "text": [
            "Training until validation scores don't improve for 200 rounds.\n",
            "[100]\tvalid_0's multi_logloss: 0.583856\n",
            "[200]\tvalid_0's multi_logloss: 0.497139\n",
            "[300]\tvalid_0's multi_logloss: 0.471518\n",
            "[400]\tvalid_0's multi_logloss: 0.464889\n",
            "[500]\tvalid_0's multi_logloss: 0.462169\n",
            "[600]\tvalid_0's multi_logloss: 0.46157\n",
            "[700]\tvalid_0's multi_logloss: 0.462857\n",
            "Early stopping, best iteration is:\n",
            "[586]\tvalid_0's multi_logloss: 0.460898\n",
            "Log Loss:  0.46089752831608255\n"
          ],
          "name": "stdout"
        },
        {
          "output_type": "stream",
          "text": [
            "/usr/local/lib/python3.6/dist-packages/lightgbm/engine.py:118: UserWarning: Found `num_iterations` in params. Will use it instead of argument\n",
            "  warnings.warn(\"Found `{}` in params. Will use it instead of argument\".format(alias))\n"
          ],
          "name": "stderr"
        },
        {
          "output_type": "stream",
          "text": [
            "Training until validation scores don't improve for 200 rounds.\n",
            "[100]\tvalid_0's multi_logloss: 0.559476\n",
            "[200]\tvalid_0's multi_logloss: 0.456657\n",
            "[300]\tvalid_0's multi_logloss: 0.423676\n",
            "[400]\tvalid_0's multi_logloss: 0.414241\n",
            "[500]\tvalid_0's multi_logloss: 0.41071\n",
            "[600]\tvalid_0's multi_logloss: 0.408317\n",
            "[700]\tvalid_0's multi_logloss: 0.407642\n",
            "[800]\tvalid_0's multi_logloss: 0.409403\n",
            "Early stopping, best iteration is:\n",
            "[689]\tvalid_0's multi_logloss: 0.406901\n",
            "Log Loss:  0.40690062930943166\n"
          ],
          "name": "stdout"
        },
        {
          "output_type": "stream",
          "text": [
            "/usr/local/lib/python3.6/dist-packages/lightgbm/engine.py:118: UserWarning: Found `num_iterations` in params. Will use it instead of argument\n",
            "  warnings.warn(\"Found `{}` in params. Will use it instead of argument\".format(alias))\n"
          ],
          "name": "stderr"
        },
        {
          "output_type": "stream",
          "text": [
            "Training until validation scores don't improve for 200 rounds.\n",
            "[100]\tvalid_0's multi_logloss: 0.535993\n",
            "[200]\tvalid_0's multi_logloss: 0.426913\n",
            "[300]\tvalid_0's multi_logloss: 0.387437\n",
            "[400]\tvalid_0's multi_logloss: 0.369745\n",
            "[500]\tvalid_0's multi_logloss: 0.360131\n",
            "[600]\tvalid_0's multi_logloss: 0.353724\n",
            "[700]\tvalid_0's multi_logloss: 0.349676\n",
            "[800]\tvalid_0's multi_logloss: 0.348047\n",
            "[900]\tvalid_0's multi_logloss: 0.347473\n",
            "[1000]\tvalid_0's multi_logloss: 0.349038\n",
            "Did not meet early stopping. Best iteration is:\n",
            "[862]\tvalid_0's multi_logloss: 0.347321\n",
            "Log Loss:  0.34732079957151424\n"
          ],
          "name": "stdout"
        },
        {
          "output_type": "stream",
          "text": [
            "/usr/local/lib/python3.6/dist-packages/lightgbm/engine.py:118: UserWarning: Found `num_iterations` in params. Will use it instead of argument\n",
            "  warnings.warn(\"Found `{}` in params. Will use it instead of argument\".format(alias))\n"
          ],
          "name": "stderr"
        },
        {
          "output_type": "stream",
          "text": [
            "Training until validation scores don't improve for 200 rounds.\n",
            "[100]\tvalid_0's multi_logloss: 0.563161\n",
            "[200]\tvalid_0's multi_logloss: 0.465076\n",
            "[300]\tvalid_0's multi_logloss: 0.432288\n",
            "[400]\tvalid_0's multi_logloss: 0.422074\n",
            "[500]\tvalid_0's multi_logloss: 0.415576\n",
            "[600]\tvalid_0's multi_logloss: 0.412185\n",
            "[700]\tvalid_0's multi_logloss: 0.412775\n",
            "[800]\tvalid_0's multi_logloss: 0.414338\n",
            "Early stopping, best iteration is:\n",
            "[624]\tvalid_0's multi_logloss: 0.412069\n",
            "Log Loss:  0.4120694559165634\n"
          ],
          "name": "stdout"
        },
        {
          "output_type": "stream",
          "text": [
            "/usr/local/lib/python3.6/dist-packages/lightgbm/engine.py:118: UserWarning: Found `num_iterations` in params. Will use it instead of argument\n",
            "  warnings.warn(\"Found `{}` in params. Will use it instead of argument\".format(alias))\n"
          ],
          "name": "stderr"
        },
        {
          "output_type": "stream",
          "text": [
            "Training until validation scores don't improve for 200 rounds.\n",
            "[100]\tvalid_0's multi_logloss: 0.554324\n",
            "[200]\tvalid_0's multi_logloss: 0.459481\n",
            "[300]\tvalid_0's multi_logloss: 0.427813\n",
            "[400]\tvalid_0's multi_logloss: 0.420384\n",
            "[500]\tvalid_0's multi_logloss: 0.417286\n",
            "[600]\tvalid_0's multi_logloss: 0.415854\n",
            "[700]\tvalid_0's multi_logloss: 0.417897\n",
            "Early stopping, best iteration is:\n",
            "[595]\tvalid_0's multi_logloss: 0.415649\n",
            "Log Loss:  0.41564893942715364\n"
          ],
          "name": "stdout"
        },
        {
          "output_type": "stream",
          "text": [
            "/usr/local/lib/python3.6/dist-packages/lightgbm/engine.py:118: UserWarning: Found `num_iterations` in params. Will use it instead of argument\n",
            "  warnings.warn(\"Found `{}` in params. Will use it instead of argument\".format(alias))\n"
          ],
          "name": "stderr"
        },
        {
          "output_type": "stream",
          "text": [
            "Training until validation scores don't improve for 200 rounds.\n",
            "[100]\tvalid_0's multi_logloss: 0.553803\n",
            "[200]\tvalid_0's multi_logloss: 0.453816\n",
            "[300]\tvalid_0's multi_logloss: 0.42065\n",
            "[400]\tvalid_0's multi_logloss: 0.408434\n",
            "[500]\tvalid_0's multi_logloss: 0.402771\n",
            "[600]\tvalid_0's multi_logloss: 0.39996\n",
            "[700]\tvalid_0's multi_logloss: 0.399455\n",
            "[800]\tvalid_0's multi_logloss: 0.401941\n",
            "Early stopping, best iteration is:\n",
            "[663]\tvalid_0's multi_logloss: 0.399216\n",
            "Log Loss:  0.3992159567958863\n"
          ],
          "name": "stdout"
        },
        {
          "output_type": "stream",
          "text": [
            "/usr/local/lib/python3.6/dist-packages/lightgbm/engine.py:118: UserWarning: Found `num_iterations` in params. Will use it instead of argument\n",
            "  warnings.warn(\"Found `{}` in params. Will use it instead of argument\".format(alias))\n"
          ],
          "name": "stderr"
        },
        {
          "output_type": "stream",
          "text": [
            "Training until validation scores don't improve for 200 rounds.\n",
            "[100]\tvalid_0's multi_logloss: 0.569071\n",
            "[200]\tvalid_0's multi_logloss: 0.483996\n",
            "[300]\tvalid_0's multi_logloss: 0.458717\n",
            "[400]\tvalid_0's multi_logloss: 0.45303\n",
            "[500]\tvalid_0's multi_logloss: 0.455839\n",
            "Early stopping, best iteration is:\n",
            "[395]\tvalid_0's multi_logloss: 0.452758\n",
            "Log Loss:  0.4527584900513695\n"
          ],
          "name": "stdout"
        },
        {
          "output_type": "stream",
          "text": [
            "/usr/local/lib/python3.6/dist-packages/lightgbm/engine.py:118: UserWarning: Found `num_iterations` in params. Will use it instead of argument\n",
            "  warnings.warn(\"Found `{}` in params. Will use it instead of argument\".format(alias))\n"
          ],
          "name": "stderr"
        },
        {
          "output_type": "stream",
          "text": [
            "Training until validation scores don't improve for 200 rounds.\n",
            "[100]\tvalid_0's multi_logloss: 0.555665\n",
            "[200]\tvalid_0's multi_logloss: 0.464878\n",
            "[300]\tvalid_0's multi_logloss: 0.434328\n",
            "[400]\tvalid_0's multi_logloss: 0.426612\n",
            "[500]\tvalid_0's multi_logloss: 0.425775\n",
            "[600]\tvalid_0's multi_logloss: 0.428257\n",
            "[700]\tvalid_0's multi_logloss: 0.431428\n",
            "Early stopping, best iteration is:\n",
            "[508]\tvalid_0's multi_logloss: 0.425303\n",
            "Log Loss:  0.4253034800583961\n"
          ],
          "name": "stdout"
        },
        {
          "output_type": "stream",
          "text": [
            "/usr/local/lib/python3.6/dist-packages/lightgbm/engine.py:118: UserWarning: Found `num_iterations` in params. Will use it instead of argument\n",
            "  warnings.warn(\"Found `{}` in params. Will use it instead of argument\".format(alias))\n"
          ],
          "name": "stderr"
        },
        {
          "output_type": "stream",
          "text": [
            "Training until validation scores don't improve for 200 rounds.\n",
            "[100]\tvalid_0's multi_logloss: 0.560389\n",
            "[200]\tvalid_0's multi_logloss: 0.463166\n",
            "[300]\tvalid_0's multi_logloss: 0.431809\n",
            "[400]\tvalid_0's multi_logloss: 0.419748\n",
            "[500]\tvalid_0's multi_logloss: 0.414606\n",
            "[600]\tvalid_0's multi_logloss: 0.412139\n",
            "[700]\tvalid_0's multi_logloss: 0.412592\n",
            "Early stopping, best iteration is:\n",
            "[586]\tvalid_0's multi_logloss: 0.411719\n",
            "Log Loss:  0.41171908485988296\n"
          ],
          "name": "stdout"
        },
        {
          "output_type": "stream",
          "text": [
            "/usr/local/lib/python3.6/dist-packages/lightgbm/engine.py:118: UserWarning: Found `num_iterations` in params. Will use it instead of argument\n",
            "  warnings.warn(\"Found `{}` in params. Will use it instead of argument\".format(alias))\n"
          ],
          "name": "stderr"
        },
        {
          "output_type": "stream",
          "text": [
            "Training until validation scores don't improve for 200 rounds.\n",
            "[100]\tvalid_0's multi_logloss: 0.543943\n",
            "[200]\tvalid_0's multi_logloss: 0.448177\n",
            "[300]\tvalid_0's multi_logloss: 0.422225\n",
            "[400]\tvalid_0's multi_logloss: 0.415982\n",
            "[500]\tvalid_0's multi_logloss: 0.416505\n",
            "[600]\tvalid_0's multi_logloss: 0.421326\n",
            "Early stopping, best iteration is:\n",
            "[444]\tvalid_0's multi_logloss: 0.415046\n",
            "Log Loss:  0.41504647959029173\n"
          ],
          "name": "stdout"
        },
        {
          "output_type": "stream",
          "text": [
            "/usr/local/lib/python3.6/dist-packages/lightgbm/engine.py:118: UserWarning: Found `num_iterations` in params. Will use it instead of argument\n",
            "  warnings.warn(\"Found `{}` in params. Will use it instead of argument\".format(alias))\n"
          ],
          "name": "stderr"
        },
        {
          "output_type": "stream",
          "text": [
            "Training until validation scores don't improve for 200 rounds.\n",
            "[100]\tvalid_0's multi_logloss: 0.557038\n",
            "[200]\tvalid_0's multi_logloss: 0.460101\n",
            "[300]\tvalid_0's multi_logloss: 0.431001\n",
            "[400]\tvalid_0's multi_logloss: 0.421904\n",
            "[500]\tvalid_0's multi_logloss: 0.419398\n",
            "[600]\tvalid_0's multi_logloss: 0.418892\n",
            "[700]\tvalid_0's multi_logloss: 0.421586\n",
            "Early stopping, best iteration is:\n",
            "[572]\tvalid_0's multi_logloss: 0.418664\n",
            "Log Loss:  0.4186636049696577\n"
          ],
          "name": "stdout"
        },
        {
          "output_type": "stream",
          "text": [
            "/usr/local/lib/python3.6/dist-packages/lightgbm/engine.py:118: UserWarning: Found `num_iterations` in params. Will use it instead of argument\n",
            "  warnings.warn(\"Found `{}` in params. Will use it instead of argument\".format(alias))\n"
          ],
          "name": "stderr"
        },
        {
          "output_type": "stream",
          "text": [
            "Training until validation scores don't improve for 200 rounds.\n",
            "[100]\tvalid_0's multi_logloss: 0.55458\n",
            "[200]\tvalid_0's multi_logloss: 0.444116\n",
            "[300]\tvalid_0's multi_logloss: 0.407422\n",
            "[400]\tvalid_0's multi_logloss: 0.390961\n",
            "[500]\tvalid_0's multi_logloss: 0.383894\n",
            "[600]\tvalid_0's multi_logloss: 0.382456\n",
            "[700]\tvalid_0's multi_logloss: 0.384616\n",
            "Early stopping, best iteration is:\n",
            "[598]\tvalid_0's multi_logloss: 0.382401\n",
            "Log Loss:  0.382400529203833\n"
          ],
          "name": "stdout"
        },
        {
          "output_type": "stream",
          "text": [
            "/usr/local/lib/python3.6/dist-packages/lightgbm/engine.py:118: UserWarning: Found `num_iterations` in params. Will use it instead of argument\n",
            "  warnings.warn(\"Found `{}` in params. Will use it instead of argument\".format(alias))\n"
          ],
          "name": "stderr"
        },
        {
          "output_type": "stream",
          "text": [
            "Training until validation scores don't improve for 200 rounds.\n",
            "[100]\tvalid_0's multi_logloss: 0.566076\n",
            "[200]\tvalid_0's multi_logloss: 0.469461\n",
            "[300]\tvalid_0's multi_logloss: 0.435494\n",
            "[400]\tvalid_0's multi_logloss: 0.420331\n",
            "[500]\tvalid_0's multi_logloss: 0.413115\n",
            "[600]\tvalid_0's multi_logloss: 0.411135\n",
            "[700]\tvalid_0's multi_logloss: 0.411438\n",
            "[800]\tvalid_0's multi_logloss: 0.413648\n",
            "Early stopping, best iteration is:\n",
            "[669]\tvalid_0's multi_logloss: 0.410776\n",
            "Log Loss:  0.4107760381984167\n"
          ],
          "name": "stdout"
        },
        {
          "output_type": "stream",
          "text": [
            "/usr/local/lib/python3.6/dist-packages/lightgbm/engine.py:118: UserWarning: Found `num_iterations` in params. Will use it instead of argument\n",
            "  warnings.warn(\"Found `{}` in params. Will use it instead of argument\".format(alias))\n"
          ],
          "name": "stderr"
        },
        {
          "output_type": "stream",
          "text": [
            "Training until validation scores don't improve for 200 rounds.\n",
            "[100]\tvalid_0's multi_logloss: 0.556707\n",
            "[200]\tvalid_0's multi_logloss: 0.457817\n",
            "[300]\tvalid_0's multi_logloss: 0.429674\n",
            "[400]\tvalid_0's multi_logloss: 0.42278\n",
            "[500]\tvalid_0's multi_logloss: 0.422575\n",
            "[600]\tvalid_0's multi_logloss: 0.425657\n",
            "Early stopping, best iteration is:\n",
            "[432]\tvalid_0's multi_logloss: 0.4222\n",
            "Log Loss:  0.422199983606301\n"
          ],
          "name": "stdout"
        },
        {
          "output_type": "stream",
          "text": [
            "/usr/local/lib/python3.6/dist-packages/lightgbm/engine.py:118: UserWarning: Found `num_iterations` in params. Will use it instead of argument\n",
            "  warnings.warn(\"Found `{}` in params. Will use it instead of argument\".format(alias))\n"
          ],
          "name": "stderr"
        },
        {
          "output_type": "stream",
          "text": [
            "Training until validation scores don't improve for 200 rounds.\n",
            "[100]\tvalid_0's multi_logloss: 0.555856\n",
            "[200]\tvalid_0's multi_logloss: 0.460773\n",
            "[300]\tvalid_0's multi_logloss: 0.430946\n",
            "[400]\tvalid_0's multi_logloss: 0.42431\n",
            "[500]\tvalid_0's multi_logloss: 0.42248\n",
            "[600]\tvalid_0's multi_logloss: 0.42392\n",
            "[700]\tvalid_0's multi_logloss: 0.425687\n",
            "Early stopping, best iteration is:\n",
            "[528]\tvalid_0's multi_logloss: 0.421928\n",
            "Log Loss:  0.4219277678768718\n"
          ],
          "name": "stdout"
        },
        {
          "output_type": "stream",
          "text": [
            "/usr/local/lib/python3.6/dist-packages/lightgbm/engine.py:118: UserWarning: Found `num_iterations` in params. Will use it instead of argument\n",
            "  warnings.warn(\"Found `{}` in params. Will use it instead of argument\".format(alias))\n"
          ],
          "name": "stderr"
        },
        {
          "output_type": "stream",
          "text": [
            "Training until validation scores don't improve for 200 rounds.\n",
            "[100]\tvalid_0's multi_logloss: 0.548315\n",
            "[200]\tvalid_0's multi_logloss: 0.448313\n",
            "[300]\tvalid_0's multi_logloss: 0.415344\n",
            "[400]\tvalid_0's multi_logloss: 0.403218\n",
            "[500]\tvalid_0's multi_logloss: 0.398415\n",
            "[600]\tvalid_0's multi_logloss: 0.399325\n",
            "[700]\tvalid_0's multi_logloss: 0.40263\n",
            "Early stopping, best iteration is:\n",
            "[530]\tvalid_0's multi_logloss: 0.398081\n",
            "Log Loss:  0.39808132252727035\n"
          ],
          "name": "stdout"
        },
        {
          "output_type": "stream",
          "text": [
            "/usr/local/lib/python3.6/dist-packages/lightgbm/engine.py:118: UserWarning: Found `num_iterations` in params. Will use it instead of argument\n",
            "  warnings.warn(\"Found `{}` in params. Will use it instead of argument\".format(alias))\n"
          ],
          "name": "stderr"
        },
        {
          "output_type": "stream",
          "text": [
            "Training until validation scores don't improve for 200 rounds.\n",
            "[100]\tvalid_0's multi_logloss: 0.586321\n",
            "[200]\tvalid_0's multi_logloss: 0.503204\n",
            "[300]\tvalid_0's multi_logloss: 0.48323\n",
            "[400]\tvalid_0's multi_logloss: 0.48231\n",
            "[500]\tvalid_0's multi_logloss: 0.488052\n",
            "Early stopping, best iteration is:\n",
            "[352]\tvalid_0's multi_logloss: 0.480716\n",
            "Log Loss:  0.48071578664520204\n"
          ],
          "name": "stdout"
        },
        {
          "output_type": "stream",
          "text": [
            "/usr/local/lib/python3.6/dist-packages/lightgbm/engine.py:118: UserWarning: Found `num_iterations` in params. Will use it instead of argument\n",
            "  warnings.warn(\"Found `{}` in params. Will use it instead of argument\".format(alias))\n"
          ],
          "name": "stderr"
        },
        {
          "output_type": "stream",
          "text": [
            "Training until validation scores don't improve for 200 rounds.\n",
            "[100]\tvalid_0's multi_logloss: 0.559838\n",
            "[200]\tvalid_0's multi_logloss: 0.460484\n",
            "[300]\tvalid_0's multi_logloss: 0.425215\n",
            "[400]\tvalid_0's multi_logloss: 0.410507\n",
            "[500]\tvalid_0's multi_logloss: 0.40115\n",
            "[600]\tvalid_0's multi_logloss: 0.395746\n",
            "[700]\tvalid_0's multi_logloss: 0.391345\n",
            "[800]\tvalid_0's multi_logloss: 0.390256\n",
            "[900]\tvalid_0's multi_logloss: 0.391602\n",
            "Early stopping, best iteration is:\n",
            "[780]\tvalid_0's multi_logloss: 0.389945\n",
            "Log Loss:  0.38994489939130056\n"
          ],
          "name": "stdout"
        }
      ]
    },
    {
      "cell_type": "code",
      "metadata": {
        "id": "k92XdbGRaCsw",
        "colab_type": "code",
        "colab": {
          "base_uri": "https://localhost:8080/",
          "height": 33
        },
        "outputId": "faf8ceb2-d829-4df5-dd83-3b5df6613e6d"
      },
      "source": [
        "np.mean(errlgb,0)"
      ],
      "execution_count": null,
      "outputs": [
        {
          "output_type": "execute_result",
          "data": {
            "text/plain": [
              "0.4113638308249091"
            ]
          },
          "metadata": {
            "tags": []
          },
          "execution_count": 29
        }
      ]
    },
    {
      "cell_type": "code",
      "metadata": {
        "id": "mIDmFAHxxECl",
        "colab_type": "code",
        "colab": {
          "base_uri": "https://localhost:8080/",
          "height": 33
        },
        "outputId": "19da2c5e-9cae-4078-d372-15b85f4ad2fe"
      },
      "source": [
        "'''\n",
        "x=[]\n",
        "for i in errlgb:\n",
        "  if i>0.43:\n",
        "    xx=errlgb.index(i)\n",
        "    x.append(xx)\n",
        "x=sorted(x, reverse=True)\n",
        "print(x)\n",
        "for i in x:\n",
        "  del y_pred_totlgb[i]\n",
        "  del errlgb[i]\n",
        "'''"
      ],
      "execution_count": null,
      "outputs": [
        {
          "output_type": "execute_result",
          "data": {
            "text/plain": [
              "[9, 4, 3]"
            ]
          },
          "metadata": {
            "tags": []
          },
          "execution_count": 94
        }
      ]
    },
    {
      "cell_type": "code",
      "metadata": {
        "id": "7CJMbgevbQtl",
        "colab_type": "code",
        "colab": {}
      },
      "source": [
        "y_pred = np.mean(y_pred_totlgb,0)"
      ],
      "execution_count": null,
      "outputs": []
    },
    {
      "cell_type": "code",
      "metadata": {
        "id": "LWFDdtpybUqj",
        "colab_type": "code",
        "colab": {
          "base_uri": "https://localhost:8080/",
          "height": 190
        },
        "outputId": "86f36a28-60e8-40bf-9b98-8f4f9a3a9a69"
      },
      "source": [
        "submission = pd.DataFrame(data=y_pred, columns=sub.columns)\n",
        "submission.head()"
      ],
      "execution_count": null,
      "outputs": [
        {
          "output_type": "execute_result",
          "data": {
            "text/html": [
              "<div>\n",
              "<style scoped>\n",
              "    .dataframe tbody tr th:only-of-type {\n",
              "        vertical-align: middle;\n",
              "    }\n",
              "\n",
              "    .dataframe tbody tr th {\n",
              "        vertical-align: top;\n",
              "    }\n",
              "\n",
              "    .dataframe thead th {\n",
              "        text-align: right;\n",
              "    }\n",
              "</style>\n",
              "<table border=\"1\" class=\"dataframe\">\n",
              "  <thead>\n",
              "    <tr style=\"text-align: right;\">\n",
              "      <th></th>\n",
              "      <th>0</th>\n",
              "      <th>1</th>\n",
              "      <th>2</th>\n",
              "      <th>3</th>\n",
              "    </tr>\n",
              "  </thead>\n",
              "  <tbody>\n",
              "    <tr>\n",
              "      <th>0</th>\n",
              "      <td>0.001124</td>\n",
              "      <td>0.023857</td>\n",
              "      <td>0.026353</td>\n",
              "      <td>0.948667</td>\n",
              "    </tr>\n",
              "    <tr>\n",
              "      <th>1</th>\n",
              "      <td>0.029278</td>\n",
              "      <td>0.021938</td>\n",
              "      <td>0.865043</td>\n",
              "      <td>0.083742</td>\n",
              "    </tr>\n",
              "    <tr>\n",
              "      <th>2</th>\n",
              "      <td>0.006872</td>\n",
              "      <td>0.007179</td>\n",
              "      <td>0.919813</td>\n",
              "      <td>0.066136</td>\n",
              "    </tr>\n",
              "    <tr>\n",
              "      <th>3</th>\n",
              "      <td>0.000894</td>\n",
              "      <td>0.032677</td>\n",
              "      <td>0.035199</td>\n",
              "      <td>0.931231</td>\n",
              "    </tr>\n",
              "    <tr>\n",
              "      <th>4</th>\n",
              "      <td>0.008524</td>\n",
              "      <td>0.009883</td>\n",
              "      <td>0.926684</td>\n",
              "      <td>0.054909</td>\n",
              "    </tr>\n",
              "  </tbody>\n",
              "</table>\n",
              "</div>"
            ],
            "text/plain": [
              "          0         1         2         3\n",
              "0  0.001124  0.023857  0.026353  0.948667\n",
              "1  0.029278  0.021938  0.865043  0.083742\n",
              "2  0.006872  0.007179  0.919813  0.066136\n",
              "3  0.000894  0.032677  0.035199  0.931231\n",
              "4  0.008524  0.009883  0.926684  0.054909"
            ]
          },
          "metadata": {
            "tags": []
          },
          "execution_count": 31
        }
      ]
    },
    {
      "cell_type": "code",
      "metadata": {
        "id": "6PbcdiA9kDnS",
        "colab_type": "code",
        "colab": {}
      },
      "source": [
        "submission.to_csv('Mh13.csv', index=False)"
      ],
      "execution_count": null,
      "outputs": []
    },
    {
      "cell_type": "code",
      "metadata": {
        "id": "cVaJ1nKOlh4l",
        "colab_type": "code",
        "colab": {}
      },
      "source": [
        ""
      ],
      "execution_count": null,
      "outputs": []
    },
    {
      "cell_type": "markdown",
      "metadata": {
        "id": "z-T5SIVAehwn",
        "colab_type": "text"
      },
      "source": [
        "# r1"
      ]
    },
    {
      "cell_type": "code",
      "metadata": {
        "id": "MB1TSFYHfTtK",
        "colab_type": "code",
        "colab": {}
      },
      "source": [
        "import pandas as pd\n",
        "from sklearn.model_selection import train_test_split\n",
        "import lightgbm as lgb\n",
        "from lightgbm import LGBMClassifier\n",
        "from sklearn.metrics import log_loss\n",
        "from tqdm import tqdm_notebook\n",
        "from sklearn.utils import shuffle"
      ],
      "execution_count": null,
      "outputs": []
    },
    {
      "cell_type": "code",
      "metadata": {
        "id": "NYbZwb7KekRZ",
        "colab_type": "code",
        "colab": {}
      },
      "source": [
        "TARGET_COL ='Sentiment'\n",
        "train, test = df.iloc[:train.shape[0]], df.iloc[train.shape[0]:]\n",
        "test.reset_index(drop=True, inplace=True)\n",
        "target = train[TARGET_COL]\n",
        "features = [c for c in train.columns if c not in [TARGET_COL]]"
      ],
      "execution_count": null,
      "outputs": []
    },
    {
      "cell_type": "code",
      "metadata": {
        "id": "cJKlLYYRekXf",
        "colab_type": "code",
        "colab": {}
      },
      "source": [
        "X_trn, X_val, y_trn, y_val = train_test_split(train[features], target, test_size=0.10, stratify=target, random_state=101)\n",
        "X_test = test[features]"
      ],
      "execution_count": null,
      "outputs": []
    },
    {
      "cell_type": "code",
      "metadata": {
        "id": "6HJlN2y2ekP1",
        "colab_type": "code",
        "colab": {
          "base_uri": "https://localhost:8080/",
          "height": 168
        },
        "outputId": "1ef57971-f5ac-4a1a-f8c8-061900329f3f"
      },
      "source": [
        "clf = LGBMClassifier(boosting='gbdt',learning_rate=0.01, n_estimators=1000,num_leaves=31)\n",
        "_ = clf.fit(X_trn, y_trn, eval_set=[(X_trn, y_trn), (X_val, y_val)], verbose=100, early_stopping_rounds=100)\n",
        "predictions_val_lgb = clf.predict_proba(X_val)\n",
        "print(f\"Log loss for Model 1 is: {log_loss(y_val, predictions_val_lgb)}\")"
      ],
      "execution_count": null,
      "outputs": [
        {
          "output_type": "stream",
          "text": [
            "Training until validation scores don't improve for 100 rounds.\n",
            "[100]\ttraining's multi_logloss: 0.470689\tvalid_1's multi_logloss: 0.534132\n",
            "[200]\ttraining's multi_logloss: 0.327146\tvalid_1's multi_logloss: 0.437191\n",
            "[300]\ttraining's multi_logloss: 0.256612\tvalid_1's multi_logloss: 0.408668\n",
            "[400]\ttraining's multi_logloss: 0.2118\tvalid_1's multi_logloss: 0.402501\n",
            "[500]\ttraining's multi_logloss: 0.176346\tvalid_1's multi_logloss: 0.400943\n",
            "Early stopping, best iteration is:\n",
            "[480]\ttraining's multi_logloss: 0.182662\tvalid_1's multi_logloss: 0.400787\n",
            "Log loss for Model 1 is: 0.4007872709033161\n"
          ],
          "name": "stdout"
        }
      ]
    },
    {
      "cell_type": "code",
      "metadata": {
        "id": "wFLZwgpZfANJ",
        "colab_type": "code",
        "colab": {
          "base_uri": "https://localhost:8080/",
          "height": 282
        },
        "outputId": "ab9b6c9c-2211-4e65-8073-f530fefafa03"
      },
      "source": [
        "fi = pd.Series(index=features, data = clf.feature_importances_)\n",
        "fi.sort_values(ascending=False)[:20][::-1].plot.barh()"
      ],
      "execution_count": null,
      "outputs": [
        {
          "output_type": "execute_result",
          "data": {
            "text/plain": [
              "<matplotlib.axes._subplots.AxesSubplot at 0x7fce879e3320>"
            ]
          },
          "metadata": {
            "tags": []
          },
          "execution_count": 63
        },
        {
          "output_type": "display_data",
          "data": {
            "image/png": "[encoded data removed]",
            "text/plain": [
              "<Figure size 432x288 with 1 Axes>"
            ]
          },
          "metadata": {
            "tags": [],
            "needs_background": "light"
          }
        }
      ]
    },
    {
      "cell_type": "code",
      "metadata": {
        "id": "_fpfJjGufcIk",
        "colab_type": "code",
        "colab": {}
      },
      "source": [
        "predictions_test_lgb = clf.predict_proba(X_test)"
      ],
      "execution_count": null,
      "outputs": []
    },
    {
      "cell_type": "code",
      "metadata": {
        "id": "FkBb1WGpftCh",
        "colab_type": "code",
        "colab": {
          "base_uri": "https://localhost:8080/",
          "height": 190
        },
        "outputId": "22490e52-82d0-4fd1-d2b8-e4a762a5c044"
      },
      "source": [
        "submission = pd.DataFrame(data=predictions_test_lgb, columns=sub.columns)\n",
        "submission.head()"
      ],
      "execution_count": null,
      "outputs": [
        {
          "output_type": "execute_result",
          "data": {
            "text/html": [
              "<div>\n",
              "<style scoped>\n",
              "    .dataframe tbody tr th:only-of-type {\n",
              "        vertical-align: middle;\n",
              "    }\n",
              "\n",
              "    .dataframe tbody tr th {\n",
              "        vertical-align: top;\n",
              "    }\n",
              "\n",
              "    .dataframe thead th {\n",
              "        text-align: right;\n",
              "    }\n",
              "</style>\n",
              "<table border=\"1\" class=\"dataframe\">\n",
              "  <thead>\n",
              "    <tr style=\"text-align: right;\">\n",
              "      <th></th>\n",
              "      <th>0</th>\n",
              "      <th>1</th>\n",
              "      <th>2</th>\n",
              "      <th>3</th>\n",
              "    </tr>\n",
              "  </thead>\n",
              "  <tbody>\n",
              "    <tr>\n",
              "      <th>0</th>\n",
              "      <td>0.001591</td>\n",
              "      <td>0.025534</td>\n",
              "      <td>0.035470</td>\n",
              "      <td>0.937405</td>\n",
              "    </tr>\n",
              "    <tr>\n",
              "      <th>1</th>\n",
              "      <td>0.018560</td>\n",
              "      <td>0.015505</td>\n",
              "      <td>0.881807</td>\n",
              "      <td>0.084128</td>\n",
              "    </tr>\n",
              "    <tr>\n",
              "      <th>2</th>\n",
              "      <td>0.005965</td>\n",
              "      <td>0.009453</td>\n",
              "      <td>0.898941</td>\n",
              "      <td>0.085642</td>\n",
              "    </tr>\n",
              "    <tr>\n",
              "      <th>3</th>\n",
              "      <td>0.001241</td>\n",
              "      <td>0.046230</td>\n",
              "      <td>0.026620</td>\n",
              "      <td>0.925909</td>\n",
              "    </tr>\n",
              "    <tr>\n",
              "      <th>4</th>\n",
              "      <td>0.009184</td>\n",
              "      <td>0.003723</td>\n",
              "      <td>0.930938</td>\n",
              "      <td>0.056155</td>\n",
              "    </tr>\n",
              "  </tbody>\n",
              "</table>\n",
              "</div>"
            ],
            "text/plain": [
              "          0         1         2         3\n",
              "0  0.001591  0.025534  0.035470  0.937405\n",
              "1  0.018560  0.015505  0.881807  0.084128\n",
              "2  0.005965  0.009453  0.898941  0.085642\n",
              "3  0.001241  0.046230  0.026620  0.925909\n",
              "4  0.009184  0.003723  0.930938  0.056155"
            ]
          },
          "metadata": {
            "tags": []
          },
          "execution_count": 54
        }
      ]
    },
    {
      "cell_type": "code",
      "metadata": {
        "id": "wnxlULVWfyv1",
        "colab_type": "code",
        "colab": {}
      },
      "source": [
        "submission.to_csv('Mh9.csv', index=False)"
      ],
      "execution_count": null,
      "outputs": []
    },
    {
      "cell_type": "code",
      "metadata": {
        "id": "mduu8v_jxtug",
        "colab_type": "code",
        "colab": {}
      },
      "source": [
        ""
      ],
      "execution_count": null,
      "outputs": []
    }
  ]
}