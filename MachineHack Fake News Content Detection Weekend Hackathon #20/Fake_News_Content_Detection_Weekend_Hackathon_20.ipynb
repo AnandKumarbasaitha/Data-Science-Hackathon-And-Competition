{
  "nbformat": 4,
  "nbformat_minor": 0,
  "metadata": {
    "colab": {
      "name": "Fake News Content Detection: Weekend Hackathon #20.ipynb",
      "provenance": [],
      "collapsed_sections": [
        "z-T5SIVAehwn",
        "Nhmwlz-TkHCY"
      ]
    },
    "kernelspec": {
      "name": "python3",
      "display_name": "Python 3"
    },
    "accelerator": "GPU"
  },
  "cells": [
    {
      "cell_type": "code",
      "metadata": {
        "id": "zY6FVElvh21I",
        "colab_type": "code",
        "colab": {
          "base_uri": "https://localhost:8080/",
          "height": 201
        },
        "outputId": "0000fa60-a3e5-4560-abaa-b65df1b47ffa"
      },
      "source": [
        "!wget https://machinehack-be.s3.amazonaws.com/fake_news_content_detection_weekend_hackathon_20/Participants_Data_WH20.zip"
      ],
      "execution_count": 3,
      "outputs": [
        {
          "output_type": "stream",
          "text": [
            "--2020-09-13 19:09:13--  https://machinehack-be.s3.amazonaws.com/fake_news_content_detection_weekend_hackathon_20/Participants_Data_WH20.zip\n",
            "Resolving machinehack-be.s3.amazonaws.com (machinehack-be.s3.amazonaws.com)... 52.219.66.60\n",
            "Connecting to machinehack-be.s3.amazonaws.com (machinehack-be.s3.amazonaws.com)|52.219.66.60|:443... connected.\n",
            "HTTP request sent, awaiting response... 200 OK\n",
            "Length: 565484 (552K) [application/zip]\n",
            "Saving to: ‘Participants_Data_WH20.zip.1’\n",
            "\n",
            "Participants_Data_W 100%[===================>] 552.23K   469KB/s    in 1.2s    \n",
            "\n",
            "2020-09-13 19:09:15 (469 KB/s) - ‘Participants_Data_WH20.zip.1’ saved [565484/565484]\n",
            "\n"
          ],
          "name": "stdout"
        }
      ]
    },
    {
      "cell_type": "code",
      "metadata": {
        "id": "Qh2sNIbTiANU",
        "colab_type": "code",
        "colab": {
          "base_uri": "https://localhost:8080/",
          "height": 151
        },
        "outputId": "8603893f-338d-477e-caed-1d664c4c8408"
      },
      "source": [
        "!unzip Participants_Data_WH20.zip"
      ],
      "execution_count": 4,
      "outputs": [
        {
          "output_type": "stream",
          "text": [
            "Archive:  Participants_Data_WH20.zip\n",
            "replace Participants_Data_WH20/sample submission.csv? [y]es, [n]o, [A]ll, [N]one, [r]ename: A\n",
            "  inflating: Participants_Data_WH20/sample submission.csv  \n",
            "  inflating: __MACOSX/Participants_Data_WH20/._sample submission.csv  \n",
            "  inflating: Participants_Data_WH20/Test.csv  \n",
            "  inflating: __MACOSX/Participants_Data_WH20/._Test.csv  \n",
            "  inflating: Participants_Data_WH20/Train.csv  \n",
            "  inflating: __MACOSX/Participants_Data_WH20/._Train.csv  \n"
          ],
          "name": "stdout"
        }
      ]
    },
    {
      "cell_type": "code",
      "metadata": {
        "id": "IDcsgZqfiLmA",
        "colab_type": "code",
        "colab": {
          "base_uri": "https://localhost:8080/",
          "height": 974
        },
        "outputId": "c3879d31-5f45-4cb6-ab30-2535a2806a55"
      },
      "source": [
        "import pandas as pd\n",
        "import numpy as np\n",
        "import matplotlib.pyplot as plt\n",
        "%matplotlib inline\n",
        "import warnings\n",
        "warnings.simplefilter(action='ignore', category=FutureWarning)\n",
        "!pip install rfpimp\n",
        "!pip install catboost\n",
        "from sklearn.metrics import mean_absolute_error,accuracy_score\n",
        "import lightgbm as lgb\n",
        "from sklearn.linear_model import LinearRegression\n",
        "from sklearn.model_selection import StratifiedKFold,KFold,GridSearchCV,GroupKFold,train_test_split,StratifiedShuffleSplit\n",
        "from rfpimp import *\n",
        "from tqdm import tqdm\n",
        "from catboost import *\n",
        "from sklearn.neighbors import KNeighborsClassifier\n",
        "from xgboost import XGBClassifier\n",
        "from sklearn.preprocessing import LabelEncoder\n",
        "from fastai.text import *\n",
        "from fastai.imports import *\n",
        "from fastai.text import *\n",
        "from fastai import *\n",
        "path = Path('/content/Participants_Data_WH20/')\n",
        "path.ls()\n",
        "%matplotlib inline\n",
        "\n",
        "from sklearn.ensemble import *\n",
        "from sklearn.model_selection import *\n",
        "from sklearn.metrics import *\n",
        "from catboost import CatBoostClassifier\n",
        "import nltk\n",
        "!pip install sentence-transformers\n",
        "from sentence_transformers import SentenceTransformer"
      ],
      "execution_count": 5,
      "outputs": [
        {
          "output_type": "stream",
          "text": [
            "Requirement already satisfied: rfpimp in /usr/local/lib/python3.6/dist-packages (1.3.5)\n",
            "Requirement already satisfied: pandas in /usr/local/lib/python3.6/dist-packages (from rfpimp) (1.0.5)\n",
            "Requirement already satisfied: matplotlib in /usr/local/lib/python3.6/dist-packages (from rfpimp) (3.2.2)\n",
            "Requirement already satisfied: stratx>=0.2 in /usr/local/lib/python3.6/dist-packages (from rfpimp) (0.4.1)\n",
            "Requirement already satisfied: scikit-learn in /usr/local/lib/python3.6/dist-packages (from rfpimp) (0.22.2.post1)\n",
            "Requirement already satisfied: numpy in /usr/local/lib/python3.6/dist-packages (from rfpimp) (1.18.5)\n",
            "Requirement already satisfied: python-dateutil>=2.6.1 in /usr/local/lib/python3.6/dist-packages (from pandas->rfpimp) (2.8.1)\n",
            "Requirement already satisfied: pytz>=2017.2 in /usr/local/lib/python3.6/dist-packages (from pandas->rfpimp) (2018.9)\n",
            "Requirement already satisfied: pyparsing!=2.0.4,!=2.1.2,!=2.1.6,>=2.0.1 in /usr/local/lib/python3.6/dist-packages (from matplotlib->rfpimp) (2.4.7)\n",
            "Requirement already satisfied: kiwisolver>=1.0.1 in /usr/local/lib/python3.6/dist-packages (from matplotlib->rfpimp) (1.2.0)\n",
            "Requirement already satisfied: cycler>=0.10 in /usr/local/lib/python3.6/dist-packages (from matplotlib->rfpimp) (0.10.0)\n",
            "Requirement already satisfied: scipy in /usr/local/lib/python3.6/dist-packages (from stratx>=0.2->rfpimp) (1.4.1)\n",
            "Requirement already satisfied: colour in /usr/local/lib/python3.6/dist-packages (from stratx>=0.2->rfpimp) (0.1.5)\n",
            "Requirement already satisfied: numba in /usr/local/lib/python3.6/dist-packages (from stratx>=0.2->rfpimp) (0.48.0)\n",
            "Requirement already satisfied: joblib>=0.11 in /usr/local/lib/python3.6/dist-packages (from scikit-learn->rfpimp) (0.16.0)\n",
            "Requirement already satisfied: six>=1.5 in /usr/local/lib/python3.6/dist-packages (from python-dateutil>=2.6.1->pandas->rfpimp) (1.15.0)\n",
            "Requirement already satisfied: llvmlite<0.32.0,>=0.31.0dev0 in /usr/local/lib/python3.6/dist-packages (from numba->stratx>=0.2->rfpimp) (0.31.0)\n",
            "Requirement already satisfied: setuptools in /usr/local/lib/python3.6/dist-packages (from numba->stratx>=0.2->rfpimp) (49.6.0)\n",
            "Requirement already satisfied: catboost in /usr/local/lib/python3.6/dist-packages (0.24.1)\n",
            "Requirement already satisfied: graphviz in /usr/local/lib/python3.6/dist-packages (from catboost) (0.10.1)\n",
            "Requirement already satisfied: matplotlib in /usr/local/lib/python3.6/dist-packages (from catboost) (3.2.2)\n",
            "Requirement already satisfied: numpy>=1.16.0 in /usr/local/lib/python3.6/dist-packages (from catboost) (1.18.5)\n",
            "Requirement already satisfied: scipy in /usr/local/lib/python3.6/dist-packages (from catboost) (1.4.1)\n",
            "Requirement already satisfied: six in /usr/local/lib/python3.6/dist-packages (from catboost) (1.15.0)\n",
            "Requirement already satisfied: plotly in /usr/local/lib/python3.6/dist-packages (from catboost) (4.4.1)\n",
            "Requirement already satisfied: pandas>=0.24.0 in /usr/local/lib/python3.6/dist-packages (from catboost) (1.0.5)\n",
            "Requirement already satisfied: cycler>=0.10 in /usr/local/lib/python3.6/dist-packages (from matplotlib->catboost) (0.10.0)\n",
            "Requirement already satisfied: pyparsing!=2.0.4,!=2.1.2,!=2.1.6,>=2.0.1 in /usr/local/lib/python3.6/dist-packages (from matplotlib->catboost) (2.4.7)\n",
            "Requirement already satisfied: python-dateutil>=2.1 in /usr/local/lib/python3.6/dist-packages (from matplotlib->catboost) (2.8.1)\n",
            "Requirement already satisfied: kiwisolver>=1.0.1 in /usr/local/lib/python3.6/dist-packages (from matplotlib->catboost) (1.2.0)\n",
            "Requirement already satisfied: retrying>=1.3.3 in /usr/local/lib/python3.6/dist-packages (from plotly->catboost) (1.3.3)\n",
            "Requirement already satisfied: pytz>=2017.2 in /usr/local/lib/python3.6/dist-packages (from pandas>=0.24.0->catboost) (2018.9)\n",
            "Requirement already satisfied: sentence-transformers in /usr/local/lib/python3.6/dist-packages (0.3.6)\n",
            "Requirement already satisfied: transformers<3.2.0,>=3.1.0 in /usr/local/lib/python3.6/dist-packages (from sentence-transformers) (3.1.0)\n",
            "Requirement already satisfied: nltk in /usr/local/lib/python3.6/dist-packages (from sentence-transformers) (3.2.5)\n",
            "Requirement already satisfied: scikit-learn in /usr/local/lib/python3.6/dist-packages (from sentence-transformers) (0.22.2.post1)\n",
            "Requirement already satisfied: numpy in /usr/local/lib/python3.6/dist-packages (from sentence-transformers) (1.18.5)\n",
            "Requirement already satisfied: tqdm in /usr/local/lib/python3.6/dist-packages (from sentence-transformers) (4.41.1)\n",
            "Requirement already satisfied: torch>=1.2.0 in /usr/local/lib/python3.6/dist-packages (from sentence-transformers) (1.6.0+cu101)\n",
            "Requirement already satisfied: scipy in /usr/local/lib/python3.6/dist-packages (from sentence-transformers) (1.4.1)\n",
            "Requirement already satisfied: dataclasses; python_version < \"3.7\" in /usr/local/lib/python3.6/dist-packages (from transformers<3.2.0,>=3.1.0->sentence-transformers) (0.7)\n",
            "Requirement already satisfied: tokenizers==0.8.1.rc2 in /usr/local/lib/python3.6/dist-packages (from transformers<3.2.0,>=3.1.0->sentence-transformers) (0.8.1rc2)\n",
            "Requirement already satisfied: sacremoses in /usr/local/lib/python3.6/dist-packages (from transformers<3.2.0,>=3.1.0->sentence-transformers) (0.0.43)\n",
            "Requirement already satisfied: sentencepiece!=0.1.92 in /usr/local/lib/python3.6/dist-packages (from transformers<3.2.0,>=3.1.0->sentence-transformers) (0.1.91)\n",
            "Requirement already satisfied: regex!=2019.12.17 in /usr/local/lib/python3.6/dist-packages (from transformers<3.2.0,>=3.1.0->sentence-transformers) (2019.12.20)\n",
            "Requirement already satisfied: requests in /usr/local/lib/python3.6/dist-packages (from transformers<3.2.0,>=3.1.0->sentence-transformers) (2.23.0)\n",
            "Requirement already satisfied: filelock in /usr/local/lib/python3.6/dist-packages (from transformers<3.2.0,>=3.1.0->sentence-transformers) (3.0.12)\n",
            "Requirement already satisfied: packaging in /usr/local/lib/python3.6/dist-packages (from transformers<3.2.0,>=3.1.0->sentence-transformers) (20.4)\n",
            "Requirement already satisfied: six in /usr/local/lib/python3.6/dist-packages (from nltk->sentence-transformers) (1.15.0)\n",
            "Requirement already satisfied: joblib>=0.11 in /usr/local/lib/python3.6/dist-packages (from scikit-learn->sentence-transformers) (0.16.0)\n",
            "Requirement already satisfied: future in /usr/local/lib/python3.6/dist-packages (from torch>=1.2.0->sentence-transformers) (0.16.0)\n",
            "Requirement already satisfied: click in /usr/local/lib/python3.6/dist-packages (from sacremoses->transformers<3.2.0,>=3.1.0->sentence-transformers) (7.1.2)\n",
            "Requirement already satisfied: urllib3!=1.25.0,!=1.25.1,<1.26,>=1.21.1 in /usr/local/lib/python3.6/dist-packages (from requests->transformers<3.2.0,>=3.1.0->sentence-transformers) (1.24.3)\n",
            "Requirement already satisfied: certifi>=2017.4.17 in /usr/local/lib/python3.6/dist-packages (from requests->transformers<3.2.0,>=3.1.0->sentence-transformers) (2020.6.20)\n",
            "Requirement already satisfied: chardet<4,>=3.0.2 in /usr/local/lib/python3.6/dist-packages (from requests->transformers<3.2.0,>=3.1.0->sentence-transformers) (3.0.4)\n",
            "Requirement already satisfied: idna<3,>=2.5 in /usr/local/lib/python3.6/dist-packages (from requests->transformers<3.2.0,>=3.1.0->sentence-transformers) (2.10)\n",
            "Requirement already satisfied: pyparsing>=2.0.2 in /usr/local/lib/python3.6/dist-packages (from packaging->transformers<3.2.0,>=3.1.0->sentence-transformers) (2.4.7)\n"
          ],
          "name": "stdout"
        }
      ]
    },
    {
      "cell_type": "code",
      "metadata": {
        "id": "jOX7S9NbiOwS",
        "colab_type": "code",
        "colab": {}
      },
      "source": [
        "train = pd.read_csv('Participants_Data_WH20/Train.csv')\n",
        "test = pd.read_csv('Participants_Data_WH20/Test.csv')\n",
        "sub=pd.read_csv('Participants_Data_WH20/sample submission.csv')"
      ],
      "execution_count": 6,
      "outputs": []
    },
    {
      "cell_type": "code",
      "metadata": {
        "id": "W8kiWT-hN1mD",
        "colab_type": "code",
        "colab": {
          "base_uri": "https://localhost:8080/",
          "height": 190
        },
        "outputId": "0fdf7e51-6782-46dd-d0dc-54b8ab060e5e"
      },
      "source": [
        "train.head(5)"
      ],
      "execution_count": 7,
      "outputs": [
        {
          "output_type": "execute_result",
          "data": {
            "text/html": [
              "<div>\n",
              "<style scoped>\n",
              "    .dataframe tbody tr th:only-of-type {\n",
              "        vertical-align: middle;\n",
              "    }\n",
              "\n",
              "    .dataframe tbody tr th {\n",
              "        vertical-align: top;\n",
              "    }\n",
              "\n",
              "    .dataframe thead th {\n",
              "        text-align: right;\n",
              "    }\n",
              "</style>\n",
              "<table border=\"1\" class=\"dataframe\">\n",
              "  <thead>\n",
              "    <tr style=\"text-align: right;\">\n",
              "      <th></th>\n",
              "      <th>Labels</th>\n",
              "      <th>Text</th>\n",
              "      <th>Text_Tag</th>\n",
              "    </tr>\n",
              "  </thead>\n",
              "  <tbody>\n",
              "    <tr>\n",
              "      <th>0</th>\n",
              "      <td>1</td>\n",
              "      <td>Says the Annies List political group supports ...</td>\n",
              "      <td>abortion</td>\n",
              "    </tr>\n",
              "    <tr>\n",
              "      <th>1</th>\n",
              "      <td>2</td>\n",
              "      <td>When did the decline of coal start? It started...</td>\n",
              "      <td>energy,history,job-accomplishments</td>\n",
              "    </tr>\n",
              "    <tr>\n",
              "      <th>2</th>\n",
              "      <td>3</td>\n",
              "      <td>Hillary Clinton agrees with John McCain \"by vo...</td>\n",
              "      <td>foreign-policy</td>\n",
              "    </tr>\n",
              "    <tr>\n",
              "      <th>3</th>\n",
              "      <td>1</td>\n",
              "      <td>Health care reform legislation is likely to ma...</td>\n",
              "      <td>health-care</td>\n",
              "    </tr>\n",
              "    <tr>\n",
              "      <th>4</th>\n",
              "      <td>2</td>\n",
              "      <td>The economic turnaround started at the end of ...</td>\n",
              "      <td>economy,jobs</td>\n",
              "    </tr>\n",
              "  </tbody>\n",
              "</table>\n",
              "</div>"
            ],
            "text/plain": [
              "   Labels  ...                            Text_Tag\n",
              "0       1  ...                            abortion\n",
              "1       2  ...  energy,history,job-accomplishments\n",
              "2       3  ...                      foreign-policy\n",
              "3       1  ...                         health-care\n",
              "4       2  ...                        economy,jobs\n",
              "\n",
              "[5 rows x 3 columns]"
            ]
          },
          "metadata": {
            "tags": []
          },
          "execution_count": 7
        }
      ]
    },
    {
      "cell_type": "code",
      "metadata": {
        "id": "7kirifXnN1lO",
        "colab_type": "code",
        "colab": {
          "base_uri": "https://localhost:8080/",
          "height": 190
        },
        "outputId": "b7113c28-d077-4880-c436-de108c2c5dfe"
      },
      "source": [
        "test.head(5)"
      ],
      "execution_count": 8,
      "outputs": [
        {
          "output_type": "execute_result",
          "data": {
            "text/html": [
              "<div>\n",
              "<style scoped>\n",
              "    .dataframe tbody tr th:only-of-type {\n",
              "        vertical-align: middle;\n",
              "    }\n",
              "\n",
              "    .dataframe tbody tr th {\n",
              "        vertical-align: top;\n",
              "    }\n",
              "\n",
              "    .dataframe thead th {\n",
              "        text-align: right;\n",
              "    }\n",
              "</style>\n",
              "<table border=\"1\" class=\"dataframe\">\n",
              "  <thead>\n",
              "    <tr style=\"text-align: right;\">\n",
              "      <th></th>\n",
              "      <th>Text</th>\n",
              "      <th>Text_Tag</th>\n",
              "    </tr>\n",
              "  </thead>\n",
              "  <tbody>\n",
              "    <tr>\n",
              "      <th>0</th>\n",
              "      <td>Building a wall on the U.S.-Mexico border will...</td>\n",
              "      <td>immigration</td>\n",
              "    </tr>\n",
              "    <tr>\n",
              "      <th>1</th>\n",
              "      <td>Wisconsin is on pace to double the number of l...</td>\n",
              "      <td>jobs</td>\n",
              "    </tr>\n",
              "    <tr>\n",
              "      <th>2</th>\n",
              "      <td>Says John McCain has done nothing to help the ...</td>\n",
              "      <td>military,veterans,voting-record</td>\n",
              "    </tr>\n",
              "    <tr>\n",
              "      <th>3</th>\n",
              "      <td>Suzanne Bonamici supports a plan that will cut...</td>\n",
              "      <td>medicare,message-machine-2012,campaign-adverti...</td>\n",
              "    </tr>\n",
              "    <tr>\n",
              "      <th>4</th>\n",
              "      <td>When asked by a reporter whether hes at the ce...</td>\n",
              "      <td>campaign-finance,legal-issues,campaign-adverti...</td>\n",
              "    </tr>\n",
              "  </tbody>\n",
              "</table>\n",
              "</div>"
            ],
            "text/plain": [
              "                                                Text                                           Text_Tag\n",
              "0  Building a wall on the U.S.-Mexico border will...                                        immigration\n",
              "1  Wisconsin is on pace to double the number of l...                                               jobs\n",
              "2  Says John McCain has done nothing to help the ...                    military,veterans,voting-record\n",
              "3  Suzanne Bonamici supports a plan that will cut...  medicare,message-machine-2012,campaign-adverti...\n",
              "4  When asked by a reporter whether hes at the ce...  campaign-finance,legal-issues,campaign-adverti..."
            ]
          },
          "metadata": {
            "tags": []
          },
          "execution_count": 8
        }
      ]
    },
    {
      "cell_type": "code",
      "metadata": {
        "id": "OdW1VTZ1zMXv",
        "colab_type": "code",
        "colab": {}
      },
      "source": [
        "train['Text_Tag']=train['Text_Tag'].fillna(method='bfill')"
      ],
      "execution_count": 9,
      "outputs": []
    },
    {
      "cell_type": "markdown",
      "metadata": {
        "id": "SlzGNIHyzSpp",
        "colab_type": "text"
      },
      "source": [
        "# noe"
      ]
    },
    {
      "cell_type": "code",
      "metadata": {
        "id": "bqMH6JeDzQrp",
        "colab_type": "code",
        "colab": {}
      },
      "source": [
        "df=train.append(test,ignore_index=True)"
      ],
      "execution_count": 10,
      "outputs": []
    },
    {
      "cell_type": "code",
      "metadata": {
        "id": "yPr7aztLspXI",
        "colab_type": "code",
        "colab": {}
      },
      "source": [
        "df['exam']=df['Text']+df['Text_Tag']"
      ],
      "execution_count": 11,
      "outputs": []
    },
    {
      "cell_type": "code",
      "metadata": {
        "id": "qpefSh7EbrAN",
        "colab_type": "code",
        "colab": {
          "base_uri": "https://localhost:8080/",
          "height": 235
        },
        "outputId": "6b3975ec-868f-4ded-b848-c0044ad2c4ab"
      },
      "source": [
        "from wordcloud import WordCloud, STOPWORDS\n",
        "wc = WordCloud(background_color='white',\n",
        "                    stopwords =  set(STOPWORDS),\n",
        "                    max_words = 50, \n",
        "                    random_state = 42,)\n",
        "wc.generate(' '.join(df['Text']))\n",
        "plt.imshow(wc)"
      ],
      "execution_count": 12,
      "outputs": [
        {
          "output_type": "execute_result",
          "data": {
            "text/plain": [
              "<matplotlib.image.AxesImage at 0x7fac0ddd5828>"
            ]
          },
          "metadata": {
            "tags": []
          },
          "execution_count": 12
        },
        {
          "output_type": "display_data",
          "data": {
            "image/png": "[encoded data removed]",
            "text/plain": [
              "<Figure size 432x288 with 1 Axes>"
            ]
          },
          "metadata": {
            "tags": [],
            "needs_background": "light"
          }
        }
      ]
    },
    {
      "cell_type": "code",
      "metadata": {
        "id": "ekN6gUclr3YZ",
        "colab_type": "code",
        "colab": {
          "base_uri": "https://localhost:8080/",
          "height": 235
        },
        "outputId": "1880d812-c310-4ba9-b477-70e9aca28cd4"
      },
      "source": [
        "from wordcloud import WordCloud, STOPWORDS\n",
        "wc = WordCloud(background_color='white',\n",
        "                    stopwords =  set(STOPWORDS),\n",
        "                    max_words = 50, \n",
        "                    random_state = 42,)\n",
        "wc.generate(' '.join(df['Text_Tag']))\n",
        "plt.imshow(wc)"
      ],
      "execution_count": 13,
      "outputs": [
        {
          "output_type": "execute_result",
          "data": {
            "text/plain": [
              "<matplotlib.image.AxesImage at 0x7fac0c2bc550>"
            ]
          },
          "metadata": {
            "tags": []
          },
          "execution_count": 13
        },
        {
          "output_type": "display_data",
          "data": {
            "image/png": "[encoded data removed]",
            "text/plain": [
              "<Figure size 432x288 with 1 Axes>"
            ]
          },
          "metadata": {
            "tags": [],
            "needs_background": "light"
          }
        }
      ]
    },
    {
      "cell_type": "code",
      "metadata": {
        "id": "K8qMkZqYv2UX",
        "colab_type": "code",
        "colab": {}
      },
      "source": [
        "from sklearn.feature_extraction.text import CountVectorizer, TfidfVectorizer\n",
        "from nltk.tokenize import TreebankWordTokenizer\n",
        "cvec = TfidfVectorizer(max_features=10000, norm = 'l1', lowercase=True, smooth_idf=False, sublinear_tf=False, ngram_range=(1,4), tokenizer=TreebankWordTokenizer().tokenize)\n",
        "df_info = pd.DataFrame(cvec.fit_transform(df['Text']).todense())\n",
        "df_info.columns = ['Text_Top_' + str(c) for c in df_info.columns]\n",
        "df = pd.concat([df, df_info], axis=1)"
      ],
      "execution_count": 14,
      "outputs": []
    },
    {
      "cell_type": "code",
      "metadata": {
        "id": "pU_FeuRmeZ_W",
        "colab_type": "code",
        "colab": {
          "base_uri": "https://localhost:8080/",
          "height": 33
        },
        "outputId": "9b9f1ddb-9de1-4a5f-9e3d-e15bd4080bb4"
      },
      "source": [
        "m=[]\n",
        "c=0\n",
        "for i in df['Text_Tag']:\n",
        "  x=i.strip().split(',')\n",
        "  for i in x:\n",
        "    if i in m:\n",
        "      pass\n",
        "    else:\n",
        "      m.append(i)\n",
        "len(m)"
      ],
      "execution_count": 15,
      "outputs": [
        {
          "output_type": "execute_result",
          "data": {
            "text/plain": [
              "144"
            ]
          },
          "metadata": {
            "tags": []
          },
          "execution_count": 15
        }
      ]
    },
    {
      "cell_type": "code",
      "metadata": {
        "id": "KNARqD3-b61V",
        "colab_type": "code",
        "colab": {}
      },
      "source": [
        "x = df['Text_Tag'].str.split(',').apply(Series, 1)\n",
        "x=x.fillna('zero')"
      ],
      "execution_count": 16,
      "outputs": []
    },
    {
      "cell_type": "code",
      "metadata": {
        "id": "KeebnmUTdBfE",
        "colab_type": "code",
        "colab": {}
      },
      "source": [
        "df['Test_tag_0']=x[0]\n",
        "df['Test_tag_1']=x[1]\n",
        "df['Test_tag_2']=x[2]"
      ],
      "execution_count": 17,
      "outputs": []
    },
    {
      "cell_type": "code",
      "metadata": {
        "id": "gplFSSeLvw-m",
        "colab_type": "code",
        "colab": {}
      },
      "source": [
        "import string\n",
        "punctuation=string.punctuation\n",
        "df['numerics'] = df['Text'].apply(lambda x: len([x for x in x.split() if x.isdigit()]))\n",
        "df['upper'] = df['Text'].apply(lambda x: len([x for x in x.split() if x.isupper()]))\n",
        "df['punctuation_count'] = df['Text'].apply(lambda x: len(\"\".join(_ for _ in x if _ in punctuation)))"
      ],
      "execution_count": 18,
      "outputs": []
    },
    {
      "cell_type": "code",
      "metadata": {
        "id": "c7NqYA4md09v",
        "colab_type": "code",
        "colab": {}
      },
      "source": [
        "import re\n",
        "def clean_text(text):\n",
        "    text = text.lower()\n",
        "    text = re.sub(r'@[a-zA-Z0-9_]+', '', text)   \n",
        "    text = re.sub(r'https?://[A-Za-z0-9./]+', '', text)   \n",
        "    text = re.sub(r'www.[^ ]+', '', text)  \n",
        "    text = re.sub(r'[a-zA-Z0-9]*www[a-zA-Z0-9]*com[a-zA-Z0-9]*', '', text)  \n",
        "    text = re.sub(r'[^a-zA-Z]', ' ', text)   \n",
        "    text = [token for token in text.split() if len(token) > 2]\n",
        "    text = ' '.join(text)\n",
        "    return text\n",
        "\n",
        "df['Text'] = df['Text'].apply(clean_text)"
      ],
      "execution_count": 19,
      "outputs": []
    },
    {
      "cell_type": "code",
      "metadata": {
        "id": "GWrfGbeGvfKY",
        "colab_type": "code",
        "colab": {
          "base_uri": "https://localhost:8080/",
          "height": 67
        },
        "outputId": "9049dea5-baf5-4271-a9c8-5192b902154f"
      },
      "source": [
        "import nltk\n",
        "nltk.download('stopwords')"
      ],
      "execution_count": 20,
      "outputs": [
        {
          "output_type": "stream",
          "text": [
            "[nltk_data] Downloading package stopwords to /root/nltk_data...\n",
            "[nltk_data]   Package stopwords is already up-to-date!\n"
          ],
          "name": "stdout"
        },
        {
          "output_type": "execute_result",
          "data": {
            "text/plain": [
              "True"
            ]
          },
          "metadata": {
            "tags": []
          },
          "execution_count": 20
        }
      ]
    },
    {
      "cell_type": "code",
      "metadata": {
        "id": "w78BMgIkvhNM",
        "colab_type": "code",
        "colab": {}
      },
      "source": [
        "import string\n",
        "punctuation=string.punctuation\n",
        "df['word_count']=df['Text'].apply(lambda x: len(str(x).split(\" \")))\n",
        "df['char_count'] = df['Text'].str.len()\n",
        "def avg_word(sentence):\n",
        "    words = sentence.split()\n",
        "    return (sum(len(word) for word in words)/len(words))\n",
        "\n",
        "df['avg_word'] = df['Text'].apply(lambda x: avg_word(x))\n",
        "from nltk.corpus import stopwords\n",
        "stop = stopwords.words('english')\n",
        "\n",
        "df['stopwords'] = df['Text'].apply(lambda x: len([x for x in x.split() if x in stop]))\n",
        "\n",
        "df['word_density'] = df['char_count'] / (df['word_count']+1)\n"
      ],
      "execution_count": 21,
      "outputs": []
    },
    {
      "cell_type": "code",
      "metadata": {
        "id": "e3mBYaPpwHQA",
        "colab_type": "code",
        "colab": {}
      },
      "source": [
        "j=[]\n",
        "for i in df['Text']:\n",
        "  j.append(len(i))\n",
        "df['len']=j\n",
        "j=[]\n",
        "for i in df['Text_Tag']:\n",
        "  j.append(len(i))\n",
        "df['Text_Tag_len']=j"
      ],
      "execution_count": 22,
      "outputs": []
    },
    {
      "cell_type": "code",
      "metadata": {
        "id": "nDLAiEE6wTVh",
        "colab_type": "code",
        "colab": {}
      },
      "source": [
        "df['Text_Tag_word_count']=df['Text_Tag'].apply(lambda x: len(str(x).split(\",\")))"
      ],
      "execution_count": 23,
      "outputs": []
    },
    {
      "cell_type": "code",
      "metadata": {
        "id": "Xm10RenFwdN-",
        "colab_type": "code",
        "colab": {}
      },
      "source": [
        "from textblob import TextBlob\n",
        "df['polarity'] = df.apply(lambda x: TextBlob(x['Text']).sentiment.polarity, axis=1)\n",
        "df['subjectivity'] = df.apply(lambda x: TextBlob(x['Text']).sentiment.subjectivity, axis=1)"
      ],
      "execution_count": 24,
      "outputs": []
    },
    {
      "cell_type": "code",
      "metadata": {
        "id": "-m0K9F4ovjEZ",
        "colab_type": "code",
        "colab": {}
      },
      "source": [
        "del df['Text']\n",
        "del df['Text_Tag']"
      ],
      "execution_count": 25,
      "outputs": []
    },
    {
      "cell_type": "code",
      "metadata": {
        "id": "_v_hyODJ_8wJ",
        "colab_type": "code",
        "colab": {}
      },
      "source": [
        "from sklearn.preprocessing import LabelEncoder\n",
        "le = LabelEncoder()\n",
        "df['Test_tag_0'] = le.fit_transform(df['Test_tag_0'])\n",
        "from sklearn.preprocessing import LabelEncoder\n",
        "le = LabelEncoder()\n",
        "df['Test_tag_1'] = le.fit_transform(df['Test_tag_1'])\n",
        "from sklearn.preprocessing import LabelEncoder\n",
        "le = LabelEncoder()\n",
        "df['Test_tag_2'] = le.fit_transform(df['Test_tag_2'])"
      ],
      "execution_count": 26,
      "outputs": []
    },
    {
      "cell_type": "code",
      "metadata": {
        "id": "xxht4EErwGkD",
        "colab_type": "code",
        "colab": {}
      },
      "source": [
        "train = df[df['Labels'].isnull()==False]\n",
        "test = df[df['Labels'].isnull()==True]\n",
        "del test['Labels']"
      ],
      "execution_count": 27,
      "outputs": []
    },
    {
      "cell_type": "markdown",
      "metadata": {
        "id": "cj6GGfeas2GJ",
        "colab_type": "text"
      },
      "source": [
        "#algoex"
      ]
    },
    {
      "cell_type": "code",
      "metadata": {
        "id": "jw23O6u1YKIv",
        "colab_type": "code",
        "colab": {}
      },
      "source": [
        "train_df=train\n",
        "test_df=test"
      ],
      "execution_count": 28,
      "outputs": []
    },
    {
      "cell_type": "code",
      "metadata": {
        "id": "tEBtdP68YNzr",
        "colab_type": "code",
        "colab": {}
      },
      "source": [
        " X = train_df.drop(labels=['Labels'], axis=1)\n",
        "y = train_df['Labels'].values"
      ],
      "execution_count": 29,
      "outputs": []
    },
    {
      "cell_type": "code",
      "metadata": {
        "id": "PXCdENQvYDc9",
        "colab_type": "code",
        "colab": {}
      },
      "source": [
        "from sklearn.model_selection import train_test_split\n",
        "X_train, X_cv, y_train, y_cv = train_test_split(X, y, test_size=0.10, random_state=42, stratify=y)"
      ],
      "execution_count": 30,
      "outputs": []
    },
    {
      "cell_type": "code",
      "metadata": {
        "id": "rzaKa3bnZSmm",
        "colab_type": "code",
        "colab": {
          "base_uri": "https://localhost:8080/",
          "height": 33
        },
        "outputId": "30384a31-f992-4563-de28-1ccd49c4c944"
      },
      "source": [
        "X_train.shape, y_train.shape, X_cv.shape, y_cv.shape"
      ],
      "execution_count": 31,
      "outputs": [
        {
          "output_type": "execute_result",
          "data": {
            "text/plain": [
              "((9216, 10017), (9216,), (1024, 10017), (1024,))"
            ]
          },
          "metadata": {
            "tags": []
          },
          "execution_count": 31
        }
      ]
    },
    {
      "cell_type": "code",
      "metadata": {
        "id": "KWM1s5V2ZWQJ",
        "colab_type": "code",
        "colab": {}
      },
      "source": [
        "from sklearn.metrics import log_loss"
      ],
      "execution_count": 32,
      "outputs": []
    },
    {
      "cell_type": "code",
      "metadata": {
        "id": "crMDQv3UZfin",
        "colab_type": "code",
        "colab": {
          "base_uri": "https://localhost:8080/",
          "height": 421
        },
        "outputId": "a755397c-ce7c-4f2c-9974-63ec22d6982e"
      },
      "source": [
        "\n",
        "import lightgbm as lgb\n",
        "train_data = lgb.Dataset(X_train, label=y_train)\n",
        "test_data = lgb.Dataset(X_cv, label=y_cv)\n",
        "\n",
        "param = {'objective': 'multiclass',\n",
        "         'num_class': 6,\n",
        "         'boosting': 'dart',  \n",
        "         'metric': 'multi_logloss',\n",
        "         'learning_rate': 0.01, \n",
        "         'num_iterations': 1000,\n",
        "         'num_leaves': 31,\n",
        "         'max_depth': -1,\n",
        "         'min_data_in_leaf': 15,\n",
        "         'bagging_fraction':0.9,\n",
        "         'bagging_freq': 2,\n",
        "         'feature_fraction': 0.9,\n",
        "         'lambda_l2': 0.9,\n",
        "         'min_data_per_group': 75,\n",
        "         'max_bin': 255,\n",
        "         'is_unbalance':True,\n",
        "         'task_type':'GPU'\n",
        "         }\n",
        "\n",
        "clf = lgb.train(params=param, \n",
        "                early_stopping_rounds=200,\n",
        "                verbose_eval=100,\n",
        "                train_set=train_data,\n",
        "                valid_sets=[test_data])\n",
        "\n",
        "y_pred = clf.predict(X_cv)"
      ],
      "execution_count": 33,
      "outputs": [
        {
          "output_type": "stream",
          "text": [
            "/usr/local/lib/python3.6/dist-packages/lightgbm/engine.py:118: UserWarning: Found `num_iterations` in params. Will use it instead of argument\n",
            "  warnings.warn(\"Found `{}` in params. Will use it instead of argument\".format(alias))\n"
          ],
          "name": "stderr"
        },
        {
          "output_type": "error",
          "ename": "ValueError",
          "evalue": "ignored",
          "traceback": [
            "\u001b[0;31m---------------------------------------------------------------------------\u001b[0m",
            "\u001b[0;31mValueError\u001b[0m                                Traceback (most recent call last)",
            "\u001b[0;32m<ipython-input-33-5a78820579f0>\u001b[0m in \u001b[0;36m<module>\u001b[0;34m()\u001b[0m\n\u001b[1;32m     27\u001b[0m                 \u001b[0mverbose_eval\u001b[0m\u001b[0;34m=\u001b[0m\u001b[0;36m100\u001b[0m\u001b[0;34m,\u001b[0m\u001b[0;34m\u001b[0m\u001b[0;34m\u001b[0m\u001b[0m\n\u001b[1;32m     28\u001b[0m                 \u001b[0mtrain_set\u001b[0m\u001b[0;34m=\u001b[0m\u001b[0mtrain_data\u001b[0m\u001b[0;34m,\u001b[0m\u001b[0;34m\u001b[0m\u001b[0;34m\u001b[0m\u001b[0m\n\u001b[0;32m---> 29\u001b[0;31m                 valid_sets=[test_data])\n\u001b[0m\u001b[1;32m     30\u001b[0m \u001b[0;34m\u001b[0m\u001b[0m\n\u001b[1;32m     31\u001b[0m \u001b[0my_pred\u001b[0m \u001b[0;34m=\u001b[0m \u001b[0mclf\u001b[0m\u001b[0;34m.\u001b[0m\u001b[0mpredict\u001b[0m\u001b[0;34m(\u001b[0m\u001b[0mX_cv\u001b[0m\u001b[0;34m)\u001b[0m\u001b[0;34m\u001b[0m\u001b[0;34m\u001b[0m\u001b[0m\n",
            "\u001b[0;32m/usr/local/lib/python3.6/dist-packages/lightgbm/engine.py\u001b[0m in \u001b[0;36mtrain\u001b[0;34m(params, train_set, num_boost_round, valid_sets, valid_names, fobj, feval, init_model, feature_name, categorical_feature, early_stopping_rounds, evals_result, verbose_eval, learning_rates, keep_training_booster, callbacks)\u001b[0m\n\u001b[1;32m    195\u001b[0m     \u001b[0;31m# construct booster\u001b[0m\u001b[0;34m\u001b[0m\u001b[0;34m\u001b[0m\u001b[0;34m\u001b[0m\u001b[0m\n\u001b[1;32m    196\u001b[0m     \u001b[0;32mtry\u001b[0m\u001b[0;34m:\u001b[0m\u001b[0;34m\u001b[0m\u001b[0;34m\u001b[0m\u001b[0m\n\u001b[0;32m--> 197\u001b[0;31m         \u001b[0mbooster\u001b[0m \u001b[0;34m=\u001b[0m \u001b[0mBooster\u001b[0m\u001b[0;34m(\u001b[0m\u001b[0mparams\u001b[0m\u001b[0;34m=\u001b[0m\u001b[0mparams\u001b[0m\u001b[0;34m,\u001b[0m \u001b[0mtrain_set\u001b[0m\u001b[0;34m=\u001b[0m\u001b[0mtrain_set\u001b[0m\u001b[0;34m)\u001b[0m\u001b[0;34m\u001b[0m\u001b[0;34m\u001b[0m\u001b[0m\n\u001b[0m\u001b[1;32m    198\u001b[0m         \u001b[0;32mif\u001b[0m \u001b[0mis_valid_contain_train\u001b[0m\u001b[0;34m:\u001b[0m\u001b[0;34m\u001b[0m\u001b[0;34m\u001b[0m\u001b[0m\n\u001b[1;32m    199\u001b[0m             \u001b[0mbooster\u001b[0m\u001b[0;34m.\u001b[0m\u001b[0mset_train_data_name\u001b[0m\u001b[0;34m(\u001b[0m\u001b[0mtrain_data_name\u001b[0m\u001b[0;34m)\u001b[0m\u001b[0;34m\u001b[0m\u001b[0;34m\u001b[0m\u001b[0m\n",
            "\u001b[0;32m/usr/local/lib/python3.6/dist-packages/lightgbm/basic.py\u001b[0m in \u001b[0;36m__init__\u001b[0;34m(self, params, train_set, model_file, silent)\u001b[0m\n\u001b[1;32m   1550\u001b[0m             \u001b[0mself\u001b[0m\u001b[0;34m.\u001b[0m\u001b[0mhandle\u001b[0m \u001b[0;34m=\u001b[0m \u001b[0mctypes\u001b[0m\u001b[0;34m.\u001b[0m\u001b[0mc_void_p\u001b[0m\u001b[0;34m(\u001b[0m\u001b[0;34m)\u001b[0m\u001b[0;34m\u001b[0m\u001b[0;34m\u001b[0m\u001b[0m\n\u001b[1;32m   1551\u001b[0m             _safe_call(_LIB.LGBM_BoosterCreate(\n\u001b[0;32m-> 1552\u001b[0;31m                 \u001b[0mtrain_set\u001b[0m\u001b[0;34m.\u001b[0m\u001b[0mconstruct\u001b[0m\u001b[0;34m(\u001b[0m\u001b[0;34m)\u001b[0m\u001b[0;34m.\u001b[0m\u001b[0mhandle\u001b[0m\u001b[0;34m,\u001b[0m\u001b[0;34m\u001b[0m\u001b[0;34m\u001b[0m\u001b[0m\n\u001b[0m\u001b[1;32m   1553\u001b[0m                 \u001b[0mc_str\u001b[0m\u001b[0;34m(\u001b[0m\u001b[0mparams_str\u001b[0m\u001b[0;34m)\u001b[0m\u001b[0;34m,\u001b[0m\u001b[0;34m\u001b[0m\u001b[0;34m\u001b[0m\u001b[0m\n\u001b[1;32m   1554\u001b[0m                 ctypes.byref(self.handle)))\n",
            "\u001b[0;32m/usr/local/lib/python3.6/dist-packages/lightgbm/basic.py\u001b[0m in \u001b[0;36mconstruct\u001b[0;34m(self)\u001b[0m\n\u001b[1;32m    999\u001b[0m                                 \u001b[0minit_score\u001b[0m\u001b[0;34m=\u001b[0m\u001b[0mself\u001b[0m\u001b[0;34m.\u001b[0m\u001b[0minit_score\u001b[0m\u001b[0;34m,\u001b[0m \u001b[0mpredictor\u001b[0m\u001b[0;34m=\u001b[0m\u001b[0mself\u001b[0m\u001b[0;34m.\u001b[0m\u001b[0m_predictor\u001b[0m\u001b[0;34m,\u001b[0m\u001b[0;34m\u001b[0m\u001b[0;34m\u001b[0m\u001b[0m\n\u001b[1;32m   1000\u001b[0m                                 \u001b[0msilent\u001b[0m\u001b[0;34m=\u001b[0m\u001b[0mself\u001b[0m\u001b[0;34m.\u001b[0m\u001b[0msilent\u001b[0m\u001b[0;34m,\u001b[0m \u001b[0mfeature_name\u001b[0m\u001b[0;34m=\u001b[0m\u001b[0mself\u001b[0m\u001b[0;34m.\u001b[0m\u001b[0mfeature_name\u001b[0m\u001b[0;34m,\u001b[0m\u001b[0;34m\u001b[0m\u001b[0;34m\u001b[0m\u001b[0m\n\u001b[0;32m-> 1001\u001b[0;31m                                 categorical_feature=self.categorical_feature, params=self.params)\n\u001b[0m\u001b[1;32m   1002\u001b[0m             \u001b[0;32mif\u001b[0m \u001b[0mself\u001b[0m\u001b[0;34m.\u001b[0m\u001b[0mfree_raw_data\u001b[0m\u001b[0;34m:\u001b[0m\u001b[0;34m\u001b[0m\u001b[0;34m\u001b[0m\u001b[0m\n\u001b[1;32m   1003\u001b[0m                 \u001b[0mself\u001b[0m\u001b[0;34m.\u001b[0m\u001b[0mdata\u001b[0m \u001b[0;34m=\u001b[0m \u001b[0;32mNone\u001b[0m\u001b[0;34m\u001b[0m\u001b[0;34m\u001b[0m\u001b[0m\n",
            "\u001b[0;32m/usr/local/lib/python3.6/dist-packages/lightgbm/basic.py\u001b[0m in \u001b[0;36m_lazy_init\u001b[0;34m(self, data, label, reference, weight, group, init_score, predictor, silent, feature_name, categorical_feature, params)\u001b[0m\n\u001b[1;32m    727\u001b[0m                                                                                              \u001b[0mfeature_name\u001b[0m\u001b[0;34m,\u001b[0m\u001b[0;34m\u001b[0m\u001b[0;34m\u001b[0m\u001b[0m\n\u001b[1;32m    728\u001b[0m                                                                                              \u001b[0mcategorical_feature\u001b[0m\u001b[0;34m,\u001b[0m\u001b[0;34m\u001b[0m\u001b[0;34m\u001b[0m\u001b[0m\n\u001b[0;32m--> 729\u001b[0;31m                                                                                              self.pandas_categorical)\n\u001b[0m\u001b[1;32m    730\u001b[0m         \u001b[0mlabel\u001b[0m \u001b[0;34m=\u001b[0m \u001b[0m_label_from_pandas\u001b[0m\u001b[0;34m(\u001b[0m\u001b[0mlabel\u001b[0m\u001b[0;34m)\u001b[0m\u001b[0;34m\u001b[0m\u001b[0;34m\u001b[0m\u001b[0m\n\u001b[1;32m    731\u001b[0m         \u001b[0mself\u001b[0m\u001b[0;34m.\u001b[0m\u001b[0mdata_has_header\u001b[0m \u001b[0;34m=\u001b[0m \u001b[0;32mFalse\u001b[0m\u001b[0;34m\u001b[0m\u001b[0;34m\u001b[0m\u001b[0m\n",
            "\u001b[0;32m/usr/local/lib/python3.6/dist-packages/lightgbm/basic.py\u001b[0m in \u001b[0;36m_data_from_pandas\u001b[0;34m(data, feature_name, categorical_feature, pandas_categorical)\u001b[0m\n\u001b[1;32m    275\u001b[0m             msg = (\"DataFrame.dtypes for data must be int, float or bool.\\n\"\n\u001b[1;32m    276\u001b[0m                    \"Did not expect the data types in fields \")\n\u001b[0;32m--> 277\u001b[0;31m             \u001b[0;32mraise\u001b[0m \u001b[0mValueError\u001b[0m\u001b[0;34m(\u001b[0m\u001b[0mmsg\u001b[0m \u001b[0;34m+\u001b[0m \u001b[0;34m', '\u001b[0m\u001b[0;34m.\u001b[0m\u001b[0mjoin\u001b[0m\u001b[0;34m(\u001b[0m\u001b[0mbad_fields\u001b[0m\u001b[0;34m)\u001b[0m\u001b[0;34m)\u001b[0m\u001b[0;34m\u001b[0m\u001b[0;34m\u001b[0m\u001b[0m\n\u001b[0m\u001b[1;32m    278\u001b[0m         \u001b[0mdata\u001b[0m \u001b[0;34m=\u001b[0m \u001b[0mdata\u001b[0m\u001b[0;34m.\u001b[0m\u001b[0mvalues\u001b[0m\u001b[0;34m.\u001b[0m\u001b[0mastype\u001b[0m\u001b[0;34m(\u001b[0m\u001b[0;34m'float'\u001b[0m\u001b[0;34m)\u001b[0m\u001b[0;34m\u001b[0m\u001b[0;34m\u001b[0m\u001b[0m\n\u001b[1;32m    279\u001b[0m     \u001b[0;32melse\u001b[0m\u001b[0;34m:\u001b[0m\u001b[0;34m\u001b[0m\u001b[0;34m\u001b[0m\u001b[0m\n",
            "\u001b[0;31mValueError\u001b[0m: DataFrame.dtypes for data must be int, float or bool.\nDid not expect the data types in fields exam"
          ]
        }
      ]
    },
    {
      "cell_type": "code",
      "metadata": {
        "id": "Co0ydv6fZjcQ",
        "colab_type": "code",
        "colab": {
          "base_uri": "https://localhost:8080/",
          "height": 162
        },
        "outputId": "4e2ea589-dab0-45c8-8c7a-256b3881bb92"
      },
      "source": [
        "log_loss(y_cv, y_pred)"
      ],
      "execution_count": 1,
      "outputs": [
        {
          "output_type": "error",
          "ename": "NameError",
          "evalue": "ignored",
          "traceback": [
            "\u001b[0;31m---------------------------------------------------------------------------\u001b[0m",
            "\u001b[0;31mNameError\u001b[0m                                 Traceback (most recent call last)",
            "\u001b[0;32m<ipython-input-1-3632cd27f9b9>\u001b[0m in \u001b[0;36m<module>\u001b[0;34m()\u001b[0m\n\u001b[0;32m----> 1\u001b[0;31m \u001b[0mlog_loss\u001b[0m\u001b[0;34m(\u001b[0m\u001b[0my_cv\u001b[0m\u001b[0;34m,\u001b[0m \u001b[0my_pred\u001b[0m\u001b[0;34m)\u001b[0m\u001b[0;34m\u001b[0m\u001b[0;34m\u001b[0m\u001b[0m\n\u001b[0m",
            "\u001b[0;31mNameError\u001b[0m: name 'log_loss' is not defined"
          ]
        }
      ]
    },
    {
      "cell_type": "code",
      "metadata": {
        "id": "MVHWka2gEBSV",
        "colab_type": "code",
        "colab": {
          "base_uri": "https://localhost:8080/",
          "height": 1000
        },
        "outputId": "65dc142b-2777-4acb-86be-1091bedd5600"
      },
      "source": [
        "import seaborn as sns\n",
        "feature_imp = pd.DataFrame(sorted(zip(clf.feature_importance(), X.columns), reverse=True)[:], columns=['Value','Feature'])\n",
        "plt.figure(figsize=(20,20))\n",
        "sns.barplot(x=\"Value\", y=\"Feature\", data=feature_imp.sort_values(by=\"Value\", ascending=False))\n",
        "plt.title('LightGBM Features')\n",
        "plt.tight_layout()\n",
        "plt.show()"
      ],
      "execution_count": 122,
      "outputs": [
        {
          "output_type": "display_data",
          "data": {
            "image/png": "[encoded data removed]",
            "text/plain": [
              "<Figure size 1440x1440 with 1 Axes>"
            ]
          },
          "metadata": {
            "tags": [],
            "needs_background": "light"
          }
        }
      ]
    },
    {
      "cell_type": "code",
      "metadata": {
        "id": "SdDK3wn0Z8Ig",
        "colab_type": "code",
        "colab": {}
      },
      "source": [
        "Xtest = test_df"
      ],
      "execution_count": 123,
      "outputs": []
    },
    {
      "cell_type": "code",
      "metadata": {
        "id": "VEF6nOsjZ_-L",
        "colab_type": "code",
        "colab": {
          "base_uri": "https://localhost:8080/",
          "height": 1000
        },
        "outputId": "50476f00-a6bb-4bff-e901-a43bd0d9dba6"
      },
      "source": [
        "\n",
        "from sklearn.model_selection import KFold, StratifiedKFold\n",
        "\n",
        "errlgb = []\n",
        "y_pred_totlgb = []\n",
        "\n",
        "fold = StratifiedKFold(n_splits=10, shuffle=True, random_state=42)\n",
        "\n",
        "for train_index, test_index in fold.split(X, y):\n",
        "    \n",
        "    X_train, X_test = X.loc[train_index], X.loc[test_index]\n",
        "    y_train, y_test = y[train_index], y[test_index]\n",
        "    \n",
        "    train_data = lgb.Dataset(X_train, label=y_train)\n",
        "    test_data = lgb.Dataset(X_test, label=y_test)\n",
        "    \n",
        "    clf = lgb.train(params=param, \n",
        "                     early_stopping_rounds=200,\n",
        "                     verbose_eval=100,\n",
        "                     train_set=train_data,\n",
        "                     valid_sets=[test_data])\n",
        "\n",
        "    y_pred = clf.predict(X_test)\n",
        "    print(\"Log Loss: \", (log_loss(y_test, y_pred)))\n",
        "    \n",
        "    errlgb.append(log_loss(y_test, y_pred))\n",
        "    p = clf.predict(Xtest)\n",
        "    y_pred_totlgb.append(p)"
      ],
      "execution_count": 124,
      "outputs": [
        {
          "output_type": "stream",
          "text": [
            "/usr/local/lib/python3.6/dist-packages/lightgbm/engine.py:118: UserWarning: Found `num_iterations` in params. Will use it instead of argument\n",
            "  warnings.warn(\"Found `{}` in params. Will use it instead of argument\".format(alias))\n"
          ],
          "name": "stderr"
        },
        {
          "output_type": "stream",
          "text": [
            "Training until validation scores don't improve for 200 rounds.\n",
            "[100]\tvalid_0's multi_logloss: 1.73013\n",
            "[200]\tvalid_0's multi_logloss: 1.72039\n",
            "[300]\tvalid_0's multi_logloss: 1.71834\n",
            "[400]\tvalid_0's multi_logloss: 1.72004\n",
            "Early stopping, best iteration is:\n",
            "[287]\tvalid_0's multi_logloss: 1.71815\n",
            "Log Loss:  1.7181478505835641\n"
          ],
          "name": "stdout"
        },
        {
          "output_type": "stream",
          "text": [
            "/usr/local/lib/python3.6/dist-packages/lightgbm/engine.py:118: UserWarning: Found `num_iterations` in params. Will use it instead of argument\n",
            "  warnings.warn(\"Found `{}` in params. Will use it instead of argument\".format(alias))\n"
          ],
          "name": "stderr"
        },
        {
          "output_type": "stream",
          "text": [
            "Training until validation scores don't improve for 200 rounds.\n",
            "[100]\tvalid_0's multi_logloss: 1.73083\n",
            "[200]\tvalid_0's multi_logloss: 1.72711\n",
            "[300]\tvalid_0's multi_logloss: 1.72616\n",
            "[400]\tvalid_0's multi_logloss: 1.73134\n",
            "Early stopping, best iteration is:\n",
            "[240]\tvalid_0's multi_logloss: 1.72552\n",
            "Log Loss:  1.7255236794866247\n"
          ],
          "name": "stdout"
        },
        {
          "output_type": "stream",
          "text": [
            "/usr/local/lib/python3.6/dist-packages/lightgbm/engine.py:118: UserWarning: Found `num_iterations` in params. Will use it instead of argument\n",
            "  warnings.warn(\"Found `{}` in params. Will use it instead of argument\".format(alias))\n"
          ],
          "name": "stderr"
        },
        {
          "output_type": "stream",
          "text": [
            "Training until validation scores don't improve for 200 rounds.\n",
            "[100]\tvalid_0's multi_logloss: 1.72012\n",
            "[200]\tvalid_0's multi_logloss: 1.70621\n",
            "[300]\tvalid_0's multi_logloss: 1.70235\n",
            "[400]\tvalid_0's multi_logloss: 1.70356\n",
            "[500]\tvalid_0's multi_logloss: 1.70902\n",
            "Did not meet early stopping. Best iteration is:\n",
            "[304]\tvalid_0's multi_logloss: 1.70226\n",
            "Log Loss:  1.7022560169312189\n"
          ],
          "name": "stdout"
        },
        {
          "output_type": "stream",
          "text": [
            "/usr/local/lib/python3.6/dist-packages/lightgbm/engine.py:118: UserWarning: Found `num_iterations` in params. Will use it instead of argument\n",
            "  warnings.warn(\"Found `{}` in params. Will use it instead of argument\".format(alias))\n"
          ],
          "name": "stderr"
        },
        {
          "output_type": "stream",
          "text": [
            "Training until validation scores don't improve for 200 rounds.\n",
            "[100]\tvalid_0's multi_logloss: 1.72582\n",
            "[200]\tvalid_0's multi_logloss: 1.71428\n",
            "[300]\tvalid_0's multi_logloss: 1.71026\n",
            "[400]\tvalid_0's multi_logloss: 1.71287\n",
            "[500]\tvalid_0's multi_logloss: 1.71827\n",
            "Did not meet early stopping. Best iteration is:\n",
            "[303]\tvalid_0's multi_logloss: 1.71008\n",
            "Log Loss:  1.7100752745039807\n"
          ],
          "name": "stdout"
        },
        {
          "output_type": "stream",
          "text": [
            "/usr/local/lib/python3.6/dist-packages/lightgbm/engine.py:118: UserWarning: Found `num_iterations` in params. Will use it instead of argument\n",
            "  warnings.warn(\"Found `{}` in params. Will use it instead of argument\".format(alias))\n"
          ],
          "name": "stderr"
        },
        {
          "output_type": "stream",
          "text": [
            "Training until validation scores don't improve for 200 rounds.\n",
            "[100]\tvalid_0's multi_logloss: 1.73248\n",
            "[200]\tvalid_0's multi_logloss: 1.72298\n",
            "[300]\tvalid_0's multi_logloss: 1.72057\n",
            "[400]\tvalid_0's multi_logloss: 1.72093\n",
            "Early stopping, best iteration is:\n",
            "[250]\tvalid_0's multi_logloss: 1.72027\n",
            "Log Loss:  1.7202683973214021\n"
          ],
          "name": "stdout"
        },
        {
          "output_type": "stream",
          "text": [
            "/usr/local/lib/python3.6/dist-packages/lightgbm/engine.py:118: UserWarning: Found `num_iterations` in params. Will use it instead of argument\n",
            "  warnings.warn(\"Found `{}` in params. Will use it instead of argument\".format(alias))\n"
          ],
          "name": "stderr"
        },
        {
          "output_type": "stream",
          "text": [
            "Training until validation scores don't improve for 200 rounds.\n",
            "[100]\tvalid_0's multi_logloss: 1.72301\n",
            "[200]\tvalid_0's multi_logloss: 1.70809\n",
            "[300]\tvalid_0's multi_logloss: 1.70376\n",
            "[400]\tvalid_0's multi_logloss: 1.70517\n",
            "Early stopping, best iteration is:\n",
            "[280]\tvalid_0's multi_logloss: 1.70346\n",
            "Log Loss:  1.703458391475452\n"
          ],
          "name": "stdout"
        },
        {
          "output_type": "stream",
          "text": [
            "/usr/local/lib/python3.6/dist-packages/lightgbm/engine.py:118: UserWarning: Found `num_iterations` in params. Will use it instead of argument\n",
            "  warnings.warn(\"Found `{}` in params. Will use it instead of argument\".format(alias))\n"
          ],
          "name": "stderr"
        },
        {
          "output_type": "stream",
          "text": [
            "Training until validation scores don't improve for 200 rounds.\n",
            "[100]\tvalid_0's multi_logloss: 1.73131\n",
            "[200]\tvalid_0's multi_logloss: 1.72325\n",
            "[300]\tvalid_0's multi_logloss: 1.72302\n",
            "[400]\tvalid_0's multi_logloss: 1.7255\n",
            "Early stopping, best iteration is:\n",
            "[234]\tvalid_0's multi_logloss: 1.72219\n",
            "Log Loss:  1.722189148564922\n"
          ],
          "name": "stdout"
        },
        {
          "output_type": "stream",
          "text": [
            "/usr/local/lib/python3.6/dist-packages/lightgbm/engine.py:118: UserWarning: Found `num_iterations` in params. Will use it instead of argument\n",
            "  warnings.warn(\"Found `{}` in params. Will use it instead of argument\".format(alias))\n"
          ],
          "name": "stderr"
        },
        {
          "output_type": "stream",
          "text": [
            "Training until validation scores don't improve for 200 rounds.\n",
            "[100]\tvalid_0's multi_logloss: 1.73432\n",
            "[200]\tvalid_0's multi_logloss: 1.72985\n",
            "[300]\tvalid_0's multi_logloss: 1.73018\n",
            "[400]\tvalid_0's multi_logloss: 1.73552\n",
            "Early stopping, best iteration is:\n",
            "[263]\tvalid_0's multi_logloss: 1.72934\n",
            "Log Loss:  1.7293379690216366\n"
          ],
          "name": "stdout"
        },
        {
          "output_type": "stream",
          "text": [
            "/usr/local/lib/python3.6/dist-packages/lightgbm/engine.py:118: UserWarning: Found `num_iterations` in params. Will use it instead of argument\n",
            "  warnings.warn(\"Found `{}` in params. Will use it instead of argument\".format(alias))\n"
          ],
          "name": "stderr"
        },
        {
          "output_type": "stream",
          "text": [
            "Training until validation scores don't improve for 200 rounds.\n",
            "[100]\tvalid_0's multi_logloss: 1.73709\n",
            "[200]\tvalid_0's multi_logloss: 1.73305\n",
            "[300]\tvalid_0's multi_logloss: 1.73663\n",
            "Early stopping, best iteration is:\n",
            "[173]\tvalid_0's multi_logloss: 1.7327\n",
            "Log Loss:  1.7327032839511012\n"
          ],
          "name": "stdout"
        },
        {
          "output_type": "stream",
          "text": [
            "/usr/local/lib/python3.6/dist-packages/lightgbm/engine.py:118: UserWarning: Found `num_iterations` in params. Will use it instead of argument\n",
            "  warnings.warn(\"Found `{}` in params. Will use it instead of argument\".format(alias))\n"
          ],
          "name": "stderr"
        },
        {
          "output_type": "stream",
          "text": [
            "Training until validation scores don't improve for 200 rounds.\n",
            "[100]\tvalid_0's multi_logloss: 1.73609\n",
            "[200]\tvalid_0's multi_logloss: 1.72906\n",
            "[300]\tvalid_0's multi_logloss: 1.73063\n",
            "[400]\tvalid_0's multi_logloss: 1.73683\n",
            "Early stopping, best iteration is:\n",
            "[207]\tvalid_0's multi_logloss: 1.72891\n",
            "Log Loss:  1.7289067038384032\n"
          ],
          "name": "stdout"
        }
      ]
    },
    {
      "cell_type": "code",
      "metadata": {
        "id": "Zt1BXomjxG36",
        "colab_type": "code",
        "colab": {
          "base_uri": "https://localhost:8080/",
          "height": 33
        },
        "outputId": "9cdda6a6-03b2-47c4-9027-2539f2de3d78"
      },
      "source": [
        "np.mean(errlgb,0)"
      ],
      "execution_count": 125,
      "outputs": [
        {
          "output_type": "execute_result",
          "data": {
            "text/plain": [
              "1.7192866715678305"
            ]
          },
          "metadata": {
            "tags": []
          },
          "execution_count": 125
        }
      ]
    },
    {
      "cell_type": "code",
      "metadata": {
        "id": "7CJMbgevbQtl",
        "colab_type": "code",
        "colab": {}
      },
      "source": [
        "y_pred = np.mean(y_pred_totlgb,0)"
      ],
      "execution_count": 126,
      "outputs": []
    },
    {
      "cell_type": "code",
      "metadata": {
        "id": "LWFDdtpybUqj",
        "colab_type": "code",
        "colab": {
          "base_uri": "https://localhost:8080/",
          "height": 190
        },
        "outputId": "35251128-2ea3-450f-88f3-d662d0707633"
      },
      "source": [
        "submission = pd.DataFrame(data=y_pred*1.0027, columns=sub.columns)\n",
        "submission.head()"
      ],
      "execution_count": 131,
      "outputs": [
        {
          "output_type": "execute_result",
          "data": {
            "text/html": [
              "<div>\n",
              "<style scoped>\n",
              "    .dataframe tbody tr th:only-of-type {\n",
              "        vertical-align: middle;\n",
              "    }\n",
              "\n",
              "    .dataframe tbody tr th {\n",
              "        vertical-align: top;\n",
              "    }\n",
              "\n",
              "    .dataframe thead th {\n",
              "        text-align: right;\n",
              "    }\n",
              "</style>\n",
              "<table border=\"1\" class=\"dataframe\">\n",
              "  <thead>\n",
              "    <tr style=\"text-align: right;\">\n",
              "      <th></th>\n",
              "      <th>0</th>\n",
              "      <th>1</th>\n",
              "      <th>2</th>\n",
              "      <th>3</th>\n",
              "      <th>4</th>\n",
              "      <th>5</th>\n",
              "    </tr>\n",
              "  </thead>\n",
              "  <tbody>\n",
              "    <tr>\n",
              "      <th>0</th>\n",
              "      <td>0.219771</td>\n",
              "      <td>0.189428</td>\n",
              "      <td>0.129937</td>\n",
              "      <td>0.180588</td>\n",
              "      <td>0.180259</td>\n",
              "      <td>0.102718</td>\n",
              "    </tr>\n",
              "    <tr>\n",
              "      <th>1</th>\n",
              "      <td>0.106062</td>\n",
              "      <td>0.212814</td>\n",
              "      <td>0.123400</td>\n",
              "      <td>0.184403</td>\n",
              "      <td>0.126627</td>\n",
              "      <td>0.249394</td>\n",
              "    </tr>\n",
              "    <tr>\n",
              "      <th>2</th>\n",
              "      <td>0.147998</td>\n",
              "      <td>0.224756</td>\n",
              "      <td>0.177558</td>\n",
              "      <td>0.162423</td>\n",
              "      <td>0.096047</td>\n",
              "      <td>0.193919</td>\n",
              "    </tr>\n",
              "    <tr>\n",
              "      <th>3</th>\n",
              "      <td>0.196707</td>\n",
              "      <td>0.270586</td>\n",
              "      <td>0.265664</td>\n",
              "      <td>0.128152</td>\n",
              "      <td>0.059548</td>\n",
              "      <td>0.082042</td>\n",
              "    </tr>\n",
              "    <tr>\n",
              "      <th>4</th>\n",
              "      <td>0.178497</td>\n",
              "      <td>0.268788</td>\n",
              "      <td>0.206407</td>\n",
              "      <td>0.141625</td>\n",
              "      <td>0.097593</td>\n",
              "      <td>0.109790</td>\n",
              "    </tr>\n",
              "  </tbody>\n",
              "</table>\n",
              "</div>"
            ],
            "text/plain": [
              "          0         1         2         3         4         5\n",
              "0  0.219771  0.189428  0.129937  0.180588  0.180259  0.102718\n",
              "1  0.106062  0.212814  0.123400  0.184403  0.126627  0.249394\n",
              "2  0.147998  0.224756  0.177558  0.162423  0.096047  0.193919\n",
              "3  0.196707  0.270586  0.265664  0.128152  0.059548  0.082042\n",
              "4  0.178497  0.268788  0.206407  0.141625  0.097593  0.109790"
            ]
          },
          "metadata": {
            "tags": []
          },
          "execution_count": 131
        }
      ]
    },
    {
      "cell_type": "code",
      "metadata": {
        "id": "ErHJrI6_vatv",
        "colab_type": "code",
        "colab": {}
      },
      "source": [
        "submission.to_csv('multi.csv', index=False)"
      ],
      "execution_count": 132,
      "outputs": []
    },
    {
      "cell_type": "code",
      "metadata": {
        "id": "i8BFFQk-vhLi",
        "colab_type": "code",
        "colab": {}
      },
      "source": [
        ""
      ],
      "execution_count": null,
      "outputs": []
    },
    {
      "cell_type": "markdown",
      "metadata": {
        "id": "z-T5SIVAehwn",
        "colab_type": "text"
      },
      "source": [
        "# r1"
      ]
    },
    {
      "cell_type": "code",
      "metadata": {
        "id": "MB1TSFYHfTtK",
        "colab_type": "code",
        "colab": {}
      },
      "source": [
        "import pandas as pd\n",
        "from sklearn.model_selection import train_test_split\n",
        "import lightgbm as lgb\n",
        "from lightgbm import LGBMClassifier\n",
        "from sklearn.metrics import log_loss\n",
        "from tqdm import tqdm_notebook\n",
        "from sklearn.utils import shuffle"
      ],
      "execution_count": 78,
      "outputs": []
    },
    {
      "cell_type": "code",
      "metadata": {
        "id": "NYbZwb7KekRZ",
        "colab_type": "code",
        "colab": {}
      },
      "source": [
        "TARGET_COL ='Labels'\n",
        "train, test = df.iloc[:train.shape[0]], df.iloc[train.shape[0]:]\n",
        "test.reset_index(drop=True, inplace=True)\n",
        "target = train[TARGET_COL]\n",
        "features = [c for c in train.columns if c not in [TARGET_COL]]"
      ],
      "execution_count": 79,
      "outputs": []
    },
    {
      "cell_type": "code",
      "metadata": {
        "id": "cJKlLYYRekXf",
        "colab_type": "code",
        "colab": {}
      },
      "source": [
        "X_trn, X_val, y_trn, y_val = train_test_split(train[features], target, test_size=0.10, stratify=target, random_state=101)\n",
        "X_test = test[features]"
      ],
      "execution_count": 80,
      "outputs": []
    },
    {
      "cell_type": "code",
      "metadata": {
        "id": "6HJlN2y2ekP1",
        "colab_type": "code",
        "colab": {
          "base_uri": "https://localhost:8080/",
          "height": 151
        },
        "outputId": "a89ad182-843b-4447-ef5c-29d8983a045a"
      },
      "source": [
        "clf = LGBMClassifier(boosting='gbdt',learning_rate=0.01, n_estimators=1000,num_leaves=31)\n",
        "_ = clf.fit(X_trn, y_trn, eval_set=[(X_trn, y_trn), (X_val, y_val)], verbose=100, early_stopping_rounds=100)\n",
        "predictions_val_lgb = clf.predict_proba(X_val)\n",
        "print(f\"Log loss for Model 1 is: {log_loss(y_val, predictions_val_lgb)}\")"
      ],
      "execution_count": 81,
      "outputs": [
        {
          "output_type": "stream",
          "text": [
            "Training until validation scores don't improve for 100 rounds.\n",
            "[100]\ttraining's multi_logloss: 1.64679\tvalid_1's multi_logloss: 1.72963\n",
            "[200]\ttraining's multi_logloss: 1.56291\tvalid_1's multi_logloss: 1.72068\n",
            "[300]\ttraining's multi_logloss: 1.49332\tvalid_1's multi_logloss: 1.71957\n",
            "[400]\ttraining's multi_logloss: 1.43389\tvalid_1's multi_logloss: 1.72271\n",
            "Early stopping, best iteration is:\n",
            "[308]\ttraining's multi_logloss: 1.48834\tvalid_1's multi_logloss: 1.71956\n",
            "Log loss for Model 1 is: 1.7195587965376684\n"
          ],
          "name": "stdout"
        }
      ]
    },
    {
      "cell_type": "code",
      "metadata": {
        "id": "wFLZwgpZfANJ",
        "colab_type": "code",
        "colab": {
          "base_uri": "https://localhost:8080/",
          "height": 282
        },
        "outputId": "c95a192f-6283-4f4a-df5e-f10f8d888316"
      },
      "source": [
        "fi = pd.Series(index=features, data = clf.feature_importances_)\n",
        "fi.sort_values(ascending=False)[:20][::-1].plot.barh()"
      ],
      "execution_count": 82,
      "outputs": [
        {
          "output_type": "execute_result",
          "data": {
            "text/plain": [
              "<matplotlib.axes._subplots.AxesSubplot at 0x7f1684771128>"
            ]
          },
          "metadata": {
            "tags": []
          },
          "execution_count": 82
        },
        {
          "output_type": "display_data",
          "data": {
            "image/png": "[encoded data removed]",
            "text/plain": [
              "<Figure size 432x288 with 1 Axes>"
            ]
          },
          "metadata": {
            "tags": [],
            "needs_background": "light"
          }
        }
      ]
    },
    {
      "cell_type": "code",
      "metadata": {
        "id": "_fpfJjGufcIk",
        "colab_type": "code",
        "colab": {}
      },
      "source": [
        "predictions_test_lgb = clf.predict_proba(X_test)"
      ],
      "execution_count": 83,
      "outputs": []
    },
    {
      "cell_type": "code",
      "metadata": {
        "id": "FkBb1WGpftCh",
        "colab_type": "code",
        "colab": {
          "base_uri": "https://localhost:8080/",
          "height": 190
        },
        "outputId": "d89bed69-1567-4ed7-a9f9-80b8d08bcb2f"
      },
      "source": [
        "submission = pd.DataFrame(data=predictions_test_lgb, columns=sub.columns)\n",
        "submission.head()"
      ],
      "execution_count": 84,
      "outputs": [
        {
          "output_type": "execute_result",
          "data": {
            "text/html": [
              "<div>\n",
              "<style scoped>\n",
              "    .dataframe tbody tr th:only-of-type {\n",
              "        vertical-align: middle;\n",
              "    }\n",
              "\n",
              "    .dataframe tbody tr th {\n",
              "        vertical-align: top;\n",
              "    }\n",
              "\n",
              "    .dataframe thead th {\n",
              "        text-align: right;\n",
              "    }\n",
              "</style>\n",
              "<table border=\"1\" class=\"dataframe\">\n",
              "  <thead>\n",
              "    <tr style=\"text-align: right;\">\n",
              "      <th></th>\n",
              "      <th>0</th>\n",
              "      <th>1</th>\n",
              "      <th>2</th>\n",
              "      <th>3</th>\n",
              "      <th>4</th>\n",
              "      <th>5</th>\n",
              "    </tr>\n",
              "  </thead>\n",
              "  <tbody>\n",
              "    <tr>\n",
              "      <th>0</th>\n",
              "      <td>0.132926</td>\n",
              "      <td>0.316492</td>\n",
              "      <td>0.176817</td>\n",
              "      <td>0.162578</td>\n",
              "      <td>0.065069</td>\n",
              "      <td>0.146119</td>\n",
              "    </tr>\n",
              "    <tr>\n",
              "      <th>1</th>\n",
              "      <td>0.091444</td>\n",
              "      <td>0.219297</td>\n",
              "      <td>0.188594</td>\n",
              "      <td>0.220669</td>\n",
              "      <td>0.062961</td>\n",
              "      <td>0.217034</td>\n",
              "    </tr>\n",
              "    <tr>\n",
              "      <th>2</th>\n",
              "      <td>0.139330</td>\n",
              "      <td>0.248671</td>\n",
              "      <td>0.206724</td>\n",
              "      <td>0.172965</td>\n",
              "      <td>0.100835</td>\n",
              "      <td>0.131474</td>\n",
              "    </tr>\n",
              "    <tr>\n",
              "      <th>3</th>\n",
              "      <td>0.196269</td>\n",
              "      <td>0.274059</td>\n",
              "      <td>0.169233</td>\n",
              "      <td>0.165142</td>\n",
              "      <td>0.086859</td>\n",
              "      <td>0.108438</td>\n",
              "    </tr>\n",
              "    <tr>\n",
              "      <th>4</th>\n",
              "      <td>0.164528</td>\n",
              "      <td>0.174057</td>\n",
              "      <td>0.213079</td>\n",
              "      <td>0.234513</td>\n",
              "      <td>0.072365</td>\n",
              "      <td>0.141457</td>\n",
              "    </tr>\n",
              "  </tbody>\n",
              "</table>\n",
              "</div>"
            ],
            "text/plain": [
              "          0         1         2         3         4         5\n",
              "0  0.132926  0.316492  0.176817  0.162578  0.065069  0.146119\n",
              "1  0.091444  0.219297  0.188594  0.220669  0.062961  0.217034\n",
              "2  0.139330  0.248671  0.206724  0.172965  0.100835  0.131474\n",
              "3  0.196269  0.274059  0.169233  0.165142  0.086859  0.108438\n",
              "4  0.164528  0.174057  0.213079  0.234513  0.072365  0.141457"
            ]
          },
          "metadata": {
            "tags": []
          },
          "execution_count": 84
        }
      ]
    },
    {
      "cell_type": "code",
      "metadata": {
        "id": "wnxlULVWfyv1",
        "colab_type": "code",
        "colab": {}
      },
      "source": [
        "submission.to_csv('Mh01.csv', index=False)"
      ],
      "execution_count": 85,
      "outputs": []
    },
    {
      "cell_type": "code",
      "metadata": {
        "id": "mduu8v_jxtug",
        "colab_type": "code",
        "colab": {}
      },
      "source": [
        ""
      ],
      "execution_count": null,
      "outputs": []
    },
    {
      "cell_type": "markdown",
      "metadata": {
        "id": "Nhmwlz-TkHCY",
        "colab_type": "text"
      },
      "source": [
        "# roberta"
      ]
    },
    {
      "cell_type": "code",
      "metadata": {
        "id": "FUkqHsHMkIb_",
        "colab_type": "code",
        "colab": {}
      },
      "source": [
        "df = pd.concat([train, test]).reset_index()"
      ],
      "execution_count": 26,
      "outputs": []
    },
    {
      "cell_type": "code",
      "metadata": {
        "id": "jHNd7k9JkIZI",
        "colab_type": "code",
        "colab": {
          "base_uri": "https://localhost:8080/",
          "height": 33
        },
        "outputId": "441e780e-9ae5-49e2-90a8-207f60bc91fd"
      },
      "source": [
        "word_embeddings = SentenceTransformer('roberta-large-nli-stsb-mean-tokens').encode(df.exam)"
      ],
      "execution_count": 27,
      "outputs": [
        {
          "output_type": "stream",
          "text": [
            "100%|██████████| 1.31G/1.31G [01:06<00:00, 19.8MB/s]\n"
          ],
          "name": "stderr"
        }
      ]
    },
    {
      "cell_type": "code",
      "metadata": {
        "id": "DW_d0siOkIW3",
        "colab_type": "code",
        "colab": {
          "base_uri": "https://localhost:8080/",
          "height": 210
        },
        "outputId": "9a3f4823-0305-4d09-b247-e5c2c3677b59"
      },
      "source": [
        "word_embeddings = pd.DataFrame(data=word_embeddings)\n",
        "word_embeddings.head(4)"
      ],
      "execution_count": 28,
      "outputs": [
        {
          "output_type": "execute_result",
          "data": {
            "text/html": [
              "<div>\n",
              "<style scoped>\n",
              "    .dataframe tbody tr th:only-of-type {\n",
              "        vertical-align: middle;\n",
              "    }\n",
              "\n",
              "    .dataframe tbody tr th {\n",
              "        vertical-align: top;\n",
              "    }\n",
              "\n",
              "    .dataframe thead th {\n",
              "        text-align: right;\n",
              "    }\n",
              "</style>\n",
              "<table border=\"1\" class=\"dataframe\">\n",
              "  <thead>\n",
              "    <tr style=\"text-align: right;\">\n",
              "      <th></th>\n",
              "      <th>0</th>\n",
              "      <th>1</th>\n",
              "      <th>2</th>\n",
              "      <th>3</th>\n",
              "      <th>4</th>\n",
              "      <th>5</th>\n",
              "      <th>6</th>\n",
              "      <th>7</th>\n",
              "      <th>8</th>\n",
              "      <th>9</th>\n",
              "      <th>10</th>\n",
              "      <th>11</th>\n",
              "      <th>12</th>\n",
              "      <th>13</th>\n",
              "      <th>14</th>\n",
              "      <th>15</th>\n",
              "      <th>16</th>\n",
              "      <th>17</th>\n",
              "      <th>18</th>\n",
              "      <th>19</th>\n",
              "      <th>20</th>\n",
              "      <th>21</th>\n",
              "      <th>22</th>\n",
              "      <th>23</th>\n",
              "      <th>24</th>\n",
              "      <th>25</th>\n",
              "      <th>26</th>\n",
              "      <th>27</th>\n",
              "      <th>28</th>\n",
              "      <th>29</th>\n",
              "      <th>30</th>\n",
              "      <th>31</th>\n",
              "      <th>32</th>\n",
              "      <th>33</th>\n",
              "      <th>34</th>\n",
              "      <th>35</th>\n",
              "      <th>36</th>\n",
              "      <th>37</th>\n",
              "      <th>38</th>\n",
              "      <th>39</th>\n",
              "      <th>...</th>\n",
              "      <th>984</th>\n",
              "      <th>985</th>\n",
              "      <th>986</th>\n",
              "      <th>987</th>\n",
              "      <th>988</th>\n",
              "      <th>989</th>\n",
              "      <th>990</th>\n",
              "      <th>991</th>\n",
              "      <th>992</th>\n",
              "      <th>993</th>\n",
              "      <th>994</th>\n",
              "      <th>995</th>\n",
              "      <th>996</th>\n",
              "      <th>997</th>\n",
              "      <th>998</th>\n",
              "      <th>999</th>\n",
              "      <th>1000</th>\n",
              "      <th>1001</th>\n",
              "      <th>1002</th>\n",
              "      <th>1003</th>\n",
              "      <th>1004</th>\n",
              "      <th>1005</th>\n",
              "      <th>1006</th>\n",
              "      <th>1007</th>\n",
              "      <th>1008</th>\n",
              "      <th>1009</th>\n",
              "      <th>1010</th>\n",
              "      <th>1011</th>\n",
              "      <th>1012</th>\n",
              "      <th>1013</th>\n",
              "      <th>1014</th>\n",
              "      <th>1015</th>\n",
              "      <th>1016</th>\n",
              "      <th>1017</th>\n",
              "      <th>1018</th>\n",
              "      <th>1019</th>\n",
              "      <th>1020</th>\n",
              "      <th>1021</th>\n",
              "      <th>1022</th>\n",
              "      <th>1023</th>\n",
              "    </tr>\n",
              "  </thead>\n",
              "  <tbody>\n",
              "    <tr>\n",
              "      <th>0</th>\n",
              "      <td>-0.801883</td>\n",
              "      <td>0.511661</td>\n",
              "      <td>0.272893</td>\n",
              "      <td>0.441221</td>\n",
              "      <td>0.463626</td>\n",
              "      <td>0.331225</td>\n",
              "      <td>1.214009</td>\n",
              "      <td>-0.217106</td>\n",
              "      <td>-1.140216</td>\n",
              "      <td>0.282758</td>\n",
              "      <td>-0.975920</td>\n",
              "      <td>-1.419697</td>\n",
              "      <td>0.257403</td>\n",
              "      <td>0.735011</td>\n",
              "      <td>-0.292063</td>\n",
              "      <td>-1.615715</td>\n",
              "      <td>0.647413</td>\n",
              "      <td>-0.322343</td>\n",
              "      <td>0.234186</td>\n",
              "      <td>-0.757872</td>\n",
              "      <td>-0.895169</td>\n",
              "      <td>-0.723663</td>\n",
              "      <td>-1.180914</td>\n",
              "      <td>-1.058129</td>\n",
              "      <td>0.107446</td>\n",
              "      <td>-0.295619</td>\n",
              "      <td>-0.030847</td>\n",
              "      <td>-0.401780</td>\n",
              "      <td>-0.584536</td>\n",
              "      <td>-0.051050</td>\n",
              "      <td>0.399052</td>\n",
              "      <td>-0.852768</td>\n",
              "      <td>0.208489</td>\n",
              "      <td>0.085622</td>\n",
              "      <td>-1.578175</td>\n",
              "      <td>-0.531752</td>\n",
              "      <td>0.323392</td>\n",
              "      <td>-0.784022</td>\n",
              "      <td>-1.496740</td>\n",
              "      <td>-0.645368</td>\n",
              "      <td>...</td>\n",
              "      <td>-0.302775</td>\n",
              "      <td>-0.282882</td>\n",
              "      <td>-0.077527</td>\n",
              "      <td>0.095239</td>\n",
              "      <td>-1.039294</td>\n",
              "      <td>-0.090900</td>\n",
              "      <td>-0.083196</td>\n",
              "      <td>0.266914</td>\n",
              "      <td>-0.021078</td>\n",
              "      <td>-0.222481</td>\n",
              "      <td>0.660045</td>\n",
              "      <td>-0.989475</td>\n",
              "      <td>-0.335516</td>\n",
              "      <td>-1.918082</td>\n",
              "      <td>-0.517694</td>\n",
              "      <td>0.555794</td>\n",
              "      <td>0.570587</td>\n",
              "      <td>-0.506178</td>\n",
              "      <td>0.027676</td>\n",
              "      <td>0.710457</td>\n",
              "      <td>-0.016272</td>\n",
              "      <td>0.049623</td>\n",
              "      <td>1.238207</td>\n",
              "      <td>-0.305549</td>\n",
              "      <td>-0.579361</td>\n",
              "      <td>-1.146383</td>\n",
              "      <td>0.463412</td>\n",
              "      <td>-0.265080</td>\n",
              "      <td>-1.001871</td>\n",
              "      <td>1.359082</td>\n",
              "      <td>0.188887</td>\n",
              "      <td>0.456408</td>\n",
              "      <td>0.904822</td>\n",
              "      <td>0.546142</td>\n",
              "      <td>0.018217</td>\n",
              "      <td>0.618712</td>\n",
              "      <td>-0.471544</td>\n",
              "      <td>0.772706</td>\n",
              "      <td>-0.635814</td>\n",
              "      <td>-0.327403</td>\n",
              "    </tr>\n",
              "    <tr>\n",
              "      <th>1</th>\n",
              "      <td>-0.065657</td>\n",
              "      <td>0.937802</td>\n",
              "      <td>1.334514</td>\n",
              "      <td>0.252647</td>\n",
              "      <td>0.394274</td>\n",
              "      <td>-0.679673</td>\n",
              "      <td>-1.148281</td>\n",
              "      <td>-0.144142</td>\n",
              "      <td>0.803068</td>\n",
              "      <td>-0.548930</td>\n",
              "      <td>0.411720</td>\n",
              "      <td>-0.266884</td>\n",
              "      <td>-0.238542</td>\n",
              "      <td>-0.182003</td>\n",
              "      <td>-0.235795</td>\n",
              "      <td>-0.725057</td>\n",
              "      <td>-0.645538</td>\n",
              "      <td>-0.224459</td>\n",
              "      <td>0.307029</td>\n",
              "      <td>-0.041149</td>\n",
              "      <td>0.300311</td>\n",
              "      <td>0.410458</td>\n",
              "      <td>-0.641302</td>\n",
              "      <td>0.083911</td>\n",
              "      <td>-0.996734</td>\n",
              "      <td>0.115280</td>\n",
              "      <td>-0.810110</td>\n",
              "      <td>-1.124860</td>\n",
              "      <td>0.300343</td>\n",
              "      <td>-1.099083</td>\n",
              "      <td>0.574459</td>\n",
              "      <td>0.336379</td>\n",
              "      <td>-0.708229</td>\n",
              "      <td>-0.272053</td>\n",
              "      <td>0.623871</td>\n",
              "      <td>-0.752064</td>\n",
              "      <td>-0.442056</td>\n",
              "      <td>0.020547</td>\n",
              "      <td>1.474250</td>\n",
              "      <td>-0.719255</td>\n",
              "      <td>...</td>\n",
              "      <td>0.458236</td>\n",
              "      <td>0.177231</td>\n",
              "      <td>-0.166351</td>\n",
              "      <td>-0.651130</td>\n",
              "      <td>0.737427</td>\n",
              "      <td>-0.232309</td>\n",
              "      <td>-0.295287</td>\n",
              "      <td>-0.292511</td>\n",
              "      <td>-0.728357</td>\n",
              "      <td>-1.053575</td>\n",
              "      <td>0.950193</td>\n",
              "      <td>-1.327629</td>\n",
              "      <td>-0.453734</td>\n",
              "      <td>-0.291895</td>\n",
              "      <td>0.790298</td>\n",
              "      <td>-0.293105</td>\n",
              "      <td>-1.869508</td>\n",
              "      <td>-0.359968</td>\n",
              "      <td>-0.203410</td>\n",
              "      <td>-0.864321</td>\n",
              "      <td>0.410455</td>\n",
              "      <td>-0.794275</td>\n",
              "      <td>-0.518989</td>\n",
              "      <td>0.027805</td>\n",
              "      <td>-0.924352</td>\n",
              "      <td>-1.544062</td>\n",
              "      <td>-0.777510</td>\n",
              "      <td>0.868630</td>\n",
              "      <td>-1.569012</td>\n",
              "      <td>0.082370</td>\n",
              "      <td>-0.778777</td>\n",
              "      <td>1.001443</td>\n",
              "      <td>-0.548175</td>\n",
              "      <td>1.132127</td>\n",
              "      <td>-0.192424</td>\n",
              "      <td>0.405482</td>\n",
              "      <td>-0.349500</td>\n",
              "      <td>-0.508972</td>\n",
              "      <td>-1.854057</td>\n",
              "      <td>0.005836</td>\n",
              "    </tr>\n",
              "    <tr>\n",
              "      <th>2</th>\n",
              "      <td>-1.164357</td>\n",
              "      <td>-0.756229</td>\n",
              "      <td>-0.253541</td>\n",
              "      <td>-1.411964</td>\n",
              "      <td>0.155720</td>\n",
              "      <td>-0.192438</td>\n",
              "      <td>-0.593016</td>\n",
              "      <td>1.088283</td>\n",
              "      <td>-0.449267</td>\n",
              "      <td>0.442307</td>\n",
              "      <td>-0.480819</td>\n",
              "      <td>-0.706141</td>\n",
              "      <td>-1.049064</td>\n",
              "      <td>1.032293</td>\n",
              "      <td>0.528963</td>\n",
              "      <td>-0.105588</td>\n",
              "      <td>1.321583</td>\n",
              "      <td>0.921122</td>\n",
              "      <td>0.694375</td>\n",
              "      <td>0.951267</td>\n",
              "      <td>-0.199727</td>\n",
              "      <td>-1.014720</td>\n",
              "      <td>-1.735588</td>\n",
              "      <td>-0.202829</td>\n",
              "      <td>-0.537754</td>\n",
              "      <td>0.220931</td>\n",
              "      <td>0.235791</td>\n",
              "      <td>-0.199278</td>\n",
              "      <td>-0.624736</td>\n",
              "      <td>-0.434325</td>\n",
              "      <td>-1.203798</td>\n",
              "      <td>-1.079593</td>\n",
              "      <td>0.613384</td>\n",
              "      <td>1.088589</td>\n",
              "      <td>-0.942701</td>\n",
              "      <td>-1.217841</td>\n",
              "      <td>0.338625</td>\n",
              "      <td>-0.038331</td>\n",
              "      <td>-1.181492</td>\n",
              "      <td>0.413882</td>\n",
              "      <td>...</td>\n",
              "      <td>0.527184</td>\n",
              "      <td>-0.454275</td>\n",
              "      <td>-0.551556</td>\n",
              "      <td>0.553771</td>\n",
              "      <td>0.398279</td>\n",
              "      <td>1.730838</td>\n",
              "      <td>-0.321381</td>\n",
              "      <td>-0.387629</td>\n",
              "      <td>0.268391</td>\n",
              "      <td>-0.206483</td>\n",
              "      <td>0.678006</td>\n",
              "      <td>0.613707</td>\n",
              "      <td>-0.578744</td>\n",
              "      <td>1.792660</td>\n",
              "      <td>-0.546838</td>\n",
              "      <td>0.317672</td>\n",
              "      <td>0.098957</td>\n",
              "      <td>0.240118</td>\n",
              "      <td>-1.008545</td>\n",
              "      <td>-0.062218</td>\n",
              "      <td>-1.190836</td>\n",
              "      <td>0.472364</td>\n",
              "      <td>0.104265</td>\n",
              "      <td>-1.138334</td>\n",
              "      <td>0.543779</td>\n",
              "      <td>0.254874</td>\n",
              "      <td>-0.040282</td>\n",
              "      <td>0.654161</td>\n",
              "      <td>-0.671741</td>\n",
              "      <td>1.429626</td>\n",
              "      <td>0.619683</td>\n",
              "      <td>1.391288</td>\n",
              "      <td>-0.416964</td>\n",
              "      <td>0.170247</td>\n",
              "      <td>-0.953644</td>\n",
              "      <td>0.235321</td>\n",
              "      <td>-0.963672</td>\n",
              "      <td>-1.880567</td>\n",
              "      <td>0.216914</td>\n",
              "      <td>-0.230296</td>\n",
              "    </tr>\n",
              "    <tr>\n",
              "      <th>3</th>\n",
              "      <td>0.600805</td>\n",
              "      <td>0.505085</td>\n",
              "      <td>0.603590</td>\n",
              "      <td>0.511605</td>\n",
              "      <td>0.775266</td>\n",
              "      <td>-0.093028</td>\n",
              "      <td>0.290949</td>\n",
              "      <td>-0.318093</td>\n",
              "      <td>-0.437430</td>\n",
              "      <td>0.000395</td>\n",
              "      <td>-0.157860</td>\n",
              "      <td>1.707440</td>\n",
              "      <td>-0.377165</td>\n",
              "      <td>0.479488</td>\n",
              "      <td>-0.379611</td>\n",
              "      <td>-1.269664</td>\n",
              "      <td>-0.253589</td>\n",
              "      <td>0.001603</td>\n",
              "      <td>-0.821549</td>\n",
              "      <td>-1.291210</td>\n",
              "      <td>-0.075261</td>\n",
              "      <td>0.797197</td>\n",
              "      <td>1.674821</td>\n",
              "      <td>-0.465363</td>\n",
              "      <td>1.328702</td>\n",
              "      <td>-0.341335</td>\n",
              "      <td>-0.524673</td>\n",
              "      <td>-0.435174</td>\n",
              "      <td>0.837961</td>\n",
              "      <td>-0.684701</td>\n",
              "      <td>-1.316985</td>\n",
              "      <td>-0.401352</td>\n",
              "      <td>-0.583970</td>\n",
              "      <td>0.428655</td>\n",
              "      <td>-0.697539</td>\n",
              "      <td>0.679382</td>\n",
              "      <td>-0.747504</td>\n",
              "      <td>-0.830236</td>\n",
              "      <td>-0.373260</td>\n",
              "      <td>-0.192130</td>\n",
              "      <td>...</td>\n",
              "      <td>-0.201329</td>\n",
              "      <td>-0.406040</td>\n",
              "      <td>-0.187641</td>\n",
              "      <td>-0.489907</td>\n",
              "      <td>-0.223781</td>\n",
              "      <td>0.547441</td>\n",
              "      <td>0.741735</td>\n",
              "      <td>0.828914</td>\n",
              "      <td>-0.946390</td>\n",
              "      <td>-0.166673</td>\n",
              "      <td>0.527885</td>\n",
              "      <td>-0.671121</td>\n",
              "      <td>-1.212912</td>\n",
              "      <td>-0.777085</td>\n",
              "      <td>-0.556243</td>\n",
              "      <td>0.016882</td>\n",
              "      <td>0.026109</td>\n",
              "      <td>-0.821794</td>\n",
              "      <td>-1.126272</td>\n",
              "      <td>-0.728123</td>\n",
              "      <td>-0.608869</td>\n",
              "      <td>-1.651639</td>\n",
              "      <td>1.132287</td>\n",
              "      <td>-0.130393</td>\n",
              "      <td>0.659210</td>\n",
              "      <td>-0.361745</td>\n",
              "      <td>0.981023</td>\n",
              "      <td>-0.330118</td>\n",
              "      <td>-1.503566</td>\n",
              "      <td>1.950964</td>\n",
              "      <td>0.249735</td>\n",
              "      <td>-0.106412</td>\n",
              "      <td>-0.412975</td>\n",
              "      <td>0.098251</td>\n",
              "      <td>0.806665</td>\n",
              "      <td>-0.225918</td>\n",
              "      <td>-0.068621</td>\n",
              "      <td>1.446685</td>\n",
              "      <td>0.781926</td>\n",
              "      <td>-0.499272</td>\n",
              "    </tr>\n",
              "  </tbody>\n",
              "</table>\n",
              "<p>4 rows × 1024 columns</p>\n",
              "</div>"
            ],
            "text/plain": [
              "       0         1         2     ...      1021      1022      1023\n",
              "0 -0.801883  0.511661  0.272893  ...  0.772706 -0.635814 -0.327403\n",
              "1 -0.065657  0.937802  1.334514  ... -0.508972 -1.854057  0.005836\n",
              "2 -1.164357 -0.756229 -0.253541  ... -1.880567  0.216914 -0.230296\n",
              "3  0.600805  0.505085  0.603590  ...  1.446685  0.781926 -0.499272\n",
              "\n",
              "[4 rows x 1024 columns]"
            ]
          },
          "metadata": {
            "tags": []
          },
          "execution_count": 28
        }
      ]
    },
    {
      "cell_type": "code",
      "metadata": {
        "id": "dDfhaoBMkrsX",
        "colab_type": "code",
        "colab": {}
      },
      "source": [
        "from sklearn.decomposition import PCA\n",
        "pca = pd.DataFrame(data=PCA(10).fit_transform(word_embeddings), columns=[f'pca{i}' for i in range(1,11)])"
      ],
      "execution_count": 29,
      "outputs": []
    },
    {
      "cell_type": "code",
      "metadata": {
        "id": "IYcOYcLCkrqg",
        "colab_type": "code",
        "colab": {
          "base_uri": "https://localhost:8080/",
          "height": 210
        },
        "outputId": "6613a940-9255-4c0f-833a-158bdb972f07"
      },
      "source": [
        "df['Length'] = df['exam'].apply(len)\n",
        "df = pd.concat([df.drop('exam', axis=1), word_embeddings, pca], axis=1)\n",
        "df.head(4)"
      ],
      "execution_count": 30,
      "outputs": [
        {
          "output_type": "execute_result",
          "data": {
            "text/html": [
              "<div>\n",
              "<style scoped>\n",
              "    .dataframe tbody tr th:only-of-type {\n",
              "        vertical-align: middle;\n",
              "    }\n",
              "\n",
              "    .dataframe tbody tr th {\n",
              "        vertical-align: top;\n",
              "    }\n",
              "\n",
              "    .dataframe thead th {\n",
              "        text-align: right;\n",
              "    }\n",
              "</style>\n",
              "<table border=\"1\" class=\"dataframe\">\n",
              "  <thead>\n",
              "    <tr style=\"text-align: right;\">\n",
              "      <th></th>\n",
              "      <th>index</th>\n",
              "      <th>Labels</th>\n",
              "      <th>Text_Top_0</th>\n",
              "      <th>Text_Top_1</th>\n",
              "      <th>Text_Top_2</th>\n",
              "      <th>Text_Top_3</th>\n",
              "      <th>Text_Top_4</th>\n",
              "      <th>Text_Top_5</th>\n",
              "      <th>Text_Top_6</th>\n",
              "      <th>Text_Top_7</th>\n",
              "      <th>Text_Top_8</th>\n",
              "      <th>Text_Top_9</th>\n",
              "      <th>Text_Top_10</th>\n",
              "      <th>Text_Top_11</th>\n",
              "      <th>Text_Top_12</th>\n",
              "      <th>Text_Top_13</th>\n",
              "      <th>Text_Top_14</th>\n",
              "      <th>Text_Top_15</th>\n",
              "      <th>Text_Top_16</th>\n",
              "      <th>Text_Top_17</th>\n",
              "      <th>Text_Top_18</th>\n",
              "      <th>Text_Top_19</th>\n",
              "      <th>Text_Top_20</th>\n",
              "      <th>Text_Top_21</th>\n",
              "      <th>Text_Top_22</th>\n",
              "      <th>Text_Top_23</th>\n",
              "      <th>Text_Top_24</th>\n",
              "      <th>Text_Top_25</th>\n",
              "      <th>Text_Top_26</th>\n",
              "      <th>Text_Top_27</th>\n",
              "      <th>Text_Top_28</th>\n",
              "      <th>Text_Top_29</th>\n",
              "      <th>Text_Top_30</th>\n",
              "      <th>Text_Top_31</th>\n",
              "      <th>Text_Top_32</th>\n",
              "      <th>Text_Top_33</th>\n",
              "      <th>Text_Top_34</th>\n",
              "      <th>Text_Top_35</th>\n",
              "      <th>Text_Top_36</th>\n",
              "      <th>Text_Top_37</th>\n",
              "      <th>...</th>\n",
              "      <th>pca961</th>\n",
              "      <th>pca962</th>\n",
              "      <th>pca963</th>\n",
              "      <th>pca964</th>\n",
              "      <th>pca965</th>\n",
              "      <th>pca966</th>\n",
              "      <th>pca967</th>\n",
              "      <th>pca968</th>\n",
              "      <th>pca969</th>\n",
              "      <th>pca970</th>\n",
              "      <th>pca971</th>\n",
              "      <th>pca972</th>\n",
              "      <th>pca973</th>\n",
              "      <th>pca974</th>\n",
              "      <th>pca975</th>\n",
              "      <th>pca976</th>\n",
              "      <th>pca977</th>\n",
              "      <th>pca978</th>\n",
              "      <th>pca979</th>\n",
              "      <th>pca980</th>\n",
              "      <th>pca981</th>\n",
              "      <th>pca982</th>\n",
              "      <th>pca983</th>\n",
              "      <th>pca984</th>\n",
              "      <th>pca985</th>\n",
              "      <th>pca986</th>\n",
              "      <th>pca987</th>\n",
              "      <th>pca988</th>\n",
              "      <th>pca989</th>\n",
              "      <th>pca990</th>\n",
              "      <th>pca991</th>\n",
              "      <th>pca992</th>\n",
              "      <th>pca993</th>\n",
              "      <th>pca994</th>\n",
              "      <th>pca995</th>\n",
              "      <th>pca996</th>\n",
              "      <th>pca997</th>\n",
              "      <th>pca998</th>\n",
              "      <th>pca999</th>\n",
              "      <th>pca1000</th>\n",
              "    </tr>\n",
              "  </thead>\n",
              "  <tbody>\n",
              "    <tr>\n",
              "      <th>0</th>\n",
              "      <td>0</td>\n",
              "      <td>1.0</td>\n",
              "      <td>0.0</td>\n",
              "      <td>0.0</td>\n",
              "      <td>0.0</td>\n",
              "      <td>0.0</td>\n",
              "      <td>0.0</td>\n",
              "      <td>0.0</td>\n",
              "      <td>0.0</td>\n",
              "      <td>0.0</td>\n",
              "      <td>0.0</td>\n",
              "      <td>0.0</td>\n",
              "      <td>0.0</td>\n",
              "      <td>0.0</td>\n",
              "      <td>0.0</td>\n",
              "      <td>0.0</td>\n",
              "      <td>0.0</td>\n",
              "      <td>0.0</td>\n",
              "      <td>0.0</td>\n",
              "      <td>0.0</td>\n",
              "      <td>0.0</td>\n",
              "      <td>0.0</td>\n",
              "      <td>0.0</td>\n",
              "      <td>0.0</td>\n",
              "      <td>0.0</td>\n",
              "      <td>0.0</td>\n",
              "      <td>0.0</td>\n",
              "      <td>0.0</td>\n",
              "      <td>0.0</td>\n",
              "      <td>0.0</td>\n",
              "      <td>0.0</td>\n",
              "      <td>0.0</td>\n",
              "      <td>0.0</td>\n",
              "      <td>0.0</td>\n",
              "      <td>0.0</td>\n",
              "      <td>0.0</td>\n",
              "      <td>0.0</td>\n",
              "      <td>0.0</td>\n",
              "      <td>0.0</td>\n",
              "      <td>0.0</td>\n",
              "      <td>...</td>\n",
              "      <td>0.023809</td>\n",
              "      <td>0.184734</td>\n",
              "      <td>0.093773</td>\n",
              "      <td>0.030854</td>\n",
              "      <td>-0.010382</td>\n",
              "      <td>-0.040800</td>\n",
              "      <td>-0.047846</td>\n",
              "      <td>0.074355</td>\n",
              "      <td>-0.017982</td>\n",
              "      <td>-0.010012</td>\n",
              "      <td>-0.039856</td>\n",
              "      <td>-0.063670</td>\n",
              "      <td>0.078074</td>\n",
              "      <td>0.042075</td>\n",
              "      <td>0.036134</td>\n",
              "      <td>0.157250</td>\n",
              "      <td>-0.004888</td>\n",
              "      <td>0.003015</td>\n",
              "      <td>0.095547</td>\n",
              "      <td>-0.017156</td>\n",
              "      <td>0.072240</td>\n",
              "      <td>0.010352</td>\n",
              "      <td>-0.168875</td>\n",
              "      <td>0.017262</td>\n",
              "      <td>-0.002630</td>\n",
              "      <td>0.102842</td>\n",
              "      <td>-0.011804</td>\n",
              "      <td>-0.081018</td>\n",
              "      <td>-0.011618</td>\n",
              "      <td>0.042732</td>\n",
              "      <td>-0.001464</td>\n",
              "      <td>-0.043880</td>\n",
              "      <td>0.096391</td>\n",
              "      <td>0.093853</td>\n",
              "      <td>-0.080673</td>\n",
              "      <td>-0.060186</td>\n",
              "      <td>0.112491</td>\n",
              "      <td>-0.001261</td>\n",
              "      <td>0.061843</td>\n",
              "      <td>0.120300</td>\n",
              "    </tr>\n",
              "    <tr>\n",
              "      <th>1</th>\n",
              "      <td>1</td>\n",
              "      <td>2.0</td>\n",
              "      <td>0.0</td>\n",
              "      <td>0.0</td>\n",
              "      <td>0.0</td>\n",
              "      <td>0.0</td>\n",
              "      <td>0.0</td>\n",
              "      <td>0.0</td>\n",
              "      <td>0.0</td>\n",
              "      <td>0.0</td>\n",
              "      <td>0.0</td>\n",
              "      <td>0.0</td>\n",
              "      <td>0.0</td>\n",
              "      <td>0.0</td>\n",
              "      <td>0.0</td>\n",
              "      <td>0.0</td>\n",
              "      <td>0.0</td>\n",
              "      <td>0.0</td>\n",
              "      <td>0.0</td>\n",
              "      <td>0.0</td>\n",
              "      <td>0.0</td>\n",
              "      <td>0.0</td>\n",
              "      <td>0.0</td>\n",
              "      <td>0.0</td>\n",
              "      <td>0.0</td>\n",
              "      <td>0.0</td>\n",
              "      <td>0.0</td>\n",
              "      <td>0.0</td>\n",
              "      <td>0.0</td>\n",
              "      <td>0.0</td>\n",
              "      <td>0.0</td>\n",
              "      <td>0.0</td>\n",
              "      <td>0.0</td>\n",
              "      <td>0.0</td>\n",
              "      <td>0.0</td>\n",
              "      <td>0.0</td>\n",
              "      <td>0.0</td>\n",
              "      <td>0.0</td>\n",
              "      <td>0.0</td>\n",
              "      <td>0.0</td>\n",
              "      <td>...</td>\n",
              "      <td>0.077225</td>\n",
              "      <td>-0.060260</td>\n",
              "      <td>-0.104936</td>\n",
              "      <td>-0.107907</td>\n",
              "      <td>0.076472</td>\n",
              "      <td>-0.162036</td>\n",
              "      <td>-0.065965</td>\n",
              "      <td>-0.024900</td>\n",
              "      <td>-0.079201</td>\n",
              "      <td>0.067747</td>\n",
              "      <td>-0.076460</td>\n",
              "      <td>-0.196543</td>\n",
              "      <td>0.037028</td>\n",
              "      <td>0.082739</td>\n",
              "      <td>-0.049011</td>\n",
              "      <td>0.032540</td>\n",
              "      <td>-0.132201</td>\n",
              "      <td>-0.000360</td>\n",
              "      <td>-0.022337</td>\n",
              "      <td>-0.038148</td>\n",
              "      <td>-0.085780</td>\n",
              "      <td>0.006288</td>\n",
              "      <td>-0.074732</td>\n",
              "      <td>-0.064538</td>\n",
              "      <td>0.131269</td>\n",
              "      <td>-0.080810</td>\n",
              "      <td>0.040024</td>\n",
              "      <td>0.050213</td>\n",
              "      <td>0.084073</td>\n",
              "      <td>-0.018483</td>\n",
              "      <td>-0.046730</td>\n",
              "      <td>-0.011207</td>\n",
              "      <td>-0.195305</td>\n",
              "      <td>-0.002421</td>\n",
              "      <td>-0.097465</td>\n",
              "      <td>-0.028483</td>\n",
              "      <td>-0.059795</td>\n",
              "      <td>-0.103951</td>\n",
              "      <td>0.085372</td>\n",
              "      <td>-0.052157</td>\n",
              "    </tr>\n",
              "    <tr>\n",
              "      <th>2</th>\n",
              "      <td>2</td>\n",
              "      <td>3.0</td>\n",
              "      <td>0.0</td>\n",
              "      <td>0.0</td>\n",
              "      <td>0.0</td>\n",
              "      <td>0.0</td>\n",
              "      <td>0.0</td>\n",
              "      <td>0.0</td>\n",
              "      <td>0.0</td>\n",
              "      <td>0.0</td>\n",
              "      <td>0.0</td>\n",
              "      <td>0.0</td>\n",
              "      <td>0.0</td>\n",
              "      <td>0.0</td>\n",
              "      <td>0.0</td>\n",
              "      <td>0.0</td>\n",
              "      <td>0.0</td>\n",
              "      <td>0.0</td>\n",
              "      <td>0.0</td>\n",
              "      <td>0.0</td>\n",
              "      <td>0.0</td>\n",
              "      <td>0.0</td>\n",
              "      <td>0.0</td>\n",
              "      <td>0.0</td>\n",
              "      <td>0.0</td>\n",
              "      <td>0.0</td>\n",
              "      <td>0.0</td>\n",
              "      <td>0.0</td>\n",
              "      <td>0.0</td>\n",
              "      <td>0.0</td>\n",
              "      <td>0.0</td>\n",
              "      <td>0.0</td>\n",
              "      <td>0.0</td>\n",
              "      <td>0.0</td>\n",
              "      <td>0.0</td>\n",
              "      <td>0.0</td>\n",
              "      <td>0.0</td>\n",
              "      <td>0.0</td>\n",
              "      <td>0.0</td>\n",
              "      <td>0.0</td>\n",
              "      <td>...</td>\n",
              "      <td>0.037645</td>\n",
              "      <td>0.053626</td>\n",
              "      <td>0.044438</td>\n",
              "      <td>0.076664</td>\n",
              "      <td>0.002145</td>\n",
              "      <td>-0.051960</td>\n",
              "      <td>0.008248</td>\n",
              "      <td>0.025148</td>\n",
              "      <td>0.000114</td>\n",
              "      <td>0.087067</td>\n",
              "      <td>-0.055219</td>\n",
              "      <td>0.001987</td>\n",
              "      <td>0.119827</td>\n",
              "      <td>-0.046102</td>\n",
              "      <td>0.119273</td>\n",
              "      <td>0.065535</td>\n",
              "      <td>0.051255</td>\n",
              "      <td>-0.090670</td>\n",
              "      <td>-0.073593</td>\n",
              "      <td>0.052585</td>\n",
              "      <td>0.013812</td>\n",
              "      <td>-0.022018</td>\n",
              "      <td>0.045060</td>\n",
              "      <td>-0.063626</td>\n",
              "      <td>0.072032</td>\n",
              "      <td>-0.045163</td>\n",
              "      <td>0.075317</td>\n",
              "      <td>-0.181806</td>\n",
              "      <td>-0.096549</td>\n",
              "      <td>-0.023779</td>\n",
              "      <td>-0.077321</td>\n",
              "      <td>0.075393</td>\n",
              "      <td>0.025453</td>\n",
              "      <td>-0.047526</td>\n",
              "      <td>-0.041880</td>\n",
              "      <td>0.015985</td>\n",
              "      <td>-0.044579</td>\n",
              "      <td>-0.045965</td>\n",
              "      <td>0.029653</td>\n",
              "      <td>-0.008133</td>\n",
              "    </tr>\n",
              "    <tr>\n",
              "      <th>3</th>\n",
              "      <td>3</td>\n",
              "      <td>1.0</td>\n",
              "      <td>0.0</td>\n",
              "      <td>0.0</td>\n",
              "      <td>0.0</td>\n",
              "      <td>0.0</td>\n",
              "      <td>0.0</td>\n",
              "      <td>0.0</td>\n",
              "      <td>0.0</td>\n",
              "      <td>0.0</td>\n",
              "      <td>0.0</td>\n",
              "      <td>0.0</td>\n",
              "      <td>0.0</td>\n",
              "      <td>0.0</td>\n",
              "      <td>0.0</td>\n",
              "      <td>0.0</td>\n",
              "      <td>0.0</td>\n",
              "      <td>0.0</td>\n",
              "      <td>0.0</td>\n",
              "      <td>0.0</td>\n",
              "      <td>0.0</td>\n",
              "      <td>0.0</td>\n",
              "      <td>0.0</td>\n",
              "      <td>0.0</td>\n",
              "      <td>0.0</td>\n",
              "      <td>0.0</td>\n",
              "      <td>0.0</td>\n",
              "      <td>0.0</td>\n",
              "      <td>0.0</td>\n",
              "      <td>0.0</td>\n",
              "      <td>0.0</td>\n",
              "      <td>0.0</td>\n",
              "      <td>0.0</td>\n",
              "      <td>0.0</td>\n",
              "      <td>0.0</td>\n",
              "      <td>0.0</td>\n",
              "      <td>0.0</td>\n",
              "      <td>0.0</td>\n",
              "      <td>0.0</td>\n",
              "      <td>0.0</td>\n",
              "      <td>...</td>\n",
              "      <td>0.089885</td>\n",
              "      <td>-0.009769</td>\n",
              "      <td>-0.028286</td>\n",
              "      <td>0.042529</td>\n",
              "      <td>0.140157</td>\n",
              "      <td>-0.078353</td>\n",
              "      <td>-0.160066</td>\n",
              "      <td>0.009059</td>\n",
              "      <td>0.137557</td>\n",
              "      <td>-0.122069</td>\n",
              "      <td>0.097059</td>\n",
              "      <td>-0.140539</td>\n",
              "      <td>0.060592</td>\n",
              "      <td>-0.103793</td>\n",
              "      <td>-0.133793</td>\n",
              "      <td>0.024419</td>\n",
              "      <td>-0.092305</td>\n",
              "      <td>0.167432</td>\n",
              "      <td>-0.061101</td>\n",
              "      <td>0.067233</td>\n",
              "      <td>-0.150801</td>\n",
              "      <td>-0.044584</td>\n",
              "      <td>0.098918</td>\n",
              "      <td>0.032599</td>\n",
              "      <td>0.131059</td>\n",
              "      <td>0.004597</td>\n",
              "      <td>0.063609</td>\n",
              "      <td>0.063597</td>\n",
              "      <td>0.041731</td>\n",
              "      <td>-0.063226</td>\n",
              "      <td>-0.029099</td>\n",
              "      <td>-0.086719</td>\n",
              "      <td>0.111554</td>\n",
              "      <td>-0.133897</td>\n",
              "      <td>0.049291</td>\n",
              "      <td>-0.061517</td>\n",
              "      <td>0.005382</td>\n",
              "      <td>0.096425</td>\n",
              "      <td>-0.026016</td>\n",
              "      <td>-0.007693</td>\n",
              "    </tr>\n",
              "  </tbody>\n",
              "</table>\n",
              "<p>4 rows × 12043 columns</p>\n",
              "</div>"
            ],
            "text/plain": [
              "   index  Labels  Text_Top_0  ...    pca998    pca999   pca1000\n",
              "0      0     1.0         0.0  ... -0.001261  0.061843  0.120300\n",
              "1      1     2.0         0.0  ... -0.103951  0.085372 -0.052157\n",
              "2      2     3.0         0.0  ... -0.045965  0.029653 -0.008133\n",
              "3      3     1.0         0.0  ...  0.096425 -0.026016 -0.007693\n",
              "\n",
              "[4 rows x 12043 columns]"
            ]
          },
          "metadata": {
            "tags": []
          },
          "execution_count": 30
        }
      ]
    },
    {
      "cell_type": "code",
      "metadata": {
        "id": "sy2GJBntlYKS",
        "colab_type": "code",
        "colab": {}
      },
      "source": [
        "train_df = df[df.Labels.notnull()]\n",
        "test_df = df[df.Labels.isnull()]"
      ],
      "execution_count": 31,
      "outputs": []
    },
    {
      "cell_type": "code",
      "metadata": {
        "id": "wiFnf8PElYOd",
        "colab_type": "code",
        "colab": {}
      },
      "source": [
        "X, y = train_df.drop(['index','Labels'], axis=1), train_df.Labels\n",
        "\n",
        "X_train, X_test, y_train, y_test = train_test_split(X, y, test_size=0.1, random_state=42)"
      ],
      "execution_count": 32,
      "outputs": []
    },
    {
      "cell_type": "code",
      "metadata": {
        "id": "kzI1wSNilYH5",
        "colab_type": "code",
        "colab": {
          "base_uri": "https://localhost:8080/",
          "height": 1000
        },
        "outputId": "4e4f9421-69b7-49a4-d5fa-fd4ec935b510"
      },
      "source": [
        "\n",
        "model_cat = CatBoostClassifier(od_type='Iter', iterations=10000, task_type='GPU')\n",
        "model_cat.fit(X_train, y_train.astype(int),\n",
        "              eval_set=(X_test, y_test.astype(int)),\n",
        "              early_stopping_rounds=100,\n",
        ")"
      ],
      "execution_count": 33,
      "outputs": [
        {
          "output_type": "stream",
          "text": [
            "Learning rate set to 0.048112\n",
            "0:\tlearn: 1.7869498\ttest: 1.7874637\tbest: 1.7874637 (0)\ttotal: 322ms\tremaining: 53m 35s\n",
            "1:\tlearn: 1.7816338\ttest: 1.7831967\tbest: 1.7831967 (1)\ttotal: 459ms\tremaining: 38m 12s\n",
            "2:\tlearn: 1.7768357\ttest: 1.7786288\tbest: 1.7786288 (2)\ttotal: 591ms\tremaining: 32m 49s\n",
            "3:\tlearn: 1.7717630\ttest: 1.7747588\tbest: 1.7747588 (3)\ttotal: 727ms\tremaining: 30m 16s\n",
            "4:\tlearn: 1.7676934\ttest: 1.7710834\tbest: 1.7710834 (4)\ttotal: 826ms\tremaining: 27m 30s\n",
            "5:\tlearn: 1.7634968\ttest: 1.7683797\tbest: 1.7683797 (5)\ttotal: 960ms\tremaining: 26m 38s\n",
            "6:\tlearn: 1.7593287\ttest: 1.7651303\tbest: 1.7651303 (6)\ttotal: 1.09s\tremaining: 25m 58s\n",
            "7:\tlearn: 1.7556977\ttest: 1.7627134\tbest: 1.7627134 (7)\ttotal: 1.22s\tremaining: 25m 28s\n",
            "8:\tlearn: 1.7523903\ttest: 1.7596689\tbest: 1.7596689 (8)\ttotal: 1.36s\tremaining: 25m 7s\n",
            "9:\tlearn: 1.7487078\ttest: 1.7573211\tbest: 1.7573211 (9)\ttotal: 1.5s\tremaining: 24m 55s\n",
            "10:\tlearn: 1.7458543\ttest: 1.7550200\tbest: 1.7550200 (10)\ttotal: 1.61s\tremaining: 24m 24s\n",
            "11:\tlearn: 1.7427805\ttest: 1.7525357\tbest: 1.7525357 (11)\ttotal: 1.74s\tremaining: 24m 4s\n",
            "12:\tlearn: 1.7399903\ttest: 1.7506104\tbest: 1.7506104 (12)\ttotal: 1.86s\tremaining: 23m 50s\n",
            "13:\tlearn: 1.7365180\ttest: 1.7485106\tbest: 1.7485106 (13)\ttotal: 2s\tremaining: 23m 47s\n",
            "14:\tlearn: 1.7340705\ttest: 1.7464914\tbest: 1.7464914 (14)\ttotal: 2.12s\tremaining: 23m 28s\n",
            "15:\tlearn: 1.7319100\ttest: 1.7449142\tbest: 1.7449142 (15)\ttotal: 2.24s\tremaining: 23m 17s\n",
            "16:\tlearn: 1.7295150\ttest: 1.7438432\tbest: 1.7438432 (16)\ttotal: 2.35s\tremaining: 23m 2s\n",
            "17:\tlearn: 1.7269666\ttest: 1.7427531\tbest: 1.7427531 (17)\ttotal: 2.48s\tremaining: 22m 57s\n",
            "18:\tlearn: 1.7238913\ttest: 1.7409079\tbest: 1.7409079 (18)\ttotal: 2.63s\tremaining: 23m 4s\n",
            "19:\tlearn: 1.7216770\ttest: 1.7399172\tbest: 1.7399172 (19)\ttotal: 2.77s\tremaining: 23m\n",
            "20:\tlearn: 1.7190340\ttest: 1.7384448\tbest: 1.7384448 (20)\ttotal: 2.9s\tremaining: 22m 59s\n",
            "21:\tlearn: 1.7165920\ttest: 1.7370017\tbest: 1.7370017 (21)\ttotal: 3.04s\tremaining: 22m 59s\n",
            "22:\tlearn: 1.7144868\ttest: 1.7356935\tbest: 1.7356935 (22)\ttotal: 3.18s\tremaining: 22m 58s\n",
            "23:\tlearn: 1.7127682\ttest: 1.7344170\tbest: 1.7344170 (23)\ttotal: 3.28s\tremaining: 22m 45s\n",
            "24:\tlearn: 1.7097931\ttest: 1.7330956\tbest: 1.7330956 (24)\ttotal: 3.42s\tremaining: 22m 45s\n",
            "25:\tlearn: 1.7081849\ttest: 1.7322867\tbest: 1.7322867 (25)\ttotal: 3.54s\tremaining: 22m 39s\n",
            "26:\tlearn: 1.7062186\ttest: 1.7313943\tbest: 1.7313943 (26)\ttotal: 3.68s\tremaining: 22m 37s\n",
            "27:\tlearn: 1.7045709\ttest: 1.7307559\tbest: 1.7307559 (27)\ttotal: 3.8s\tremaining: 22m 34s\n",
            "28:\tlearn: 1.7024810\ttest: 1.7299769\tbest: 1.7299769 (28)\ttotal: 3.94s\tremaining: 22m 35s\n",
            "29:\tlearn: 1.7001372\ttest: 1.7295554\tbest: 1.7295554 (29)\ttotal: 4.08s\tremaining: 22m 36s\n",
            "30:\tlearn: 1.6980695\ttest: 1.7279923\tbest: 1.7279923 (30)\ttotal: 4.22s\tremaining: 22m 38s\n",
            "31:\tlearn: 1.6960203\ttest: 1.7274007\tbest: 1.7274007 (31)\ttotal: 4.36s\tremaining: 22m 38s\n",
            "32:\tlearn: 1.6942612\ttest: 1.7266961\tbest: 1.7266961 (32)\ttotal: 4.5s\tremaining: 22m 37s\n",
            "33:\tlearn: 1.6922021\ttest: 1.7255878\tbest: 1.7255878 (33)\ttotal: 4.63s\tremaining: 22m 36s\n",
            "34:\tlearn: 1.6908247\ttest: 1.7250271\tbest: 1.7250271 (34)\ttotal: 4.76s\tremaining: 22m 34s\n",
            "35:\tlearn: 1.6888366\ttest: 1.7244536\tbest: 1.7244536 (35)\ttotal: 4.89s\tremaining: 22m 34s\n",
            "36:\tlearn: 1.6872546\ttest: 1.7242177\tbest: 1.7242177 (36)\ttotal: 5.03s\tremaining: 22m 34s\n",
            "37:\tlearn: 1.6853244\ttest: 1.7241907\tbest: 1.7241907 (37)\ttotal: 5.17s\tremaining: 22m 34s\n",
            "38:\tlearn: 1.6834076\ttest: 1.7233932\tbest: 1.7233932 (38)\ttotal: 5.3s\tremaining: 22m 34s\n",
            "39:\tlearn: 1.6819763\ttest: 1.7226025\tbest: 1.7226025 (39)\ttotal: 5.42s\tremaining: 22m 30s\n",
            "40:\tlearn: 1.6805591\ttest: 1.7220219\tbest: 1.7220219 (40)\ttotal: 5.57s\tremaining: 22m 32s\n",
            "41:\tlearn: 1.6792026\ttest: 1.7220047\tbest: 1.7220047 (41)\ttotal: 5.69s\tremaining: 22m 29s\n",
            "42:\tlearn: 1.6776547\ttest: 1.7213364\tbest: 1.7213364 (42)\ttotal: 5.81s\tremaining: 22m 25s\n",
            "43:\tlearn: 1.6764815\ttest: 1.7211604\tbest: 1.7211604 (43)\ttotal: 5.92s\tremaining: 22m 19s\n",
            "44:\tlearn: 1.6752357\ttest: 1.7208070\tbest: 1.7208070 (44)\ttotal: 6.03s\tremaining: 22m 14s\n",
            "45:\tlearn: 1.6737527\ttest: 1.7200806\tbest: 1.7200806 (45)\ttotal: 6.16s\tremaining: 22m 12s\n",
            "46:\tlearn: 1.6719038\ttest: 1.7195414\tbest: 1.7195414 (46)\ttotal: 6.31s\tremaining: 22m 15s\n",
            "47:\tlearn: 1.6705939\ttest: 1.7193708\tbest: 1.7193708 (47)\ttotal: 6.43s\tremaining: 22m 13s\n",
            "48:\tlearn: 1.6690547\ttest: 1.7190751\tbest: 1.7190751 (48)\ttotal: 6.58s\tremaining: 22m 15s\n",
            "49:\tlearn: 1.6675578\ttest: 1.7190771\tbest: 1.7190751 (48)\ttotal: 6.71s\tremaining: 22m 15s\n",
            "50:\tlearn: 1.6664471\ttest: 1.7185032\tbest: 1.7185032 (50)\ttotal: 6.83s\tremaining: 22m 12s\n",
            "51:\tlearn: 1.6651547\ttest: 1.7180917\tbest: 1.7180917 (51)\ttotal: 6.96s\tremaining: 22m 10s\n",
            "52:\tlearn: 1.6637837\ttest: 1.7179310\tbest: 1.7179310 (52)\ttotal: 7.08s\tremaining: 22m 9s\n",
            "53:\tlearn: 1.6627489\ttest: 1.7175809\tbest: 1.7175809 (53)\ttotal: 7.21s\tremaining: 22m 8s\n",
            "54:\tlearn: 1.6616170\ttest: 1.7172381\tbest: 1.7172381 (54)\ttotal: 7.33s\tremaining: 22m 6s\n",
            "55:\tlearn: 1.6599439\ttest: 1.7165433\tbest: 1.7165433 (55)\ttotal: 7.47s\tremaining: 22m 6s\n",
            "56:\tlearn: 1.6590136\ttest: 1.7162726\tbest: 1.7162726 (56)\ttotal: 7.58s\tremaining: 22m 2s\n",
            "57:\tlearn: 1.6570671\ttest: 1.7157421\tbest: 1.7157421 (57)\ttotal: 7.72s\tremaining: 22m 4s\n",
            "58:\tlearn: 1.6559086\ttest: 1.7150708\tbest: 1.7150708 (58)\ttotal: 7.84s\tremaining: 22m 1s\n",
            "59:\tlearn: 1.6540316\ttest: 1.7147082\tbest: 1.7147082 (59)\ttotal: 7.98s\tremaining: 22m 1s\n",
            "60:\tlearn: 1.6521398\ttest: 1.7145671\tbest: 1.7145671 (60)\ttotal: 8.12s\tremaining: 22m 3s\n",
            "61:\tlearn: 1.6509789\ttest: 1.7142503\tbest: 1.7142503 (61)\ttotal: 8.23s\tremaining: 21m 59s\n",
            "62:\tlearn: 1.6496298\ttest: 1.7142737\tbest: 1.7142503 (61)\ttotal: 8.36s\tremaining: 21m 59s\n",
            "63:\tlearn: 1.6486748\ttest: 1.7141428\tbest: 1.7141428 (63)\ttotal: 8.49s\tremaining: 21m 57s\n",
            "64:\tlearn: 1.6475542\ttest: 1.7141230\tbest: 1.7141230 (64)\ttotal: 8.62s\tremaining: 21m 57s\n",
            "65:\tlearn: 1.6469182\ttest: 1.7137371\tbest: 1.7137371 (65)\ttotal: 8.7s\tremaining: 21m 49s\n",
            "66:\tlearn: 1.6461810\ttest: 1.7132285\tbest: 1.7132285 (66)\ttotal: 8.8s\tremaining: 21m 45s\n",
            "67:\tlearn: 1.6446447\ttest: 1.7128537\tbest: 1.7128537 (67)\ttotal: 8.95s\tremaining: 21m 46s\n",
            "68:\tlearn: 1.6438551\ttest: 1.7130058\tbest: 1.7128537 (67)\ttotal: 9.05s\tremaining: 21m 42s\n",
            "69:\tlearn: 1.6431377\ttest: 1.7128150\tbest: 1.7128150 (69)\ttotal: 9.15s\tremaining: 21m 38s\n",
            "70:\tlearn: 1.6423217\ttest: 1.7129494\tbest: 1.7128150 (69)\ttotal: 9.26s\tremaining: 21m 35s\n",
            "71:\tlearn: 1.6413778\ttest: 1.7127206\tbest: 1.7127206 (71)\ttotal: 9.37s\tremaining: 21m 32s\n",
            "72:\tlearn: 1.6401503\ttest: 1.7125721\tbest: 1.7125721 (72)\ttotal: 9.5s\tremaining: 21m 31s\n",
            "73:\tlearn: 1.6385225\ttest: 1.7122836\tbest: 1.7122836 (73)\ttotal: 9.64s\tremaining: 21m 33s\n",
            "74:\tlearn: 1.6373541\ttest: 1.7123239\tbest: 1.7122836 (73)\ttotal: 9.77s\tremaining: 21m 32s\n",
            "75:\tlearn: 1.6367025\ttest: 1.7120533\tbest: 1.7120533 (75)\ttotal: 9.87s\tremaining: 21m 28s\n",
            "76:\tlearn: 1.6349861\ttest: 1.7116570\tbest: 1.7116570 (76)\ttotal: 10s\tremaining: 21m 29s\n",
            "77:\tlearn: 1.6336829\ttest: 1.7112892\tbest: 1.7112892 (77)\ttotal: 10.1s\tremaining: 21m 29s\n",
            "78:\tlearn: 1.6330736\ttest: 1.7111310\tbest: 1.7111310 (78)\ttotal: 10.2s\tremaining: 21m 24s\n",
            "79:\tlearn: 1.6318365\ttest: 1.7112544\tbest: 1.7111310 (78)\ttotal: 10.4s\tremaining: 21m 23s\n",
            "80:\tlearn: 1.6311484\ttest: 1.7113880\tbest: 1.7111310 (78)\ttotal: 10.5s\tremaining: 21m 20s\n",
            "81:\tlearn: 1.6299616\ttest: 1.7114608\tbest: 1.7111310 (78)\ttotal: 10.6s\tremaining: 21m 21s\n",
            "82:\tlearn: 1.6290945\ttest: 1.7112627\tbest: 1.7111310 (78)\ttotal: 10.7s\tremaining: 21m 18s\n",
            "83:\tlearn: 1.6281835\ttest: 1.7112854\tbest: 1.7111310 (78)\ttotal: 10.8s\tremaining: 21m 16s\n",
            "84:\tlearn: 1.6267070\ttest: 1.7112322\tbest: 1.7111310 (78)\ttotal: 10.9s\tremaining: 21m 16s\n",
            "85:\tlearn: 1.6255728\ttest: 1.7109283\tbest: 1.7109283 (85)\ttotal: 11.1s\tremaining: 21m 14s\n",
            "86:\tlearn: 1.6242803\ttest: 1.7107052\tbest: 1.7107052 (86)\ttotal: 11.2s\tremaining: 21m 15s\n",
            "87:\tlearn: 1.6237555\ttest: 1.7103601\tbest: 1.7103601 (87)\ttotal: 11.3s\tremaining: 21m 11s\n",
            "88:\tlearn: 1.6232357\ttest: 1.7104509\tbest: 1.7103601 (87)\ttotal: 11.4s\tremaining: 21m 7s\n",
            "89:\tlearn: 1.6226820\ttest: 1.7105083\tbest: 1.7103601 (87)\ttotal: 11.5s\tremaining: 21m 3s\n",
            "90:\tlearn: 1.6217033\ttest: 1.7101612\tbest: 1.7101612 (90)\ttotal: 11.6s\tremaining: 21m 3s\n",
            "91:\tlearn: 1.6209991\ttest: 1.7101699\tbest: 1.7101612 (90)\ttotal: 11.7s\tremaining: 21m 1s\n",
            "92:\tlearn: 1.6203714\ttest: 1.7101195\tbest: 1.7101195 (92)\ttotal: 11.8s\tremaining: 20m 58s\n",
            "93:\tlearn: 1.6194601\ttest: 1.7099875\tbest: 1.7099875 (93)\ttotal: 11.9s\tremaining: 20m 56s\n",
            "94:\tlearn: 1.6187297\ttest: 1.7101775\tbest: 1.7099875 (93)\ttotal: 12s\tremaining: 20m 52s\n",
            "95:\tlearn: 1.6175301\ttest: 1.7097570\tbest: 1.7097570 (95)\ttotal: 12.1s\tremaining: 20m 53s\n",
            "96:\tlearn: 1.6170282\ttest: 1.7094641\tbest: 1.7094641 (96)\ttotal: 12.2s\tremaining: 20m 49s\n",
            "97:\tlearn: 1.6165802\ttest: 1.7093986\tbest: 1.7093986 (97)\ttotal: 12.3s\tremaining: 20m 45s\n",
            "98:\tlearn: 1.6157929\ttest: 1.7089770\tbest: 1.7089770 (98)\ttotal: 12.4s\tremaining: 20m 43s\n",
            "99:\tlearn: 1.6147836\ttest: 1.7086824\tbest: 1.7086824 (99)\ttotal: 12.5s\tremaining: 20m 41s\n",
            "100:\tlearn: 1.6138459\ttest: 1.7087383\tbest: 1.7086824 (99)\ttotal: 12.7s\tremaining: 20m 40s\n",
            "101:\tlearn: 1.6131152\ttest: 1.7087653\tbest: 1.7086824 (99)\ttotal: 12.8s\tremaining: 20m 37s\n",
            "102:\tlearn: 1.6122852\ttest: 1.7085503\tbest: 1.7085503 (102)\ttotal: 12.9s\tremaining: 20m 35s\n",
            "103:\tlearn: 1.6115991\ttest: 1.7085447\tbest: 1.7085447 (103)\ttotal: 13s\tremaining: 20m 34s\n",
            "104:\tlearn: 1.6107162\ttest: 1.7084138\tbest: 1.7084138 (104)\ttotal: 13.1s\tremaining: 20m 34s\n",
            "105:\tlearn: 1.6100734\ttest: 1.7083993\tbest: 1.7083993 (105)\ttotal: 13.2s\tremaining: 20m 31s\n",
            "106:\tlearn: 1.6090085\ttest: 1.7082344\tbest: 1.7082344 (106)\ttotal: 13.3s\tremaining: 20m 32s\n",
            "107:\tlearn: 1.6082658\ttest: 1.7081404\tbest: 1.7081404 (107)\ttotal: 13.4s\tremaining: 20m 30s\n",
            "108:\tlearn: 1.6075970\ttest: 1.7079325\tbest: 1.7079325 (108)\ttotal: 13.5s\tremaining: 20m 27s\n",
            "109:\tlearn: 1.6063482\ttest: 1.7080662\tbest: 1.7079325 (108)\ttotal: 13.7s\tremaining: 20m 29s\n",
            "110:\tlearn: 1.6052229\ttest: 1.7079538\tbest: 1.7079325 (108)\ttotal: 13.8s\tremaining: 20m 30s\n",
            "111:\tlearn: 1.6046022\ttest: 1.7079982\tbest: 1.7079325 (108)\ttotal: 13.9s\tremaining: 20m 27s\n",
            "112:\tlearn: 1.6031676\ttest: 1.7078674\tbest: 1.7078674 (112)\ttotal: 14s\tremaining: 20m 28s\n",
            "113:\tlearn: 1.6026384\ttest: 1.7077482\tbest: 1.7077482 (113)\ttotal: 14.1s\tremaining: 20m 26s\n",
            "114:\tlearn: 1.6019066\ttest: 1.7073833\tbest: 1.7073833 (114)\ttotal: 14.2s\tremaining: 20m 24s\n",
            "115:\tlearn: 1.6010906\ttest: 1.7071682\tbest: 1.7071682 (115)\ttotal: 14.4s\tremaining: 20m 23s\n",
            "116:\tlearn: 1.6002914\ttest: 1.7070408\tbest: 1.7070408 (116)\ttotal: 14.5s\tremaining: 20m 22s\n",
            "117:\tlearn: 1.5988861\ttest: 1.7069924\tbest: 1.7069924 (117)\ttotal: 14.6s\tremaining: 20m 23s\n",
            "118:\tlearn: 1.5982085\ttest: 1.7069712\tbest: 1.7069712 (118)\ttotal: 14.7s\tremaining: 20m 22s\n",
            "119:\tlearn: 1.5970929\ttest: 1.7072408\tbest: 1.7069712 (118)\ttotal: 14.9s\tremaining: 20m 23s\n",
            "120:\tlearn: 1.5957917\ttest: 1.7071695\tbest: 1.7069712 (118)\ttotal: 15s\tremaining: 20m 24s\n",
            "121:\tlearn: 1.5948959\ttest: 1.7071149\tbest: 1.7069712 (118)\ttotal: 15.1s\tremaining: 20m 24s\n",
            "122:\tlearn: 1.5940126\ttest: 1.7069755\tbest: 1.7069712 (118)\ttotal: 15.2s\tremaining: 20m 24s\n",
            "123:\tlearn: 1.5927655\ttest: 1.7062342\tbest: 1.7062342 (123)\ttotal: 15.4s\tremaining: 20m 23s\n",
            "124:\tlearn: 1.5912253\ttest: 1.7058783\tbest: 1.7058783 (124)\ttotal: 15.5s\tremaining: 20m 24s\n",
            "125:\tlearn: 1.5905085\ttest: 1.7061821\tbest: 1.7058783 (124)\ttotal: 15.6s\tremaining: 20m 22s\n",
            "126:\tlearn: 1.5900096\ttest: 1.7060556\tbest: 1.7058783 (124)\ttotal: 15.7s\tremaining: 20m 20s\n",
            "127:\tlearn: 1.5890015\ttest: 1.7059886\tbest: 1.7058783 (124)\ttotal: 15.8s\tremaining: 20m 21s\n",
            "128:\tlearn: 1.5886176\ttest: 1.7059377\tbest: 1.7058783 (124)\ttotal: 15.9s\tremaining: 20m 18s\n",
            "129:\tlearn: 1.5878309\ttest: 1.7058100\tbest: 1.7058100 (129)\ttotal: 16s\tremaining: 20m 16s\n",
            "130:\tlearn: 1.5868707\ttest: 1.7057335\tbest: 1.7057335 (130)\ttotal: 16.1s\tremaining: 20m 15s\n",
            "131:\tlearn: 1.5864979\ttest: 1.7057018\tbest: 1.7057018 (131)\ttotal: 16.2s\tremaining: 20m 12s\n",
            "132:\tlearn: 1.5857162\ttest: 1.7059282\tbest: 1.7057018 (131)\ttotal: 16.3s\tremaining: 20m 11s\n",
            "133:\tlearn: 1.5853061\ttest: 1.7056575\tbest: 1.7056575 (133)\ttotal: 16.4s\tremaining: 20m 9s\n",
            "134:\tlearn: 1.5845150\ttest: 1.7053621\tbest: 1.7053621 (134)\ttotal: 16.5s\tremaining: 20m 9s\n",
            "135:\tlearn: 1.5832767\ttest: 1.7056081\tbest: 1.7053621 (134)\ttotal: 16.7s\tremaining: 20m 9s\n",
            "136:\tlearn: 1.5820658\ttest: 1.7055879\tbest: 1.7053621 (134)\ttotal: 16.8s\tremaining: 20m 10s\n",
            "137:\tlearn: 1.5814152\ttest: 1.7055802\tbest: 1.7053621 (134)\ttotal: 16.9s\tremaining: 20m 9s\n",
            "138:\tlearn: 1.5803109\ttest: 1.7056880\tbest: 1.7053621 (134)\ttotal: 17s\tremaining: 20m 9s\n",
            "139:\tlearn: 1.5793475\ttest: 1.7054608\tbest: 1.7053621 (134)\ttotal: 17.2s\tremaining: 20m 8s\n",
            "140:\tlearn: 1.5782924\ttest: 1.7055266\tbest: 1.7053621 (134)\ttotal: 17.3s\tremaining: 20m 9s\n",
            "141:\tlearn: 1.5775490\ttest: 1.7054518\tbest: 1.7053621 (134)\ttotal: 17.4s\tremaining: 20m 7s\n",
            "142:\tlearn: 1.5763464\ttest: 1.7051020\tbest: 1.7051020 (142)\ttotal: 17.5s\tremaining: 20m 8s\n",
            "143:\tlearn: 1.5753582\ttest: 1.7049338\tbest: 1.7049338 (143)\ttotal: 17.6s\tremaining: 20m 7s\n",
            "144:\tlearn: 1.5742725\ttest: 1.7048324\tbest: 1.7048324 (144)\ttotal: 17.8s\tremaining: 20m 8s\n",
            "145:\tlearn: 1.5736890\ttest: 1.7046280\tbest: 1.7046280 (145)\ttotal: 17.9s\tremaining: 20m 6s\n",
            "146:\tlearn: 1.5725591\ttest: 1.7048240\tbest: 1.7046280 (145)\ttotal: 18s\tremaining: 20m 7s\n",
            "147:\tlearn: 1.5715977\ttest: 1.7046601\tbest: 1.7046280 (145)\ttotal: 18.1s\tremaining: 20m 7s\n",
            "148:\tlearn: 1.5709571\ttest: 1.7044767\tbest: 1.7044767 (148)\ttotal: 18.2s\tremaining: 20m 6s\n",
            "149:\tlearn: 1.5705599\ttest: 1.7045453\tbest: 1.7044767 (148)\ttotal: 18.3s\tremaining: 20m 3s\n",
            "150:\tlearn: 1.5699153\ttest: 1.7043099\tbest: 1.7043099 (150)\ttotal: 18.4s\tremaining: 20m 2s\n",
            "151:\tlearn: 1.5692933\ttest: 1.7042890\tbest: 1.7042890 (151)\ttotal: 18.5s\tremaining: 20m 1s\n",
            "152:\tlearn: 1.5681945\ttest: 1.7043200\tbest: 1.7042890 (151)\ttotal: 18.7s\tremaining: 20m 1s\n",
            "153:\tlearn: 1.5676768\ttest: 1.7045068\tbest: 1.7042890 (151)\ttotal: 18.8s\tremaining: 20m\n",
            "154:\tlearn: 1.5661644\ttest: 1.7045596\tbest: 1.7042890 (151)\ttotal: 18.9s\tremaining: 20m 1s\n",
            "155:\tlearn: 1.5653737\ttest: 1.7044060\tbest: 1.7042890 (151)\ttotal: 19s\tremaining: 19m 59s\n",
            "156:\tlearn: 1.5647407\ttest: 1.7042072\tbest: 1.7042072 (156)\ttotal: 19.1s\tremaining: 19m 58s\n",
            "157:\tlearn: 1.5636536\ttest: 1.7040873\tbest: 1.7040873 (157)\ttotal: 19.3s\tremaining: 19m 59s\n",
            "158:\tlearn: 1.5625796\ttest: 1.7041728\tbest: 1.7040873 (157)\ttotal: 19.4s\tremaining: 19m 58s\n",
            "159:\tlearn: 1.5622436\ttest: 1.7043443\tbest: 1.7040873 (157)\ttotal: 19.4s\tremaining: 19m 56s\n",
            "160:\tlearn: 1.5615058\ttest: 1.7044777\tbest: 1.7040873 (157)\ttotal: 19.6s\tremaining: 19m 55s\n",
            "161:\tlearn: 1.5609837\ttest: 1.7046546\tbest: 1.7040873 (157)\ttotal: 19.7s\tremaining: 19m 54s\n",
            "162:\tlearn: 1.5599673\ttest: 1.7046319\tbest: 1.7040873 (157)\ttotal: 19.8s\tremaining: 19m 54s\n",
            "163:\tlearn: 1.5592125\ttest: 1.7047360\tbest: 1.7040873 (157)\ttotal: 19.9s\tremaining: 19m 55s\n",
            "164:\tlearn: 1.5589212\ttest: 1.7047274\tbest: 1.7040873 (157)\ttotal: 20s\tremaining: 19m 52s\n",
            "165:\tlearn: 1.5577187\ttest: 1.7048788\tbest: 1.7040873 (157)\ttotal: 20.1s\tremaining: 19m 53s\n",
            "166:\tlearn: 1.5568127\ttest: 1.7045797\tbest: 1.7040873 (157)\ttotal: 20.3s\tremaining: 19m 52s\n",
            "167:\tlearn: 1.5559553\ttest: 1.7047629\tbest: 1.7040873 (157)\ttotal: 20.4s\tremaining: 19m 52s\n",
            "168:\tlearn: 1.5553106\ttest: 1.7048980\tbest: 1.7040873 (157)\ttotal: 20.5s\tremaining: 19m 51s\n",
            "169:\tlearn: 1.5548864\ttest: 1.7049532\tbest: 1.7040873 (157)\ttotal: 20.6s\tremaining: 19m 50s\n",
            "170:\tlearn: 1.5545376\ttest: 1.7047958\tbest: 1.7040873 (157)\ttotal: 20.7s\tremaining: 19m 48s\n",
            "171:\tlearn: 1.5536492\ttest: 1.7048786\tbest: 1.7040873 (157)\ttotal: 20.8s\tremaining: 19m 48s\n",
            "172:\tlearn: 1.5532180\ttest: 1.7045101\tbest: 1.7040873 (157)\ttotal: 20.9s\tremaining: 19m 46s\n",
            "173:\tlearn: 1.5519186\ttest: 1.7045773\tbest: 1.7040873 (157)\ttotal: 21s\tremaining: 19m 47s\n",
            "174:\tlearn: 1.5511764\ttest: 1.7046169\tbest: 1.7040873 (157)\ttotal: 21.1s\tremaining: 19m 46s\n",
            "175:\tlearn: 1.5501838\ttest: 1.7044768\tbest: 1.7040873 (157)\ttotal: 21.3s\tremaining: 19m 46s\n",
            "176:\tlearn: 1.5499551\ttest: 1.7043539\tbest: 1.7040873 (157)\ttotal: 21.3s\tremaining: 19m 44s\n",
            "177:\tlearn: 1.5494034\ttest: 1.7043208\tbest: 1.7040873 (157)\ttotal: 21.4s\tremaining: 19m 43s\n",
            "178:\tlearn: 1.5480363\ttest: 1.7039679\tbest: 1.7039679 (178)\ttotal: 21.6s\tremaining: 19m 44s\n",
            "179:\tlearn: 1.5473803\ttest: 1.7039726\tbest: 1.7039679 (178)\ttotal: 21.7s\tremaining: 19m 43s\n",
            "180:\tlearn: 1.5466878\ttest: 1.7041044\tbest: 1.7039679 (178)\ttotal: 21.8s\tremaining: 19m 42s\n",
            "181:\tlearn: 1.5461327\ttest: 1.7043045\tbest: 1.7039679 (178)\ttotal: 21.9s\tremaining: 19m 41s\n",
            "182:\tlearn: 1.5454465\ttest: 1.7038604\tbest: 1.7038604 (182)\ttotal: 22s\tremaining: 19m 40s\n",
            "183:\tlearn: 1.5442753\ttest: 1.7040272\tbest: 1.7038604 (182)\ttotal: 22.1s\tremaining: 19m 40s\n",
            "184:\tlearn: 1.5431479\ttest: 1.7036902\tbest: 1.7036902 (184)\ttotal: 22.3s\tremaining: 19m 41s\n",
            "185:\tlearn: 1.5421998\ttest: 1.7034211\tbest: 1.7034211 (185)\ttotal: 22.4s\tremaining: 19m 42s\n",
            "186:\tlearn: 1.5413236\ttest: 1.7034156\tbest: 1.7034156 (186)\ttotal: 22.5s\tremaining: 19m 42s\n",
            "187:\tlearn: 1.5408141\ttest: 1.7033241\tbest: 1.7033241 (187)\ttotal: 22.6s\tremaining: 19m 40s\n",
            "188:\tlearn: 1.5405379\ttest: 1.7031600\tbest: 1.7031600 (188)\ttotal: 22.7s\tremaining: 19m 38s\n",
            "189:\tlearn: 1.5397323\ttest: 1.7029424\tbest: 1.7029424 (189)\ttotal: 22.8s\tremaining: 19m 39s\n",
            "190:\tlearn: 1.5393842\ttest: 1.7029957\tbest: 1.7029424 (189)\ttotal: 22.9s\tremaining: 19m 37s\n",
            "191:\tlearn: 1.5386414\ttest: 1.7029340\tbest: 1.7029340 (191)\ttotal: 23s\tremaining: 19m 37s\n",
            "192:\tlearn: 1.5383746\ttest: 1.7030281\tbest: 1.7029340 (191)\ttotal: 23.1s\tremaining: 19m 35s\n",
            "193:\tlearn: 1.5375285\ttest: 1.7030299\tbest: 1.7029340 (191)\ttotal: 23.3s\tremaining: 19m 35s\n",
            "194:\tlearn: 1.5366512\ttest: 1.7030799\tbest: 1.7029340 (191)\ttotal: 23.4s\tremaining: 19m 36s\n",
            "195:\tlearn: 1.5362387\ttest: 1.7030241\tbest: 1.7029340 (191)\ttotal: 23.5s\tremaining: 19m 34s\n",
            "196:\tlearn: 1.5352234\ttest: 1.7029922\tbest: 1.7029340 (191)\ttotal: 23.6s\tremaining: 19m 34s\n",
            "197:\tlearn: 1.5347782\ttest: 1.7030530\tbest: 1.7029340 (191)\ttotal: 23.7s\tremaining: 19m 33s\n",
            "198:\tlearn: 1.5338599\ttest: 1.7030723\tbest: 1.7029340 (191)\ttotal: 23.8s\tremaining: 19m 33s\n",
            "199:\tlearn: 1.5327183\ttest: 1.7027186\tbest: 1.7027186 (199)\ttotal: 24s\tremaining: 19m 34s\n",
            "200:\tlearn: 1.5316669\ttest: 1.7027169\tbest: 1.7027169 (200)\ttotal: 24.1s\tremaining: 19m 34s\n",
            "201:\tlearn: 1.5309664\ttest: 1.7027565\tbest: 1.7027169 (200)\ttotal: 24.2s\tremaining: 19m 34s\n",
            "202:\tlearn: 1.5302773\ttest: 1.7026900\tbest: 1.7026900 (202)\ttotal: 24.3s\tremaining: 19m 33s\n",
            "203:\tlearn: 1.5293368\ttest: 1.7026373\tbest: 1.7026373 (203)\ttotal: 24.4s\tremaining: 19m 32s\n",
            "204:\tlearn: 1.5289288\ttest: 1.7027501\tbest: 1.7026373 (203)\ttotal: 24.5s\tremaining: 19m 31s\n",
            "205:\tlearn: 1.5278618\ttest: 1.7026950\tbest: 1.7026373 (203)\ttotal: 24.6s\tremaining: 19m 31s\n",
            "206:\tlearn: 1.5272623\ttest: 1.7027546\tbest: 1.7026373 (203)\ttotal: 24.7s\tremaining: 19m 30s\n",
            "207:\tlearn: 1.5267264\ttest: 1.7025669\tbest: 1.7025669 (207)\ttotal: 24.8s\tremaining: 19m 29s\n",
            "208:\tlearn: 1.5260905\ttest: 1.7024400\tbest: 1.7024400 (208)\ttotal: 24.9s\tremaining: 19m 28s\n",
            "209:\tlearn: 1.5251289\ttest: 1.7017486\tbest: 1.7017486 (209)\ttotal: 25.1s\tremaining: 19m 28s\n",
            "210:\tlearn: 1.5248260\ttest: 1.7017379\tbest: 1.7017379 (210)\ttotal: 25.1s\tremaining: 19m 26s\n",
            "211:\tlearn: 1.5239400\ttest: 1.7016833\tbest: 1.7016833 (211)\ttotal: 25.2s\tremaining: 19m 25s\n",
            "212:\tlearn: 1.5230298\ttest: 1.7018845\tbest: 1.7016833 (211)\ttotal: 25.4s\tremaining: 19m 25s\n",
            "213:\tlearn: 1.5223244\ttest: 1.7014652\tbest: 1.7014652 (213)\ttotal: 25.5s\tremaining: 19m 25s\n",
            "214:\tlearn: 1.5213476\ttest: 1.7011377\tbest: 1.7011377 (214)\ttotal: 25.6s\tremaining: 19m 25s\n",
            "215:\tlearn: 1.5204058\ttest: 1.7009189\tbest: 1.7009189 (215)\ttotal: 25.7s\tremaining: 19m 25s\n",
            "216:\tlearn: 1.5190548\ttest: 1.7007742\tbest: 1.7007742 (216)\ttotal: 25.9s\tremaining: 19m 26s\n",
            "217:\tlearn: 1.5179099\ttest: 1.7007062\tbest: 1.7007062 (217)\ttotal: 26s\tremaining: 19m 26s\n",
            "218:\tlearn: 1.5167592\ttest: 1.7007638\tbest: 1.7007062 (217)\ttotal: 26.1s\tremaining: 19m 27s\n",
            "219:\tlearn: 1.5157690\ttest: 1.7006702\tbest: 1.7006702 (219)\ttotal: 26.3s\tremaining: 19m 27s\n",
            "220:\tlearn: 1.5148432\ttest: 1.7004831\tbest: 1.7004831 (220)\ttotal: 26.4s\tremaining: 19m 27s\n",
            "221:\tlearn: 1.5143858\ttest: 1.7004378\tbest: 1.7004378 (221)\ttotal: 26.5s\tremaining: 19m 26s\n",
            "222:\tlearn: 1.5131025\ttest: 1.7003689\tbest: 1.7003689 (222)\ttotal: 26.6s\tremaining: 19m 26s\n",
            "223:\tlearn: 1.5119658\ttest: 1.7000519\tbest: 1.7000519 (223)\ttotal: 26.7s\tremaining: 19m 27s\n",
            "224:\tlearn: 1.5111444\ttest: 1.6999187\tbest: 1.6999187 (224)\ttotal: 26.9s\tremaining: 19m 26s\n",
            "225:\tlearn: 1.5100950\ttest: 1.7001120\tbest: 1.6999187 (224)\ttotal: 27s\tremaining: 19m 27s\n",
            "226:\tlearn: 1.5090463\ttest: 1.7003485\tbest: 1.6999187 (224)\ttotal: 27.1s\tremaining: 19m 27s\n",
            "227:\tlearn: 1.5082467\ttest: 1.7001920\tbest: 1.6999187 (224)\ttotal: 27.2s\tremaining: 19m 27s\n",
            "228:\tlearn: 1.5071969\ttest: 1.7000335\tbest: 1.6999187 (224)\ttotal: 27.4s\tremaining: 19m 27s\n",
            "229:\tlearn: 1.5064605\ttest: 1.6998045\tbest: 1.6998045 (229)\ttotal: 27.5s\tremaining: 19m 27s\n",
            "230:\tlearn: 1.5058640\ttest: 1.6997550\tbest: 1.6997550 (230)\ttotal: 27.6s\tremaining: 19m 26s\n",
            "231:\tlearn: 1.5053924\ttest: 1.6997018\tbest: 1.6997018 (231)\ttotal: 27.7s\tremaining: 19m 25s\n",
            "232:\tlearn: 1.5047285\ttest: 1.6995827\tbest: 1.6995827 (232)\ttotal: 27.8s\tremaining: 19m 24s\n",
            "233:\tlearn: 1.5037510\ttest: 1.6995697\tbest: 1.6995697 (233)\ttotal: 27.9s\tremaining: 19m 24s\n",
            "234:\tlearn: 1.5029513\ttest: 1.6998212\tbest: 1.6995697 (233)\ttotal: 28s\tremaining: 19m 24s\n",
            "235:\tlearn: 1.5021208\ttest: 1.6996596\tbest: 1.6995697 (233)\ttotal: 28.1s\tremaining: 19m 24s\n",
            "236:\tlearn: 1.5010937\ttest: 1.6995801\tbest: 1.6995697 (233)\ttotal: 28.3s\tremaining: 19m 24s\n",
            "237:\tlearn: 1.5001784\ttest: 1.6994928\tbest: 1.6994928 (237)\ttotal: 28.4s\tremaining: 19m 24s\n",
            "238:\tlearn: 1.4997088\ttest: 1.6996756\tbest: 1.6994928 (237)\ttotal: 28.5s\tremaining: 19m 23s\n",
            "239:\tlearn: 1.4988593\ttest: 1.6992546\tbest: 1.6992546 (239)\ttotal: 28.6s\tremaining: 19m 23s\n",
            "240:\tlearn: 1.4982366\ttest: 1.6993010\tbest: 1.6992546 (239)\ttotal: 28.7s\tremaining: 19m 22s\n",
            "241:\tlearn: 1.4972046\ttest: 1.6990272\tbest: 1.6990272 (241)\ttotal: 28.9s\tremaining: 19m 23s\n",
            "242:\tlearn: 1.4970419\ttest: 1.6990649\tbest: 1.6990272 (241)\ttotal: 28.9s\tremaining: 19m 21s\n",
            "243:\tlearn: 1.4959341\ttest: 1.6988297\tbest: 1.6988297 (243)\ttotal: 29.1s\tremaining: 19m 22s\n",
            "244:\tlearn: 1.4948264\ttest: 1.6988516\tbest: 1.6988297 (243)\ttotal: 29.2s\tremaining: 19m 22s\n",
            "245:\tlearn: 1.4944190\ttest: 1.6990614\tbest: 1.6988297 (243)\ttotal: 29.3s\tremaining: 19m 21s\n",
            "246:\tlearn: 1.4933174\ttest: 1.6985004\tbest: 1.6985004 (246)\ttotal: 29.4s\tremaining: 19m 21s\n",
            "247:\tlearn: 1.4921714\ttest: 1.6985481\tbest: 1.6985004 (246)\ttotal: 29.5s\tremaining: 19m 21s\n",
            "248:\tlearn: 1.4913492\ttest: 1.6985567\tbest: 1.6985004 (246)\ttotal: 29.7s\tremaining: 19m 21s\n",
            "249:\tlearn: 1.4901604\ttest: 1.6985408\tbest: 1.6985004 (246)\ttotal: 29.8s\tremaining: 19m 22s\n",
            "250:\tlearn: 1.4893333\ttest: 1.6982032\tbest: 1.6982032 (250)\ttotal: 29.9s\tremaining: 19m 22s\n",
            "251:\tlearn: 1.4883420\ttest: 1.6985896\tbest: 1.6982032 (250)\ttotal: 30.1s\tremaining: 19m 22s\n",
            "252:\tlearn: 1.4870775\ttest: 1.6987832\tbest: 1.6982032 (250)\ttotal: 30.2s\tremaining: 19m 23s\n",
            "253:\tlearn: 1.4861618\ttest: 1.6988837\tbest: 1.6982032 (250)\ttotal: 30.3s\tremaining: 19m 23s\n",
            "254:\tlearn: 1.4854376\ttest: 1.6986700\tbest: 1.6982032 (250)\ttotal: 30.4s\tremaining: 19m 23s\n",
            "255:\tlearn: 1.4843598\ttest: 1.6986388\tbest: 1.6982032 (250)\ttotal: 30.6s\tremaining: 19m 23s\n",
            "256:\tlearn: 1.4835032\ttest: 1.6987756\tbest: 1.6982032 (250)\ttotal: 30.7s\tremaining: 19m 23s\n",
            "257:\tlearn: 1.4828178\ttest: 1.6982305\tbest: 1.6982032 (250)\ttotal: 30.8s\tremaining: 19m 22s\n",
            "258:\tlearn: 1.4822534\ttest: 1.6984004\tbest: 1.6982032 (250)\ttotal: 30.9s\tremaining: 19m 22s\n",
            "259:\tlearn: 1.4813985\ttest: 1.6979024\tbest: 1.6979024 (259)\ttotal: 31s\tremaining: 19m 22s\n",
            "260:\tlearn: 1.4809864\ttest: 1.6977711\tbest: 1.6977711 (260)\ttotal: 31.1s\tremaining: 19m 20s\n",
            "261:\tlearn: 1.4804534\ttest: 1.6976945\tbest: 1.6976945 (261)\ttotal: 31.2s\tremaining: 19m 19s\n",
            "262:\tlearn: 1.4794894\ttest: 1.6978419\tbest: 1.6976945 (261)\ttotal: 31.3s\tremaining: 19m 19s\n",
            "263:\tlearn: 1.4788213\ttest: 1.6979618\tbest: 1.6976945 (261)\ttotal: 31.4s\tremaining: 19m 19s\n",
            "264:\tlearn: 1.4772513\ttest: 1.6979667\tbest: 1.6976945 (261)\ttotal: 31.6s\tremaining: 19m 20s\n",
            "265:\tlearn: 1.4768295\ttest: 1.6980488\tbest: 1.6976945 (261)\ttotal: 31.7s\tremaining: 19m 18s\n",
            "266:\tlearn: 1.4765444\ttest: 1.6979094\tbest: 1.6976945 (261)\ttotal: 31.8s\tremaining: 19m 17s\n",
            "267:\tlearn: 1.4757431\ttest: 1.6978619\tbest: 1.6976945 (261)\ttotal: 31.9s\tremaining: 19m 17s\n",
            "268:\tlearn: 1.4748010\ttest: 1.6977081\tbest: 1.6976945 (261)\ttotal: 32s\tremaining: 19m 17s\n",
            "269:\tlearn: 1.4740397\ttest: 1.6977773\tbest: 1.6976945 (261)\ttotal: 32.1s\tremaining: 19m 18s\n",
            "270:\tlearn: 1.4731765\ttest: 1.6978754\tbest: 1.6976945 (261)\ttotal: 32.2s\tremaining: 19m 17s\n",
            "271:\tlearn: 1.4727268\ttest: 1.6978796\tbest: 1.6976945 (261)\ttotal: 32.3s\tremaining: 19m 16s\n",
            "272:\tlearn: 1.4720790\ttest: 1.6977744\tbest: 1.6976945 (261)\ttotal: 32.4s\tremaining: 19m 15s\n",
            "273:\tlearn: 1.4715037\ttest: 1.6975253\tbest: 1.6975253 (273)\ttotal: 32.5s\tremaining: 19m 15s\n",
            "274:\tlearn: 1.4706668\ttest: 1.6975657\tbest: 1.6975253 (273)\ttotal: 32.7s\tremaining: 19m 15s\n",
            "275:\tlearn: 1.4701836\ttest: 1.6975570\tbest: 1.6975253 (273)\ttotal: 32.8s\tremaining: 19m 14s\n",
            "276:\tlearn: 1.4697279\ttest: 1.6975250\tbest: 1.6975250 (276)\ttotal: 32.9s\tremaining: 19m 13s\n",
            "277:\tlearn: 1.4690944\ttest: 1.6978447\tbest: 1.6975250 (276)\ttotal: 33s\tremaining: 19m 13s\n",
            "278:\tlearn: 1.4680693\ttest: 1.6978296\tbest: 1.6975250 (276)\ttotal: 33.1s\tremaining: 19m 13s\n",
            "279:\tlearn: 1.4662220\ttest: 1.6973975\tbest: 1.6973975 (279)\ttotal: 33.3s\tremaining: 19m 14s\n",
            "280:\tlearn: 1.4653189\ttest: 1.6975629\tbest: 1.6973975 (279)\ttotal: 33.4s\tremaining: 19m 14s\n",
            "281:\tlearn: 1.4646881\ttest: 1.6977347\tbest: 1.6973975 (279)\ttotal: 33.5s\tremaining: 19m 14s\n",
            "282:\tlearn: 1.4645803\ttest: 1.6977153\tbest: 1.6973975 (279)\ttotal: 33.6s\tremaining: 19m 12s\n",
            "283:\tlearn: 1.4641341\ttest: 1.6975040\tbest: 1.6973975 (279)\ttotal: 33.7s\tremaining: 19m 11s\n",
            "284:\tlearn: 1.4634458\ttest: 1.6973865\tbest: 1.6973865 (284)\ttotal: 33.8s\tremaining: 19m 11s\n",
            "285:\tlearn: 1.4624125\ttest: 1.6978462\tbest: 1.6973865 (284)\ttotal: 33.9s\tremaining: 19m 11s\n",
            "286:\tlearn: 1.4617524\ttest: 1.6979535\tbest: 1.6973865 (284)\ttotal: 34s\tremaining: 19m 10s\n",
            "287:\tlearn: 1.4614135\ttest: 1.6979616\tbest: 1.6973865 (284)\ttotal: 34.1s\tremaining: 19m 9s\n",
            "288:\tlearn: 1.4609552\ttest: 1.6978472\tbest: 1.6973865 (284)\ttotal: 34.2s\tremaining: 19m 8s\n",
            "289:\tlearn: 1.4603349\ttest: 1.6975627\tbest: 1.6973865 (284)\ttotal: 34.3s\tremaining: 19m 8s\n",
            "290:\tlearn: 1.4598703\ttest: 1.6975166\tbest: 1.6973865 (284)\ttotal: 34.4s\tremaining: 19m 6s\n",
            "291:\tlearn: 1.4596900\ttest: 1.6974837\tbest: 1.6973865 (284)\ttotal: 34.5s\tremaining: 19m 5s\n",
            "292:\tlearn: 1.4594945\ttest: 1.6976919\tbest: 1.6973865 (284)\ttotal: 34.5s\tremaining: 19m 4s\n",
            "293:\tlearn: 1.4589592\ttest: 1.6975343\tbest: 1.6973865 (284)\ttotal: 34.6s\tremaining: 19m 3s\n",
            "294:\tlearn: 1.4582028\ttest: 1.6975675\tbest: 1.6973865 (284)\ttotal: 34.8s\tremaining: 19m 3s\n",
            "295:\tlearn: 1.4573568\ttest: 1.6976691\tbest: 1.6973865 (284)\ttotal: 34.9s\tremaining: 19m 3s\n",
            "296:\tlearn: 1.4564800\ttest: 1.6973099\tbest: 1.6973099 (296)\ttotal: 35s\tremaining: 19m 3s\n",
            "297:\tlearn: 1.4559732\ttest: 1.6972880\tbest: 1.6972880 (297)\ttotal: 35.1s\tremaining: 19m 2s\n",
            "298:\tlearn: 1.4552640\ttest: 1.6973622\tbest: 1.6972880 (297)\ttotal: 35.2s\tremaining: 19m 1s\n",
            "299:\tlearn: 1.4541306\ttest: 1.6970396\tbest: 1.6970396 (299)\ttotal: 35.3s\tremaining: 19m 2s\n",
            "300:\tlearn: 1.4537281\ttest: 1.6970258\tbest: 1.6970258 (300)\ttotal: 35.4s\tremaining: 19m 1s\n",
            "301:\tlearn: 1.4531121\ttest: 1.6968811\tbest: 1.6968811 (301)\ttotal: 35.5s\tremaining: 19m\n",
            "302:\tlearn: 1.4518807\ttest: 1.6970184\tbest: 1.6968811 (301)\ttotal: 35.6s\tremaining: 19m\n",
            "303:\tlearn: 1.4512697\ttest: 1.6970598\tbest: 1.6968811 (301)\ttotal: 35.7s\tremaining: 18m 59s\n",
            "304:\tlearn: 1.4503490\ttest: 1.6967509\tbest: 1.6967509 (304)\ttotal: 35.9s\tremaining: 19m\n",
            "305:\tlearn: 1.4497716\ttest: 1.6968732\tbest: 1.6967509 (304)\ttotal: 36s\tremaining: 19m\n",
            "306:\tlearn: 1.4491506\ttest: 1.6967812\tbest: 1.6967509 (304)\ttotal: 36.1s\tremaining: 18m 59s\n",
            "307:\tlearn: 1.4485506\ttest: 1.6966333\tbest: 1.6966333 (307)\ttotal: 36.2s\tremaining: 18m 58s\n",
            "308:\tlearn: 1.4474591\ttest: 1.6965173\tbest: 1.6965173 (308)\ttotal: 36.3s\tremaining: 18m 59s\n",
            "309:\tlearn: 1.4467572\ttest: 1.6965166\tbest: 1.6965166 (309)\ttotal: 36.4s\tremaining: 18m 59s\n",
            "310:\tlearn: 1.4461172\ttest: 1.6965382\tbest: 1.6965166 (309)\ttotal: 36.5s\tremaining: 18m 58s\n",
            "311:\tlearn: 1.4457103\ttest: 1.6966672\tbest: 1.6965166 (309)\ttotal: 36.6s\tremaining: 18m 57s\n",
            "312:\tlearn: 1.4452252\ttest: 1.6963824\tbest: 1.6963824 (312)\ttotal: 36.7s\tremaining: 18m 56s\n",
            "313:\tlearn: 1.4447868\ttest: 1.6964436\tbest: 1.6963824 (312)\ttotal: 36.8s\tremaining: 18m 56s\n",
            "314:\tlearn: 1.4444606\ttest: 1.6964962\tbest: 1.6963824 (312)\ttotal: 36.9s\tremaining: 18m 55s\n",
            "315:\tlearn: 1.4439361\ttest: 1.6964406\tbest: 1.6963824 (312)\ttotal: 37s\tremaining: 18m 54s\n",
            "316:\tlearn: 1.4430180\ttest: 1.6963493\tbest: 1.6963493 (316)\ttotal: 37.2s\tremaining: 18m 55s\n",
            "317:\tlearn: 1.4423689\ttest: 1.6962533\tbest: 1.6962533 (317)\ttotal: 37.3s\tremaining: 18m 55s\n",
            "318:\tlearn: 1.4418065\ttest: 1.6961610\tbest: 1.6961610 (318)\ttotal: 37.4s\tremaining: 18m 54s\n",
            "319:\tlearn: 1.4412674\ttest: 1.6961362\tbest: 1.6961362 (319)\ttotal: 37.5s\tremaining: 18m 53s\n",
            "320:\tlearn: 1.4407090\ttest: 1.6960688\tbest: 1.6960688 (320)\ttotal: 37.6s\tremaining: 18m 53s\n",
            "321:\tlearn: 1.4404700\ttest: 1.6961339\tbest: 1.6960688 (320)\ttotal: 37.7s\tremaining: 18m 51s\n",
            "322:\tlearn: 1.4394137\ttest: 1.6964173\tbest: 1.6960688 (320)\ttotal: 37.8s\tremaining: 18m 52s\n",
            "323:\tlearn: 1.4386368\ttest: 1.6963096\tbest: 1.6960688 (320)\ttotal: 37.9s\tremaining: 18m 52s\n",
            "324:\tlearn: 1.4378417\ttest: 1.6962464\tbest: 1.6960688 (320)\ttotal: 38s\tremaining: 18m 52s\n",
            "325:\tlearn: 1.4369651\ttest: 1.6960838\tbest: 1.6960688 (320)\ttotal: 38.2s\tremaining: 18m 52s\n",
            "326:\tlearn: 1.4361728\ttest: 1.6961653\tbest: 1.6960688 (320)\ttotal: 38.3s\tremaining: 18m 52s\n",
            "327:\tlearn: 1.4350046\ttest: 1.6963948\tbest: 1.6960688 (320)\ttotal: 38.4s\tremaining: 18m 53s\n",
            "328:\tlearn: 1.4342569\ttest: 1.6963367\tbest: 1.6960688 (320)\ttotal: 38.5s\tremaining: 18m 52s\n",
            "329:\tlearn: 1.4336262\ttest: 1.6964126\tbest: 1.6960688 (320)\ttotal: 38.6s\tremaining: 18m 52s\n",
            "330:\tlearn: 1.4326448\ttest: 1.6961546\tbest: 1.6960688 (320)\ttotal: 38.8s\tremaining: 18m 52s\n",
            "331:\tlearn: 1.4318069\ttest: 1.6959791\tbest: 1.6959791 (331)\ttotal: 38.9s\tremaining: 18m 52s\n",
            "332:\tlearn: 1.4307642\ttest: 1.6954565\tbest: 1.6954565 (332)\ttotal: 39s\tremaining: 18m 52s\n",
            "333:\tlearn: 1.4302399\ttest: 1.6955349\tbest: 1.6954565 (332)\ttotal: 39.1s\tremaining: 18m 51s\n",
            "334:\tlearn: 1.4295165\ttest: 1.6954875\tbest: 1.6954565 (332)\ttotal: 39.2s\tremaining: 18m 51s\n",
            "335:\tlearn: 1.4283509\ttest: 1.6952076\tbest: 1.6952076 (335)\ttotal: 39.4s\tremaining: 18m 51s\n",
            "336:\tlearn: 1.4277020\ttest: 1.6952462\tbest: 1.6952076 (335)\ttotal: 39.5s\tremaining: 18m 51s\n",
            "337:\tlearn: 1.4270225\ttest: 1.6954504\tbest: 1.6952076 (335)\ttotal: 39.6s\tremaining: 18m 51s\n",
            "338:\tlearn: 1.4258345\ttest: 1.6953229\tbest: 1.6952076 (335)\ttotal: 39.7s\tremaining: 18m 52s\n",
            "339:\tlearn: 1.4248130\ttest: 1.6954072\tbest: 1.6952076 (335)\ttotal: 39.9s\tremaining: 18m 52s\n",
            "340:\tlearn: 1.4243272\ttest: 1.6953893\tbest: 1.6952076 (335)\ttotal: 40s\tremaining: 18m 51s\n",
            "341:\tlearn: 1.4234623\ttest: 1.6954308\tbest: 1.6952076 (335)\ttotal: 40.1s\tremaining: 18m 51s\n",
            "342:\tlearn: 1.4227787\ttest: 1.6955959\tbest: 1.6952076 (335)\ttotal: 40.2s\tremaining: 18m 51s\n",
            "343:\tlearn: 1.4220360\ttest: 1.6953958\tbest: 1.6952076 (335)\ttotal: 40.3s\tremaining: 18m 51s\n",
            "344:\tlearn: 1.4215293\ttest: 1.6954459\tbest: 1.6952076 (335)\ttotal: 40.4s\tremaining: 18m 50s\n",
            "345:\tlearn: 1.4205619\ttest: 1.6954192\tbest: 1.6952076 (335)\ttotal: 40.5s\tremaining: 18m 50s\n",
            "346:\tlearn: 1.4199267\ttest: 1.6954615\tbest: 1.6952076 (335)\ttotal: 40.6s\tremaining: 18m 50s\n",
            "347:\tlearn: 1.4190264\ttest: 1.6952841\tbest: 1.6952076 (335)\ttotal: 40.8s\tremaining: 18m 50s\n",
            "348:\tlearn: 1.4187641\ttest: 1.6952839\tbest: 1.6952076 (335)\ttotal: 40.8s\tremaining: 18m 49s\n",
            "349:\tlearn: 1.4180100\ttest: 1.6951700\tbest: 1.6951700 (349)\ttotal: 40.9s\tremaining: 18m 48s\n",
            "350:\tlearn: 1.4175717\ttest: 1.6953113\tbest: 1.6951700 (349)\ttotal: 41s\tremaining: 18m 47s\n",
            "351:\tlearn: 1.4166569\ttest: 1.6955521\tbest: 1.6951700 (349)\ttotal: 41.2s\tremaining: 18m 48s\n",
            "352:\tlearn: 1.4158886\ttest: 1.6954739\tbest: 1.6951700 (349)\ttotal: 41.3s\tremaining: 18m 47s\n",
            "353:\tlearn: 1.4153402\ttest: 1.6954631\tbest: 1.6951700 (349)\ttotal: 41.4s\tremaining: 18m 47s\n",
            "354:\tlearn: 1.4144591\ttest: 1.6954318\tbest: 1.6951700 (349)\ttotal: 41.5s\tremaining: 18m 47s\n",
            "355:\tlearn: 1.4136378\ttest: 1.6956778\tbest: 1.6951700 (349)\ttotal: 41.6s\tremaining: 18m 48s\n",
            "356:\tlearn: 1.4124152\ttest: 1.6958027\tbest: 1.6951700 (349)\ttotal: 41.8s\tremaining: 18m 48s\n",
            "357:\tlearn: 1.4119107\ttest: 1.6958748\tbest: 1.6951700 (349)\ttotal: 41.9s\tremaining: 18m 48s\n",
            "358:\tlearn: 1.4109142\ttest: 1.6960950\tbest: 1.6951700 (349)\ttotal: 42s\tremaining: 18m 48s\n",
            "359:\tlearn: 1.4099460\ttest: 1.6959188\tbest: 1.6951700 (349)\ttotal: 42.1s\tremaining: 18m 48s\n",
            "360:\tlearn: 1.4097860\ttest: 1.6959610\tbest: 1.6951700 (349)\ttotal: 42.2s\tremaining: 18m 47s\n",
            "361:\tlearn: 1.4092559\ttest: 1.6961005\tbest: 1.6951700 (349)\ttotal: 42.3s\tremaining: 18m 46s\n",
            "362:\tlearn: 1.4087669\ttest: 1.6961348\tbest: 1.6951700 (349)\ttotal: 42.4s\tremaining: 18m 45s\n",
            "363:\tlearn: 1.4083708\ttest: 1.6959983\tbest: 1.6951700 (349)\ttotal: 42.5s\tremaining: 18m 44s\n",
            "364:\tlearn: 1.4074010\ttest: 1.6957691\tbest: 1.6951700 (349)\ttotal: 42.6s\tremaining: 18m 44s\n",
            "365:\tlearn: 1.4067929\ttest: 1.6956577\tbest: 1.6951700 (349)\ttotal: 42.7s\tremaining: 18m 44s\n",
            "366:\tlearn: 1.4059516\ttest: 1.6956024\tbest: 1.6951700 (349)\ttotal: 42.8s\tremaining: 18m 44s\n",
            "367:\tlearn: 1.4054512\ttest: 1.6955787\tbest: 1.6951700 (349)\ttotal: 42.9s\tremaining: 18m 44s\n",
            "368:\tlearn: 1.4051972\ttest: 1.6952976\tbest: 1.6951700 (349)\ttotal: 43s\tremaining: 18m 43s\n",
            "369:\tlearn: 1.4044388\ttest: 1.6953206\tbest: 1.6951700 (349)\ttotal: 43.2s\tremaining: 18m 43s\n",
            "370:\tlearn: 1.4038584\ttest: 1.6952974\tbest: 1.6951700 (349)\ttotal: 43.3s\tremaining: 18m 42s\n",
            "371:\tlearn: 1.4032906\ttest: 1.6952275\tbest: 1.6951700 (349)\ttotal: 43.4s\tremaining: 18m 42s\n",
            "372:\tlearn: 1.4026139\ttest: 1.6950886\tbest: 1.6950886 (372)\ttotal: 43.5s\tremaining: 18m 41s\n",
            "373:\tlearn: 1.4023873\ttest: 1.6952636\tbest: 1.6950886 (372)\ttotal: 43.5s\tremaining: 18m 40s\n",
            "374:\tlearn: 1.4015326\ttest: 1.6953764\tbest: 1.6950886 (372)\ttotal: 43.7s\tremaining: 18m 40s\n",
            "375:\tlearn: 1.4009636\ttest: 1.6951830\tbest: 1.6950886 (372)\ttotal: 43.8s\tremaining: 18m 40s\n",
            "376:\tlearn: 1.4001000\ttest: 1.6951358\tbest: 1.6950886 (372)\ttotal: 43.9s\tremaining: 18m 40s\n",
            "377:\tlearn: 1.3995596\ttest: 1.6948867\tbest: 1.6948867 (377)\ttotal: 44s\tremaining: 18m 39s\n",
            "378:\tlearn: 1.3983675\ttest: 1.6951191\tbest: 1.6948867 (377)\ttotal: 44.1s\tremaining: 18m 40s\n",
            "379:\tlearn: 1.3974671\ttest: 1.6952120\tbest: 1.6948867 (377)\ttotal: 44.3s\tremaining: 18m 40s\n",
            "380:\tlearn: 1.3969156\ttest: 1.6951029\tbest: 1.6948867 (377)\ttotal: 44.4s\tremaining: 18m 39s\n",
            "381:\tlearn: 1.3966216\ttest: 1.6950518\tbest: 1.6948867 (377)\ttotal: 44.4s\tremaining: 18m 38s\n",
            "382:\tlearn: 1.3955432\ttest: 1.6948414\tbest: 1.6948414 (382)\ttotal: 44.6s\tremaining: 18m 39s\n",
            "383:\tlearn: 1.3953140\ttest: 1.6948099\tbest: 1.6948099 (383)\ttotal: 44.7s\tremaining: 18m 38s\n",
            "384:\tlearn: 1.3945571\ttest: 1.6949003\tbest: 1.6948099 (383)\ttotal: 44.8s\tremaining: 18m 38s\n",
            "385:\tlearn: 1.3937521\ttest: 1.6946905\tbest: 1.6946905 (385)\ttotal: 44.9s\tremaining: 18m 38s\n",
            "386:\tlearn: 1.3933632\ttest: 1.6945605\tbest: 1.6945605 (386)\ttotal: 45s\tremaining: 18m 37s\n",
            "387:\tlearn: 1.3923001\ttest: 1.6946064\tbest: 1.6945605 (386)\ttotal: 45.1s\tremaining: 18m 37s\n",
            "388:\tlearn: 1.3918300\ttest: 1.6946878\tbest: 1.6945605 (386)\ttotal: 45.2s\tremaining: 18m 37s\n",
            "389:\tlearn: 1.3908610\ttest: 1.6948996\tbest: 1.6945605 (386)\ttotal: 45.3s\tremaining: 18m 37s\n",
            "390:\tlearn: 1.3900890\ttest: 1.6949881\tbest: 1.6945605 (386)\ttotal: 45.5s\tremaining: 18m 37s\n",
            "391:\tlearn: 1.3893777\ttest: 1.6949559\tbest: 1.6945605 (386)\ttotal: 45.6s\tremaining: 18m 37s\n",
            "392:\tlearn: 1.3891335\ttest: 1.6949818\tbest: 1.6945605 (386)\ttotal: 45.7s\tremaining: 18m 36s\n",
            "393:\tlearn: 1.3886798\ttest: 1.6949303\tbest: 1.6945605 (386)\ttotal: 45.8s\tremaining: 18m 35s\n",
            "394:\tlearn: 1.3882531\ttest: 1.6949677\tbest: 1.6945605 (386)\ttotal: 45.9s\tremaining: 18m 35s\n",
            "395:\tlearn: 1.3874039\ttest: 1.6949860\tbest: 1.6945605 (386)\ttotal: 46s\tremaining: 18m 35s\n",
            "396:\tlearn: 1.3870078\ttest: 1.6950074\tbest: 1.6945605 (386)\ttotal: 46.1s\tremaining: 18m 34s\n",
            "397:\tlearn: 1.3863607\ttest: 1.6947806\tbest: 1.6945605 (386)\ttotal: 46.2s\tremaining: 18m 34s\n",
            "398:\tlearn: 1.3854066\ttest: 1.6947989\tbest: 1.6945605 (386)\ttotal: 46.3s\tremaining: 18m 34s\n",
            "399:\tlearn: 1.3850934\ttest: 1.6946055\tbest: 1.6945605 (386)\ttotal: 46.4s\tremaining: 18m 33s\n",
            "400:\tlearn: 1.3844407\ttest: 1.6944895\tbest: 1.6944895 (400)\ttotal: 46.5s\tremaining: 18m 33s\n",
            "401:\tlearn: 1.3835799\ttest: 1.6942960\tbest: 1.6942960 (401)\ttotal: 46.6s\tremaining: 18m 32s\n",
            "402:\tlearn: 1.3831809\ttest: 1.6943146\tbest: 1.6942960 (401)\ttotal: 46.7s\tremaining: 18m 32s\n",
            "403:\tlearn: 1.3825070\ttest: 1.6943903\tbest: 1.6942960 (401)\ttotal: 46.8s\tremaining: 18m 32s\n",
            "404:\tlearn: 1.3815246\ttest: 1.6943042\tbest: 1.6942960 (401)\ttotal: 46.9s\tremaining: 18m 32s\n",
            "405:\tlearn: 1.3806225\ttest: 1.6939023\tbest: 1.6939023 (405)\ttotal: 47.1s\tremaining: 18m 32s\n",
            "406:\tlearn: 1.3800003\ttest: 1.6935986\tbest: 1.6935986 (406)\ttotal: 47.2s\tremaining: 18m 31s\n",
            "407:\tlearn: 1.3788914\ttest: 1.6934445\tbest: 1.6934445 (407)\ttotal: 47.3s\tremaining: 18m 32s\n",
            "408:\tlearn: 1.3779448\ttest: 1.6936378\tbest: 1.6934445 (407)\ttotal: 47.4s\tremaining: 18m 31s\n",
            "409:\tlearn: 1.3777465\ttest: 1.6936657\tbest: 1.6934445 (407)\ttotal: 47.5s\tremaining: 18m 30s\n",
            "410:\tlearn: 1.3773405\ttest: 1.6937358\tbest: 1.6934445 (407)\ttotal: 47.6s\tremaining: 18m 30s\n",
            "411:\tlearn: 1.3768958\ttest: 1.6937146\tbest: 1.6934445 (407)\ttotal: 47.7s\tremaining: 18m 29s\n",
            "412:\tlearn: 1.3766966\ttest: 1.6935873\tbest: 1.6934445 (407)\ttotal: 47.8s\tremaining: 18m 29s\n",
            "413:\tlearn: 1.3761353\ttest: 1.6938047\tbest: 1.6934445 (407)\ttotal: 47.9s\tremaining: 18m 28s\n",
            "414:\tlearn: 1.3758879\ttest: 1.6937196\tbest: 1.6934445 (407)\ttotal: 48s\tremaining: 18m 28s\n",
            "415:\tlearn: 1.3754406\ttest: 1.6935869\tbest: 1.6934445 (407)\ttotal: 48.1s\tremaining: 18m 27s\n",
            "416:\tlearn: 1.3751961\ttest: 1.6934963\tbest: 1.6934445 (407)\ttotal: 48.1s\tremaining: 18m 26s\n",
            "417:\tlearn: 1.3747714\ttest: 1.6934769\tbest: 1.6934445 (407)\ttotal: 48.2s\tremaining: 18m 25s\n",
            "418:\tlearn: 1.3743065\ttest: 1.6931795\tbest: 1.6931795 (418)\ttotal: 48.3s\tremaining: 18m 25s\n",
            "419:\tlearn: 1.3733330\ttest: 1.6933582\tbest: 1.6931795 (418)\ttotal: 48.5s\tremaining: 18m 25s\n",
            "420:\tlearn: 1.3726537\ttest: 1.6930487\tbest: 1.6930487 (420)\ttotal: 48.6s\tremaining: 18m 25s\n",
            "421:\tlearn: 1.3718733\ttest: 1.6930211\tbest: 1.6930211 (421)\ttotal: 48.7s\tremaining: 18m 25s\n",
            "422:\tlearn: 1.3711610\ttest: 1.6929953\tbest: 1.6929953 (422)\ttotal: 48.8s\tremaining: 18m 25s\n",
            "423:\tlearn: 1.3702518\ttest: 1.6928936\tbest: 1.6928936 (423)\ttotal: 48.9s\tremaining: 18m 25s\n",
            "424:\tlearn: 1.3698559\ttest: 1.6929562\tbest: 1.6928936 (423)\ttotal: 49s\tremaining: 18m 24s\n",
            "425:\tlearn: 1.3689091\ttest: 1.6929984\tbest: 1.6928936 (423)\ttotal: 49.2s\tremaining: 18m 24s\n",
            "426:\tlearn: 1.3682506\ttest: 1.6928669\tbest: 1.6928669 (426)\ttotal: 49.3s\tremaining: 18m 24s\n",
            "427:\tlearn: 1.3675881\ttest: 1.6927514\tbest: 1.6927514 (427)\ttotal: 49.4s\tremaining: 18m 24s\n",
            "428:\tlearn: 1.3671430\ttest: 1.6925870\tbest: 1.6925870 (428)\ttotal: 49.5s\tremaining: 18m 23s\n",
            "429:\tlearn: 1.3668150\ttest: 1.6925890\tbest: 1.6925870 (428)\ttotal: 49.6s\tremaining: 18m 23s\n",
            "430:\tlearn: 1.3663348\ttest: 1.6927871\tbest: 1.6925870 (428)\ttotal: 49.7s\tremaining: 18m 22s\n",
            "431:\tlearn: 1.3652678\ttest: 1.6928306\tbest: 1.6925870 (428)\ttotal: 49.8s\tremaining: 18m 22s\n",
            "432:\tlearn: 1.3648601\ttest: 1.6929545\tbest: 1.6925870 (428)\ttotal: 49.9s\tremaining: 18m 22s\n",
            "433:\tlearn: 1.3646999\ttest: 1.6929622\tbest: 1.6925870 (428)\ttotal: 50s\tremaining: 18m 21s\n",
            "434:\tlearn: 1.3639368\ttest: 1.6927788\tbest: 1.6925870 (428)\ttotal: 50.1s\tremaining: 18m 20s\n",
            "435:\tlearn: 1.3627716\ttest: 1.6928208\tbest: 1.6925870 (428)\ttotal: 50.2s\tremaining: 18m 21s\n",
            "436:\tlearn: 1.3621081\ttest: 1.6930873\tbest: 1.6925870 (428)\ttotal: 50.3s\tremaining: 18m 21s\n",
            "437:\tlearn: 1.3614507\ttest: 1.6931812\tbest: 1.6925870 (428)\ttotal: 50.4s\tremaining: 18m 21s\n",
            "438:\tlearn: 1.3602269\ttest: 1.6933858\tbest: 1.6925870 (428)\ttotal: 50.6s\tremaining: 18m 21s\n",
            "439:\tlearn: 1.3599699\ttest: 1.6934320\tbest: 1.6925870 (428)\ttotal: 50.7s\tremaining: 18m 20s\n",
            "440:\tlearn: 1.3597352\ttest: 1.6933160\tbest: 1.6925870 (428)\ttotal: 50.7s\tremaining: 18m 19s\n",
            "441:\tlearn: 1.3592669\ttest: 1.6932564\tbest: 1.6925870 (428)\ttotal: 50.8s\tremaining: 18m 19s\n",
            "442:\tlearn: 1.3588833\ttest: 1.6933012\tbest: 1.6925870 (428)\ttotal: 50.9s\tremaining: 18m 18s\n",
            "443:\tlearn: 1.3581125\ttest: 1.6934216\tbest: 1.6925870 (428)\ttotal: 51s\tremaining: 18m 18s\n",
            "444:\tlearn: 1.3575498\ttest: 1.6935251\tbest: 1.6925870 (428)\ttotal: 51.1s\tremaining: 18m 17s\n",
            "445:\tlearn: 1.3565622\ttest: 1.6932325\tbest: 1.6925870 (428)\ttotal: 51.3s\tremaining: 18m 17s\n",
            "446:\tlearn: 1.3556740\ttest: 1.6931169\tbest: 1.6925870 (428)\ttotal: 51.4s\tremaining: 18m 18s\n",
            "447:\tlearn: 1.3549581\ttest: 1.6931019\tbest: 1.6925870 (428)\ttotal: 51.5s\tremaining: 18m 17s\n",
            "448:\tlearn: 1.3543776\ttest: 1.6930654\tbest: 1.6925870 (428)\ttotal: 51.6s\tremaining: 18m 17s\n",
            "449:\tlearn: 1.3538228\ttest: 1.6928432\tbest: 1.6925870 (428)\ttotal: 51.7s\tremaining: 18m 17s\n",
            "450:\tlearn: 1.3529667\ttest: 1.6926566\tbest: 1.6925870 (428)\ttotal: 51.8s\tremaining: 18m 17s\n",
            "451:\tlearn: 1.3521839\ttest: 1.6926099\tbest: 1.6925870 (428)\ttotal: 51.9s\tremaining: 18m 17s\n",
            "452:\tlearn: 1.3515663\ttest: 1.6927371\tbest: 1.6925870 (428)\ttotal: 52.1s\tremaining: 18m 17s\n",
            "453:\tlearn: 1.3507139\ttest: 1.6929650\tbest: 1.6925870 (428)\ttotal: 52.2s\tremaining: 18m 17s\n",
            "454:\tlearn: 1.3497586\ttest: 1.6930877\tbest: 1.6925870 (428)\ttotal: 52.3s\tremaining: 18m 17s\n",
            "455:\tlearn: 1.3490031\ttest: 1.6930280\tbest: 1.6925870 (428)\ttotal: 52.4s\tremaining: 18m 17s\n",
            "456:\tlearn: 1.3479355\ttest: 1.6929488\tbest: 1.6925870 (428)\ttotal: 52.6s\tremaining: 18m 17s\n",
            "457:\tlearn: 1.3475507\ttest: 1.6928797\tbest: 1.6925870 (428)\ttotal: 52.7s\tremaining: 18m 17s\n",
            "458:\tlearn: 1.3473945\ttest: 1.6928368\tbest: 1.6925870 (428)\ttotal: 52.7s\tremaining: 18m 16s\n",
            "459:\tlearn: 1.3468324\ttest: 1.6929557\tbest: 1.6925870 (428)\ttotal: 52.8s\tremaining: 18m 15s\n",
            "460:\tlearn: 1.3458143\ttest: 1.6927843\tbest: 1.6925870 (428)\ttotal: 53s\tremaining: 18m 15s\n",
            "461:\tlearn: 1.3454973\ttest: 1.6927819\tbest: 1.6925870 (428)\ttotal: 53s\tremaining: 18m 15s\n",
            "462:\tlearn: 1.3442425\ttest: 1.6927123\tbest: 1.6925870 (428)\ttotal: 53.2s\tremaining: 18m 15s\n",
            "463:\tlearn: 1.3439227\ttest: 1.6928641\tbest: 1.6925870 (428)\ttotal: 53.3s\tremaining: 18m 14s\n",
            "464:\tlearn: 1.3431376\ttest: 1.6927688\tbest: 1.6925870 (428)\ttotal: 53.4s\tremaining: 18m 14s\n",
            "465:\tlearn: 1.3429456\ttest: 1.6927410\tbest: 1.6925870 (428)\ttotal: 53.5s\tremaining: 18m 13s\n",
            "466:\tlearn: 1.3424825\ttest: 1.6928191\tbest: 1.6925870 (428)\ttotal: 53.5s\tremaining: 18m 13s\n",
            "467:\tlearn: 1.3418435\ttest: 1.6926893\tbest: 1.6925870 (428)\ttotal: 53.7s\tremaining: 18m 12s\n",
            "468:\tlearn: 1.3409421\ttest: 1.6927669\tbest: 1.6925870 (428)\ttotal: 53.8s\tremaining: 18m 13s\n",
            "469:\tlearn: 1.3398635\ttest: 1.6924734\tbest: 1.6924734 (469)\ttotal: 53.9s\tremaining: 18m 13s\n",
            "470:\tlearn: 1.3395357\ttest: 1.6922941\tbest: 1.6922941 (470)\ttotal: 54s\tremaining: 18m 12s\n",
            "471:\tlearn: 1.3391363\ttest: 1.6923459\tbest: 1.6922941 (470)\ttotal: 54.1s\tremaining: 18m 12s\n",
            "472:\tlearn: 1.3383316\ttest: 1.6924087\tbest: 1.6922941 (470)\ttotal: 54.2s\tremaining: 18m 12s\n",
            "473:\tlearn: 1.3376811\ttest: 1.6922474\tbest: 1.6922474 (473)\ttotal: 54.3s\tremaining: 18m 12s\n",
            "474:\tlearn: 1.3367939\ttest: 1.6921856\tbest: 1.6921856 (474)\ttotal: 54.5s\tremaining: 18m 12s\n",
            "475:\tlearn: 1.3360471\ttest: 1.6921127\tbest: 1.6921127 (475)\ttotal: 54.6s\tremaining: 18m 11s\n",
            "476:\tlearn: 1.3356060\ttest: 1.6920249\tbest: 1.6920249 (476)\ttotal: 54.7s\tremaining: 18m 11s\n",
            "477:\tlearn: 1.3351324\ttest: 1.6920446\tbest: 1.6920249 (476)\ttotal: 54.8s\tremaining: 18m 10s\n",
            "478:\tlearn: 1.3347141\ttest: 1.6919494\tbest: 1.6919494 (478)\ttotal: 54.9s\tremaining: 18m 10s\n",
            "479:\tlearn: 1.3340265\ttest: 1.6919744\tbest: 1.6919494 (478)\ttotal: 55s\tremaining: 18m 10s\n",
            "480:\tlearn: 1.3338370\ttest: 1.6918572\tbest: 1.6918572 (480)\ttotal: 55s\tremaining: 18m 9s\n",
            "481:\tlearn: 1.3333462\ttest: 1.6919773\tbest: 1.6918572 (480)\ttotal: 55.1s\tremaining: 18m 8s\n",
            "482:\tlearn: 1.3327573\ttest: 1.6919298\tbest: 1.6918572 (480)\ttotal: 55.2s\tremaining: 18m 8s\n",
            "483:\tlearn: 1.3321392\ttest: 1.6918632\tbest: 1.6918572 (480)\ttotal: 55.3s\tremaining: 18m 8s\n",
            "484:\tlearn: 1.3315347\ttest: 1.6917796\tbest: 1.6917796 (484)\ttotal: 55.5s\tremaining: 18m 8s\n",
            "485:\tlearn: 1.3308246\ttest: 1.6916679\tbest: 1.6916679 (485)\ttotal: 55.6s\tremaining: 18m 7s\n",
            "486:\tlearn: 1.3300855\ttest: 1.6918154\tbest: 1.6916679 (485)\ttotal: 55.7s\tremaining: 18m 7s\n",
            "487:\tlearn: 1.3297600\ttest: 1.6917598\tbest: 1.6916679 (485)\ttotal: 55.8s\tremaining: 18m 7s\n",
            "488:\tlearn: 1.3289635\ttest: 1.6919898\tbest: 1.6916679 (485)\ttotal: 55.9s\tremaining: 18m 6s\n",
            "489:\tlearn: 1.3284835\ttest: 1.6918697\tbest: 1.6916679 (485)\ttotal: 56s\tremaining: 18m 6s\n",
            "490:\tlearn: 1.3279397\ttest: 1.6918225\tbest: 1.6916679 (485)\ttotal: 56.1s\tremaining: 18m 5s\n",
            "491:\tlearn: 1.3277225\ttest: 1.6917986\tbest: 1.6916679 (485)\ttotal: 56.2s\tremaining: 18m 5s\n",
            "492:\tlearn: 1.3272120\ttest: 1.6919929\tbest: 1.6916679 (485)\ttotal: 56.3s\tremaining: 18m 4s\n",
            "493:\tlearn: 1.3264848\ttest: 1.6918859\tbest: 1.6916679 (485)\ttotal: 56.4s\tremaining: 18m 4s\n",
            "494:\tlearn: 1.3257329\ttest: 1.6922688\tbest: 1.6916679 (485)\ttotal: 56.5s\tremaining: 18m 4s\n",
            "495:\tlearn: 1.3251440\ttest: 1.6923054\tbest: 1.6916679 (485)\ttotal: 56.6s\tremaining: 18m 4s\n",
            "496:\tlearn: 1.3244475\ttest: 1.6922523\tbest: 1.6916679 (485)\ttotal: 56.7s\tremaining: 18m 4s\n",
            "497:\tlearn: 1.3240537\ttest: 1.6921993\tbest: 1.6916679 (485)\ttotal: 56.8s\tremaining: 18m 3s\n",
            "498:\tlearn: 1.3236567\ttest: 1.6921492\tbest: 1.6916679 (485)\ttotal: 56.9s\tremaining: 18m 3s\n",
            "499:\tlearn: 1.3228753\ttest: 1.6923455\tbest: 1.6916679 (485)\ttotal: 57s\tremaining: 18m 3s\n",
            "500:\tlearn: 1.3223819\ttest: 1.6923635\tbest: 1.6916679 (485)\ttotal: 57.1s\tremaining: 18m 2s\n",
            "501:\tlearn: 1.3219372\ttest: 1.6923010\tbest: 1.6916679 (485)\ttotal: 57.2s\tremaining: 18m 2s\n",
            "502:\tlearn: 1.3210836\ttest: 1.6925288\tbest: 1.6916679 (485)\ttotal: 57.3s\tremaining: 18m 2s\n",
            "503:\tlearn: 1.3206920\ttest: 1.6923370\tbest: 1.6916679 (485)\ttotal: 57.4s\tremaining: 18m 1s\n",
            "504:\tlearn: 1.3204494\ttest: 1.6923798\tbest: 1.6916679 (485)\ttotal: 57.5s\tremaining: 18m\n",
            "505:\tlearn: 1.3200424\ttest: 1.6922498\tbest: 1.6916679 (485)\ttotal: 57.6s\tremaining: 18m\n",
            "506:\tlearn: 1.3192409\ttest: 1.6925017\tbest: 1.6916679 (485)\ttotal: 57.7s\tremaining: 18m\n",
            "507:\tlearn: 1.3188722\ttest: 1.6923387\tbest: 1.6916679 (485)\ttotal: 57.8s\tremaining: 18m\n",
            "508:\tlearn: 1.3184639\ttest: 1.6925745\tbest: 1.6916679 (485)\ttotal: 57.9s\tremaining: 17m 59s\n",
            "509:\tlearn: 1.3182372\ttest: 1.6926149\tbest: 1.6916679 (485)\ttotal: 58s\tremaining: 17m 58s\n",
            "510:\tlearn: 1.3176380\ttest: 1.6925882\tbest: 1.6916679 (485)\ttotal: 58.1s\tremaining: 17m 58s\n",
            "511:\tlearn: 1.3171246\ttest: 1.6926347\tbest: 1.6916679 (485)\ttotal: 58.2s\tremaining: 17m 58s\n",
            "512:\tlearn: 1.3168338\ttest: 1.6926609\tbest: 1.6916679 (485)\ttotal: 58.3s\tremaining: 17m 57s\n",
            "513:\tlearn: 1.3163983\ttest: 1.6926987\tbest: 1.6916679 (485)\ttotal: 58.4s\tremaining: 17m 57s\n",
            "514:\tlearn: 1.3157661\ttest: 1.6927807\tbest: 1.6916679 (485)\ttotal: 58.5s\tremaining: 17m 57s\n",
            "515:\tlearn: 1.3156324\ttest: 1.6927624\tbest: 1.6916679 (485)\ttotal: 58.6s\tremaining: 17m 56s\n",
            "516:\tlearn: 1.3153736\ttest: 1.6928855\tbest: 1.6916679 (485)\ttotal: 58.6s\tremaining: 17m 55s\n",
            "517:\tlearn: 1.3151006\ttest: 1.6927707\tbest: 1.6916679 (485)\ttotal: 58.7s\tremaining: 17m 54s\n",
            "518:\tlearn: 1.3145671\ttest: 1.6924939\tbest: 1.6916679 (485)\ttotal: 58.8s\tremaining: 17m 54s\n",
            "519:\tlearn: 1.3138542\ttest: 1.6924635\tbest: 1.6916679 (485)\ttotal: 58.9s\tremaining: 17m 54s\n",
            "520:\tlearn: 1.3131919\ttest: 1.6925656\tbest: 1.6916679 (485)\ttotal: 59.1s\tremaining: 17m 54s\n",
            "521:\tlearn: 1.3125467\ttest: 1.6925608\tbest: 1.6916679 (485)\ttotal: 59.2s\tremaining: 17m 54s\n",
            "522:\tlearn: 1.3122325\ttest: 1.6927164\tbest: 1.6916679 (485)\ttotal: 59.3s\tremaining: 17m 53s\n",
            "523:\tlearn: 1.3121001\ttest: 1.6926761\tbest: 1.6916679 (485)\ttotal: 59.3s\tremaining: 17m 52s\n",
            "524:\tlearn: 1.3112282\ttest: 1.6923597\tbest: 1.6916679 (485)\ttotal: 59.5s\tremaining: 17m 53s\n",
            "525:\tlearn: 1.3107214\ttest: 1.6922631\tbest: 1.6916679 (485)\ttotal: 59.6s\tremaining: 17m 52s\n",
            "526:\tlearn: 1.3100563\ttest: 1.6923959\tbest: 1.6916679 (485)\ttotal: 59.7s\tremaining: 17m 52s\n",
            "527:\tlearn: 1.3098281\ttest: 1.6923227\tbest: 1.6916679 (485)\ttotal: 59.8s\tremaining: 17m 52s\n",
            "528:\tlearn: 1.3090434\ttest: 1.6924202\tbest: 1.6916679 (485)\ttotal: 59.9s\tremaining: 17m 52s\n",
            "529:\tlearn: 1.3086675\ttest: 1.6922708\tbest: 1.6916679 (485)\ttotal: 60s\tremaining: 17m 51s\n",
            "530:\tlearn: 1.3084993\ttest: 1.6923590\tbest: 1.6916679 (485)\ttotal: 1m\tremaining: 17m 51s\n",
            "531:\tlearn: 1.3080416\ttest: 1.6922562\tbest: 1.6916679 (485)\ttotal: 1m\tremaining: 17m 51s\n",
            "532:\tlearn: 1.3077017\ttest: 1.6922259\tbest: 1.6916679 (485)\ttotal: 1m\tremaining: 17m 50s\n",
            "533:\tlearn: 1.3072917\ttest: 1.6921751\tbest: 1.6916679 (485)\ttotal: 1m\tremaining: 17m 49s\n",
            "534:\tlearn: 1.3065214\ttest: 1.6922662\tbest: 1.6916679 (485)\ttotal: 1m\tremaining: 17m 50s\n",
            "535:\tlearn: 1.3060623\ttest: 1.6922696\tbest: 1.6916679 (485)\ttotal: 1m\tremaining: 17m 49s\n",
            "536:\tlearn: 1.3057169\ttest: 1.6922363\tbest: 1.6916679 (485)\ttotal: 1m\tremaining: 17m 49s\n",
            "537:\tlearn: 1.3050045\ttest: 1.6921489\tbest: 1.6916679 (485)\ttotal: 1m\tremaining: 17m 48s\n",
            "538:\tlearn: 1.3047349\ttest: 1.6921957\tbest: 1.6916679 (485)\ttotal: 1m\tremaining: 17m 48s\n",
            "539:\tlearn: 1.3038169\ttest: 1.6919246\tbest: 1.6916679 (485)\ttotal: 1m 1s\tremaining: 17m 48s\n",
            "540:\tlearn: 1.3034134\ttest: 1.6918817\tbest: 1.6916679 (485)\ttotal: 1m 1s\tremaining: 17m 48s\n",
            "541:\tlearn: 1.3024910\ttest: 1.6917675\tbest: 1.6916679 (485)\ttotal: 1m 1s\tremaining: 17m 48s\n",
            "542:\tlearn: 1.3021332\ttest: 1.6919258\tbest: 1.6916679 (485)\ttotal: 1m 1s\tremaining: 17m 48s\n",
            "543:\tlearn: 1.3018050\ttest: 1.6920698\tbest: 1.6916679 (485)\ttotal: 1m 1s\tremaining: 17m 47s\n",
            "544:\tlearn: 1.3010879\ttest: 1.6921864\tbest: 1.6916679 (485)\ttotal: 1m 1s\tremaining: 17m 47s\n",
            "545:\tlearn: 1.3007106\ttest: 1.6919961\tbest: 1.6916679 (485)\ttotal: 1m 1s\tremaining: 17m 46s\n",
            "546:\tlearn: 1.3001531\ttest: 1.6921004\tbest: 1.6916679 (485)\ttotal: 1m 1s\tremaining: 17m 46s\n",
            "547:\tlearn: 1.2992866\ttest: 1.6920953\tbest: 1.6916679 (485)\ttotal: 1m 1s\tremaining: 17m 46s\n",
            "548:\tlearn: 1.2985422\ttest: 1.6920273\tbest: 1.6916679 (485)\ttotal: 1m 1s\tremaining: 17m 46s\n",
            "549:\tlearn: 1.2981898\ttest: 1.6920071\tbest: 1.6916679 (485)\ttotal: 1m 2s\tremaining: 17m 46s\n",
            "550:\tlearn: 1.2973014\ttest: 1.6919522\tbest: 1.6916679 (485)\ttotal: 1m 2s\tremaining: 17m 46s\n",
            "551:\tlearn: 1.2967513\ttest: 1.6918743\tbest: 1.6916679 (485)\ttotal: 1m 2s\tremaining: 17m 46s\n",
            "552:\tlearn: 1.2966642\ttest: 1.6918499\tbest: 1.6916679 (485)\ttotal: 1m 2s\tremaining: 17m 45s\n",
            "553:\tlearn: 1.2958227\ttest: 1.6919217\tbest: 1.6916679 (485)\ttotal: 1m 2s\tremaining: 17m 45s\n",
            "554:\tlearn: 1.2952071\ttest: 1.6918325\tbest: 1.6916679 (485)\ttotal: 1m 2s\tremaining: 17m 44s\n",
            "555:\tlearn: 1.2950400\ttest: 1.6918542\tbest: 1.6916679 (485)\ttotal: 1m 2s\tremaining: 17m 44s\n",
            "556:\tlearn: 1.2947468\ttest: 1.6918043\tbest: 1.6916679 (485)\ttotal: 1m 2s\tremaining: 17m 43s\n",
            "557:\tlearn: 1.2938555\ttest: 1.6917311\tbest: 1.6916679 (485)\ttotal: 1m 2s\tremaining: 17m 43s\n",
            "558:\tlearn: 1.2932989\ttest: 1.6917295\tbest: 1.6916679 (485)\ttotal: 1m 2s\tremaining: 17m 43s\n",
            "559:\tlearn: 1.2927323\ttest: 1.6916815\tbest: 1.6916679 (485)\ttotal: 1m 3s\tremaining: 17m 43s\n",
            "560:\tlearn: 1.2917909\ttest: 1.6917124\tbest: 1.6916679 (485)\ttotal: 1m 3s\tremaining: 17m 43s\n",
            "561:\tlearn: 1.2911620\ttest: 1.6915689\tbest: 1.6915689 (561)\ttotal: 1m 3s\tremaining: 17m 43s\n",
            "562:\tlearn: 1.2904001\ttest: 1.6916811\tbest: 1.6915689 (561)\ttotal: 1m 3s\tremaining: 17m 43s\n",
            "563:\tlearn: 1.2895541\ttest: 1.6914669\tbest: 1.6914669 (563)\ttotal: 1m 3s\tremaining: 17m 43s\n",
            "564:\tlearn: 1.2889700\ttest: 1.6914902\tbest: 1.6914669 (563)\ttotal: 1m 3s\tremaining: 17m 43s\n",
            "565:\tlearn: 1.2881671\ttest: 1.6913637\tbest: 1.6913637 (565)\ttotal: 1m 3s\tremaining: 17m 43s\n",
            "566:\tlearn: 1.2873447\ttest: 1.6914008\tbest: 1.6913637 (565)\ttotal: 1m 3s\tremaining: 17m 43s\n",
            "567:\tlearn: 1.2866997\ttest: 1.6912739\tbest: 1.6912739 (567)\ttotal: 1m 4s\tremaining: 17m 43s\n",
            "568:\tlearn: 1.2859678\ttest: 1.6914232\tbest: 1.6912739 (567)\ttotal: 1m 4s\tremaining: 17m 43s\n",
            "569:\tlearn: 1.2850997\ttest: 1.6915556\tbest: 1.6912739 (567)\ttotal: 1m 4s\tremaining: 17m 43s\n",
            "570:\tlearn: 1.2843954\ttest: 1.6917899\tbest: 1.6912739 (567)\ttotal: 1m 4s\tremaining: 17m 43s\n",
            "571:\tlearn: 1.2840606\ttest: 1.6920316\tbest: 1.6912739 (567)\ttotal: 1m 4s\tremaining: 17m 42s\n",
            "572:\tlearn: 1.2835020\ttest: 1.6919596\tbest: 1.6912739 (567)\ttotal: 1m 4s\tremaining: 17m 42s\n",
            "573:\tlearn: 1.2827792\ttest: 1.6920557\tbest: 1.6912739 (567)\ttotal: 1m 4s\tremaining: 17m 42s\n",
            "574:\tlearn: 1.2826522\ttest: 1.6920071\tbest: 1.6912739 (567)\ttotal: 1m 4s\tremaining: 17m 41s\n",
            "575:\tlearn: 1.2824045\ttest: 1.6920404\tbest: 1.6912739 (567)\ttotal: 1m 4s\tremaining: 17m 41s\n",
            "576:\tlearn: 1.2816300\ttest: 1.6921742\tbest: 1.6912739 (567)\ttotal: 1m 4s\tremaining: 17m 41s\n",
            "577:\tlearn: 1.2808525\ttest: 1.6920583\tbest: 1.6912739 (567)\ttotal: 1m 5s\tremaining: 17m 41s\n",
            "578:\tlearn: 1.2800431\ttest: 1.6921525\tbest: 1.6912739 (567)\ttotal: 1m 5s\tremaining: 17m 41s\n",
            "579:\tlearn: 1.2798112\ttest: 1.6921415\tbest: 1.6912739 (567)\ttotal: 1m 5s\tremaining: 17m 40s\n",
            "580:\tlearn: 1.2788053\ttest: 1.6921413\tbest: 1.6912739 (567)\ttotal: 1m 5s\tremaining: 17m 40s\n",
            "581:\tlearn: 1.2783771\ttest: 1.6921680\tbest: 1.6912739 (567)\ttotal: 1m 5s\tremaining: 17m 39s\n",
            "582:\tlearn: 1.2780514\ttest: 1.6921076\tbest: 1.6912739 (567)\ttotal: 1m 5s\tremaining: 17m 39s\n",
            "583:\tlearn: 1.2772665\ttest: 1.6917952\tbest: 1.6912739 (567)\ttotal: 1m 5s\tremaining: 17m 39s\n",
            "584:\tlearn: 1.2767686\ttest: 1.6920921\tbest: 1.6912739 (567)\ttotal: 1m 5s\tremaining: 17m 39s\n",
            "585:\tlearn: 1.2759203\ttest: 1.6920688\tbest: 1.6912739 (567)\ttotal: 1m 5s\tremaining: 17m 39s\n",
            "586:\tlearn: 1.2749587\ttest: 1.6920708\tbest: 1.6912739 (567)\ttotal: 1m 6s\tremaining: 17m 39s\n",
            "587:\tlearn: 1.2742093\ttest: 1.6918136\tbest: 1.6912739 (567)\ttotal: 1m 6s\tremaining: 17m 40s\n",
            "588:\tlearn: 1.2739038\ttest: 1.6919767\tbest: 1.6912739 (567)\ttotal: 1m 6s\tremaining: 17m 39s\n",
            "589:\tlearn: 1.2734621\ttest: 1.6919473\tbest: 1.6912739 (567)\ttotal: 1m 6s\tremaining: 17m 39s\n",
            "590:\tlearn: 1.2726827\ttest: 1.6920409\tbest: 1.6912739 (567)\ttotal: 1m 6s\tremaining: 17m 39s\n",
            "591:\tlearn: 1.2724566\ttest: 1.6919676\tbest: 1.6912739 (567)\ttotal: 1m 6s\tremaining: 17m 38s\n",
            "592:\tlearn: 1.2718509\ttest: 1.6918243\tbest: 1.6912739 (567)\ttotal: 1m 6s\tremaining: 17m 38s\n",
            "593:\tlearn: 1.2715738\ttest: 1.6919413\tbest: 1.6912739 (567)\ttotal: 1m 6s\tremaining: 17m 37s\n",
            "594:\tlearn: 1.2710712\ttest: 1.6919398\tbest: 1.6912739 (567)\ttotal: 1m 6s\tremaining: 17m 37s\n",
            "595:\tlearn: 1.2704666\ttest: 1.6917270\tbest: 1.6912739 (567)\ttotal: 1m 7s\tremaining: 17m 37s\n",
            "596:\tlearn: 1.2699302\ttest: 1.6919067\tbest: 1.6912739 (567)\ttotal: 1m 7s\tremaining: 17m 36s\n",
            "597:\tlearn: 1.2694453\ttest: 1.6916991\tbest: 1.6912739 (567)\ttotal: 1m 7s\tremaining: 17m 36s\n",
            "598:\tlearn: 1.2688377\ttest: 1.6919013\tbest: 1.6912739 (567)\ttotal: 1m 7s\tremaining: 17m 36s\n",
            "599:\tlearn: 1.2681800\ttest: 1.6920114\tbest: 1.6912739 (567)\ttotal: 1m 7s\tremaining: 17m 36s\n",
            "600:\tlearn: 1.2675835\ttest: 1.6919128\tbest: 1.6912739 (567)\ttotal: 1m 7s\tremaining: 17m 36s\n",
            "601:\tlearn: 1.2667650\ttest: 1.6914697\tbest: 1.6912739 (567)\ttotal: 1m 7s\tremaining: 17m 36s\n",
            "602:\tlearn: 1.2658223\ttest: 1.6918030\tbest: 1.6912739 (567)\ttotal: 1m 7s\tremaining: 17m 36s\n",
            "603:\tlearn: 1.2655069\ttest: 1.6915365\tbest: 1.6912739 (567)\ttotal: 1m 7s\tremaining: 17m 36s\n",
            "604:\tlearn: 1.2647601\ttest: 1.6916525\tbest: 1.6912739 (567)\ttotal: 1m 8s\tremaining: 17m 36s\n",
            "605:\tlearn: 1.2637806\ttest: 1.6915476\tbest: 1.6912739 (567)\ttotal: 1m 8s\tremaining: 17m 36s\n",
            "606:\tlearn: 1.2636216\ttest: 1.6915758\tbest: 1.6912739 (567)\ttotal: 1m 8s\tremaining: 17m 35s\n",
            "607:\tlearn: 1.2626262\ttest: 1.6915231\tbest: 1.6912739 (567)\ttotal: 1m 8s\tremaining: 17m 36s\n",
            "608:\tlearn: 1.2622599\ttest: 1.6916430\tbest: 1.6912739 (567)\ttotal: 1m 8s\tremaining: 17m 35s\n",
            "609:\tlearn: 1.2613852\ttest: 1.6917084\tbest: 1.6912739 (567)\ttotal: 1m 8s\tremaining: 17m 35s\n",
            "610:\tlearn: 1.2605573\ttest: 1.6915514\tbest: 1.6912739 (567)\ttotal: 1m 8s\tremaining: 17m 35s\n",
            "611:\tlearn: 1.2599821\ttest: 1.6913946\tbest: 1.6912739 (567)\ttotal: 1m 8s\tremaining: 17m 35s\n",
            "612:\tlearn: 1.2593057\ttest: 1.6913016\tbest: 1.6912739 (567)\ttotal: 1m 8s\tremaining: 17m 35s\n",
            "613:\tlearn: 1.2588428\ttest: 1.6914421\tbest: 1.6912739 (567)\ttotal: 1m 9s\tremaining: 17m 35s\n",
            "614:\tlearn: 1.2586435\ttest: 1.6914926\tbest: 1.6912739 (567)\ttotal: 1m 9s\tremaining: 17m 34s\n",
            "615:\tlearn: 1.2579135\ttest: 1.6916304\tbest: 1.6912739 (567)\ttotal: 1m 9s\tremaining: 17m 34s\n",
            "616:\tlearn: 1.2577638\ttest: 1.6916275\tbest: 1.6912739 (567)\ttotal: 1m 9s\tremaining: 17m 34s\n",
            "617:\tlearn: 1.2571637\ttest: 1.6915839\tbest: 1.6912739 (567)\ttotal: 1m 9s\tremaining: 17m 33s\n",
            "618:\tlearn: 1.2565038\ttest: 1.6914134\tbest: 1.6912739 (567)\ttotal: 1m 9s\tremaining: 17m 33s\n",
            "619:\tlearn: 1.2557094\ttest: 1.6915002\tbest: 1.6912739 (567)\ttotal: 1m 9s\tremaining: 17m 33s\n",
            "620:\tlearn: 1.2550865\ttest: 1.6914804\tbest: 1.6912739 (567)\ttotal: 1m 9s\tremaining: 17m 33s\n",
            "621:\tlearn: 1.2546479\ttest: 1.6913328\tbest: 1.6912739 (567)\ttotal: 1m 9s\tremaining: 17m 33s\n",
            "622:\tlearn: 1.2543676\ttest: 1.6912524\tbest: 1.6912524 (622)\ttotal: 1m 9s\tremaining: 17m 32s\n",
            "623:\tlearn: 1.2542428\ttest: 1.6912618\tbest: 1.6912524 (622)\ttotal: 1m 10s\tremaining: 17m 32s\n",
            "624:\tlearn: 1.2535905\ttest: 1.6911494\tbest: 1.6911494 (624)\ttotal: 1m 10s\tremaining: 17m 31s\n",
            "625:\tlearn: 1.2531727\ttest: 1.6911430\tbest: 1.6911430 (625)\ttotal: 1m 10s\tremaining: 17m 31s\n",
            "626:\tlearn: 1.2526189\ttest: 1.6912390\tbest: 1.6911430 (625)\ttotal: 1m 10s\tremaining: 17m 31s\n",
            "627:\tlearn: 1.2521157\ttest: 1.6910979\tbest: 1.6910979 (627)\ttotal: 1m 10s\tremaining: 17m 31s\n",
            "628:\tlearn: 1.2516292\ttest: 1.6910690\tbest: 1.6910690 (628)\ttotal: 1m 10s\tremaining: 17m 30s\n",
            "629:\tlearn: 1.2510028\ttest: 1.6913273\tbest: 1.6910690 (628)\ttotal: 1m 10s\tremaining: 17m 30s\n",
            "630:\tlearn: 1.2506114\ttest: 1.6914412\tbest: 1.6910690 (628)\ttotal: 1m 10s\tremaining: 17m 30s\n",
            "631:\tlearn: 1.2497606\ttest: 1.6912280\tbest: 1.6910690 (628)\ttotal: 1m 10s\tremaining: 17m 30s\n",
            "632:\tlearn: 1.2488441\ttest: 1.6910950\tbest: 1.6910690 (628)\ttotal: 1m 11s\tremaining: 17m 30s\n",
            "633:\tlearn: 1.2483226\ttest: 1.6911739\tbest: 1.6910690 (628)\ttotal: 1m 11s\tremaining: 17m 30s\n",
            "634:\tlearn: 1.2475583\ttest: 1.6911216\tbest: 1.6910690 (628)\ttotal: 1m 11s\tremaining: 17m 30s\n",
            "635:\tlearn: 1.2468294\ttest: 1.6910666\tbest: 1.6910666 (635)\ttotal: 1m 11s\tremaining: 17m 30s\n",
            "636:\tlearn: 1.2462162\ttest: 1.6908431\tbest: 1.6908431 (636)\ttotal: 1m 11s\tremaining: 17m 30s\n",
            "637:\tlearn: 1.2457476\ttest: 1.6909101\tbest: 1.6908431 (636)\ttotal: 1m 11s\tremaining: 17m 30s\n",
            "638:\tlearn: 1.2450336\ttest: 1.6908635\tbest: 1.6908431 (636)\ttotal: 1m 11s\tremaining: 17m 30s\n",
            "639:\tlearn: 1.2445303\ttest: 1.6909614\tbest: 1.6908431 (636)\ttotal: 1m 11s\tremaining: 17m 29s\n",
            "640:\tlearn: 1.2437099\ttest: 1.6910515\tbest: 1.6908431 (636)\ttotal: 1m 11s\tremaining: 17m 29s\n",
            "641:\tlearn: 1.2430090\ttest: 1.6912265\tbest: 1.6908431 (636)\ttotal: 1m 12s\tremaining: 17m 29s\n",
            "642:\tlearn: 1.2422906\ttest: 1.6912085\tbest: 1.6908431 (636)\ttotal: 1m 12s\tremaining: 17m 29s\n",
            "643:\tlearn: 1.2420757\ttest: 1.6913354\tbest: 1.6908431 (636)\ttotal: 1m 12s\tremaining: 17m 29s\n",
            "644:\tlearn: 1.2414801\ttest: 1.6912936\tbest: 1.6908431 (636)\ttotal: 1m 12s\tremaining: 17m 29s\n",
            "645:\tlearn: 1.2409741\ttest: 1.6913471\tbest: 1.6908431 (636)\ttotal: 1m 12s\tremaining: 17m 28s\n",
            "646:\tlearn: 1.2405717\ttest: 1.6913844\tbest: 1.6908431 (636)\ttotal: 1m 12s\tremaining: 17m 28s\n",
            "647:\tlearn: 1.2397768\ttest: 1.6910436\tbest: 1.6908431 (636)\ttotal: 1m 12s\tremaining: 17m 28s\n",
            "648:\tlearn: 1.2393991\ttest: 1.6911294\tbest: 1.6908431 (636)\ttotal: 1m 12s\tremaining: 17m 28s\n",
            "649:\tlearn: 1.2392045\ttest: 1.6911507\tbest: 1.6908431 (636)\ttotal: 1m 12s\tremaining: 17m 27s\n",
            "650:\tlearn: 1.2390568\ttest: 1.6911528\tbest: 1.6908431 (636)\ttotal: 1m 12s\tremaining: 17m 26s\n",
            "651:\tlearn: 1.2383279\ttest: 1.6913290\tbest: 1.6908431 (636)\ttotal: 1m 13s\tremaining: 17m 26s\n",
            "652:\tlearn: 1.2374220\ttest: 1.6916302\tbest: 1.6908431 (636)\ttotal: 1m 13s\tremaining: 17m 26s\n",
            "653:\tlearn: 1.2369356\ttest: 1.6914976\tbest: 1.6908431 (636)\ttotal: 1m 13s\tremaining: 17m 26s\n",
            "654:\tlearn: 1.2367865\ttest: 1.6913409\tbest: 1.6908431 (636)\ttotal: 1m 13s\tremaining: 17m 26s\n",
            "655:\tlearn: 1.2363897\ttest: 1.6914675\tbest: 1.6908431 (636)\ttotal: 1m 13s\tremaining: 17m 25s\n",
            "656:\tlearn: 1.2357858\ttest: 1.6915288\tbest: 1.6908431 (636)\ttotal: 1m 13s\tremaining: 17m 25s\n",
            "657:\tlearn: 1.2347528\ttest: 1.6915194\tbest: 1.6908431 (636)\ttotal: 1m 13s\tremaining: 17m 25s\n",
            "658:\tlearn: 1.2345893\ttest: 1.6916264\tbest: 1.6908431 (636)\ttotal: 1m 13s\tremaining: 17m 25s\n",
            "659:\tlearn: 1.2340314\ttest: 1.6916772\tbest: 1.6908431 (636)\ttotal: 1m 13s\tremaining: 17m 25s\n",
            "660:\tlearn: 1.2332054\ttest: 1.6917101\tbest: 1.6908431 (636)\ttotal: 1m 13s\tremaining: 17m 24s\n",
            "661:\tlearn: 1.2323979\ttest: 1.6914897\tbest: 1.6908431 (636)\ttotal: 1m 14s\tremaining: 17m 25s\n",
            "662:\tlearn: 1.2319583\ttest: 1.6914686\tbest: 1.6908431 (636)\ttotal: 1m 14s\tremaining: 17m 24s\n",
            "663:\tlearn: 1.2307155\ttest: 1.6920207\tbest: 1.6908431 (636)\ttotal: 1m 14s\tremaining: 17m 25s\n",
            "664:\tlearn: 1.2299595\ttest: 1.6918739\tbest: 1.6908431 (636)\ttotal: 1m 14s\tremaining: 17m 25s\n",
            "665:\tlearn: 1.2294109\ttest: 1.6918609\tbest: 1.6908431 (636)\ttotal: 1m 14s\tremaining: 17m 24s\n",
            "666:\tlearn: 1.2289036\ttest: 1.6919401\tbest: 1.6908431 (636)\ttotal: 1m 14s\tremaining: 17m 24s\n",
            "667:\tlearn: 1.2285170\ttest: 1.6919711\tbest: 1.6908431 (636)\ttotal: 1m 14s\tremaining: 17m 24s\n",
            "668:\tlearn: 1.2281952\ttest: 1.6920359\tbest: 1.6908431 (636)\ttotal: 1m 14s\tremaining: 17m 23s\n",
            "669:\tlearn: 1.2278047\ttest: 1.6919985\tbest: 1.6908431 (636)\ttotal: 1m 14s\tremaining: 17m 23s\n",
            "670:\tlearn: 1.2277319\ttest: 1.6919987\tbest: 1.6908431 (636)\ttotal: 1m 15s\tremaining: 17m 22s\n",
            "671:\tlearn: 1.2273502\ttest: 1.6918641\tbest: 1.6908431 (636)\ttotal: 1m 15s\tremaining: 17m 22s\n",
            "672:\tlearn: 1.2269812\ttest: 1.6918317\tbest: 1.6908431 (636)\ttotal: 1m 15s\tremaining: 17m 22s\n",
            "673:\tlearn: 1.2266261\ttest: 1.6916312\tbest: 1.6908431 (636)\ttotal: 1m 15s\tremaining: 17m 21s\n",
            "674:\tlearn: 1.2260015\ttest: 1.6916888\tbest: 1.6908431 (636)\ttotal: 1m 15s\tremaining: 17m 21s\n",
            "675:\tlearn: 1.2257788\ttest: 1.6917044\tbest: 1.6908431 (636)\ttotal: 1m 15s\tremaining: 17m 21s\n",
            "676:\tlearn: 1.2249109\ttest: 1.6916060\tbest: 1.6908431 (636)\ttotal: 1m 15s\tremaining: 17m 21s\n",
            "677:\tlearn: 1.2243245\ttest: 1.6917107\tbest: 1.6908431 (636)\ttotal: 1m 15s\tremaining: 17m 21s\n",
            "678:\tlearn: 1.2236315\ttest: 1.6915286\tbest: 1.6908431 (636)\ttotal: 1m 15s\tremaining: 17m 21s\n",
            "679:\tlearn: 1.2231279\ttest: 1.6916471\tbest: 1.6908431 (636)\ttotal: 1m 15s\tremaining: 17m 21s\n",
            "680:\tlearn: 1.2229054\ttest: 1.6917363\tbest: 1.6908431 (636)\ttotal: 1m 16s\tremaining: 17m 20s\n",
            "681:\tlearn: 1.2227290\ttest: 1.6917624\tbest: 1.6908431 (636)\ttotal: 1m 16s\tremaining: 17m 20s\n",
            "682:\tlearn: 1.2226179\ttest: 1.6917958\tbest: 1.6908431 (636)\ttotal: 1m 16s\tremaining: 17m 19s\n",
            "683:\tlearn: 1.2220342\ttest: 1.6920072\tbest: 1.6908431 (636)\ttotal: 1m 16s\tremaining: 17m 19s\n",
            "684:\tlearn: 1.2216376\ttest: 1.6918907\tbest: 1.6908431 (636)\ttotal: 1m 16s\tremaining: 17m 19s\n",
            "685:\tlearn: 1.2213830\ttest: 1.6917799\tbest: 1.6908431 (636)\ttotal: 1m 16s\tremaining: 17m 18s\n",
            "686:\tlearn: 1.2208840\ttest: 1.6916642\tbest: 1.6908431 (636)\ttotal: 1m 16s\tremaining: 17m 18s\n",
            "687:\tlearn: 1.2203653\ttest: 1.6917765\tbest: 1.6908431 (636)\ttotal: 1m 16s\tremaining: 17m 18s\n",
            "688:\tlearn: 1.2197861\ttest: 1.6918569\tbest: 1.6908431 (636)\ttotal: 1m 16s\tremaining: 17m 17s\n",
            "689:\tlearn: 1.2196494\ttest: 1.6918637\tbest: 1.6908431 (636)\ttotal: 1m 16s\tremaining: 17m 17s\n",
            "690:\tlearn: 1.2192877\ttest: 1.6919968\tbest: 1.6908431 (636)\ttotal: 1m 16s\tremaining: 17m 16s\n",
            "691:\tlearn: 1.2189769\ttest: 1.6921928\tbest: 1.6908431 (636)\ttotal: 1m 17s\tremaining: 17m 16s\n",
            "692:\tlearn: 1.2187658\ttest: 1.6920600\tbest: 1.6908431 (636)\ttotal: 1m 17s\tremaining: 17m 15s\n",
            "693:\tlearn: 1.2181181\ttest: 1.6918695\tbest: 1.6908431 (636)\ttotal: 1m 17s\tremaining: 17m 15s\n",
            "694:\tlearn: 1.2174327\ttest: 1.6920642\tbest: 1.6908431 (636)\ttotal: 1m 17s\tremaining: 17m 15s\n",
            "695:\tlearn: 1.2167851\ttest: 1.6923214\tbest: 1.6908431 (636)\ttotal: 1m 17s\tremaining: 17m 15s\n",
            "696:\tlearn: 1.2160763\ttest: 1.6920936\tbest: 1.6908431 (636)\ttotal: 1m 17s\tremaining: 17m 15s\n",
            "697:\tlearn: 1.2158104\ttest: 1.6921822\tbest: 1.6908431 (636)\ttotal: 1m 17s\tremaining: 17m 14s\n",
            "698:\tlearn: 1.2154333\ttest: 1.6922417\tbest: 1.6908431 (636)\ttotal: 1m 17s\tremaining: 17m 14s\n",
            "699:\tlearn: 1.2152317\ttest: 1.6922436\tbest: 1.6908431 (636)\ttotal: 1m 17s\tremaining: 17m 14s\n",
            "700:\tlearn: 1.2144657\ttest: 1.6922805\tbest: 1.6908431 (636)\ttotal: 1m 17s\tremaining: 17m 14s\n",
            "701:\tlearn: 1.2142510\ttest: 1.6922691\tbest: 1.6908431 (636)\ttotal: 1m 18s\tremaining: 17m 13s\n",
            "702:\tlearn: 1.2140435\ttest: 1.6922220\tbest: 1.6908431 (636)\ttotal: 1m 18s\tremaining: 17m 13s\n",
            "703:\tlearn: 1.2132905\ttest: 1.6920874\tbest: 1.6908431 (636)\ttotal: 1m 18s\tremaining: 17m 12s\n",
            "704:\tlearn: 1.2130971\ttest: 1.6922489\tbest: 1.6908431 (636)\ttotal: 1m 18s\tremaining: 17m 12s\n",
            "705:\tlearn: 1.2129193\ttest: 1.6921968\tbest: 1.6908431 (636)\ttotal: 1m 18s\tremaining: 17m 11s\n",
            "706:\tlearn: 1.2122845\ttest: 1.6921493\tbest: 1.6908431 (636)\ttotal: 1m 18s\tremaining: 17m 11s\n",
            "707:\tlearn: 1.2117263\ttest: 1.6922355\tbest: 1.6908431 (636)\ttotal: 1m 18s\tremaining: 17m 11s\n",
            "708:\tlearn: 1.2113674\ttest: 1.6923985\tbest: 1.6908431 (636)\ttotal: 1m 18s\tremaining: 17m 11s\n",
            "709:\tlearn: 1.2110335\ttest: 1.6923602\tbest: 1.6908431 (636)\ttotal: 1m 18s\tremaining: 17m 10s\n",
            "710:\tlearn: 1.2108481\ttest: 1.6924257\tbest: 1.6908431 (636)\ttotal: 1m 18s\tremaining: 17m 10s\n",
            "711:\tlearn: 1.2105313\ttest: 1.6922686\tbest: 1.6908431 (636)\ttotal: 1m 18s\tremaining: 17m 9s\n",
            "712:\tlearn: 1.2098977\ttest: 1.6921573\tbest: 1.6908431 (636)\ttotal: 1m 19s\tremaining: 17m 9s\n",
            "713:\tlearn: 1.2090974\ttest: 1.6919217\tbest: 1.6908431 (636)\ttotal: 1m 19s\tremaining: 17m 9s\n",
            "714:\tlearn: 1.2085762\ttest: 1.6918269\tbest: 1.6908431 (636)\ttotal: 1m 19s\tremaining: 17m 9s\n",
            "715:\tlearn: 1.2083344\ttest: 1.6919830\tbest: 1.6908431 (636)\ttotal: 1m 19s\tremaining: 17m 9s\n",
            "716:\tlearn: 1.2078584\ttest: 1.6916795\tbest: 1.6908431 (636)\ttotal: 1m 19s\tremaining: 17m 9s\n",
            "717:\tlearn: 1.2075829\ttest: 1.6918485\tbest: 1.6908431 (636)\ttotal: 1m 19s\tremaining: 17m 8s\n",
            "718:\tlearn: 1.2072771\ttest: 1.6917930\tbest: 1.6908431 (636)\ttotal: 1m 19s\tremaining: 17m 8s\n",
            "719:\tlearn: 1.2067261\ttest: 1.6918969\tbest: 1.6908431 (636)\ttotal: 1m 19s\tremaining: 17m 8s\n",
            "720:\tlearn: 1.2064034\ttest: 1.6919925\tbest: 1.6908431 (636)\ttotal: 1m 19s\tremaining: 17m 7s\n",
            "721:\tlearn: 1.2058047\ttest: 1.6918628\tbest: 1.6908431 (636)\ttotal: 1m 19s\tremaining: 17m 7s\n",
            "722:\tlearn: 1.2049444\ttest: 1.6921148\tbest: 1.6908431 (636)\ttotal: 1m 20s\tremaining: 17m 7s\n",
            "723:\tlearn: 1.2047330\ttest: 1.6922855\tbest: 1.6908431 (636)\ttotal: 1m 20s\tremaining: 17m 7s\n",
            "724:\tlearn: 1.2038869\ttest: 1.6922104\tbest: 1.6908431 (636)\ttotal: 1m 20s\tremaining: 17m 7s\n",
            "725:\tlearn: 1.2033077\ttest: 1.6922992\tbest: 1.6908431 (636)\ttotal: 1m 20s\tremaining: 17m 7s\n",
            "726:\tlearn: 1.2028377\ttest: 1.6922865\tbest: 1.6908431 (636)\ttotal: 1m 20s\tremaining: 17m 7s\n",
            "727:\tlearn: 1.2022317\ttest: 1.6923773\tbest: 1.6908431 (636)\ttotal: 1m 20s\tremaining: 17m 7s\n",
            "728:\tlearn: 1.2020965\ttest: 1.6923363\tbest: 1.6908431 (636)\ttotal: 1m 20s\tremaining: 17m 6s\n",
            "729:\tlearn: 1.2012180\ttest: 1.6923223\tbest: 1.6908431 (636)\ttotal: 1m 20s\tremaining: 17m 6s\n",
            "730:\tlearn: 1.2008770\ttest: 1.6923741\tbest: 1.6908431 (636)\ttotal: 1m 20s\tremaining: 17m 6s\n",
            "731:\tlearn: 1.2001641\ttest: 1.6925941\tbest: 1.6908431 (636)\ttotal: 1m 21s\tremaining: 17m 6s\n",
            "732:\tlearn: 1.1997368\ttest: 1.6922425\tbest: 1.6908431 (636)\ttotal: 1m 21s\tremaining: 17m 5s\n",
            "733:\tlearn: 1.1991233\ttest: 1.6920764\tbest: 1.6908431 (636)\ttotal: 1m 21s\tremaining: 17m 5s\n",
            "734:\tlearn: 1.1984266\ttest: 1.6921651\tbest: 1.6908431 (636)\ttotal: 1m 21s\tremaining: 17m 6s\n",
            "735:\tlearn: 1.1978729\ttest: 1.6921893\tbest: 1.6908431 (636)\ttotal: 1m 21s\tremaining: 17m 6s\n",
            "736:\tlearn: 1.1971825\ttest: 1.6920524\tbest: 1.6908431 (636)\ttotal: 1m 21s\tremaining: 17m 5s\n",
            "bestTest = 1.690843105\n",
            "bestIteration = 636\n",
            "Shrink model to first 637 iterations.\n"
          ],
          "name": "stdout"
        },
        {
          "output_type": "execute_result",
          "data": {
            "text/plain": [
              "<catboost.core.CatBoostClassifier at 0x7fa9bad61080>"
            ]
          },
          "metadata": {
            "tags": []
          },
          "execution_count": 33
        }
      ]
    },
    {
      "cell_type": "code",
      "metadata": {
        "id": "Bxlj4tjl4QAn",
        "colab_type": "code",
        "colab": {}
      },
      "source": [
        "'''\n",
        "importance = pd.DataFrame(data=model_cat.feature_importances_, index=X_train.columns, columns=['imp']).sort_values(by='imp',ascending=False)\n",
        "imp_feat = importance[importance['imp'] > 0.05].index\n",
        "model_cat = CatBoostClassifier(od_type='Iter', iterations=10000, task_type='GPU')\n",
        "model_cat.fit(X_train[imp_feat], y_train.astype(int),\n",
        "              eval_set=(X_test[imp_feat], y_test.astype(int)),\n",
        "              early_stopping_rounds=100,\n",
        "            )\n",
        "'''"
      ],
      "execution_count": null,
      "outputs": []
    },
    {
      "cell_type": "code",
      "metadata": {
        "id": "W82-PUoRoOTV",
        "colab_type": "code",
        "colab": {
          "base_uri": "https://localhost:8080/",
          "height": 392
        },
        "outputId": "d93a8dcd-94e2-4d97-de9b-d15df685644f"
      },
      "source": [
        "\n",
        "prediction = model_cat.predict_proba(test_df[X_train.columns])\n",
        "submission = pd.DataFrame(prediction, columns=[0,1,2,3,4,5])\n",
        "submission.to_csv('besteverfast.csv', index=False)\n",
        "submission"
      ],
      "execution_count": 45,
      "outputs": [
        {
          "output_type": "execute_result",
          "data": {
            "text/html": [
              "<div>\n",
              "<style scoped>\n",
              "    .dataframe tbody tr th:only-of-type {\n",
              "        vertical-align: middle;\n",
              "    }\n",
              "\n",
              "    .dataframe tbody tr th {\n",
              "        vertical-align: top;\n",
              "    }\n",
              "\n",
              "    .dataframe thead th {\n",
              "        text-align: right;\n",
              "    }\n",
              "</style>\n",
              "<table border=\"1\" class=\"dataframe\">\n",
              "  <thead>\n",
              "    <tr style=\"text-align: right;\">\n",
              "      <th></th>\n",
              "      <th>0</th>\n",
              "      <th>1</th>\n",
              "      <th>2</th>\n",
              "      <th>3</th>\n",
              "      <th>4</th>\n",
              "      <th>5</th>\n",
              "    </tr>\n",
              "  </thead>\n",
              "  <tbody>\n",
              "    <tr>\n",
              "      <th>0</th>\n",
              "      <td>0.171008</td>\n",
              "      <td>0.218362</td>\n",
              "      <td>0.181632</td>\n",
              "      <td>0.209074</td>\n",
              "      <td>0.071280</td>\n",
              "      <td>0.148645</td>\n",
              "    </tr>\n",
              "    <tr>\n",
              "      <th>1</th>\n",
              "      <td>0.106396</td>\n",
              "      <td>0.227640</td>\n",
              "      <td>0.208951</td>\n",
              "      <td>0.268742</td>\n",
              "      <td>0.045782</td>\n",
              "      <td>0.142488</td>\n",
              "    </tr>\n",
              "    <tr>\n",
              "      <th>2</th>\n",
              "      <td>0.154546</td>\n",
              "      <td>0.175131</td>\n",
              "      <td>0.187505</td>\n",
              "      <td>0.170408</td>\n",
              "      <td>0.066446</td>\n",
              "      <td>0.245964</td>\n",
              "    </tr>\n",
              "    <tr>\n",
              "      <th>3</th>\n",
              "      <td>0.205239</td>\n",
              "      <td>0.207912</td>\n",
              "      <td>0.235903</td>\n",
              "      <td>0.082429</td>\n",
              "      <td>0.187969</td>\n",
              "      <td>0.080549</td>\n",
              "    </tr>\n",
              "    <tr>\n",
              "      <th>4</th>\n",
              "      <td>0.136303</td>\n",
              "      <td>0.278379</td>\n",
              "      <td>0.208374</td>\n",
              "      <td>0.149577</td>\n",
              "      <td>0.120952</td>\n",
              "      <td>0.106416</td>\n",
              "    </tr>\n",
              "    <tr>\n",
              "      <th>...</th>\n",
              "      <td>...</td>\n",
              "      <td>...</td>\n",
              "      <td>...</td>\n",
              "      <td>...</td>\n",
              "      <td>...</td>\n",
              "      <td>...</td>\n",
              "    </tr>\n",
              "    <tr>\n",
              "      <th>1262</th>\n",
              "      <td>0.092328</td>\n",
              "      <td>0.132188</td>\n",
              "      <td>0.305973</td>\n",
              "      <td>0.282382</td>\n",
              "      <td>0.023690</td>\n",
              "      <td>0.163438</td>\n",
              "    </tr>\n",
              "    <tr>\n",
              "      <th>1263</th>\n",
              "      <td>0.137895</td>\n",
              "      <td>0.168007</td>\n",
              "      <td>0.143368</td>\n",
              "      <td>0.201016</td>\n",
              "      <td>0.099118</td>\n",
              "      <td>0.250596</td>\n",
              "    </tr>\n",
              "    <tr>\n",
              "      <th>1264</th>\n",
              "      <td>0.207074</td>\n",
              "      <td>0.218520</td>\n",
              "      <td>0.217951</td>\n",
              "      <td>0.119526</td>\n",
              "      <td>0.147768</td>\n",
              "      <td>0.089162</td>\n",
              "    </tr>\n",
              "    <tr>\n",
              "      <th>1265</th>\n",
              "      <td>0.175669</td>\n",
              "      <td>0.193117</td>\n",
              "      <td>0.189824</td>\n",
              "      <td>0.252734</td>\n",
              "      <td>0.064966</td>\n",
              "      <td>0.123690</td>\n",
              "    </tr>\n",
              "    <tr>\n",
              "      <th>1266</th>\n",
              "      <td>0.192853</td>\n",
              "      <td>0.186330</td>\n",
              "      <td>0.254911</td>\n",
              "      <td>0.144739</td>\n",
              "      <td>0.067499</td>\n",
              "      <td>0.153669</td>\n",
              "    </tr>\n",
              "  </tbody>\n",
              "</table>\n",
              "<p>1267 rows × 6 columns</p>\n",
              "</div>"
            ],
            "text/plain": [
              "             0         1         2         3         4         5\n",
              "0     0.171008  0.218362  0.181632  0.209074  0.071280  0.148645\n",
              "1     0.106396  0.227640  0.208951  0.268742  0.045782  0.142488\n",
              "2     0.154546  0.175131  0.187505  0.170408  0.066446  0.245964\n",
              "3     0.205239  0.207912  0.235903  0.082429  0.187969  0.080549\n",
              "4     0.136303  0.278379  0.208374  0.149577  0.120952  0.106416\n",
              "...        ...       ...       ...       ...       ...       ...\n",
              "1262  0.092328  0.132188  0.305973  0.282382  0.023690  0.163438\n",
              "1263  0.137895  0.168007  0.143368  0.201016  0.099118  0.250596\n",
              "1264  0.207074  0.218520  0.217951  0.119526  0.147768  0.089162\n",
              "1265  0.175669  0.193117  0.189824  0.252734  0.064966  0.123690\n",
              "1266  0.192853  0.186330  0.254911  0.144739  0.067499  0.153669\n",
              "\n",
              "[1267 rows x 6 columns]"
            ]
          },
          "metadata": {
            "tags": []
          },
          "execution_count": 45
        }
      ]
    },
    {
      "cell_type": "code",
      "metadata": {
        "id": "hMadEqmpoY1q",
        "colab_type": "code",
        "colab": {}
      },
      "source": [
        ""
      ],
      "execution_count": null,
      "outputs": []
    }
  ]
}