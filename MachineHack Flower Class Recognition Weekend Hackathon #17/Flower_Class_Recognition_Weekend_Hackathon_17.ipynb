{
  "nbformat": 4,
  "nbformat_minor": 0,
  "metadata": {
    "colab": {
      "name": "Flower Class Recognition: Weekend Hackathon #17.ipynb",
      "provenance": [],
      "collapsed_sections": []
    },
    "kernelspec": {
      "name": "python3",
      "display_name": "Python 3"
    }
  },
  "cells": [
    {
      "cell_type": "code",
      "metadata": {
        "id": "4oh3q3CM3pSR",
        "colab_type": "code",
        "colab": {
          "base_uri": "https://localhost:8080/",
          "height": 201
        },
        "outputId": "35cc73a9-4e35-4b3e-e6a8-17ef7225cf1f"
      },
      "source": [
        "!wget https://machinehack-be.s3.amazonaws.com/flower_class_recognition_weekend_hackathon_17/Participants_Data.zip"
      ],
      "execution_count": 1,
      "outputs": [
        {
          "output_type": "stream",
          "text": [
            "--2020-08-24 19:24:19--  https://machinehack-be.s3.amazonaws.com/flower_class_recognition_weekend_hackathon_17/Participants_Data.zip\n",
            "Resolving machinehack-be.s3.amazonaws.com (machinehack-be.s3.amazonaws.com)... 52.219.66.52\n",
            "Connecting to machinehack-be.s3.amazonaws.com (machinehack-be.s3.amazonaws.com)|52.219.66.52|:443... connected.\n",
            "HTTP request sent, awaiting response... 200 OK\n",
            "Length: 383941 (375K) [application/zip]\n",
            "Saving to: ‘Participants_Data.zip’\n",
            "\n",
            "Participants_Data.z 100%[===================>] 374.94K   382KB/s    in 1.0s    \n",
            "\n",
            "2020-08-24 19:24:21 (382 KB/s) - ‘Participants_Data.zip’ saved [383941/383941]\n",
            "\n"
          ],
          "name": "stdout"
        }
      ]
    },
    {
      "cell_type": "code",
      "metadata": {
        "id": "x-gzf-GtIkwS",
        "colab_type": "code",
        "colab": {
          "base_uri": "https://localhost:8080/",
          "height": 151
        },
        "outputId": "5e18e414-d796-455f-8e81-11fc3aa7d226"
      },
      "source": [
        "!unzip Participants_Data.zip"
      ],
      "execution_count": 2,
      "outputs": [
        {
          "output_type": "stream",
          "text": [
            "Archive:  Participants_Data.zip\n",
            "   creating: Participants_Data/\n",
            "  inflating: Participants_Data/Test.csv  \n",
            "  inflating: __MACOSX/Participants_Data/._Test.csv  \n",
            "  inflating: Participants_Data/Train.csv  \n",
            "  inflating: __MACOSX/Participants_Data/._Train.csv  \n",
            "  inflating: Participants_Data/sample_submission.csv  \n",
            "  inflating: __MACOSX/Participants_Data/._sample_submission.csv  \n"
          ],
          "name": "stdout"
        }
      ]
    },
    {
      "cell_type": "code",
      "metadata": {
        "id": "WzO-COMrN0Lg",
        "colab_type": "code",
        "colab": {}
      },
      "source": [
        "import pandas as pd\n",
        "import numpy as np\n",
        "import matplotlib.pyplot as plt\n",
        "%matplotlib inline"
      ],
      "execution_count": 68,
      "outputs": []
    },
    {
      "cell_type": "code",
      "metadata": {
        "id": "KDc0XWvgN-Wz",
        "colab_type": "code",
        "colab": {}
      },
      "source": [
        "train = pd.read_csv('Participants_Data/Train.csv')\n",
        "test = pd.read_csv('Participants_Data/Test.csv')\n",
        "sub = pd.read_csv('Participants_Data/sample_submission.csv')"
      ],
      "execution_count": 69,
      "outputs": []
    },
    {
      "cell_type": "code",
      "metadata": {
        "id": "-XzdyhBt19DN",
        "colab_type": "code",
        "colab": {
          "base_uri": "https://localhost:8080/",
          "height": 190
        },
        "outputId": "aa423dc9-7349-47ec-ec39-50a736ffe696"
      },
      "source": [
        "train.head(5)"
      ],
      "execution_count": 70,
      "outputs": [
        {
          "output_type": "execute_result",
          "data": {
            "text/html": [
              "<div>\n",
              "<style scoped>\n",
              "    .dataframe tbody tr th:only-of-type {\n",
              "        vertical-align: middle;\n",
              "    }\n",
              "\n",
              "    .dataframe tbody tr th {\n",
              "        vertical-align: top;\n",
              "    }\n",
              "\n",
              "    .dataframe thead th {\n",
              "        text-align: right;\n",
              "    }\n",
              "</style>\n",
              "<table border=\"1\" class=\"dataframe\">\n",
              "  <thead>\n",
              "    <tr style=\"text-align: right;\">\n",
              "      <th></th>\n",
              "      <th>Area_Code</th>\n",
              "      <th>Locality_Code</th>\n",
              "      <th>Region_Code</th>\n",
              "      <th>Height</th>\n",
              "      <th>Diameter</th>\n",
              "      <th>Class</th>\n",
              "      <th>Species</th>\n",
              "    </tr>\n",
              "  </thead>\n",
              "  <tbody>\n",
              "    <tr>\n",
              "      <th>0</th>\n",
              "      <td>4694</td>\n",
              "      <td>17</td>\n",
              "      <td>1609</td>\n",
              "      <td>3.0</td>\n",
              "      <td>5.0</td>\n",
              "      <td>7</td>\n",
              "      <td>48</td>\n",
              "    </tr>\n",
              "    <tr>\n",
              "      <th>1</th>\n",
              "      <td>781</td>\n",
              "      <td>7</td>\n",
              "      <td>1380</td>\n",
              "      <td>4.0</td>\n",
              "      <td>17.0</td>\n",
              "      <td>2</td>\n",
              "      <td>54</td>\n",
              "    </tr>\n",
              "    <tr>\n",
              "      <th>2</th>\n",
              "      <td>21014</td>\n",
              "      <td>6</td>\n",
              "      <td>1122</td>\n",
              "      <td>3.0</td>\n",
              "      <td>11.0</td>\n",
              "      <td>1</td>\n",
              "      <td>22</td>\n",
              "    </tr>\n",
              "    <tr>\n",
              "      <th>3</th>\n",
              "      <td>7326</td>\n",
              "      <td>6</td>\n",
              "      <td>556</td>\n",
              "      <td>3.0</td>\n",
              "      <td>34.0</td>\n",
              "      <td>7</td>\n",
              "      <td>25</td>\n",
              "    </tr>\n",
              "    <tr>\n",
              "      <th>4</th>\n",
              "      <td>13122</td>\n",
              "      <td>17</td>\n",
              "      <td>1752</td>\n",
              "      <td>5.0</td>\n",
              "      <td>16.0</td>\n",
              "      <td>2</td>\n",
              "      <td>128</td>\n",
              "    </tr>\n",
              "  </tbody>\n",
              "</table>\n",
              "</div>"
            ],
            "text/plain": [
              "   Area_Code  Locality_Code  Region_Code  Height  Diameter  Class  Species\n",
              "0       4694             17         1609     3.0       5.0      7       48\n",
              "1        781              7         1380     4.0      17.0      2       54\n",
              "2      21014              6         1122     3.0      11.0      1       22\n",
              "3       7326              6          556     3.0      34.0      7       25\n",
              "4      13122             17         1752     5.0      16.0      2      128"
            ]
          },
          "metadata": {
            "tags": []
          },
          "execution_count": 70
        }
      ]
    },
    {
      "cell_type": "code",
      "metadata": {
        "id": "ISMwqie81_dQ",
        "colab_type": "code",
        "colab": {
          "base_uri": "https://localhost:8080/",
          "height": 190
        },
        "outputId": "521325c6-4fea-4f08-a785-e5f209d4bfca"
      },
      "source": [
        "test.tail(5)"
      ],
      "execution_count": 71,
      "outputs": [
        {
          "output_type": "execute_result",
          "data": {
            "text/html": [
              "<div>\n",
              "<style scoped>\n",
              "    .dataframe tbody tr th:only-of-type {\n",
              "        vertical-align: middle;\n",
              "    }\n",
              "\n",
              "    .dataframe tbody tr th {\n",
              "        vertical-align: top;\n",
              "    }\n",
              "\n",
              "    .dataframe thead th {\n",
              "        text-align: right;\n",
              "    }\n",
              "</style>\n",
              "<table border=\"1\" class=\"dataframe\">\n",
              "  <thead>\n",
              "    <tr style=\"text-align: right;\">\n",
              "      <th></th>\n",
              "      <th>Area_Code</th>\n",
              "      <th>Locality_Code</th>\n",
              "      <th>Region_Code</th>\n",
              "      <th>Height</th>\n",
              "      <th>Diameter</th>\n",
              "      <th>Species</th>\n",
              "    </tr>\n",
              "  </thead>\n",
              "  <tbody>\n",
              "    <tr>\n",
              "      <th>29550</th>\n",
              "      <td>20833</td>\n",
              "      <td>1</td>\n",
              "      <td>1170</td>\n",
              "      <td>5.5</td>\n",
              "      <td>11.0</td>\n",
              "      <td>77</td>\n",
              "    </tr>\n",
              "    <tr>\n",
              "      <th>29551</th>\n",
              "      <td>28896</td>\n",
              "      <td>12</td>\n",
              "      <td>834</td>\n",
              "      <td>3.0</td>\n",
              "      <td>9.0</td>\n",
              "      <td>156</td>\n",
              "    </tr>\n",
              "    <tr>\n",
              "      <th>29552</th>\n",
              "      <td>2193</td>\n",
              "      <td>20</td>\n",
              "      <td>2169</td>\n",
              "      <td>7.5</td>\n",
              "      <td>32.0</td>\n",
              "      <td>49</td>\n",
              "    </tr>\n",
              "    <tr>\n",
              "      <th>29553</th>\n",
              "      <td>25195</td>\n",
              "      <td>10</td>\n",
              "      <td>1425</td>\n",
              "      <td>8.0</td>\n",
              "      <td>35.0</td>\n",
              "      <td>28</td>\n",
              "    </tr>\n",
              "    <tr>\n",
              "      <th>29554</th>\n",
              "      <td>8711</td>\n",
              "      <td>5</td>\n",
              "      <td>122</td>\n",
              "      <td>4.0</td>\n",
              "      <td>40.0</td>\n",
              "      <td>249</td>\n",
              "    </tr>\n",
              "  </tbody>\n",
              "</table>\n",
              "</div>"
            ],
            "text/plain": [
              "       Area_Code  Locality_Code  Region_Code  Height  Diameter  Species\n",
              "29550      20833              1         1170     5.5      11.0       77\n",
              "29551      28896             12          834     3.0       9.0      156\n",
              "29552       2193             20         2169     7.5      32.0       49\n",
              "29553      25195             10         1425     8.0      35.0       28\n",
              "29554       8711              5          122     4.0      40.0      249"
            ]
          },
          "metadata": {
            "tags": []
          },
          "execution_count": 71
        }
      ]
    },
    {
      "cell_type": "code",
      "metadata": {
        "id": "QoOC49ScJJmq",
        "colab_type": "code",
        "colab": {
          "base_uri": "https://localhost:8080/",
          "height": 369
        },
        "outputId": "7eb714ea-09fb-4b7d-eb3f-02445b7f4fe8"
      },
      "source": [
        "train.isnull().sum(),test.isnull().sum(),train.shape,test.shape,train.dtypes"
      ],
      "execution_count": 72,
      "outputs": [
        {
          "output_type": "execute_result",
          "data": {
            "text/plain": [
              "(Area_Code        0\n",
              " Locality_Code    0\n",
              " Region_Code      0\n",
              " Height           0\n",
              " Diameter         0\n",
              " Class            0\n",
              " Species          0\n",
              " dtype: int64, Area_Code        0\n",
              " Locality_Code    0\n",
              " Region_Code      0\n",
              " Height           0\n",
              " Diameter         0\n",
              " Species          0\n",
              " dtype: int64, (12666, 7), (29555, 6), Area_Code          int64\n",
              " Locality_Code      int64\n",
              " Region_Code        int64\n",
              " Height           float64\n",
              " Diameter         float64\n",
              " Class              int64\n",
              " Species            int64\n",
              " dtype: object)"
            ]
          },
          "metadata": {
            "tags": []
          },
          "execution_count": 72
        }
      ]
    },
    {
      "cell_type": "code",
      "metadata": {
        "id": "w8k4IY3clta8",
        "colab_type": "code",
        "colab": {
          "base_uri": "https://localhost:8080/",
          "height": 1000
        },
        "outputId": "16bb1b0d-b72a-4396-f14d-b69ba8a16797"
      },
      "source": [
        "for x in train.columns:\n",
        "    print(train[x].value_counts(normalize=True))"
      ],
      "execution_count": 73,
      "outputs": [
        {
          "output_type": "stream",
          "text": [
            "28502    0.028975\n",
            "28522    0.003711\n",
            "4638     0.003553\n",
            "28518    0.003079\n",
            "4557     0.002763\n",
            "           ...   \n",
            "6582     0.000079\n",
            "29107    0.000079\n",
            "14770    0.000079\n",
            "8625     0.000079\n",
            "2049     0.000079\n",
            "Name: Area_Code, Length: 10122, dtype: float64\n",
            "10    0.073188\n",
            "15    0.066635\n",
            "12    0.059529\n",
            "17    0.057082\n",
            "4     0.056135\n",
            "11    0.053924\n",
            "13    0.052898\n",
            "8     0.050134\n",
            "20    0.048871\n",
            "3     0.047924\n",
            "16    0.045002\n",
            "6     0.041213\n",
            "21    0.040818\n",
            "9     0.040660\n",
            "18    0.040344\n",
            "14    0.040344\n",
            "1     0.040344\n",
            "19    0.039713\n",
            "5     0.038765\n",
            "2     0.036002\n",
            "7     0.030475\n",
            "Name: Locality_Code, dtype: float64\n",
            "0       0.006316\n",
            "834     0.004816\n",
            "970     0.004737\n",
            "1432    0.004342\n",
            "2002    0.004184\n",
            "          ...   \n",
            "2180    0.000079\n",
            "658     0.000079\n",
            "539     0.000079\n",
            "1182    0.000079\n",
            "1533    0.000079\n",
            "Name: Region_Code, Length: 1870, dtype: float64\n",
            "3.0     0.262672\n",
            "7.5     0.154350\n",
            "4.0     0.072951\n",
            "5.0     0.059214\n",
            "0.0     0.046897\n",
            "          ...   \n",
            "4.7     0.000079\n",
            "20.5    0.000079\n",
            "6.3     0.000079\n",
            "1.6     0.000079\n",
            "11.9    0.000079\n",
            "Name: Height, Length: 92, dtype: float64\n",
            "8.0      0.059372\n",
            "35.0     0.042713\n",
            "25.0     0.037581\n",
            "20.0     0.036318\n",
            "0.0      0.033081\n",
            "           ...   \n",
            "138.0    0.000079\n",
            "150.0    0.000079\n",
            "121.0    0.000079\n",
            "180.0    0.000079\n",
            "2.0      0.000079\n",
            "Name: Diameter, Length: 132, dtype: float64\n",
            "3    0.294489\n",
            "6    0.270409\n",
            "2    0.195247\n",
            "1    0.087794\n",
            "7    0.086215\n",
            "0    0.056056\n",
            "5    0.005527\n",
            "4    0.004263\n",
            "Name: Class, dtype: float64\n",
            "184    0.094663\n",
            "249    0.069793\n",
            "156    0.054003\n",
            "257    0.041923\n",
            "175    0.036870\n",
            "         ...   \n",
            "145    0.000079\n",
            "137    0.000079\n",
            "236    0.000079\n",
            "253    0.000079\n",
            "38     0.000079\n",
            "Name: Species, Length: 222, dtype: float64\n"
          ],
          "name": "stdout"
        }
      ]
    },
    {
      "cell_type": "code",
      "metadata": {
        "id": "_VWxGC7nltYz",
        "colab_type": "code",
        "colab": {
          "base_uri": "https://localhost:8080/",
          "height": 382
        },
        "outputId": "d14f9ad5-5fd5-4f23-a8fd-7b4d8ada27d7"
      },
      "source": [
        "plt.plot(train,' .')"
      ],
      "execution_count": 74,
      "outputs": [
        {
          "output_type": "execute_result",
          "data": {
            "text/plain": [
              "[<matplotlib.lines.Line2D at 0x7f4937cc1198>,\n",
              " <matplotlib.lines.Line2D at 0x7f4937cc1278>,\n",
              " <matplotlib.lines.Line2D at 0x7f4937cc13c8>,\n",
              " <matplotlib.lines.Line2D at 0x7f4937cc1518>,\n",
              " <matplotlib.lines.Line2D at 0x7f4937cc1668>,\n",
              " <matplotlib.lines.Line2D at 0x7f4937cc17b8>,\n",
              " <matplotlib.lines.Line2D at 0x7f4937cc1908>]"
            ]
          },
          "metadata": {
            "tags": []
          },
          "execution_count": 74
        },
        {
          "output_type": "display_data",
          "data": {
            "image/png": "[encoded data removed]",
            "text/plain": [
              "<Figure size 432x288 with 1 Axes>"
            ]
          },
          "metadata": {
            "tags": [],
            "needs_background": "light"
          }
        }
      ]
    },
    {
      "cell_type": "code",
      "metadata": {
        "id": "g512VIgcmN2t",
        "colab_type": "code",
        "colab": {
          "base_uri": "https://localhost:8080/",
          "height": 282
        },
        "outputId": "c19cf24b-a5ec-4fba-b72b-14466c9f4755"
      },
      "source": [
        "plt.scatter(x=train.values[:,5],y=range(len(train)),c=train['Class'])"
      ],
      "execution_count": 75,
      "outputs": [
        {
          "output_type": "execute_result",
          "data": {
            "text/plain": [
              "<matplotlib.collections.PathCollection at 0x7f4937c72630>"
            ]
          },
          "metadata": {
            "tags": []
          },
          "execution_count": 75
        },
        {
          "output_type": "display_data",
          "data": {
            "image/png": "[encoded data removed]",
            "text/plain": [
              "<Figure size 432x288 with 1 Axes>"
            ]
          },
          "metadata": {
            "tags": [],
            "needs_background": "light"
          }
        }
      ]
    },
    {
      "cell_type": "code",
      "metadata": {
        "id": "WrctU3cnO6vn",
        "colab_type": "code",
        "colab": {}
      },
      "source": [
        "df=train.append(test,ignore_index=True)"
      ],
      "execution_count": 76,
      "outputs": []
    },
    {
      "cell_type": "code",
      "metadata": {
        "id": "IV4Q5GFRcY7W",
        "colab_type": "code",
        "colab": {
          "base_uri": "https://localhost:8080/",
          "height": 151
        },
        "outputId": "b479c084-0459-44c2-c048-b54e43d466bf"
      },
      "source": [
        "df.nunique()"
      ],
      "execution_count": 77,
      "outputs": [
        {
          "output_type": "execute_result",
          "data": {
            "text/plain": [
              "Area_Code        30900\n",
              "Locality_Code       22\n",
              "Region_Code       2185\n",
              "Height             110\n",
              "Diameter           151\n",
              "Class                8\n",
              "Species            263\n",
              "dtype: int64"
            ]
          },
          "metadata": {
            "tags": []
          },
          "execution_count": 77
        }
      ]
    },
    {
      "cell_type": "code",
      "metadata": {
        "id": "R11BSH5zcMa7",
        "colab_type": "code",
        "colab": {}
      },
      "source": [
        "#df['Area_region']=df['Area_Code']//df['Region_Code']\n",
        "#df['A_r_sum']=df['Area_Code']+df['Region_Code']\n",
        "#df['via']=df['Diameter']*df['Height']"
      ],
      "execution_count": 78,
      "outputs": []
    },
    {
      "cell_type": "code",
      "metadata": {
        "id": "7vrQjjft7fiD",
        "colab_type": "code",
        "colab": {}
      },
      "source": [
        "temp = df.groupby('Locality_Code').agg(\n",
        "    {\n",
        "        'Height' : ['max', 'mean', 'sum' , 'median'],\n",
        "        'Diameter' : ['max', 'mean', 'sum', 'median'],\n",
        "        'Species' : ['count']\n",
        "    }\n",
        ")\n",
        "\n",
        "temp.columns = ['_'.join(x) for x in temp.columns]\n",
        "df = pd.merge(df, temp, on=['Locality_Code'], how='left')\n",
        "\n",
        "\n",
        "temp = df.groupby('Species').agg(\n",
        "    {\n",
        "        'Height' : ['max', 'mean', 'sum', 'median'],\n",
        "        'Diameter' : ['max', 'mean', 'sum', 'median']\n",
        "    }\n",
        ")\n",
        "\n",
        "temp.columns = [' '.join(x) for x in temp.columns]\n",
        "\n",
        "df = pd.merge(df, temp, on=['Species'], how='left')\n",
        "\n",
        "temp = df.groupby('Region_Code').agg(\n",
        "    {\n",
        "        'Height' : ['max', 'mean', 'sum', 'median'],\n",
        "        'Diameter' : ['max', 'mean', 'sum', 'median']\n",
        "    }\n",
        ")\n",
        "\n",
        "temp.columns = ['-'.join(x) for x in temp.columns]\n",
        "\n",
        "df = pd.merge(df, temp, on=['Region_Code'], how='left')\n",
        "\n",
        "temp = df.groupby('Area_Code').agg(\n",
        "    {\n",
        "        'Height' : ['max', 'mean', 'sum', 'median'],\n",
        "        'Diameter' : ['max', 'mean', 'sum', 'median']\n",
        "    }\n",
        ")\n",
        "\n",
        "temp.columns = ['~'.join(x) for x in temp.columns]\n",
        "\n",
        "df = pd.merge(df, temp, on=['Area_Code'], how='left')"
      ],
      "execution_count": 79,
      "outputs": []
    },
    {
      "cell_type": "code",
      "metadata": {
        "id": "cNAybkOKOk_s",
        "colab_type": "code",
        "colab": {}
      },
      "source": [
        "df = pd.get_dummies(df, columns=['Locality_Code'])"
      ],
      "execution_count": 65,
      "outputs": []
    },
    {
      "cell_type": "code",
      "metadata": {
        "id": "2aO9LdJnOsV9",
        "colab_type": "code",
        "colab": {
          "base_uri": "https://localhost:8080/",
          "height": 141
        },
        "outputId": "2bf9e003-05e4-4d94-8238-d00ae97b32df"
      },
      "source": [
        "df.tail(2)"
      ],
      "execution_count": 80,
      "outputs": [
        {
          "output_type": "execute_result",
          "data": {
            "text/html": [
              "<div>\n",
              "<style scoped>\n",
              "    .dataframe tbody tr th:only-of-type {\n",
              "        vertical-align: middle;\n",
              "    }\n",
              "\n",
              "    .dataframe tbody tr th {\n",
              "        vertical-align: top;\n",
              "    }\n",
              "\n",
              "    .dataframe thead th {\n",
              "        text-align: right;\n",
              "    }\n",
              "</style>\n",
              "<table border=\"1\" class=\"dataframe\">\n",
              "  <thead>\n",
              "    <tr style=\"text-align: right;\">\n",
              "      <th></th>\n",
              "      <th>Area_Code</th>\n",
              "      <th>Locality_Code</th>\n",
              "      <th>Region_Code</th>\n",
              "      <th>Height</th>\n",
              "      <th>Diameter</th>\n",
              "      <th>Class</th>\n",
              "      <th>Species</th>\n",
              "      <th>Height_max</th>\n",
              "      <th>Height_mean</th>\n",
              "      <th>Height_sum</th>\n",
              "      <th>Height_median</th>\n",
              "      <th>Diameter_max</th>\n",
              "      <th>Diameter_mean</th>\n",
              "      <th>Diameter_sum</th>\n",
              "      <th>Diameter_median</th>\n",
              "      <th>Species_count</th>\n",
              "      <th>Height max</th>\n",
              "      <th>Height mean</th>\n",
              "      <th>Height sum</th>\n",
              "      <th>Height median</th>\n",
              "      <th>Diameter max</th>\n",
              "      <th>Diameter mean</th>\n",
              "      <th>Diameter sum</th>\n",
              "      <th>Diameter median</th>\n",
              "      <th>Height-max</th>\n",
              "      <th>Height-mean</th>\n",
              "      <th>Height-sum</th>\n",
              "      <th>Height-median</th>\n",
              "      <th>Diameter-max</th>\n",
              "      <th>Diameter-mean</th>\n",
              "      <th>Diameter-sum</th>\n",
              "      <th>Diameter-median</th>\n",
              "      <th>Height~max</th>\n",
              "      <th>Height~mean</th>\n",
              "      <th>Height~sum</th>\n",
              "      <th>Height~median</th>\n",
              "      <th>Diameter~max</th>\n",
              "      <th>Diameter~mean</th>\n",
              "      <th>Diameter~sum</th>\n",
              "      <th>Diameter~median</th>\n",
              "    </tr>\n",
              "  </thead>\n",
              "  <tbody>\n",
              "    <tr>\n",
              "      <th>42219</th>\n",
              "      <td>25195</td>\n",
              "      <td>10</td>\n",
              "      <td>1425</td>\n",
              "      <td>8.0</td>\n",
              "      <td>35.0</td>\n",
              "      <td>NaN</td>\n",
              "      <td>28</td>\n",
              "      <td>35.0</td>\n",
              "      <td>5.567813</td>\n",
              "      <td>17160.0</td>\n",
              "      <td>5.0</td>\n",
              "      <td>115.0</td>\n",
              "      <td>25.970149</td>\n",
              "      <td>80040.0</td>\n",
              "      <td>21.0</td>\n",
              "      <td>3082</td>\n",
              "      <td>18.0</td>\n",
              "      <td>9.216000</td>\n",
              "      <td>2304.0</td>\n",
              "      <td>9.5</td>\n",
              "      <td>93.0</td>\n",
              "      <td>47.920000</td>\n",
              "      <td>11980.0</td>\n",
              "      <td>51.0</td>\n",
              "      <td>16.5</td>\n",
              "      <td>6.508475</td>\n",
              "      <td>384.0</td>\n",
              "      <td>6.5</td>\n",
              "      <td>73.0</td>\n",
              "      <td>31.542373</td>\n",
              "      <td>1861.0</td>\n",
              "      <td>25.0</td>\n",
              "      <td>8.0</td>\n",
              "      <td>8.0</td>\n",
              "      <td>8.0</td>\n",
              "      <td>8.0</td>\n",
              "      <td>35.0</td>\n",
              "      <td>35.000000</td>\n",
              "      <td>35.0</td>\n",
              "      <td>35.0</td>\n",
              "    </tr>\n",
              "    <tr>\n",
              "      <th>42220</th>\n",
              "      <td>8711</td>\n",
              "      <td>5</td>\n",
              "      <td>122</td>\n",
              "      <td>4.0</td>\n",
              "      <td>40.0</td>\n",
              "      <td>NaN</td>\n",
              "      <td>249</td>\n",
              "      <td>23.0</td>\n",
              "      <td>6.440666</td>\n",
              "      <td>10247.1</td>\n",
              "      <td>6.0</td>\n",
              "      <td>170.0</td>\n",
              "      <td>34.353237</td>\n",
              "      <td>54656.0</td>\n",
              "      <td>32.0</td>\n",
              "      <td>1591</td>\n",
              "      <td>17.5</td>\n",
              "      <td>5.794464</td>\n",
              "      <td>16328.8</td>\n",
              "      <td>5.5</td>\n",
              "      <td>111.0</td>\n",
              "      <td>38.956707</td>\n",
              "      <td>109780.0</td>\n",
              "      <td>37.0</td>\n",
              "      <td>8.0</td>\n",
              "      <td>4.692308</td>\n",
              "      <td>61.0</td>\n",
              "      <td>4.0</td>\n",
              "      <td>45.0</td>\n",
              "      <td>35.692308</td>\n",
              "      <td>464.0</td>\n",
              "      <td>38.0</td>\n",
              "      <td>7.5</td>\n",
              "      <td>4.5</td>\n",
              "      <td>13.5</td>\n",
              "      <td>4.0</td>\n",
              "      <td>40.0</td>\n",
              "      <td>25.333333</td>\n",
              "      <td>76.0</td>\n",
              "      <td>29.0</td>\n",
              "    </tr>\n",
              "  </tbody>\n",
              "</table>\n",
              "</div>"
            ],
            "text/plain": [
              "       Area_Code  Locality_Code  ...  Diameter~sum  Diameter~median\n",
              "42219      25195             10  ...          35.0             35.0\n",
              "42220       8711              5  ...          76.0             29.0\n",
              "\n",
              "[2 rows x 40 columns]"
            ]
          },
          "metadata": {
            "tags": []
          },
          "execution_count": 80
        }
      ]
    },
    {
      "cell_type": "code",
      "metadata": {
        "id": "svf8_OPlPXhT",
        "colab_type": "code",
        "colab": {}
      },
      "source": [
        "train = df[df['Class'].isnull()==False]\n",
        "test = df[df['Class'].isnull()==True]\n",
        "del test['Class']"
      ],
      "execution_count": 81,
      "outputs": []
    },
    {
      "cell_type": "code",
      "metadata": {
        "id": "jw23O6u1YKIv",
        "colab_type": "code",
        "colab": {}
      },
      "source": [
        "train_df=train\n",
        "test_df=test"
      ],
      "execution_count": 18,
      "outputs": []
    },
    {
      "cell_type": "code",
      "metadata": {
        "id": "tEBtdP68YNzr",
        "colab_type": "code",
        "colab": {}
      },
      "source": [
        "X = train_df.drop(labels=['Class'], axis=1)\n",
        "y = train_df['Class'].values"
      ],
      "execution_count": 19,
      "outputs": []
    },
    {
      "cell_type": "code",
      "metadata": {
        "id": "PXCdENQvYDc9",
        "colab_type": "code",
        "colab": {}
      },
      "source": [
        "from sklearn.model_selection import train_test_split\n",
        "X_train, X_cv, y_train, y_cv = train_test_split(X, y, test_size=0.10, random_state=42, stratify=y)"
      ],
      "execution_count": 20,
      "outputs": []
    },
    {
      "cell_type": "code",
      "metadata": {
        "id": "rzaKa3bnZSmm",
        "colab_type": "code",
        "colab": {
          "base_uri": "https://localhost:8080/",
          "height": 33
        },
        "outputId": "c3a5c4cd-e3be-43d1-d92e-eb81d268539c"
      },
      "source": [
        "X_train.shape, y_train.shape, X_cv.shape, y_cv.shape"
      ],
      "execution_count": 21,
      "outputs": [
        {
          "output_type": "execute_result",
          "data": {
            "text/plain": [
              "((11399, 52), (11399,), (1267, 52), (1267,))"
            ]
          },
          "metadata": {
            "tags": []
          },
          "execution_count": 21
        }
      ]
    },
    {
      "cell_type": "code",
      "metadata": {
        "id": "KWM1s5V2ZWQJ",
        "colab_type": "code",
        "colab": {}
      },
      "source": [
        "from sklearn.metrics import log_loss"
      ],
      "execution_count": 22,
      "outputs": []
    },
    {
      "cell_type": "code",
      "metadata": {
        "id": "crMDQv3UZfin",
        "colab_type": "code",
        "colab": {
          "base_uri": "https://localhost:8080/",
          "height": 184
        },
        "outputId": "2f178817-8741-49d7-800d-0afafe190261"
      },
      "source": [
        "\n",
        "import lightgbm as lgb\n",
        "train_data = lgb.Dataset(X_train, label=y_train)\n",
        "test_data = lgb.Dataset(X_cv, label=y_cv)\n",
        "\n",
        "param = {'objective': 'multiclass',\n",
        "         'num_class': 8,\n",
        "         'boosting': 'gbdt',  \n",
        "         'metric': 'multi_logloss',\n",
        "         'learning_rate': 0.02, \n",
        "         'num_iterations': 1000,\n",
        "         'num_leaves': 69,\n",
        "         'max_depth': -1,\n",
        "         'min_data_in_leaf': 15,\n",
        "        # 'bagging_fraction':0.9,\n",
        "        # 'bagging_freq': 2,\n",
        "         'feature_fraction': 0.9,\n",
        "         'lambda_l2': 0.9,\n",
        "         'min_data_per_group': 75,\n",
        "         'max_bin': 255,\n",
        "         'is_unbalance':True\n",
        "         }\n",
        "\n",
        "clf = lgb.train(params=param, \n",
        "                early_stopping_rounds=200,\n",
        "                verbose_eval=100,\n",
        "                train_set=train_data,\n",
        "                valid_sets=[test_data])\n",
        "\n",
        "y_pred = clf.predict(X_cv)"
      ],
      "execution_count": 23,
      "outputs": [
        {
          "output_type": "stream",
          "text": [
            "/usr/local/lib/python3.6/dist-packages/lightgbm/engine.py:118: UserWarning: Found `num_iterations` in params. Will use it instead of argument\n",
            "  warnings.warn(\"Found `{}` in params. Will use it instead of argument\".format(alias))\n"
          ],
          "name": "stderr"
        },
        {
          "output_type": "stream",
          "text": [
            "Training until validation scores don't improve for 200 rounds.\n",
            "[100]\tvalid_0's multi_logloss: 0.878192\n",
            "[200]\tvalid_0's multi_logloss: 0.763119\n",
            "[300]\tvalid_0's multi_logloss: 0.738284\n",
            "[400]\tvalid_0's multi_logloss: 0.732552\n",
            "[500]\tvalid_0's multi_logloss: 0.734535\n",
            "Early stopping, best iteration is:\n",
            "[366]\tvalid_0's multi_logloss: 0.732181\n"
          ],
          "name": "stdout"
        }
      ]
    },
    {
      "cell_type": "code",
      "metadata": {
        "id": "Co0ydv6fZjcQ",
        "colab_type": "code",
        "colab": {
          "base_uri": "https://localhost:8080/",
          "height": 33
        },
        "outputId": "ceb3b013-bfc6-4350-da48-204939a37170"
      },
      "source": [
        "log_loss(y_cv, y_pred)"
      ],
      "execution_count": 24,
      "outputs": [
        {
          "output_type": "execute_result",
          "data": {
            "text/plain": [
              "0.7321807834106768"
            ]
          },
          "metadata": {
            "tags": []
          },
          "execution_count": 24
        }
      ]
    },
    {
      "cell_type": "code",
      "metadata": {
        "id": "sAkQJcfkZujo",
        "colab_type": "code",
        "colab": {
          "base_uri": "https://localhost:8080/",
          "height": 1000
        },
        "outputId": "65b518f1-6b6e-4c20-b39c-fbd0df2c8b81"
      },
      "source": [
        "import seaborn as sns\n",
        "feature_imp = pd.DataFrame(sorted(zip(clf.feature_importance(), X.columns), reverse=True)[:], columns=['Value','Feature'])\n",
        "plt.figure(figsize=(20,20))\n",
        "sns.barplot(x=\"Value\", y=\"Feature\", data=feature_imp.sort_values(by=\"Value\", ascending=False))\n",
        "plt.title('LightGBM Features')\n",
        "plt.tight_layout()\n",
        "plt.show()"
      ],
      "execution_count": 25,
      "outputs": [
        {
          "output_type": "stream",
          "text": [
            "/usr/local/lib/python3.6/dist-packages/statsmodels/tools/_testing.py:19: FutureWarning: pandas.util.testing is deprecated. Use the functions in the public API at pandas.testing instead.\n",
            "  import pandas.util.testing as tm\n"
          ],
          "name": "stderr"
        },
        {
          "output_type": "display_data",
          "data": {
            "image/png": "[encoded data removed]",
            "text/plain": [
              "<Figure size 1440x1440 with 1 Axes>"
            ]
          },
          "metadata": {
            "tags": [],
            "needs_background": "light"
          }
        }
      ]
    },
    {
      "cell_type": "code",
      "metadata": {
        "id": "SdDK3wn0Z8Ig",
        "colab_type": "code",
        "colab": {}
      },
      "source": [
        "Xtest = test_df"
      ],
      "execution_count": 26,
      "outputs": []
    },
    {
      "cell_type": "code",
      "metadata": {
        "id": "VEF6nOsjZ_-L",
        "colab_type": "code",
        "colab": {
          "base_uri": "https://localhost:8080/",
          "height": 789
        },
        "outputId": "53f50fe1-bbf5-4295-bdae-e0328d3f6dec"
      },
      "source": [
        "\n",
        "from sklearn.model_selection import KFold, StratifiedKFold\n",
        "\n",
        "errlgb = []\n",
        "y_pred_totlgb = []\n",
        "\n",
        "fold = StratifiedKFold(n_splits=4, shuffle=True, random_state=2**31)\n",
        "\n",
        "for train_index, test_index in fold.split(X, y):\n",
        "    \n",
        "    X_train, X_test = X.loc[train_index], X.loc[test_index]\n",
        "    y_train, y_test = y[train_index], y[test_index]\n",
        "    \n",
        "    train_data = lgb.Dataset(X_train, label=y_train)\n",
        "    test_data = lgb.Dataset(X_test, label=y_test)\n",
        "    \n",
        "    clf = lgb.train(params=param, \n",
        "                     early_stopping_rounds=200,\n",
        "                     verbose_eval=100,\n",
        "                     train_set=train_data,\n",
        "                     valid_sets=[test_data])\n",
        "\n",
        "    y_pred = clf.predict(X_test)\n",
        "    print(\"Log Loss: \", (log_loss(y_test, y_pred)))\n",
        "    \n",
        "    errlgb.append(log_loss(y_test, y_pred))\n",
        "    p = clf.predict(Xtest)\n",
        "    y_pred_totlgb.append(p)"
      ],
      "execution_count": 28,
      "outputs": [
        {
          "output_type": "stream",
          "text": [
            "/usr/local/lib/python3.6/dist-packages/sklearn/model_selection/_split.py:296: FutureWarning: Setting a random_state has no effect since shuffle is False. This will raise an error in 0.24. You should leave random_state to its default (None), or set shuffle=True.\n",
            "  FutureWarning\n",
            "/usr/local/lib/python3.6/dist-packages/lightgbm/engine.py:118: UserWarning: Found `num_iterations` in params. Will use it instead of argument\n",
            "  warnings.warn(\"Found `{}` in params. Will use it instead of argument\".format(alias))\n"
          ],
          "name": "stderr"
        },
        {
          "output_type": "stream",
          "text": [
            "Training until validation scores don't improve for 200 rounds.\n",
            "[100]\tvalid_0's multi_logloss: 0.876127\n",
            "[200]\tvalid_0's multi_logloss: 0.763774\n",
            "[300]\tvalid_0's multi_logloss: 0.735309\n",
            "[400]\tvalid_0's multi_logloss: 0.730588\n",
            "[500]\tvalid_0's multi_logloss: 0.735577\n",
            "Early stopping, best iteration is:\n",
            "[377]\tvalid_0's multi_logloss: 0.730334\n",
            "Log Loss:  0.730334020740011\n"
          ],
          "name": "stdout"
        },
        {
          "output_type": "stream",
          "text": [
            "/usr/local/lib/python3.6/dist-packages/lightgbm/engine.py:118: UserWarning: Found `num_iterations` in params. Will use it instead of argument\n",
            "  warnings.warn(\"Found `{}` in params. Will use it instead of argument\".format(alias))\n"
          ],
          "name": "stderr"
        },
        {
          "output_type": "stream",
          "text": [
            "Training until validation scores don't improve for 200 rounds.\n",
            "[100]\tvalid_0's multi_logloss: 0.89088\n",
            "[200]\tvalid_0's multi_logloss: 0.779721\n",
            "[300]\tvalid_0's multi_logloss: 0.750496\n",
            "[400]\tvalid_0's multi_logloss: 0.744605\n",
            "[500]\tvalid_0's multi_logloss: 0.749005\n",
            "Early stopping, best iteration is:\n",
            "[388]\tvalid_0's multi_logloss: 0.744323\n",
            "Log Loss:  0.7443231038011292\n"
          ],
          "name": "stdout"
        },
        {
          "output_type": "stream",
          "text": [
            "/usr/local/lib/python3.6/dist-packages/lightgbm/engine.py:118: UserWarning: Found `num_iterations` in params. Will use it instead of argument\n",
            "  warnings.warn(\"Found `{}` in params. Will use it instead of argument\".format(alias))\n"
          ],
          "name": "stderr"
        },
        {
          "output_type": "stream",
          "text": [
            "Training until validation scores don't improve for 200 rounds.\n",
            "[100]\tvalid_0's multi_logloss: 0.899612\n",
            "[200]\tvalid_0's multi_logloss: 0.797347\n",
            "[300]\tvalid_0's multi_logloss: 0.773703\n",
            "[400]\tvalid_0's multi_logloss: 0.772854\n",
            "[500]\tvalid_0's multi_logloss: 0.782245\n",
            "Early stopping, best iteration is:\n",
            "[353]\tvalid_0's multi_logloss: 0.771045\n",
            "Log Loss:  0.7710447509648916\n"
          ],
          "name": "stdout"
        },
        {
          "output_type": "stream",
          "text": [
            "/usr/local/lib/python3.6/dist-packages/lightgbm/engine.py:118: UserWarning: Found `num_iterations` in params. Will use it instead of argument\n",
            "  warnings.warn(\"Found `{}` in params. Will use it instead of argument\".format(alias))\n"
          ],
          "name": "stderr"
        },
        {
          "output_type": "stream",
          "text": [
            "Training until validation scores don't improve for 200 rounds.\n",
            "[100]\tvalid_0's multi_logloss: 0.90989\n",
            "[200]\tvalid_0's multi_logloss: 0.808304\n",
            "[300]\tvalid_0's multi_logloss: 0.785923\n",
            "[400]\tvalid_0's multi_logloss: 0.788286\n",
            "[500]\tvalid_0's multi_logloss: 0.796997\n",
            "Early stopping, best iteration is:\n",
            "[318]\tvalid_0's multi_logloss: 0.785686\n",
            "Log Loss:  0.7856856642792924\n"
          ],
          "name": "stdout"
        }
      ]
    },
    {
      "cell_type": "code",
      "metadata": {
        "id": "k92XdbGRaCsw",
        "colab_type": "code",
        "colab": {
          "base_uri": "https://localhost:8080/",
          "height": 33
        },
        "outputId": "5f8e2bff-7ee8-447b-e18e-dcd7f20f78a7"
      },
      "source": [
        "np.mean(errlgb,0)"
      ],
      "execution_count": 29,
      "outputs": [
        {
          "output_type": "execute_result",
          "data": {
            "text/plain": [
              "0.757846884946331"
            ]
          },
          "metadata": {
            "tags": []
          },
          "execution_count": 29
        }
      ]
    },
    {
      "cell_type": "code",
      "metadata": {
        "id": "7CJMbgevbQtl",
        "colab_type": "code",
        "colab": {}
      },
      "source": [
        "y_pred = np.mean(y_pred_totlgb,0)"
      ],
      "execution_count": 30,
      "outputs": []
    },
    {
      "cell_type": "code",
      "metadata": {
        "id": "LWFDdtpybUqj",
        "colab_type": "code",
        "colab": {
          "base_uri": "https://localhost:8080/",
          "height": 190
        },
        "outputId": "b92478cc-ae29-4bb0-b915-cfe5a5c8db54"
      },
      "source": [
        "submission = pd.DataFrame(data=y_pred, columns=sub.columns)\n",
        "submission.head()"
      ],
      "execution_count": 31,
      "outputs": [
        {
          "output_type": "execute_result",
          "data": {
            "text/html": [
              "<div>\n",
              "<style scoped>\n",
              "    .dataframe tbody tr th:only-of-type {\n",
              "        vertical-align: middle;\n",
              "    }\n",
              "\n",
              "    .dataframe tbody tr th {\n",
              "        vertical-align: top;\n",
              "    }\n",
              "\n",
              "    .dataframe thead th {\n",
              "        text-align: right;\n",
              "    }\n",
              "</style>\n",
              "<table border=\"1\" class=\"dataframe\">\n",
              "  <thead>\n",
              "    <tr style=\"text-align: right;\">\n",
              "      <th></th>\n",
              "      <th>Class_0</th>\n",
              "      <th>Class_1</th>\n",
              "      <th>Class_2</th>\n",
              "      <th>Class_3</th>\n",
              "      <th>Class_4</th>\n",
              "      <th>Class_5</th>\n",
              "      <th>Class_6</th>\n",
              "      <th>Class_7</th>\n",
              "    </tr>\n",
              "  </thead>\n",
              "  <tbody>\n",
              "    <tr>\n",
              "      <th>0</th>\n",
              "      <td>0.003039</td>\n",
              "      <td>0.010618</td>\n",
              "      <td>0.164613</td>\n",
              "      <td>0.030534</td>\n",
              "      <td>0.000208</td>\n",
              "      <td>0.000155</td>\n",
              "      <td>0.785163</td>\n",
              "      <td>0.005670</td>\n",
              "    </tr>\n",
              "    <tr>\n",
              "      <th>1</th>\n",
              "      <td>0.000905</td>\n",
              "      <td>0.015384</td>\n",
              "      <td>0.008852</td>\n",
              "      <td>0.013459</td>\n",
              "      <td>0.000102</td>\n",
              "      <td>0.000105</td>\n",
              "      <td>0.012520</td>\n",
              "      <td>0.948674</td>\n",
              "    </tr>\n",
              "    <tr>\n",
              "      <th>2</th>\n",
              "      <td>0.001212</td>\n",
              "      <td>0.001469</td>\n",
              "      <td>0.008164</td>\n",
              "      <td>0.914612</td>\n",
              "      <td>0.000080</td>\n",
              "      <td>0.000515</td>\n",
              "      <td>0.072689</td>\n",
              "      <td>0.001259</td>\n",
              "    </tr>\n",
              "    <tr>\n",
              "      <th>3</th>\n",
              "      <td>0.001439</td>\n",
              "      <td>0.008561</td>\n",
              "      <td>0.004063</td>\n",
              "      <td>0.001466</td>\n",
              "      <td>0.000057</td>\n",
              "      <td>0.000028</td>\n",
              "      <td>0.001691</td>\n",
              "      <td>0.982694</td>\n",
              "    </tr>\n",
              "    <tr>\n",
              "      <th>4</th>\n",
              "      <td>0.001395</td>\n",
              "      <td>0.018181</td>\n",
              "      <td>0.417362</td>\n",
              "      <td>0.014877</td>\n",
              "      <td>0.000139</td>\n",
              "      <td>0.000181</td>\n",
              "      <td>0.545408</td>\n",
              "      <td>0.002458</td>\n",
              "    </tr>\n",
              "  </tbody>\n",
              "</table>\n",
              "</div>"
            ],
            "text/plain": [
              "    Class_0   Class_1   Class_2  ...   Class_5   Class_6   Class_7\n",
              "0  0.003039  0.010618  0.164613  ...  0.000155  0.785163  0.005670\n",
              "1  0.000905  0.015384  0.008852  ...  0.000105  0.012520  0.948674\n",
              "2  0.001212  0.001469  0.008164  ...  0.000515  0.072689  0.001259\n",
              "3  0.001439  0.008561  0.004063  ...  0.000028  0.001691  0.982694\n",
              "4  0.001395  0.018181  0.417362  ...  0.000181  0.545408  0.002458\n",
              "\n",
              "[5 rows x 8 columns]"
            ]
          },
          "metadata": {
            "tags": []
          },
          "execution_count": 31
        }
      ]
    },
    {
      "cell_type": "code",
      "metadata": {
        "id": "GGe-nU6b78Ka",
        "colab_type": "code",
        "colab": {}
      },
      "source": [
        "#submission[submission<0.0005]=0\n",
        "#submission[submission>0.95]=1\n",
        "#submission.head()"
      ],
      "execution_count": null,
      "outputs": []
    },
    {
      "cell_type": "code",
      "metadata": {
        "id": "6zl4pcdRbX4J",
        "colab_type": "code",
        "colab": {}
      },
      "source": [
        "submission.to_csv('Mh_10.csv', index=False)"
      ],
      "execution_count": null,
      "outputs": []
    },
    {
      "cell_type": "code",
      "metadata": {
        "id": "Sc7woku9sYNx",
        "colab_type": "code",
        "colab": {}
      },
      "source": [
        ""
      ],
      "execution_count": null,
      "outputs": []
    }
  ]
}