{
  "nbformat": 4,
  "nbformat_minor": 0,
  "metadata": {
    "colab": {
      "name": "HackerEarth Machine Learning Challenge: Carnival Wars!.ipynb",
      "provenance": [],
      "collapsed_sections": []
    },
    "kernelspec": {
      "display_name": "Python 3",
      "name": "python3"
    }
  },
  "cells": [
    {
      "cell_type": "code",
      "metadata": {
        "colab": {
          "base_uri": "https://localhost:8080/"
        },
        "id": "l9lH4RtgK1rx",
        "outputId": "89811764-98fa-40e8-a5b5-b282a36dc393"
      },
      "source": [
        "!wget https://he-s3.s3.amazonaws.com/media/hackathon/hackerearth-machine-learning-challenge-predict-selling-price/predict-the-price-5-fe7f8735/7b9447c625cf11eb.zip"
      ],
      "execution_count": null,
      "outputs": [
        {
          "output_type": "stream",
          "text": [
            "--2020-12-04 13:44:52--  https://he-s3.s3.amazonaws.com/media/hackathon/hackerearth-machine-learning-challenge-predict-selling-price/predict-the-price-5-fe7f8735/7b9447c625cf11eb.zip\n",
            "Resolving he-s3.s3.amazonaws.com (he-s3.s3.amazonaws.com)... 52.219.124.124\n",
            "Connecting to he-s3.s3.amazonaws.com (he-s3.s3.amazonaws.com)|52.219.124.124|:443... connected.\n",
            "HTTP request sent, awaiting response... 200 OK\n",
            "Length: 428817 (419K) [application/zip]\n",
            "Saving to: ‘7b9447c625cf11eb.zip’\n",
            "\n",
            "7b9447c625cf11eb.zi 100%[===================>] 418.77K   528KB/s    in 0.8s    \n",
            "\n",
            "2020-12-04 13:44:54 (528 KB/s) - ‘7b9447c625cf11eb.zip’ saved [428817/428817]\n",
            "\n"
          ],
          "name": "stdout"
        }
      ]
    },
    {
      "cell_type": "code",
      "metadata": {
        "colab": {
          "base_uri": "https://localhost:8080/"
        },
        "id": "Dw2yiWIiK8kT",
        "outputId": "8ba1c2b9-c44f-485f-cb8d-463c23be0cf4"
      },
      "source": [
        "!unzip 7b9447c625cf11eb.zip"
      ],
      "execution_count": null,
      "outputs": [
        {
          "output_type": "stream",
          "text": [
            "Archive:  7b9447c625cf11eb.zip\n",
            "   creating: dataset/\n",
            "  inflating: dataset/train.csv       \n",
            "  inflating: dataset/sample_submission.csv  \n",
            "  inflating: dataset/test.csv        \n"
          ],
          "name": "stdout"
        }
      ]
    },
    {
      "cell_type": "code",
      "metadata": {
        "id": "q9ifizKcLDa1"
      },
      "source": [
        "import pandas as pd\n",
        "import numpy as np\n",
        "import matplotlib.pyplot as plt\n",
        "%matplotlib inline\n",
        "import warnings\n",
        "warnings.simplefilter(action='ignore', category=FutureWarning)"
      ],
      "execution_count": null,
      "outputs": []
    },
    {
      "cell_type": "code",
      "metadata": {
        "id": "n79PrHkFti56"
      },
      "source": [
        "train = pd.read_csv('dataset/train.csv')\n",
        "test = pd.read_csv('dataset/test.csv')\n",
        "re=test['Product_id']"
      ],
      "execution_count": null,
      "outputs": []
    },
    {
      "cell_type": "code",
      "metadata": {
        "colab": {
          "base_uri": "https://localhost:8080/",
          "height": 190
        },
        "id": "W8kiWT-hN1mD",
        "outputId": "b15b4070-c067-483e-c8a0-65f29d8a02b1"
      },
      "source": [
        "train.head(5)"
      ],
      "execution_count": null,
      "outputs": [
        {
          "output_type": "execute_result",
          "data": {
            "text/html": [
              "<div>\n",
              "<style scoped>\n",
              "    .dataframe tbody tr th:only-of-type {\n",
              "        vertical-align: middle;\n",
              "    }\n",
              "\n",
              "    .dataframe tbody tr th {\n",
              "        vertical-align: top;\n",
              "    }\n",
              "\n",
              "    .dataframe thead th {\n",
              "        text-align: right;\n",
              "    }\n",
              "</style>\n",
              "<table border=\"1\" class=\"dataframe\">\n",
              "  <thead>\n",
              "    <tr style=\"text-align: right;\">\n",
              "      <th></th>\n",
              "      <th>Product_id</th>\n",
              "      <th>Stall_no</th>\n",
              "      <th>instock_date</th>\n",
              "      <th>Market_Category</th>\n",
              "      <th>Customer_name</th>\n",
              "      <th>Loyalty_customer</th>\n",
              "      <th>Product_Category</th>\n",
              "      <th>Grade</th>\n",
              "      <th>Demand</th>\n",
              "      <th>Discount_avail</th>\n",
              "      <th>charges_1</th>\n",
              "      <th>charges_2 (%)</th>\n",
              "      <th>Minimum_price</th>\n",
              "      <th>Maximum_price</th>\n",
              "      <th>Selling_Price</th>\n",
              "    </tr>\n",
              "  </thead>\n",
              "  <tbody>\n",
              "    <tr>\n",
              "      <th>0</th>\n",
              "      <td>BRAE2NF6JA5GUEXG</td>\n",
              "      <td>37.0</td>\n",
              "      <td>2015-08-22 18:36:12.000</td>\n",
              "      <td>2</td>\n",
              "      <td>Lillyann</td>\n",
              "      <td>Yes</td>\n",
              "      <td>Fashion</td>\n",
              "      <td>1</td>\n",
              "      <td>68</td>\n",
              "      <td>0.0</td>\n",
              "      <td>376.0</td>\n",
              "      <td>11.0</td>\n",
              "      <td>2983.0</td>\n",
              "      <td>4713.0</td>\n",
              "      <td>4185.947700</td>\n",
              "    </tr>\n",
              "    <tr>\n",
              "      <th>1</th>\n",
              "      <td>TUNE8SFB6RJN2HSD</td>\n",
              "      <td>38.0</td>\n",
              "      <td>2016-03-27 21:19:13.000</td>\n",
              "      <td>24</td>\n",
              "      <td>Klynn</td>\n",
              "      <td>Yes</td>\n",
              "      <td>Fashion</td>\n",
              "      <td>0</td>\n",
              "      <td>51</td>\n",
              "      <td>0.0</td>\n",
              "      <td>397.0</td>\n",
              "      <td>12.0</td>\n",
              "      <td>7495.0</td>\n",
              "      <td>10352.0</td>\n",
              "      <td>9271.490256</td>\n",
              "    </tr>\n",
              "    <tr>\n",
              "      <th>2</th>\n",
              "      <td>BRAEAR7WZPQGPBZU</td>\n",
              "      <td>9.0</td>\n",
              "      <td>2015-08-18 19:25:22.000</td>\n",
              "      <td>447</td>\n",
              "      <td>Ridge</td>\n",
              "      <td>Yes</td>\n",
              "      <td>Child_care</td>\n",
              "      <td>0</td>\n",
              "      <td>10</td>\n",
              "      <td>0.0</td>\n",
              "      <td>250.0</td>\n",
              "      <td>9.0</td>\n",
              "      <td>5752.0</td>\n",
              "      <td>7309.0</td>\n",
              "      <td>6785.701362</td>\n",
              "    </tr>\n",
              "    <tr>\n",
              "      <th>3</th>\n",
              "      <td>JWSEBUKYQPMBZ3RK</td>\n",
              "      <td>7.0</td>\n",
              "      <td>2016-03-29 22:58:53.000</td>\n",
              "      <td>63</td>\n",
              "      <td>Dustyn</td>\n",
              "      <td>Yes</td>\n",
              "      <td>Repair</td>\n",
              "      <td>1</td>\n",
              "      <td>35</td>\n",
              "      <td>1.0</td>\n",
              "      <td>211.0</td>\n",
              "      <td>4.0</td>\n",
              "      <td>2430.0</td>\n",
              "      <td>9261.0</td>\n",
              "      <td>906.553935</td>\n",
              "    </tr>\n",
              "    <tr>\n",
              "      <th>4</th>\n",
              "      <td>SHOE4FZGGTE7HJXN</td>\n",
              "      <td>33.0</td>\n",
              "      <td>2014-12-08 12:25:52.000</td>\n",
              "      <td>462</td>\n",
              "      <td>Zoe</td>\n",
              "      <td>No</td>\n",
              "      <td>Cosmetics</td>\n",
              "      <td>3</td>\n",
              "      <td>57</td>\n",
              "      <td>0.0</td>\n",
              "      <td>263.0</td>\n",
              "      <td>13.0</td>\n",
              "      <td>2006.0</td>\n",
              "      <td>5257.0</td>\n",
              "      <td>3874.264992</td>\n",
              "    </tr>\n",
              "  </tbody>\n",
              "</table>\n",
              "</div>"
            ],
            "text/plain": [
              "         Product_id  Stall_no  ... Maximum_price  Selling_Price\n",
              "0  BRAE2NF6JA5GUEXG      37.0  ...        4713.0    4185.947700\n",
              "1  TUNE8SFB6RJN2HSD      38.0  ...       10352.0    9271.490256\n",
              "2  BRAEAR7WZPQGPBZU       9.0  ...        7309.0    6785.701362\n",
              "3  JWSEBUKYQPMBZ3RK       7.0  ...        9261.0     906.553935\n",
              "4  SHOE4FZGGTE7HJXN      33.0  ...        5257.0    3874.264992\n",
              "\n",
              "[5 rows x 15 columns]"
            ]
          },
          "metadata": {
            "tags": []
          },
          "execution_count": 66
        }
      ]
    },
    {
      "cell_type": "code",
      "metadata": {
        "colab": {
          "base_uri": "https://localhost:8080/",
          "height": 190
        },
        "id": "7kirifXnN1lO",
        "outputId": "e657fe2b-79a1-46b3-e229-041040ed3ee2"
      },
      "source": [
        "test.head(5)"
      ],
      "execution_count": null,
      "outputs": [
        {
          "output_type": "execute_result",
          "data": {
            "text/html": [
              "<div>\n",
              "<style scoped>\n",
              "    .dataframe tbody tr th:only-of-type {\n",
              "        vertical-align: middle;\n",
              "    }\n",
              "\n",
              "    .dataframe tbody tr th {\n",
              "        vertical-align: top;\n",
              "    }\n",
              "\n",
              "    .dataframe thead th {\n",
              "        text-align: right;\n",
              "    }\n",
              "</style>\n",
              "<table border=\"1\" class=\"dataframe\">\n",
              "  <thead>\n",
              "    <tr style=\"text-align: right;\">\n",
              "      <th></th>\n",
              "      <th>Product_id</th>\n",
              "      <th>Stall_no</th>\n",
              "      <th>instock_date</th>\n",
              "      <th>Market_Category</th>\n",
              "      <th>Customer_name</th>\n",
              "      <th>Loyalty_customer</th>\n",
              "      <th>Product_Category</th>\n",
              "      <th>Grade</th>\n",
              "      <th>Demand</th>\n",
              "      <th>Discount_avail</th>\n",
              "      <th>charges_1</th>\n",
              "      <th>charges_2 (%)</th>\n",
              "      <th>Minimum_price</th>\n",
              "      <th>Maximum_price</th>\n",
              "    </tr>\n",
              "  </thead>\n",
              "  <tbody>\n",
              "    <tr>\n",
              "      <th>0</th>\n",
              "      <td>SCHE4YSTDVPVZVXW</td>\n",
              "      <td>39.0</td>\n",
              "      <td>2016-01-13 07:45:08.000</td>\n",
              "      <td>205</td>\n",
              "      <td>Ivanka</td>\n",
              "      <td>No</td>\n",
              "      <td>Fashion</td>\n",
              "      <td>0</td>\n",
              "      <td>90</td>\n",
              "      <td>0</td>\n",
              "      <td>380.0</td>\n",
              "      <td>16.0</td>\n",
              "      <td>2576.0</td>\n",
              "      <td>3340</td>\n",
              "    </tr>\n",
              "    <tr>\n",
              "      <th>1</th>\n",
              "      <td>ACCEGCATKHNRXUHW</td>\n",
              "      <td>49.0</td>\n",
              "      <td>2015-08-23 20:37:05.000</td>\n",
              "      <td>3</td>\n",
              "      <td>Isaak</td>\n",
              "      <td>Yes</td>\n",
              "      <td>Fashion</td>\n",
              "      <td>0</td>\n",
              "      <td>87</td>\n",
              "      <td>0</td>\n",
              "      <td>393.0</td>\n",
              "      <td>16.0</td>\n",
              "      <td>1202.0</td>\n",
              "      <td>1955</td>\n",
              "    </tr>\n",
              "    <tr>\n",
              "      <th>2</th>\n",
              "      <td>NKCE6GJ5XVJDXNNZ</td>\n",
              "      <td>1.0</td>\n",
              "      <td>2015-11-14 18:12:39.000</td>\n",
              "      <td>183</td>\n",
              "      <td>Analiese</td>\n",
              "      <td>No</td>\n",
              "      <td>Technology</td>\n",
              "      <td>2</td>\n",
              "      <td>55</td>\n",
              "      <td>0</td>\n",
              "      <td>493.0</td>\n",
              "      <td>9.0</td>\n",
              "      <td>7175.0</td>\n",
              "      <td>15715</td>\n",
              "    </tr>\n",
              "    <tr>\n",
              "      <th>3</th>\n",
              "      <td>NKCEB8BK3ZXDHDHM</td>\n",
              "      <td>8.0</td>\n",
              "      <td>2015-11-21 04:56:19.000</td>\n",
              "      <td>358</td>\n",
              "      <td>Rusty</td>\n",
              "      <td>Yes</td>\n",
              "      <td>Child_care</td>\n",
              "      <td>3</td>\n",
              "      <td>86</td>\n",
              "      <td>0</td>\n",
              "      <td>303.0</td>\n",
              "      <td>16.0</td>\n",
              "      <td>5404.0</td>\n",
              "      <td>13078</td>\n",
              "    </tr>\n",
              "    <tr>\n",
              "      <th>4</th>\n",
              "      <td>TOPEFDXSAHRNPF94</td>\n",
              "      <td>33.0</td>\n",
              "      <td>2015-05-06 15:09:46.000</td>\n",
              "      <td>167</td>\n",
              "      <td>Eloise</td>\n",
              "      <td>No</td>\n",
              "      <td>Technology</td>\n",
              "      <td>0</td>\n",
              "      <td>27</td>\n",
              "      <td>0</td>\n",
              "      <td>567.0</td>\n",
              "      <td>16.0</td>\n",
              "      <td>4069.0</td>\n",
              "      <td>6244</td>\n",
              "    </tr>\n",
              "  </tbody>\n",
              "</table>\n",
              "</div>"
            ],
            "text/plain": [
              "         Product_id  Stall_no  ... Minimum_price  Maximum_price\n",
              "0  SCHE4YSTDVPVZVXW      39.0  ...        2576.0           3340\n",
              "1  ACCEGCATKHNRXUHW      49.0  ...        1202.0           1955\n",
              "2  NKCE6GJ5XVJDXNNZ       1.0  ...        7175.0          15715\n",
              "3  NKCEB8BK3ZXDHDHM       8.0  ...        5404.0          13078\n",
              "4  TOPEFDXSAHRNPF94      33.0  ...        4069.0           6244\n",
              "\n",
              "[5 rows x 14 columns]"
            ]
          },
          "metadata": {
            "tags": []
          },
          "execution_count": 67
        }
      ]
    },
    {
      "cell_type": "code",
      "metadata": {
        "colab": {
          "base_uri": "https://localhost:8080/"
        },
        "id": "UzovUMg9H2WE",
        "outputId": "35a01a34-ad9c-4ecc-b1ad-9152a36cf721"
      },
      "source": [
        "train.isnull().sum(),test.isnull().sum(),train.shape,test.shape,train.dtypes"
      ],
      "execution_count": null,
      "outputs": [
        {
          "output_type": "execute_result",
          "data": {
            "text/plain": [
              "(Product_id            0\n",
              " Stall_no              0\n",
              " instock_date          0\n",
              " Market_Category       0\n",
              " Customer_name       189\n",
              " Loyalty_customer      0\n",
              " Product_Category      0\n",
              " Grade                 0\n",
              " Demand                0\n",
              " Discount_avail        0\n",
              " charges_1             0\n",
              " charges_2 (%)         0\n",
              " Minimum_price         0\n",
              " Maximum_price         0\n",
              " Selling_Price         0\n",
              " dtype: int64, Product_id           0\n",
              " Stall_no             0\n",
              " instock_date         0\n",
              " Market_Category      0\n",
              " Customer_name       53\n",
              " Loyalty_customer     0\n",
              " Product_Category     0\n",
              " Grade                0\n",
              " Demand               0\n",
              " Discount_avail       0\n",
              " charges_1            0\n",
              " charges_2 (%)        0\n",
              " Minimum_price        0\n",
              " Maximum_price        0\n",
              " dtype: int64, (5576, 15), (3430, 14), Product_id           object\n",
              " Stall_no            float64\n",
              " instock_date         object\n",
              " Market_Category       int64\n",
              " Customer_name        object\n",
              " Loyalty_customer     object\n",
              " Product_Category     object\n",
              " Grade                 int64\n",
              " Demand                int64\n",
              " Discount_avail      float64\n",
              " charges_1           float64\n",
              " charges_2 (%)       float64\n",
              " Minimum_price       float64\n",
              " Maximum_price       float64\n",
              " Selling_Price       float64\n",
              " dtype: object)"
            ]
          },
          "metadata": {
            "tags": []
          },
          "execution_count": 68
        }
      ]
    },
    {
      "cell_type": "code",
      "metadata": {
        "id": "9k8TRzxpSssR"
      },
      "source": [
        "## Check outliers\n",
        "#test.iloc[:,:].plot(kind='box',figsize=(50,100), subplots=True,grid=False, layout=(12, 4))\n",
        "## Except metal fatigue, all are having outliers free, while selecting machine learning algorithm this should be taken into consideration"
      ],
      "execution_count": null,
      "outputs": []
    },
    {
      "cell_type": "code",
      "metadata": {
        "id": "hI2XmSzOW4Us"
      },
      "source": [
        "#train.drop_duplicates(keep=False, inplace=True)\n",
        "train['Selling_Price']=abs(train['Selling_Price'])"
      ],
      "execution_count": null,
      "outputs": []
    },
    {
      "cell_type": "code",
      "metadata": {
        "colab": {
          "base_uri": "https://localhost:8080/",
          "height": 334
        },
        "id": "pR5dmepPgYo-",
        "outputId": "9fab0474-d9ac-4e3f-b567-f5a7cee81579"
      },
      "source": [
        "train.corr().sort_values(\"Selling_Price\", axis = 0, ascending = False)"
      ],
      "execution_count": null,
      "outputs": [
        {
          "output_type": "execute_result",
          "data": {
            "text/html": [
              "<div>\n",
              "<style scoped>\n",
              "    .dataframe tbody tr th:only-of-type {\n",
              "        vertical-align: middle;\n",
              "    }\n",
              "\n",
              "    .dataframe tbody tr th {\n",
              "        vertical-align: top;\n",
              "    }\n",
              "\n",
              "    .dataframe thead th {\n",
              "        text-align: right;\n",
              "    }\n",
              "</style>\n",
              "<table border=\"1\" class=\"dataframe\">\n",
              "  <thead>\n",
              "    <tr style=\"text-align: right;\">\n",
              "      <th></th>\n",
              "      <th>Stall_no</th>\n",
              "      <th>Market_Category</th>\n",
              "      <th>Grade</th>\n",
              "      <th>Demand</th>\n",
              "      <th>Discount_avail</th>\n",
              "      <th>charges_1</th>\n",
              "      <th>charges_2 (%)</th>\n",
              "      <th>Minimum_price</th>\n",
              "      <th>Maximum_price</th>\n",
              "      <th>Selling_Price</th>\n",
              "    </tr>\n",
              "  </thead>\n",
              "  <tbody>\n",
              "    <tr>\n",
              "      <th>Selling_Price</th>\n",
              "      <td>0.010454</td>\n",
              "      <td>0.140552</td>\n",
              "      <td>0.085598</td>\n",
              "      <td>-0.001432</td>\n",
              "      <td>-0.519173</td>\n",
              "      <td>0.053465</td>\n",
              "      <td>0.009202</td>\n",
              "      <td>0.705414</td>\n",
              "      <td>0.773181</td>\n",
              "      <td>1.000000</td>\n",
              "    </tr>\n",
              "    <tr>\n",
              "      <th>Maximum_price</th>\n",
              "      <td>0.008443</td>\n",
              "      <td>0.134257</td>\n",
              "      <td>0.164350</td>\n",
              "      <td>0.003987</td>\n",
              "      <td>-0.003918</td>\n",
              "      <td>0.012169</td>\n",
              "      <td>0.009816</td>\n",
              "      <td>0.708038</td>\n",
              "      <td>1.000000</td>\n",
              "      <td>0.773181</td>\n",
              "    </tr>\n",
              "    <tr>\n",
              "      <th>Minimum_price</th>\n",
              "      <td>0.000123</td>\n",
              "      <td>0.194787</td>\n",
              "      <td>-0.079583</td>\n",
              "      <td>0.010283</td>\n",
              "      <td>0.009817</td>\n",
              "      <td>0.019448</td>\n",
              "      <td>0.005448</td>\n",
              "      <td>1.000000</td>\n",
              "      <td>0.708038</td>\n",
              "      <td>0.705414</td>\n",
              "    </tr>\n",
              "    <tr>\n",
              "      <th>Market_Category</th>\n",
              "      <td>-0.006145</td>\n",
              "      <td>1.000000</td>\n",
              "      <td>-0.036346</td>\n",
              "      <td>-0.018800</td>\n",
              "      <td>-0.003306</td>\n",
              "      <td>0.019009</td>\n",
              "      <td>0.024154</td>\n",
              "      <td>0.194787</td>\n",
              "      <td>0.134257</td>\n",
              "      <td>0.140552</td>\n",
              "    </tr>\n",
              "    <tr>\n",
              "      <th>Grade</th>\n",
              "      <td>-0.003449</td>\n",
              "      <td>-0.036346</td>\n",
              "      <td>1.000000</td>\n",
              "      <td>0.010107</td>\n",
              "      <td>-0.025232</td>\n",
              "      <td>-0.025316</td>\n",
              "      <td>-0.016644</td>\n",
              "      <td>-0.079583</td>\n",
              "      <td>0.164350</td>\n",
              "      <td>0.085598</td>\n",
              "    </tr>\n",
              "    <tr>\n",
              "      <th>charges_1</th>\n",
              "      <td>-0.010224</td>\n",
              "      <td>0.019009</td>\n",
              "      <td>-0.025316</td>\n",
              "      <td>-0.007370</td>\n",
              "      <td>-0.003899</td>\n",
              "      <td>1.000000</td>\n",
              "      <td>0.270625</td>\n",
              "      <td>0.019448</td>\n",
              "      <td>0.012169</td>\n",
              "      <td>0.053465</td>\n",
              "    </tr>\n",
              "    <tr>\n",
              "      <th>Stall_no</th>\n",
              "      <td>1.000000</td>\n",
              "      <td>-0.006145</td>\n",
              "      <td>-0.003449</td>\n",
              "      <td>0.004302</td>\n",
              "      <td>-0.019656</td>\n",
              "      <td>-0.010224</td>\n",
              "      <td>-0.004745</td>\n",
              "      <td>0.000123</td>\n",
              "      <td>0.008443</td>\n",
              "      <td>0.010454</td>\n",
              "    </tr>\n",
              "    <tr>\n",
              "      <th>charges_2 (%)</th>\n",
              "      <td>-0.004745</td>\n",
              "      <td>0.024154</td>\n",
              "      <td>-0.016644</td>\n",
              "      <td>0.017653</td>\n",
              "      <td>0.018905</td>\n",
              "      <td>0.270625</td>\n",
              "      <td>1.000000</td>\n",
              "      <td>0.005448</td>\n",
              "      <td>0.009816</td>\n",
              "      <td>0.009202</td>\n",
              "    </tr>\n",
              "    <tr>\n",
              "      <th>Demand</th>\n",
              "      <td>0.004302</td>\n",
              "      <td>-0.018800</td>\n",
              "      <td>0.010107</td>\n",
              "      <td>1.000000</td>\n",
              "      <td>0.010230</td>\n",
              "      <td>-0.007370</td>\n",
              "      <td>0.017653</td>\n",
              "      <td>0.010283</td>\n",
              "      <td>0.003987</td>\n",
              "      <td>-0.001432</td>\n",
              "    </tr>\n",
              "    <tr>\n",
              "      <th>Discount_avail</th>\n",
              "      <td>-0.019656</td>\n",
              "      <td>-0.003306</td>\n",
              "      <td>-0.025232</td>\n",
              "      <td>0.010230</td>\n",
              "      <td>1.000000</td>\n",
              "      <td>-0.003899</td>\n",
              "      <td>0.018905</td>\n",
              "      <td>0.009817</td>\n",
              "      <td>-0.003918</td>\n",
              "      <td>-0.519173</td>\n",
              "    </tr>\n",
              "  </tbody>\n",
              "</table>\n",
              "</div>"
            ],
            "text/plain": [
              "                 Stall_no  Market_Category  ...  Maximum_price  Selling_Price\n",
              "Selling_Price    0.010454         0.140552  ...       0.773181       1.000000\n",
              "Maximum_price    0.008443         0.134257  ...       1.000000       0.773181\n",
              "Minimum_price    0.000123         0.194787  ...       0.708038       0.705414\n",
              "Market_Category -0.006145         1.000000  ...       0.134257       0.140552\n",
              "Grade           -0.003449        -0.036346  ...       0.164350       0.085598\n",
              "charges_1       -0.010224         0.019009  ...       0.012169       0.053465\n",
              "Stall_no         1.000000        -0.006145  ...       0.008443       0.010454\n",
              "charges_2 (%)   -0.004745         0.024154  ...       0.009816       0.009202\n",
              "Demand           0.004302        -0.018800  ...       0.003987      -0.001432\n",
              "Discount_avail  -0.019656        -0.003306  ...      -0.003918      -0.519173\n",
              "\n",
              "[10 rows x 10 columns]"
            ]
          },
          "metadata": {
            "tags": []
          },
          "execution_count": 399
        }
      ]
    },
    {
      "cell_type": "code",
      "metadata": {
        "colab": {
          "base_uri": "https://localhost:8080/",
          "height": 334
        },
        "id": "qQMccfLpg1QO",
        "outputId": "60970639-0738-4c14-a134-4d7fd858e1f5"
      },
      "source": [
        "train.describe().T"
      ],
      "execution_count": null,
      "outputs": [
        {
          "output_type": "execute_result",
          "data": {
            "text/html": [
              "<div>\n",
              "<style scoped>\n",
              "    .dataframe tbody tr th:only-of-type {\n",
              "        vertical-align: middle;\n",
              "    }\n",
              "\n",
              "    .dataframe tbody tr th {\n",
              "        vertical-align: top;\n",
              "    }\n",
              "\n",
              "    .dataframe thead th {\n",
              "        text-align: right;\n",
              "    }\n",
              "</style>\n",
              "<table border=\"1\" class=\"dataframe\">\n",
              "  <thead>\n",
              "    <tr style=\"text-align: right;\">\n",
              "      <th></th>\n",
              "      <th>count</th>\n",
              "      <th>mean</th>\n",
              "      <th>std</th>\n",
              "      <th>min</th>\n",
              "      <th>25%</th>\n",
              "      <th>50%</th>\n",
              "      <th>75%</th>\n",
              "      <th>max</th>\n",
              "    </tr>\n",
              "  </thead>\n",
              "  <tbody>\n",
              "    <tr>\n",
              "      <th>Stall_no</th>\n",
              "      <td>6363.0</td>\n",
              "      <td>25.309445</td>\n",
              "      <td>14.328980</td>\n",
              "      <td>1.0</td>\n",
              "      <td>13.000000</td>\n",
              "      <td>25.000000</td>\n",
              "      <td>37.000000</td>\n",
              "      <td>50.000000</td>\n",
              "    </tr>\n",
              "    <tr>\n",
              "      <th>Market_Category</th>\n",
              "      <td>6368.0</td>\n",
              "      <td>199.340609</td>\n",
              "      <td>170.275570</td>\n",
              "      <td>0.0</td>\n",
              "      <td>55.000000</td>\n",
              "      <td>132.000000</td>\n",
              "      <td>403.000000</td>\n",
              "      <td>471.000000</td>\n",
              "    </tr>\n",
              "    <tr>\n",
              "      <th>Grade</th>\n",
              "      <td>6368.0</td>\n",
              "      <td>0.643687</td>\n",
              "      <td>1.025092</td>\n",
              "      <td>0.0</td>\n",
              "      <td>0.000000</td>\n",
              "      <td>0.000000</td>\n",
              "      <td>2.000000</td>\n",
              "      <td>3.000000</td>\n",
              "    </tr>\n",
              "    <tr>\n",
              "      <th>Demand</th>\n",
              "      <td>6368.0</td>\n",
              "      <td>50.921168</td>\n",
              "      <td>29.091922</td>\n",
              "      <td>1.0</td>\n",
              "      <td>26.000000</td>\n",
              "      <td>51.000000</td>\n",
              "      <td>76.000000</td>\n",
              "      <td>100.000000</td>\n",
              "    </tr>\n",
              "    <tr>\n",
              "      <th>Discount_avail</th>\n",
              "      <td>6330.0</td>\n",
              "      <td>0.140442</td>\n",
              "      <td>0.347473</td>\n",
              "      <td>0.0</td>\n",
              "      <td>0.000000</td>\n",
              "      <td>0.000000</td>\n",
              "      <td>0.000000</td>\n",
              "      <td>1.000000</td>\n",
              "    </tr>\n",
              "    <tr>\n",
              "      <th>charges_1</th>\n",
              "      <td>6170.0</td>\n",
              "      <td>264.514100</td>\n",
              "      <td>124.483056</td>\n",
              "      <td>100.0</td>\n",
              "      <td>163.000000</td>\n",
              "      <td>252.000000</td>\n",
              "      <td>314.000000</td>\n",
              "      <td>649.000000</td>\n",
              "    </tr>\n",
              "    <tr>\n",
              "      <th>charges_2 (%)</th>\n",
              "      <td>6163.0</td>\n",
              "      <td>10.146195</td>\n",
              "      <td>4.318339</td>\n",
              "      <td>1.0</td>\n",
              "      <td>7.000000</td>\n",
              "      <td>10.000000</td>\n",
              "      <td>14.000000</td>\n",
              "      <td>17.000000</td>\n",
              "    </tr>\n",
              "    <tr>\n",
              "      <th>Minimum_price</th>\n",
              "      <td>6330.0</td>\n",
              "      <td>3531.349763</td>\n",
              "      <td>2194.729604</td>\n",
              "      <td>1.0</td>\n",
              "      <td>1879.250000</td>\n",
              "      <td>3157.500000</td>\n",
              "      <td>4697.000000</td>\n",
              "      <td>17580.000000</td>\n",
              "    </tr>\n",
              "    <tr>\n",
              "      <th>Maximum_price</th>\n",
              "      <td>6025.0</td>\n",
              "      <td>6432.545892</td>\n",
              "      <td>3716.177364</td>\n",
              "      <td>404.0</td>\n",
              "      <td>3918.000000</td>\n",
              "      <td>5634.000000</td>\n",
              "      <td>8126.000000</td>\n",
              "      <td>58812.000000</td>\n",
              "    </tr>\n",
              "    <tr>\n",
              "      <th>Selling_Price</th>\n",
              "      <td>6327.0</td>\n",
              "      <td>4580.406478</td>\n",
              "      <td>2952.640478</td>\n",
              "      <td>4.0</td>\n",
              "      <td>2461.805312</td>\n",
              "      <td>4215.972992</td>\n",
              "      <td>6167.643252</td>\n",
              "      <td>22638.325941</td>\n",
              "    </tr>\n",
              "  </tbody>\n",
              "</table>\n",
              "</div>"
            ],
            "text/plain": [
              "                  count         mean  ...          75%           max\n",
              "Stall_no         6363.0    25.309445  ...    37.000000     50.000000\n",
              "Market_Category  6368.0   199.340609  ...   403.000000    471.000000\n",
              "Grade            6368.0     0.643687  ...     2.000000      3.000000\n",
              "Demand           6368.0    50.921168  ...    76.000000    100.000000\n",
              "Discount_avail   6330.0     0.140442  ...     0.000000      1.000000\n",
              "charges_1        6170.0   264.514100  ...   314.000000    649.000000\n",
              "charges_2 (%)    6163.0    10.146195  ...    14.000000     17.000000\n",
              "Minimum_price    6330.0  3531.349763  ...  4697.000000  17580.000000\n",
              "Maximum_price    6025.0  6432.545892  ...  8126.000000  58812.000000\n",
              "Selling_Price    6327.0  4580.406478  ...  6167.643252  22638.325941\n",
              "\n",
              "[10 rows x 8 columns]"
            ]
          },
          "metadata": {
            "tags": []
          },
          "execution_count": 400
        }
      ]
    },
    {
      "cell_type": "code",
      "metadata": {
        "id": "oeWJJm6JWaoV"
      },
      "source": [
        "#train['Selling_Price']=train['Selling_Price'].fillna(train['Selling_Price'].mean())\n",
        "train=train.dropna(subset=['Selling_Price'])"
      ],
      "execution_count": null,
      "outputs": []
    },
    {
      "cell_type": "code",
      "metadata": {
        "id": "xKrJ8TbNICGm"
      },
      "source": [
        "df=pd.concat([train,test])"
      ],
      "execution_count": null,
      "outputs": []
    },
    {
      "cell_type": "code",
      "metadata": {
        "colab": {
          "base_uri": "https://localhost:8080/"
        },
        "id": "Ej5ZQBguPPsZ",
        "outputId": "c414e14c-7d6d-45bd-ada7-d7ba682b61da"
      },
      "source": [
        "df.nunique(), df.isnull().sum(),df.dtypes"
      ],
      "execution_count": null,
      "outputs": [
        {
          "output_type": "execute_result",
          "data": {
            "text/plain": [
              "(Product_id                 9798\n",
              " Stall_no                     50\n",
              " Market_Category             275\n",
              " Customer_name              8960\n",
              " Loyalty_customer              2\n",
              " Product_Category             10\n",
              " Grade                         4\n",
              " Demand                      100\n",
              " Discount_avail                2\n",
              " charges_1                   494\n",
              " charges_2 (%)                17\n",
              " Minimum_price              5381\n",
              " Maximum_price              6328\n",
              " Selling_Price              6321\n",
              " Avg_Price                  7447\n",
              " Avg_Demand                 9671\n",
              " charge_extra               9297\n",
              " total_charge               9511\n",
              " main_price                 9761\n",
              " quality_rate                241\n",
              " instock_date_year             3\n",
              " instock_date_day             31\n",
              " instock_date_weekofyear      46\n",
              " instock_date_month           11\n",
              " instock_date_dayofweek        7\n",
              " instock_date_weekend          2\n",
              " instock_date_hour            24\n",
              " instock_date_minute          60\n",
              " prime_member                  3\n",
              " dtype: int64, Product_id                    0\n",
              " Stall_no                      0\n",
              " Market_Category               0\n",
              " Customer_name                 0\n",
              " Loyalty_customer              0\n",
              " Product_Category              0\n",
              " Grade                         0\n",
              " Demand                        0\n",
              " Discount_avail                0\n",
              " charges_1                     0\n",
              " charges_2 (%)                 0\n",
              " Minimum_price                 0\n",
              " Maximum_price                 0\n",
              " Selling_Price              3430\n",
              " Avg_Price                     0\n",
              " Avg_Demand                    0\n",
              " charge_extra                  0\n",
              " total_charge                  0\n",
              " main_price                    0\n",
              " quality_rate                  0\n",
              " instock_date_year             0\n",
              " instock_date_day              0\n",
              " instock_date_weekofyear       0\n",
              " instock_date_month            0\n",
              " instock_date_dayofweek        0\n",
              " instock_date_weekend          0\n",
              " instock_date_hour             0\n",
              " instock_date_minute           0\n",
              " prime_member                  0\n",
              " dtype: int64, Product_id                   int64\n",
              " Stall_no                   float64\n",
              " Market_Category              int64\n",
              " Customer_name                int64\n",
              " Loyalty_customer             int64\n",
              " Product_Category             int64\n",
              " Grade                        int64\n",
              " Demand                       int64\n",
              " Discount_avail             float64\n",
              " charges_1                  float64\n",
              " charges_2 (%)              float64\n",
              " Minimum_price              float64\n",
              " Maximum_price              float64\n",
              " Selling_Price              float64\n",
              " Avg_Price                  float64\n",
              " Avg_Demand                 float64\n",
              " charge_extra               float64\n",
              " total_charge               float64\n",
              " main_price                 float64\n",
              " quality_rate                 int64\n",
              " instock_date_year            int64\n",
              " instock_date_day             int64\n",
              " instock_date_weekofyear      int64\n",
              " instock_date_month           int64\n",
              " instock_date_dayofweek       int64\n",
              " instock_date_weekend         int64\n",
              " instock_date_hour            int64\n",
              " instock_date_minute          int64\n",
              " prime_member               float64\n",
              " dtype: object)"
            ]
          },
          "metadata": {
            "tags": []
          },
          "execution_count": 31
        }
      ]
    },
    {
      "cell_type": "code",
      "metadata": {
        "id": "5lXTqx-ELK5a"
      },
      "source": [
        "df['Stall_no']=df['Stall_no'].fillna(df['Stall_no'].mean())"
      ],
      "execution_count": null,
      "outputs": []
    },
    {
      "cell_type": "code",
      "metadata": {
        "id": "Y-jL_LDOLsRv"
      },
      "source": [
        "df['Customer_name']=df['Customer_name'].fillna('Private_Name')"
      ],
      "execution_count": null,
      "outputs": []
    },
    {
      "cell_type": "code",
      "metadata": {
        "id": "hX_adoaxMBJe"
      },
      "source": [
        "df['Discount_avail']=df['Discount_avail'].fillna(method='bfill')"
      ],
      "execution_count": null,
      "outputs": []
    },
    {
      "cell_type": "code",
      "metadata": {
        "id": "FRfPqmReMUGI"
      },
      "source": [
        "df['charges_1']=df['charges_1'].fillna(df['charges_1'].mean())\n",
        "df['charges_2 (%)']=df['charges_2 (%)'].fillna(df['charges_2 (%)'].mean())"
      ],
      "execution_count": null,
      "outputs": []
    },
    {
      "cell_type": "code",
      "metadata": {
        "id": "zm5wm7w3Mprh"
      },
      "source": [
        "df['Minimum_price']=df['Minimum_price'].fillna(df['Minimum_price'].mean())\n",
        "df['Maximum_price']=df['Maximum_price'].fillna(df['Maximum_price'].mean())"
      ],
      "execution_count": null,
      "outputs": []
    },
    {
      "cell_type": "code",
      "metadata": {
        "id": "SsE9EgZy_m4J"
      },
      "source": [
        "###\n",
        "df['Avg_Price']=(df['Maximum_price']+df['Minimum_price'])/2\n",
        "df['Avg_Demand']=(df['Avg_Price']*df['Demand'])/100\n",
        "df['charge_extra']=(df['Avg_Price']*(df['charges_2 (%)']))/100\n",
        "#df['avgg_charges_1']=df['Avg_Price']-df['charges_1']\n",
        "df['total_charge']=df['charges_1']+df['charge_extra']\n",
        "df['main_price']=df['Avg_Price']-df['total_charge']\n",
        "df['Grade']=df['Grade']+1\n",
        "df['quality_rate']=df['Grade']*df['Demand']"
      ],
      "execution_count": null,
      "outputs": []
    },
    {
      "cell_type": "code",
      "metadata": {
        "id": "BHc5970XbwKg"
      },
      "source": [
        "df['7price']=df['Minimum_price']*0.7+df['Minimum_price']*0.3\n",
        "df['3price']=df['Minimum_price']*0.3+df['Minimum_price']*0.7"
      ],
      "execution_count": null,
      "outputs": []
    },
    {
      "cell_type": "code",
      "metadata": {
        "colab": {
          "base_uri": "https://localhost:8080/",
          "height": 227
        },
        "id": "Tx6n1KQ6Mt5K",
        "outputId": "61a503a7-8141-4ee3-d12c-dfe3627bc76b"
      },
      "source": [
        "df.tail(5)"
      ],
      "execution_count": null,
      "outputs": [
        {
          "output_type": "execute_result",
          "data": {
            "text/html": [
              "<div>\n",
              "<style scoped>\n",
              "    .dataframe tbody tr th:only-of-type {\n",
              "        vertical-align: middle;\n",
              "    }\n",
              "\n",
              "    .dataframe tbody tr th {\n",
              "        vertical-align: top;\n",
              "    }\n",
              "\n",
              "    .dataframe thead th {\n",
              "        text-align: right;\n",
              "    }\n",
              "</style>\n",
              "<table border=\"1\" class=\"dataframe\">\n",
              "  <thead>\n",
              "    <tr style=\"text-align: right;\">\n",
              "      <th></th>\n",
              "      <th>Product_id</th>\n",
              "      <th>Stall_no</th>\n",
              "      <th>Market_Category</th>\n",
              "      <th>Customer_name</th>\n",
              "      <th>Loyalty_customer</th>\n",
              "      <th>Product_Category</th>\n",
              "      <th>Grade</th>\n",
              "      <th>Demand</th>\n",
              "      <th>Discount_avail</th>\n",
              "      <th>charges_1</th>\n",
              "      <th>charges_2 (%)</th>\n",
              "      <th>Minimum_price</th>\n",
              "      <th>Maximum_price</th>\n",
              "      <th>Selling_Price</th>\n",
              "      <th>Avg_Price</th>\n",
              "      <th>Avg_Demand</th>\n",
              "      <th>charge_extra</th>\n",
              "      <th>total_charge</th>\n",
              "      <th>main_price</th>\n",
              "      <th>quality_rate</th>\n",
              "      <th>instock_date_year</th>\n",
              "      <th>instock_date_day</th>\n",
              "      <th>instock_date_weekofyear</th>\n",
              "      <th>instock_date_month</th>\n",
              "      <th>instock_date_dayofweek</th>\n",
              "      <th>instock_date_weekend</th>\n",
              "      <th>instock_date_hour</th>\n",
              "      <th>instock_date_minute</th>\n",
              "      <th>prime_member</th>\n",
              "    </tr>\n",
              "  </thead>\n",
              "  <tbody>\n",
              "    <tr>\n",
              "      <th>3425</th>\n",
              "      <td>597</td>\n",
              "      <td>9.0</td>\n",
              "      <td>58</td>\n",
              "      <td>2389</td>\n",
              "      <td>1</td>\n",
              "      <td>7</td>\n",
              "      <td>1</td>\n",
              "      <td>39</td>\n",
              "      <td>0.0</td>\n",
              "      <td>117.0</td>\n",
              "      <td>5.0</td>\n",
              "      <td>3094.0</td>\n",
              "      <td>4674.0</td>\n",
              "      <td>NaN</td>\n",
              "      <td>3884.0</td>\n",
              "      <td>1514.760</td>\n",
              "      <td>194.20</td>\n",
              "      <td>311.20</td>\n",
              "      <td>3572.80</td>\n",
              "      <td>39</td>\n",
              "      <td>2015</td>\n",
              "      <td>15</td>\n",
              "      <td>33</td>\n",
              "      <td>8</td>\n",
              "      <td>5</td>\n",
              "      <td>1</td>\n",
              "      <td>21</td>\n",
              "      <td>17</td>\n",
              "      <td>1.0</td>\n",
              "    </tr>\n",
              "    <tr>\n",
              "      <th>3426</th>\n",
              "      <td>7053</td>\n",
              "      <td>30.0</td>\n",
              "      <td>358</td>\n",
              "      <td>5972</td>\n",
              "      <td>1</td>\n",
              "      <td>9</td>\n",
              "      <td>4</td>\n",
              "      <td>17</td>\n",
              "      <td>0.0</td>\n",
              "      <td>509.0</td>\n",
              "      <td>6.0</td>\n",
              "      <td>3384.0</td>\n",
              "      <td>14105.0</td>\n",
              "      <td>NaN</td>\n",
              "      <td>8744.5</td>\n",
              "      <td>1486.565</td>\n",
              "      <td>524.67</td>\n",
              "      <td>1033.67</td>\n",
              "      <td>7710.83</td>\n",
              "      <td>68</td>\n",
              "      <td>2015</td>\n",
              "      <td>4</td>\n",
              "      <td>49</td>\n",
              "      <td>12</td>\n",
              "      <td>4</td>\n",
              "      <td>0</td>\n",
              "      <td>1</td>\n",
              "      <td>51</td>\n",
              "      <td>1.0</td>\n",
              "    </tr>\n",
              "    <tr>\n",
              "      <th>3427</th>\n",
              "      <td>9172</td>\n",
              "      <td>14.0</td>\n",
              "      <td>106</td>\n",
              "      <td>3486</td>\n",
              "      <td>1</td>\n",
              "      <td>2</td>\n",
              "      <td>1</td>\n",
              "      <td>36</td>\n",
              "      <td>0.0</td>\n",
              "      <td>150.0</td>\n",
              "      <td>17.0</td>\n",
              "      <td>710.0</td>\n",
              "      <td>10894.0</td>\n",
              "      <td>NaN</td>\n",
              "      <td>5802.0</td>\n",
              "      <td>2088.720</td>\n",
              "      <td>986.34</td>\n",
              "      <td>1136.34</td>\n",
              "      <td>4665.66</td>\n",
              "      <td>36</td>\n",
              "      <td>2016</td>\n",
              "      <td>28</td>\n",
              "      <td>13</td>\n",
              "      <td>3</td>\n",
              "      <td>0</td>\n",
              "      <td>0</td>\n",
              "      <td>20</td>\n",
              "      <td>55</td>\n",
              "      <td>1.0</td>\n",
              "    </tr>\n",
              "    <tr>\n",
              "      <th>3428</th>\n",
              "      <td>5677</td>\n",
              "      <td>1.0</td>\n",
              "      <td>104</td>\n",
              "      <td>163</td>\n",
              "      <td>1</td>\n",
              "      <td>0</td>\n",
              "      <td>1</td>\n",
              "      <td>63</td>\n",
              "      <td>0.0</td>\n",
              "      <td>325.0</td>\n",
              "      <td>15.0</td>\n",
              "      <td>1477.0</td>\n",
              "      <td>5165.0</td>\n",
              "      <td>NaN</td>\n",
              "      <td>3321.0</td>\n",
              "      <td>2092.230</td>\n",
              "      <td>498.15</td>\n",
              "      <td>823.15</td>\n",
              "      <td>2497.85</td>\n",
              "      <td>63</td>\n",
              "      <td>2015</td>\n",
              "      <td>23</td>\n",
              "      <td>21</td>\n",
              "      <td>5</td>\n",
              "      <td>5</td>\n",
              "      <td>1</td>\n",
              "      <td>7</td>\n",
              "      <td>41</td>\n",
              "      <td>1.0</td>\n",
              "    </tr>\n",
              "    <tr>\n",
              "      <th>3429</th>\n",
              "      <td>6745</td>\n",
              "      <td>3.0</td>\n",
              "      <td>165</td>\n",
              "      <td>1986</td>\n",
              "      <td>0</td>\n",
              "      <td>8</td>\n",
              "      <td>1</td>\n",
              "      <td>92</td>\n",
              "      <td>1.0</td>\n",
              "      <td>228.0</td>\n",
              "      <td>9.0</td>\n",
              "      <td>5538.0</td>\n",
              "      <td>7506.0</td>\n",
              "      <td>NaN</td>\n",
              "      <td>6522.0</td>\n",
              "      <td>6000.240</td>\n",
              "      <td>586.98</td>\n",
              "      <td>814.98</td>\n",
              "      <td>5707.02</td>\n",
              "      <td>92</td>\n",
              "      <td>2015</td>\n",
              "      <td>16</td>\n",
              "      <td>33</td>\n",
              "      <td>8</td>\n",
              "      <td>6</td>\n",
              "      <td>1</td>\n",
              "      <td>22</td>\n",
              "      <td>19</td>\n",
              "      <td>1.0</td>\n",
              "    </tr>\n",
              "  </tbody>\n",
              "</table>\n",
              "</div>"
            ],
            "text/plain": [
              "      Product_id  Stall_no  ...  instock_date_minute  prime_member\n",
              "3425         597       9.0  ...                   17           1.0\n",
              "3426        7053      30.0  ...                   51           1.0\n",
              "3427        9172      14.0  ...                   55           1.0\n",
              "3428        5677       1.0  ...                   41           1.0\n",
              "3429        6745       3.0  ...                   19           1.0\n",
              "\n",
              "[5 rows x 29 columns]"
            ]
          },
          "metadata": {
            "tags": []
          },
          "execution_count": 30
        }
      ]
    },
    {
      "cell_type": "code",
      "metadata": {
        "id": "rPO8rT8GNGQ5"
      },
      "source": [
        "x=['Product_id','Customer_name','Loyalty_customer','Product_Category']\n",
        "for i in x:\n",
        "  from sklearn.preprocessing import LabelEncoder\n",
        "  le = LabelEncoder()\n",
        "  df[i] = le.fit_transform(df[i])"
      ],
      "execution_count": null,
      "outputs": []
    },
    {
      "cell_type": "code",
      "metadata": {
        "id": "DEZvDtqfNbsL"
      },
      "source": [
        "k=['instock_date']\n",
        "for i in k:\n",
        "  df[i] = pd.to_datetime(df[i])\n",
        "for i in k:\n",
        "  df[i+'_'+'year'] = df[i].dt.year\n",
        "  df[i+'_'+'day'] = df[i].dt.day\n",
        "  df[i+'_'+'weekofyear'] = df[i].dt.weekofyear\n",
        "  df[i+'_'+'month'] = df[i].dt.month\n",
        "  df[i+'_'+'dayofweek'] =df[i].dt.dayofweek\n",
        "  df[i+'_'+'weekend'] = (df[i].dt.weekday >=5).astype(int)\n",
        "  df[i+'_'+'hour'] = df[i].dt.hour\n",
        "  df[i+'_'+'minute'] = df[i].dt.minute\n",
        "del df['instock_date']"
      ],
      "execution_count": null,
      "outputs": []
    },
    {
      "cell_type": "code",
      "metadata": {
        "id": "ZDE8AVPEC7Fw"
      },
      "source": [
        "df['prime_member']=df['Loyalty_customer']+df['Discount_avail']"
      ],
      "execution_count": null,
      "outputs": []
    },
    {
      "cell_type": "code",
      "metadata": {
        "id": "nhCnU5K1D_vl"
      },
      "source": [
        "temp = df.groupby(['Product_Category']).agg({'Loyalty_customer':['count'],\n",
        "                                       'Grade':['count','mean'],\n",
        "                                       'Stall_no':['count','mean'],\n",
        "                                       'Product_Category':['count'],\n",
        "                                       'Discount_avail':['count']\n",
        "                                      })\n",
        "temp.columns = ['_'.join(x) for x in temp.columns]\n",
        "df = pd.merge(df,temp,on=['Product_Category'],how='left')"
      ],
      "execution_count": null,
      "outputs": []
    },
    {
      "cell_type": "code",
      "metadata": {
        "id": "e9DdlwJLN_te"
      },
      "source": [
        "#df = pd.get_dummies(df, columns=['Product_Category'#,'Grade'#,'charges_2 (%)'\n",
        "#                                 ])"
      ],
      "execution_count": null,
      "outputs": []
    },
    {
      "cell_type": "code",
      "metadata": {
        "id": "BvrCDFX8Ocix"
      },
      "source": [
        "train = df[df['Selling_Price'].isnull()==False]\n",
        "test = df[df['Selling_Price'].isnull()==True]\n",
        "del test['Selling_Price']"
      ],
      "execution_count": null,
      "outputs": []
    },
    {
      "cell_type": "code",
      "metadata": {
        "colab": {
          "base_uri": "https://localhost:8080/"
        },
        "id": "VFeuWLXTadad",
        "outputId": "a299eee3-7a7d-4de0-a07c-e061938bcc51"
      },
      "source": [
        "#Statical Features Extracting from train and test rows after droping Inovicedate or Exctracting features\n",
        "#Train\n",
        "train['Std'] = train.std(axis=1).round(2)\n",
        "train['quantile1'] = train.quantile(q=0.01,axis=1).round(2)\n",
        "train['quantile3'] = train.quantile(q=0.25,axis=1).round(2)\n",
        "train['quantile5'] = train.quantile(q=0.50,axis=1).round(2)                                              \n",
        "train['Mean'] = train.mean(axis=1).round(2)\n",
        "#Test\n",
        "test['Std'] = test.std(axis=1).round(2)\n",
        "test['quantile1'] = test.quantile(q=0.01,axis=1).round(2)\n",
        "test['quantile3'] = test.quantile(q=0.25,axis=1).round(2)\n",
        "test['quantile5'] = test.quantile(q=0.50,axis=1).round(2)                                              \n",
        "test['Mean'] = test.mean(axis=1).round(2)"
      ],
      "execution_count": null,
      "outputs": [
        {
          "output_type": "stream",
          "text": [
            "/usr/local/lib/python3.6/dist-packages/ipykernel_launcher.py:3: SettingWithCopyWarning: \n",
            "A value is trying to be set on a copy of a slice from a DataFrame.\n",
            "Try using .loc[row_indexer,col_indexer] = value instead\n",
            "\n",
            "See the caveats in the documentation: https://pandas.pydata.org/pandas-docs/stable/user_guide/indexing.html#returning-a-view-versus-a-copy\n",
            "  This is separate from the ipykernel package so we can avoid doing imports until\n",
            "/usr/local/lib/python3.6/dist-packages/ipykernel_launcher.py:4: SettingWithCopyWarning: \n",
            "A value is trying to be set on a copy of a slice from a DataFrame.\n",
            "Try using .loc[row_indexer,col_indexer] = value instead\n",
            "\n",
            "See the caveats in the documentation: https://pandas.pydata.org/pandas-docs/stable/user_guide/indexing.html#returning-a-view-versus-a-copy\n",
            "  after removing the cwd from sys.path.\n",
            "/usr/local/lib/python3.6/dist-packages/ipykernel_launcher.py:5: SettingWithCopyWarning: \n",
            "A value is trying to be set on a copy of a slice from a DataFrame.\n",
            "Try using .loc[row_indexer,col_indexer] = value instead\n",
            "\n",
            "See the caveats in the documentation: https://pandas.pydata.org/pandas-docs/stable/user_guide/indexing.html#returning-a-view-versus-a-copy\n",
            "  \"\"\"\n",
            "/usr/local/lib/python3.6/dist-packages/ipykernel_launcher.py:6: SettingWithCopyWarning: \n",
            "A value is trying to be set on a copy of a slice from a DataFrame.\n",
            "Try using .loc[row_indexer,col_indexer] = value instead\n",
            "\n",
            "See the caveats in the documentation: https://pandas.pydata.org/pandas-docs/stable/user_guide/indexing.html#returning-a-view-versus-a-copy\n",
            "  \n",
            "/usr/local/lib/python3.6/dist-packages/ipykernel_launcher.py:7: SettingWithCopyWarning: \n",
            "A value is trying to be set on a copy of a slice from a DataFrame.\n",
            "Try using .loc[row_indexer,col_indexer] = value instead\n",
            "\n",
            "See the caveats in the documentation: https://pandas.pydata.org/pandas-docs/stable/user_guide/indexing.html#returning-a-view-versus-a-copy\n",
            "  import sys\n",
            "/usr/local/lib/python3.6/dist-packages/ipykernel_launcher.py:9: SettingWithCopyWarning: \n",
            "A value is trying to be set on a copy of a slice from a DataFrame.\n",
            "Try using .loc[row_indexer,col_indexer] = value instead\n",
            "\n",
            "See the caveats in the documentation: https://pandas.pydata.org/pandas-docs/stable/user_guide/indexing.html#returning-a-view-versus-a-copy\n",
            "  if __name__ == '__main__':\n",
            "/usr/local/lib/python3.6/dist-packages/ipykernel_launcher.py:10: SettingWithCopyWarning: \n",
            "A value is trying to be set on a copy of a slice from a DataFrame.\n",
            "Try using .loc[row_indexer,col_indexer] = value instead\n",
            "\n",
            "See the caveats in the documentation: https://pandas.pydata.org/pandas-docs/stable/user_guide/indexing.html#returning-a-view-versus-a-copy\n",
            "  # Remove the CWD from sys.path while we load stuff.\n",
            "/usr/local/lib/python3.6/dist-packages/ipykernel_launcher.py:11: SettingWithCopyWarning: \n",
            "A value is trying to be set on a copy of a slice from a DataFrame.\n",
            "Try using .loc[row_indexer,col_indexer] = value instead\n",
            "\n",
            "See the caveats in the documentation: https://pandas.pydata.org/pandas-docs/stable/user_guide/indexing.html#returning-a-view-versus-a-copy\n",
            "  # This is added back by InteractiveShellApp.init_path()\n",
            "/usr/local/lib/python3.6/dist-packages/ipykernel_launcher.py:12: SettingWithCopyWarning: \n",
            "A value is trying to be set on a copy of a slice from a DataFrame.\n",
            "Try using .loc[row_indexer,col_indexer] = value instead\n",
            "\n",
            "See the caveats in the documentation: https://pandas.pydata.org/pandas-docs/stable/user_guide/indexing.html#returning-a-view-versus-a-copy\n",
            "  if sys.path[0] == '':\n",
            "/usr/local/lib/python3.6/dist-packages/ipykernel_launcher.py:13: SettingWithCopyWarning: \n",
            "A value is trying to be set on a copy of a slice from a DataFrame.\n",
            "Try using .loc[row_indexer,col_indexer] = value instead\n",
            "\n",
            "See the caveats in the documentation: https://pandas.pydata.org/pandas-docs/stable/user_guide/indexing.html#returning-a-view-versus-a-copy\n",
            "  del sys.path[0]\n"
          ],
          "name": "stderr"
        }
      ]
    },
    {
      "cell_type": "code",
      "metadata": {
        "id": "kp3IlMYaaiZe"
      },
      "source": [
        "#Removing Outlires\n",
        "from scipy.stats import zscore\n",
        "\n",
        "z_scores = zscore(train)\n",
        "abs_z_scores = np.abs(z_scores)\n",
        "filtered_entries = (abs_z_scores < 3).all(axis=1)\n",
        "new_df = train[filtered_entries]\n",
        "train = new_df"
      ],
      "execution_count": null,
      "outputs": []
    },
    {
      "cell_type": "code",
      "metadata": {
        "colab": {
          "base_uri": "https://localhost:8080/"
        },
        "id": "LVlQ3SAEao0y",
        "outputId": "5da3620b-7bf3-40e5-9854-309b89c6033b"
      },
      "source": [
        "#I also started the checking of some skewness in dataset:\n",
        "# i  try The power Transmision method to remove skevness of the dataset\n",
        "train.skew(),test.skew()"
      ],
      "execution_count": null,
      "outputs": [
        {
          "output_type": "execute_result",
          "data": {
            "text/plain": [
              "(Product_id                 0.006027\n",
              " Stall_no                   0.005098\n",
              " Market_Category            0.460864\n",
              " Customer_name             -0.068953\n",
              " Loyalty_customer          -0.452863\n",
              " Product_Category          -0.029302\n",
              " Grade                      1.195235\n",
              " Demand                    -0.014547\n",
              " Discount_avail             2.080240\n",
              " charges_1                  1.119731\n",
              " charges_2 (%)             -0.135805\n",
              " Minimum_price              1.165180\n",
              " Maximum_price              1.869425\n",
              " Selling_Price              0.855574\n",
              " Avg_Price                  1.327249\n",
              " Avg_Demand                 1.535185\n",
              " charge_extra               1.908197\n",
              " total_charge               1.529141\n",
              " main_price                 1.282967\n",
              " quality_rate               1.684271\n",
              " instock_date_year          0.530371\n",
              " instock_date_day          -0.414408\n",
              " instock_date_weekofyear   -0.139659\n",
              " instock_date_month        -0.091527\n",
              " instock_date_dayofweek     0.149008\n",
              " instock_date_weekend       1.175422\n",
              " instock_date_hour         -0.588950\n",
              " instock_date_minute        0.322915\n",
              " prime_member               0.137385\n",
              " dtype: float64, Product_id                -0.011131\n",
              " Stall_no                  -0.014966\n",
              " Market_Category            0.493435\n",
              " Customer_name             -0.034148\n",
              " Loyalty_customer          -0.444594\n",
              " Product_Category           0.014471\n",
              " Grade                      1.154309\n",
              " Demand                     0.022957\n",
              " Discount_avail             2.001905\n",
              " charges_1                  1.048848\n",
              " charges_2 (%)             -0.220078\n",
              " Minimum_price              1.217134\n",
              " Maximum_price              1.359294\n",
              " Avg_Price                  1.181623\n",
              " Avg_Demand                 1.576259\n",
              " charge_extra               1.470140\n",
              " total_charge               1.210982\n",
              " main_price                 1.200187\n",
              " quality_rate               1.714049\n",
              " instock_date_year          0.518309\n",
              " instock_date_day          -0.423523\n",
              " instock_date_weekofyear   -0.148779\n",
              " instock_date_month        -0.101606\n",
              " instock_date_dayofweek     0.134308\n",
              " instock_date_weekend       1.084107\n",
              " instock_date_hour         -0.604393\n",
              " instock_date_minute        0.303380\n",
              " prime_member               0.112800\n",
              " dtype: float64)"
            ]
          },
          "metadata": {
            "tags": []
          },
          "execution_count": 18
        }
      ]
    },
    {
      "cell_type": "code",
      "metadata": {
        "id": "JA9r4q2ObPMF"
      },
      "source": [
        "train_df=train.copy()\n",
        "test_df=test.copy()"
      ],
      "execution_count": null,
      "outputs": []
    },
    {
      "cell_type": "code",
      "metadata": {
        "id": "7LkrciplcihE"
      },
      "source": [
        "train_df.to_csv('train.csv',index=False)\n",
        "test_df.to_csv('test.csv',index=False)"
      ],
      "execution_count": null,
      "outputs": []
    },
    {
      "cell_type": "code",
      "metadata": {
        "id": "rfQa2-PWeTuP"
      },
      "source": [
        "train=pd.read_csv('/content/train.csv')\n",
        "test=pd.read_csv('/content/test.csv')"
      ],
      "execution_count": null,
      "outputs": []
    },
    {
      "cell_type": "code",
      "metadata": {
        "id": "Mf46eJerfazA"
      },
      "source": [
        "train_df=train.copy()\n",
        "test_df=test.copy()"
      ],
      "execution_count": null,
      "outputs": []
    },
    {
      "cell_type": "code",
      "metadata": {
        "id": "eO4rnXuJPyLF"
      },
      "source": [
        "train_df['Selling_Price'] = np.log1p(train_df['Selling_Price'])"
      ],
      "execution_count": null,
      "outputs": []
    },
    {
      "cell_type": "code",
      "metadata": {
        "id": "hXbBzB7jP2dj"
      },
      "source": [
        "X = train_df.drop(labels=['Selling_Price'], axis=1)\n",
        "y = train_df['Selling_Price'].values\n",
        "\n",
        "from sklearn.model_selection import train_test_split\n",
        "X_train, X_cv, y_train, y_cv = train_test_split(X, y, test_size=0.25, random_state=101)"
      ],
      "execution_count": null,
      "outputs": []
    },
    {
      "cell_type": "code",
      "metadata": {
        "colab": {
          "base_uri": "https://localhost:8080/"
        },
        "id": "4PAM5FogP7oW",
        "outputId": "b251a445-aee3-4944-e39e-cabe3880fcd3"
      },
      "source": [
        "X_train.shape, y_train.shape, X_cv.shape, y_cv.shape"
      ],
      "execution_count": null,
      "outputs": [
        {
          "output_type": "execute_result",
          "data": {
            "text/plain": [
              "((4182, 28), (4182,), (1394, 28), (1394,))"
            ]
          },
          "metadata": {
            "tags": []
          },
          "execution_count": 88
        }
      ]
    },
    {
      "cell_type": "code",
      "metadata": {
        "id": "yi8GCTfRP-CM"
      },
      "source": [
        "from sklearn.metrics import mean_squared_log_error\n",
        "from math import sqrt"
      ],
      "execution_count": null,
      "outputs": []
    },
    {
      "cell_type": "code",
      "metadata": {
        "colab": {
          "base_uri": "https://localhost:8080/"
        },
        "id": "FkLM2_IhQAD5",
        "outputId": "03c9eaf9-dc15-4abb-d695-e70707a6bc1b"
      },
      "source": [
        "import lightgbm as lgb\n",
        "train_data = lgb.Dataset(X_train, label=y_train)\n",
        "test_data = lgb.Dataset(X_cv, label=y_cv)\n",
        "\n",
        "param = {'objective': 'regression',\n",
        "         'boosting': 'gbdt',  \n",
        "         'metric': 'l2_root',\n",
        "         'learning_rate': 0.01, \n",
        "         'num_iterations': 1000,\n",
        "         'num_leaves': 69,\n",
        "         'max_depth': -1,\n",
        "         'min_data_in_leaf': 11,\n",
        "         'bagging_fraction': 0.90,\n",
        "         'bagging_freq': 1,\n",
        "         'bagging_seed': 3,\n",
        "         'feature_fraction': 0.90,\n",
        "         'feature_fraction_seed': 2,\n",
        "         'early_stopping_round': 200,\n",
        "         'max_bin': 500\n",
        "         }\n",
        "\n",
        "lgbm = lgb.train(params=param, verbose_eval=100, train_set=train_data, valid_sets=[test_data])\n",
        "\n",
        "y_pred_lgbm = lgbm.predict(X_cv)\n",
        "print('RMSLE:', sqrt(mean_squared_log_error(np.expm1(y_cv), np.expm1(y_pred_lgbm))))"
      ],
      "execution_count": null,
      "outputs": [
        {
          "output_type": "stream",
          "text": [
            "/usr/local/lib/python3.6/dist-packages/lightgbm/engine.py:118: UserWarning: Found `num_iterations` in params. Will use it instead of argument\n",
            "  warnings.warn(\"Found `{}` in params. Will use it instead of argument\".format(alias))\n",
            "/usr/local/lib/python3.6/dist-packages/lightgbm/engine.py:123: UserWarning: Found `early_stopping_round` in params. Will use it instead of argument\n",
            "  warnings.warn(\"Found `{}` in params. Will use it instead of argument\".format(alias))\n"
          ],
          "name": "stderr"
        },
        {
          "output_type": "stream",
          "text": [
            "Training until validation scores don't improve for 200 rounds.\n",
            "[100]\tvalid_0's rmse: 0.371353\n",
            "[200]\tvalid_0's rmse: 0.231767\n",
            "[300]\tvalid_0's rmse: 0.202127\n",
            "[400]\tvalid_0's rmse: 0.197151\n",
            "[500]\tvalid_0's rmse: 0.196694\n",
            "[600]\tvalid_0's rmse: 0.196194\n",
            "[700]\tvalid_0's rmse: 0.196082\n",
            "[800]\tvalid_0's rmse: 0.196497\n",
            "Early stopping, best iteration is:\n",
            "[676]\tvalid_0's rmse: 0.196007\n",
            "RMSLE: 0.19600657333463575\n"
          ],
          "name": "stdout"
        }
      ]
    },
    {
      "cell_type": "code",
      "metadata": {
        "colab": {
          "base_uri": "https://localhost:8080/",
          "height": 729
        },
        "id": "tnQf0KbqQGfQ",
        "outputId": "8216814c-08d8-4252-86ee-34c9a03db0a7"
      },
      "source": [
        "import seaborn as sns\n",
        "feature_imp = pd.DataFrame(sorted(zip(lgbm.feature_importance(), X.columns), reverse=True)[:50], \n",
        "                           columns=['Value','Feature'])\n",
        "plt.figure(figsize=(12, 10))\n",
        "sns.barplot(x=\"Value\", y=\"Feature\", data=feature_imp.sort_values(by=\"Value\", ascending=False))\n",
        "plt.title('LightGBM Features')\n",
        "plt.tight_layout()\n",
        "plt.show()"
      ],
      "execution_count": null,
      "outputs": [
        {
          "output_type": "display_data",
          "data": {
            "image/png": "[encoded data removed]",
            "text/plain": [
              "<Figure size 864x720 with 1 Axes>"
            ]
          },
          "metadata": {
            "tags": [],
            "needs_background": "light"
          }
        }
      ]
    },
    {
      "cell_type": "code",
      "metadata": {
        "id": "QUbCfwqoQ-Ou"
      },
      "source": [
        "Xtest = test_df"
      ],
      "execution_count": null,
      "outputs": []
    },
    {
      "cell_type": "code",
      "metadata": {
        "colab": {
          "base_uri": "https://localhost:8080/"
        },
        "id": "S_Qs1jp-RHG0",
        "outputId": "612dd4cd-3cbb-4739-f6fd-eed23d4bbf72"
      },
      "source": [
        "from sklearn.model_selection import KFold\n",
        "from lightgbm import LGBMRegressor\n",
        "\n",
        "errlgb = []\n",
        "y_pred_totlgb = []\n",
        "\n",
        "fold = KFold(n_splits=10, shuffle=True, random_state=101)\n",
        "\n",
        "for train_index, test_index in fold.split(X):\n",
        "    X_train, X_test = X.loc[train_index], X.loc[test_index]\n",
        "    y_train, y_test = y[train_index], y[test_index]\n",
        "\n",
        "    lgbm = LGBMRegressor(**param)\n",
        "    lgbm.fit(X_train, y_train, eval_set=[(X_test, y_test)], verbose=0, early_stopping_rounds=200)\n",
        "\n",
        "    y_pred_lgbm = lgbm.predict(X_test)\n",
        "    print(\"RMSLE LGBM: \", sqrt(mean_squared_log_error(np.exp(y_test), np.exp(y_pred_lgbm))))\n",
        "\n",
        "    errlgb.append(sqrt(mean_squared_log_error(np.exp(y_test), np.exp(y_pred_lgbm))))\n",
        "    p = lgbm.predict(Xtest)\n",
        "    y_pred_totlgb.append(p)"
      ],
      "execution_count": null,
      "outputs": [
        {
          "output_type": "stream",
          "text": [
            "/usr/local/lib/python3.6/dist-packages/lightgbm/engine.py:118: UserWarning: Found `num_iterations` in params. Will use it instead of argument\n",
            "  warnings.warn(\"Found `{}` in params. Will use it instead of argument\".format(alias))\n",
            "/usr/local/lib/python3.6/dist-packages/lightgbm/engine.py:123: UserWarning: Found `early_stopping_round` in params. Will use it instead of argument\n",
            "  warnings.warn(\"Found `{}` in params. Will use it instead of argument\".format(alias))\n"
          ],
          "name": "stderr"
        },
        {
          "output_type": "stream",
          "text": [
            "RMSLE LGBM:  0.1637096293455074\n"
          ],
          "name": "stdout"
        },
        {
          "output_type": "stream",
          "text": [
            "/usr/local/lib/python3.6/dist-packages/lightgbm/engine.py:118: UserWarning: Found `num_iterations` in params. Will use it instead of argument\n",
            "  warnings.warn(\"Found `{}` in params. Will use it instead of argument\".format(alias))\n",
            "/usr/local/lib/python3.6/dist-packages/lightgbm/engine.py:123: UserWarning: Found `early_stopping_round` in params. Will use it instead of argument\n",
            "  warnings.warn(\"Found `{}` in params. Will use it instead of argument\".format(alias))\n"
          ],
          "name": "stderr"
        },
        {
          "output_type": "stream",
          "text": [
            "RMSLE LGBM:  0.23420601154079226\n"
          ],
          "name": "stdout"
        },
        {
          "output_type": "stream",
          "text": [
            "/usr/local/lib/python3.6/dist-packages/lightgbm/engine.py:118: UserWarning: Found `num_iterations` in params. Will use it instead of argument\n",
            "  warnings.warn(\"Found `{}` in params. Will use it instead of argument\".format(alias))\n",
            "/usr/local/lib/python3.6/dist-packages/lightgbm/engine.py:123: UserWarning: Found `early_stopping_round` in params. Will use it instead of argument\n",
            "  warnings.warn(\"Found `{}` in params. Will use it instead of argument\".format(alias))\n"
          ],
          "name": "stderr"
        },
        {
          "output_type": "stream",
          "text": [
            "RMSLE LGBM:  0.12126790878384781\n"
          ],
          "name": "stdout"
        },
        {
          "output_type": "stream",
          "text": [
            "/usr/local/lib/python3.6/dist-packages/lightgbm/engine.py:118: UserWarning: Found `num_iterations` in params. Will use it instead of argument\n",
            "  warnings.warn(\"Found `{}` in params. Will use it instead of argument\".format(alias))\n",
            "/usr/local/lib/python3.6/dist-packages/lightgbm/engine.py:123: UserWarning: Found `early_stopping_round` in params. Will use it instead of argument\n",
            "  warnings.warn(\"Found `{}` in params. Will use it instead of argument\".format(alias))\n"
          ],
          "name": "stderr"
        },
        {
          "output_type": "stream",
          "text": [
            "RMSLE LGBM:  0.1311375869774363\n"
          ],
          "name": "stdout"
        },
        {
          "output_type": "stream",
          "text": [
            "/usr/local/lib/python3.6/dist-packages/lightgbm/engine.py:118: UserWarning: Found `num_iterations` in params. Will use it instead of argument\n",
            "  warnings.warn(\"Found `{}` in params. Will use it instead of argument\".format(alias))\n",
            "/usr/local/lib/python3.6/dist-packages/lightgbm/engine.py:123: UserWarning: Found `early_stopping_round` in params. Will use it instead of argument\n",
            "  warnings.warn(\"Found `{}` in params. Will use it instead of argument\".format(alias))\n"
          ],
          "name": "stderr"
        },
        {
          "output_type": "stream",
          "text": [
            "RMSLE LGBM:  0.11228321467800882\n"
          ],
          "name": "stdout"
        },
        {
          "output_type": "stream",
          "text": [
            "/usr/local/lib/python3.6/dist-packages/lightgbm/engine.py:118: UserWarning: Found `num_iterations` in params. Will use it instead of argument\n",
            "  warnings.warn(\"Found `{}` in params. Will use it instead of argument\".format(alias))\n",
            "/usr/local/lib/python3.6/dist-packages/lightgbm/engine.py:123: UserWarning: Found `early_stopping_round` in params. Will use it instead of argument\n",
            "  warnings.warn(\"Found `{}` in params. Will use it instead of argument\".format(alias))\n"
          ],
          "name": "stderr"
        },
        {
          "output_type": "stream",
          "text": [
            "RMSLE LGBM:  0.15215528112740911\n"
          ],
          "name": "stdout"
        },
        {
          "output_type": "stream",
          "text": [
            "/usr/local/lib/python3.6/dist-packages/lightgbm/engine.py:118: UserWarning: Found `num_iterations` in params. Will use it instead of argument\n",
            "  warnings.warn(\"Found `{}` in params. Will use it instead of argument\".format(alias))\n",
            "/usr/local/lib/python3.6/dist-packages/lightgbm/engine.py:123: UserWarning: Found `early_stopping_round` in params. Will use it instead of argument\n",
            "  warnings.warn(\"Found `{}` in params. Will use it instead of argument\".format(alias))\n"
          ],
          "name": "stderr"
        },
        {
          "output_type": "stream",
          "text": [
            "RMSLE LGBM:  0.0807599555824804\n"
          ],
          "name": "stdout"
        },
        {
          "output_type": "stream",
          "text": [
            "/usr/local/lib/python3.6/dist-packages/lightgbm/engine.py:118: UserWarning: Found `num_iterations` in params. Will use it instead of argument\n",
            "  warnings.warn(\"Found `{}` in params. Will use it instead of argument\".format(alias))\n",
            "/usr/local/lib/python3.6/dist-packages/lightgbm/engine.py:123: UserWarning: Found `early_stopping_round` in params. Will use it instead of argument\n",
            "  warnings.warn(\"Found `{}` in params. Will use it instead of argument\".format(alias))\n"
          ],
          "name": "stderr"
        },
        {
          "output_type": "stream",
          "text": [
            "RMSLE LGBM:  0.31279889644665904\n"
          ],
          "name": "stdout"
        },
        {
          "output_type": "stream",
          "text": [
            "/usr/local/lib/python3.6/dist-packages/lightgbm/engine.py:118: UserWarning: Found `num_iterations` in params. Will use it instead of argument\n",
            "  warnings.warn(\"Found `{}` in params. Will use it instead of argument\".format(alias))\n",
            "/usr/local/lib/python3.6/dist-packages/lightgbm/engine.py:123: UserWarning: Found `early_stopping_round` in params. Will use it instead of argument\n",
            "  warnings.warn(\"Found `{}` in params. Will use it instead of argument\".format(alias))\n"
          ],
          "name": "stderr"
        },
        {
          "output_type": "stream",
          "text": [
            "RMSLE LGBM:  0.09495004155760352\n"
          ],
          "name": "stdout"
        },
        {
          "output_type": "stream",
          "text": [
            "/usr/local/lib/python3.6/dist-packages/lightgbm/engine.py:118: UserWarning: Found `num_iterations` in params. Will use it instead of argument\n",
            "  warnings.warn(\"Found `{}` in params. Will use it instead of argument\".format(alias))\n",
            "/usr/local/lib/python3.6/dist-packages/lightgbm/engine.py:123: UserWarning: Found `early_stopping_round` in params. Will use it instead of argument\n",
            "  warnings.warn(\"Found `{}` in params. Will use it instead of argument\".format(alias))\n"
          ],
          "name": "stderr"
        },
        {
          "output_type": "stream",
          "text": [
            "RMSLE LGBM:  0.17878980895464794\n"
          ],
          "name": "stdout"
        }
      ]
    },
    {
      "cell_type": "code",
      "metadata": {
        "colab": {
          "base_uri": "https://localhost:8080/"
        },
        "id": "2LeP737mXWOn",
        "outputId": "d0c17f55-edd4-4815-e563-9a1c3eac1c45"
      },
      "source": [
        "np.mean(errlgb,0)"
      ],
      "execution_count": null,
      "outputs": [
        {
          "output_type": "execute_result",
          "data": {
            "text/plain": [
              "0.15820583349943926"
            ]
          },
          "metadata": {
            "tags": []
          },
          "execution_count": 94
        }
      ]
    },
    {
      "cell_type": "code",
      "metadata": {
        "colab": {
          "base_uri": "https://localhost:8080/"
        },
        "id": "luN-4QiHXeW1",
        "outputId": "d549cc02-19a9-496f-9e1b-706bfd71950a"
      },
      "source": [
        "lgbm_final = np.expm1(np.mean(y_pred_totlgb,0))\n",
        "lgbm_final"
      ],
      "execution_count": null,
      "outputs": [
        {
          "output_type": "execute_result",
          "data": {
            "text/plain": [
              "array([3209.49018639, 1861.56080241, 9753.61974801, ..., 5996.34196103,\n",
              "       3448.17751978, 1054.47946981])"
            ]
          },
          "metadata": {
            "tags": []
          },
          "execution_count": 95
        }
      ]
    },
    {
      "cell_type": "code",
      "metadata": {
        "colab": {
          "base_uri": "https://localhost:8080/"
        },
        "id": "o1TJkeTuXfAs",
        "outputId": "8e40314f-96d9-48b5-f7f7-1719074dec36"
      },
      "source": [
        "submission = pd.DataFrame({\n",
        "        \"Product_id\": re,\n",
        "        \"Selling_Price\": lgbm_final\n",
        "    })\n",
        "submission.to_csv('./r22.csv', index=False)\n",
        "print(submission)"
      ],
      "execution_count": null,
      "outputs": [
        {
          "output_type": "stream",
          "text": [
            "            Product_id  Selling_Price\n",
            "0     SCHE4YSTDVPVZVXW    3209.490186\n",
            "1     ACCEGCATKHNRXUHW    1861.560802\n",
            "2     NKCE6GJ5XVJDXNNZ    9753.619748\n",
            "3     NKCEB8BK3ZXDHDHM    9354.424627\n",
            "4     TOPEFDXSAHRNPF94    5450.062733\n",
            "...                ...            ...\n",
            "3425  BBAE9K7BXFUTDNBK    3982.539259\n",
            "3426  RTRDYPA4PJHCJCGF    8917.938168\n",
            "3427  TUNE8FWQBS7TVVT7    5996.341961\n",
            "3428  NKCEGMUABCRGUZPE    3448.177520\n",
            "3429  RNGE7M92KAQWUBCS    1054.479470\n",
            "\n",
            "[3430 rows x 2 columns]\n"
          ],
          "name": "stdout"
        }
      ]
    },
    {
      "cell_type": "markdown",
      "metadata": {
        "id": "FmtmSd66MfEg"
      },
      "source": [
        "# gb"
      ]
    },
    {
      "cell_type": "code",
      "metadata": {
        "id": "hvs5flHeONuC"
      },
      "source": [
        "X = train_df.drop(labels=['Selling_Price'], axis=1)\n",
        "y = train_df['Selling_Price'].values\n",
        "\n",
        "from sklearn.model_selection import train_test_split\n",
        "X_train, X_cv, y_train, y_cv = train_test_split(X, y, test_size=0.25, random_state=101)"
      ],
      "execution_count": null,
      "outputs": []
    },
    {
      "cell_type": "code",
      "metadata": {
        "colab": {
          "base_uri": "https://localhost:8080/"
        },
        "id": "ysQHeNQfRXF9",
        "outputId": "369759f7-0558-4a67-8c2d-af4cfef7e827"
      },
      "source": [
        "from sklearn.ensemble import GradientBoostingRegressor\n",
        "gb = GradientBoostingRegressor(verbose=1, learning_rate=0.1, n_estimators=500, random_state=101, subsample=0.8,min_samples_split=100,min_samples_leaf=50,max_depth=8,max_features='sqrt')\n",
        "gb.fit(X_train, y_train)\n",
        "y_pred = gb.predict(X_cv)\n",
        "print('RMSE', sqrt(mean_squared_log_error(np.expm1(y_cv), np.expm1(y_pred))))"
      ],
      "execution_count": null,
      "outputs": [
        {
          "output_type": "stream",
          "text": [
            "      Iter       Train Loss      OOB Improve   Remaining Time \n",
            "         1           0.6345           0.0945            4.58s\n",
            "         2           0.5762           0.0573            4.32s\n",
            "         3           0.4758           0.0840            4.28s\n",
            "         4           0.4358           0.0507            4.22s\n",
            "         5           0.3688           0.0685            4.20s\n",
            "         6           0.3174           0.0572            4.20s\n",
            "         7           0.2939           0.0264            4.13s\n",
            "         8           0.2476           0.0385            4.10s\n",
            "         9           0.2172           0.0372            4.13s\n",
            "        10           0.1973           0.0250            4.12s\n",
            "        20           0.0659           0.0074            3.84s\n",
            "        30           0.0399           0.0010            3.79s\n",
            "        40           0.0313           0.0002            3.70s\n",
            "        50           0.0157           0.0002            3.67s\n",
            "        60           0.0156          -0.0000            3.61s\n",
            "        70           0.0218          -0.0000            3.54s\n",
            "        80           0.0235           0.0001            3.43s\n",
            "        90           0.0235          -0.0000            3.36s\n",
            "       100           0.0226          -0.0000            3.28s\n",
            "       200           0.0151          -0.0000            2.42s\n",
            "       300           0.0107          -0.0000            1.61s\n",
            "       400           0.0069          -0.0000            0.80s\n",
            "       500           0.0059          -0.0000            0.00s\n",
            "RMSE 0.1198326982934024\n"
          ],
          "name": "stdout"
        }
      ]
    },
    {
      "cell_type": "code",
      "metadata": {
        "colab": {
          "base_uri": "https://localhost:8080/",
          "height": 1000
        },
        "id": "fIfyMZBuzChT",
        "outputId": "fae535e6-8c64-43f6-df4e-7764ddb45b6c"
      },
      "source": [
        "import seaborn as sns\n",
        "feature_imp = pd.DataFrame(sorted(zip(gb.feature_importances_, X.columns), reverse=True)[:50], \n",
        "                           columns=['Value','Feature'])\n",
        "plt.figure(figsize=(15,15))\n",
        "sns.barplot(x=\"Value\", y=\"Feature\", data=feature_imp.sort_values(by=\"Value\", ascending=False))\n",
        "plt.title('Catboost Features')\n",
        "plt.tight_layout()\n",
        "plt.show()"
      ],
      "execution_count": null,
      "outputs": [
        {
          "output_type": "display_data",
          "data": {
            "image/png": "[encoded data removed]",
            "text/plain": [
              "<Figure size 1080x1080 with 1 Axes>"
            ]
          },
          "metadata": {
            "tags": [],
            "needs_background": "light"
          }
        }
      ]
    },
    {
      "cell_type": "code",
      "metadata": {
        "id": "dYSiA_xIUaCZ"
      },
      "source": [
        "Xtest = test_df"
      ],
      "execution_count": null,
      "outputs": []
    },
    {
      "cell_type": "code",
      "metadata": {
        "colab": {
          "base_uri": "https://localhost:8080/"
        },
        "id": "YDGR2HEbUe4T",
        "outputId": "bd2e48af-b664-4630-ff02-c491cfc89cdb"
      },
      "source": [
        "\n",
        "from sklearn.model_selection import KFold\n",
        "\n",
        "errgb = []\n",
        "y_pred_totgb = []\n",
        "\n",
        "fold = KFold(n_splits=4, shuffle=True, random_state=101)\n",
        "\n",
        "for train_index, test_index in fold.split(X):\n",
        "    X_train, X_test = X.loc[train_index], X.loc[test_index]\n",
        "    y_train, y_test = y[train_index], y[test_index]\n",
        "             \n",
        "    #gb = GradientBoostingRegressor(learning_rate=0.3, n_estimators=1000, random_state=42, subsample=0.8)\n",
        "    gb = GradientBoostingRegressor(learning_rate=0.1, n_estimators=500, random_state=101, subsample=0.8,min_samples_split=100,min_samples_leaf=50,max_depth=8,max_features='sqrt')\n",
        "    gb.fit(X_train, y_train)\n",
        "    y_pred = gb.predict(X_test)\n",
        "\n",
        "    print(\"RMSLE LGBM: \", sqrt(mean_squared_log_error(np.exp(y_test), np.exp(y_pred))))\n",
        "\n",
        "    errgb.append(sqrt(mean_squared_log_error(np.exp(y_test), np.exp(y_pred))))\n",
        "    p = gb.predict(Xtest)\n",
        "    y_pred_totgb.append(p)"
      ],
      "execution_count": null,
      "outputs": [
        {
          "output_type": "stream",
          "text": [
            "RMSLE LGBM:  0.11933756198077228\n",
            "RMSLE LGBM:  0.14020514021167954\n",
            "RMSLE LGBM:  0.10801805211174526\n",
            "RMSLE LGBM:  0.23492009956651766\n"
          ],
          "name": "stdout"
        }
      ]
    },
    {
      "cell_type": "code",
      "metadata": {
        "colab": {
          "base_uri": "https://localhost:8080/"
        },
        "id": "1Bspy02tIJxD",
        "outputId": "3c55f5dc-325e-45a6-f488-8caaebf8b4b8"
      },
      "source": [
        "np.mean(errgb,0)"
      ],
      "execution_count": null,
      "outputs": [
        {
          "output_type": "execute_result",
          "data": {
            "text/plain": [
              "0.15062021346767868"
            ]
          },
          "metadata": {
            "tags": []
          },
          "execution_count": 95
        }
      ]
    },
    {
      "cell_type": "code",
      "metadata": {
        "colab": {
          "base_uri": "https://localhost:8080/"
        },
        "id": "O5LISs4OVGbN",
        "outputId": "9cfd74f7-be33-4047-d90a-bacbd6d8b9dd"
      },
      "source": [
        "gb_fib = np.expm1(np.mean(y_pred_totgb,0))\n",
        "gb_fib"
      ],
      "execution_count": null,
      "outputs": [
        {
          "output_type": "execute_result",
          "data": {
            "text/plain": [
              "array([ 3150.97135777,  1831.77488   , 10243.50900253, ...,\n",
              "        6148.0754939 ,  3351.81058395,  1194.87118625])"
            ]
          },
          "metadata": {
            "tags": []
          },
          "execution_count": 96
        }
      ]
    },
    {
      "cell_type": "code",
      "metadata": {
        "colab": {
          "base_uri": "https://localhost:8080/"
        },
        "id": "KZ6FYRpkdN10",
        "outputId": "473ba85a-fc78-4052-9cdc-dd9394026160"
      },
      "source": [
        "submission = pd.DataFrame({\n",
        "        \"Product_id\": re,\n",
        "        \"Selling_Price\": (gb_fib*0.1+lgbm_final*0.9)\n",
        "    })\n",
        "submission.to_csv('./r005.csv', index=False)\n",
        "print(submission)"
      ],
      "execution_count": null,
      "outputs": [
        {
          "output_type": "stream",
          "text": [
            "            Product_id  Selling_Price\n",
            "0     SCHE4YSTDVPVZVXW    3256.229493\n",
            "1     ACCEGCATKHNRXUHW    1912.888452\n",
            "2     NKCE6GJ5XVJDXNNZ   11250.955888\n",
            "3     NKCEB8BK3ZXDHDHM    9344.256601\n",
            "4     TOPEFDXSAHRNPF94    5349.148450\n",
            "...                ...            ...\n",
            "3425  BBAE9K7BXFUTDNBK    3987.143833\n",
            "3426  RTRDYPA4PJHCJCGF    9305.177833\n",
            "3427  TUNE8FWQBS7TVVT7    6080.273520\n",
            "3428  NKCEGMUABCRGUZPE    3534.018031\n",
            "3429  RNGE7M92KAQWUBCS    1041.741374\n",
            "\n",
            "[3430 rows x 2 columns]\n"
          ],
          "name": "stdout"
        }
      ]
    },
    {
      "cell_type": "code",
      "metadata": {
        "colab": {
          "base_uri": "https://localhost:8080/",
          "height": 16
        },
        "id": "wT0hHQApdWLb",
        "outputId": "55388e95-3b28-4b45-ab20-f9f6614618f1"
      },
      "source": [
        "from google.colab import files\n",
        "files.download('r8.csv')"
      ],
      "execution_count": null,
      "outputs": [
        {
          "output_type": "display_data",
          "data": {
            "application/javascript": [
              "\n",
              "    async function download(id, filename, size) {\n",
              "      if (!google.colab.kernel.accessAllowed) {\n",
              "        return;\n",
              "      }\n",
              "      const div = document.createElement('div');\n",
              "      const label = document.createElement('label');\n",
              "      label.textContent = `Downloading \"${filename}\": `;\n",
              "      div.appendChild(label);\n",
              "      const progress = document.createElement('progress');\n",
              "      progress.max = size;\n",
              "      div.appendChild(progress);\n",
              "      document.body.appendChild(div);\n",
              "\n",
              "      const buffers = [];\n",
              "      let downloaded = 0;\n",
              "\n",
              "      const channel = await google.colab.kernel.comms.open(id);\n",
              "      // Send a message to notify the kernel that we're ready.\n",
              "      channel.send({})\n",
              "\n",
              "      for await (const message of channel.messages) {\n",
              "        // Send a message to notify the kernel that we're ready.\n",
              "        channel.send({})\n",
              "        if (message.buffers) {\n",
              "          for (const buffer of message.buffers) {\n",
              "            buffers.push(buffer);\n",
              "            downloaded += buffer.byteLength;\n",
              "            progress.value = downloaded;\n",
              "          }\n",
              "        }\n",
              "      }\n",
              "      const blob = new Blob(buffers, {type: 'application/binary'});\n",
              "      const a = document.createElement('a');\n",
              "      a.href = window.URL.createObjectURL(blob);\n",
              "      a.download = filename;\n",
              "      div.appendChild(a);\n",
              "      a.click();\n",
              "      div.remove();\n",
              "    }\n",
              "  "
            ],
            "text/plain": [
              "<IPython.core.display.Javascript object>"
            ]
          },
          "metadata": {
            "tags": []
          }
        },
        {
          "output_type": "display_data",
          "data": {
            "application/javascript": [
              "download(\"download_8475e3b2-89ca-4a6a-ac02-1bef7bcb7093\", \"r8.csv\", 120903)"
            ],
            "text/plain": [
              "<IPython.core.display.Javascript object>"
            ]
          },
          "metadata": {
            "tags": []
          }
        }
      ]
    }
  ]
}