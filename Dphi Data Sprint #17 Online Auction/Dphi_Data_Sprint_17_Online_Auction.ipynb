{
  "nbformat": 4,
  "nbformat_minor": 0,
  "metadata": {
    "colab": {
      "name": "Dphi Data Sprint #17: Online Auction.ipynb",
      "provenance": [],
      "collapsed_sections": []
    },
    "kernelspec": {
      "name": "python3",
      "display_name": "Python 3"
    }
  },
  "cells": [
    {
      "cell_type": "code",
      "metadata": {
        "colab": {
          "base_uri": "https://localhost:8080/"
        },
        "id": "RgX80qMtAHqU",
        "outputId": "26c9e907-d000-4eb5-8cf3-7c9c6f53ef79"
      },
      "source": [
        "!wget https://raw.githubusercontent.com/dphi-official/Datasets/master/auction_data/train_set_label.csv\r\n",
        "!wget https://raw.githubusercontent.com/dphi-official/Datasets/master/auction_data/test_set_label.csv"
      ],
      "execution_count": null,
      "outputs": [
        {
          "output_type": "stream",
          "text": [
            "--2020-12-14 07:31:50--  https://raw.githubusercontent.com/dphi-official/Datasets/master/auction_data/train_set_label.csv\n",
            "Resolving raw.githubusercontent.com (raw.githubusercontent.com)... 151.101.0.133, 151.101.64.133, 151.101.128.133, ...\n",
            "Connecting to raw.githubusercontent.com (raw.githubusercontent.com)|151.101.0.133|:443... connected.\n",
            "HTTP request sent, awaiting response... 200 OK\n",
            "Length: 68475 (67K) [text/plain]\n",
            "Saving to: ‘train_set_label.csv’\n",
            "\n",
            "train_set_label.csv 100%[===================>]  66.87K  --.-KB/s    in 0.007s  \n",
            "\n",
            "2020-12-14 07:31:50 (8.74 MB/s) - ‘train_set_label.csv’ saved [68475/68475]\n",
            "\n",
            "--2020-12-14 07:31:50--  https://raw.githubusercontent.com/dphi-official/Datasets/master/auction_data/test_set_label.csv\n",
            "Resolving raw.githubusercontent.com (raw.githubusercontent.com)... 151.101.0.133, 151.101.64.133, 151.101.128.133, ...\n",
            "Connecting to raw.githubusercontent.com (raw.githubusercontent.com)|151.101.0.133|:443... connected.\n",
            "HTTP request sent, awaiting response... 200 OK\n",
            "Length: 16931 (17K) [text/plain]\n",
            "Saving to: ‘test_set_label.csv’\n",
            "\n",
            "test_set_label.csv  100%[===================>]  16.53K  --.-KB/s    in 0s      \n",
            "\n",
            "2020-12-14 07:31:50 (112 MB/s) - ‘test_set_label.csv’ saved [16931/16931]\n",
            "\n"
          ],
          "name": "stdout"
        }
      ]
    },
    {
      "cell_type": "code",
      "metadata": {
        "id": "_2HbfGbjANgo"
      },
      "source": [
        "import pandas as pd\r\n",
        "import numpy as np\r\n",
        "import matplotlib.pyplot as plt\r\n",
        "%matplotlib inline\r\n",
        "import warnings\r\n",
        "warnings.simplefilter(action='ignore', category=FutureWarning)"
      ],
      "execution_count": null,
      "outputs": []
    },
    {
      "cell_type": "code",
      "metadata": {
        "id": "n79PrHkFti56"
      },
      "source": [
        "train = pd.read_csv('train_set_label.csv')\n",
        "test = pd.read_csv('test_set_label.csv')\n",
        "#re=test['auctionid']"
      ],
      "execution_count": null,
      "outputs": []
    },
    {
      "cell_type": "code",
      "metadata": {
        "colab": {
          "base_uri": "https://localhost:8080/",
          "height": 197
        },
        "id": "W8kiWT-hN1mD",
        "outputId": "4b8264eb-8c55-44e2-de33-6e36527c9643"
      },
      "source": [
        "train.head(5)"
      ],
      "execution_count": null,
      "outputs": [
        {
          "output_type": "execute_result",
          "data": {
            "text/html": [
              "<div>\n",
              "<style scoped>\n",
              "    .dataframe tbody tr th:only-of-type {\n",
              "        vertical-align: middle;\n",
              "    }\n",
              "\n",
              "    .dataframe tbody tr th {\n",
              "        vertical-align: top;\n",
              "    }\n",
              "\n",
              "    .dataframe thead th {\n",
              "        text-align: right;\n",
              "    }\n",
              "</style>\n",
              "<table border=\"1\" class=\"dataframe\">\n",
              "  <thead>\n",
              "    <tr style=\"text-align: right;\">\n",
              "      <th></th>\n",
              "      <th>auctionid</th>\n",
              "      <th>bid</th>\n",
              "      <th>bidtime</th>\n",
              "      <th>bidder</th>\n",
              "      <th>bidderrate</th>\n",
              "      <th>openbid</th>\n",
              "      <th>price</th>\n",
              "    </tr>\n",
              "  </thead>\n",
              "  <tbody>\n",
              "    <tr>\n",
              "      <th>0</th>\n",
              "      <td>1644594033</td>\n",
              "      <td>493.0</td>\n",
              "      <td>6.999456</td>\n",
              "      <td>boraborabora</td>\n",
              "      <td>67</td>\n",
              "      <td>9.99</td>\n",
              "      <td>498.00</td>\n",
              "    </tr>\n",
              "    <tr>\n",
              "      <th>1</th>\n",
              "      <td>1639309309</td>\n",
              "      <td>30.0</td>\n",
              "      <td>1.669618</td>\n",
              "      <td>aclbjc</td>\n",
              "      <td>0</td>\n",
              "      <td>1.00</td>\n",
              "      <td>374.99</td>\n",
              "    </tr>\n",
              "    <tr>\n",
              "      <th>2</th>\n",
              "      <td>1644109746</td>\n",
              "      <td>3103.0</td>\n",
              "      <td>6.917986</td>\n",
              "      <td>nelsoncpm</td>\n",
              "      <td>7</td>\n",
              "      <td>1.00</td>\n",
              "      <td>3103.00</td>\n",
              "    </tr>\n",
              "    <tr>\n",
              "      <th>3</th>\n",
              "      <td>1649858595</td>\n",
              "      <td>175.0</td>\n",
              "      <td>3.107014</td>\n",
              "      <td>pialu9</td>\n",
              "      <td>4</td>\n",
              "      <td>7.99</td>\n",
              "      <td>202.50</td>\n",
              "    </tr>\n",
              "    <tr>\n",
              "      <th>4</th>\n",
              "      <td>1647846714</td>\n",
              "      <td>226.0</td>\n",
              "      <td>2.721319</td>\n",
              "      <td>geemeetee@aol.com</td>\n",
              "      <td>17</td>\n",
              "      <td>1.00</td>\n",
              "      <td>905.45</td>\n",
              "    </tr>\n",
              "  </tbody>\n",
              "</table>\n",
              "</div>"
            ],
            "text/plain": [
              "    auctionid     bid   bidtime  ... bidderrate  openbid    price\n",
              "0  1644594033   493.0  6.999456  ...         67     9.99   498.00\n",
              "1  1639309309    30.0  1.669618  ...          0     1.00   374.99\n",
              "2  1644109746  3103.0  6.917986  ...          7     1.00  3103.00\n",
              "3  1649858595   175.0  3.107014  ...          4     7.99   202.50\n",
              "4  1647846714   226.0  2.721319  ...         17     1.00   905.45\n",
              "\n",
              "[5 rows x 7 columns]"
            ]
          },
          "metadata": {
            "tags": []
          },
          "execution_count": 6
        }
      ]
    },
    {
      "cell_type": "code",
      "metadata": {
        "colab": {
          "base_uri": "https://localhost:8080/",
          "height": 197
        },
        "id": "7kirifXnN1lO",
        "outputId": "326bf1dc-4d8c-4180-fc66-e968e214b82f"
      },
      "source": [
        "test.head(5)"
      ],
      "execution_count": null,
      "outputs": [
        {
          "output_type": "execute_result",
          "data": {
            "text/html": [
              "<div>\n",
              "<style scoped>\n",
              "    .dataframe tbody tr th:only-of-type {\n",
              "        vertical-align: middle;\n",
              "    }\n",
              "\n",
              "    .dataframe tbody tr th {\n",
              "        vertical-align: top;\n",
              "    }\n",
              "\n",
              "    .dataframe thead th {\n",
              "        text-align: right;\n",
              "    }\n",
              "</style>\n",
              "<table border=\"1\" class=\"dataframe\">\n",
              "  <thead>\n",
              "    <tr style=\"text-align: right;\">\n",
              "      <th></th>\n",
              "      <th>auctionid</th>\n",
              "      <th>bid</th>\n",
              "      <th>bidtime</th>\n",
              "      <th>bidder</th>\n",
              "      <th>bidderrate</th>\n",
              "      <th>openbid</th>\n",
              "    </tr>\n",
              "  </thead>\n",
              "  <tbody>\n",
              "    <tr>\n",
              "      <th>0</th>\n",
              "      <td>1640550476</td>\n",
              "      <td>175.00</td>\n",
              "      <td>4.329410</td>\n",
              "      <td>simonho2001sg</td>\n",
              "      <td>8</td>\n",
              "      <td>1.0</td>\n",
              "    </tr>\n",
              "    <tr>\n",
              "      <th>1</th>\n",
              "      <td>1644343468</td>\n",
              "      <td>111.11</td>\n",
              "      <td>0.587164</td>\n",
              "      <td>tab999@msn.com</td>\n",
              "      <td>84</td>\n",
              "      <td>1.0</td>\n",
              "    </tr>\n",
              "    <tr>\n",
              "      <th>2</th>\n",
              "      <td>1639979107</td>\n",
              "      <td>103.50</td>\n",
              "      <td>6.999572</td>\n",
              "      <td>inyerdrms</td>\n",
              "      <td>2</td>\n",
              "      <td>5.0</td>\n",
              "    </tr>\n",
              "    <tr>\n",
              "      <th>3</th>\n",
              "      <td>1649718196</td>\n",
              "      <td>620.00</td>\n",
              "      <td>2.750775</td>\n",
              "      <td>kjr2306</td>\n",
              "      <td>24</td>\n",
              "      <td>1.0</td>\n",
              "    </tr>\n",
              "    <tr>\n",
              "      <th>4</th>\n",
              "      <td>1644077820</td>\n",
              "      <td>60.00</td>\n",
              "      <td>1.393611</td>\n",
              "      <td>chevysred</td>\n",
              "      <td>-1</td>\n",
              "      <td>1.0</td>\n",
              "    </tr>\n",
              "  </tbody>\n",
              "</table>\n",
              "</div>"
            ],
            "text/plain": [
              "    auctionid     bid   bidtime          bidder  bidderrate  openbid\n",
              "0  1640550476  175.00  4.329410   simonho2001sg           8      1.0\n",
              "1  1644343468  111.11  0.587164  tab999@msn.com          84      1.0\n",
              "2  1639979107  103.50  6.999572       inyerdrms           2      5.0\n",
              "3  1649718196  620.00  2.750775         kjr2306          24      1.0\n",
              "4  1644077820   60.00  1.393611       chevysred          -1      1.0"
            ]
          },
          "metadata": {
            "tags": []
          },
          "execution_count": 7
        }
      ]
    },
    {
      "cell_type": "code",
      "metadata": {
        "colab": {
          "base_uri": "https://localhost:8080/"
        },
        "id": "3OqcBoSIAl8_",
        "outputId": "2cc4ac27-3a86-4e53-d718-8ec16b1da07f"
      },
      "source": [
        "train.isnull().sum(),test.isnull().sum(),train.shape,test.shape,train.dtypes"
      ],
      "execution_count": null,
      "outputs": [
        {
          "output_type": "execute_result",
          "data": {
            "text/plain": [
              "(auctionid     0\n",
              " bid           0\n",
              " bidtime       0\n",
              " bidder        0\n",
              " bidderrate    0\n",
              " openbid       0\n",
              " price         0\n",
              " dtype: int64, auctionid     0\n",
              " bid           0\n",
              " bidtime       0\n",
              " bidder        0\n",
              " bidderrate    0\n",
              " openbid       0\n",
              " dtype: int64, (1213, 7), (337, 6), auctionid       int64\n",
              " bid           float64\n",
              " bidtime       float64\n",
              " bidder         object\n",
              " bidderrate      int64\n",
              " openbid       float64\n",
              " price         float64\n",
              " dtype: object)"
            ]
          },
          "metadata": {
            "tags": []
          },
          "execution_count": 8
        }
      ]
    },
    {
      "cell_type": "code",
      "metadata": {
        "id": "xKrJ8TbNICGm"
      },
      "source": [
        "df=pd.concat([train,test])"
      ],
      "execution_count": null,
      "outputs": []
    },
    {
      "cell_type": "code",
      "metadata": {
        "colab": {
          "base_uri": "https://localhost:8080/"
        },
        "id": "Ej5ZQBguPPsZ",
        "outputId": "195e17d3-9337-4ff6-e6f2-0efbdb3719b7"
      },
      "source": [
        "df.nunique(), df.isnull().sum(),df.dtypes"
      ],
      "execution_count": null,
      "outputs": [
        {
          "output_type": "execute_result",
          "data": {
            "text/plain": [
              "(auctionid       97\n",
              " bid            536\n",
              " bidtime       1318\n",
              " bidder         509\n",
              " bidderrate     137\n",
              " openbid         45\n",
              " price           86\n",
              " dtype: int64, auctionid       0\n",
              " bid             0\n",
              " bidtime         0\n",
              " bidder          0\n",
              " bidderrate      0\n",
              " openbid         0\n",
              " price         337\n",
              " dtype: int64, auctionid       int64\n",
              " bid           float64\n",
              " bidtime       float64\n",
              " bidder         object\n",
              " bidderrate      int64\n",
              " openbid       float64\n",
              " price         float64\n",
              " dtype: object)"
            ]
          },
          "metadata": {
            "tags": []
          },
          "execution_count": 10
        }
      ]
    },
    {
      "cell_type": "code",
      "metadata": {
        "id": "0l9WVufyCCGW"
      },
      "source": [
        "x=['bidder']\r\n",
        "for i in x:\r\n",
        "  from sklearn.preprocessing import LabelEncoder\r\n",
        "  le = LabelEncoder()\r\n",
        "  df[i] = le.fit_transform(df[i])"
      ],
      "execution_count": null,
      "outputs": []
    },
    {
      "cell_type": "code",
      "metadata": {
        "id": "yUasJh-gBcvz"
      },
      "source": [
        "train = df[df['price'].isnull()==False]\r\n",
        "test = df[df['price'].isnull()==True]\r\n",
        "del test['price']"
      ],
      "execution_count": null,
      "outputs": []
    },
    {
      "cell_type": "code",
      "metadata": {
        "id": "DxBdOjblBXBI"
      },
      "source": [
        "train_df=train.copy()\r\n",
        "test_df=test.copy()"
      ],
      "execution_count": null,
      "outputs": []
    },
    {
      "cell_type": "code",
      "metadata": {
        "id": "hXbBzB7jP2dj"
      },
      "source": [
        "X = train_df.drop(labels=['price'], axis=1)\n",
        "y = train_df['price'].values\n",
        "\n",
        "from sklearn.model_selection import train_test_split\n",
        "X_train, X_cv, y_train, y_cv = train_test_split(X, y, test_size=0.10, random_state=101)"
      ],
      "execution_count": null,
      "outputs": []
    },
    {
      "cell_type": "code",
      "metadata": {
        "colab": {
          "base_uri": "https://localhost:8080/"
        },
        "id": "4PAM5FogP7oW",
        "outputId": "1aa664c6-dbe7-46c6-8182-a23db0c2480d"
      },
      "source": [
        "X_train.shape, y_train.shape, X_cv.shape, y_cv.shape"
      ],
      "execution_count": null,
      "outputs": [
        {
          "output_type": "execute_result",
          "data": {
            "text/plain": [
              "((1091, 6), (1091,), (122, 6), (122,))"
            ]
          },
          "metadata": {
            "tags": []
          },
          "execution_count": 15
        }
      ]
    },
    {
      "cell_type": "code",
      "metadata": {
        "id": "yi8GCTfRP-CM"
      },
      "source": [
        "from sklearn.metrics import mean_squared_error\n",
        "from math import sqrt"
      ],
      "execution_count": null,
      "outputs": []
    },
    {
      "cell_type": "code",
      "metadata": {
        "colab": {
          "base_uri": "https://localhost:8080/"
        },
        "id": "FkLM2_IhQAD5",
        "outputId": "42314448-3e77-4bfb-a338-d5fbcc4b2949"
      },
      "source": [
        "import lightgbm as lgb\n",
        "train_data = lgb.Dataset(X_train, label=y_train)\n",
        "test_data = lgb.Dataset(X_cv, label=y_cv)\n",
        "\n",
        "param = {'objective': 'regression',\n",
        "         'boosting': 'gbdt',  \n",
        "         'metric': 'l2_root',\n",
        "         'learning_rate': 0.4, \n",
        "         'num_iterations': 3500,\n",
        "         'num_leaves': 69,\n",
        "         'max_depth': -1,\n",
        "         'min_data_in_leaf': 11,\n",
        "         'bagging_fraction': 0.90,\n",
        "         'bagging_freq': 1,\n",
        "         'bagging_seed': 3,\n",
        "         'feature_fraction': 0.90,\n",
        "         'feature_fraction_seed': 2,\n",
        "         'early_stopping_round': 200,\n",
        "         'max_bin': 500\n",
        "         }\n",
        "\n",
        "lgbm = lgb.train(params=param, verbose_eval=100, train_set=train_data, valid_sets=[test_data])\n",
        "\n",
        "y_pred_lgbm = lgbm.predict(X_cv)\n",
        "print('RMSLE:', sqrt(mean_squared_error(y_cv, y_pred_lgbm)))"
      ],
      "execution_count": null,
      "outputs": [
        {
          "output_type": "stream",
          "text": [
            "/usr/local/lib/python3.6/dist-packages/lightgbm/engine.py:118: UserWarning: Found `num_iterations` in params. Will use it instead of argument\n",
            "  warnings.warn(\"Found `{}` in params. Will use it instead of argument\".format(alias))\n",
            "/usr/local/lib/python3.6/dist-packages/lightgbm/engine.py:123: UserWarning: Found `early_stopping_round` in params. Will use it instead of argument\n",
            "  warnings.warn(\"Found `{}` in params. Will use it instead of argument\".format(alias))\n"
          ],
          "name": "stderr"
        },
        {
          "output_type": "stream",
          "text": [
            "Training until validation scores don't improve for 200 rounds.\n",
            "[100]\tvalid_0's rmse: 72.3579\n",
            "[200]\tvalid_0's rmse: 72.3225\n",
            "Early stopping, best iteration is:\n",
            "[88]\tvalid_0's rmse: 71.812\n",
            "RMSLE: 71.81202796627645\n"
          ],
          "name": "stdout"
        }
      ]
    },
    {
      "cell_type": "code",
      "metadata": {
        "colab": {
          "base_uri": "https://localhost:8080/",
          "height": 728
        },
        "id": "1jxmNd8qCciC",
        "outputId": "286987dc-c75f-48ca-93de-d705f2e8dc51"
      },
      "source": [
        "\r\n",
        "import seaborn as sns\r\n",
        "feature_imp = pd.DataFrame(sorted(zip(lgbm.feature_importance(), X.columns), reverse=True)[:50], \r\n",
        "                           columns=['Value','Feature'])\r\n",
        "plt.figure(figsize=(12, 10))\r\n",
        "sns.barplot(x=\"Value\", y=\"Feature\", data=feature_imp.sort_values(by=\"Value\", ascending=False))\r\n",
        "plt.title('LightGBM Features')\r\n",
        "plt.tight_layout()\r\n",
        "plt.show()"
      ],
      "execution_count": null,
      "outputs": [
        {
          "output_type": "display_data",
          "data": {
            "image/png": "[encoded data removed]",
            "text/plain": [
              "<Figure size 864x720 with 1 Axes>"
            ]
          },
          "metadata": {
            "tags": [],
            "needs_background": "light"
          }
        }
      ]
    },
    {
      "cell_type": "code",
      "metadata": {
        "id": "QUbCfwqoQ-Ou"
      },
      "source": [
        "Xtest = test_df"
      ],
      "execution_count": null,
      "outputs": []
    },
    {
      "cell_type": "code",
      "metadata": {
        "colab": {
          "base_uri": "https://localhost:8080/"
        },
        "id": "S_Qs1jp-RHG0",
        "outputId": "e3b67ea9-0aee-4f3c-bf73-784af5605fb4"
      },
      "source": [
        "from sklearn.model_selection import KFold\n",
        "from lightgbm import LGBMRegressor\n",
        "\n",
        "errlgb = []\n",
        "y_pred_totlgb = []\n",
        "\n",
        "fold = KFold(n_splits=4, shuffle=True, random_state=101)\n",
        "\n",
        "for train_index, test_index in fold.split(X):\n",
        "    X_train, X_test = X.loc[train_index], X.loc[test_index]\n",
        "    y_train, y_test = y[train_index], y[test_index]\n",
        "\n",
        "    lgbm = LGBMRegressor(**param)\n",
        "    lgbm.fit(X_train, y_train, eval_set=[(X_test, y_test)], verbose=0, early_stopping_rounds=200)\n",
        "\n",
        "    y_pred_lgbm = lgbm.predict(X_test)\n",
        "    print(\"RMSLE LGBM: \", sqrt(mean_squared_error(y_test, y_pred_lgbm)))\n",
        "\n",
        "    errlgb.append(sqrt(mean_squared_error(y_test,y_pred_lgbm)))\n",
        "    p = lgbm.predict(Xtest)\n",
        "    y_pred_totlgb.append(p)"
      ],
      "execution_count": null,
      "outputs": [
        {
          "output_type": "stream",
          "text": [
            "RMSLE LGBM:  146.87949836178268\n",
            "RMSLE LGBM:  211.9906007923924\n",
            "RMSLE LGBM:  147.356339406803\n",
            "RMSLE LGBM:  179.47935256911245\n"
          ],
          "name": "stdout"
        }
      ]
    },
    {
      "cell_type": "code",
      "metadata": {
        "colab": {
          "base_uri": "https://localhost:8080/"
        },
        "id": "2LeP737mXWOn",
        "outputId": "6849c3d2-8a01-4fce-c1b4-b822b1331cf9"
      },
      "source": [
        "np.mean(errlgb,0)"
      ],
      "execution_count": null,
      "outputs": [
        {
          "output_type": "execute_result",
          "data": {
            "text/plain": [
              "5.965099968965942"
            ]
          },
          "metadata": {
            "tags": []
          },
          "execution_count": 438
        }
      ]
    },
    {
      "cell_type": "code",
      "metadata": {
        "id": "luN-4QiHXeW1"
      },
      "source": [
        "lgbm_final = (np.mean(y_pred_totlgb,0))"
      ],
      "execution_count": null,
      "outputs": []
    },
    {
      "cell_type": "code",
      "metadata": {
        "colab": {
          "base_uri": "https://localhost:8080/"
        },
        "id": "o1TJkeTuXfAs",
        "outputId": "cb6cc538-6032-4d4c-eaf9-3bb3116e47c2"
      },
      "source": [
        "submission = pd.DataFrame({\n",
        "        \"prediction\":  lgbm_final\n",
        "    })\n",
        "submission.to_csv('./ddd.csv', index=False)\n",
        "print(submission)"
      ],
      "execution_count": null,
      "outputs": [
        {
          "output_type": "stream",
          "text": [
            "     prediction\n",
            "0      312.6913\n",
            "1     1125.4525\n",
            "2      116.9382\n",
            "3     1358.3800\n",
            "4      431.7028\n",
            "..          ...\n",
            "332    411.3302\n",
            "333    202.5654\n",
            "334    443.3837\n",
            "335    648.2007\n",
            "336    353.0741\n",
            "\n",
            "[337 rows x 1 columns]\n"
          ],
          "name": "stdout"
        }
      ]
    }
  ]
}