{
  "nbformat": 4,
  "nbformat_minor": 0,
  "metadata": {
    "colab": {
      "name": "Playstore App Downloads Prediction: Weekend Hackathon #16.ipynb",
      "provenance": [],
      "collapsed_sections": []
    },
    "kernelspec": {
      "name": "python3",
      "display_name": "Python 3"
    }
  },
  "cells": [
    {
      "cell_type": "code",
      "metadata": {
        "id": "uuue-V35SqVW",
        "colab_type": "code",
        "colab": {
          "base_uri": "https://localhost:8080/",
          "height": 201
        },
        "outputId": "7d72e444-6bd0-4b48-c53c-8b25263d2297"
      },
      "source": [
        "!wget https://machinehack-be.s3.amazonaws.com/playstore_app_downloads_prediction_weekend_hackathon_16/PlayStoreApps-ParticipantsData.zip"
      ],
      "execution_count": null,
      "outputs": [
        {
          "output_type": "stream",
          "text": [
            "--2020-08-16 20:54:14--  https://machinehack-be.s3.amazonaws.com/playstore_app_downloads_prediction_weekend_hackathon_16/PlayStoreApps-ParticipantsData.zip\n",
            "Resolving machinehack-be.s3.amazonaws.com (machinehack-be.s3.amazonaws.com)... 52.219.64.120\n",
            "Connecting to machinehack-be.s3.amazonaws.com (machinehack-be.s3.amazonaws.com)|52.219.64.120|:443... connected.\n",
            "HTTP request sent, awaiting response... 200 OK\n",
            "Length: 931277 (909K) [application/zip]\n",
            "Saving to: ‘PlayStoreApps-ParticipantsData.zip’\n",
            "\n",
            "\r          PlayStore   0%[                    ]       0  --.-KB/s               \r         PlayStoreA   2%[                    ]  24.64K   101KB/s               \r        PlayStoreAp   6%[>                   ]  58.64K   120KB/s               \r       PlayStoreApp  12%[=>                  ] 109.64K   150KB/s               \r      PlayStoreApps  27%[====>               ] 245.64K   252KB/s               \r     PlayStoreApps-  51%[=========>          ] 466.64K   383KB/s               \rPlayStoreApps-Parti 100%[===================>] 909.45K   743KB/s    in 1.2s    \n",
            "\n",
            "2020-08-16 20:54:16 (743 KB/s) - ‘PlayStoreApps-ParticipantsData.zip’ saved [931277/931277]\n",
            "\n"
          ],
          "name": "stdout"
        }
      ]
    },
    {
      "cell_type": "code",
      "metadata": {
        "id": "dFY8wQOqS0-n",
        "colab_type": "code",
        "colab": {
          "base_uri": "https://localhost:8080/",
          "height": 84
        },
        "outputId": "b8dad794-912a-4014-ef64-807216662105"
      },
      "source": [
        "!unzip PlayStoreApps-ParticipantsData.zip"
      ],
      "execution_count": null,
      "outputs": [
        {
          "output_type": "stream",
          "text": [
            "Archive:  PlayStoreApps-ParticipantsData.zip\n",
            "  inflating: PlayStoreApps-ParticipantsData/Train.csv  \n",
            "  inflating: PlayStoreApps-ParticipantsData/Test.csv  \n",
            "  inflating: PlayStoreApps-ParticipantsData/Sample_Submission.csv  \n"
          ],
          "name": "stdout"
        }
      ]
    },
    {
      "cell_type": "code",
      "metadata": {
        "id": "WzO-COMrN0Lg",
        "colab_type": "code",
        "colab": {}
      },
      "source": [
        "import pandas as pd\n",
        "import numpy as np\n",
        "import matplotlib.pyplot as plt\n",
        "%matplotlib inline"
      ],
      "execution_count": null,
      "outputs": []
    },
    {
      "cell_type": "code",
      "metadata": {
        "id": "KDc0XWvgN-Wz",
        "colab_type": "code",
        "colab": {}
      },
      "source": [
        "train = pd.read_csv('PlayStoreApps-ParticipantsData/Train.csv')\n",
        "test = pd.read_csv('PlayStoreApps-ParticipantsData/Test.csv')\n",
        "sub = pd.read_csv('PlayStoreApps-ParticipantsData/Sample_Submission.csv')"
      ],
      "execution_count": null,
      "outputs": []
    },
    {
      "cell_type": "code",
      "metadata": {
        "id": "-XzdyhBt19DN",
        "colab_type": "code",
        "colab": {
          "base_uri": "https://localhost:8080/",
          "height": 190
        },
        "outputId": "3e72d755-58da-4bc4-ef5c-47e5fc460628"
      },
      "source": [
        "train.head(5)"
      ],
      "execution_count": null,
      "outputs": [
        {
          "output_type": "execute_result",
          "data": {
            "text/html": [
              "<div>\n",
              "<style scoped>\n",
              "    .dataframe tbody tr th:only-of-type {\n",
              "        vertical-align: middle;\n",
              "    }\n",
              "\n",
              "    .dataframe tbody tr th {\n",
              "        vertical-align: top;\n",
              "    }\n",
              "\n",
              "    .dataframe thead th {\n",
              "        text-align: right;\n",
              "    }\n",
              "</style>\n",
              "<table border=\"1\" class=\"dataframe\">\n",
              "  <thead>\n",
              "    <tr style=\"text-align: right;\">\n",
              "      <th></th>\n",
              "      <th>Offered_By</th>\n",
              "      <th>Category</th>\n",
              "      <th>Rating</th>\n",
              "      <th>Reviews</th>\n",
              "      <th>Size</th>\n",
              "      <th>Price</th>\n",
              "      <th>Content_Rating</th>\n",
              "      <th>Last_Updated_On</th>\n",
              "      <th>Release_Version</th>\n",
              "      <th>OS_Version_Required</th>\n",
              "      <th>Downloads</th>\n",
              "    </tr>\n",
              "  </thead>\n",
              "  <tbody>\n",
              "    <tr>\n",
              "      <th>0</th>\n",
              "      <td>ps_id-24654</td>\n",
              "      <td>Finance</td>\n",
              "      <td>4.18</td>\n",
              "      <td>1481</td>\n",
              "      <td>Varies with device</td>\n",
              "      <td>Free</td>\n",
              "      <td>Everyone</td>\n",
              "      <td>May 05 2020</td>\n",
              "      <td>Varies with device</td>\n",
              "      <td>Varies with device</td>\n",
              "      <td>100,000+</td>\n",
              "    </tr>\n",
              "    <tr>\n",
              "      <th>1</th>\n",
              "      <td>ps_id-35329</td>\n",
              "      <td>Music And Audio</td>\n",
              "      <td>4.81</td>\n",
              "      <td>302</td>\n",
              "      <td>10M</td>\n",
              "      <td>Free</td>\n",
              "      <td>Everyone</td>\n",
              "      <td>Mar 26 2020</td>\n",
              "      <td>3.9.18</td>\n",
              "      <td>4.1 and up</td>\n",
              "      <td>5,000+</td>\n",
              "    </tr>\n",
              "    <tr>\n",
              "      <th>2</th>\n",
              "      <td>ps_id-11044</td>\n",
              "      <td>Game Casual</td>\n",
              "      <td>4.27</td>\n",
              "      <td>374</td>\n",
              "      <td>27M</td>\n",
              "      <td>Free</td>\n",
              "      <td>Everyone</td>\n",
              "      <td>May 01 2020</td>\n",
              "      <td>1.10.1</td>\n",
              "      <td>4.1 and up</td>\n",
              "      <td>10,000+</td>\n",
              "    </tr>\n",
              "    <tr>\n",
              "      <th>3</th>\n",
              "      <td>ps_id-36068</td>\n",
              "      <td>Business</td>\n",
              "      <td>4.03</td>\n",
              "      <td>122058</td>\n",
              "      <td>Varies with device</td>\n",
              "      <td>Free</td>\n",
              "      <td>Teen</td>\n",
              "      <td>May 02 2020</td>\n",
              "      <td>Varies with device</td>\n",
              "      <td>Varies with device</td>\n",
              "      <td>10,000,000+</td>\n",
              "    </tr>\n",
              "    <tr>\n",
              "      <th>4</th>\n",
              "      <td>ps_id-35831</td>\n",
              "      <td>Medical</td>\n",
              "      <td>4.60</td>\n",
              "      <td>358</td>\n",
              "      <td>Varies with device</td>\n",
              "      <td>297.5742</td>\n",
              "      <td>Everyone</td>\n",
              "      <td>Nov 29 2018</td>\n",
              "      <td>Varies with device</td>\n",
              "      <td>Varies with device</td>\n",
              "      <td>5,000+</td>\n",
              "    </tr>\n",
              "  </tbody>\n",
              "</table>\n",
              "</div>"
            ],
            "text/plain": [
              "    Offered_By         Category  ...  OS_Version_Required    Downloads\n",
              "0  ps_id-24654          Finance  ...   Varies with device     100,000+\n",
              "1  ps_id-35329  Music And Audio  ...           4.1 and up       5,000+\n",
              "2  ps_id-11044      Game Casual  ...           4.1 and up      10,000+\n",
              "3  ps_id-36068         Business  ...   Varies with device  10,000,000+\n",
              "4  ps_id-35831          Medical  ...   Varies with device       5,000+\n",
              "\n",
              "[5 rows x 11 columns]"
            ]
          },
          "metadata": {
            "tags": []
          },
          "execution_count": 5
        }
      ]
    },
    {
      "cell_type": "code",
      "metadata": {
        "id": "ISMwqie81_dQ",
        "colab_type": "code",
        "colab": {
          "base_uri": "https://localhost:8080/",
          "height": 190
        },
        "outputId": "ac04cb10-ce4c-41f4-8fd3-c08bd395c55f"
      },
      "source": [
        "test.tail(5)"
      ],
      "execution_count": null,
      "outputs": [
        {
          "output_type": "execute_result",
          "data": {
            "text/html": [
              "<div>\n",
              "<style scoped>\n",
              "    .dataframe tbody tr th:only-of-type {\n",
              "        vertical-align: middle;\n",
              "    }\n",
              "\n",
              "    .dataframe tbody tr th {\n",
              "        vertical-align: top;\n",
              "    }\n",
              "\n",
              "    .dataframe thead th {\n",
              "        text-align: right;\n",
              "    }\n",
              "</style>\n",
              "<table border=\"1\" class=\"dataframe\">\n",
              "  <thead>\n",
              "    <tr style=\"text-align: right;\">\n",
              "      <th></th>\n",
              "      <th>Offered_By</th>\n",
              "      <th>Category</th>\n",
              "      <th>Rating</th>\n",
              "      <th>Reviews</th>\n",
              "      <th>Size</th>\n",
              "      <th>Price</th>\n",
              "      <th>Content_Rating</th>\n",
              "      <th>Last_Updated_On</th>\n",
              "      <th>Release_Version</th>\n",
              "      <th>OS_Version_Required</th>\n",
              "    </tr>\n",
              "  </thead>\n",
              "  <tbody>\n",
              "    <tr>\n",
              "      <th>24771</th>\n",
              "      <td>ps_id-30176</td>\n",
              "      <td>Shopping</td>\n",
              "      <td>3.74</td>\n",
              "      <td>38</td>\n",
              "      <td>21M</td>\n",
              "      <td>Free</td>\n",
              "      <td>Everyone</td>\n",
              "      <td>Feb 16 2020</td>\n",
              "      <td>2.4.20</td>\n",
              "      <td>4.1 and up</td>\n",
              "    </tr>\n",
              "    <tr>\n",
              "      <th>24772</th>\n",
              "      <td>ps_id-5357</td>\n",
              "      <td>Auto And Vehicles</td>\n",
              "      <td>4.80</td>\n",
              "      <td>4</td>\n",
              "      <td>4.5M</td>\n",
              "      <td>Free</td>\n",
              "      <td>Everyone</td>\n",
              "      <td>Jan 02 2019</td>\n",
              "      <td>1.3</td>\n",
              "      <td>5.0 and up</td>\n",
              "    </tr>\n",
              "    <tr>\n",
              "      <th>24773</th>\n",
              "      <td>ps_id-1920</td>\n",
              "      <td>Education</td>\n",
              "      <td>4.78</td>\n",
              "      <td>499</td>\n",
              "      <td>1.1M</td>\n",
              "      <td>Free</td>\n",
              "      <td>Everyone</td>\n",
              "      <td>Feb 16 2018</td>\n",
              "      <td>1.1</td>\n",
              "      <td>4.0.3 and up</td>\n",
              "    </tr>\n",
              "    <tr>\n",
              "      <th>24774</th>\n",
              "      <td>ps_id-6655</td>\n",
              "      <td>Game Puzzle</td>\n",
              "      <td>4.61</td>\n",
              "      <td>328050</td>\n",
              "      <td>72M</td>\n",
              "      <td>Free</td>\n",
              "      <td>Everyone</td>\n",
              "      <td>May 02 2020</td>\n",
              "      <td>2.5.3</td>\n",
              "      <td>4.1 and up</td>\n",
              "    </tr>\n",
              "    <tr>\n",
              "      <th>24775</th>\n",
              "      <td>ps_id-3916</td>\n",
              "      <td>Finance</td>\n",
              "      <td>3.98</td>\n",
              "      <td>1467</td>\n",
              "      <td>18M</td>\n",
              "      <td>Free</td>\n",
              "      <td>Everyone</td>\n",
              "      <td>Apr 30 2020</td>\n",
              "      <td>2.25.2</td>\n",
              "      <td>4.4 and up</td>\n",
              "    </tr>\n",
              "  </tbody>\n",
              "</table>\n",
              "</div>"
            ],
            "text/plain": [
              "        Offered_By           Category  ...  Release_Version  OS_Version_Required\n",
              "24771  ps_id-30176           Shopping  ...           2.4.20           4.1 and up\n",
              "24772   ps_id-5357  Auto And Vehicles  ...              1.3           5.0 and up\n",
              "24773   ps_id-1920          Education  ...              1.1         4.0.3 and up\n",
              "24774   ps_id-6655        Game Puzzle  ...            2.5.3           4.1 and up\n",
              "24775   ps_id-3916            Finance  ...           2.25.2           4.4 and up\n",
              "\n",
              "[5 rows x 10 columns]"
            ]
          },
          "metadata": {
            "tags": []
          },
          "execution_count": 6
        }
      ]
    },
    {
      "cell_type": "code",
      "metadata": {
        "id": "_tTfrgciJMJn",
        "colab_type": "code",
        "colab": {
          "base_uri": "https://localhost:8080/",
          "height": 104
        },
        "outputId": "eec93f56-a040-4930-d969-a984f3dbf8c4"
      },
      "source": [
        "sub.head(2)"
      ],
      "execution_count": null,
      "outputs": [
        {
          "output_type": "execute_result",
          "data": {
            "text/html": [
              "<div>\n",
              "<style scoped>\n",
              "    .dataframe tbody tr th:only-of-type {\n",
              "        vertical-align: middle;\n",
              "    }\n",
              "\n",
              "    .dataframe tbody tr th {\n",
              "        vertical-align: top;\n",
              "    }\n",
              "\n",
              "    .dataframe thead th {\n",
              "        text-align: right;\n",
              "    }\n",
              "</style>\n",
              "<table border=\"1\" class=\"dataframe\">\n",
              "  <thead>\n",
              "    <tr style=\"text-align: right;\">\n",
              "      <th></th>\n",
              "      <th>0</th>\n",
              "      <th>1</th>\n",
              "      <th>2</th>\n",
              "      <th>3</th>\n",
              "      <th>4</th>\n",
              "      <th>5</th>\n",
              "      <th>6</th>\n",
              "      <th>7</th>\n",
              "      <th>8</th>\n",
              "      <th>9</th>\n",
              "      <th>10</th>\n",
              "      <th>11</th>\n",
              "      <th>12</th>\n",
              "      <th>13</th>\n",
              "      <th>14</th>\n",
              "      <th>15</th>\n",
              "      <th>16</th>\n",
              "      <th>17</th>\n",
              "    </tr>\n",
              "  </thead>\n",
              "  <tbody>\n",
              "    <tr>\n",
              "      <th>0</th>\n",
              "      <td>0.0</td>\n",
              "      <td>0.0</td>\n",
              "      <td>0.0</td>\n",
              "      <td>0.0</td>\n",
              "      <td>0.1</td>\n",
              "      <td>0.0</td>\n",
              "      <td>0.0</td>\n",
              "      <td>0.7</td>\n",
              "      <td>0.0</td>\n",
              "      <td>0.0</td>\n",
              "      <td>0.0</td>\n",
              "      <td>0.0</td>\n",
              "      <td>0.0</td>\n",
              "      <td>0.2</td>\n",
              "      <td>0.0</td>\n",
              "      <td>0.0</td>\n",
              "      <td>0.0</td>\n",
              "      <td>0.0</td>\n",
              "    </tr>\n",
              "    <tr>\n",
              "      <th>1</th>\n",
              "      <td>0.0</td>\n",
              "      <td>0.0</td>\n",
              "      <td>0.0</td>\n",
              "      <td>0.0</td>\n",
              "      <td>0.1</td>\n",
              "      <td>0.0</td>\n",
              "      <td>0.0</td>\n",
              "      <td>0.8</td>\n",
              "      <td>0.0</td>\n",
              "      <td>0.0</td>\n",
              "      <td>0.0</td>\n",
              "      <td>0.0</td>\n",
              "      <td>0.0</td>\n",
              "      <td>0.0</td>\n",
              "      <td>0.0</td>\n",
              "      <td>0.0</td>\n",
              "      <td>0.1</td>\n",
              "      <td>0.0</td>\n",
              "    </tr>\n",
              "  </tbody>\n",
              "</table>\n",
              "</div>"
            ],
            "text/plain": [
              "     0    1    2    3    4    5    6  ...   11   12   13   14   15   16   17\n",
              "0  0.0  0.0  0.0  0.0  0.1  0.0  0.0  ...  0.0  0.0  0.2  0.0  0.0  0.0  0.0\n",
              "1  0.0  0.0  0.0  0.0  0.1  0.0  0.0  ...  0.0  0.0  0.0  0.0  0.0  0.1  0.0\n",
              "\n",
              "[2 rows x 18 columns]"
            ]
          },
          "metadata": {
            "tags": []
          },
          "execution_count": 7
        }
      ]
    },
    {
      "cell_type": "code",
      "metadata": {
        "id": "Kzkv-sDzTMw-",
        "colab_type": "code",
        "colab": {
          "base_uri": "https://localhost:8080/",
          "height": 571
        },
        "outputId": "c9ac2419-a37c-4541-d562-edfdce3b7751"
      },
      "source": [
        "train.isnull().sum(),test.isnull().sum(),train.shape,test.shape,train.dtypes"
      ],
      "execution_count": null,
      "outputs": [
        {
          "output_type": "execute_result",
          "data": {
            "text/plain": [
              "(Offered_By             0\n",
              " Category               0\n",
              " Rating                 0\n",
              " Reviews                0\n",
              " Size                   0\n",
              " Price                  0\n",
              " Content_Rating         0\n",
              " Last_Updated_On        0\n",
              " Release_Version        0\n",
              " OS_Version_Required    0\n",
              " Downloads              0\n",
              " dtype: int64, Offered_By             0\n",
              " Category               0\n",
              " Rating                 0\n",
              " Reviews                0\n",
              " Size                   0\n",
              " Price                  0\n",
              " Content_Rating         0\n",
              " Last_Updated_On        0\n",
              " Release_Version        0\n",
              " OS_Version_Required    0\n",
              " dtype: int64, (16516, 11), (24776, 10), Offered_By              object\n",
              " Category                object\n",
              " Rating                 float64\n",
              " Reviews                  int64\n",
              " Size                    object\n",
              " Price                   object\n",
              " Content_Rating          object\n",
              " Last_Updated_On         object\n",
              " Release_Version         object\n",
              " OS_Version_Required     object\n",
              " Downloads               object\n",
              " dtype: object)"
            ]
          },
          "metadata": {
            "tags": []
          },
          "execution_count": 8
        }
      ]
    },
    {
      "cell_type": "code",
      "metadata": {
        "id": "yV1Gsy7ITib2",
        "colab_type": "code",
        "colab": {}
      },
      "source": [
        "df=train.append(test,ignore_index=True)"
      ],
      "execution_count": null,
      "outputs": []
    },
    {
      "cell_type": "code",
      "metadata": {
        "id": "qouqC1yx52wV",
        "colab_type": "code",
        "colab": {}
      },
      "source": [
        "df['Size_type'] = df['Size'].str.strip().str[-1]\n",
        "x=[]\n",
        "for i in df['Size_type']:\n",
        "  if i=='e':\n",
        "    x.append(0)\n",
        "  elif i=='M':\n",
        "    x.append(1024)\n",
        "  elif i=='k':\n",
        "    x.append(1)\n",
        "df['Size_type']=x\n",
        "df['size_t']=df.Size.str.extract('(\\d+)')\n",
        "df['size_t']=df['size_t'].fillna(0)\n",
        "df['Size']=df['Size_type'].astype(int)*df['size_t'].astype(int)\n",
        "del df['Size_type']\n",
        "del df['size_t']\n",
        "df['Size']=df['Size'].replace(0,df['Size'].mean())"
      ],
      "execution_count": null,
      "outputs": []
    },
    {
      "cell_type": "code",
      "metadata": {
        "id": "nEbQiica7dCX",
        "colab_type": "code",
        "colab": {}
      },
      "source": [
        "df['Price']=df['Price'].replace('Free',0).astype(float)"
      ],
      "execution_count": null,
      "outputs": []
    },
    {
      "cell_type": "code",
      "metadata": {
        "id": "kDtUjqNa7dBi",
        "colab_type": "code",
        "colab": {}
      },
      "source": [
        "df['Last_Updated_On'] = pd.to_datetime(df['Last_Updated_On'])"
      ],
      "execution_count": null,
      "outputs": []
    },
    {
      "cell_type": "code",
      "metadata": {
        "id": "SPZHjjmg-R1H",
        "colab_type": "code",
        "colab": {}
      },
      "source": [
        "k=['Last_Updated_On']\n",
        "for i in k:\n",
        "  df[i+'_'+'year'] = df[i].dt.year\n",
        "  df[i+'_'+'day'] = df[i].dt.day\n",
        "  df[i+'_'+'weekofyear'] = df[i].dt.weekofyear\n",
        "  df[i+'_'+'month'] = df[i].dt.month\n",
        "  df[i+'_'+'dayofweek'] =df[i].dt.dayofweek\n",
        "  df[i+'_'+'weekend'] = (df[i].dt.weekday >=5).astype(int)\n",
        "del df['Last_Updated_On']"
      ],
      "execution_count": null,
      "outputs": []
    },
    {
      "cell_type": "code",
      "metadata": {
        "id": "ndX7CSeCGRh0",
        "colab_type": "code",
        "colab": {}
      },
      "source": [
        "df['Release_Version']=df['Release_Version'].replace('Varies with device','0')"
      ],
      "execution_count": null,
      "outputs": []
    },
    {
      "cell_type": "code",
      "metadata": {
        "id": "eTr7yLSwGRgM",
        "colab_type": "code",
        "colab": {
          "base_uri": "https://localhost:8080/",
          "height": 50
        },
        "outputId": "b955b270-88e6-43cf-e637-888355018c30"
      },
      "source": [
        "from sklearn.preprocessing import LabelEncoder\n",
        "le = LabelEncoder()\n",
        "df['Release_Version'] = le.fit_transform(df['Release_Version'])\n",
        "le.classes_"
      ],
      "execution_count": null,
      "outputs": [
        {
          "output_type": "execute_result",
          "data": {
            "text/plain": [
              "array(['0', '0.0.0-34-animals', '0.0.0-34-leaders', ..., 'Zs 5.2',\n",
              "       '_18.08.01_ps', '_19.02.01-us_sy_ps'], dtype=object)"
            ]
          },
          "metadata": {
            "tags": []
          },
          "execution_count": 15
        }
      ]
    },
    {
      "cell_type": "code",
      "metadata": {
        "id": "msNGLTMy_m24",
        "colab_type": "code",
        "colab": {
          "base_uri": "https://localhost:8080/",
          "height": 184
        },
        "outputId": "60c562e6-b701-43b5-c3ee-0f50bf54fd72"
      },
      "source": [
        "#df = pd.get_dummies(df, columns=['Category','Content_Rating','OS_Version_Required'])\n",
        "from sklearn.preprocessing import LabelEncoder\n",
        "le = LabelEncoder()\n",
        "df['Category'] = le.fit_transform(df['Category'])\n",
        "le.classes_\n",
        "from sklearn.preprocessing import LabelEncoder\n",
        "le = LabelEncoder()\n",
        "df['Content_Rating'] = le.fit_transform(df['Content_Rating'])\n",
        "le.classes_\n",
        "from sklearn.preprocessing import LabelEncoder\n",
        "le = LabelEncoder()\n",
        "df['OS_Version_Required'] = le.fit_transform(df['OS_Version_Required'])\n",
        "le.classes_"
      ],
      "execution_count": null,
      "outputs": [
        {
          "output_type": "execute_result",
          "data": {
            "text/plain": [
              "array(['1.0 and up', '1.1 and up', '1.5 and up', '1.6 and up',\n",
              "       '2.0 and up', '2.0.1 and up', '2.1 and up', '2.2 - 6.0',\n",
              "       '2.2 and up', '2.3 - 3.2', '2.3 and up', '2.3.3 and up',\n",
              "       '3.0 and up', '3.1 and up', '3.2 and up', '4.0 - 5.1',\n",
              "       '4.0 and up', '4.0.3 - 7.1.1', '4.0.3 and up', '4.1 - 7.1.1',\n",
              "       '4.1 - 8.0', '4.1 and up', '4.2 - 8.0', '4.2 and up', '4.3 and up',\n",
              "       '4.4 and up', '4.4w and up', '5.0 - 6.0', '5.0 - 8.0',\n",
              "       '5.0 and up', '5.1 and up', '6.0 and up', '7.0 - 7.1.1',\n",
              "       '7.0 and up', '7.1 and up', '8.0 and up', 'Varies with device'],\n",
              "      dtype=object)"
            ]
          },
          "metadata": {
            "tags": []
          },
          "execution_count": 16
        }
      ]
    },
    {
      "cell_type": "code",
      "metadata": {
        "id": "9jx5qYpDH0k6",
        "colab_type": "code",
        "colab": {}
      },
      "source": [
        "df['Offered_By']=df.Offered_By.str.extract('(\\d+)').astype(int)"
      ],
      "execution_count": null,
      "outputs": []
    },
    {
      "cell_type": "code",
      "metadata": {
        "id": "_15uizmy7CwX",
        "colab_type": "code",
        "colab": {}
      },
      "source": [
        "train = df[df['Downloads'].isnull()==False]\n",
        "test = df[df['Downloads'].isnull()==True]\n",
        "del test['Downloads']"
      ],
      "execution_count": null,
      "outputs": []
    },
    {
      "cell_type": "code",
      "metadata": {
        "id": "lkhooiJpWkBx",
        "colab_type": "code",
        "colab": {
          "base_uri": "https://localhost:8080/",
          "height": 184
        },
        "outputId": "a409b251-4d0a-4238-e7e9-e512e10c6159"
      },
      "source": [
        "from sklearn.preprocessing import LabelEncoder\n",
        "le = LabelEncoder()\n",
        "train['Downloads'] = le.fit_transform(train['Downloads'])\n",
        "le.classes_"
      ],
      "execution_count": null,
      "outputs": [
        {
          "output_type": "stream",
          "text": [
            "/usr/local/lib/python3.6/dist-packages/ipykernel_launcher.py:3: SettingWithCopyWarning: \n",
            "A value is trying to be set on a copy of a slice from a DataFrame.\n",
            "Try using .loc[row_indexer,col_indexer] = value instead\n",
            "\n",
            "See the caveats in the documentation: https://pandas.pydata.org/pandas-docs/stable/user_guide/indexing.html#returning-a-view-versus-a-copy\n",
            "  This is separate from the ipykernel package so we can avoid doing imports until\n"
          ],
          "name": "stderr"
        },
        {
          "output_type": "execute_result",
          "data": {
            "text/plain": [
              "array(['1,000+', '1,000,000+', '1,000,000,000+', '10+', '10,000+',\n",
              "       '10,000,000+', '100+', '100,000+', '100,000,000+', '5,000+',\n",
              "       '5,000,000+', '5,000,000,000+', '50+', '50,000+', '50,000,000+',\n",
              "       '500+', '500,000+', '500,000,000+'], dtype=object)"
            ]
          },
          "metadata": {
            "tags": []
          },
          "execution_count": 19
        }
      ]
    },
    {
      "cell_type": "code",
      "metadata": {
        "id": "Oyl__S9H7FFI",
        "colab_type": "code",
        "colab": {}
      },
      "source": [
        "is_hol = train['Downloads'] == 11\n",
        "df_try = train[is_hol]\n",
        "train=train.append([df_try],ignore_index=True)"
      ],
      "execution_count": null,
      "outputs": []
    },
    {
      "cell_type": "code",
      "metadata": {
        "id": "jw23O6u1YKIv",
        "colab_type": "code",
        "colab": {}
      },
      "source": [
        "train_df=train\n",
        "test_df=test"
      ],
      "execution_count": null,
      "outputs": []
    },
    {
      "cell_type": "code",
      "metadata": {
        "id": "tEBtdP68YNzr",
        "colab_type": "code",
        "colab": {}
      },
      "source": [
        "X = train_df.drop(labels=['Downloads'], axis=1)\n",
        "y = train_df['Downloads'].values"
      ],
      "execution_count": null,
      "outputs": []
    },
    {
      "cell_type": "code",
      "metadata": {
        "id": "6v1MB11yZPel",
        "colab_type": "code",
        "colab": {}
      },
      "source": [
        "from sklearn.model_selection import train_test_split\n",
        "X_train, X_cv, y_train, y_cv = train_test_split(X, y, test_size=0.10, random_state=101, stratify=y)"
      ],
      "execution_count": null,
      "outputs": []
    },
    {
      "cell_type": "code",
      "metadata": {
        "id": "rzaKa3bnZSmm",
        "colab_type": "code",
        "colab": {
          "base_uri": "https://localhost:8080/",
          "height": 33
        },
        "outputId": "0b11fba9-e724-4649-f51d-a83bd17db77c"
      },
      "source": [
        "X_train.shape, y_train.shape, X_cv.shape, y_cv.shape"
      ],
      "execution_count": null,
      "outputs": [
        {
          "output_type": "execute_result",
          "data": {
            "text/plain": [
              "((14865, 15), (14865,), (1652, 15), (1652,))"
            ]
          },
          "metadata": {
            "tags": []
          },
          "execution_count": 24
        }
      ]
    },
    {
      "cell_type": "code",
      "metadata": {
        "id": "KWM1s5V2ZWQJ",
        "colab_type": "code",
        "colab": {}
      },
      "source": [
        "from sklearn.metrics import log_loss"
      ],
      "execution_count": null,
      "outputs": []
    },
    {
      "cell_type": "code",
      "metadata": {
        "id": "crMDQv3UZfin",
        "colab_type": "code",
        "colab": {
          "base_uri": "https://localhost:8080/",
          "height": 151
        },
        "outputId": "ad207d29-ffe7-482a-8a3b-e3341bcf049a"
      },
      "source": [
        "import lightgbm as lgb\n",
        "train_data = lgb.Dataset(X_train, label=y_train)\n",
        "test_data = lgb.Dataset(X_cv, label=y_cv)\n",
        "\n",
        "param = {'objective': 'multiclass',\n",
        "         'num_class': 18,\n",
        "         'boosting': 'dart',  \n",
        "         'metric': 'multi_logloss',\n",
        "         'learning_rate': 0.09, \n",
        "         'num_iterations': 400,\n",
        "         'num_leaves': 31,\n",
        "         'max_depth': -1,\n",
        "         'min_data_in_leaf': 30,\n",
        "         'bagging_fraction':0.9,\n",
        "         'bagging_freq': 2,\n",
        "         'feature_fraction': 0.9,\n",
        "         'lambda_l2': 0.9,\n",
        "         'min_data_per_group': 500,\n",
        "         'max_bin': 255,\n",
        "         'is_unbalance':True\n",
        "         }\n",
        "\n",
        "clf = lgb.train(params=param, \n",
        "                early_stopping_rounds=200,\n",
        "                verbose_eval=100,\n",
        "                train_set=train_data,\n",
        "                valid_sets=[test_data])\n",
        "\n",
        "y_pred = clf.predict(X_cv)"
      ],
      "execution_count": null,
      "outputs": [
        {
          "output_type": "stream",
          "text": [
            "/usr/local/lib/python3.6/dist-packages/lightgbm/engine.py:118: UserWarning: Found `num_iterations` in params. Will use it instead of argument\n",
            "  warnings.warn(\"Found `{}` in params. Will use it instead of argument\".format(alias))\n",
            "/usr/local/lib/python3.6/dist-packages/lightgbm/callback.py:189: UserWarning: Early stopping is not available in dart mode\n",
            "  warnings.warn('Early stopping is not available in dart mode')\n"
          ],
          "name": "stderr"
        },
        {
          "output_type": "stream",
          "text": [
            "[100]\tvalid_0's multi_logloss: 1.20627\n",
            "[200]\tvalid_0's multi_logloss: 1.12776\n",
            "[300]\tvalid_0's multi_logloss: 1.08776\n",
            "[400]\tvalid_0's multi_logloss: 1.08023\n"
          ],
          "name": "stdout"
        }
      ]
    },
    {
      "cell_type": "code",
      "metadata": {
        "id": "iO6wKVwDJqjq",
        "colab_type": "code",
        "colab": {}
      },
      "source": [
        "Xtest = test_df"
      ],
      "execution_count": null,
      "outputs": []
    },
    {
      "cell_type": "code",
      "metadata": {
        "id": "S_IMTcmVgJ04",
        "colab_type": "code",
        "colab": {}
      },
      "source": [
        "y_pred = clf.predict(Xtest)"
      ],
      "execution_count": null,
      "outputs": []
    },
    {
      "cell_type": "code",
      "metadata": {
        "id": "LWFDdtpybUqj",
        "colab_type": "code",
        "colab": {
          "base_uri": "https://localhost:8080/",
          "height": 190
        },
        "outputId": "dcbc82ae-012a-488b-c2a3-667724678932"
      },
      "source": [
        "submission = pd.DataFrame(data=y_pred, columns=sub.columns)\n",
        "submission=submission*1.05\n",
        "submission.tail()"
      ],
      "execution_count": null,
      "outputs": [
        {
          "output_type": "execute_result",
          "data": {
            "text/html": [
              "<div>\n",
              "<style scoped>\n",
              "    .dataframe tbody tr th:only-of-type {\n",
              "        vertical-align: middle;\n",
              "    }\n",
              "\n",
              "    .dataframe tbody tr th {\n",
              "        vertical-align: top;\n",
              "    }\n",
              "\n",
              "    .dataframe thead th {\n",
              "        text-align: right;\n",
              "    }\n",
              "</style>\n",
              "<table border=\"1\" class=\"dataframe\">\n",
              "  <thead>\n",
              "    <tr style=\"text-align: right;\">\n",
              "      <th></th>\n",
              "      <th>0</th>\n",
              "      <th>1</th>\n",
              "      <th>2</th>\n",
              "      <th>3</th>\n",
              "      <th>4</th>\n",
              "      <th>5</th>\n",
              "      <th>6</th>\n",
              "      <th>7</th>\n",
              "      <th>8</th>\n",
              "      <th>9</th>\n",
              "      <th>10</th>\n",
              "      <th>11</th>\n",
              "      <th>12</th>\n",
              "      <th>13</th>\n",
              "      <th>14</th>\n",
              "      <th>15</th>\n",
              "      <th>16</th>\n",
              "      <th>17</th>\n",
              "    </tr>\n",
              "  </thead>\n",
              "  <tbody>\n",
              "    <tr>\n",
              "      <th>24771</th>\n",
              "      <td>0.362716</td>\n",
              "      <td>0.002456</td>\n",
              "      <td>0.000183</td>\n",
              "      <td>0.000270</td>\n",
              "      <td>0.393142</td>\n",
              "      <td>0.000764</td>\n",
              "      <td>0.005043</td>\n",
              "      <td>0.006406</td>\n",
              "      <td>0.000342</td>\n",
              "      <td>0.252612</td>\n",
              "      <td>0.000930</td>\n",
              "      <td>0.000131</td>\n",
              "      <td>0.000225</td>\n",
              "      <td>0.018401</td>\n",
              "      <td>0.000490</td>\n",
              "      <td>0.002354</td>\n",
              "      <td>0.003291</td>\n",
              "      <td>0.000244</td>\n",
              "    </tr>\n",
              "    <tr>\n",
              "      <th>24772</th>\n",
              "      <td>0.477994</td>\n",
              "      <td>0.004988</td>\n",
              "      <td>0.000197</td>\n",
              "      <td>0.037949</td>\n",
              "      <td>0.015959</td>\n",
              "      <td>0.000947</td>\n",
              "      <td>0.227065</td>\n",
              "      <td>0.003875</td>\n",
              "      <td>0.000438</td>\n",
              "      <td>0.135317</td>\n",
              "      <td>0.001073</td>\n",
              "      <td>0.000143</td>\n",
              "      <td>0.018934</td>\n",
              "      <td>0.003894</td>\n",
              "      <td>0.000335</td>\n",
              "      <td>0.118766</td>\n",
              "      <td>0.001909</td>\n",
              "      <td>0.000218</td>\n",
              "    </tr>\n",
              "    <tr>\n",
              "      <th>24773</th>\n",
              "      <td>0.004527</td>\n",
              "      <td>0.003906</td>\n",
              "      <td>0.000194</td>\n",
              "      <td>0.000264</td>\n",
              "      <td>0.425327</td>\n",
              "      <td>0.000575</td>\n",
              "      <td>0.000601</td>\n",
              "      <td>0.346631</td>\n",
              "      <td>0.000343</td>\n",
              "      <td>0.023997</td>\n",
              "      <td>0.000789</td>\n",
              "      <td>0.000141</td>\n",
              "      <td>0.000362</td>\n",
              "      <td>0.233470</td>\n",
              "      <td>0.000330</td>\n",
              "      <td>0.000820</td>\n",
              "      <td>0.007517</td>\n",
              "      <td>0.000207</td>\n",
              "    </tr>\n",
              "    <tr>\n",
              "      <th>24774</th>\n",
              "      <td>0.000338</td>\n",
              "      <td>0.010160</td>\n",
              "      <td>0.000590</td>\n",
              "      <td>0.000136</td>\n",
              "      <td>0.000493</td>\n",
              "      <td>0.917055</td>\n",
              "      <td>0.000273</td>\n",
              "      <td>0.000826</td>\n",
              "      <td>0.001141</td>\n",
              "      <td>0.000331</td>\n",
              "      <td>0.114237</td>\n",
              "      <td>0.000074</td>\n",
              "      <td>0.000129</td>\n",
              "      <td>0.000737</td>\n",
              "      <td>0.001030</td>\n",
              "      <td>0.000251</td>\n",
              "      <td>0.001733</td>\n",
              "      <td>0.000466</td>\n",
              "    </tr>\n",
              "    <tr>\n",
              "      <th>24775</th>\n",
              "      <td>0.000520</td>\n",
              "      <td>0.015244</td>\n",
              "      <td>0.000168</td>\n",
              "      <td>0.000320</td>\n",
              "      <td>0.023737</td>\n",
              "      <td>0.000657</td>\n",
              "      <td>0.000545</td>\n",
              "      <td>0.725340</td>\n",
              "      <td>0.000334</td>\n",
              "      <td>0.001417</td>\n",
              "      <td>0.003754</td>\n",
              "      <td>0.000122</td>\n",
              "      <td>0.000204</td>\n",
              "      <td>0.118656</td>\n",
              "      <td>0.000334</td>\n",
              "      <td>0.000435</td>\n",
              "      <td>0.158021</td>\n",
              "      <td>0.000192</td>\n",
              "    </tr>\n",
              "  </tbody>\n",
              "</table>\n",
              "</div>"
            ],
            "text/plain": [
              "              0         1         2  ...        15        16        17\n",
              "24771  0.362716  0.002456  0.000183  ...  0.002354  0.003291  0.000244\n",
              "24772  0.477994  0.004988  0.000197  ...  0.118766  0.001909  0.000218\n",
              "24773  0.004527  0.003906  0.000194  ...  0.000820  0.007517  0.000207\n",
              "24774  0.000338  0.010160  0.000590  ...  0.000251  0.001733  0.000466\n",
              "24775  0.000520  0.015244  0.000168  ...  0.000435  0.158021  0.000192\n",
              "\n",
              "[5 rows x 18 columns]"
            ]
          },
          "metadata": {
            "tags": []
          },
          "execution_count": 42
        }
      ]
    },
    {
      "cell_type": "code",
      "metadata": {
        "id": "6zl4pcdRbX4J",
        "colab_type": "code",
        "colab": {}
      },
      "source": [
        "submission.to_csv('dartre.csv', index=False)"
      ],
      "execution_count": null,
      "outputs": []
    },
    {
      "cell_type": "code",
      "metadata": {
        "id": "Kem41I72bnS1",
        "colab_type": "code",
        "colab": {
          "base_uri": "https://localhost:8080/",
          "height": 16
        },
        "outputId": "dfbd917e-2b88-4db0-ced1-18f88994524c"
      },
      "source": [
        "from google.colab import files\n",
        "files.download('dartre.csv')"
      ],
      "execution_count": null,
      "outputs": [
        {
          "output_type": "display_data",
          "data": {
            "application/javascript": [
              "\n",
              "    async function download(id, filename, size) {\n",
              "      if (!google.colab.kernel.accessAllowed) {\n",
              "        return;\n",
              "      }\n",
              "      const div = document.createElement('div');\n",
              "      const label = document.createElement('label');\n",
              "      label.textContent = `Downloading \"${filename}\": `;\n",
              "      div.appendChild(label);\n",
              "      const progress = document.createElement('progress');\n",
              "      progress.max = size;\n",
              "      div.appendChild(progress);\n",
              "      document.body.appendChild(div);\n",
              "\n",
              "      const buffers = [];\n",
              "      let downloaded = 0;\n",
              "\n",
              "      const channel = await google.colab.kernel.comms.open(id);\n",
              "      // Send a message to notify the kernel that we're ready.\n",
              "      channel.send({})\n",
              "\n",
              "      for await (const message of channel.messages) {\n",
              "        // Send a message to notify the kernel that we're ready.\n",
              "        channel.send({})\n",
              "        if (message.buffers) {\n",
              "          for (const buffer of message.buffers) {\n",
              "            buffers.push(buffer);\n",
              "            downloaded += buffer.byteLength;\n",
              "            progress.value = downloaded;\n",
              "          }\n",
              "        }\n",
              "      }\n",
              "      const blob = new Blob(buffers, {type: 'application/binary'});\n",
              "      const a = document.createElement('a');\n",
              "      a.href = window.URL.createObjectURL(blob);\n",
              "      a.download = filename;\n",
              "      div.appendChild(a);\n",
              "      a.click();\n",
              "      div.remove();\n",
              "    }\n",
              "  "
            ],
            "text/plain": [
              "<IPython.core.display.Javascript object>"
            ]
          },
          "metadata": {
            "tags": []
          }
        },
        {
          "output_type": "display_data",
          "data": {
            "application/javascript": [
              "download(\"download_458d7f76-f4b6-47a8-b946-ec590bc56a99\", \"dartre.csv\", 9621895)"
            ],
            "text/plain": [
              "<IPython.core.display.Javascript object>"
            ]
          },
          "metadata": {
            "tags": []
          }
        }
      ]
    },
    {
      "cell_type": "code",
      "metadata": {
        "id": "HXyyRUHmr7oI",
        "colab_type": "code",
        "colab": {}
      },
      "source": [
        ""
      ],
      "execution_count": null,
      "outputs": []
    }
  ]
}